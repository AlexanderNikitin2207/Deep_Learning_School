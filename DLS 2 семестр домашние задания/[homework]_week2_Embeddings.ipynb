{
  "nbformat": 4,
  "nbformat_minor": 0,
  "metadata": {
    "colab": {
      "provenance": []
    },
    "kernelspec": {
      "name": "python3",
      "display_name": "Python 3"
    },
    "language_info": {
      "name": "python"
    },
    "accelerator": "GPU",
    "gpuClass": "standard",
    "widgets": {
      "application/vnd.jupyter.widget-state+json": {
        "e4226ba9c22741099605291a34ef9408": {
          "model_module": "@jupyter-widgets/controls",
          "model_name": "HBoxModel",
          "model_module_version": "1.5.0",
          "state": {
            "_dom_classes": [],
            "_model_module": "@jupyter-widgets/controls",
            "_model_module_version": "1.5.0",
            "_model_name": "HBoxModel",
            "_view_count": null,
            "_view_module": "@jupyter-widgets/controls",
            "_view_module_version": "1.5.0",
            "_view_name": "HBoxView",
            "box_style": "",
            "children": [
              "IPY_MODEL_86cf8bd320744938a28f0334e82d4b00",
              "IPY_MODEL_17b1b131b67b405b97a318d36f927709",
              "IPY_MODEL_ae2ed38a53ff4bb29795873bc468eb17"
            ],
            "layout": "IPY_MODEL_890a464c1c7b4c36aee4df1aeb07795a"
          }
        },
        "86cf8bd320744938a28f0334e82d4b00": {
          "model_module": "@jupyter-widgets/controls",
          "model_name": "HTMLModel",
          "model_module_version": "1.5.0",
          "state": {
            "_dom_classes": [],
            "_model_module": "@jupyter-widgets/controls",
            "_model_module_version": "1.5.0",
            "_model_name": "HTMLModel",
            "_view_count": null,
            "_view_module": "@jupyter-widgets/controls",
            "_view_module_version": "1.5.0",
            "_view_name": "HTMLView",
            "description": "",
            "description_tooltip": null,
            "layout": "IPY_MODEL_19d25e5af1224fcf8c974a72c8bd957c",
            "placeholder": "​",
            "style": "IPY_MODEL_08ba8db13b824f6c8a9ff981f3cbb069",
            "value": "Epoch 1. Train Loss: 0.514: 100%"
          }
        },
        "17b1b131b67b405b97a318d36f927709": {
          "model_module": "@jupyter-widgets/controls",
          "model_name": "FloatProgressModel",
          "model_module_version": "1.5.0",
          "state": {
            "_dom_classes": [],
            "_model_module": "@jupyter-widgets/controls",
            "_model_module_version": "1.5.0",
            "_model_name": "FloatProgressModel",
            "_view_count": null,
            "_view_module": "@jupyter-widgets/controls",
            "_view_module_version": "1.5.0",
            "_view_name": "ProgressView",
            "bar_style": "success",
            "description": "",
            "description_tooltip": null,
            "layout": "IPY_MODEL_23f71c807d8e4dd48b128af99bee4441",
            "max": 1000,
            "min": 0,
            "orientation": "horizontal",
            "style": "IPY_MODEL_75c20f3a3fea4e67a2748189106f7413",
            "value": 1000
          }
        },
        "ae2ed38a53ff4bb29795873bc468eb17": {
          "model_module": "@jupyter-widgets/controls",
          "model_name": "HTMLModel",
          "model_module_version": "1.5.0",
          "state": {
            "_dom_classes": [],
            "_model_module": "@jupyter-widgets/controls",
            "_model_module_version": "1.5.0",
            "_model_name": "HTMLModel",
            "_view_count": null,
            "_view_module": "@jupyter-widgets/controls",
            "_view_module_version": "1.5.0",
            "_view_name": "HTMLView",
            "description": "",
            "description_tooltip": null,
            "layout": "IPY_MODEL_f7c80e6d6c88455c88d761346f6cbc14",
            "placeholder": "​",
            "style": "IPY_MODEL_4d9cba0a32b44106b4333ecf71936b4a",
            "value": " 1000/1000 [02:16&lt;00:00, 10.74it/s]"
          }
        },
        "890a464c1c7b4c36aee4df1aeb07795a": {
          "model_module": "@jupyter-widgets/base",
          "model_name": "LayoutModel",
          "model_module_version": "1.2.0",
          "state": {
            "_model_module": "@jupyter-widgets/base",
            "_model_module_version": "1.2.0",
            "_model_name": "LayoutModel",
            "_view_count": null,
            "_view_module": "@jupyter-widgets/base",
            "_view_module_version": "1.2.0",
            "_view_name": "LayoutView",
            "align_content": null,
            "align_items": null,
            "align_self": null,
            "border": null,
            "bottom": null,
            "display": null,
            "flex": null,
            "flex_flow": null,
            "grid_area": null,
            "grid_auto_columns": null,
            "grid_auto_flow": null,
            "grid_auto_rows": null,
            "grid_column": null,
            "grid_gap": null,
            "grid_row": null,
            "grid_template_areas": null,
            "grid_template_columns": null,
            "grid_template_rows": null,
            "height": null,
            "justify_content": null,
            "justify_items": null,
            "left": null,
            "margin": null,
            "max_height": null,
            "max_width": null,
            "min_height": null,
            "min_width": null,
            "object_fit": null,
            "object_position": null,
            "order": null,
            "overflow": null,
            "overflow_x": null,
            "overflow_y": null,
            "padding": null,
            "right": null,
            "top": null,
            "visibility": null,
            "width": null
          }
        },
        "19d25e5af1224fcf8c974a72c8bd957c": {
          "model_module": "@jupyter-widgets/base",
          "model_name": "LayoutModel",
          "model_module_version": "1.2.0",
          "state": {
            "_model_module": "@jupyter-widgets/base",
            "_model_module_version": "1.2.0",
            "_model_name": "LayoutModel",
            "_view_count": null,
            "_view_module": "@jupyter-widgets/base",
            "_view_module_version": "1.2.0",
            "_view_name": "LayoutView",
            "align_content": null,
            "align_items": null,
            "align_self": null,
            "border": null,
            "bottom": null,
            "display": null,
            "flex": null,
            "flex_flow": null,
            "grid_area": null,
            "grid_auto_columns": null,
            "grid_auto_flow": null,
            "grid_auto_rows": null,
            "grid_column": null,
            "grid_gap": null,
            "grid_row": null,
            "grid_template_areas": null,
            "grid_template_columns": null,
            "grid_template_rows": null,
            "height": null,
            "justify_content": null,
            "justify_items": null,
            "left": null,
            "margin": null,
            "max_height": null,
            "max_width": null,
            "min_height": null,
            "min_width": null,
            "object_fit": null,
            "object_position": null,
            "order": null,
            "overflow": null,
            "overflow_x": null,
            "overflow_y": null,
            "padding": null,
            "right": null,
            "top": null,
            "visibility": null,
            "width": null
          }
        },
        "08ba8db13b824f6c8a9ff981f3cbb069": {
          "model_module": "@jupyter-widgets/controls",
          "model_name": "DescriptionStyleModel",
          "model_module_version": "1.5.0",
          "state": {
            "_model_module": "@jupyter-widgets/controls",
            "_model_module_version": "1.5.0",
            "_model_name": "DescriptionStyleModel",
            "_view_count": null,
            "_view_module": "@jupyter-widgets/base",
            "_view_module_version": "1.2.0",
            "_view_name": "StyleView",
            "description_width": ""
          }
        },
        "23f71c807d8e4dd48b128af99bee4441": {
          "model_module": "@jupyter-widgets/base",
          "model_name": "LayoutModel",
          "model_module_version": "1.2.0",
          "state": {
            "_model_module": "@jupyter-widgets/base",
            "_model_module_version": "1.2.0",
            "_model_name": "LayoutModel",
            "_view_count": null,
            "_view_module": "@jupyter-widgets/base",
            "_view_module_version": "1.2.0",
            "_view_name": "LayoutView",
            "align_content": null,
            "align_items": null,
            "align_self": null,
            "border": null,
            "bottom": null,
            "display": null,
            "flex": null,
            "flex_flow": null,
            "grid_area": null,
            "grid_auto_columns": null,
            "grid_auto_flow": null,
            "grid_auto_rows": null,
            "grid_column": null,
            "grid_gap": null,
            "grid_row": null,
            "grid_template_areas": null,
            "grid_template_columns": null,
            "grid_template_rows": null,
            "height": null,
            "justify_content": null,
            "justify_items": null,
            "left": null,
            "margin": null,
            "max_height": null,
            "max_width": null,
            "min_height": null,
            "min_width": null,
            "object_fit": null,
            "object_position": null,
            "order": null,
            "overflow": null,
            "overflow_x": null,
            "overflow_y": null,
            "padding": null,
            "right": null,
            "top": null,
            "visibility": null,
            "width": null
          }
        },
        "75c20f3a3fea4e67a2748189106f7413": {
          "model_module": "@jupyter-widgets/controls",
          "model_name": "ProgressStyleModel",
          "model_module_version": "1.5.0",
          "state": {
            "_model_module": "@jupyter-widgets/controls",
            "_model_module_version": "1.5.0",
            "_model_name": "ProgressStyleModel",
            "_view_count": null,
            "_view_module": "@jupyter-widgets/base",
            "_view_module_version": "1.2.0",
            "_view_name": "StyleView",
            "bar_color": null,
            "description_width": ""
          }
        },
        "f7c80e6d6c88455c88d761346f6cbc14": {
          "model_module": "@jupyter-widgets/base",
          "model_name": "LayoutModel",
          "model_module_version": "1.2.0",
          "state": {
            "_model_module": "@jupyter-widgets/base",
            "_model_module_version": "1.2.0",
            "_model_name": "LayoutModel",
            "_view_count": null,
            "_view_module": "@jupyter-widgets/base",
            "_view_module_version": "1.2.0",
            "_view_name": "LayoutView",
            "align_content": null,
            "align_items": null,
            "align_self": null,
            "border": null,
            "bottom": null,
            "display": null,
            "flex": null,
            "flex_flow": null,
            "grid_area": null,
            "grid_auto_columns": null,
            "grid_auto_flow": null,
            "grid_auto_rows": null,
            "grid_column": null,
            "grid_gap": null,
            "grid_row": null,
            "grid_template_areas": null,
            "grid_template_columns": null,
            "grid_template_rows": null,
            "height": null,
            "justify_content": null,
            "justify_items": null,
            "left": null,
            "margin": null,
            "max_height": null,
            "max_width": null,
            "min_height": null,
            "min_width": null,
            "object_fit": null,
            "object_position": null,
            "order": null,
            "overflow": null,
            "overflow_x": null,
            "overflow_y": null,
            "padding": null,
            "right": null,
            "top": null,
            "visibility": null,
            "width": null
          }
        },
        "4d9cba0a32b44106b4333ecf71936b4a": {
          "model_module": "@jupyter-widgets/controls",
          "model_name": "DescriptionStyleModel",
          "model_module_version": "1.5.0",
          "state": {
            "_model_module": "@jupyter-widgets/controls",
            "_model_module_version": "1.5.0",
            "_model_name": "DescriptionStyleModel",
            "_view_count": null,
            "_view_module": "@jupyter-widgets/base",
            "_view_module_version": "1.2.0",
            "_view_name": "StyleView",
            "description_width": ""
          }
        },
        "53e70ddc6b694ac19ebcdd9867b6e4c6": {
          "model_module": "@jupyter-widgets/controls",
          "model_name": "HBoxModel",
          "model_module_version": "1.5.0",
          "state": {
            "_dom_classes": [],
            "_model_module": "@jupyter-widgets/controls",
            "_model_module_version": "1.5.0",
            "_model_name": "HBoxModel",
            "_view_count": null,
            "_view_module": "@jupyter-widgets/controls",
            "_view_module_version": "1.5.0",
            "_view_name": "HBoxView",
            "box_style": "",
            "children": [
              "IPY_MODEL_f2964b3e318c485fa8b79cc8bdfa7319",
              "IPY_MODEL_0e01e1ee754f4149aa2c2c6fb731c537",
              "IPY_MODEL_3bf4f82abcbd4dcdba0876498649a39e"
            ],
            "layout": "IPY_MODEL_3c78c889b0fb48fe983df9131fde5ee0"
          }
        },
        "f2964b3e318c485fa8b79cc8bdfa7319": {
          "model_module": "@jupyter-widgets/controls",
          "model_name": "HTMLModel",
          "model_module_version": "1.5.0",
          "state": {
            "_dom_classes": [],
            "_model_module": "@jupyter-widgets/controls",
            "_model_module_version": "1.5.0",
            "_model_name": "HTMLModel",
            "_view_count": null,
            "_view_module": "@jupyter-widgets/controls",
            "_view_module_version": "1.5.0",
            "_view_name": "HTMLView",
            "description": "",
            "description_tooltip": null,
            "layout": "IPY_MODEL_718b6cd25a014d95b7b71c778ba46c52",
            "placeholder": "​",
            "style": "IPY_MODEL_ee004118eb6546a3b78d6c4c64856359",
            "value": "Test Loss: 0.4947, Test Acc: 0.75: 100%"
          }
        },
        "0e01e1ee754f4149aa2c2c6fb731c537": {
          "model_module": "@jupyter-widgets/controls",
          "model_name": "FloatProgressModel",
          "model_module_version": "1.5.0",
          "state": {
            "_dom_classes": [],
            "_model_module": "@jupyter-widgets/controls",
            "_model_module_version": "1.5.0",
            "_model_name": "FloatProgressModel",
            "_view_count": null,
            "_view_module": "@jupyter-widgets/controls",
            "_view_module_version": "1.5.0",
            "_view_name": "ProgressView",
            "bar_style": "success",
            "description": "",
            "description_tooltip": null,
            "layout": "IPY_MODEL_012063b086dc4918a215a4240209c32a",
            "max": 250,
            "min": 0,
            "orientation": "horizontal",
            "style": "IPY_MODEL_ad26785e2a7f4154beb5782276d5e651",
            "value": 250
          }
        },
        "3bf4f82abcbd4dcdba0876498649a39e": {
          "model_module": "@jupyter-widgets/controls",
          "model_name": "HTMLModel",
          "model_module_version": "1.5.0",
          "state": {
            "_dom_classes": [],
            "_model_module": "@jupyter-widgets/controls",
            "_model_module_version": "1.5.0",
            "_model_name": "HTMLModel",
            "_view_count": null,
            "_view_module": "@jupyter-widgets/controls",
            "_view_module_version": "1.5.0",
            "_view_name": "HTMLView",
            "description": "",
            "description_tooltip": null,
            "layout": "IPY_MODEL_ea3e0c3a79764fc99beb96fa22aa6ab0",
            "placeholder": "​",
            "style": "IPY_MODEL_dda108b11390497390f6701dc8a26266",
            "value": " 250/250 [00:33&lt;00:00, 10.10it/s]"
          }
        },
        "3c78c889b0fb48fe983df9131fde5ee0": {
          "model_module": "@jupyter-widgets/base",
          "model_name": "LayoutModel",
          "model_module_version": "1.2.0",
          "state": {
            "_model_module": "@jupyter-widgets/base",
            "_model_module_version": "1.2.0",
            "_model_name": "LayoutModel",
            "_view_count": null,
            "_view_module": "@jupyter-widgets/base",
            "_view_module_version": "1.2.0",
            "_view_name": "LayoutView",
            "align_content": null,
            "align_items": null,
            "align_self": null,
            "border": null,
            "bottom": null,
            "display": null,
            "flex": null,
            "flex_flow": null,
            "grid_area": null,
            "grid_auto_columns": null,
            "grid_auto_flow": null,
            "grid_auto_rows": null,
            "grid_column": null,
            "grid_gap": null,
            "grid_row": null,
            "grid_template_areas": null,
            "grid_template_columns": null,
            "grid_template_rows": null,
            "height": null,
            "justify_content": null,
            "justify_items": null,
            "left": null,
            "margin": null,
            "max_height": null,
            "max_width": null,
            "min_height": null,
            "min_width": null,
            "object_fit": null,
            "object_position": null,
            "order": null,
            "overflow": null,
            "overflow_x": null,
            "overflow_y": null,
            "padding": null,
            "right": null,
            "top": null,
            "visibility": null,
            "width": null
          }
        },
        "718b6cd25a014d95b7b71c778ba46c52": {
          "model_module": "@jupyter-widgets/base",
          "model_name": "LayoutModel",
          "model_module_version": "1.2.0",
          "state": {
            "_model_module": "@jupyter-widgets/base",
            "_model_module_version": "1.2.0",
            "_model_name": "LayoutModel",
            "_view_count": null,
            "_view_module": "@jupyter-widgets/base",
            "_view_module_version": "1.2.0",
            "_view_name": "LayoutView",
            "align_content": null,
            "align_items": null,
            "align_self": null,
            "border": null,
            "bottom": null,
            "display": null,
            "flex": null,
            "flex_flow": null,
            "grid_area": null,
            "grid_auto_columns": null,
            "grid_auto_flow": null,
            "grid_auto_rows": null,
            "grid_column": null,
            "grid_gap": null,
            "grid_row": null,
            "grid_template_areas": null,
            "grid_template_columns": null,
            "grid_template_rows": null,
            "height": null,
            "justify_content": null,
            "justify_items": null,
            "left": null,
            "margin": null,
            "max_height": null,
            "max_width": null,
            "min_height": null,
            "min_width": null,
            "object_fit": null,
            "object_position": null,
            "order": null,
            "overflow": null,
            "overflow_x": null,
            "overflow_y": null,
            "padding": null,
            "right": null,
            "top": null,
            "visibility": null,
            "width": null
          }
        },
        "ee004118eb6546a3b78d6c4c64856359": {
          "model_module": "@jupyter-widgets/controls",
          "model_name": "DescriptionStyleModel",
          "model_module_version": "1.5.0",
          "state": {
            "_model_module": "@jupyter-widgets/controls",
            "_model_module_version": "1.5.0",
            "_model_name": "DescriptionStyleModel",
            "_view_count": null,
            "_view_module": "@jupyter-widgets/base",
            "_view_module_version": "1.2.0",
            "_view_name": "StyleView",
            "description_width": ""
          }
        },
        "012063b086dc4918a215a4240209c32a": {
          "model_module": "@jupyter-widgets/base",
          "model_name": "LayoutModel",
          "model_module_version": "1.2.0",
          "state": {
            "_model_module": "@jupyter-widgets/base",
            "_model_module_version": "1.2.0",
            "_model_name": "LayoutModel",
            "_view_count": null,
            "_view_module": "@jupyter-widgets/base",
            "_view_module_version": "1.2.0",
            "_view_name": "LayoutView",
            "align_content": null,
            "align_items": null,
            "align_self": null,
            "border": null,
            "bottom": null,
            "display": null,
            "flex": null,
            "flex_flow": null,
            "grid_area": null,
            "grid_auto_columns": null,
            "grid_auto_flow": null,
            "grid_auto_rows": null,
            "grid_column": null,
            "grid_gap": null,
            "grid_row": null,
            "grid_template_areas": null,
            "grid_template_columns": null,
            "grid_template_rows": null,
            "height": null,
            "justify_content": null,
            "justify_items": null,
            "left": null,
            "margin": null,
            "max_height": null,
            "max_width": null,
            "min_height": null,
            "min_width": null,
            "object_fit": null,
            "object_position": null,
            "order": null,
            "overflow": null,
            "overflow_x": null,
            "overflow_y": null,
            "padding": null,
            "right": null,
            "top": null,
            "visibility": null,
            "width": null
          }
        },
        "ad26785e2a7f4154beb5782276d5e651": {
          "model_module": "@jupyter-widgets/controls",
          "model_name": "ProgressStyleModel",
          "model_module_version": "1.5.0",
          "state": {
            "_model_module": "@jupyter-widgets/controls",
            "_model_module_version": "1.5.0",
            "_model_name": "ProgressStyleModel",
            "_view_count": null,
            "_view_module": "@jupyter-widgets/base",
            "_view_module_version": "1.2.0",
            "_view_name": "StyleView",
            "bar_color": null,
            "description_width": ""
          }
        },
        "ea3e0c3a79764fc99beb96fa22aa6ab0": {
          "model_module": "@jupyter-widgets/base",
          "model_name": "LayoutModel",
          "model_module_version": "1.2.0",
          "state": {
            "_model_module": "@jupyter-widgets/base",
            "_model_module_version": "1.2.0",
            "_model_name": "LayoutModel",
            "_view_count": null,
            "_view_module": "@jupyter-widgets/base",
            "_view_module_version": "1.2.0",
            "_view_name": "LayoutView",
            "align_content": null,
            "align_items": null,
            "align_self": null,
            "border": null,
            "bottom": null,
            "display": null,
            "flex": null,
            "flex_flow": null,
            "grid_area": null,
            "grid_auto_columns": null,
            "grid_auto_flow": null,
            "grid_auto_rows": null,
            "grid_column": null,
            "grid_gap": null,
            "grid_row": null,
            "grid_template_areas": null,
            "grid_template_columns": null,
            "grid_template_rows": null,
            "height": null,
            "justify_content": null,
            "justify_items": null,
            "left": null,
            "margin": null,
            "max_height": null,
            "max_width": null,
            "min_height": null,
            "min_width": null,
            "object_fit": null,
            "object_position": null,
            "order": null,
            "overflow": null,
            "overflow_x": null,
            "overflow_y": null,
            "padding": null,
            "right": null,
            "top": null,
            "visibility": null,
            "width": null
          }
        },
        "dda108b11390497390f6701dc8a26266": {
          "model_module": "@jupyter-widgets/controls",
          "model_name": "DescriptionStyleModel",
          "model_module_version": "1.5.0",
          "state": {
            "_model_module": "@jupyter-widgets/controls",
            "_model_module_version": "1.5.0",
            "_model_name": "DescriptionStyleModel",
            "_view_count": null,
            "_view_module": "@jupyter-widgets/base",
            "_view_module_version": "1.2.0",
            "_view_name": "StyleView",
            "description_width": ""
          }
        },
        "94095bba270c4783a8f8543650d003a8": {
          "model_module": "@jupyter-widgets/controls",
          "model_name": "HBoxModel",
          "model_module_version": "1.5.0",
          "state": {
            "_dom_classes": [],
            "_model_module": "@jupyter-widgets/controls",
            "_model_module_version": "1.5.0",
            "_model_name": "HBoxModel",
            "_view_count": null,
            "_view_module": "@jupyter-widgets/controls",
            "_view_module_version": "1.5.0",
            "_view_name": "HBoxView",
            "box_style": "",
            "children": [
              "IPY_MODEL_e788d067690f48249f2ab0f4fdd83e26",
              "IPY_MODEL_dd8396e0a0d248a894438ace0fad08ee",
              "IPY_MODEL_01c2d1503e88450aafefb0ca2f44f6ac"
            ],
            "layout": "IPY_MODEL_a73fdc8bd785423bbec1c62afb0868c2"
          }
        },
        "e788d067690f48249f2ab0f4fdd83e26": {
          "model_module": "@jupyter-widgets/controls",
          "model_name": "HTMLModel",
          "model_module_version": "1.5.0",
          "state": {
            "_dom_classes": [],
            "_model_module": "@jupyter-widgets/controls",
            "_model_module_version": "1.5.0",
            "_model_name": "HTMLModel",
            "_view_count": null,
            "_view_module": "@jupyter-widgets/controls",
            "_view_module_version": "1.5.0",
            "_view_name": "HTMLView",
            "description": "",
            "description_tooltip": null,
            "layout": "IPY_MODEL_cb11f8ea06154ca3902b2e9387955a3d",
            "placeholder": "​",
            "style": "IPY_MODEL_1facdfba761c41c1b969e84496596834",
            "value": "Epoch 2. Train Loss: 0.4938: 100%"
          }
        },
        "dd8396e0a0d248a894438ace0fad08ee": {
          "model_module": "@jupyter-widgets/controls",
          "model_name": "FloatProgressModel",
          "model_module_version": "1.5.0",
          "state": {
            "_dom_classes": [],
            "_model_module": "@jupyter-widgets/controls",
            "_model_module_version": "1.5.0",
            "_model_name": "FloatProgressModel",
            "_view_count": null,
            "_view_module": "@jupyter-widgets/controls",
            "_view_module_version": "1.5.0",
            "_view_name": "ProgressView",
            "bar_style": "success",
            "description": "",
            "description_tooltip": null,
            "layout": "IPY_MODEL_4f1375b99d4245da960a467c730ce5fa",
            "max": 1000,
            "min": 0,
            "orientation": "horizontal",
            "style": "IPY_MODEL_83288052358a4b75ad55093453de6ddc",
            "value": 1000
          }
        },
        "01c2d1503e88450aafefb0ca2f44f6ac": {
          "model_module": "@jupyter-widgets/controls",
          "model_name": "HTMLModel",
          "model_module_version": "1.5.0",
          "state": {
            "_dom_classes": [],
            "_model_module": "@jupyter-widgets/controls",
            "_model_module_version": "1.5.0",
            "_model_name": "HTMLModel",
            "_view_count": null,
            "_view_module": "@jupyter-widgets/controls",
            "_view_module_version": "1.5.0",
            "_view_name": "HTMLView",
            "description": "",
            "description_tooltip": null,
            "layout": "IPY_MODEL_0088f491744f426f8b7123792956dc6c",
            "placeholder": "​",
            "style": "IPY_MODEL_38d6190dc1474bca966baf1b33c6c41b",
            "value": " 1000/1000 [02:07&lt;00:00, 10.42it/s]"
          }
        },
        "a73fdc8bd785423bbec1c62afb0868c2": {
          "model_module": "@jupyter-widgets/base",
          "model_name": "LayoutModel",
          "model_module_version": "1.2.0",
          "state": {
            "_model_module": "@jupyter-widgets/base",
            "_model_module_version": "1.2.0",
            "_model_name": "LayoutModel",
            "_view_count": null,
            "_view_module": "@jupyter-widgets/base",
            "_view_module_version": "1.2.0",
            "_view_name": "LayoutView",
            "align_content": null,
            "align_items": null,
            "align_self": null,
            "border": null,
            "bottom": null,
            "display": null,
            "flex": null,
            "flex_flow": null,
            "grid_area": null,
            "grid_auto_columns": null,
            "grid_auto_flow": null,
            "grid_auto_rows": null,
            "grid_column": null,
            "grid_gap": null,
            "grid_row": null,
            "grid_template_areas": null,
            "grid_template_columns": null,
            "grid_template_rows": null,
            "height": null,
            "justify_content": null,
            "justify_items": null,
            "left": null,
            "margin": null,
            "max_height": null,
            "max_width": null,
            "min_height": null,
            "min_width": null,
            "object_fit": null,
            "object_position": null,
            "order": null,
            "overflow": null,
            "overflow_x": null,
            "overflow_y": null,
            "padding": null,
            "right": null,
            "top": null,
            "visibility": null,
            "width": null
          }
        },
        "cb11f8ea06154ca3902b2e9387955a3d": {
          "model_module": "@jupyter-widgets/base",
          "model_name": "LayoutModel",
          "model_module_version": "1.2.0",
          "state": {
            "_model_module": "@jupyter-widgets/base",
            "_model_module_version": "1.2.0",
            "_model_name": "LayoutModel",
            "_view_count": null,
            "_view_module": "@jupyter-widgets/base",
            "_view_module_version": "1.2.0",
            "_view_name": "LayoutView",
            "align_content": null,
            "align_items": null,
            "align_self": null,
            "border": null,
            "bottom": null,
            "display": null,
            "flex": null,
            "flex_flow": null,
            "grid_area": null,
            "grid_auto_columns": null,
            "grid_auto_flow": null,
            "grid_auto_rows": null,
            "grid_column": null,
            "grid_gap": null,
            "grid_row": null,
            "grid_template_areas": null,
            "grid_template_columns": null,
            "grid_template_rows": null,
            "height": null,
            "justify_content": null,
            "justify_items": null,
            "left": null,
            "margin": null,
            "max_height": null,
            "max_width": null,
            "min_height": null,
            "min_width": null,
            "object_fit": null,
            "object_position": null,
            "order": null,
            "overflow": null,
            "overflow_x": null,
            "overflow_y": null,
            "padding": null,
            "right": null,
            "top": null,
            "visibility": null,
            "width": null
          }
        },
        "1facdfba761c41c1b969e84496596834": {
          "model_module": "@jupyter-widgets/controls",
          "model_name": "DescriptionStyleModel",
          "model_module_version": "1.5.0",
          "state": {
            "_model_module": "@jupyter-widgets/controls",
            "_model_module_version": "1.5.0",
            "_model_name": "DescriptionStyleModel",
            "_view_count": null,
            "_view_module": "@jupyter-widgets/base",
            "_view_module_version": "1.2.0",
            "_view_name": "StyleView",
            "description_width": ""
          }
        },
        "4f1375b99d4245da960a467c730ce5fa": {
          "model_module": "@jupyter-widgets/base",
          "model_name": "LayoutModel",
          "model_module_version": "1.2.0",
          "state": {
            "_model_module": "@jupyter-widgets/base",
            "_model_module_version": "1.2.0",
            "_model_name": "LayoutModel",
            "_view_count": null,
            "_view_module": "@jupyter-widgets/base",
            "_view_module_version": "1.2.0",
            "_view_name": "LayoutView",
            "align_content": null,
            "align_items": null,
            "align_self": null,
            "border": null,
            "bottom": null,
            "display": null,
            "flex": null,
            "flex_flow": null,
            "grid_area": null,
            "grid_auto_columns": null,
            "grid_auto_flow": null,
            "grid_auto_rows": null,
            "grid_column": null,
            "grid_gap": null,
            "grid_row": null,
            "grid_template_areas": null,
            "grid_template_columns": null,
            "grid_template_rows": null,
            "height": null,
            "justify_content": null,
            "justify_items": null,
            "left": null,
            "margin": null,
            "max_height": null,
            "max_width": null,
            "min_height": null,
            "min_width": null,
            "object_fit": null,
            "object_position": null,
            "order": null,
            "overflow": null,
            "overflow_x": null,
            "overflow_y": null,
            "padding": null,
            "right": null,
            "top": null,
            "visibility": null,
            "width": null
          }
        },
        "83288052358a4b75ad55093453de6ddc": {
          "model_module": "@jupyter-widgets/controls",
          "model_name": "ProgressStyleModel",
          "model_module_version": "1.5.0",
          "state": {
            "_model_module": "@jupyter-widgets/controls",
            "_model_module_version": "1.5.0",
            "_model_name": "ProgressStyleModel",
            "_view_count": null,
            "_view_module": "@jupyter-widgets/base",
            "_view_module_version": "1.2.0",
            "_view_name": "StyleView",
            "bar_color": null,
            "description_width": ""
          }
        },
        "0088f491744f426f8b7123792956dc6c": {
          "model_module": "@jupyter-widgets/base",
          "model_name": "LayoutModel",
          "model_module_version": "1.2.0",
          "state": {
            "_model_module": "@jupyter-widgets/base",
            "_model_module_version": "1.2.0",
            "_model_name": "LayoutModel",
            "_view_count": null,
            "_view_module": "@jupyter-widgets/base",
            "_view_module_version": "1.2.0",
            "_view_name": "LayoutView",
            "align_content": null,
            "align_items": null,
            "align_self": null,
            "border": null,
            "bottom": null,
            "display": null,
            "flex": null,
            "flex_flow": null,
            "grid_area": null,
            "grid_auto_columns": null,
            "grid_auto_flow": null,
            "grid_auto_rows": null,
            "grid_column": null,
            "grid_gap": null,
            "grid_row": null,
            "grid_template_areas": null,
            "grid_template_columns": null,
            "grid_template_rows": null,
            "height": null,
            "justify_content": null,
            "justify_items": null,
            "left": null,
            "margin": null,
            "max_height": null,
            "max_width": null,
            "min_height": null,
            "min_width": null,
            "object_fit": null,
            "object_position": null,
            "order": null,
            "overflow": null,
            "overflow_x": null,
            "overflow_y": null,
            "padding": null,
            "right": null,
            "top": null,
            "visibility": null,
            "width": null
          }
        },
        "38d6190dc1474bca966baf1b33c6c41b": {
          "model_module": "@jupyter-widgets/controls",
          "model_name": "DescriptionStyleModel",
          "model_module_version": "1.5.0",
          "state": {
            "_model_module": "@jupyter-widgets/controls",
            "_model_module_version": "1.5.0",
            "_model_name": "DescriptionStyleModel",
            "_view_count": null,
            "_view_module": "@jupyter-widgets/base",
            "_view_module_version": "1.2.0",
            "_view_name": "StyleView",
            "description_width": ""
          }
        },
        "1195abf0a0bc4a4892672e2789f4c468": {
          "model_module": "@jupyter-widgets/controls",
          "model_name": "HBoxModel",
          "model_module_version": "1.5.0",
          "state": {
            "_dom_classes": [],
            "_model_module": "@jupyter-widgets/controls",
            "_model_module_version": "1.5.0",
            "_model_name": "HBoxModel",
            "_view_count": null,
            "_view_module": "@jupyter-widgets/controls",
            "_view_module_version": "1.5.0",
            "_view_name": "HBoxView",
            "box_style": "",
            "children": [
              "IPY_MODEL_8cde429f07ca479ca143e62970a38d02",
              "IPY_MODEL_aa1279f629fa47f09ba0f27bf182b1ec",
              "IPY_MODEL_cc817d49795345dc84988757cb5cf01d"
            ],
            "layout": "IPY_MODEL_380a1c85dcc142c797ae84273bacb051"
          }
        },
        "8cde429f07ca479ca143e62970a38d02": {
          "model_module": "@jupyter-widgets/controls",
          "model_name": "HTMLModel",
          "model_module_version": "1.5.0",
          "state": {
            "_dom_classes": [],
            "_model_module": "@jupyter-widgets/controls",
            "_model_module_version": "1.5.0",
            "_model_name": "HTMLModel",
            "_view_count": null,
            "_view_module": "@jupyter-widgets/controls",
            "_view_module_version": "1.5.0",
            "_view_name": "HTMLView",
            "description": "",
            "description_tooltip": null,
            "layout": "IPY_MODEL_23c961f99ebd459e8651c37a66901ea6",
            "placeholder": "​",
            "style": "IPY_MODEL_9ebaec82903a477d975f63d0ad621340",
            "value": "Test Loss: 0.4788, Test Acc: 0.7559: 100%"
          }
        },
        "aa1279f629fa47f09ba0f27bf182b1ec": {
          "model_module": "@jupyter-widgets/controls",
          "model_name": "FloatProgressModel",
          "model_module_version": "1.5.0",
          "state": {
            "_dom_classes": [],
            "_model_module": "@jupyter-widgets/controls",
            "_model_module_version": "1.5.0",
            "_model_name": "FloatProgressModel",
            "_view_count": null,
            "_view_module": "@jupyter-widgets/controls",
            "_view_module_version": "1.5.0",
            "_view_name": "ProgressView",
            "bar_style": "success",
            "description": "",
            "description_tooltip": null,
            "layout": "IPY_MODEL_2a8a8c40a6204a53b13f89a828f73798",
            "max": 250,
            "min": 0,
            "orientation": "horizontal",
            "style": "IPY_MODEL_ec0ffef82c2f4160b934becaf3299b37",
            "value": 250
          }
        },
        "cc817d49795345dc84988757cb5cf01d": {
          "model_module": "@jupyter-widgets/controls",
          "model_name": "HTMLModel",
          "model_module_version": "1.5.0",
          "state": {
            "_dom_classes": [],
            "_model_module": "@jupyter-widgets/controls",
            "_model_module_version": "1.5.0",
            "_model_name": "HTMLModel",
            "_view_count": null,
            "_view_module": "@jupyter-widgets/controls",
            "_view_module_version": "1.5.0",
            "_view_name": "HTMLView",
            "description": "",
            "description_tooltip": null,
            "layout": "IPY_MODEL_1875d1c6d86847a98f1acb5a429b70f2",
            "placeholder": "​",
            "style": "IPY_MODEL_06b07127066a41b785fc851a348b75c2",
            "value": " 250/250 [00:34&lt;00:00, 10.27it/s]"
          }
        },
        "380a1c85dcc142c797ae84273bacb051": {
          "model_module": "@jupyter-widgets/base",
          "model_name": "LayoutModel",
          "model_module_version": "1.2.0",
          "state": {
            "_model_module": "@jupyter-widgets/base",
            "_model_module_version": "1.2.0",
            "_model_name": "LayoutModel",
            "_view_count": null,
            "_view_module": "@jupyter-widgets/base",
            "_view_module_version": "1.2.0",
            "_view_name": "LayoutView",
            "align_content": null,
            "align_items": null,
            "align_self": null,
            "border": null,
            "bottom": null,
            "display": null,
            "flex": null,
            "flex_flow": null,
            "grid_area": null,
            "grid_auto_columns": null,
            "grid_auto_flow": null,
            "grid_auto_rows": null,
            "grid_column": null,
            "grid_gap": null,
            "grid_row": null,
            "grid_template_areas": null,
            "grid_template_columns": null,
            "grid_template_rows": null,
            "height": null,
            "justify_content": null,
            "justify_items": null,
            "left": null,
            "margin": null,
            "max_height": null,
            "max_width": null,
            "min_height": null,
            "min_width": null,
            "object_fit": null,
            "object_position": null,
            "order": null,
            "overflow": null,
            "overflow_x": null,
            "overflow_y": null,
            "padding": null,
            "right": null,
            "top": null,
            "visibility": null,
            "width": null
          }
        },
        "23c961f99ebd459e8651c37a66901ea6": {
          "model_module": "@jupyter-widgets/base",
          "model_name": "LayoutModel",
          "model_module_version": "1.2.0",
          "state": {
            "_model_module": "@jupyter-widgets/base",
            "_model_module_version": "1.2.0",
            "_model_name": "LayoutModel",
            "_view_count": null,
            "_view_module": "@jupyter-widgets/base",
            "_view_module_version": "1.2.0",
            "_view_name": "LayoutView",
            "align_content": null,
            "align_items": null,
            "align_self": null,
            "border": null,
            "bottom": null,
            "display": null,
            "flex": null,
            "flex_flow": null,
            "grid_area": null,
            "grid_auto_columns": null,
            "grid_auto_flow": null,
            "grid_auto_rows": null,
            "grid_column": null,
            "grid_gap": null,
            "grid_row": null,
            "grid_template_areas": null,
            "grid_template_columns": null,
            "grid_template_rows": null,
            "height": null,
            "justify_content": null,
            "justify_items": null,
            "left": null,
            "margin": null,
            "max_height": null,
            "max_width": null,
            "min_height": null,
            "min_width": null,
            "object_fit": null,
            "object_position": null,
            "order": null,
            "overflow": null,
            "overflow_x": null,
            "overflow_y": null,
            "padding": null,
            "right": null,
            "top": null,
            "visibility": null,
            "width": null
          }
        },
        "9ebaec82903a477d975f63d0ad621340": {
          "model_module": "@jupyter-widgets/controls",
          "model_name": "DescriptionStyleModel",
          "model_module_version": "1.5.0",
          "state": {
            "_model_module": "@jupyter-widgets/controls",
            "_model_module_version": "1.5.0",
            "_model_name": "DescriptionStyleModel",
            "_view_count": null,
            "_view_module": "@jupyter-widgets/base",
            "_view_module_version": "1.2.0",
            "_view_name": "StyleView",
            "description_width": ""
          }
        },
        "2a8a8c40a6204a53b13f89a828f73798": {
          "model_module": "@jupyter-widgets/base",
          "model_name": "LayoutModel",
          "model_module_version": "1.2.0",
          "state": {
            "_model_module": "@jupyter-widgets/base",
            "_model_module_version": "1.2.0",
            "_model_name": "LayoutModel",
            "_view_count": null,
            "_view_module": "@jupyter-widgets/base",
            "_view_module_version": "1.2.0",
            "_view_name": "LayoutView",
            "align_content": null,
            "align_items": null,
            "align_self": null,
            "border": null,
            "bottom": null,
            "display": null,
            "flex": null,
            "flex_flow": null,
            "grid_area": null,
            "grid_auto_columns": null,
            "grid_auto_flow": null,
            "grid_auto_rows": null,
            "grid_column": null,
            "grid_gap": null,
            "grid_row": null,
            "grid_template_areas": null,
            "grid_template_columns": null,
            "grid_template_rows": null,
            "height": null,
            "justify_content": null,
            "justify_items": null,
            "left": null,
            "margin": null,
            "max_height": null,
            "max_width": null,
            "min_height": null,
            "min_width": null,
            "object_fit": null,
            "object_position": null,
            "order": null,
            "overflow": null,
            "overflow_x": null,
            "overflow_y": null,
            "padding": null,
            "right": null,
            "top": null,
            "visibility": null,
            "width": null
          }
        },
        "ec0ffef82c2f4160b934becaf3299b37": {
          "model_module": "@jupyter-widgets/controls",
          "model_name": "ProgressStyleModel",
          "model_module_version": "1.5.0",
          "state": {
            "_model_module": "@jupyter-widgets/controls",
            "_model_module_version": "1.5.0",
            "_model_name": "ProgressStyleModel",
            "_view_count": null,
            "_view_module": "@jupyter-widgets/base",
            "_view_module_version": "1.2.0",
            "_view_name": "StyleView",
            "bar_color": null,
            "description_width": ""
          }
        },
        "1875d1c6d86847a98f1acb5a429b70f2": {
          "model_module": "@jupyter-widgets/base",
          "model_name": "LayoutModel",
          "model_module_version": "1.2.0",
          "state": {
            "_model_module": "@jupyter-widgets/base",
            "_model_module_version": "1.2.0",
            "_model_name": "LayoutModel",
            "_view_count": null,
            "_view_module": "@jupyter-widgets/base",
            "_view_module_version": "1.2.0",
            "_view_name": "LayoutView",
            "align_content": null,
            "align_items": null,
            "align_self": null,
            "border": null,
            "bottom": null,
            "display": null,
            "flex": null,
            "flex_flow": null,
            "grid_area": null,
            "grid_auto_columns": null,
            "grid_auto_flow": null,
            "grid_auto_rows": null,
            "grid_column": null,
            "grid_gap": null,
            "grid_row": null,
            "grid_template_areas": null,
            "grid_template_columns": null,
            "grid_template_rows": null,
            "height": null,
            "justify_content": null,
            "justify_items": null,
            "left": null,
            "margin": null,
            "max_height": null,
            "max_width": null,
            "min_height": null,
            "min_width": null,
            "object_fit": null,
            "object_position": null,
            "order": null,
            "overflow": null,
            "overflow_x": null,
            "overflow_y": null,
            "padding": null,
            "right": null,
            "top": null,
            "visibility": null,
            "width": null
          }
        },
        "06b07127066a41b785fc851a348b75c2": {
          "model_module": "@jupyter-widgets/controls",
          "model_name": "DescriptionStyleModel",
          "model_module_version": "1.5.0",
          "state": {
            "_model_module": "@jupyter-widgets/controls",
            "_model_module_version": "1.5.0",
            "_model_name": "DescriptionStyleModel",
            "_view_count": null,
            "_view_module": "@jupyter-widgets/base",
            "_view_module_version": "1.2.0",
            "_view_name": "StyleView",
            "description_width": ""
          }
        },
        "14519f5bdb214796bbd7db477651b4a0": {
          "model_module": "@jupyter-widgets/controls",
          "model_name": "HBoxModel",
          "model_module_version": "1.5.0",
          "state": {
            "_dom_classes": [],
            "_model_module": "@jupyter-widgets/controls",
            "_model_module_version": "1.5.0",
            "_model_name": "HBoxModel",
            "_view_count": null,
            "_view_module": "@jupyter-widgets/controls",
            "_view_module_version": "1.5.0",
            "_view_name": "HBoxView",
            "box_style": "",
            "children": [
              "IPY_MODEL_ba444b8dc4c8415698553a6c538b3a68",
              "IPY_MODEL_b3592fb0a84d420aa744aab5effbdc56",
              "IPY_MODEL_bd239163581644bd970fa97a1234e209"
            ],
            "layout": "IPY_MODEL_9d2263b68b134179a6efa1b7fcf0bd0d"
          }
        },
        "ba444b8dc4c8415698553a6c538b3a68": {
          "model_module": "@jupyter-widgets/controls",
          "model_name": "HTMLModel",
          "model_module_version": "1.5.0",
          "state": {
            "_dom_classes": [],
            "_model_module": "@jupyter-widgets/controls",
            "_model_module_version": "1.5.0",
            "_model_name": "HTMLModel",
            "_view_count": null,
            "_view_module": "@jupyter-widgets/controls",
            "_view_module_version": "1.5.0",
            "_view_name": "HTMLView",
            "description": "",
            "description_tooltip": null,
            "layout": "IPY_MODEL_67ed8f0bff3b4fe58563a5f8e4297ab7",
            "placeholder": "​",
            "style": "IPY_MODEL_066c0ef1282b40aa8abc023967572478",
            "value": "Test Loss: 0.5247, Test Acc: 0.748: 100%"
          }
        },
        "b3592fb0a84d420aa744aab5effbdc56": {
          "model_module": "@jupyter-widgets/controls",
          "model_name": "FloatProgressModel",
          "model_module_version": "1.5.0",
          "state": {
            "_dom_classes": [],
            "_model_module": "@jupyter-widgets/controls",
            "_model_module_version": "1.5.0",
            "_model_name": "FloatProgressModel",
            "_view_count": null,
            "_view_module": "@jupyter-widgets/controls",
            "_view_module_version": "1.5.0",
            "_view_name": "ProgressView",
            "bar_style": "success",
            "description": "",
            "description_tooltip": null,
            "layout": "IPY_MODEL_cac1358fff7441d3b9ccb35e5f23fd33",
            "max": 313,
            "min": 0,
            "orientation": "horizontal",
            "style": "IPY_MODEL_5a84a0826b7546f28a8016cafeef7545",
            "value": 313
          }
        },
        "bd239163581644bd970fa97a1234e209": {
          "model_module": "@jupyter-widgets/controls",
          "model_name": "HTMLModel",
          "model_module_version": "1.5.0",
          "state": {
            "_dom_classes": [],
            "_model_module": "@jupyter-widgets/controls",
            "_model_module_version": "1.5.0",
            "_model_name": "HTMLModel",
            "_view_count": null,
            "_view_module": "@jupyter-widgets/controls",
            "_view_module_version": "1.5.0",
            "_view_name": "HTMLView",
            "description": "",
            "description_tooltip": null,
            "layout": "IPY_MODEL_18e45ea043674b47b7b0f5f322d924a9",
            "placeholder": "​",
            "style": "IPY_MODEL_455894b192e641dd89fab89dcba6b08f",
            "value": " 313/313 [00:42&lt;00:00, 11.14it/s]"
          }
        },
        "9d2263b68b134179a6efa1b7fcf0bd0d": {
          "model_module": "@jupyter-widgets/base",
          "model_name": "LayoutModel",
          "model_module_version": "1.2.0",
          "state": {
            "_model_module": "@jupyter-widgets/base",
            "_model_module_version": "1.2.0",
            "_model_name": "LayoutModel",
            "_view_count": null,
            "_view_module": "@jupyter-widgets/base",
            "_view_module_version": "1.2.0",
            "_view_name": "LayoutView",
            "align_content": null,
            "align_items": null,
            "align_self": null,
            "border": null,
            "bottom": null,
            "display": null,
            "flex": null,
            "flex_flow": null,
            "grid_area": null,
            "grid_auto_columns": null,
            "grid_auto_flow": null,
            "grid_auto_rows": null,
            "grid_column": null,
            "grid_gap": null,
            "grid_row": null,
            "grid_template_areas": null,
            "grid_template_columns": null,
            "grid_template_rows": null,
            "height": null,
            "justify_content": null,
            "justify_items": null,
            "left": null,
            "margin": null,
            "max_height": null,
            "max_width": null,
            "min_height": null,
            "min_width": null,
            "object_fit": null,
            "object_position": null,
            "order": null,
            "overflow": null,
            "overflow_x": null,
            "overflow_y": null,
            "padding": null,
            "right": null,
            "top": null,
            "visibility": null,
            "width": null
          }
        },
        "67ed8f0bff3b4fe58563a5f8e4297ab7": {
          "model_module": "@jupyter-widgets/base",
          "model_name": "LayoutModel",
          "model_module_version": "1.2.0",
          "state": {
            "_model_module": "@jupyter-widgets/base",
            "_model_module_version": "1.2.0",
            "_model_name": "LayoutModel",
            "_view_count": null,
            "_view_module": "@jupyter-widgets/base",
            "_view_module_version": "1.2.0",
            "_view_name": "LayoutView",
            "align_content": null,
            "align_items": null,
            "align_self": null,
            "border": null,
            "bottom": null,
            "display": null,
            "flex": null,
            "flex_flow": null,
            "grid_area": null,
            "grid_auto_columns": null,
            "grid_auto_flow": null,
            "grid_auto_rows": null,
            "grid_column": null,
            "grid_gap": null,
            "grid_row": null,
            "grid_template_areas": null,
            "grid_template_columns": null,
            "grid_template_rows": null,
            "height": null,
            "justify_content": null,
            "justify_items": null,
            "left": null,
            "margin": null,
            "max_height": null,
            "max_width": null,
            "min_height": null,
            "min_width": null,
            "object_fit": null,
            "object_position": null,
            "order": null,
            "overflow": null,
            "overflow_x": null,
            "overflow_y": null,
            "padding": null,
            "right": null,
            "top": null,
            "visibility": null,
            "width": null
          }
        },
        "066c0ef1282b40aa8abc023967572478": {
          "model_module": "@jupyter-widgets/controls",
          "model_name": "DescriptionStyleModel",
          "model_module_version": "1.5.0",
          "state": {
            "_model_module": "@jupyter-widgets/controls",
            "_model_module_version": "1.5.0",
            "_model_name": "DescriptionStyleModel",
            "_view_count": null,
            "_view_module": "@jupyter-widgets/base",
            "_view_module_version": "1.2.0",
            "_view_name": "StyleView",
            "description_width": ""
          }
        },
        "cac1358fff7441d3b9ccb35e5f23fd33": {
          "model_module": "@jupyter-widgets/base",
          "model_name": "LayoutModel",
          "model_module_version": "1.2.0",
          "state": {
            "_model_module": "@jupyter-widgets/base",
            "_model_module_version": "1.2.0",
            "_model_name": "LayoutModel",
            "_view_count": null,
            "_view_module": "@jupyter-widgets/base",
            "_view_module_version": "1.2.0",
            "_view_name": "LayoutView",
            "align_content": null,
            "align_items": null,
            "align_self": null,
            "border": null,
            "bottom": null,
            "display": null,
            "flex": null,
            "flex_flow": null,
            "grid_area": null,
            "grid_auto_columns": null,
            "grid_auto_flow": null,
            "grid_auto_rows": null,
            "grid_column": null,
            "grid_gap": null,
            "grid_row": null,
            "grid_template_areas": null,
            "grid_template_columns": null,
            "grid_template_rows": null,
            "height": null,
            "justify_content": null,
            "justify_items": null,
            "left": null,
            "margin": null,
            "max_height": null,
            "max_width": null,
            "min_height": null,
            "min_width": null,
            "object_fit": null,
            "object_position": null,
            "order": null,
            "overflow": null,
            "overflow_x": null,
            "overflow_y": null,
            "padding": null,
            "right": null,
            "top": null,
            "visibility": null,
            "width": null
          }
        },
        "5a84a0826b7546f28a8016cafeef7545": {
          "model_module": "@jupyter-widgets/controls",
          "model_name": "ProgressStyleModel",
          "model_module_version": "1.5.0",
          "state": {
            "_model_module": "@jupyter-widgets/controls",
            "_model_module_version": "1.5.0",
            "_model_name": "ProgressStyleModel",
            "_view_count": null,
            "_view_module": "@jupyter-widgets/base",
            "_view_module_version": "1.2.0",
            "_view_name": "StyleView",
            "bar_color": null,
            "description_width": ""
          }
        },
        "18e45ea043674b47b7b0f5f322d924a9": {
          "model_module": "@jupyter-widgets/base",
          "model_name": "LayoutModel",
          "model_module_version": "1.2.0",
          "state": {
            "_model_module": "@jupyter-widgets/base",
            "_model_module_version": "1.2.0",
            "_model_name": "LayoutModel",
            "_view_count": null,
            "_view_module": "@jupyter-widgets/base",
            "_view_module_version": "1.2.0",
            "_view_name": "LayoutView",
            "align_content": null,
            "align_items": null,
            "align_self": null,
            "border": null,
            "bottom": null,
            "display": null,
            "flex": null,
            "flex_flow": null,
            "grid_area": null,
            "grid_auto_columns": null,
            "grid_auto_flow": null,
            "grid_auto_rows": null,
            "grid_column": null,
            "grid_gap": null,
            "grid_row": null,
            "grid_template_areas": null,
            "grid_template_columns": null,
            "grid_template_rows": null,
            "height": null,
            "justify_content": null,
            "justify_items": null,
            "left": null,
            "margin": null,
            "max_height": null,
            "max_width": null,
            "min_height": null,
            "min_width": null,
            "object_fit": null,
            "object_position": null,
            "order": null,
            "overflow": null,
            "overflow_x": null,
            "overflow_y": null,
            "padding": null,
            "right": null,
            "top": null,
            "visibility": null,
            "width": null
          }
        },
        "455894b192e641dd89fab89dcba6b08f": {
          "model_module": "@jupyter-widgets/controls",
          "model_name": "DescriptionStyleModel",
          "model_module_version": "1.5.0",
          "state": {
            "_model_module": "@jupyter-widgets/controls",
            "_model_module_version": "1.5.0",
            "_model_name": "DescriptionStyleModel",
            "_view_count": null,
            "_view_module": "@jupyter-widgets/base",
            "_view_module_version": "1.2.0",
            "_view_name": "StyleView",
            "description_width": ""
          }
        },
        "a2523d4d59984fada63c6f93001e5882": {
          "model_module": "@jupyter-widgets/controls",
          "model_name": "HBoxModel",
          "model_module_version": "1.5.0",
          "state": {
            "_dom_classes": [],
            "_model_module": "@jupyter-widgets/controls",
            "_model_module_version": "1.5.0",
            "_model_name": "HBoxModel",
            "_view_count": null,
            "_view_module": "@jupyter-widgets/controls",
            "_view_module_version": "1.5.0",
            "_view_name": "HBoxView",
            "box_style": "",
            "children": [
              "IPY_MODEL_311617a6ef514f059864ba03280a1665",
              "IPY_MODEL_1027371071e44cc0981990480a231486",
              "IPY_MODEL_796a66f5a0094210962b88c53ff90ec2"
            ],
            "layout": "IPY_MODEL_b9bf866815b746be9f232587b7fa86d7"
          }
        },
        "311617a6ef514f059864ba03280a1665": {
          "model_module": "@jupyter-widgets/controls",
          "model_name": "HTMLModel",
          "model_module_version": "1.5.0",
          "state": {
            "_dom_classes": [],
            "_model_module": "@jupyter-widgets/controls",
            "_model_module_version": "1.5.0",
            "_model_name": "HTMLModel",
            "_view_count": null,
            "_view_module": "@jupyter-widgets/controls",
            "_view_module_version": "1.5.0",
            "_view_name": "HTMLView",
            "description": "",
            "description_tooltip": null,
            "layout": "IPY_MODEL_d24e963702f3446ba16e9efe12435837",
            "placeholder": "​",
            "style": "IPY_MODEL_3c1d8deed9104ae287be7e24d467b439",
            "value": "Epoch 1. Train Loss: 0.4735: 100%"
          }
        },
        "1027371071e44cc0981990480a231486": {
          "model_module": "@jupyter-widgets/controls",
          "model_name": "FloatProgressModel",
          "model_module_version": "1.5.0",
          "state": {
            "_dom_classes": [],
            "_model_module": "@jupyter-widgets/controls",
            "_model_module_version": "1.5.0",
            "_model_name": "FloatProgressModel",
            "_view_count": null,
            "_view_module": "@jupyter-widgets/controls",
            "_view_module_version": "1.5.0",
            "_view_name": "ProgressView",
            "bar_style": "success",
            "description": "",
            "description_tooltip": null,
            "layout": "IPY_MODEL_7611583947994d7597283f0c1204ae3b",
            "max": 1000,
            "min": 0,
            "orientation": "horizontal",
            "style": "IPY_MODEL_ea4bd569280f4b51ae7e443e0aad2699",
            "value": 1000
          }
        },
        "796a66f5a0094210962b88c53ff90ec2": {
          "model_module": "@jupyter-widgets/controls",
          "model_name": "HTMLModel",
          "model_module_version": "1.5.0",
          "state": {
            "_dom_classes": [],
            "_model_module": "@jupyter-widgets/controls",
            "_model_module_version": "1.5.0",
            "_model_name": "HTMLModel",
            "_view_count": null,
            "_view_module": "@jupyter-widgets/controls",
            "_view_module_version": "1.5.0",
            "_view_name": "HTMLView",
            "description": "",
            "description_tooltip": null,
            "layout": "IPY_MODEL_085a26d25e984e44a8eead5e3ea18f6c",
            "placeholder": "​",
            "style": "IPY_MODEL_9a2970bf736a4d11878deb5e2c3ef6b1",
            "value": " 1000/1000 [03:01&lt;00:00,  7.39it/s]"
          }
        },
        "b9bf866815b746be9f232587b7fa86d7": {
          "model_module": "@jupyter-widgets/base",
          "model_name": "LayoutModel",
          "model_module_version": "1.2.0",
          "state": {
            "_model_module": "@jupyter-widgets/base",
            "_model_module_version": "1.2.0",
            "_model_name": "LayoutModel",
            "_view_count": null,
            "_view_module": "@jupyter-widgets/base",
            "_view_module_version": "1.2.0",
            "_view_name": "LayoutView",
            "align_content": null,
            "align_items": null,
            "align_self": null,
            "border": null,
            "bottom": null,
            "display": null,
            "flex": null,
            "flex_flow": null,
            "grid_area": null,
            "grid_auto_columns": null,
            "grid_auto_flow": null,
            "grid_auto_rows": null,
            "grid_column": null,
            "grid_gap": null,
            "grid_row": null,
            "grid_template_areas": null,
            "grid_template_columns": null,
            "grid_template_rows": null,
            "height": null,
            "justify_content": null,
            "justify_items": null,
            "left": null,
            "margin": null,
            "max_height": null,
            "max_width": null,
            "min_height": null,
            "min_width": null,
            "object_fit": null,
            "object_position": null,
            "order": null,
            "overflow": null,
            "overflow_x": null,
            "overflow_y": null,
            "padding": null,
            "right": null,
            "top": null,
            "visibility": null,
            "width": null
          }
        },
        "d24e963702f3446ba16e9efe12435837": {
          "model_module": "@jupyter-widgets/base",
          "model_name": "LayoutModel",
          "model_module_version": "1.2.0",
          "state": {
            "_model_module": "@jupyter-widgets/base",
            "_model_module_version": "1.2.0",
            "_model_name": "LayoutModel",
            "_view_count": null,
            "_view_module": "@jupyter-widgets/base",
            "_view_module_version": "1.2.0",
            "_view_name": "LayoutView",
            "align_content": null,
            "align_items": null,
            "align_self": null,
            "border": null,
            "bottom": null,
            "display": null,
            "flex": null,
            "flex_flow": null,
            "grid_area": null,
            "grid_auto_columns": null,
            "grid_auto_flow": null,
            "grid_auto_rows": null,
            "grid_column": null,
            "grid_gap": null,
            "grid_row": null,
            "grid_template_areas": null,
            "grid_template_columns": null,
            "grid_template_rows": null,
            "height": null,
            "justify_content": null,
            "justify_items": null,
            "left": null,
            "margin": null,
            "max_height": null,
            "max_width": null,
            "min_height": null,
            "min_width": null,
            "object_fit": null,
            "object_position": null,
            "order": null,
            "overflow": null,
            "overflow_x": null,
            "overflow_y": null,
            "padding": null,
            "right": null,
            "top": null,
            "visibility": null,
            "width": null
          }
        },
        "3c1d8deed9104ae287be7e24d467b439": {
          "model_module": "@jupyter-widgets/controls",
          "model_name": "DescriptionStyleModel",
          "model_module_version": "1.5.0",
          "state": {
            "_model_module": "@jupyter-widgets/controls",
            "_model_module_version": "1.5.0",
            "_model_name": "DescriptionStyleModel",
            "_view_count": null,
            "_view_module": "@jupyter-widgets/base",
            "_view_module_version": "1.2.0",
            "_view_name": "StyleView",
            "description_width": ""
          }
        },
        "7611583947994d7597283f0c1204ae3b": {
          "model_module": "@jupyter-widgets/base",
          "model_name": "LayoutModel",
          "model_module_version": "1.2.0",
          "state": {
            "_model_module": "@jupyter-widgets/base",
            "_model_module_version": "1.2.0",
            "_model_name": "LayoutModel",
            "_view_count": null,
            "_view_module": "@jupyter-widgets/base",
            "_view_module_version": "1.2.0",
            "_view_name": "LayoutView",
            "align_content": null,
            "align_items": null,
            "align_self": null,
            "border": null,
            "bottom": null,
            "display": null,
            "flex": null,
            "flex_flow": null,
            "grid_area": null,
            "grid_auto_columns": null,
            "grid_auto_flow": null,
            "grid_auto_rows": null,
            "grid_column": null,
            "grid_gap": null,
            "grid_row": null,
            "grid_template_areas": null,
            "grid_template_columns": null,
            "grid_template_rows": null,
            "height": null,
            "justify_content": null,
            "justify_items": null,
            "left": null,
            "margin": null,
            "max_height": null,
            "max_width": null,
            "min_height": null,
            "min_width": null,
            "object_fit": null,
            "object_position": null,
            "order": null,
            "overflow": null,
            "overflow_x": null,
            "overflow_y": null,
            "padding": null,
            "right": null,
            "top": null,
            "visibility": null,
            "width": null
          }
        },
        "ea4bd569280f4b51ae7e443e0aad2699": {
          "model_module": "@jupyter-widgets/controls",
          "model_name": "ProgressStyleModel",
          "model_module_version": "1.5.0",
          "state": {
            "_model_module": "@jupyter-widgets/controls",
            "_model_module_version": "1.5.0",
            "_model_name": "ProgressStyleModel",
            "_view_count": null,
            "_view_module": "@jupyter-widgets/base",
            "_view_module_version": "1.2.0",
            "_view_name": "StyleView",
            "bar_color": null,
            "description_width": ""
          }
        },
        "085a26d25e984e44a8eead5e3ea18f6c": {
          "model_module": "@jupyter-widgets/base",
          "model_name": "LayoutModel",
          "model_module_version": "1.2.0",
          "state": {
            "_model_module": "@jupyter-widgets/base",
            "_model_module_version": "1.2.0",
            "_model_name": "LayoutModel",
            "_view_count": null,
            "_view_module": "@jupyter-widgets/base",
            "_view_module_version": "1.2.0",
            "_view_name": "LayoutView",
            "align_content": null,
            "align_items": null,
            "align_self": null,
            "border": null,
            "bottom": null,
            "display": null,
            "flex": null,
            "flex_flow": null,
            "grid_area": null,
            "grid_auto_columns": null,
            "grid_auto_flow": null,
            "grid_auto_rows": null,
            "grid_column": null,
            "grid_gap": null,
            "grid_row": null,
            "grid_template_areas": null,
            "grid_template_columns": null,
            "grid_template_rows": null,
            "height": null,
            "justify_content": null,
            "justify_items": null,
            "left": null,
            "margin": null,
            "max_height": null,
            "max_width": null,
            "min_height": null,
            "min_width": null,
            "object_fit": null,
            "object_position": null,
            "order": null,
            "overflow": null,
            "overflow_x": null,
            "overflow_y": null,
            "padding": null,
            "right": null,
            "top": null,
            "visibility": null,
            "width": null
          }
        },
        "9a2970bf736a4d11878deb5e2c3ef6b1": {
          "model_module": "@jupyter-widgets/controls",
          "model_name": "DescriptionStyleModel",
          "model_module_version": "1.5.0",
          "state": {
            "_model_module": "@jupyter-widgets/controls",
            "_model_module_version": "1.5.0",
            "_model_name": "DescriptionStyleModel",
            "_view_count": null,
            "_view_module": "@jupyter-widgets/base",
            "_view_module_version": "1.2.0",
            "_view_name": "StyleView",
            "description_width": ""
          }
        },
        "25a8b22c736a450a91192a50bea76c26": {
          "model_module": "@jupyter-widgets/controls",
          "model_name": "HBoxModel",
          "model_module_version": "1.5.0",
          "state": {
            "_dom_classes": [],
            "_model_module": "@jupyter-widgets/controls",
            "_model_module_version": "1.5.0",
            "_model_name": "HBoxModel",
            "_view_count": null,
            "_view_module": "@jupyter-widgets/controls",
            "_view_module_version": "1.5.0",
            "_view_name": "HBoxView",
            "box_style": "",
            "children": [
              "IPY_MODEL_90cfd3d52d8942c5ae67b931973e9e1b",
              "IPY_MODEL_23dfccde91974122831eac76fbd00e19",
              "IPY_MODEL_103008f17dc64678ab49d2e091e69242"
            ],
            "layout": "IPY_MODEL_bff961a4b0104b6bbba2d1bed598f2a2"
          }
        },
        "90cfd3d52d8942c5ae67b931973e9e1b": {
          "model_module": "@jupyter-widgets/controls",
          "model_name": "HTMLModel",
          "model_module_version": "1.5.0",
          "state": {
            "_dom_classes": [],
            "_model_module": "@jupyter-widgets/controls",
            "_model_module_version": "1.5.0",
            "_model_name": "HTMLModel",
            "_view_count": null,
            "_view_module": "@jupyter-widgets/controls",
            "_view_module_version": "1.5.0",
            "_view_name": "HTMLView",
            "description": "",
            "description_tooltip": null,
            "layout": "IPY_MODEL_0a34c5e89b95463386d6c1743502a4e9",
            "placeholder": "​",
            "style": "IPY_MODEL_40fadb5c88b946a6b2a99c534daaf6e3",
            "value": "Test Loss: 0.4937, Test Acc: 0.7549: 100%"
          }
        },
        "23dfccde91974122831eac76fbd00e19": {
          "model_module": "@jupyter-widgets/controls",
          "model_name": "FloatProgressModel",
          "model_module_version": "1.5.0",
          "state": {
            "_dom_classes": [],
            "_model_module": "@jupyter-widgets/controls",
            "_model_module_version": "1.5.0",
            "_model_name": "FloatProgressModel",
            "_view_count": null,
            "_view_module": "@jupyter-widgets/controls",
            "_view_module_version": "1.5.0",
            "_view_name": "ProgressView",
            "bar_style": "success",
            "description": "",
            "description_tooltip": null,
            "layout": "IPY_MODEL_3c1fc1c5be6740df80cb5bd21a8924b3",
            "max": 250,
            "min": 0,
            "orientation": "horizontal",
            "style": "IPY_MODEL_3f46d4839d354f66846f3de05396106c",
            "value": 250
          }
        },
        "103008f17dc64678ab49d2e091e69242": {
          "model_module": "@jupyter-widgets/controls",
          "model_name": "HTMLModel",
          "model_module_version": "1.5.0",
          "state": {
            "_dom_classes": [],
            "_model_module": "@jupyter-widgets/controls",
            "_model_module_version": "1.5.0",
            "_model_name": "HTMLModel",
            "_view_count": null,
            "_view_module": "@jupyter-widgets/controls",
            "_view_module_version": "1.5.0",
            "_view_name": "HTMLView",
            "description": "",
            "description_tooltip": null,
            "layout": "IPY_MODEL_4fcd7c230ee0452babc68a1fd1661eef",
            "placeholder": "​",
            "style": "IPY_MODEL_f4e1e73b868f49a2967bfbb885e74b4b",
            "value": " 250/250 [00:47&lt;00:00,  8.38it/s]"
          }
        },
        "bff961a4b0104b6bbba2d1bed598f2a2": {
          "model_module": "@jupyter-widgets/base",
          "model_name": "LayoutModel",
          "model_module_version": "1.2.0",
          "state": {
            "_model_module": "@jupyter-widgets/base",
            "_model_module_version": "1.2.0",
            "_model_name": "LayoutModel",
            "_view_count": null,
            "_view_module": "@jupyter-widgets/base",
            "_view_module_version": "1.2.0",
            "_view_name": "LayoutView",
            "align_content": null,
            "align_items": null,
            "align_self": null,
            "border": null,
            "bottom": null,
            "display": null,
            "flex": null,
            "flex_flow": null,
            "grid_area": null,
            "grid_auto_columns": null,
            "grid_auto_flow": null,
            "grid_auto_rows": null,
            "grid_column": null,
            "grid_gap": null,
            "grid_row": null,
            "grid_template_areas": null,
            "grid_template_columns": null,
            "grid_template_rows": null,
            "height": null,
            "justify_content": null,
            "justify_items": null,
            "left": null,
            "margin": null,
            "max_height": null,
            "max_width": null,
            "min_height": null,
            "min_width": null,
            "object_fit": null,
            "object_position": null,
            "order": null,
            "overflow": null,
            "overflow_x": null,
            "overflow_y": null,
            "padding": null,
            "right": null,
            "top": null,
            "visibility": null,
            "width": null
          }
        },
        "0a34c5e89b95463386d6c1743502a4e9": {
          "model_module": "@jupyter-widgets/base",
          "model_name": "LayoutModel",
          "model_module_version": "1.2.0",
          "state": {
            "_model_module": "@jupyter-widgets/base",
            "_model_module_version": "1.2.0",
            "_model_name": "LayoutModel",
            "_view_count": null,
            "_view_module": "@jupyter-widgets/base",
            "_view_module_version": "1.2.0",
            "_view_name": "LayoutView",
            "align_content": null,
            "align_items": null,
            "align_self": null,
            "border": null,
            "bottom": null,
            "display": null,
            "flex": null,
            "flex_flow": null,
            "grid_area": null,
            "grid_auto_columns": null,
            "grid_auto_flow": null,
            "grid_auto_rows": null,
            "grid_column": null,
            "grid_gap": null,
            "grid_row": null,
            "grid_template_areas": null,
            "grid_template_columns": null,
            "grid_template_rows": null,
            "height": null,
            "justify_content": null,
            "justify_items": null,
            "left": null,
            "margin": null,
            "max_height": null,
            "max_width": null,
            "min_height": null,
            "min_width": null,
            "object_fit": null,
            "object_position": null,
            "order": null,
            "overflow": null,
            "overflow_x": null,
            "overflow_y": null,
            "padding": null,
            "right": null,
            "top": null,
            "visibility": null,
            "width": null
          }
        },
        "40fadb5c88b946a6b2a99c534daaf6e3": {
          "model_module": "@jupyter-widgets/controls",
          "model_name": "DescriptionStyleModel",
          "model_module_version": "1.5.0",
          "state": {
            "_model_module": "@jupyter-widgets/controls",
            "_model_module_version": "1.5.0",
            "_model_name": "DescriptionStyleModel",
            "_view_count": null,
            "_view_module": "@jupyter-widgets/base",
            "_view_module_version": "1.2.0",
            "_view_name": "StyleView",
            "description_width": ""
          }
        },
        "3c1fc1c5be6740df80cb5bd21a8924b3": {
          "model_module": "@jupyter-widgets/base",
          "model_name": "LayoutModel",
          "model_module_version": "1.2.0",
          "state": {
            "_model_module": "@jupyter-widgets/base",
            "_model_module_version": "1.2.0",
            "_model_name": "LayoutModel",
            "_view_count": null,
            "_view_module": "@jupyter-widgets/base",
            "_view_module_version": "1.2.0",
            "_view_name": "LayoutView",
            "align_content": null,
            "align_items": null,
            "align_self": null,
            "border": null,
            "bottom": null,
            "display": null,
            "flex": null,
            "flex_flow": null,
            "grid_area": null,
            "grid_auto_columns": null,
            "grid_auto_flow": null,
            "grid_auto_rows": null,
            "grid_column": null,
            "grid_gap": null,
            "grid_row": null,
            "grid_template_areas": null,
            "grid_template_columns": null,
            "grid_template_rows": null,
            "height": null,
            "justify_content": null,
            "justify_items": null,
            "left": null,
            "margin": null,
            "max_height": null,
            "max_width": null,
            "min_height": null,
            "min_width": null,
            "object_fit": null,
            "object_position": null,
            "order": null,
            "overflow": null,
            "overflow_x": null,
            "overflow_y": null,
            "padding": null,
            "right": null,
            "top": null,
            "visibility": null,
            "width": null
          }
        },
        "3f46d4839d354f66846f3de05396106c": {
          "model_module": "@jupyter-widgets/controls",
          "model_name": "ProgressStyleModel",
          "model_module_version": "1.5.0",
          "state": {
            "_model_module": "@jupyter-widgets/controls",
            "_model_module_version": "1.5.0",
            "_model_name": "ProgressStyleModel",
            "_view_count": null,
            "_view_module": "@jupyter-widgets/base",
            "_view_module_version": "1.2.0",
            "_view_name": "StyleView",
            "bar_color": null,
            "description_width": ""
          }
        },
        "4fcd7c230ee0452babc68a1fd1661eef": {
          "model_module": "@jupyter-widgets/base",
          "model_name": "LayoutModel",
          "model_module_version": "1.2.0",
          "state": {
            "_model_module": "@jupyter-widgets/base",
            "_model_module_version": "1.2.0",
            "_model_name": "LayoutModel",
            "_view_count": null,
            "_view_module": "@jupyter-widgets/base",
            "_view_module_version": "1.2.0",
            "_view_name": "LayoutView",
            "align_content": null,
            "align_items": null,
            "align_self": null,
            "border": null,
            "bottom": null,
            "display": null,
            "flex": null,
            "flex_flow": null,
            "grid_area": null,
            "grid_auto_columns": null,
            "grid_auto_flow": null,
            "grid_auto_rows": null,
            "grid_column": null,
            "grid_gap": null,
            "grid_row": null,
            "grid_template_areas": null,
            "grid_template_columns": null,
            "grid_template_rows": null,
            "height": null,
            "justify_content": null,
            "justify_items": null,
            "left": null,
            "margin": null,
            "max_height": null,
            "max_width": null,
            "min_height": null,
            "min_width": null,
            "object_fit": null,
            "object_position": null,
            "order": null,
            "overflow": null,
            "overflow_x": null,
            "overflow_y": null,
            "padding": null,
            "right": null,
            "top": null,
            "visibility": null,
            "width": null
          }
        },
        "f4e1e73b868f49a2967bfbb885e74b4b": {
          "model_module": "@jupyter-widgets/controls",
          "model_name": "DescriptionStyleModel",
          "model_module_version": "1.5.0",
          "state": {
            "_model_module": "@jupyter-widgets/controls",
            "_model_module_version": "1.5.0",
            "_model_name": "DescriptionStyleModel",
            "_view_count": null,
            "_view_module": "@jupyter-widgets/base",
            "_view_module_version": "1.2.0",
            "_view_name": "StyleView",
            "description_width": ""
          }
        },
        "19a4e7a1f06d429dbf7e41845620a0ea": {
          "model_module": "@jupyter-widgets/controls",
          "model_name": "HBoxModel",
          "model_module_version": "1.5.0",
          "state": {
            "_dom_classes": [],
            "_model_module": "@jupyter-widgets/controls",
            "_model_module_version": "1.5.0",
            "_model_name": "HBoxModel",
            "_view_count": null,
            "_view_module": "@jupyter-widgets/controls",
            "_view_module_version": "1.5.0",
            "_view_name": "HBoxView",
            "box_style": "",
            "children": [
              "IPY_MODEL_56ed64c9871c4f83be6346ab783c54e5",
              "IPY_MODEL_4760b54968ff4f819975cac3433c64b9",
              "IPY_MODEL_0bbb17dbd5e347428917ee082da77bb8"
            ],
            "layout": "IPY_MODEL_d44bbf966b514be098bb0a5d7535d759"
          }
        },
        "56ed64c9871c4f83be6346ab783c54e5": {
          "model_module": "@jupyter-widgets/controls",
          "model_name": "HTMLModel",
          "model_module_version": "1.5.0",
          "state": {
            "_dom_classes": [],
            "_model_module": "@jupyter-widgets/controls",
            "_model_module_version": "1.5.0",
            "_model_name": "HTMLModel",
            "_view_count": null,
            "_view_module": "@jupyter-widgets/controls",
            "_view_module_version": "1.5.0",
            "_view_name": "HTMLView",
            "description": "",
            "description_tooltip": null,
            "layout": "IPY_MODEL_4d3fccc5a4c24debb9c355002bd5f2a0",
            "placeholder": "​",
            "style": "IPY_MODEL_57f2b5acca6841a98fe955ce7089370f",
            "value": "Epoch 2. Train Loss: 0.5163: 100%"
          }
        },
        "4760b54968ff4f819975cac3433c64b9": {
          "model_module": "@jupyter-widgets/controls",
          "model_name": "FloatProgressModel",
          "model_module_version": "1.5.0",
          "state": {
            "_dom_classes": [],
            "_model_module": "@jupyter-widgets/controls",
            "_model_module_version": "1.5.0",
            "_model_name": "FloatProgressModel",
            "_view_count": null,
            "_view_module": "@jupyter-widgets/controls",
            "_view_module_version": "1.5.0",
            "_view_name": "ProgressView",
            "bar_style": "success",
            "description": "",
            "description_tooltip": null,
            "layout": "IPY_MODEL_29bbeeaa316f47a384e418cd5c110a1c",
            "max": 1000,
            "min": 0,
            "orientation": "horizontal",
            "style": "IPY_MODEL_58adf43afb1940db9869895878129503",
            "value": 1000
          }
        },
        "0bbb17dbd5e347428917ee082da77bb8": {
          "model_module": "@jupyter-widgets/controls",
          "model_name": "HTMLModel",
          "model_module_version": "1.5.0",
          "state": {
            "_dom_classes": [],
            "_model_module": "@jupyter-widgets/controls",
            "_model_module_version": "1.5.0",
            "_model_name": "HTMLModel",
            "_view_count": null,
            "_view_module": "@jupyter-widgets/controls",
            "_view_module_version": "1.5.0",
            "_view_name": "HTMLView",
            "description": "",
            "description_tooltip": null,
            "layout": "IPY_MODEL_4eee558f7817442ba4d1cdc54f51ece1",
            "placeholder": "​",
            "style": "IPY_MODEL_e36f1589465a429394aeb9e6693fc337",
            "value": " 1000/1000 [03:00&lt;00:00,  7.97it/s]"
          }
        },
        "d44bbf966b514be098bb0a5d7535d759": {
          "model_module": "@jupyter-widgets/base",
          "model_name": "LayoutModel",
          "model_module_version": "1.2.0",
          "state": {
            "_model_module": "@jupyter-widgets/base",
            "_model_module_version": "1.2.0",
            "_model_name": "LayoutModel",
            "_view_count": null,
            "_view_module": "@jupyter-widgets/base",
            "_view_module_version": "1.2.0",
            "_view_name": "LayoutView",
            "align_content": null,
            "align_items": null,
            "align_self": null,
            "border": null,
            "bottom": null,
            "display": null,
            "flex": null,
            "flex_flow": null,
            "grid_area": null,
            "grid_auto_columns": null,
            "grid_auto_flow": null,
            "grid_auto_rows": null,
            "grid_column": null,
            "grid_gap": null,
            "grid_row": null,
            "grid_template_areas": null,
            "grid_template_columns": null,
            "grid_template_rows": null,
            "height": null,
            "justify_content": null,
            "justify_items": null,
            "left": null,
            "margin": null,
            "max_height": null,
            "max_width": null,
            "min_height": null,
            "min_width": null,
            "object_fit": null,
            "object_position": null,
            "order": null,
            "overflow": null,
            "overflow_x": null,
            "overflow_y": null,
            "padding": null,
            "right": null,
            "top": null,
            "visibility": null,
            "width": null
          }
        },
        "4d3fccc5a4c24debb9c355002bd5f2a0": {
          "model_module": "@jupyter-widgets/base",
          "model_name": "LayoutModel",
          "model_module_version": "1.2.0",
          "state": {
            "_model_module": "@jupyter-widgets/base",
            "_model_module_version": "1.2.0",
            "_model_name": "LayoutModel",
            "_view_count": null,
            "_view_module": "@jupyter-widgets/base",
            "_view_module_version": "1.2.0",
            "_view_name": "LayoutView",
            "align_content": null,
            "align_items": null,
            "align_self": null,
            "border": null,
            "bottom": null,
            "display": null,
            "flex": null,
            "flex_flow": null,
            "grid_area": null,
            "grid_auto_columns": null,
            "grid_auto_flow": null,
            "grid_auto_rows": null,
            "grid_column": null,
            "grid_gap": null,
            "grid_row": null,
            "grid_template_areas": null,
            "grid_template_columns": null,
            "grid_template_rows": null,
            "height": null,
            "justify_content": null,
            "justify_items": null,
            "left": null,
            "margin": null,
            "max_height": null,
            "max_width": null,
            "min_height": null,
            "min_width": null,
            "object_fit": null,
            "object_position": null,
            "order": null,
            "overflow": null,
            "overflow_x": null,
            "overflow_y": null,
            "padding": null,
            "right": null,
            "top": null,
            "visibility": null,
            "width": null
          }
        },
        "57f2b5acca6841a98fe955ce7089370f": {
          "model_module": "@jupyter-widgets/controls",
          "model_name": "DescriptionStyleModel",
          "model_module_version": "1.5.0",
          "state": {
            "_model_module": "@jupyter-widgets/controls",
            "_model_module_version": "1.5.0",
            "_model_name": "DescriptionStyleModel",
            "_view_count": null,
            "_view_module": "@jupyter-widgets/base",
            "_view_module_version": "1.2.0",
            "_view_name": "StyleView",
            "description_width": ""
          }
        },
        "29bbeeaa316f47a384e418cd5c110a1c": {
          "model_module": "@jupyter-widgets/base",
          "model_name": "LayoutModel",
          "model_module_version": "1.2.0",
          "state": {
            "_model_module": "@jupyter-widgets/base",
            "_model_module_version": "1.2.0",
            "_model_name": "LayoutModel",
            "_view_count": null,
            "_view_module": "@jupyter-widgets/base",
            "_view_module_version": "1.2.0",
            "_view_name": "LayoutView",
            "align_content": null,
            "align_items": null,
            "align_self": null,
            "border": null,
            "bottom": null,
            "display": null,
            "flex": null,
            "flex_flow": null,
            "grid_area": null,
            "grid_auto_columns": null,
            "grid_auto_flow": null,
            "grid_auto_rows": null,
            "grid_column": null,
            "grid_gap": null,
            "grid_row": null,
            "grid_template_areas": null,
            "grid_template_columns": null,
            "grid_template_rows": null,
            "height": null,
            "justify_content": null,
            "justify_items": null,
            "left": null,
            "margin": null,
            "max_height": null,
            "max_width": null,
            "min_height": null,
            "min_width": null,
            "object_fit": null,
            "object_position": null,
            "order": null,
            "overflow": null,
            "overflow_x": null,
            "overflow_y": null,
            "padding": null,
            "right": null,
            "top": null,
            "visibility": null,
            "width": null
          }
        },
        "58adf43afb1940db9869895878129503": {
          "model_module": "@jupyter-widgets/controls",
          "model_name": "ProgressStyleModel",
          "model_module_version": "1.5.0",
          "state": {
            "_model_module": "@jupyter-widgets/controls",
            "_model_module_version": "1.5.0",
            "_model_name": "ProgressStyleModel",
            "_view_count": null,
            "_view_module": "@jupyter-widgets/base",
            "_view_module_version": "1.2.0",
            "_view_name": "StyleView",
            "bar_color": null,
            "description_width": ""
          }
        },
        "4eee558f7817442ba4d1cdc54f51ece1": {
          "model_module": "@jupyter-widgets/base",
          "model_name": "LayoutModel",
          "model_module_version": "1.2.0",
          "state": {
            "_model_module": "@jupyter-widgets/base",
            "_model_module_version": "1.2.0",
            "_model_name": "LayoutModel",
            "_view_count": null,
            "_view_module": "@jupyter-widgets/base",
            "_view_module_version": "1.2.0",
            "_view_name": "LayoutView",
            "align_content": null,
            "align_items": null,
            "align_self": null,
            "border": null,
            "bottom": null,
            "display": null,
            "flex": null,
            "flex_flow": null,
            "grid_area": null,
            "grid_auto_columns": null,
            "grid_auto_flow": null,
            "grid_auto_rows": null,
            "grid_column": null,
            "grid_gap": null,
            "grid_row": null,
            "grid_template_areas": null,
            "grid_template_columns": null,
            "grid_template_rows": null,
            "height": null,
            "justify_content": null,
            "justify_items": null,
            "left": null,
            "margin": null,
            "max_height": null,
            "max_width": null,
            "min_height": null,
            "min_width": null,
            "object_fit": null,
            "object_position": null,
            "order": null,
            "overflow": null,
            "overflow_x": null,
            "overflow_y": null,
            "padding": null,
            "right": null,
            "top": null,
            "visibility": null,
            "width": null
          }
        },
        "e36f1589465a429394aeb9e6693fc337": {
          "model_module": "@jupyter-widgets/controls",
          "model_name": "DescriptionStyleModel",
          "model_module_version": "1.5.0",
          "state": {
            "_model_module": "@jupyter-widgets/controls",
            "_model_module_version": "1.5.0",
            "_model_name": "DescriptionStyleModel",
            "_view_count": null,
            "_view_module": "@jupyter-widgets/base",
            "_view_module_version": "1.2.0",
            "_view_name": "StyleView",
            "description_width": ""
          }
        },
        "bd9235f9e83d4878b944f396abdfa128": {
          "model_module": "@jupyter-widgets/controls",
          "model_name": "HBoxModel",
          "model_module_version": "1.5.0",
          "state": {
            "_dom_classes": [],
            "_model_module": "@jupyter-widgets/controls",
            "_model_module_version": "1.5.0",
            "_model_name": "HBoxModel",
            "_view_count": null,
            "_view_module": "@jupyter-widgets/controls",
            "_view_module_version": "1.5.0",
            "_view_name": "HBoxView",
            "box_style": "",
            "children": [
              "IPY_MODEL_146105b112a14b5fbaf3f492da2dfd2f",
              "IPY_MODEL_9cea2e82e5fc4844906ae6f4adca680a",
              "IPY_MODEL_40eab70e036141598a7af4f72026ed08"
            ],
            "layout": "IPY_MODEL_c134f03344d54bd9a56c05475a69ed34"
          }
        },
        "146105b112a14b5fbaf3f492da2dfd2f": {
          "model_module": "@jupyter-widgets/controls",
          "model_name": "HTMLModel",
          "model_module_version": "1.5.0",
          "state": {
            "_dom_classes": [],
            "_model_module": "@jupyter-widgets/controls",
            "_model_module_version": "1.5.0",
            "_model_name": "HTMLModel",
            "_view_count": null,
            "_view_module": "@jupyter-widgets/controls",
            "_view_module_version": "1.5.0",
            "_view_name": "HTMLView",
            "description": "",
            "description_tooltip": null,
            "layout": "IPY_MODEL_46693999c9644e4aa88540d24290363b",
            "placeholder": "​",
            "style": "IPY_MODEL_cd4881bbbefa403b8b93b03f6947c421",
            "value": "Test Loss: 0.4902, Test Acc: 0.7666: 100%"
          }
        },
        "9cea2e82e5fc4844906ae6f4adca680a": {
          "model_module": "@jupyter-widgets/controls",
          "model_name": "FloatProgressModel",
          "model_module_version": "1.5.0",
          "state": {
            "_dom_classes": [],
            "_model_module": "@jupyter-widgets/controls",
            "_model_module_version": "1.5.0",
            "_model_name": "FloatProgressModel",
            "_view_count": null,
            "_view_module": "@jupyter-widgets/controls",
            "_view_module_version": "1.5.0",
            "_view_name": "ProgressView",
            "bar_style": "success",
            "description": "",
            "description_tooltip": null,
            "layout": "IPY_MODEL_92ed1d34b60c4a70827ccb2523f540e4",
            "max": 250,
            "min": 0,
            "orientation": "horizontal",
            "style": "IPY_MODEL_2f3c7b35f7fe48e88ef46b48d2932d21",
            "value": 250
          }
        },
        "40eab70e036141598a7af4f72026ed08": {
          "model_module": "@jupyter-widgets/controls",
          "model_name": "HTMLModel",
          "model_module_version": "1.5.0",
          "state": {
            "_dom_classes": [],
            "_model_module": "@jupyter-widgets/controls",
            "_model_module_version": "1.5.0",
            "_model_name": "HTMLModel",
            "_view_count": null,
            "_view_module": "@jupyter-widgets/controls",
            "_view_module_version": "1.5.0",
            "_view_name": "HTMLView",
            "description": "",
            "description_tooltip": null,
            "layout": "IPY_MODEL_a0230884740f4e2da24a48eccb904a63",
            "placeholder": "​",
            "style": "IPY_MODEL_219f95f61ad24a1db18b04f0c2aa2223",
            "value": " 250/250 [00:46&lt;00:00,  8.49it/s]"
          }
        },
        "c134f03344d54bd9a56c05475a69ed34": {
          "model_module": "@jupyter-widgets/base",
          "model_name": "LayoutModel",
          "model_module_version": "1.2.0",
          "state": {
            "_model_module": "@jupyter-widgets/base",
            "_model_module_version": "1.2.0",
            "_model_name": "LayoutModel",
            "_view_count": null,
            "_view_module": "@jupyter-widgets/base",
            "_view_module_version": "1.2.0",
            "_view_name": "LayoutView",
            "align_content": null,
            "align_items": null,
            "align_self": null,
            "border": null,
            "bottom": null,
            "display": null,
            "flex": null,
            "flex_flow": null,
            "grid_area": null,
            "grid_auto_columns": null,
            "grid_auto_flow": null,
            "grid_auto_rows": null,
            "grid_column": null,
            "grid_gap": null,
            "grid_row": null,
            "grid_template_areas": null,
            "grid_template_columns": null,
            "grid_template_rows": null,
            "height": null,
            "justify_content": null,
            "justify_items": null,
            "left": null,
            "margin": null,
            "max_height": null,
            "max_width": null,
            "min_height": null,
            "min_width": null,
            "object_fit": null,
            "object_position": null,
            "order": null,
            "overflow": null,
            "overflow_x": null,
            "overflow_y": null,
            "padding": null,
            "right": null,
            "top": null,
            "visibility": null,
            "width": null
          }
        },
        "46693999c9644e4aa88540d24290363b": {
          "model_module": "@jupyter-widgets/base",
          "model_name": "LayoutModel",
          "model_module_version": "1.2.0",
          "state": {
            "_model_module": "@jupyter-widgets/base",
            "_model_module_version": "1.2.0",
            "_model_name": "LayoutModel",
            "_view_count": null,
            "_view_module": "@jupyter-widgets/base",
            "_view_module_version": "1.2.0",
            "_view_name": "LayoutView",
            "align_content": null,
            "align_items": null,
            "align_self": null,
            "border": null,
            "bottom": null,
            "display": null,
            "flex": null,
            "flex_flow": null,
            "grid_area": null,
            "grid_auto_columns": null,
            "grid_auto_flow": null,
            "grid_auto_rows": null,
            "grid_column": null,
            "grid_gap": null,
            "grid_row": null,
            "grid_template_areas": null,
            "grid_template_columns": null,
            "grid_template_rows": null,
            "height": null,
            "justify_content": null,
            "justify_items": null,
            "left": null,
            "margin": null,
            "max_height": null,
            "max_width": null,
            "min_height": null,
            "min_width": null,
            "object_fit": null,
            "object_position": null,
            "order": null,
            "overflow": null,
            "overflow_x": null,
            "overflow_y": null,
            "padding": null,
            "right": null,
            "top": null,
            "visibility": null,
            "width": null
          }
        },
        "cd4881bbbefa403b8b93b03f6947c421": {
          "model_module": "@jupyter-widgets/controls",
          "model_name": "DescriptionStyleModel",
          "model_module_version": "1.5.0",
          "state": {
            "_model_module": "@jupyter-widgets/controls",
            "_model_module_version": "1.5.0",
            "_model_name": "DescriptionStyleModel",
            "_view_count": null,
            "_view_module": "@jupyter-widgets/base",
            "_view_module_version": "1.2.0",
            "_view_name": "StyleView",
            "description_width": ""
          }
        },
        "92ed1d34b60c4a70827ccb2523f540e4": {
          "model_module": "@jupyter-widgets/base",
          "model_name": "LayoutModel",
          "model_module_version": "1.2.0",
          "state": {
            "_model_module": "@jupyter-widgets/base",
            "_model_module_version": "1.2.0",
            "_model_name": "LayoutModel",
            "_view_count": null,
            "_view_module": "@jupyter-widgets/base",
            "_view_module_version": "1.2.0",
            "_view_name": "LayoutView",
            "align_content": null,
            "align_items": null,
            "align_self": null,
            "border": null,
            "bottom": null,
            "display": null,
            "flex": null,
            "flex_flow": null,
            "grid_area": null,
            "grid_auto_columns": null,
            "grid_auto_flow": null,
            "grid_auto_rows": null,
            "grid_column": null,
            "grid_gap": null,
            "grid_row": null,
            "grid_template_areas": null,
            "grid_template_columns": null,
            "grid_template_rows": null,
            "height": null,
            "justify_content": null,
            "justify_items": null,
            "left": null,
            "margin": null,
            "max_height": null,
            "max_width": null,
            "min_height": null,
            "min_width": null,
            "object_fit": null,
            "object_position": null,
            "order": null,
            "overflow": null,
            "overflow_x": null,
            "overflow_y": null,
            "padding": null,
            "right": null,
            "top": null,
            "visibility": null,
            "width": null
          }
        },
        "2f3c7b35f7fe48e88ef46b48d2932d21": {
          "model_module": "@jupyter-widgets/controls",
          "model_name": "ProgressStyleModel",
          "model_module_version": "1.5.0",
          "state": {
            "_model_module": "@jupyter-widgets/controls",
            "_model_module_version": "1.5.0",
            "_model_name": "ProgressStyleModel",
            "_view_count": null,
            "_view_module": "@jupyter-widgets/base",
            "_view_module_version": "1.2.0",
            "_view_name": "StyleView",
            "bar_color": null,
            "description_width": ""
          }
        },
        "a0230884740f4e2da24a48eccb904a63": {
          "model_module": "@jupyter-widgets/base",
          "model_name": "LayoutModel",
          "model_module_version": "1.2.0",
          "state": {
            "_model_module": "@jupyter-widgets/base",
            "_model_module_version": "1.2.0",
            "_model_name": "LayoutModel",
            "_view_count": null,
            "_view_module": "@jupyter-widgets/base",
            "_view_module_version": "1.2.0",
            "_view_name": "LayoutView",
            "align_content": null,
            "align_items": null,
            "align_self": null,
            "border": null,
            "bottom": null,
            "display": null,
            "flex": null,
            "flex_flow": null,
            "grid_area": null,
            "grid_auto_columns": null,
            "grid_auto_flow": null,
            "grid_auto_rows": null,
            "grid_column": null,
            "grid_gap": null,
            "grid_row": null,
            "grid_template_areas": null,
            "grid_template_columns": null,
            "grid_template_rows": null,
            "height": null,
            "justify_content": null,
            "justify_items": null,
            "left": null,
            "margin": null,
            "max_height": null,
            "max_width": null,
            "min_height": null,
            "min_width": null,
            "object_fit": null,
            "object_position": null,
            "order": null,
            "overflow": null,
            "overflow_x": null,
            "overflow_y": null,
            "padding": null,
            "right": null,
            "top": null,
            "visibility": null,
            "width": null
          }
        },
        "219f95f61ad24a1db18b04f0c2aa2223": {
          "model_module": "@jupyter-widgets/controls",
          "model_name": "DescriptionStyleModel",
          "model_module_version": "1.5.0",
          "state": {
            "_model_module": "@jupyter-widgets/controls",
            "_model_module_version": "1.5.0",
            "_model_name": "DescriptionStyleModel",
            "_view_count": null,
            "_view_module": "@jupyter-widgets/base",
            "_view_module_version": "1.2.0",
            "_view_name": "StyleView",
            "description_width": ""
          }
        },
        "0c8e55ef4354444697c83e50d25d0a5c": {
          "model_module": "@jupyter-widgets/controls",
          "model_name": "HBoxModel",
          "model_module_version": "1.5.0",
          "state": {
            "_dom_classes": [],
            "_model_module": "@jupyter-widgets/controls",
            "_model_module_version": "1.5.0",
            "_model_name": "HBoxModel",
            "_view_count": null,
            "_view_module": "@jupyter-widgets/controls",
            "_view_module_version": "1.5.0",
            "_view_name": "HBoxView",
            "box_style": "",
            "children": [
              "IPY_MODEL_7c756a28bd44484e8ffaaeb725ef62ca",
              "IPY_MODEL_9bb8bcf5ac4546d1b65a2b9d7864d5ba",
              "IPY_MODEL_98b4d16efae64fa5b6ab2cba5efe22bc"
            ],
            "layout": "IPY_MODEL_9195fef1c4644f5e9ee9c9e4e9d8a37e"
          }
        },
        "7c756a28bd44484e8ffaaeb725ef62ca": {
          "model_module": "@jupyter-widgets/controls",
          "model_name": "HTMLModel",
          "model_module_version": "1.5.0",
          "state": {
            "_dom_classes": [],
            "_model_module": "@jupyter-widgets/controls",
            "_model_module_version": "1.5.0",
            "_model_name": "HTMLModel",
            "_view_count": null,
            "_view_module": "@jupyter-widgets/controls",
            "_view_module_version": "1.5.0",
            "_view_name": "HTMLView",
            "description": "",
            "description_tooltip": null,
            "layout": "IPY_MODEL_77cebf78cea24689a3b47bbc2b38ee4e",
            "placeholder": "​",
            "style": "IPY_MODEL_0ef8bfb5fe784b5a8969a5bd7e3c2154",
            "value": "Test Loss: 0.5163, Test Acc: 0.7207: 100%"
          }
        },
        "9bb8bcf5ac4546d1b65a2b9d7864d5ba": {
          "model_module": "@jupyter-widgets/controls",
          "model_name": "FloatProgressModel",
          "model_module_version": "1.5.0",
          "state": {
            "_dom_classes": [],
            "_model_module": "@jupyter-widgets/controls",
            "_model_module_version": "1.5.0",
            "_model_name": "FloatProgressModel",
            "_view_count": null,
            "_view_module": "@jupyter-widgets/controls",
            "_view_module_version": "1.5.0",
            "_view_name": "ProgressView",
            "bar_style": "success",
            "description": "",
            "description_tooltip": null,
            "layout": "IPY_MODEL_e4da1fe5562345c78e3a8c43054d0f36",
            "max": 313,
            "min": 0,
            "orientation": "horizontal",
            "style": "IPY_MODEL_9d3eb74d402b431395b9e816a72ae854",
            "value": 313
          }
        },
        "98b4d16efae64fa5b6ab2cba5efe22bc": {
          "model_module": "@jupyter-widgets/controls",
          "model_name": "HTMLModel",
          "model_module_version": "1.5.0",
          "state": {
            "_dom_classes": [],
            "_model_module": "@jupyter-widgets/controls",
            "_model_module_version": "1.5.0",
            "_model_name": "HTMLModel",
            "_view_count": null,
            "_view_module": "@jupyter-widgets/controls",
            "_view_module_version": "1.5.0",
            "_view_name": "HTMLView",
            "description": "",
            "description_tooltip": null,
            "layout": "IPY_MODEL_a6b8213337f449e9b8c58c400de3daed",
            "placeholder": "​",
            "style": "IPY_MODEL_7ab45d74223647b6a20e2ae4ae121dc2",
            "value": " 313/313 [00:57&lt;00:00,  7.90it/s]"
          }
        },
        "9195fef1c4644f5e9ee9c9e4e9d8a37e": {
          "model_module": "@jupyter-widgets/base",
          "model_name": "LayoutModel",
          "model_module_version": "1.2.0",
          "state": {
            "_model_module": "@jupyter-widgets/base",
            "_model_module_version": "1.2.0",
            "_model_name": "LayoutModel",
            "_view_count": null,
            "_view_module": "@jupyter-widgets/base",
            "_view_module_version": "1.2.0",
            "_view_name": "LayoutView",
            "align_content": null,
            "align_items": null,
            "align_self": null,
            "border": null,
            "bottom": null,
            "display": null,
            "flex": null,
            "flex_flow": null,
            "grid_area": null,
            "grid_auto_columns": null,
            "grid_auto_flow": null,
            "grid_auto_rows": null,
            "grid_column": null,
            "grid_gap": null,
            "grid_row": null,
            "grid_template_areas": null,
            "grid_template_columns": null,
            "grid_template_rows": null,
            "height": null,
            "justify_content": null,
            "justify_items": null,
            "left": null,
            "margin": null,
            "max_height": null,
            "max_width": null,
            "min_height": null,
            "min_width": null,
            "object_fit": null,
            "object_position": null,
            "order": null,
            "overflow": null,
            "overflow_x": null,
            "overflow_y": null,
            "padding": null,
            "right": null,
            "top": null,
            "visibility": null,
            "width": null
          }
        },
        "77cebf78cea24689a3b47bbc2b38ee4e": {
          "model_module": "@jupyter-widgets/base",
          "model_name": "LayoutModel",
          "model_module_version": "1.2.0",
          "state": {
            "_model_module": "@jupyter-widgets/base",
            "_model_module_version": "1.2.0",
            "_model_name": "LayoutModel",
            "_view_count": null,
            "_view_module": "@jupyter-widgets/base",
            "_view_module_version": "1.2.0",
            "_view_name": "LayoutView",
            "align_content": null,
            "align_items": null,
            "align_self": null,
            "border": null,
            "bottom": null,
            "display": null,
            "flex": null,
            "flex_flow": null,
            "grid_area": null,
            "grid_auto_columns": null,
            "grid_auto_flow": null,
            "grid_auto_rows": null,
            "grid_column": null,
            "grid_gap": null,
            "grid_row": null,
            "grid_template_areas": null,
            "grid_template_columns": null,
            "grid_template_rows": null,
            "height": null,
            "justify_content": null,
            "justify_items": null,
            "left": null,
            "margin": null,
            "max_height": null,
            "max_width": null,
            "min_height": null,
            "min_width": null,
            "object_fit": null,
            "object_position": null,
            "order": null,
            "overflow": null,
            "overflow_x": null,
            "overflow_y": null,
            "padding": null,
            "right": null,
            "top": null,
            "visibility": null,
            "width": null
          }
        },
        "0ef8bfb5fe784b5a8969a5bd7e3c2154": {
          "model_module": "@jupyter-widgets/controls",
          "model_name": "DescriptionStyleModel",
          "model_module_version": "1.5.0",
          "state": {
            "_model_module": "@jupyter-widgets/controls",
            "_model_module_version": "1.5.0",
            "_model_name": "DescriptionStyleModel",
            "_view_count": null,
            "_view_module": "@jupyter-widgets/base",
            "_view_module_version": "1.2.0",
            "_view_name": "StyleView",
            "description_width": ""
          }
        },
        "e4da1fe5562345c78e3a8c43054d0f36": {
          "model_module": "@jupyter-widgets/base",
          "model_name": "LayoutModel",
          "model_module_version": "1.2.0",
          "state": {
            "_model_module": "@jupyter-widgets/base",
            "_model_module_version": "1.2.0",
            "_model_name": "LayoutModel",
            "_view_count": null,
            "_view_module": "@jupyter-widgets/base",
            "_view_module_version": "1.2.0",
            "_view_name": "LayoutView",
            "align_content": null,
            "align_items": null,
            "align_self": null,
            "border": null,
            "bottom": null,
            "display": null,
            "flex": null,
            "flex_flow": null,
            "grid_area": null,
            "grid_auto_columns": null,
            "grid_auto_flow": null,
            "grid_auto_rows": null,
            "grid_column": null,
            "grid_gap": null,
            "grid_row": null,
            "grid_template_areas": null,
            "grid_template_columns": null,
            "grid_template_rows": null,
            "height": null,
            "justify_content": null,
            "justify_items": null,
            "left": null,
            "margin": null,
            "max_height": null,
            "max_width": null,
            "min_height": null,
            "min_width": null,
            "object_fit": null,
            "object_position": null,
            "order": null,
            "overflow": null,
            "overflow_x": null,
            "overflow_y": null,
            "padding": null,
            "right": null,
            "top": null,
            "visibility": null,
            "width": null
          }
        },
        "9d3eb74d402b431395b9e816a72ae854": {
          "model_module": "@jupyter-widgets/controls",
          "model_name": "ProgressStyleModel",
          "model_module_version": "1.5.0",
          "state": {
            "_model_module": "@jupyter-widgets/controls",
            "_model_module_version": "1.5.0",
            "_model_name": "ProgressStyleModel",
            "_view_count": null,
            "_view_module": "@jupyter-widgets/base",
            "_view_module_version": "1.2.0",
            "_view_name": "StyleView",
            "bar_color": null,
            "description_width": ""
          }
        },
        "a6b8213337f449e9b8c58c400de3daed": {
          "model_module": "@jupyter-widgets/base",
          "model_name": "LayoutModel",
          "model_module_version": "1.2.0",
          "state": {
            "_model_module": "@jupyter-widgets/base",
            "_model_module_version": "1.2.0",
            "_model_name": "LayoutModel",
            "_view_count": null,
            "_view_module": "@jupyter-widgets/base",
            "_view_module_version": "1.2.0",
            "_view_name": "LayoutView",
            "align_content": null,
            "align_items": null,
            "align_self": null,
            "border": null,
            "bottom": null,
            "display": null,
            "flex": null,
            "flex_flow": null,
            "grid_area": null,
            "grid_auto_columns": null,
            "grid_auto_flow": null,
            "grid_auto_rows": null,
            "grid_column": null,
            "grid_gap": null,
            "grid_row": null,
            "grid_template_areas": null,
            "grid_template_columns": null,
            "grid_template_rows": null,
            "height": null,
            "justify_content": null,
            "justify_items": null,
            "left": null,
            "margin": null,
            "max_height": null,
            "max_width": null,
            "min_height": null,
            "min_width": null,
            "object_fit": null,
            "object_position": null,
            "order": null,
            "overflow": null,
            "overflow_x": null,
            "overflow_y": null,
            "padding": null,
            "right": null,
            "top": null,
            "visibility": null,
            "width": null
          }
        },
        "7ab45d74223647b6a20e2ae4ae121dc2": {
          "model_module": "@jupyter-widgets/controls",
          "model_name": "DescriptionStyleModel",
          "model_module_version": "1.5.0",
          "state": {
            "_model_module": "@jupyter-widgets/controls",
            "_model_module_version": "1.5.0",
            "_model_name": "DescriptionStyleModel",
            "_view_count": null,
            "_view_module": "@jupyter-widgets/base",
            "_view_module_version": "1.2.0",
            "_view_name": "StyleView",
            "description_width": ""
          }
        }
      }
    }
  },
  "cells": [
    {
      "cell_type": "markdown",
      "source": [
        "#Embeddings\n",
        "Привет! В этом домашнем задании мы с помощью эмбеддингов решим задачу семантической классификации твитов.\n",
        "\n",
        "Для этого мы воспользуемся предобученными эмбеддингами word2vec.\n",
        "\n",
        "Для начала скачаем датасет для семантической классификации твитов:\n",
        "\n"
      ],
      "metadata": {
        "id": "EgAiwoFdxkMx"
      }
    },
    {
      "cell_type": "code",
      "source": [
        "!gdown https://drive.google.com/uc?id=1eE1FiUkXkcbw0McId4i7qY-L8hH-_Qph&export=download\n",
        "!unzip archive.zip"
      ],
      "metadata": {
        "colab": {
          "base_uri": "https://localhost:8080/"
        },
        "id": "kM-PpLL9xm7_",
        "outputId": "32308ca2-b052-4f86-ae00-ff8d700cfff5"
      },
      "execution_count": null,
      "outputs": [
        {
          "output_type": "stream",
          "name": "stdout",
          "text": [
            "Access denied with the following error:\n",
            "\n",
            " \tCannot retrieve the public link of the file. You may need to change\n",
            "\tthe permission to 'Anyone with the link', or have had many accesses. \n",
            "\n",
            "You may still be able to access the file from the browser:\n",
            "\n",
            "\t https://drive.google.com/uc?id=1eE1FiUkXkcbw0McId4i7qY-L8hH-_Qph \n",
            "\n",
            "unzip:  cannot find or open archive.zip, archive.zip.zip or archive.zip.ZIP.\n"
          ]
        }
      ]
    },
    {
      "cell_type": "code",
      "source": [
        "from google.colab import drive\n",
        "drive.mount('/content/drive')"
      ],
      "metadata": {
        "colab": {
          "base_uri": "https://localhost:8080/"
        },
        "id": "WNhxT0k4yopR",
        "outputId": "48ce3054-c1c8-4431-832f-799950b57bc5"
      },
      "execution_count": null,
      "outputs": [
        {
          "output_type": "stream",
          "name": "stdout",
          "text": [
            "Mounted at /content/drive\n"
          ]
        }
      ]
    },
    {
      "cell_type": "code",
      "source": [
        "!unzip /content/drive/MyDrive/hw_embeddings.zip"
      ],
      "metadata": {
        "colab": {
          "base_uri": "https://localhost:8080/"
        },
        "id": "w5hDnF84xp3_",
        "outputId": "e7c415de-529f-4ef1-e8de-1ef74ab1a3c8"
      },
      "execution_count": null,
      "outputs": [
        {
          "output_type": "stream",
          "name": "stdout",
          "text": [
            "Archive:  /content/drive/MyDrive/hw_embeddings.zip\n",
            "  inflating: training.1600000.processed.noemoticon.csv  \n"
          ]
        }
      ]
    },
    {
      "cell_type": "markdown",
      "source": [
        "Импортируем нужные библиотеки:"
      ],
      "metadata": {
        "id": "iZChDJVDzU1a"
      }
    },
    {
      "cell_type": "code",
      "source": [
        "import math\n",
        "import random\n",
        "import string\n",
        "\n",
        "import numpy as np\n",
        "import pandas as pd\n",
        "import seaborn as sns\n",
        "\n",
        "import torch\n",
        "import torch.nn as nn\n",
        "import nltk\n",
        "import gensim\n",
        "import gensim.downloader as api\n",
        "\n",
        "%matplotlib inline"
      ],
      "metadata": {
        "id": "w13zoBgBzPz2"
      },
      "execution_count": null,
      "outputs": []
    },
    {
      "cell_type": "code",
      "source": [
        "import warnings\n",
        "warnings.filterwarnings('ignore')"
      ],
      "metadata": {
        "id": "VJvxAtNBzZGg"
      },
      "execution_count": null,
      "outputs": []
    },
    {
      "cell_type": "code",
      "source": [
        "random.seed(42)\n",
        "np.random.seed(42)\n",
        "torch.random.manual_seed(42)\n",
        "torch.cuda.random.manual_seed(42)\n",
        "torch.cuda.random.manual_seed_all(42)\n",
        "\n",
        "device = \"cuda\" if torch.cuda.is_available() else \"cpu\""
      ],
      "metadata": {
        "id": "0twhptBSzeLH"
      },
      "execution_count": null,
      "outputs": []
    },
    {
      "cell_type": "code",
      "source": [
        "device"
      ],
      "metadata": {
        "colab": {
          "base_uri": "https://localhost:8080/",
          "height": 36
        },
        "id": "Z51KCuNJzhwP",
        "outputId": "d2830336-a4bd-4529-888e-2bcb567bf398"
      },
      "execution_count": null,
      "outputs": [
        {
          "output_type": "execute_result",
          "data": {
            "text/plain": [
              "'cuda'"
            ],
            "application/vnd.google.colaboratory.intrinsic+json": {
              "type": "string"
            }
          },
          "metadata": {},
          "execution_count": 8
        }
      ]
    },
    {
      "cell_type": "code",
      "source": [
        "data = pd.read_csv(\"training.1600000.processed.noemoticon.csv\", encoding='latin', header=None,\n",
        "                   names=['emotion', 'id', 'date', 'flag', 'user', 'text'])"
      ],
      "metadata": {
        "id": "bmsI0DX7zihf"
      },
      "execution_count": null,
      "outputs": []
    },
    {
      "cell_type": "markdown",
      "source": [
        "Посмотрим на данные:"
      ],
      "metadata": {
        "id": "E8qBxHYD0DL7"
      }
    },
    {
      "cell_type": "code",
      "source": [
        "data.head()"
      ],
      "metadata": {
        "colab": {
          "base_uri": "https://localhost:8080/",
          "height": 206
        },
        "id": "eJouygSv0Dry",
        "outputId": "6c3250c2-daff-495e-9b42-846234f25c29"
      },
      "execution_count": null,
      "outputs": [
        {
          "output_type": "execute_result",
          "data": {
            "text/plain": [
              "   emotion          id                          date      flag  \\\n",
              "0        0  1467810369  Mon Apr 06 22:19:45 PDT 2009  NO_QUERY   \n",
              "1        0  1467810672  Mon Apr 06 22:19:49 PDT 2009  NO_QUERY   \n",
              "2        0  1467810917  Mon Apr 06 22:19:53 PDT 2009  NO_QUERY   \n",
              "3        0  1467811184  Mon Apr 06 22:19:57 PDT 2009  NO_QUERY   \n",
              "4        0  1467811193  Mon Apr 06 22:19:57 PDT 2009  NO_QUERY   \n",
              "\n",
              "              user                                               text  \n",
              "0  _TheSpecialOne_  @switchfoot http://twitpic.com/2y1zl - Awww, t...  \n",
              "1    scotthamilton  is upset that he can't update his Facebook by ...  \n",
              "2         mattycus  @Kenichan I dived many times for the ball. Man...  \n",
              "3          ElleCTF    my whole body feels itchy and like its on fire   \n",
              "4           Karoli  @nationwideclass no, it's not behaving at all....  "
            ],
            "text/html": [
              "\n",
              "  <div id=\"df-c18c512c-1208-446e-97ed-a6e1490d85c7\">\n",
              "    <div class=\"colab-df-container\">\n",
              "      <div>\n",
              "<style scoped>\n",
              "    .dataframe tbody tr th:only-of-type {\n",
              "        vertical-align: middle;\n",
              "    }\n",
              "\n",
              "    .dataframe tbody tr th {\n",
              "        vertical-align: top;\n",
              "    }\n",
              "\n",
              "    .dataframe thead th {\n",
              "        text-align: right;\n",
              "    }\n",
              "</style>\n",
              "<table border=\"1\" class=\"dataframe\">\n",
              "  <thead>\n",
              "    <tr style=\"text-align: right;\">\n",
              "      <th></th>\n",
              "      <th>emotion</th>\n",
              "      <th>id</th>\n",
              "      <th>date</th>\n",
              "      <th>flag</th>\n",
              "      <th>user</th>\n",
              "      <th>text</th>\n",
              "    </tr>\n",
              "  </thead>\n",
              "  <tbody>\n",
              "    <tr>\n",
              "      <th>0</th>\n",
              "      <td>0</td>\n",
              "      <td>1467810369</td>\n",
              "      <td>Mon Apr 06 22:19:45 PDT 2009</td>\n",
              "      <td>NO_QUERY</td>\n",
              "      <td>_TheSpecialOne_</td>\n",
              "      <td>@switchfoot http://twitpic.com/2y1zl - Awww, t...</td>\n",
              "    </tr>\n",
              "    <tr>\n",
              "      <th>1</th>\n",
              "      <td>0</td>\n",
              "      <td>1467810672</td>\n",
              "      <td>Mon Apr 06 22:19:49 PDT 2009</td>\n",
              "      <td>NO_QUERY</td>\n",
              "      <td>scotthamilton</td>\n",
              "      <td>is upset that he can't update his Facebook by ...</td>\n",
              "    </tr>\n",
              "    <tr>\n",
              "      <th>2</th>\n",
              "      <td>0</td>\n",
              "      <td>1467810917</td>\n",
              "      <td>Mon Apr 06 22:19:53 PDT 2009</td>\n",
              "      <td>NO_QUERY</td>\n",
              "      <td>mattycus</td>\n",
              "      <td>@Kenichan I dived many times for the ball. Man...</td>\n",
              "    </tr>\n",
              "    <tr>\n",
              "      <th>3</th>\n",
              "      <td>0</td>\n",
              "      <td>1467811184</td>\n",
              "      <td>Mon Apr 06 22:19:57 PDT 2009</td>\n",
              "      <td>NO_QUERY</td>\n",
              "      <td>ElleCTF</td>\n",
              "      <td>my whole body feels itchy and like its on fire</td>\n",
              "    </tr>\n",
              "    <tr>\n",
              "      <th>4</th>\n",
              "      <td>0</td>\n",
              "      <td>1467811193</td>\n",
              "      <td>Mon Apr 06 22:19:57 PDT 2009</td>\n",
              "      <td>NO_QUERY</td>\n",
              "      <td>Karoli</td>\n",
              "      <td>@nationwideclass no, it's not behaving at all....</td>\n",
              "    </tr>\n",
              "  </tbody>\n",
              "</table>\n",
              "</div>\n",
              "      <button class=\"colab-df-convert\" onclick=\"convertToInteractive('df-c18c512c-1208-446e-97ed-a6e1490d85c7')\"\n",
              "              title=\"Convert this dataframe to an interactive table.\"\n",
              "              style=\"display:none;\">\n",
              "        \n",
              "  <svg xmlns=\"http://www.w3.org/2000/svg\" height=\"24px\"viewBox=\"0 0 24 24\"\n",
              "       width=\"24px\">\n",
              "    <path d=\"M0 0h24v24H0V0z\" fill=\"none\"/>\n",
              "    <path d=\"M18.56 5.44l.94 2.06.94-2.06 2.06-.94-2.06-.94-.94-2.06-.94 2.06-2.06.94zm-11 1L8.5 8.5l.94-2.06 2.06-.94-2.06-.94L8.5 2.5l-.94 2.06-2.06.94zm10 10l.94 2.06.94-2.06 2.06-.94-2.06-.94-.94-2.06-.94 2.06-2.06.94z\"/><path d=\"M17.41 7.96l-1.37-1.37c-.4-.4-.92-.59-1.43-.59-.52 0-1.04.2-1.43.59L10.3 9.45l-7.72 7.72c-.78.78-.78 2.05 0 2.83L4 21.41c.39.39.9.59 1.41.59.51 0 1.02-.2 1.41-.59l7.78-7.78 2.81-2.81c.8-.78.8-2.07 0-2.86zM5.41 20L4 18.59l7.72-7.72 1.47 1.35L5.41 20z\"/>\n",
              "  </svg>\n",
              "      </button>\n",
              "      \n",
              "  <style>\n",
              "    .colab-df-container {\n",
              "      display:flex;\n",
              "      flex-wrap:wrap;\n",
              "      gap: 12px;\n",
              "    }\n",
              "\n",
              "    .colab-df-convert {\n",
              "      background-color: #E8F0FE;\n",
              "      border: none;\n",
              "      border-radius: 50%;\n",
              "      cursor: pointer;\n",
              "      display: none;\n",
              "      fill: #1967D2;\n",
              "      height: 32px;\n",
              "      padding: 0 0 0 0;\n",
              "      width: 32px;\n",
              "    }\n",
              "\n",
              "    .colab-df-convert:hover {\n",
              "      background-color: #E2EBFA;\n",
              "      box-shadow: 0px 1px 2px rgba(60, 64, 67, 0.3), 0px 1px 3px 1px rgba(60, 64, 67, 0.15);\n",
              "      fill: #174EA6;\n",
              "    }\n",
              "\n",
              "    [theme=dark] .colab-df-convert {\n",
              "      background-color: #3B4455;\n",
              "      fill: #D2E3FC;\n",
              "    }\n",
              "\n",
              "    [theme=dark] .colab-df-convert:hover {\n",
              "      background-color: #434B5C;\n",
              "      box-shadow: 0px 1px 3px 1px rgba(0, 0, 0, 0.15);\n",
              "      filter: drop-shadow(0px 1px 2px rgba(0, 0, 0, 0.3));\n",
              "      fill: #FFFFFF;\n",
              "    }\n",
              "  </style>\n",
              "\n",
              "      <script>\n",
              "        const buttonEl =\n",
              "          document.querySelector('#df-c18c512c-1208-446e-97ed-a6e1490d85c7 button.colab-df-convert');\n",
              "        buttonEl.style.display =\n",
              "          google.colab.kernel.accessAllowed ? 'block' : 'none';\n",
              "\n",
              "        async function convertToInteractive(key) {\n",
              "          const element = document.querySelector('#df-c18c512c-1208-446e-97ed-a6e1490d85c7');\n",
              "          const dataTable =\n",
              "            await google.colab.kernel.invokeFunction('convertToInteractive',\n",
              "                                                     [key], {});\n",
              "          if (!dataTable) return;\n",
              "\n",
              "          const docLinkHtml = 'Like what you see? Visit the ' +\n",
              "            '<a target=\"_blank\" href=https://colab.research.google.com/notebooks/data_table.ipynb>data table notebook</a>'\n",
              "            + ' to learn more about interactive tables.';\n",
              "          element.innerHTML = '';\n",
              "          dataTable['output_type'] = 'display_data';\n",
              "          await google.colab.output.renderOutput(dataTable, element);\n",
              "          const docLink = document.createElement('div');\n",
              "          docLink.innerHTML = docLinkHtml;\n",
              "          element.appendChild(docLink);\n",
              "        }\n",
              "      </script>\n",
              "    </div>\n",
              "  </div>\n",
              "  "
            ]
          },
          "metadata": {},
          "execution_count": 24
        }
      ]
    },
    {
      "cell_type": "code",
      "source": [
        "data.shape"
      ],
      "metadata": {
        "colab": {
          "base_uri": "https://localhost:8080/"
        },
        "id": "U9SpCnJH0MAg",
        "outputId": "2bf704f8-5ebf-4003-a8ea-7c0c01e71458"
      },
      "execution_count": null,
      "outputs": [
        {
          "output_type": "execute_result",
          "data": {
            "text/plain": [
              "(1600000, 6)"
            ]
          },
          "metadata": {},
          "execution_count": 25
        }
      ]
    },
    {
      "cell_type": "code",
      "source": [
        "data.sample(10)"
      ],
      "metadata": {
        "colab": {
          "base_uri": "https://localhost:8080/",
          "height": 363
        },
        "id": "ftUoDf7L0SC-",
        "outputId": "48139101-daea-428a-f85d-fdd83163011a"
      },
      "execution_count": null,
      "outputs": [
        {
          "output_type": "execute_result",
          "data": {
            "text/plain": [
              "         emotion          id                          date      flag  \\\n",
              "541200         0  2200003196  Tue Jun 16 18:18:12 PDT 2009  NO_QUERY   \n",
              "750            0  1467998485  Mon Apr 06 23:11:14 PDT 2009  NO_QUERY   \n",
              "766711         0  2300048954  Tue Jun 23 13:40:11 PDT 2009  NO_QUERY   \n",
              "285055         0  1993474027  Mon Jun 01 10:26:07 PDT 2009  NO_QUERY   \n",
              "705995         0  2256550904  Sat Jun 20 12:56:51 PDT 2009  NO_QUERY   \n",
              "379611         0  2052380495  Sat Jun 06 00:32:16 PDT 2009  NO_QUERY   \n",
              "1189018        4  1983449090  Sun May 31 13:10:36 PDT 2009  NO_QUERY   \n",
              "667030         0  2245479748  Fri Jun 19 16:11:29 PDT 2009  NO_QUERY   \n",
              "93541          0  1770705699  Mon May 11 22:01:32 PDT 2009  NO_QUERY   \n",
              "1097326        4  1970386589  Sat May 30 03:39:34 PDT 2009  NO_QUERY   \n",
              "\n",
              "                    user                                               text  \n",
              "541200   LaLaLindsey0609             @chrishasboobs AHHH I HOPE YOUR OK!!!   \n",
              "750          sexygrneyes  @misstoriblack cool , i have no tweet apps  fo...  \n",
              "766711        sammydearr  @TiannaChaos i know  just family drama. its la...  \n",
              "285055       Lamb_Leanne  School email won't open  and I have geography ...  \n",
              "705995       yogicerdito                             upper airways problem   \n",
              "379611         Yengching         Going to miss Pastor's sermon on Faith...   \n",
              "1189018         jessig06            on lunch....dj should come eat with me   \n",
              "667030    felicityfuller   @piginthepoke oh why are you feeling like that?   \n",
              "93541        stephiiheyy    gahh noo!peyton needs to live!this is horrible   \n",
              "1097326        wyndwitch  @mrstessyman thank you glad you like it! There...  "
            ],
            "text/html": [
              "\n",
              "  <div id=\"df-7a0b28ed-495d-44f7-8980-94b4bc86b647\">\n",
              "    <div class=\"colab-df-container\">\n",
              "      <div>\n",
              "<style scoped>\n",
              "    .dataframe tbody tr th:only-of-type {\n",
              "        vertical-align: middle;\n",
              "    }\n",
              "\n",
              "    .dataframe tbody tr th {\n",
              "        vertical-align: top;\n",
              "    }\n",
              "\n",
              "    .dataframe thead th {\n",
              "        text-align: right;\n",
              "    }\n",
              "</style>\n",
              "<table border=\"1\" class=\"dataframe\">\n",
              "  <thead>\n",
              "    <tr style=\"text-align: right;\">\n",
              "      <th></th>\n",
              "      <th>emotion</th>\n",
              "      <th>id</th>\n",
              "      <th>date</th>\n",
              "      <th>flag</th>\n",
              "      <th>user</th>\n",
              "      <th>text</th>\n",
              "    </tr>\n",
              "  </thead>\n",
              "  <tbody>\n",
              "    <tr>\n",
              "      <th>541200</th>\n",
              "      <td>0</td>\n",
              "      <td>2200003196</td>\n",
              "      <td>Tue Jun 16 18:18:12 PDT 2009</td>\n",
              "      <td>NO_QUERY</td>\n",
              "      <td>LaLaLindsey0609</td>\n",
              "      <td>@chrishasboobs AHHH I HOPE YOUR OK!!!</td>\n",
              "    </tr>\n",
              "    <tr>\n",
              "      <th>750</th>\n",
              "      <td>0</td>\n",
              "      <td>1467998485</td>\n",
              "      <td>Mon Apr 06 23:11:14 PDT 2009</td>\n",
              "      <td>NO_QUERY</td>\n",
              "      <td>sexygrneyes</td>\n",
              "      <td>@misstoriblack cool , i have no tweet apps  fo...</td>\n",
              "    </tr>\n",
              "    <tr>\n",
              "      <th>766711</th>\n",
              "      <td>0</td>\n",
              "      <td>2300048954</td>\n",
              "      <td>Tue Jun 23 13:40:11 PDT 2009</td>\n",
              "      <td>NO_QUERY</td>\n",
              "      <td>sammydearr</td>\n",
              "      <td>@TiannaChaos i know  just family drama. its la...</td>\n",
              "    </tr>\n",
              "    <tr>\n",
              "      <th>285055</th>\n",
              "      <td>0</td>\n",
              "      <td>1993474027</td>\n",
              "      <td>Mon Jun 01 10:26:07 PDT 2009</td>\n",
              "      <td>NO_QUERY</td>\n",
              "      <td>Lamb_Leanne</td>\n",
              "      <td>School email won't open  and I have geography ...</td>\n",
              "    </tr>\n",
              "    <tr>\n",
              "      <th>705995</th>\n",
              "      <td>0</td>\n",
              "      <td>2256550904</td>\n",
              "      <td>Sat Jun 20 12:56:51 PDT 2009</td>\n",
              "      <td>NO_QUERY</td>\n",
              "      <td>yogicerdito</td>\n",
              "      <td>upper airways problem</td>\n",
              "    </tr>\n",
              "    <tr>\n",
              "      <th>379611</th>\n",
              "      <td>0</td>\n",
              "      <td>2052380495</td>\n",
              "      <td>Sat Jun 06 00:32:16 PDT 2009</td>\n",
              "      <td>NO_QUERY</td>\n",
              "      <td>Yengching</td>\n",
              "      <td>Going to miss Pastor's sermon on Faith...</td>\n",
              "    </tr>\n",
              "    <tr>\n",
              "      <th>1189018</th>\n",
              "      <td>4</td>\n",
              "      <td>1983449090</td>\n",
              "      <td>Sun May 31 13:10:36 PDT 2009</td>\n",
              "      <td>NO_QUERY</td>\n",
              "      <td>jessig06</td>\n",
              "      <td>on lunch....dj should come eat with me</td>\n",
              "    </tr>\n",
              "    <tr>\n",
              "      <th>667030</th>\n",
              "      <td>0</td>\n",
              "      <td>2245479748</td>\n",
              "      <td>Fri Jun 19 16:11:29 PDT 2009</td>\n",
              "      <td>NO_QUERY</td>\n",
              "      <td>felicityfuller</td>\n",
              "      <td>@piginthepoke oh why are you feeling like that?</td>\n",
              "    </tr>\n",
              "    <tr>\n",
              "      <th>93541</th>\n",
              "      <td>0</td>\n",
              "      <td>1770705699</td>\n",
              "      <td>Mon May 11 22:01:32 PDT 2009</td>\n",
              "      <td>NO_QUERY</td>\n",
              "      <td>stephiiheyy</td>\n",
              "      <td>gahh noo!peyton needs to live!this is horrible</td>\n",
              "    </tr>\n",
              "    <tr>\n",
              "      <th>1097326</th>\n",
              "      <td>4</td>\n",
              "      <td>1970386589</td>\n",
              "      <td>Sat May 30 03:39:34 PDT 2009</td>\n",
              "      <td>NO_QUERY</td>\n",
              "      <td>wyndwitch</td>\n",
              "      <td>@mrstessyman thank you glad you like it! There...</td>\n",
              "    </tr>\n",
              "  </tbody>\n",
              "</table>\n",
              "</div>\n",
              "      <button class=\"colab-df-convert\" onclick=\"convertToInteractive('df-7a0b28ed-495d-44f7-8980-94b4bc86b647')\"\n",
              "              title=\"Convert this dataframe to an interactive table.\"\n",
              "              style=\"display:none;\">\n",
              "        \n",
              "  <svg xmlns=\"http://www.w3.org/2000/svg\" height=\"24px\"viewBox=\"0 0 24 24\"\n",
              "       width=\"24px\">\n",
              "    <path d=\"M0 0h24v24H0V0z\" fill=\"none\"/>\n",
              "    <path d=\"M18.56 5.44l.94 2.06.94-2.06 2.06-.94-2.06-.94-.94-2.06-.94 2.06-2.06.94zm-11 1L8.5 8.5l.94-2.06 2.06-.94-2.06-.94L8.5 2.5l-.94 2.06-2.06.94zm10 10l.94 2.06.94-2.06 2.06-.94-2.06-.94-.94-2.06-.94 2.06-2.06.94z\"/><path d=\"M17.41 7.96l-1.37-1.37c-.4-.4-.92-.59-1.43-.59-.52 0-1.04.2-1.43.59L10.3 9.45l-7.72 7.72c-.78.78-.78 2.05 0 2.83L4 21.41c.39.39.9.59 1.41.59.51 0 1.02-.2 1.41-.59l7.78-7.78 2.81-2.81c.8-.78.8-2.07 0-2.86zM5.41 20L4 18.59l7.72-7.72 1.47 1.35L5.41 20z\"/>\n",
              "  </svg>\n",
              "      </button>\n",
              "      \n",
              "  <style>\n",
              "    .colab-df-container {\n",
              "      display:flex;\n",
              "      flex-wrap:wrap;\n",
              "      gap: 12px;\n",
              "    }\n",
              "\n",
              "    .colab-df-convert {\n",
              "      background-color: #E8F0FE;\n",
              "      border: none;\n",
              "      border-radius: 50%;\n",
              "      cursor: pointer;\n",
              "      display: none;\n",
              "      fill: #1967D2;\n",
              "      height: 32px;\n",
              "      padding: 0 0 0 0;\n",
              "      width: 32px;\n",
              "    }\n",
              "\n",
              "    .colab-df-convert:hover {\n",
              "      background-color: #E2EBFA;\n",
              "      box-shadow: 0px 1px 2px rgba(60, 64, 67, 0.3), 0px 1px 3px 1px rgba(60, 64, 67, 0.15);\n",
              "      fill: #174EA6;\n",
              "    }\n",
              "\n",
              "    [theme=dark] .colab-df-convert {\n",
              "      background-color: #3B4455;\n",
              "      fill: #D2E3FC;\n",
              "    }\n",
              "\n",
              "    [theme=dark] .colab-df-convert:hover {\n",
              "      background-color: #434B5C;\n",
              "      box-shadow: 0px 1px 3px 1px rgba(0, 0, 0, 0.15);\n",
              "      filter: drop-shadow(0px 1px 2px rgba(0, 0, 0, 0.3));\n",
              "      fill: #FFFFFF;\n",
              "    }\n",
              "  </style>\n",
              "\n",
              "      <script>\n",
              "        const buttonEl =\n",
              "          document.querySelector('#df-7a0b28ed-495d-44f7-8980-94b4bc86b647 button.colab-df-convert');\n",
              "        buttonEl.style.display =\n",
              "          google.colab.kernel.accessAllowed ? 'block' : 'none';\n",
              "\n",
              "        async function convertToInteractive(key) {\n",
              "          const element = document.querySelector('#df-7a0b28ed-495d-44f7-8980-94b4bc86b647');\n",
              "          const dataTable =\n",
              "            await google.colab.kernel.invokeFunction('convertToInteractive',\n",
              "                                                     [key], {});\n",
              "          if (!dataTable) return;\n",
              "\n",
              "          const docLinkHtml = 'Like what you see? Visit the ' +\n",
              "            '<a target=\"_blank\" href=https://colab.research.google.com/notebooks/data_table.ipynb>data table notebook</a>'\n",
              "            + ' to learn more about interactive tables.';\n",
              "          element.innerHTML = '';\n",
              "          dataTable['output_type'] = 'display_data';\n",
              "          await google.colab.output.renderOutput(dataTable, element);\n",
              "          const docLink = document.createElement('div');\n",
              "          docLink.innerHTML = docLinkHtml;\n",
              "          element.appendChild(docLink);\n",
              "        }\n",
              "      </script>\n",
              "    </div>\n",
              "  </div>\n",
              "  "
            ]
          },
          "metadata": {},
          "execution_count": 10
        }
      ]
    },
    {
      "cell_type": "code",
      "source": [
        "data['emotion'].unique()"
      ],
      "metadata": {
        "colab": {
          "base_uri": "https://localhost:8080/"
        },
        "id": "L5oeJ7nu_nmV",
        "outputId": "c07ad73d-5cd9-40f7-e727-017350131871"
      },
      "execution_count": null,
      "outputs": [
        {
          "output_type": "execute_result",
          "data": {
            "text/plain": [
              "array([0, 4])"
            ]
          },
          "metadata": {},
          "execution_count": 8
        }
      ]
    },
    {
      "cell_type": "markdown",
      "source": [
        "Выведем несколько примеров твитов, чтобы понимать, с чем мы имеем дело:"
      ],
      "metadata": {
        "id": "xxRbxi-m0ghY"
      }
    },
    {
      "cell_type": "code",
      "source": [
        "examples = data['text'].sample(10)\n",
        "print('\\n'.join(examples))"
      ],
      "metadata": {
        "colab": {
          "base_uri": "https://localhost:8080/"
        },
        "id": "ONph4dDg0dDL",
        "outputId": "2f168f3d-e740-4e94-a118-b6ba6e9e71a7"
      },
      "execution_count": null,
      "outputs": [
        {
          "output_type": "stream",
          "name": "stdout",
          "text": [
            "@chrishasboobs AHHH I HOPE YOUR OK!!! \n",
            "@misstoriblack cool , i have no tweet apps  for my razr 2\n",
            "@TiannaChaos i know  just family drama. its lame.hey next time u hang out with kim n u guys like have a sleepover or whatever, ill call u\n",
            "School email won't open  and I have geography stuff on there to revise! *Stupid School* :'(\n",
            "upper airways problem \n",
            "Going to miss Pastor's sermon on Faith... \n",
            "on lunch....dj should come eat with me \n",
            "@piginthepoke oh why are you feeling like that? \n",
            "gahh noo!peyton needs to live!this is horrible \n",
            "@mrstessyman thank you glad you like it! There is a product review bit on the site  Enjoy knitting it!\n"
          ]
        }
      ]
    },
    {
      "cell_type": "markdown",
      "source": [
        "Как видим, тексты твитов очень \"грязные\". Нужно предобработать датасет, прежде чем строить для него модель классификации.\n",
        "\n",
        "Чтобы сравнивать различные методы обработки текста/модели/прочее, разделим датасет на dev(для обучения модели) и test(для получения качества модели)."
      ],
      "metadata": {
        "id": "h-3B6XTC1PjS"
      }
    },
    {
      "cell_type": "code",
      "source": [
        "data.shape[0]"
      ],
      "metadata": {
        "colab": {
          "base_uri": "https://localhost:8080/"
        },
        "id": "SsiBrpGZ_1CL",
        "outputId": "191348d8-e1b9-4813-c47d-89c7e47a03ef"
      },
      "execution_count": null,
      "outputs": [
        {
          "output_type": "execute_result",
          "data": {
            "text/plain": [
              "1600000"
            ]
          },
          "metadata": {},
          "execution_count": 11
        }
      ]
    },
    {
      "cell_type": "code",
      "source": [
        "# all_texts = np.array(data['text'])\n",
        "num_samples = data.shape[0]\n",
        "idxs = np.random.permutation(num_samples)\n",
        "threshold = int(0.8 * num_samples)\n",
        "dev_data = data.iloc[idxs[:threshold]]\n",
        "test_data = data.iloc[idxs[threshold:]]\n",
        "dev_data.reset_index(drop=True, inplace=True)\n",
        "test_data.reset_index(drop=True, inplace=True)"
      ],
      "metadata": {
        "id": "_0DN0pzn1Dya"
      },
      "execution_count": null,
      "outputs": []
    },
    {
      "cell_type": "code",
      "source": [
        "dev_data.head()"
      ],
      "metadata": {
        "colab": {
          "base_uri": "https://localhost:8080/",
          "height": 206
        },
        "id": "AztP2MgO889u",
        "outputId": "5164292f-b19a-44a7-9a10-8c18e9c16452"
      },
      "execution_count": null,
      "outputs": [
        {
          "output_type": "execute_result",
          "data": {
            "text/plain": [
              "   emotion          id                          date      flag           user  \\\n",
              "0        0  1564500154  Mon Apr 20 03:47:08 PDT 2009  NO_QUERY  zourzouvillys   \n",
              "1        4  1957039896  Thu May 28 23:21:01 PDT 2009  NO_QUERY     twinkleval   \n",
              "2        4  1557601862  Sun Apr 19 05:03:53 PDT 2009  NO_QUERY  andrewbulloch   \n",
              "3        4  1823599026  Sat May 16 22:25:01 PDT 2009  NO_QUERY      vikchopra   \n",
              "4        4  2186814798  Mon Jun 15 19:22:35 PDT 2009  NO_QUERY     jobrofan16   \n",
              "\n",
              "                                                text  \n",
              "0  @Claire_Nelson i'm on the north devon coast th...  \n",
              "1  @jhicks  i will think of you on Sunday!   Who ...  \n",
              "2  Out in the garden with the kids debating wheth...  \n",
              "3  @FrVerona thank u my love...u've shown me the ...  \n",
              "4  is with @jonasbrosfan1  going to buy LVATT tog...  "
            ],
            "text/html": [
              "\n",
              "  <div id=\"df-1140adb1-6e20-4100-8b74-c91870bac0e7\">\n",
              "    <div class=\"colab-df-container\">\n",
              "      <div>\n",
              "<style scoped>\n",
              "    .dataframe tbody tr th:only-of-type {\n",
              "        vertical-align: middle;\n",
              "    }\n",
              "\n",
              "    .dataframe tbody tr th {\n",
              "        vertical-align: top;\n",
              "    }\n",
              "\n",
              "    .dataframe thead th {\n",
              "        text-align: right;\n",
              "    }\n",
              "</style>\n",
              "<table border=\"1\" class=\"dataframe\">\n",
              "  <thead>\n",
              "    <tr style=\"text-align: right;\">\n",
              "      <th></th>\n",
              "      <th>emotion</th>\n",
              "      <th>id</th>\n",
              "      <th>date</th>\n",
              "      <th>flag</th>\n",
              "      <th>user</th>\n",
              "      <th>text</th>\n",
              "    </tr>\n",
              "  </thead>\n",
              "  <tbody>\n",
              "    <tr>\n",
              "      <th>0</th>\n",
              "      <td>0</td>\n",
              "      <td>1564500154</td>\n",
              "      <td>Mon Apr 20 03:47:08 PDT 2009</td>\n",
              "      <td>NO_QUERY</td>\n",
              "      <td>zourzouvillys</td>\n",
              "      <td>@Claire_Nelson i'm on the north devon coast th...</td>\n",
              "    </tr>\n",
              "    <tr>\n",
              "      <th>1</th>\n",
              "      <td>4</td>\n",
              "      <td>1957039896</td>\n",
              "      <td>Thu May 28 23:21:01 PDT 2009</td>\n",
              "      <td>NO_QUERY</td>\n",
              "      <td>twinkleval</td>\n",
              "      <td>@jhicks  i will think of you on Sunday!   Who ...</td>\n",
              "    </tr>\n",
              "    <tr>\n",
              "      <th>2</th>\n",
              "      <td>4</td>\n",
              "      <td>1557601862</td>\n",
              "      <td>Sun Apr 19 05:03:53 PDT 2009</td>\n",
              "      <td>NO_QUERY</td>\n",
              "      <td>andrewbulloch</td>\n",
              "      <td>Out in the garden with the kids debating wheth...</td>\n",
              "    </tr>\n",
              "    <tr>\n",
              "      <th>3</th>\n",
              "      <td>4</td>\n",
              "      <td>1823599026</td>\n",
              "      <td>Sat May 16 22:25:01 PDT 2009</td>\n",
              "      <td>NO_QUERY</td>\n",
              "      <td>vikchopra</td>\n",
              "      <td>@FrVerona thank u my love...u've shown me the ...</td>\n",
              "    </tr>\n",
              "    <tr>\n",
              "      <th>4</th>\n",
              "      <td>4</td>\n",
              "      <td>2186814798</td>\n",
              "      <td>Mon Jun 15 19:22:35 PDT 2009</td>\n",
              "      <td>NO_QUERY</td>\n",
              "      <td>jobrofan16</td>\n",
              "      <td>is with @jonasbrosfan1  going to buy LVATT tog...</td>\n",
              "    </tr>\n",
              "  </tbody>\n",
              "</table>\n",
              "</div>\n",
              "      <button class=\"colab-df-convert\" onclick=\"convertToInteractive('df-1140adb1-6e20-4100-8b74-c91870bac0e7')\"\n",
              "              title=\"Convert this dataframe to an interactive table.\"\n",
              "              style=\"display:none;\">\n",
              "        \n",
              "  <svg xmlns=\"http://www.w3.org/2000/svg\" height=\"24px\"viewBox=\"0 0 24 24\"\n",
              "       width=\"24px\">\n",
              "    <path d=\"M0 0h24v24H0V0z\" fill=\"none\"/>\n",
              "    <path d=\"M18.56 5.44l.94 2.06.94-2.06 2.06-.94-2.06-.94-.94-2.06-.94 2.06-2.06.94zm-11 1L8.5 8.5l.94-2.06 2.06-.94-2.06-.94L8.5 2.5l-.94 2.06-2.06.94zm10 10l.94 2.06.94-2.06 2.06-.94-2.06-.94-.94-2.06-.94 2.06-2.06.94z\"/><path d=\"M17.41 7.96l-1.37-1.37c-.4-.4-.92-.59-1.43-.59-.52 0-1.04.2-1.43.59L10.3 9.45l-7.72 7.72c-.78.78-.78 2.05 0 2.83L4 21.41c.39.39.9.59 1.41.59.51 0 1.02-.2 1.41-.59l7.78-7.78 2.81-2.81c.8-.78.8-2.07 0-2.86zM5.41 20L4 18.59l7.72-7.72 1.47 1.35L5.41 20z\"/>\n",
              "  </svg>\n",
              "      </button>\n",
              "      \n",
              "  <style>\n",
              "    .colab-df-container {\n",
              "      display:flex;\n",
              "      flex-wrap:wrap;\n",
              "      gap: 12px;\n",
              "    }\n",
              "\n",
              "    .colab-df-convert {\n",
              "      background-color: #E8F0FE;\n",
              "      border: none;\n",
              "      border-radius: 50%;\n",
              "      cursor: pointer;\n",
              "      display: none;\n",
              "      fill: #1967D2;\n",
              "      height: 32px;\n",
              "      padding: 0 0 0 0;\n",
              "      width: 32px;\n",
              "    }\n",
              "\n",
              "    .colab-df-convert:hover {\n",
              "      background-color: #E2EBFA;\n",
              "      box-shadow: 0px 1px 2px rgba(60, 64, 67, 0.3), 0px 1px 3px 1px rgba(60, 64, 67, 0.15);\n",
              "      fill: #174EA6;\n",
              "    }\n",
              "\n",
              "    [theme=dark] .colab-df-convert {\n",
              "      background-color: #3B4455;\n",
              "      fill: #D2E3FC;\n",
              "    }\n",
              "\n",
              "    [theme=dark] .colab-df-convert:hover {\n",
              "      background-color: #434B5C;\n",
              "      box-shadow: 0px 1px 3px 1px rgba(0, 0, 0, 0.15);\n",
              "      filter: drop-shadow(0px 1px 2px rgba(0, 0, 0, 0.3));\n",
              "      fill: #FFFFFF;\n",
              "    }\n",
              "  </style>\n",
              "\n",
              "      <script>\n",
              "        const buttonEl =\n",
              "          document.querySelector('#df-1140adb1-6e20-4100-8b74-c91870bac0e7 button.colab-df-convert');\n",
              "        buttonEl.style.display =\n",
              "          google.colab.kernel.accessAllowed ? 'block' : 'none';\n",
              "\n",
              "        async function convertToInteractive(key) {\n",
              "          const element = document.querySelector('#df-1140adb1-6e20-4100-8b74-c91870bac0e7');\n",
              "          const dataTable =\n",
              "            await google.colab.kernel.invokeFunction('convertToInteractive',\n",
              "                                                     [key], {});\n",
              "          if (!dataTable) return;\n",
              "\n",
              "          const docLinkHtml = 'Like what you see? Visit the ' +\n",
              "            '<a target=\"_blank\" href=https://colab.research.google.com/notebooks/data_table.ipynb>data table notebook</a>'\n",
              "            + ' to learn more about interactive tables.';\n",
              "          element.innerHTML = '';\n",
              "          dataTable['output_type'] = 'display_data';\n",
              "          await google.colab.output.renderOutput(dataTable, element);\n",
              "          const docLink = document.createElement('div');\n",
              "          docLink.innerHTML = docLinkHtml;\n",
              "          element.appendChild(docLink);\n",
              "        }\n",
              "      </script>\n",
              "    </div>\n",
              "  </div>\n",
              "  "
            ]
          },
          "metadata": {},
          "execution_count": 13
        }
      ]
    },
    {
      "cell_type": "code",
      "source": [
        "dev_data.shape"
      ],
      "metadata": {
        "colab": {
          "base_uri": "https://localhost:8080/"
        },
        "id": "00xnFl1yANYb",
        "outputId": "3cd14c05-9956-4d41-ca0c-1b5740ab051b"
      },
      "execution_count": null,
      "outputs": [
        {
          "output_type": "execute_result",
          "data": {
            "text/plain": [
              "(1280000, 6)"
            ]
          },
          "metadata": {},
          "execution_count": 14
        }
      ]
    },
    {
      "cell_type": "markdown",
      "source": [
        "#Обработка текста\n",
        "Токенизируем текст, избавимся от знаков пунктуации и выкинем все слова, состоящие менее чем из 4 букв:"
      ],
      "metadata": {
        "id": "fpnQJYeG3HnR"
      }
    },
    {
      "cell_type": "code",
      "source": [
        "from nltk.tokenize import word_tokenize\n",
        "nltk.download('punkt')"
      ],
      "metadata": {
        "colab": {
          "base_uri": "https://localhost:8080/"
        },
        "id": "38TGmLObCx4b",
        "outputId": "8ea39397-ab15-4e10-ff51-68da4264d232"
      },
      "execution_count": null,
      "outputs": [
        {
          "output_type": "stream",
          "name": "stderr",
          "text": [
            "[nltk_data] Downloading package punkt to /root/nltk_data...\n",
            "[nltk_data]   Unzipping tokenizers/punkt.zip.\n"
          ]
        },
        {
          "output_type": "execute_result",
          "data": {
            "text/plain": [
              "True"
            ]
          },
          "metadata": {},
          "execution_count": 15
        }
      ]
    },
    {
      "cell_type": "code",
      "source": [
        "\n",
        "tokens = [token for sent in dev_data for token in word_tokenize(sent.lower()) if len(token) >= 4 and all(c not in string.punctuation for c in token)]"
      ],
      "metadata": {
        "id": "uL3m2F282vEp"
      },
      "execution_count": null,
      "outputs": []
    },
    {
      "cell_type": "code",
      "source": [
        "ex_tokens = [token for token in word_tokenize(dev_data['text'][0].lower()) if len(token) > 3 and all(c not in string.punctuation for c in token)]\n",
        "ex_tokens"
      ],
      "metadata": {
        "colab": {
          "base_uri": "https://localhost:8080/"
        },
        "id": "BI4k3jxt7ZnM",
        "outputId": "c25475f7-bb2b-48f0-efc1-73eac729b964"
      },
      "execution_count": null,
      "outputs": [
        {
          "output_type": "execute_result",
          "data": {
            "text/plain": [
              "['north',\n",
              " 'devon',\n",
              " 'coast',\n",
              " 'next',\n",
              " 'weeks',\n",
              " 'will',\n",
              " 'down',\n",
              " 'devon',\n",
              " 'again',\n",
              " 'sometime',\n",
              " 'hope',\n",
              " 'though']"
            ]
          },
          "metadata": {},
          "execution_count": 16
        }
      ]
    },
    {
      "cell_type": "code",
      "source": [
        "dev_data['text'][0]"
      ],
      "metadata": {
        "colab": {
          "base_uri": "https://localhost:8080/",
          "height": 36
        },
        "id": "t_irtDMUAYgn",
        "outputId": "d059caff-59cd-45da-ff96-6223e24efb67"
      },
      "execution_count": null,
      "outputs": [
        {
          "output_type": "execute_result",
          "data": {
            "text/plain": [
              "\"@Claire_Nelson i'm on the north devon coast the next few weeks  will be down in Devon again in may sometime i hope though!\""
            ],
            "application/vnd.google.colaboratory.intrinsic+json": {
              "type": "string"
            }
          },
          "metadata": {},
          "execution_count": 17
        }
      ]
    },
    {
      "cell_type": "markdown",
      "source": [
        "Загрузим предобученную модель эмбеддингов.\n",
        "\n",
        "Если хотите, можно попробовать другую. Полный список можно найти здесь: https://github.com/RaRe-Technologies/gensim-data.\n",
        "\n",
        "Данная модель выдает эмбеддинги для слов. Строить по эмбеддингам слов эмбеддинги предложений мы будем ниже."
      ],
      "metadata": {
        "id": "itxKV1HrBKM5"
      }
    },
    {
      "cell_type": "code",
      "source": [
        "word2vec = api.load('word2vec-google-news-300')"
      ],
      "metadata": {
        "id": "-z05coFo59KE",
        "colab": {
          "base_uri": "https://localhost:8080/"
        },
        "outputId": "986e5581-e455-4f37-81a6-d78c4d1b2d93"
      },
      "execution_count": null,
      "outputs": [
        {
          "output_type": "stream",
          "name": "stdout",
          "text": [
            "[=================================================-] 99.9% 1661.4/1662.8MB downloaded\n"
          ]
        }
      ]
    },
    {
      "cell_type": "code",
      "source": [
        "emb_line = [word2vec.get_vector(token) for token in ex_tokens if token in word2vec]\n",
        "print(emb_line[0], sum(emb_line), sep='\\n')"
      ],
      "metadata": {
        "colab": {
          "base_uri": "https://localhost:8080/"
        },
        "id": "VQnnIhYB9MHb",
        "outputId": "f97c5212-d841-4227-d53a-fb41e2c69edf"
      },
      "execution_count": null,
      "outputs": [
        {
          "output_type": "stream",
          "name": "stdout",
          "text": [
            "[-0.04541016 -0.13769531  0.03027344 -0.09277344  0.13867188  0.12451172\n",
            " -0.23730469 -0.38085938 -0.15820312  0.30273438  0.13378906  0.11767578\n",
            "  0.06640625  0.09277344  0.00405884 -0.18945312 -0.17382812  0.05761719\n",
            "  0.08691406 -0.06933594 -0.0135498  -0.00915527 -0.20996094  0.01855469\n",
            "  0.29296875 -0.16113281 -0.10400391  0.04736328  0.16308594 -0.04541016\n",
            "  0.19140625  0.09570312 -0.06445312 -0.1953125  -0.18261719  0.1328125\n",
            "  0.1484375   0.07568359  0.09228516  0.14746094 -0.26953125 -0.05175781\n",
            " -0.00823975 -0.02075195 -0.23828125  0.0291748   0.07470703  0.11572266\n",
            " -0.10546875 -0.0534668   0.28125    -0.01879883  0.0859375  -0.16308594\n",
            " -0.26171875 -0.07470703 -0.14746094  0.06347656 -0.02624512  0.03564453\n",
            " -0.11816406 -0.09472656  0.11572266 -0.29492188  0.04663086 -0.13085938\n",
            " -0.16210938  0.16308594 -0.10449219  0.09423828  0.20898438 -0.00427246\n",
            "  0.02258301  0.10888672 -0.03808594 -0.05126953 -0.18847656 -0.14453125\n",
            " -0.0189209   0.18652344  0.171875    0.09277344  0.06591797 -0.08251953\n",
            " -0.14160156  0.06445312 -0.27929688  0.06201172  0.10009766  0.10009766\n",
            " -0.26171875 -0.0859375  -0.30664062  0.0246582  -0.16308594  0.171875\n",
            "  0.00872803  0.01409912  0.10449219 -0.06835938  0.03637695  0.03417969\n",
            "  0.08740234  0.14746094  0.22460938 -0.0859375  -0.078125    0.04492188\n",
            "  0.09765625 -0.21386719 -0.18164062 -0.13476562  0.12597656 -0.14257812\n",
            " -0.10107422 -0.08154297  0.13378906  0.12158203  0.0480957  -0.01483154\n",
            "  0.16796875  0.13574219 -0.10791016  0.01098633 -0.10839844 -0.03662109\n",
            " -0.27148438 -0.00202942  0.01226807 -0.00741577  0.01196289 -0.19140625\n",
            "  0.19140625  0.08886719 -0.06445312 -0.05883789 -0.05200195 -0.22265625\n",
            " -0.06884766  0.43359375 -0.11230469 -0.1015625   0.13867188  0.02624512\n",
            "  0.09228516  0.03955078  0.08203125 -0.0098877  -0.125      -0.19140625\n",
            "  0.14941406  0.12011719  0.16503906  0.02539062 -0.03198242 -0.07324219\n",
            "  0.04125977  0.04736328  0.1171875   0.16210938  0.03735352  0.07519531\n",
            "  0.06152344 -0.17773438  0.08251953  0.14160156  0.29492188 -0.03710938\n",
            "  0.0534668   0.0201416  -0.15136719  0.0559082  -0.00418091 -0.0189209\n",
            "  0.11181641 -0.19628906  0.03039551  0.12011719 -0.24414062 -0.05419922\n",
            " -0.25390625 -0.08886719 -0.13378906  0.01092529 -0.26367188 -0.04296875\n",
            "  0.20507812  0.15234375  0.15527344  0.09082031  0.14453125  0.19042969\n",
            " -0.10595703  0.0123291  -0.18847656  0.16015625 -0.06396484  0.23828125\n",
            "  0.13085938  0.01574707  0.2265625  -0.10351562  0.11181641 -0.0703125\n",
            "  0.16894531  0.03979492  0.24316406  0.06640625  0.13867188 -0.00546265\n",
            "  0.05029297 -0.15527344 -0.0625      0.19140625  0.01477051  0.07861328\n",
            "  0.02624512  0.05126953 -0.06396484  0.33007812 -0.07763672  0.12451172\n",
            "  0.09179688 -0.03198242 -0.0612793  -0.04882812  0.125       0.11425781\n",
            " -0.09814453 -0.03515625  0.11669922 -0.17578125  0.01843262  0.0378418\n",
            " -0.06787109  0.06591797 -0.08056641 -0.13964844  0.33007812 -0.01953125\n",
            "  0.07226562  0.07666016  0.21191406 -0.25       -0.09960938  0.01635742\n",
            "  0.05615234  0.21386719  0.17773438  0.08251953  0.02416992 -0.0324707\n",
            "  0.17675781  0.23632812  0.203125   -0.2578125  -0.02160645  0.18261719\n",
            " -0.11279297  0.02355957 -0.11572266 -0.17675781  0.13183594  0.20800781\n",
            "  0.25976562  0.05151367 -0.1953125  -0.12060547 -0.19628906 -0.00361633\n",
            "  0.02941895 -0.23242188  0.05932617 -0.23242188  0.15039062 -0.30078125\n",
            " -0.11181641 -0.09130859 -0.06738281 -0.06152344  0.01367188 -0.10839844\n",
            "  0.00518799  0.12792969  0.04174805  0.11132812 -0.296875    0.1171875\n",
            " -0.07861328  0.13476562 -0.12158203  0.04516602 -0.19042969  0.10839844\n",
            "  0.03588867 -0.02807617 -0.09228516  0.01544189  0.41601562 -0.29882812]\n",
            "[-0.10803223  0.75756836  0.0291748   0.68548584  0.05090332 -0.18054199\n",
            " -0.5327759  -1.5986328   1.0183716   1.6351318  -0.79211426 -0.7766113\n",
            " -0.22926807 -0.22619629 -1.0496521   0.30249023 -0.07226562  1.0841064\n",
            "  0.51049805 -0.95062256 -0.1314907   0.42077637  0.43518066  0.05303955\n",
            "  1.0001221  -0.2166748  -0.6699829   0.79174805  1.5201721   0.8725586\n",
            "  0.22216797  0.91119385 -1.0942993  -0.66638184 -0.557251    0.36095333\n",
            " -0.8625488  -0.664093   -0.07702637  0.19030762  0.49291992 -1.8569336\n",
            "  1.1463013   0.08529663 -0.6470032  -0.29345703 -0.07391357  0.18786621\n",
            "  0.59106445 -0.02069092  0.91166496  0.6411133   0.30163574  0.27563477\n",
            " -0.3901825   0.02484131 -0.9578552  -0.75408936  1.0499268  -0.7904968\n",
            " -1.0751953  -0.03039551 -0.39794922 -1.0800171  -0.61450195 -0.7099457\n",
            " -0.4456787   1.309082   -0.37231445  1.0562439   0.09796143  0.46520996\n",
            "  0.44018555  1.1039276  -1.5061035  -0.53263855  0.98272705  0.5859375\n",
            "  0.27490234  0.6226196   0.28244781 -1.0240326   0.57714844 -0.5901642\n",
            "  0.21574402  0.11386108 -1.0391846   1.1118774   1.0609131   1.0267334\n",
            "  0.33242798 -0.02526855 -0.9649658  -1.8777466  -1.5378723  -0.6262207\n",
            "  0.05128479  0.01435852 -0.23979187 -0.12490845 -0.642334   -1.0541687\n",
            "  0.9968262  -0.26696777 -0.36632538 -1.3166504  -0.95428467 -0.02514648\n",
            "  0.1965332  -0.2574005   0.06933594 -0.24182129  1.1246338  -0.52638245\n",
            "  0.08818054 -0.44830322  0.5024414  -0.21099854 -0.01104736  0.26593018\n",
            " -0.2821045  -0.26696777 -0.33790588  0.36721802 -0.18359375 -0.29223633\n",
            " -1.3154297  -0.26435852 -0.69168854  0.23031616 -0.15975952 -1.0301514\n",
            " -0.26287842 -0.18887329 -1.1894531  -0.62194824  0.16229248 -0.8520508\n",
            " -0.18048096  2.230713   -0.09777832 -1.324707    0.60791016  0.10559082\n",
            "  0.46162415  1.045044   -0.33007812 -1.244812   -0.6212158  -1.6018066\n",
            "  0.19818115  0.85253906 -0.57263184  0.7739868  -0.24812317 -0.31750488\n",
            " -0.20300293 -0.21350098 -1.0715103   0.34020996  0.8280029   0.92858887\n",
            "  1.1530151  -0.9489746   1.0713186  -1.1130371   0.9487915  -0.06811523\n",
            " -0.828125   -0.977417   -1.1364746   0.14984131 -0.948761   -0.20495605\n",
            "  0.07855988 -0.77056885  0.7706299   0.15914917  0.02844238  1.3427734\n",
            " -1.8192139  -0.8498535  -0.93029785  1.1043091  -0.6375122   0.15563965\n",
            "  0.17700195 -0.07141113  2.8603516   0.7504883   0.5515518   1.1222229\n",
            "  0.11889648 -0.46624756 -0.10043335  0.71635437  0.23083496  0.71777344\n",
            " -0.6446495  -0.77575684  0.9702759  -0.04156494 -0.00671387  0.07873535\n",
            "  0.5387573   0.46948242  0.1665039   0.18188477  1.6322021   0.05239868\n",
            " -0.2838745  -0.06542969 -0.62353516  0.70428467 -1.0166016  -0.25769043\n",
            "  1.1612854  -1.032959   -0.46765137  1.2317963   0.45776367  0.08679199\n",
            " -0.70428467 -0.321167    0.4501953  -1.4523315   0.44350815  1.2183685\n",
            "  0.2952118  -0.7368164   0.17628479 -0.9616089   0.2703972  -0.02362061\n",
            "  0.40820312  0.13539124  0.33163452 -0.65828705  0.7437744   0.98101807\n",
            "  0.3149414  -0.2722168   0.720562   -1.3208008  -1.0318604   0.0357666\n",
            "  0.52911377  0.52674866  1.0316162   0.21362305  0.35009766  0.2791443\n",
            "  1.7285156   0.63098145  1.5671997  -0.1861      0.8668213   1.4900513\n",
            " -0.536438   -0.92297363 -0.478714   -0.5300761  -0.29595947  0.7236023\n",
            "  0.9953003   0.4025879  -0.96868896 -0.29174805 -0.30566406 -0.29840088\n",
            "  1.6490479   0.37719727  0.6760254  -0.25048828  0.82107544 -0.8137207\n",
            " -0.63093567 -1.4869385  -0.45922852  0.09767073 -0.18927002 -0.7023926\n",
            "  0.10830688  0.94381714  0.7124634  -0.9504099  -1.211731    0.43084717\n",
            "  0.7314453   1.1437988  -0.01156616  0.44818115 -0.6538086  -0.27764893\n",
            "  0.81829834 -0.38183594 -0.8144531  -0.71362305  0.8234253  -0.6529541 ]\n"
          ]
        }
      ]
    },
    {
      "cell_type": "code",
      "source": [
        "print(len(emb_line), len(emb_line[0]), len(ex_tokens))"
      ],
      "metadata": {
        "colab": {
          "base_uri": "https://localhost:8080/"
        },
        "id": "KHMrIs9UAmNk",
        "outputId": "baa5236f-033a-4627-8037-48b948895680"
      },
      "execution_count": null,
      "outputs": [
        {
          "output_type": "stream",
          "name": "stdout",
          "text": [
            "12 300 12\n"
          ]
        }
      ]
    },
    {
      "cell_type": "markdown",
      "source": [
        "Нормализуем эмбеддинги, прежде чем обучать на них сеть. (наверное, вы помните, что нейронные сети гораздо лучше обучаются на нормализованных данных)"
      ],
      "metadata": {
        "id": "vKtKFPziBRA5"
      }
    },
    {
      "cell_type": "code",
      "source": [
        "mean = np.mean(word2vec.vectors, axis=0)\n",
        "std = np.std(word2vec.vectors, axis=0)\n",
        "norm_emb_line = [(word2vec.get_vector(token) - mean) / std for token in ex_tokens if token in word2vec]\n",
        "print(norm_emb_line[0])"
      ],
      "metadata": {
        "colab": {
          "base_uri": "https://localhost:8080/"
        },
        "id": "lnz0rB-eA1c9",
        "outputId": "470dc938-47c1-49df-fcd4-fcda29ec8e03"
      },
      "execution_count": null,
      "outputs": [
        {
          "output_type": "stream",
          "name": "stdout",
          "text": [
            "[-0.36991876 -1.1144205   0.33723447 -0.9588026   1.1273683   1.2655668\n",
            " -1.9674411  -2.7535336  -1.407751    2.0157566   1.0789026   0.9672879\n",
            "  0.75316405  0.39632148  0.36060232 -1.7889175  -1.4717835   0.17459501\n",
            "  0.94938695 -0.4929434  -0.33380184 -0.10436177 -1.9580019  -0.00657426\n",
            "  2.205025   -1.0275367  -0.57802504  0.02593389  1.1787171  -0.00386162\n",
            "  1.8159279   1.1199601  -0.5735491  -1.2923956  -1.5046108   1.6144451\n",
            "  0.8970211   0.56526595  0.7400202   1.0215237  -2.1214437  -0.21194394\n",
            " -0.35803986 -0.57250845 -1.5004324   0.82210857  0.96930104  1.157132\n",
            " -0.8558387  -0.7845281   2.59623    -0.41671082  0.620433   -1.2972343\n",
            " -1.8676931  -0.94398654 -0.6751018   0.76095426 -0.04707284  0.85723877\n",
            " -0.54040086 -1.100693    1.3792686  -2.44836     0.3181613  -0.71763\n",
            " -1.2228173   1.172842   -1.2429638   0.22888167  1.5276442   0.2097967\n",
            "  0.06393608  0.72415596  0.50153834  0.10216274 -1.8983116  -0.38632882\n",
            " -0.5099888   1.344879    1.5710814   1.1010938   0.76619905 -0.54175204\n",
            " -1.3906342   0.6548075  -2.1867654  -0.18051732  0.6124044   0.9645374\n",
            " -1.7032977  -0.03543586 -1.9762331  -0.11064823 -0.9083648   1.6562179\n",
            " -0.45053515  0.26677892  0.58282    -0.16366604  0.12284298  0.5392567\n",
            "  0.5864258   1.2594022   1.5069588  -0.75985086 -0.67440087  0.09752492\n",
            "  0.70851284 -1.9590452  -1.6171985  -0.92112154  0.45905012 -1.0696672\n",
            " -1.0321375  -0.8553812   1.4045191   1.3793154  -0.43907532 -0.04931347\n",
            "  1.6416315   0.8435067  -0.227812    0.11942896 -1.1399562  -0.20578021\n",
            " -1.2614985  -0.49503884  0.05928313 -0.5622336   0.3639103  -1.507612\n",
            "  1.6361187   0.8576833  -0.2123977  -0.53735644 -0.31954902 -1.7413344\n",
            " -0.5782676   2.5877552  -1.0766318  -0.7915468   1.1624614   0.37377474\n",
            "  0.8504536   0.11057915  0.46484822 -0.22850396 -0.7322296  -0.9049699\n",
            "  0.23337977  1.4236739   1.5428202  -0.01380922 -0.4773266  -0.14584239\n",
            "  0.37455153  0.4740892   1.1235609   1.5984967   0.51601654  0.10147481\n",
            " -0.16074455 -1.435927    0.64469993  1.4087496   2.0379498  -0.29102245\n",
            "  0.43254277 -0.3025279  -0.916456    0.5565887   0.0972753   0.4256846\n",
            "  1.027612   -1.2692317  -0.24917884  1.3916564  -1.4800686   0.13046803\n",
            " -1.2979908  -0.72459954 -1.1510003   0.5201702  -2.078058   -0.1785211\n",
            "  1.4583633   1.284441    1.0490875   0.35714188  1.6338967   1.3178848\n",
            " -0.28419998  0.2536301  -1.3697628   0.85187835 -0.49779692  2.0488153\n",
            "  0.84714514  0.7752433   1.754564   -1.0339344   0.90717554 -0.5196704\n",
            "  1.3487529   0.79161006  1.277292    0.57576865  1.3276908   0.4691196\n",
            "  0.71482134 -0.9473517  -0.49607208  1.0713218   0.3148977   0.30697143\n",
            "  0.34242797  0.27541056 -0.48406008  3.1823332  -0.37006935  0.5519654\n",
            "  0.88025606 -0.4168692  -0.5418514  -0.39507467  0.9992136   0.86181176\n",
            " -0.8901947  -0.06272065  1.1304207  -1.7494342   0.44681433  0.2903279\n",
            " -0.45747447  0.5649741  -0.80868334 -0.93489885  2.4229043  -0.36391416\n",
            "  0.2768309   1.104321    1.567122   -1.5410278  -0.6517466   0.27167362\n",
            "  0.776391    1.065929    1.7813379   1.1918372   0.06885918 -0.4843396\n",
            "  1.5416366   1.5078446   0.9826021  -2.0075235  -0.26623753  1.9714661\n",
            " -0.546602    0.71199244 -1.2097224  -1.9234      1.0121393   1.8639737\n",
            "  1.8413193  -0.08345936 -1.0458568  -0.5071258  -1.5403639   0.15318905\n",
            "  0.5578196  -1.9885428   0.8575647  -2.0778623   0.5582312  -2.6982985\n",
            " -0.6624267  -0.67249787 -0.37826362 -0.72417134  0.5715723  -1.0145792\n",
            "  0.14191881  0.8985857   0.30741993  1.1557664  -2.411282    0.6428639\n",
            " -1.0337934   0.59142655 -0.88986474  0.471909   -0.86341023  0.58188206\n",
            "  0.2592232  -0.02440913 -0.44654498  0.35792458  2.792679   -2.6243513 ]\n"
          ]
        }
      ]
    },
    {
      "cell_type": "code",
      "source": [
        "print(mean)"
      ],
      "metadata": {
        "colab": {
          "base_uri": "https://localhost:8080/"
        },
        "id": "b4m88nf9CCiD",
        "outputId": "676e804a-7eb2-4e82-fbe7-cff208b6a174"
      },
      "execution_count": null,
      "outputs": [
        {
          "output_type": "stream",
          "name": "stdout",
          "text": [
            "[-2.25728611e-04 -1.01306627e-03 -1.04773864e-02  3.14636230e-02\n",
            "  1.94908399e-03 -4.83569540e-02  8.71036202e-03 -4.18831371e-02\n",
            "  2.51461826e-02  4.58311923e-02  1.26088806e-03 -1.75505376e-03\n",
            " -2.50608157e-02  4.20754105e-02 -4.06269804e-02  2.94472519e-02\n",
            "  1.80458277e-02  3.59841287e-02 -2.66128872e-02 -7.92622752e-03\n",
            "  2.70865131e-02  4.24901256e-03  5.27169220e-02  1.93178728e-02\n",
            "  5.10774646e-03 -2.76226867e-02 -3.38717587e-02  4.39997353e-02\n",
            "  1.32414782e-02 -4.49229591e-02 -3.05306613e-02 -4.27834578e-02\n",
            "  4.64673946e-03 -2.74249297e-02  3.94795975e-03 -7.11372793e-02\n",
            "  3.72331291e-02  7.20562087e-03  3.08779557e-03  8.44953489e-03\n",
            " -8.02358240e-03 -2.38431450e-02  4.02598381e-02  5.37732914e-02\n",
            " -4.63994108e-02 -7.93176889e-02 -4.39509153e-02 -1.62945110e-02\n",
            "  7.95037951e-03  4.17706594e-02 -6.89574629e-02  3.71620990e-02\n",
            " -1.33652124e-03 -3.44692520e-03 -2.54474003e-02  4.80561107e-02\n",
            " -5.85142039e-02 -2.87780259e-02 -2.02133898e-02 -6.87459335e-02\n",
            " -4.95392196e-02  4.56381254e-02 -5.19460104e-02  4.48168442e-03\n",
            "  7.93976896e-03 -4.36531752e-02 -1.02245985e-02  1.46863135e-02\n",
            "  5.59649579e-02  6.61473349e-02  7.01095955e-03 -3.08130048e-02\n",
            "  1.47717744e-02  1.99140385e-02 -1.05377644e-01 -6.57303110e-02\n",
            "  2.92599499e-02 -8.86275619e-02  4.12028879e-02  2.24556737e-02\n",
            " -1.66865699e-02 -4.82394733e-02 -2.70726904e-02 -1.45408772e-02\n",
            "  4.87665944e-02 -1.59830842e-02 -1.76998880e-02  8.58494863e-02\n",
            "  2.87384801e-02 -1.82718858e-02 -4.33616973e-02 -8.14295113e-02\n",
            " -5.23598008e-02  3.94169018e-02 -4.51263599e-02 -3.84725258e-02\n",
            "  6.59090281e-02 -1.93323456e-02  2.82322597e-02 -4.81272899e-02\n",
            "  2.08645053e-02 -3.42068262e-02  1.79540254e-02 -9.20136832e-03\n",
            "  4.10398059e-02  6.96818624e-03  4.29382781e-03  3.18166278e-02\n",
            "  8.97146109e-03  2.38830633e-02  4.14409302e-03 -2.46141609e-02\n",
            "  6.64831996e-02 -7.17450120e-03  2.59689409e-02  2.54860725e-02\n",
            " -3.00289225e-02 -5.21485955e-02  1.10218041e-01 -8.54676776e-03\n",
            " -5.16530052e-02  2.83216685e-02 -7.74125233e-02 -3.39438929e-03\n",
            "  4.78850529e-02 -1.13228895e-02 -1.04554929e-01  6.14126883e-02\n",
            "  4.57135728e-03  6.44684285e-02 -3.38920616e-02  3.04527697e-03\n",
            " -1.38954297e-02 -1.93844680e-02 -3.95681262e-02  6.50713686e-03\n",
            " -1.36321327e-02 -1.28762135e-02  3.08276899e-03  8.51378292e-02\n",
            "  1.99215841e-02 -8.86110181e-04 -2.52664625e-03 -1.99500415e-02\n",
            " -1.59062948e-02  2.54687089e-02  1.92462858e-02  2.11604666e-02\n",
            " -3.46337594e-02 -6.67478666e-02  1.17641240e-01 -7.05575496e-02\n",
            " -2.67602913e-02  2.71523707e-02  3.02276723e-02 -5.39245158e-02\n",
            " -8.43128003e-03 -1.11202784e-02 -2.11486593e-02 -4.57170010e-02\n",
            " -2.42822859e-02  6.22207336e-02  8.29728991e-02  8.88643321e-03\n",
            "  7.67072197e-03 -5.36304228e-02  5.38471080e-02 -1.97750842e-03\n",
            " -7.47274933e-03  5.80638498e-02 -3.24439965e-02 -9.54725407e-03\n",
            " -1.70263648e-02 -7.13689253e-02 -3.08238473e-02 -3.15114260e-02\n",
            "  6.07288554e-02 -6.29178211e-02 -5.18256873e-02 -7.23356158e-02\n",
            " -7.10670575e-02 -5.53099322e-04  2.26417650e-02 -5.25641628e-02\n",
            " -9.10283718e-03 -2.18350515e-02  1.63330343e-02 -9.61871725e-03\n",
            "  2.83037443e-02  4.46590483e-02 -7.86248371e-02  2.40268949e-02\n",
            " -6.67110980e-02 -1.88857559e-02 -1.10828765e-02  5.22450879e-02\n",
            " -1.46861409e-03 -2.43535284e-02  2.74184160e-02 -9.44894031e-02\n",
            "  5.02347713e-03  2.08378043e-02 -1.98517181e-03 -6.32953364e-03\n",
            "  9.43981751e-04 -6.41810596e-02  6.93230703e-02 -8.41437746e-03\n",
            " -3.83384041e-02 -7.13069886e-02 -3.71846408e-02 -3.66306305e-02\n",
            " -1.07873313e-03  4.92540374e-02 -2.42961012e-02  4.06693630e-02\n",
            " -1.49621312e-02  1.60273314e-02 -1.04058580e-03 -6.27924576e-02\n",
            " -3.39331552e-02  5.83869964e-02 -2.06397232e-02  1.78698264e-02\n",
            "  5.07200276e-03 -1.57723483e-03  1.58522592e-03 -1.35990663e-03\n",
            "  1.98283326e-02 -2.72086374e-02 -1.85936745e-02  5.11637069e-02\n",
            " -3.55059430e-02  5.95182588e-04 -8.94936733e-03 -1.12970488e-03\n",
            "  2.19866764e-02 -2.21363101e-02  2.78493781e-02  2.21410580e-02\n",
            "  3.88141237e-02 -6.70682788e-02  2.04048809e-02 -4.50366884e-02\n",
            " -2.06119735e-02 -1.84639618e-02 -4.03825901e-02  7.45152161e-02\n",
            " -3.70199643e-02 -6.88945726e-02  1.53195402e-02  2.74820998e-02\n",
            " -1.66327283e-02  4.57470156e-02  8.20356235e-02 -6.25324622e-03\n",
            "  1.25628440e-02 -5.80576099e-02 -4.38340642e-02 -6.51947707e-02\n",
            "  3.75942811e-02  5.11058643e-02  8.41968041e-03 -2.51725018e-02\n",
            "  3.82512361e-02  6.17250092e-02 -5.89382537e-02 -4.67151441e-02\n",
            "  3.18307025e-06 -2.25630887e-02 -3.57658565e-02  4.43223193e-02\n",
            " -4.27693762e-02  4.20482196e-02  8.12647045e-02  1.37640238e-02\n",
            " -2.15309132e-02 -4.55065351e-03 -2.34567560e-02  2.75385343e-02\n",
            " -5.70818111e-02  1.52130807e-02 -1.40468711e-02  1.88878104e-02\n",
            "  4.05638339e-03 -3.66252251e-02  7.40562519e-03  3.52860242e-02\n",
            "  5.32489829e-02  5.99085353e-02 -1.42400516e-02 -1.05750002e-02\n",
            " -8.26048926e-02  3.76926139e-02  3.50547140e-03 -2.50138827e-02\n",
            " -3.53162847e-02 -2.76359823e-02  6.10905662e-02  3.80462520e-02]\n"
          ]
        }
      ]
    },
    {
      "cell_type": "markdown",
      "source": [
        "Сделаем датасет, который будет по запросу возвращать подготовленные данные."
      ],
      "metadata": {
        "id": "IdMdttQtFKcN"
      }
    },
    {
      "cell_type": "code",
      "source": [
        "from torch.utils.data import Dataset, random_split\n",
        "from nltk import WordPunctTokenizer\n",
        "\n",
        "\n",
        "class TwitterDataset(Dataset):\n",
        "    def __init__(self, data: pd.DataFrame, feature_column: str, target_column: str, word2vec: gensim.models.Word2Vec):\n",
        "        self.tokenizer = WordPunctTokenizer()\n",
        "\n",
        "        self.data = data\n",
        "\n",
        "        self.feature_column = feature_column\n",
        "        self.target_column = target_column\n",
        "\n",
        "        self.word2vec = word2vec\n",
        "\n",
        "        self.label2num = lambda label: 0 if label == 0 else 1\n",
        "        self.mean = np.mean(word2vec.vectors, axis=0)\n",
        "        self.std = np.std(word2vec.vectors, axis=0)\n",
        "\n",
        "    def __getitem__(self, item):\n",
        "        text = self.data[self.feature_column][item]\n",
        "        label = self.label2num(self.data[self.target_column][item])\n",
        "\n",
        "        tokens = self.get_tokens_(text)\n",
        "        embeddings = self.get_embeddings_(tokens)\n",
        "\n",
        "        return {\"feature\": embeddings, \"target\": label}\n",
        "\n",
        "    def get_tokens_(self, text):\n",
        "        # Получи все токены из текста и профильтруй их\n",
        "        return [word for word in self.tokenizer.tokenize(text.lower()) if all(c not in string.punctuation for c in word) and len(word) > 3]\n",
        "\n",
        "    def get_embeddings_(self, tokens):\n",
        "        # Получи эмбеддинги слов и усредни их\n",
        "        embeddings = [(self.word2vec.get_vector(word) - self.mean) / self.std for word in tokens if word in self.word2vec]\n",
        "\n",
        "        if len(embeddings) == 0:\n",
        "            embeddings = np.zeros((1, self.word2vec.vector_size))\n",
        "        else:\n",
        "            embeddings = np.array(embeddings)\n",
        "           # if len(embeddings.shape) == 1:\n",
        "           #     embeddings = embeddings.reshape(-1, 1)\n",
        "\n",
        "        return embeddings\n",
        "\n",
        "    def __len__(self):\n",
        "        return self.data.shape[0]"
      ],
      "metadata": {
        "id": "ilkmv4ZBFGqP"
      },
      "execution_count": null,
      "outputs": []
    },
    {
      "cell_type": "code",
      "source": [
        "dev = TwitterDataset(dev_data, 'text', 'emotion', word2vec)"
      ],
      "metadata": {
        "id": "8y7subjEFdUj"
      },
      "execution_count": null,
      "outputs": []
    },
    {
      "cell_type": "markdown",
      "source": [
        "Отлично, мы готовы с помощью эмбеддингов слов превращать твиты в векторы и обучать нейронную сеть.\n",
        "\n",
        "Превращать твиты в векторы, используя эмбеддинги слов, можно несколькими способами. А именно такими:\n",
        "\n",
        "#Average embedding (2 балла)"
      ],
      "metadata": {
        "id": "JcxrvoA6FYKD"
      }
    },
    {
      "cell_type": "markdown",
      "source": [
        "Это самый простой вариант, как получить вектор предложения, используя векторные представления слов в предложении. А именно: вектор предложения есть средний вектор всех слов в предложении (которые остались после токенизации и удаления коротких слов, конечно)."
      ],
      "metadata": {
        "id": "PslC71r1FyJv"
      }
    },
    {
      "cell_type": "code",
      "source": [
        "indexes = np.arange(len(dev))\n",
        "np.random.shuffle(indexes)\n",
        "example_indexes = indexes[::1000]\n",
        "\n",
        "examples = {\"features\": [np.mean(dev[i][\"feature\"], axis=0) for i in example_indexes],\n",
        "            \"targets\": [dev[i][\"target\"] for i in example_indexes]}\n",
        "print(len(examples[\"features\"]))\n",
        ""
      ],
      "metadata": {
        "colab": {
          "base_uri": "https://localhost:8080/"
        },
        "id": "4Xvqj5tiHNsy",
        "outputId": "d92e0fe9-eb0e-4d32-cf5e-3f8bfca84d66"
      },
      "execution_count": null,
      "outputs": [
        {
          "output_type": "stream",
          "name": "stdout",
          "text": [
            "1280\n"
          ]
        }
      ]
    },
    {
      "cell_type": "code",
      "source": [
        "type(examples['features'][0])"
      ],
      "metadata": {
        "id": "cKXGvvWKOPF7"
      },
      "execution_count": null,
      "outputs": []
    },
    {
      "cell_type": "code",
      "source": [
        "examples['features'][0]"
      ],
      "metadata": {
        "id": "aqFICoWDOaVN"
      },
      "execution_count": null,
      "outputs": []
    },
    {
      "cell_type": "markdown",
      "source": [
        "Давайте сделаем визуализацию полученных векторов твитов тренировочного (dev) датасета. Так мы увидим, насколько хорошо твиты с разными target значениями отделяются друг от друга, т.е. насколько хорошо усреднение эмбеддингов слов предложения передает информацию о предложении.\n",
        "\n",
        "Для визуализации векторов надо получить их проекцию на плоскость. Сделаем это с помощью PCA. Если хотите, можете вместо PCA использовать TSNE: так у вас получится более точная проекция на плоскость (а значит, более информативная, т.е. отражающая реальное положение векторов твитов в пространстве). Но TSNE будет работать намного дольше."
      ],
      "metadata": {
        "id": "u6XlPogfOkJS"
      }
    },
    {
      "cell_type": "code",
      "source": [
        "from sklearn.decomposition import PCA\n",
        "\n",
        "pca = PCA(n_components=2)\n",
        "reduc = pca.fit_transform(examples['features'])"
      ],
      "metadata": {
        "id": "yVzv6hFvOkUS"
      },
      "execution_count": null,
      "outputs": []
    },
    {
      "cell_type": "code",
      "source": [
        "reduc[2]"
      ],
      "metadata": {
        "colab": {
          "base_uri": "https://localhost:8080/"
        },
        "id": "UTc6Y9QQPYo_",
        "outputId": "89204a7a-49b4-4d6b-b245-cec07e054a08"
      },
      "execution_count": null,
      "outputs": [
        {
          "output_type": "execute_result",
          "data": {
            "text/plain": [
              "array([ 2.37397934, -0.35610217])"
            ]
          },
          "metadata": {},
          "execution_count": 31
        }
      ]
    },
    {
      "cell_type": "code",
      "source": [
        "import matplotlib.pyplot as plt\n",
        "plt.scatter(x=reduc[:, 0], y=reduc[:, 1], c=[['red', 'blue'][t] for t in examples['targets']])"
      ],
      "metadata": {
        "colab": {
          "base_uri": "https://localhost:8080/",
          "height": 282
        },
        "id": "yRjXWP3kPhhu",
        "outputId": "06e4beef-7165-44b2-a414-212480387619"
      },
      "execution_count": null,
      "outputs": [
        {
          "output_type": "execute_result",
          "data": {
            "text/plain": [
              "<matplotlib.collections.PathCollection at 0x7f59252e3700>"
            ]
          },
          "metadata": {},
          "execution_count": 32
        },
        {
          "output_type": "display_data",
          "data": {
            "text/plain": [
              "<Figure size 432x288 with 1 Axes>"
            ],
            "image/png": "[encoded data removed]"
          },
          "metadata": {
            "needs_background": "light"
          }
        }
      ]
    },
    {
      "cell_type": "code",
      "source": [
        "import bokeh.models as bm, bokeh.plotting as pl\n",
        "from bokeh.io import output_notebook\n",
        "output_notebook()\n",
        "\n",
        "def draw_vectors(x, y, radius=10, alpha=0.25, color='blue',\n",
        "                 width=600, height=400, show=True, **kwargs):\n",
        "    \"\"\" draws an interactive plot for data points with auxilirary info on hover \"\"\"\n",
        "    data_source = bm.ColumnDataSource({ 'x' : x, 'y' : y, 'color': color, **kwargs })\n",
        "\n",
        "    fig = pl.figure(active_scroll='wheel_zoom', width=width, height=height)\n",
        "    fig.scatter('x', 'y', size=radius, color='color', alpha=alpha, source=data_source)\n",
        "\n",
        "    fig.add_tools(bm.HoverTool(tooltips=[(key, \"@\" + key) for key in kwargs.keys()]))\n",
        "    if show: pl.show(fig)\n",
        "    return fig"
      ],
      "metadata": {
        "id": "ofIGzP-MQpYN"
      },
      "execution_count": null,
      "outputs": []
    },
    {
      "cell_type": "code",
      "source": [
        "draw_vectors(\n",
        "    reduc[:, 0],\n",
        "    reduc[:, 1],\n",
        "    color=[[\"red\", \"blue\"][t] for t in examples[\"targets\"]]\n",
        "    )"
      ],
      "metadata": {
        "colab": {
          "base_uri": "https://localhost:8080/",
          "height": 34
        },
        "id": "EEqMc2ixQtyi",
        "outputId": "9a507a2b-c8d8-43b6-fe12-1730bc3968ed"
      },
      "execution_count": null,
      "outputs": [
        {
          "output_type": "display_data",
          "data": {
            "application/javascript": [
              "\n",
              "(function(root) {\n",
              "  function now() {\n",
              "    return new Date();\n",
              "  }\n",
              "\n",
              "  var force = true;\n",
              "\n",
              "  if (typeof root._bokeh_onload_callbacks === \"undefined\" || force === true) {\n",
              "    root._bokeh_onload_callbacks = [];\n",
              "    root._bokeh_is_loading = undefined;\n",
              "  }\n",
              "\n",
              "  var JS_MIME_TYPE = 'application/javascript';\n",
              "  var HTML_MIME_TYPE = 'text/html';\n",
              "  var EXEC_MIME_TYPE = 'application/vnd.bokehjs_exec.v0+json';\n",
              "  var CLASS_NAME = 'output_bokeh rendered_html';\n",
              "\n",
              "  /**\n",
              "   * Render data to the DOM node\n",
              "   */\n",
              "  function render(props, node) {\n",
              "    var script = document.createElement(\"script\");\n",
              "    node.appendChild(script);\n",
              "  }\n",
              "\n",
              "  /**\n",
              "   * Handle when an output is cleared or removed\n",
              "   */\n",
              "  function handleClearOutput(event, handle) {\n",
              "    var cell = handle.cell;\n",
              "\n",
              "    var id = cell.output_area._bokeh_element_id;\n",
              "    var server_id = cell.output_area._bokeh_server_id;\n",
              "    // Clean up Bokeh references\n",
              "    if (id != null && id in Bokeh.index) {\n",
              "      Bokeh.index[id].model.document.clear();\n",
              "      delete Bokeh.index[id];\n",
              "    }\n",
              "\n",
              "    if (server_id !== undefined) {\n",
              "      // Clean up Bokeh references\n",
              "      var cmd = \"from bokeh.io.state import curstate; print(curstate().uuid_to_server['\" + server_id + \"'].get_sessions()[0].document.roots[0]._id)\";\n",
              "      cell.notebook.kernel.execute(cmd, {\n",
              "        iopub: {\n",
              "          output: function(msg) {\n",
              "            var id = msg.content.text.trim();\n",
              "            if (id in Bokeh.index) {\n",
              "              Bokeh.index[id].model.document.clear();\n",
              "              delete Bokeh.index[id];\n",
              "            }\n",
              "          }\n",
              "        }\n",
              "      });\n",
              "      // Destroy server and session\n",
              "      var cmd = \"import bokeh.io.notebook as ion; ion.destroy_server('\" + server_id + \"')\";\n",
              "      cell.notebook.kernel.execute(cmd);\n",
              "    }\n",
              "  }\n",
              "\n",
              "  /**\n",
              "   * Handle when a new output is added\n",
              "   */\n",
              "  function handleAddOutput(event, handle) {\n",
              "    var output_area = handle.output_area;\n",
              "    var output = handle.output;\n",
              "\n",
              "    // limit handleAddOutput to display_data with EXEC_MIME_TYPE content only\n",
              "    if ((output.output_type != \"display_data\") || (!Object.prototype.hasOwnProperty.call(output.data, EXEC_MIME_TYPE))) {\n",
              "      return\n",
              "    }\n",
              "\n",
              "    var toinsert = output_area.element.find(\".\" + CLASS_NAME.split(' ')[0]);\n",
              "\n",
              "    if (output.metadata[EXEC_MIME_TYPE][\"id\"] !== undefined) {\n",
              "      toinsert[toinsert.length - 1].firstChild.textContent = output.data[JS_MIME_TYPE];\n",
              "      // store reference to embed id on output_area\n",
              "      output_area._bokeh_element_id = output.metadata[EXEC_MIME_TYPE][\"id\"];\n",
              "    }\n",
              "    if (output.metadata[EXEC_MIME_TYPE][\"server_id\"] !== undefined) {\n",
              "      var bk_div = document.createElement(\"div\");\n",
              "      bk_div.innerHTML = output.data[HTML_MIME_TYPE];\n",
              "      var script_attrs = bk_div.children[0].attributes;\n",
              "      for (var i = 0; i < script_attrs.length; i++) {\n",
              "        toinsert[toinsert.length - 1].firstChild.setAttribute(script_attrs[i].name, script_attrs[i].value);\n",
              "        toinsert[toinsert.length - 1].firstChild.textContent = bk_div.children[0].textContent\n",
              "      }\n",
              "      // store reference to server id on output_area\n",
              "      output_area._bokeh_server_id = output.metadata[EXEC_MIME_TYPE][\"server_id\"];\n",
              "    }\n",
              "  }\n",
              "\n",
              "  function register_renderer(events, OutputArea) {\n",
              "\n",
              "    function append_mime(data, metadata, element) {\n",
              "      // create a DOM node to render to\n",
              "      var toinsert = this.create_output_subarea(\n",
              "        metadata,\n",
              "        CLASS_NAME,\n",
              "        EXEC_MIME_TYPE\n",
              "      );\n",
              "      this.keyboard_manager.register_events(toinsert);\n",
              "      // Render to node\n",
              "      var props = {data: data, metadata: metadata[EXEC_MIME_TYPE]};\n",
              "      render(props, toinsert[toinsert.length - 1]);\n",
              "      element.append(toinsert);\n",
              "      return toinsert\n",
              "    }\n",
              "\n",
              "    /* Handle when an output is cleared or removed */\n",
              "    events.on('clear_output.CodeCell', handleClearOutput);\n",
              "    events.on('delete.Cell', handleClearOutput);\n",
              "\n",
              "    /* Handle when a new output is added */\n",
              "    events.on('output_added.OutputArea', handleAddOutput);\n",
              "\n",
              "    /**\n",
              "     * Register the mime type and append_mime function with output_area\n",
              "     */\n",
              "    OutputArea.prototype.register_mime_type(EXEC_MIME_TYPE, append_mime, {\n",
              "      /* Is output safe? */\n",
              "      safe: true,\n",
              "      /* Index of renderer in `output_area.display_order` */\n",
              "      index: 0\n",
              "    });\n",
              "  }\n",
              "\n",
              "  // register the mime type if in Jupyter Notebook environment and previously unregistered\n",
              "  if (root.Jupyter !== undefined) {\n",
              "    var events = require('base/js/events');\n",
              "    var OutputArea = require('notebook/js/outputarea').OutputArea;\n",
              "\n",
              "    if (OutputArea.prototype.mime_types().indexOf(EXEC_MIME_TYPE) == -1) {\n",
              "      register_renderer(events, OutputArea);\n",
              "    }\n",
              "  }\n",
              "\n",
              "  \n",
              "  if (typeof (root._bokeh_timeout) === \"undefined\" || force === true) {\n",
              "    root._bokeh_timeout = Date.now() + 5000;\n",
              "    root._bokeh_failed_load = false;\n",
              "  }\n",
              "\n",
              "  var NB_LOAD_WARNING = {'data': {'text/html':\n",
              "     \"<div style='background-color: #fdd'>\\n\"+\n",
              "     \"<p>\\n\"+\n",
              "     \"BokehJS does not appear to have successfully loaded. If loading BokehJS from CDN, this \\n\"+\n",
              "     \"may be due to a slow or bad network connection. Possible fixes:\\n\"+\n",
              "     \"</p>\\n\"+\n",
              "     \"<ul>\\n\"+\n",
              "     \"<li>re-rerun `output_notebook()` to attempt to load from CDN again, or</li>\\n\"+\n",
              "     \"<li>use INLINE resources instead, as so:</li>\\n\"+\n",
              "     \"</ul>\\n\"+\n",
              "     \"<code>\\n\"+\n",
              "     \"from bokeh.resources import INLINE\\n\"+\n",
              "     \"output_notebook(resources=INLINE)\\n\"+\n",
              "     \"</code>\\n\"+\n",
              "     \"</div>\"}};\n",
              "\n",
              "  function display_loaded() {\n",
              "    var el = document.getElementById(null);\n",
              "    if (el != null) {\n",
              "      el.textContent = \"BokehJS is loading...\";\n",
              "    }\n",
              "    if (root.Bokeh !== undefined) {\n",
              "      if (el != null) {\n",
              "        el.textContent = \"BokehJS \" + root.Bokeh.version + \" successfully loaded.\";\n",
              "      }\n",
              "    } else if (Date.now() < root._bokeh_timeout) {\n",
              "      setTimeout(display_loaded, 100)\n",
              "    }\n",
              "  }\n",
              "\n",
              "\n",
              "  function run_callbacks() {\n",
              "    try {\n",
              "      root._bokeh_onload_callbacks.forEach(function(callback) {\n",
              "        if (callback != null)\n",
              "          callback();\n",
              "      });\n",
              "    } finally {\n",
              "      delete root._bokeh_onload_callbacks\n",
              "    }\n",
              "    console.debug(\"Bokeh: all callbacks have finished\");\n",
              "  }\n",
              "\n",
              "  function load_libs(css_urls, js_urls, callback) {\n",
              "    if (css_urls == null) css_urls = [];\n",
              "    if (js_urls == null) js_urls = [];\n",
              "\n",
              "    root._bokeh_onload_callbacks.push(callback);\n",
              "    if (root._bokeh_is_loading > 0) {\n",
              "      console.debug(\"Bokeh: BokehJS is being loaded, scheduling callback at\", now());\n",
              "      return null;\n",
              "    }\n",
              "    if (js_urls == null || js_urls.length === 0) {\n",
              "      run_callbacks();\n",
              "      return null;\n",
              "    }\n",
              "    console.debug(\"Bokeh: BokehJS not loaded, scheduling load and callback at\", now());\n",
              "    root._bokeh_is_loading = css_urls.length + js_urls.length;\n",
              "\n",
              "    function on_load() {\n",
              "      root._bokeh_is_loading--;\n",
              "      if (root._bokeh_is_loading === 0) {\n",
              "        console.debug(\"Bokeh: all BokehJS libraries/stylesheets loaded\");\n",
              "        run_callbacks()\n",
              "      }\n",
              "    }\n",
              "\n",
              "    function on_error(url) {\n",
              "      console.error(\"failed to load \" + url);\n",
              "    }\n",
              "\n",
              "    for (let i = 0; i < css_urls.length; i++) {\n",
              "      const url = css_urls[i];\n",
              "      const element = document.createElement(\"link\");\n",
              "      element.onload = on_load;\n",
              "      element.onerror = on_error.bind(null, url);\n",
              "      element.rel = \"stylesheet\";\n",
              "      element.type = \"text/css\";\n",
              "      element.href = url;\n",
              "      console.debug(\"Bokeh: injecting link tag for BokehJS stylesheet: \", url);\n",
              "      document.body.appendChild(element);\n",
              "    }\n",
              "\n",
              "    const hashes = {\"https://cdn.bokeh.org/bokeh/release/bokeh-2.3.3.min.js\": \"dM3QQsP+wXdHg42wTqW85BjZQdLNNIXqlPw/BgKoExPmTG7ZLML4EGqLMfqHT6ON\", \"https://cdn.bokeh.org/bokeh/release/bokeh-tables-2.3.3.min.js\": \"8x57I4YuIfu8XyZfFo0XVr2WAT8EK4rh/uDe3wF7YuW2FNUSNEpJbsPaB1nJ2fz2\", \"https://cdn.bokeh.org/bokeh/release/bokeh-widgets-2.3.3.min.js\": \"3QTqdz9LyAm2i0sG5XTePsHec3UHWwVsrOL68SYRoAXsafvfAyqtQ+h440+qIBhS\"};\n",
              "\n",
              "    for (let i = 0; i < js_urls.length; i++) {\n",
              "      const url = js_urls[i];\n",
              "      const element = document.createElement('script');\n",
              "      element.onload = on_load;\n",
              "      element.onerror = on_error.bind(null, url);\n",
              "      element.async = false;\n",
              "      element.src = url;\n",
              "      if (url in hashes) {\n",
              "        element.crossOrigin = \"anonymous\";\n",
              "        element.integrity = \"sha384-\" + hashes[url];\n",
              "      }\n",
              "      console.debug(\"Bokeh: injecting script tag for BokehJS library: \", url);\n",
              "      document.head.appendChild(element);\n",
              "    }\n",
              "  };\n",
              "\n",
              "  function inject_raw_css(css) {\n",
              "    const element = document.createElement(\"style\");\n",
              "    element.appendChild(document.createTextNode(css));\n",
              "    document.body.appendChild(element);\n",
              "  }\n",
              "\n",
              "  \n",
              "  var js_urls = [\"https://cdn.bokeh.org/bokeh/release/bokeh-2.3.3.min.js\", \"https://cdn.bokeh.org/bokeh/release/bokeh-widgets-2.3.3.min.js\", \"https://cdn.bokeh.org/bokeh/release/bokeh-tables-2.3.3.min.js\"];\n",
              "  var css_urls = [];\n",
              "  \n",
              "\n",
              "  var inline_js = [\n",
              "    function(Bokeh) {\n",
              "      Bokeh.set_log_level(\"info\");\n",
              "    },\n",
              "    function(Bokeh) {\n",
              "    \n",
              "    \n",
              "    }\n",
              "  ];\n",
              "\n",
              "  function run_inline_js() {\n",
              "    \n",
              "    if (root.Bokeh !== undefined || force === true) {\n",
              "      \n",
              "    for (var i = 0; i < inline_js.length; i++) {\n",
              "      inline_js[i].call(root, root.Bokeh);\n",
              "    }\n",
              "    } else if (Date.now() < root._bokeh_timeout) {\n",
              "      setTimeout(run_inline_js, 100);\n",
              "    } else if (!root._bokeh_failed_load) {\n",
              "      console.log(\"Bokeh: BokehJS failed to load within specified timeout.\");\n",
              "      root._bokeh_failed_load = true;\n",
              "    } else if (force !== true) {\n",
              "      var cell = $(document.getElementById(null)).parents('.cell').data().cell;\n",
              "      cell.output_area.append_execute_result(NB_LOAD_WARNING)\n",
              "    }\n",
              "\n",
              "  }\n",
              "\n",
              "  if (root._bokeh_is_loading === 0) {\n",
              "    console.debug(\"Bokeh: BokehJS loaded, going straight to plotting\");\n",
              "    run_inline_js();\n",
              "  } else {\n",
              "    load_libs(css_urls, js_urls, function() {\n",
              "      console.debug(\"Bokeh: BokehJS plotting callback run at\", now());\n",
              "      run_inline_js();\n",
              "    });\n",
              "  }\n",
              "}(window));"
            ],
            "application/vnd.bokehjs_load.v0+json": "\n(function(root) {\n  function now() {\n    return new Date();\n  }\n\n  var force = true;\n\n  if (typeof root._bokeh_onload_callbacks === \"undefined\" || force === true) {\n    root._bokeh_onload_callbacks = [];\n    root._bokeh_is_loading = undefined;\n  }\n\n  \n\n  \n  if (typeof (root._bokeh_timeout) === \"undefined\" || force === true) {\n    root._bokeh_timeout = Date.now() + 5000;\n    root._bokeh_failed_load = false;\n  }\n\n  var NB_LOAD_WARNING = {'data': {'text/html':\n     \"<div style='background-color: #fdd'>\\n\"+\n     \"<p>\\n\"+\n     \"BokehJS does not appear to have successfully loaded. If loading BokehJS from CDN, this \\n\"+\n     \"may be due to a slow or bad network connection. Possible fixes:\\n\"+\n     \"</p>\\n\"+\n     \"<ul>\\n\"+\n     \"<li>re-rerun `output_notebook()` to attempt to load from CDN again, or</li>\\n\"+\n     \"<li>use INLINE resources instead, as so:</li>\\n\"+\n     \"</ul>\\n\"+\n     \"<code>\\n\"+\n     \"from bokeh.resources import INLINE\\n\"+\n     \"output_notebook(resources=INLINE)\\n\"+\n     \"</code>\\n\"+\n     \"</div>\"}};\n\n  function display_loaded() {\n    var el = document.getElementById(null);\n    if (el != null) {\n      el.textContent = \"BokehJS is loading...\";\n    }\n    if (root.Bokeh !== undefined) {\n      if (el != null) {\n        el.textContent = \"BokehJS \" + root.Bokeh.version + \" successfully loaded.\";\n      }\n    } else if (Date.now() < root._bokeh_timeout) {\n      setTimeout(display_loaded, 100)\n    }\n  }\n\n\n  function run_callbacks() {\n    try {\n      root._bokeh_onload_callbacks.forEach(function(callback) {\n        if (callback != null)\n          callback();\n      });\n    } finally {\n      delete root._bokeh_onload_callbacks\n    }\n    console.debug(\"Bokeh: all callbacks have finished\");\n  }\n\n  function load_libs(css_urls, js_urls, callback) {\n    if (css_urls == null) css_urls = [];\n    if (js_urls == null) js_urls = [];\n\n    root._bokeh_onload_callbacks.push(callback);\n    if (root._bokeh_is_loading > 0) {\n      console.debug(\"Bokeh: BokehJS is being loaded, scheduling callback at\", now());\n      return null;\n    }\n    if (js_urls == null || js_urls.length === 0) {\n      run_callbacks();\n      return null;\n    }\n    console.debug(\"Bokeh: BokehJS not loaded, scheduling load and callback at\", now());\n    root._bokeh_is_loading = css_urls.length + js_urls.length;\n\n    function on_load() {\n      root._bokeh_is_loading--;\n      if (root._bokeh_is_loading === 0) {\n        console.debug(\"Bokeh: all BokehJS libraries/stylesheets loaded\");\n        run_callbacks()\n      }\n    }\n\n    function on_error(url) {\n      console.error(\"failed to load \" + url);\n    }\n\n    for (let i = 0; i < css_urls.length; i++) {\n      const url = css_urls[i];\n      const element = document.createElement(\"link\");\n      element.onload = on_load;\n      element.onerror = on_error.bind(null, url);\n      element.rel = \"stylesheet\";\n      element.type = \"text/css\";\n      element.href = url;\n      console.debug(\"Bokeh: injecting link tag for BokehJS stylesheet: \", url);\n      document.body.appendChild(element);\n    }\n\n    const hashes = {\"https://cdn.bokeh.org/bokeh/release/bokeh-2.3.3.min.js\": \"dM3QQsP+wXdHg42wTqW85BjZQdLNNIXqlPw/BgKoExPmTG7ZLML4EGqLMfqHT6ON\", \"https://cdn.bokeh.org/bokeh/release/bokeh-tables-2.3.3.min.js\": \"8x57I4YuIfu8XyZfFo0XVr2WAT8EK4rh/uDe3wF7YuW2FNUSNEpJbsPaB1nJ2fz2\", \"https://cdn.bokeh.org/bokeh/release/bokeh-widgets-2.3.3.min.js\": \"3QTqdz9LyAm2i0sG5XTePsHec3UHWwVsrOL68SYRoAXsafvfAyqtQ+h440+qIBhS\"};\n\n    for (let i = 0; i < js_urls.length; i++) {\n      const url = js_urls[i];\n      const element = document.createElement('script');\n      element.onload = on_load;\n      element.onerror = on_error.bind(null, url);\n      element.async = false;\n      element.src = url;\n      if (url in hashes) {\n        element.crossOrigin = \"anonymous\";\n        element.integrity = \"sha384-\" + hashes[url];\n      }\n      console.debug(\"Bokeh: injecting script tag for BokehJS library: \", url);\n      document.head.appendChild(element);\n    }\n  };\n\n  function inject_raw_css(css) {\n    const element = document.createElement(\"style\");\n    element.appendChild(document.createTextNode(css));\n    document.body.appendChild(element);\n  }\n\n  \n  var js_urls = [\"https://cdn.bokeh.org/bokeh/release/bokeh-2.3.3.min.js\", \"https://cdn.bokeh.org/bokeh/release/bokeh-widgets-2.3.3.min.js\", \"https://cdn.bokeh.org/bokeh/release/bokeh-tables-2.3.3.min.js\"];\n  var css_urls = [];\n  \n\n  var inline_js = [\n    function(Bokeh) {\n      Bokeh.set_log_level(\"info\");\n    },\n    function(Bokeh) {\n    \n    \n    }\n  ];\n\n  function run_inline_js() {\n    \n    if (root.Bokeh !== undefined || force === true) {\n      \n    for (var i = 0; i < inline_js.length; i++) {\n      inline_js[i].call(root, root.Bokeh);\n    }\n    } else if (Date.now() < root._bokeh_timeout) {\n      setTimeout(run_inline_js, 100);\n    } else if (!root._bokeh_failed_load) {\n      console.log(\"Bokeh: BokehJS failed to load within specified timeout.\");\n      root._bokeh_failed_load = true;\n    } else if (force !== true) {\n      var cell = $(document.getElementById(null)).parents('.cell').data().cell;\n      cell.output_area.append_execute_result(NB_LOAD_WARNING)\n    }\n\n  }\n\n  if (root._bokeh_is_loading === 0) {\n    console.debug(\"Bokeh: BokehJS loaded, going straight to plotting\");\n    run_inline_js();\n  } else {\n    load_libs(css_urls, js_urls, function() {\n      console.debug(\"Bokeh: BokehJS plotting callback run at\", now());\n      run_inline_js();\n    });\n  }\n}(window));"
          },
          "metadata": {}
        },
        {
          "output_type": "display_data",
          "data": {
            "text/html": [
              "\n",
              "\n",
              "\n",
              "\n",
              "\n",
              "\n",
              "  <div class=\"bk-root\" id=\"3d133412-44ea-42c1-9218-d3f19e68296a\" data-root-id=\"1003\"></div>\n"
            ]
          },
          "metadata": {}
        },
        {
          "output_type": "display_data",
          "data": {
            "application/javascript": [
              "(function(root) {\n",
              "  function embed_document(root) {\n",
              "    \n",
              "  var docs_json = {\"160071f7-aac2-44f8-b3f7-2dc7f8c0737e\":{\"defs\":[],\"roots\":{\"references\":[{\"attributes\":{\"below\":[{\"id\":\"1012\"}],\"center\":[{\"id\":\"1015\"},{\"id\":\"1019\"}],\"height\":400,\"left\":[{\"id\":\"1016\"}],\"renderers\":[{\"id\":\"1037\"}],\"title\":{\"id\":\"1041\"},\"toolbar\":{\"id\":\"1027\"},\"x_range\":{\"id\":\"1004\"},\"x_scale\":{\"id\":\"1008\"},\"y_range\":{\"id\":\"1006\"},\"y_scale\":{\"id\":\"1010\"}},\"id\":\"1003\",\"subtype\":\"Figure\",\"type\":\"Plot\"},{\"attributes\":{\"overlay\":{\"id\":\"1026\"}},\"id\":\"1022\",\"type\":\"BoxZoomTool\"},{\"attributes\":{},\"id\":\"1010\",\"type\":\"LinearScale\"},{\"attributes\":{},\"id\":\"1044\",\"type\":\"BasicTickFormatter\"},{\"attributes\":{},\"id\":\"1004\",\"type\":\"DataRange1d\"},{\"attributes\":{},\"id\":\"1025\",\"type\":\"HelpTool\"},{\"attributes\":{},\"id\":\"1045\",\"type\":\"AllLabels\"},{\"attributes\":{},\"id\":\"1020\",\"type\":\"PanTool\"},{\"attributes\":{},\"id\":\"1006\",\"type\":\"DataRange1d\"},{\"attributes\":{},\"id\":\"1021\",\"type\":\"WheelZoomTool\"},{\"attributes\":{},\"id\":\"1023\",\"type\":\"SaveTool\"},{\"attributes\":{},\"id\":\"1024\",\"type\":\"ResetTool\"},{\"attributes\":{\"active_multi\":null,\"active_scroll\":{\"id\":\"1021\"},\"tools\":[{\"id\":\"1020\"},{\"id\":\"1021\"},{\"id\":\"1022\"},{\"id\":\"1023\"},{\"id\":\"1024\"},{\"id\":\"1025\"},{\"id\":\"1039\"}]},\"id\":\"1027\",\"type\":\"Toolbar\"},{\"attributes\":{\"formatter\":{\"id\":\"1044\"},\"major_label_policy\":{\"id\":\"1045\"},\"ticker\":{\"id\":\"1017\"}},\"id\":\"1016\",\"type\":\"LinearAxis\"},{\"attributes\":{},\"id\":\"1047\",\"type\":\"BasicTickFormatter\"},{\"attributes\":{\"bottom_units\":\"screen\",\"fill_alpha\":0.5,\"fill_color\":\"lightgrey\",\"left_units\":\"screen\",\"level\":\"overlay\",\"line_alpha\":1.0,\"line_color\":\"black\",\"line_dash\":[4,4],\"line_width\":2,\"right_units\":\"screen\",\"syncable\":false,\"top_units\":\"screen\"},\"id\":\"1026\",\"type\":\"BoxAnnotation\"},{\"attributes\":{},\"id\":\"1048\",\"type\":\"AllLabels\"},{\"attributes\":{},\"id\":\"1041\",\"type\":\"Title\"},{\"attributes\":{\"callback\":null,\"tooltips\":[]},\"id\":\"1039\",\"type\":\"HoverTool\"},{\"attributes\":{\"data_source\":{\"id\":\"1002\"},\"glyph\":{\"id\":\"1035\"},\"hover_glyph\":null,\"muted_glyph\":null,\"nonselection_glyph\":{\"id\":\"1036\"},\"view\":{\"id\":\"1038\"}},\"id\":\"1037\",\"type\":\"GlyphRenderer\"},{\"attributes\":{},\"id\":\"1049\",\"type\":\"UnionRenderers\"},{\"attributes\":{\"data\":{\"color\":[\"red\",\"blue\",\"red\",\"red\",\"red\",\"red\",\"blue\",\"blue\",\"red\",\"red\",\"red\",\"blue\",\"blue\",\"red\",\"blue\",\"red\",\"blue\",\"red\",\"blue\",\"blue\",\"red\",\"blue\",\"blue\",\"blue\",\"red\",\"blue\",\"blue\",\"blue\",\"red\",\"red\",\"blue\",\"red\",\"blue\",\"red\",\"red\",\"blue\",\"red\",\"red\",\"red\",\"blue\",\"blue\",\"red\",\"red\",\"red\",\"red\",\"red\",\"red\",\"blue\",\"blue\",\"red\",\"red\",\"blue\",\"red\",\"blue\",\"red\",\"blue\",\"blue\",\"red\",\"blue\",\"red\",\"red\",\"red\",\"blue\",\"blue\",\"red\",\"blue\",\"red\",\"red\",\"red\",\"red\",\"red\",\"blue\",\"red\",\"blue\",\"blue\",\"blue\",\"red\",\"red\",\"blue\",\"blue\",\"blue\",\"blue\",\"red\",\"blue\",\"blue\",\"red\",\"red\",\"red\",\"blue\",\"blue\",\"red\",\"blue\",\"blue\",\"red\",\"red\",\"blue\",\"blue\",\"red\",\"red\",\"blue\",\"red\",\"blue\",\"blue\",\"blue\",\"blue\",\"red\",\"blue\",\"red\",\"blue\",\"blue\",\"red\",\"red\",\"blue\",\"blue\",\"blue\",\"blue\",\"blue\",\"red\",\"red\",\"blue\",\"red\",\"red\",\"blue\",\"blue\",\"blue\",\"red\",\"red\",\"red\",\"red\",\"blue\",\"blue\",\"blue\",\"red\",\"blue\",\"blue\",\"red\",\"blue\",\"red\",\"red\",\"blue\",\"blue\",\"red\",\"red\",\"blue\",\"red\",\"blue\",\"red\",\"red\",\"blue\",\"red\",\"red\",\"blue\",\"blue\",\"blue\",\"blue\",\"red\",\"blue\",\"blue\",\"blue\",\"red\",\"red\",\"blue\",\"blue\",\"blue\",\"red\",\"red\",\"red\",\"red\",\"blue\",\"red\",\"red\",\"red\",\"blue\",\"blue\",\"blue\",\"red\",\"blue\",\"red\",\"red\",\"blue\",\"blue\",\"blue\",\"red\",\"red\",\"blue\",\"red\",\"red\",\"red\",\"red\",\"blue\",\"red\",\"red\",\"blue\",\"blue\",\"red\",\"red\",\"red\",\"red\",\"blue\",\"red\",\"blue\",\"blue\",\"blue\",\"red\",\"blue\",\"red\",\"blue\",\"red\",\"red\",\"red\",\"red\",\"blue\",\"blue\",\"blue\",\"red\",\"blue\",\"red\",\"blue\",\"red\",\"red\",\"blue\",\"blue\",\"red\",\"red\",\"blue\",\"red\",\"red\",\"blue\",\"red\",\"red\",\"red\",\"blue\",\"red\",\"red\",\"red\",\"blue\",\"red\",\"red\",\"blue\",\"blue\",\"blue\",\"red\",\"blue\",\"red\",\"blue\",\"red\",\"red\",\"red\",\"blue\",\"red\",\"blue\",\"red\",\"red\",\"blue\",\"red\",\"red\",\"blue\",\"red\",\"red\",\"red\",\"blue\",\"blue\",\"blue\",\"blue\",\"red\",\"red\",\"red\",\"red\",\"red\",\"blue\",\"blue\",\"red\",\"red\",\"red\",\"blue\",\"blue\",\"blue\",\"red\",\"red\",\"red\",\"blue\",\"blue\",\"blue\",\"blue\",\"blue\",\"red\",\"blue\",\"red\",\"blue\",\"red\",\"red\",\"red\",\"blue\",\"red\",\"red\",\"blue\",\"blue\",\"red\",\"red\",\"blue\",\"blue\",\"blue\",\"red\",\"red\",\"blue\",\"blue\",\"blue\",\"blue\",\"red\",\"blue\",\"red\",\"red\",\"red\",\"red\",\"red\",\"red\",\"blue\",\"blue\",\"blue\",\"red\",\"red\",\"red\",\"blue\",\"blue\",\"red\",\"blue\",\"red\",\"red\",\"red\",\"red\",\"red\",\"red\",\"blue\",\"blue\",\"red\",\"blue\",\"blue\",\"red\",\"red\",\"blue\",\"blue\",\"blue\",\"red\",\"blue\",\"red\",\"blue\",\"red\",\"blue\",\"blue\",\"blue\",\"blue\",\"red\",\"blue\",\"red\",\"red\",\"blue\",\"red\",\"blue\",\"red\",\"red\",\"blue\",\"red\",\"blue\",\"red\",\"red\",\"red\",\"red\",\"red\",\"red\",\"red\",\"blue\",\"blue\",\"blue\",\"red\",\"red\",\"blue\",\"red\",\"red\",\"blue\",\"red\",\"red\",\"red\",\"blue\",\"blue\",\"red\",\"red\",\"red\",\"red\",\"blue\",\"red\",\"blue\",\"blue\",\"red\",\"blue\",\"red\",\"red\",\"blue\",\"red\",\"blue\",\"blue\",\"blue\",\"blue\",\"blue\",\"red\",\"red\",\"red\",\"blue\",\"blue\",\"red\",\"blue\",\"blue\",\"blue\",\"blue\",\"red\",\"red\",\"red\",\"blue\",\"red\",\"red\",\"red\",\"blue\",\"blue\",\"red\",\"blue\",\"red\",\"blue\",\"red\",\"blue\",\"red\",\"red\",\"red\",\"red\",\"blue\",\"red\",\"red\",\"red\",\"blue\",\"blue\",\"red\",\"red\",\"red\",\"blue\",\"blue\",\"red\",\"red\",\"red\",\"blue\",\"blue\",\"red\",\"red\",\"blue\",\"red\",\"red\",\"red\",\"blue\",\"blue\",\"blue\",\"red\",\"blue\",\"blue\",\"red\",\"red\",\"red\",\"red\",\"blue\",\"blue\",\"blue\",\"blue\",\"red\",\"blue\",\"blue\",\"blue\",\"red\",\"blue\",\"red\",\"red\",\"blue\",\"blue\",\"red\",\"blue\",\"blue\",\"red\",\"red\",\"red\",\"blue\",\"blue\",\"red\",\"blue\",\"red\",\"red\",\"red\",\"blue\",\"red\",\"blue\",\"red\",\"red\",\"blue\",\"blue\",\"blue\",\"red\",\"blue\",\"blue\",\"red\",\"blue\",\"red\",\"red\",\"red\",\"red\",\"red\",\"red\",\"blue\",\"blue\",\"red\",\"red\",\"blue\",\"blue\",\"blue\",\"red\",\"blue\",\"red\",\"red\",\"blue\",\"red\",\"blue\",\"red\",\"blue\",\"blue\",\"blue\",\"blue\",\"red\",\"red\",\"red\",\"blue\",\"blue\",\"blue\",\"red\",\"red\",\"blue\",\"blue\",\"blue\",\"blue\",\"blue\",\"red\",\"blue\",\"blue\",\"blue\",\"blue\",\"red\",\"red\",\"blue\",\"blue\",\"blue\",\"red\",\"red\",\"red\",\"red\",\"red\",\"red\",\"blue\",\"red\",\"red\",\"red\",\"blue\",\"red\",\"blue\",\"blue\",\"red\",\"blue\",\"red\",\"red\",\"blue\",\"blue\",\"blue\",\"red\",\"blue\",\"blue\",\"blue\",\"blue\",\"blue\",\"red\",\"blue\",\"blue\",\"blue\",\"blue\",\"blue\",\"blue\",\"blue\",\"blue\",\"red\",\"red\",\"blue\",\"red\",\"blue\",\"red\",\"red\",\"blue\",\"red\",\"blue\",\"red\",\"blue\",\"blue\",\"red\",\"blue\",\"red\",\"red\",\"blue\",\"red\",\"blue\",\"blue\",\"blue\",\"red\",\"blue\",\"blue\",\"blue\",\"blue\",\"blue\",\"red\",\"red\",\"red\",\"blue\",\"blue\",\"red\",\"red\",\"blue\",\"red\",\"blue\",\"blue\",\"red\",\"blue\",\"blue\",\"blue\",\"red\",\"red\",\"blue\",\"blue\",\"red\",\"blue\",\"red\",\"blue\",\"blue\",\"blue\",\"red\",\"red\",\"red\",\"blue\",\"red\",\"blue\",\"blue\",\"red\",\"blue\",\"blue\",\"red\",\"blue\",\"red\",\"red\",\"red\",\"red\",\"red\",\"red\",\"blue\",\"red\",\"red\",\"red\",\"blue\",\"red\",\"blue\",\"red\",\"red\",\"blue\",\"blue\",\"red\",\"red\",\"blue\",\"red\",\"blue\",\"blue\",\"blue\",\"blue\",\"blue\",\"red\",\"blue\",\"blue\",\"blue\",\"blue\",\"blue\",\"red\",\"red\",\"blue\",\"red\",\"red\",\"blue\",\"red\",\"blue\",\"red\",\"red\",\"red\",\"red\",\"red\",\"red\",\"red\",\"blue\",\"blue\",\"blue\",\"blue\",\"red\",\"red\",\"red\",\"blue\",\"red\",\"blue\",\"blue\",\"blue\",\"blue\",\"red\",\"blue\",\"red\",\"blue\",\"red\",\"red\",\"red\",\"red\",\"blue\",\"red\",\"blue\",\"blue\",\"blue\",\"blue\",\"blue\",\"blue\",\"red\",\"blue\",\"red\",\"blue\",\"red\",\"blue\",\"red\",\"blue\",\"blue\",\"red\",\"red\",\"blue\",\"red\",\"blue\",\"blue\",\"blue\",\"red\",\"red\",\"red\",\"red\",\"blue\",\"red\",\"red\",\"blue\",\"blue\",\"blue\",\"blue\",\"red\",\"blue\",\"red\",\"red\",\"red\",\"blue\",\"red\",\"blue\",\"blue\",\"blue\",\"red\",\"blue\",\"red\",\"blue\",\"blue\",\"red\",\"red\",\"blue\",\"blue\",\"blue\",\"red\",\"red\",\"red\",\"red\",\"red\",\"red\",\"blue\",\"red\",\"blue\",\"blue\",\"blue\",\"red\",\"red\",\"blue\",\"red\",\"red\",\"blue\",\"blue\",\"red\",\"red\",\"red\",\"blue\",\"blue\",\"blue\",\"blue\",\"blue\",\"blue\",\"blue\",\"red\",\"blue\",\"red\",\"red\",\"red\",\"red\",\"blue\",\"blue\",\"red\",\"blue\",\"blue\",\"blue\",\"blue\",\"red\",\"blue\",\"blue\",\"blue\",\"blue\",\"red\",\"blue\",\"blue\",\"blue\",\"red\",\"blue\",\"blue\",\"red\",\"red\",\"blue\",\"red\",\"blue\",\"red\",\"red\",\"blue\",\"red\",\"blue\",\"blue\",\"blue\",\"red\",\"blue\",\"blue\",\"red\",\"red\",\"blue\",\"red\",\"red\",\"blue\",\"blue\",\"blue\",\"blue\",\"red\",\"blue\",\"red\",\"red\",\"red\",\"blue\",\"red\",\"blue\",\"red\",\"blue\",\"red\",\"red\",\"blue\",\"red\",\"blue\",\"red\",\"blue\",\"red\",\"blue\",\"blue\",\"red\",\"blue\",\"blue\",\"red\",\"blue\",\"red\",\"blue\",\"red\",\"blue\",\"red\",\"blue\",\"blue\",\"red\",\"blue\",\"blue\",\"blue\",\"blue\",\"blue\",\"red\",\"red\",\"blue\",\"red\",\"red\",\"red\",\"blue\",\"blue\",\"blue\",\"red\",\"blue\",\"blue\",\"blue\",\"blue\",\"blue\",\"blue\",\"blue\",\"blue\",\"red\",\"red\",\"blue\",\"blue\",\"red\",\"blue\",\"red\",\"red\",\"blue\",\"blue\",\"red\",\"blue\",\"blue\",\"red\",\"blue\",\"blue\",\"blue\",\"red\",\"red\",\"blue\",\"red\",\"blue\",\"blue\",\"blue\",\"red\",\"blue\",\"blue\",\"blue\",\"blue\",\"blue\",\"blue\",\"red\",\"blue\",\"blue\",\"red\",\"blue\",\"red\",\"red\",\"red\",\"red\",\"blue\",\"blue\",\"red\",\"red\",\"blue\",\"red\",\"red\",\"blue\",\"blue\",\"red\",\"blue\",\"red\",\"red\",\"red\",\"blue\",\"red\",\"blue\",\"blue\",\"red\",\"red\",\"blue\",\"blue\",\"red\",\"blue\",\"blue\",\"blue\",\"red\",\"blue\",\"blue\",\"blue\",\"red\",\"red\",\"blue\",\"red\",\"blue\",\"blue\",\"blue\",\"blue\",\"blue\",\"red\",\"blue\",\"blue\",\"blue\",\"red\",\"red\",\"blue\",\"red\",\"blue\",\"red\",\"blue\",\"red\",\"red\",\"blue\",\"blue\",\"red\",\"blue\",\"red\",\"red\",\"red\",\"blue\",\"red\",\"blue\",\"red\",\"red\",\"blue\",\"blue\",\"blue\",\"red\",\"blue\",\"red\",\"red\",\"blue\",\"blue\",\"blue\",\"red\",\"red\",\"red\",\"blue\",\"red\",\"blue\",\"red\",\"blue\",\"blue\",\"red\",\"blue\",\"red\",\"red\",\"blue\",\"red\",\"red\",\"red\",\"blue\",\"blue\",\"blue\",\"red\",\"red\",\"blue\",\"red\",\"red\",\"blue\",\"red\",\"blue\",\"blue\",\"blue\",\"red\",\"red\",\"blue\",\"red\",\"red\",\"red\",\"red\",\"blue\",\"red\",\"blue\",\"blue\",\"red\",\"blue\",\"blue\",\"red\",\"red\",\"blue\",\"red\",\"red\",\"blue\",\"blue\",\"red\",\"red\",\"blue\",\"red\",\"blue\",\"red\",\"red\",\"blue\",\"blue\",\"blue\",\"blue\",\"blue\",\"blue\",\"red\",\"blue\",\"blue\",\"blue\",\"blue\",\"blue\",\"red\",\"red\",\"blue\",\"red\",\"blue\",\"blue\",\"red\",\"blue\",\"blue\",\"red\",\"red\",\"red\",\"red\",\"blue\",\"red\",\"blue\",\"blue\",\"blue\",\"blue\",\"red\",\"red\",\"red\",\"red\",\"blue\",\"red\",\"blue\",\"red\",\"red\",\"red\",\"red\",\"red\",\"blue\",\"red\",\"red\",\"blue\",\"blue\",\"blue\",\"red\",\"blue\",\"red\",\"blue\",\"blue\",\"red\",\"blue\",\"blue\",\"red\",\"blue\",\"blue\",\"blue\",\"red\",\"blue\",\"red\",\"red\",\"red\",\"blue\",\"red\",\"blue\",\"blue\",\"red\",\"blue\",\"blue\",\"blue\",\"blue\",\"red\",\"red\",\"red\",\"red\",\"red\",\"blue\",\"blue\",\"red\",\"blue\",\"blue\",\"red\",\"red\",\"red\",\"red\",\"red\",\"blue\",\"blue\",\"red\",\"red\",\"blue\",\"blue\",\"red\",\"blue\",\"blue\",\"blue\",\"red\",\"blue\",\"red\",\"blue\",\"blue\",\"red\",\"red\",\"blue\",\"blue\",\"blue\",\"red\",\"blue\",\"red\",\"red\",\"red\",\"blue\",\"blue\",\"blue\",\"blue\",\"blue\",\"blue\",\"blue\",\"red\",\"blue\",\"red\",\"blue\",\"red\",\"blue\",\"blue\",\"red\",\"red\",\"blue\",\"blue\",\"red\",\"red\",\"red\",\"red\",\"blue\",\"red\",\"red\",\"red\",\"blue\",\"blue\",\"blue\",\"red\",\"red\",\"red\",\"red\",\"blue\",\"red\",\"red\",\"red\",\"red\",\"red\",\"blue\",\"blue\",\"red\",\"blue\",\"red\",\"red\",\"blue\",\"blue\",\"red\",\"red\",\"red\",\"blue\",\"blue\",\"red\",\"red\",\"blue\",\"red\",\"red\",\"blue\",\"red\",\"red\",\"red\",\"red\",\"red\",\"red\",\"red\",\"blue\",\"red\",\"red\",\"blue\",\"blue\",\"red\",\"red\",\"blue\",\"blue\",\"red\",\"blue\",\"blue\",\"red\",\"red\",\"red\",\"red\",\"red\",\"red\",\"red\"],\"x\":{\"__ndarray__\":\"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\",\"dtype\":\"float64\",\"order\":\"little\",\"shape\":[1280]},\"y\":{\"__ndarray__\":\"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\",\"dtype\":\"float64\",\"order\":\"little\",\"shape\":[1280]}},\"selected\":{\"id\":\"1050\"},\"selection_policy\":{\"id\":\"1049\"}},\"id\":\"1002\",\"type\":\"ColumnDataSource\"},{\"attributes\":{\"axis\":{\"id\":\"1016\"},\"dimension\":1,\"ticker\":null},\"id\":\"1019\",\"type\":\"Grid\"},{\"attributes\":{},\"id\":\"1017\",\"type\":\"BasicTicker\"},{\"attributes\":{},\"id\":\"1013\",\"type\":\"BasicTicker\"},{\"attributes\":{},\"id\":\"1050\",\"type\":\"Selection\"},{\"attributes\":{\"formatter\":{\"id\":\"1047\"},\"major_label_policy\":{\"id\":\"1048\"},\"ticker\":{\"id\":\"1013\"}},\"id\":\"1012\",\"type\":\"LinearAxis\"},{\"attributes\":{\"fill_alpha\":{\"value\":0.1},\"fill_color\":{\"field\":\"color\"},\"line_alpha\":{\"value\":0.1},\"line_color\":{\"field\":\"color\"},\"size\":{\"value\":10},\"x\":{\"field\":\"x\"},\"y\":{\"field\":\"y\"}},\"id\":\"1036\",\"type\":\"Scatter\"},{\"attributes\":{\"fill_alpha\":{\"value\":0.25},\"fill_color\":{\"field\":\"color\"},\"line_alpha\":{\"value\":0.25},\"line_color\":{\"field\":\"color\"},\"size\":{\"value\":10},\"x\":{\"field\":\"x\"},\"y\":{\"field\":\"y\"}},\"id\":\"1035\",\"type\":\"Scatter\"},{\"attributes\":{\"axis\":{\"id\":\"1012\"},\"ticker\":null},\"id\":\"1015\",\"type\":\"Grid\"},{\"attributes\":{\"source\":{\"id\":\"1002\"}},\"id\":\"1038\",\"type\":\"CDSView\"},{\"attributes\":{},\"id\":\"1008\",\"type\":\"LinearScale\"}],\"root_ids\":[\"1003\"]},\"title\":\"Bokeh Application\",\"version\":\"2.3.3\"}};\n",
              "  var render_items = [{\"docid\":\"160071f7-aac2-44f8-b3f7-2dc7f8c0737e\",\"root_ids\":[\"1003\"],\"roots\":{\"1003\":\"3d133412-44ea-42c1-9218-d3f19e68296a\"}}];\n",
              "  root.Bokeh.embed.embed_items_notebook(docs_json, render_items);\n",
              "\n",
              "  }\n",
              "  if (root.Bokeh !== undefined) {\n",
              "    embed_document(root);\n",
              "  } else {\n",
              "    var attempts = 0;\n",
              "    var timer = setInterval(function(root) {\n",
              "      if (root.Bokeh !== undefined) {\n",
              "        clearInterval(timer);\n",
              "        embed_document(root);\n",
              "      } else {\n",
              "        attempts++;\n",
              "        if (attempts > 100) {\n",
              "          clearInterval(timer);\n",
              "          console.log(\"Bokeh: ERROR: Unable to run BokehJS code because BokehJS library is missing\");\n",
              "        }\n",
              "      }\n",
              "    }, 10, root)\n",
              "  }\n",
              "})(window);"
            ],
            "application/vnd.bokehjs_exec.v0+json": ""
          },
          "metadata": {
            "application/vnd.bokehjs_exec.v0+json": {
              "id": "1003"
            }
          }
        },
        {
          "output_type": "execute_result",
          "data": {
            "text/plain": [
              "Figure(id='1003', ...)"
            ],
            "text/html": [
              "<div style=\"display: table;\"><div style=\"display: table-row;\"><div style=\"display: table-cell;\"><b title=\"bokeh.plotting.figure.Figure\">Figure</b>(</div><div style=\"display: table-cell;\">id&nbsp;=&nbsp;'1003', <span id=\"1108\" style=\"cursor: pointer;\">&hellip;)</span></div></div><div class=\"1107\" style=\"display: none;\"><div style=\"display: table-cell;\"></div><div style=\"display: table-cell;\">above&nbsp;=&nbsp;[],</div></div><div class=\"1107\" style=\"display: none;\"><div style=\"display: table-cell;\"></div><div style=\"display: table-cell;\">align&nbsp;=&nbsp;'start',</div></div><div class=\"1107\" style=\"display: none;\"><div style=\"display: table-cell;\"></div><div style=\"display: table-cell;\">aspect_ratio&nbsp;=&nbsp;None,</div></div><div class=\"1107\" style=\"display: none;\"><div style=\"display: table-cell;\"></div><div style=\"display: table-cell;\">aspect_scale&nbsp;=&nbsp;1,</div></div><div class=\"1107\" style=\"display: none;\"><div style=\"display: table-cell;\"></div><div style=\"display: table-cell;\">background&nbsp;=&nbsp;None,</div></div><div class=\"1107\" style=\"display: none;\"><div style=\"display: table-cell;\"></div><div style=\"display: table-cell;\">background_fill_alpha&nbsp;=&nbsp;1.0,</div></div><div class=\"1107\" style=\"display: none;\"><div style=\"display: table-cell;\"></div><div style=\"display: table-cell;\">background_fill_color&nbsp;=&nbsp;'#ffffff',</div></div><div class=\"1107\" style=\"display: none;\"><div style=\"display: table-cell;\"></div><div style=\"display: table-cell;\">below&nbsp;=&nbsp;[LinearAxis(id='1012', ...)],</div></div><div class=\"1107\" style=\"display: none;\"><div style=\"display: table-cell;\"></div><div style=\"display: table-cell;\">border_fill_alpha&nbsp;=&nbsp;1.0,</div></div><div class=\"1107\" style=\"display: none;\"><div style=\"display: table-cell;\"></div><div style=\"display: table-cell;\">border_fill_color&nbsp;=&nbsp;'#ffffff',</div></div><div class=\"1107\" style=\"display: none;\"><div style=\"display: table-cell;\"></div><div style=\"display: table-cell;\">center&nbsp;=&nbsp;[Grid(id='1015', ...), Grid(id='1019', ...)],</div></div><div class=\"1107\" style=\"display: none;\"><div style=\"display: table-cell;\"></div><div style=\"display: table-cell;\">css_classes&nbsp;=&nbsp;[],</div></div><div class=\"1107\" style=\"display: none;\"><div style=\"display: table-cell;\"></div><div style=\"display: table-cell;\">disabled&nbsp;=&nbsp;False,</div></div><div class=\"1107\" style=\"display: none;\"><div style=\"display: table-cell;\"></div><div style=\"display: table-cell;\">extra_x_ranges&nbsp;=&nbsp;{},</div></div><div class=\"1107\" style=\"display: none;\"><div style=\"display: table-cell;\"></div><div style=\"display: table-cell;\">extra_y_ranges&nbsp;=&nbsp;{},</div></div><div class=\"1107\" style=\"display: none;\"><div style=\"display: table-cell;\"></div><div style=\"display: table-cell;\">frame_height&nbsp;=&nbsp;None,</div></div><div class=\"1107\" style=\"display: none;\"><div style=\"display: table-cell;\"></div><div style=\"display: table-cell;\">frame_width&nbsp;=&nbsp;None,</div></div><div class=\"1107\" style=\"display: none;\"><div style=\"display: table-cell;\"></div><div style=\"display: table-cell;\">height&nbsp;=&nbsp;400,</div></div><div class=\"1107\" style=\"display: none;\"><div style=\"display: table-cell;\"></div><div style=\"display: table-cell;\">height_policy&nbsp;=&nbsp;'auto',</div></div><div class=\"1107\" style=\"display: none;\"><div style=\"display: table-cell;\"></div><div style=\"display: table-cell;\">hidpi&nbsp;=&nbsp;True,</div></div><div class=\"1107\" style=\"display: none;\"><div style=\"display: table-cell;\"></div><div style=\"display: table-cell;\">inner_height&nbsp;=&nbsp;0,</div></div><div class=\"1107\" style=\"display: none;\"><div style=\"display: table-cell;\"></div><div style=\"display: table-cell;\">inner_width&nbsp;=&nbsp;0,</div></div><div class=\"1107\" style=\"display: none;\"><div style=\"display: table-cell;\"></div><div style=\"display: table-cell;\">js_event_callbacks&nbsp;=&nbsp;{},</div></div><div class=\"1107\" style=\"display: none;\"><div style=\"display: table-cell;\"></div><div style=\"display: table-cell;\">js_property_callbacks&nbsp;=&nbsp;{},</div></div><div class=\"1107\" style=\"display: none;\"><div style=\"display: table-cell;\"></div><div style=\"display: table-cell;\">left&nbsp;=&nbsp;[LinearAxis(id='1016', ...)],</div></div><div class=\"1107\" style=\"display: none;\"><div style=\"display: table-cell;\"></div><div style=\"display: table-cell;\">lod_factor&nbsp;=&nbsp;10,</div></div><div class=\"1107\" style=\"display: none;\"><div style=\"display: table-cell;\"></div><div style=\"display: table-cell;\">lod_interval&nbsp;=&nbsp;300,</div></div><div class=\"1107\" style=\"display: none;\"><div style=\"display: table-cell;\"></div><div style=\"display: table-cell;\">lod_threshold&nbsp;=&nbsp;2000,</div></div><div class=\"1107\" style=\"display: none;\"><div style=\"display: table-cell;\"></div><div style=\"display: table-cell;\">lod_timeout&nbsp;=&nbsp;500,</div></div><div class=\"1107\" style=\"display: none;\"><div style=\"display: table-cell;\"></div><div style=\"display: table-cell;\">margin&nbsp;=&nbsp;(0, 0, 0, 0),</div></div><div class=\"1107\" style=\"display: none;\"><div style=\"display: table-cell;\"></div><div style=\"display: table-cell;\">match_aspect&nbsp;=&nbsp;False,</div></div><div class=\"1107\" style=\"display: none;\"><div style=\"display: table-cell;\"></div><div style=\"display: table-cell;\">max_height&nbsp;=&nbsp;None,</div></div><div class=\"1107\" style=\"display: none;\"><div style=\"display: table-cell;\"></div><div style=\"display: table-cell;\">max_width&nbsp;=&nbsp;None,</div></div><div class=\"1107\" style=\"display: none;\"><div style=\"display: table-cell;\"></div><div style=\"display: table-cell;\">min_border&nbsp;=&nbsp;5,</div></div><div class=\"1107\" style=\"display: none;\"><div style=\"display: table-cell;\"></div><div style=\"display: table-cell;\">min_border_bottom&nbsp;=&nbsp;None,</div></div><div class=\"1107\" style=\"display: none;\"><div style=\"display: table-cell;\"></div><div style=\"display: table-cell;\">min_border_left&nbsp;=&nbsp;None,</div></div><div class=\"1107\" style=\"display: none;\"><div style=\"display: table-cell;\"></div><div style=\"display: table-cell;\">min_border_right&nbsp;=&nbsp;None,</div></div><div class=\"1107\" style=\"display: none;\"><div style=\"display: table-cell;\"></div><div style=\"display: table-cell;\">min_border_top&nbsp;=&nbsp;None,</div></div><div class=\"1107\" style=\"display: none;\"><div style=\"display: table-cell;\"></div><div style=\"display: table-cell;\">min_height&nbsp;=&nbsp;None,</div></div><div class=\"1107\" style=\"display: none;\"><div style=\"display: table-cell;\"></div><div style=\"display: table-cell;\">min_width&nbsp;=&nbsp;None,</div></div><div class=\"1107\" style=\"display: none;\"><div style=\"display: table-cell;\"></div><div style=\"display: table-cell;\">name&nbsp;=&nbsp;None,</div></div><div class=\"1107\" style=\"display: none;\"><div style=\"display: table-cell;\"></div><div style=\"display: table-cell;\">outer_height&nbsp;=&nbsp;0,</div></div><div class=\"1107\" style=\"display: none;\"><div style=\"display: table-cell;\"></div><div style=\"display: table-cell;\">outer_width&nbsp;=&nbsp;0,</div></div><div class=\"1107\" style=\"display: none;\"><div style=\"display: table-cell;\"></div><div style=\"display: table-cell;\">outline_line_alpha&nbsp;=&nbsp;1.0,</div></div><div class=\"1107\" style=\"display: none;\"><div style=\"display: table-cell;\"></div><div style=\"display: table-cell;\">outline_line_cap&nbsp;=&nbsp;'butt',</div></div><div class=\"1107\" style=\"display: none;\"><div style=\"display: table-cell;\"></div><div style=\"display: table-cell;\">outline_line_color&nbsp;=&nbsp;'#e5e5e5',</div></div><div class=\"1107\" style=\"display: none;\"><div style=\"display: table-cell;\"></div><div style=\"display: table-cell;\">outline_line_dash&nbsp;=&nbsp;[],</div></div><div class=\"1107\" style=\"display: none;\"><div style=\"display: table-cell;\"></div><div style=\"display: table-cell;\">outline_line_dash_offset&nbsp;=&nbsp;0,</div></div><div class=\"1107\" style=\"display: none;\"><div style=\"display: table-cell;\"></div><div style=\"display: table-cell;\">outline_line_join&nbsp;=&nbsp;'bevel',</div></div><div class=\"1107\" style=\"display: none;\"><div style=\"display: table-cell;\"></div><div style=\"display: table-cell;\">outline_line_width&nbsp;=&nbsp;1,</div></div><div class=\"1107\" style=\"display: none;\"><div style=\"display: table-cell;\"></div><div style=\"display: table-cell;\">output_backend&nbsp;=&nbsp;'canvas',</div></div><div class=\"1107\" style=\"display: none;\"><div style=\"display: table-cell;\"></div><div style=\"display: table-cell;\">renderers&nbsp;=&nbsp;[GlyphRenderer(id='1037', ...)],</div></div><div class=\"1107\" style=\"display: none;\"><div style=\"display: table-cell;\"></div><div style=\"display: table-cell;\">reset_policy&nbsp;=&nbsp;'standard',</div></div><div class=\"1107\" style=\"display: none;\"><div style=\"display: table-cell;\"></div><div style=\"display: table-cell;\">right&nbsp;=&nbsp;[],</div></div><div class=\"1107\" style=\"display: none;\"><div style=\"display: table-cell;\"></div><div style=\"display: table-cell;\">sizing_mode&nbsp;=&nbsp;None,</div></div><div class=\"1107\" style=\"display: none;\"><div style=\"display: table-cell;\"></div><div style=\"display: table-cell;\">subscribed_events&nbsp;=&nbsp;[],</div></div><div class=\"1107\" style=\"display: none;\"><div style=\"display: table-cell;\"></div><div style=\"display: table-cell;\">syncable&nbsp;=&nbsp;True,</div></div><div class=\"1107\" style=\"display: none;\"><div style=\"display: table-cell;\"></div><div style=\"display: table-cell;\">tags&nbsp;=&nbsp;[],</div></div><div class=\"1107\" style=\"display: none;\"><div style=\"display: table-cell;\"></div><div style=\"display: table-cell;\">title&nbsp;=&nbsp;Title(id='1041', ...),</div></div><div class=\"1107\" style=\"display: none;\"><div style=\"display: table-cell;\"></div><div style=\"display: table-cell;\">title_location&nbsp;=&nbsp;'above',</div></div><div class=\"1107\" style=\"display: none;\"><div style=\"display: table-cell;\"></div><div style=\"display: table-cell;\">toolbar&nbsp;=&nbsp;Toolbar(id='1027', ...),</div></div><div class=\"1107\" style=\"display: none;\"><div style=\"display: table-cell;\"></div><div style=\"display: table-cell;\">toolbar_location&nbsp;=&nbsp;'right',</div></div><div class=\"1107\" style=\"display: none;\"><div style=\"display: table-cell;\"></div><div style=\"display: table-cell;\">toolbar_sticky&nbsp;=&nbsp;True,</div></div><div class=\"1107\" style=\"display: none;\"><div style=\"display: table-cell;\"></div><div style=\"display: table-cell;\">visible&nbsp;=&nbsp;True,</div></div><div class=\"1107\" style=\"display: none;\"><div style=\"display: table-cell;\"></div><div style=\"display: table-cell;\">width&nbsp;=&nbsp;600,</div></div><div class=\"1107\" style=\"display: none;\"><div style=\"display: table-cell;\"></div><div style=\"display: table-cell;\">width_policy&nbsp;=&nbsp;'auto',</div></div><div class=\"1107\" style=\"display: none;\"><div style=\"display: table-cell;\"></div><div style=\"display: table-cell;\">x_range&nbsp;=&nbsp;DataRange1d(id='1004', ...),</div></div><div class=\"1107\" style=\"display: none;\"><div style=\"display: table-cell;\"></div><div style=\"display: table-cell;\">x_scale&nbsp;=&nbsp;LinearScale(id='1008', ...),</div></div><div class=\"1107\" style=\"display: none;\"><div style=\"display: table-cell;\"></div><div style=\"display: table-cell;\">y_range&nbsp;=&nbsp;DataRange1d(id='1006', ...),</div></div><div class=\"1107\" style=\"display: none;\"><div style=\"display: table-cell;\"></div><div style=\"display: table-cell;\">y_scale&nbsp;=&nbsp;LinearScale(id='1010', ...))</div></div></div>\n",
              "<script>\n",
              "(function() {\n",
              "  var expanded = false;\n",
              "  var ellipsis = document.getElementById(\"1108\");\n",
              "  ellipsis.addEventListener(\"click\", function() {\n",
              "    var rows = document.getElementsByClassName(\"1107\");\n",
              "    for (var i = 0; i < rows.length; i++) {\n",
              "      var el = rows[i];\n",
              "      el.style.display = expanded ? \"none\" : \"table-row\";\n",
              "    }\n",
              "    ellipsis.innerHTML = expanded ? \"&hellip;)\" : \"&lsaquo;&lsaquo;&lsaquo;\";\n",
              "    expanded = !expanded;\n",
              "  });\n",
              "})();\n",
              "</script>\n"
            ]
          },
          "metadata": {},
          "execution_count": 101
        }
      ]
    },
    {
      "cell_type": "markdown",
      "source": [
        "Скорее всего, на визуализации нет четкого разделения твитов между классами. Это значит, что по полученным нами векторам твитов не так-то просто определить, к какому классу твит пренадлежит. Значит, обычный линейный классификатор не очень хорошо справится с задачей. Надо будет делать глубокую (хотя бы два слоя) нейронную сеть.\n",
        "\n",
        "Подготовим загрузчики данных. Усреднее векторов будем делать в \"батчевалке\"(collate_fn). Она используется для того, чтобы собирать из данных torch.Tensor батчи, которые можно отправлять в модель."
      ],
      "metadata": {
        "id": "W01aziukRM-c"
      }
    },
    {
      "cell_type": "code",
      "source": [
        "from torch.utils.data import DataLoader\n",
        "\n",
        "batch_size = 1024\n",
        "num_workers = 4\n",
        "\n",
        "def average_emb(batch):\n",
        "    features = [np.mean(b[\"feature\"], axis=0) for b in batch]\n",
        "    targets = [b[\"target\"] for b in batch]\n",
        "\n",
        "    return {\"features\": torch.FloatTensor(features), \"targets\": torch.LongTensor(targets)}\n",
        "\n",
        "train_size = math.ceil(0.8*len(dev))\n",
        "train, valid = random_split(dev, [train_size, len(dev) - train_size])\n",
        "\n",
        "train_loader = DataLoader(train, batch_size=batch_size, num_workers=num_workers, shuffle=True, drop_last=True, collate_fn=average_emb)\n",
        "val_loader = DataLoader(valid, batch_size=batch_size, num_workers=num_workers, shuffle=False, drop_last=False, collate_fn=average_emb)\n"
      ],
      "metadata": {
        "id": "BwsnRQZGRI1b"
      },
      "execution_count": null,
      "outputs": []
    },
    {
      "cell_type": "markdown",
      "source": [
        "Определим функции для тренировки и теста модели:"
      ],
      "metadata": {
        "id": "GKqRWW_YaPyE"
      }
    },
    {
      "cell_type": "code",
      "source": [
        "from tqdm.notebook import tqdm\n",
        "\n",
        "def training(model, optimizer, criterion, train_loader, epoch, device=\"cpu\"):\n",
        "    pbar = tqdm(train_loader, desc=f\"Epoch {e + 1}. Train Loss: {0}\")\n",
        "    model.train()\n",
        "\n",
        "    for batch in pbar:\n",
        "        features = batch[\"features\"].to(device)\n",
        "        targets = batch[\"targets\"].to(device)\n",
        "\n",
        "        # Получи предсказания модели\n",
        "        # Посчитай лосс\n",
        "        # Обнови параметры модели\n",
        "        optimizer.zero_grad()\n",
        "\n",
        "        logits = model(features)\n",
        "        loss = criterion(logits, targets)\n",
        "        loss.backward()\n",
        "        optimizer.step()\n",
        "\n",
        "        pbar.set_description(f\"Epoch {e + 1}. Train Loss: {loss:.4}\")\n",
        "\n",
        "\n",
        "def testing(model, criterion, test_loader, device=\"cpu\"):\n",
        "    pbar = tqdm(test_loader, desc=f\"Test Loss: {0}, Test Acc: {0}\")\n",
        "\n",
        "    mean_loss = 0\n",
        "    mean_acc = 0\n",
        "\n",
        "    model.eval()\n",
        "    with torch.no_grad():\n",
        "\n",
        "        for batch in pbar:\n",
        "            features = batch[\"features\"].to(device)\n",
        "            targets = batch[\"targets\"].to(device)\n",
        "\n",
        "            # Получи предсказания модели\n",
        "            # Посчитай лосс\n",
        "            # Посчитай точность модели\n",
        "\n",
        "            logits = model(features)\n",
        "            loss = criterion(logits, targets)\n",
        "            acc = (logits.argmax(dim=1) == targets).type(torch.float).mean()\n",
        "\n",
        "            mean_loss += loss.item()\n",
        "            mean_acc += acc.item()\n",
        "\n",
        "            pbar.set_description(f\"Test Loss: {loss:.4}, Test Acc: {acc:.4}\")\n",
        "\n",
        "    pbar.set_description(f\"Test Loss: {mean_loss / len(test_loader):.4}, Test Acc: {mean_acc / len(test_loader):.4}\")\n",
        "\n",
        "    return {\"Test Loss\": mean_loss / len(test_loader), \"Test Acc\": mean_acc / len(test_loader)}"
      ],
      "metadata": {
        "id": "RojgiAfGaFOS"
      },
      "execution_count": null,
      "outputs": []
    },
    {
      "cell_type": "markdown",
      "source": [
        "Создадим модель, оптимизатор и целевую функцию. Вы можете сами выбрать количество слоев в нейронной сети, ваш любимый оптимизатор и целевую функцию."
      ],
      "metadata": {
        "id": "dhy1T9r2bKhe"
      }
    },
    {
      "cell_type": "code",
      "source": [
        "class SimpleNNet(nn.Module):\n",
        "\n",
        "  def __init__(self, emb_dim, n_classes):\n",
        "    super(SimpleNNet, self).__init__()\n",
        "    self.l1 = nn.Linear(emb_dim, 200)\n",
        "    self.l2 = nn.Linear(200, 128)\n",
        "    self.l3 = nn.Linear(128, 32)\n",
        "    self.l4 = nn.Linear(32, n_classes)\n",
        "    self.relu = nn.ReLU()\n",
        "\n",
        "  def forward(self, x):\n",
        "    x = self.relu(self.l1(x))\n",
        "    x = self.relu(self.l2(x))\n",
        "    x = self.relu(self.l3(x))\n",
        "    x = self.l4(x)\n",
        "\n",
        "    return x\n",
        "\n"
      ],
      "metadata": {
        "id": "jMHzUmu1bISi"
      },
      "execution_count": null,
      "outputs": []
    },
    {
      "cell_type": "code",
      "source": [
        "import torch.nn as nn\n",
        "from torch.optim import Adam, AdamW\n",
        "torch.cuda.empty_cache()\n",
        "\n",
        "vector_size = dev.word2vec.vector_size\n",
        "num_classes = 2\n",
        "lr = 1e-3\n",
        "num_epochs = 2\n",
        "\n",
        "print(vector_size)\n",
        "\n",
        "model = SimpleNNet(emb_dim=vector_size, n_classes=num_classes)\n",
        "model = model.to(device)\n",
        "optimizer = AdamW(model.parameters(), weight_decay=0.1, lr=lr)\n",
        "criterion = nn.CrossEntropyLoss()\n"
      ],
      "metadata": {
        "colab": {
          "base_uri": "https://localhost:8080/"
        },
        "id": "znzNdhXMc0KS",
        "outputId": "4514c6b3-eaa5-4d36-b5a4-a873eb9c0f0f"
      },
      "execution_count": null,
      "outputs": [
        {
          "output_type": "stream",
          "name": "stdout",
          "text": [
            "300\n"
          ]
        }
      ]
    },
    {
      "cell_type": "markdown",
      "source": [
        "Наконец, обучим модель и протестируем её.\n",
        "\n",
        "После каждой эпохи будем проверять качество модели на валидационной части датасета. Если метрика стала лучше, будем сохранять модель. Подумайте, какая метрика (точность или лосс) будет лучше работать в этой задаче?"
      ],
      "metadata": {
        "id": "2pkJe7SRdyY1"
      }
    },
    {
      "cell_type": "code",
      "source": [
        "best_result = 0\n",
        "for e in range(num_epochs):\n",
        "  training(model, optimizer, criterion, train_loader, e, device)\n",
        "  test_res = testing(model, criterion, val_loader, device)\n",
        "  print(f'test res: {test_res}')\n",
        "  if test_res['Test Acc'] > best_result:\n",
        "    best_result = test_res['Test Acc']\n",
        "    torch.save(model.state_dict(), \"model.pt\")\n",
        "\n",
        "\n"
      ],
      "metadata": {
        "colab": {
          "base_uri": "https://localhost:8080/",
          "height": 180,
          "referenced_widgets": [
            "e4226ba9c22741099605291a34ef9408",
            "86cf8bd320744938a28f0334e82d4b00",
            "17b1b131b67b405b97a318d36f927709",
            "ae2ed38a53ff4bb29795873bc468eb17",
            "890a464c1c7b4c36aee4df1aeb07795a",
            "19d25e5af1224fcf8c974a72c8bd957c",
            "08ba8db13b824f6c8a9ff981f3cbb069",
            "23f71c807d8e4dd48b128af99bee4441",
            "75c20f3a3fea4e67a2748189106f7413",
            "f7c80e6d6c88455c88d761346f6cbc14",
            "4d9cba0a32b44106b4333ecf71936b4a",
            "53e70ddc6b694ac19ebcdd9867b6e4c6",
            "f2964b3e318c485fa8b79cc8bdfa7319",
            "0e01e1ee754f4149aa2c2c6fb731c537",
            "3bf4f82abcbd4dcdba0876498649a39e",
            "3c78c889b0fb48fe983df9131fde5ee0",
            "718b6cd25a014d95b7b71c778ba46c52",
            "ee004118eb6546a3b78d6c4c64856359",
            "012063b086dc4918a215a4240209c32a",
            "ad26785e2a7f4154beb5782276d5e651",
            "ea3e0c3a79764fc99beb96fa22aa6ab0",
            "dda108b11390497390f6701dc8a26266",
            "94095bba270c4783a8f8543650d003a8",
            "e788d067690f48249f2ab0f4fdd83e26",
            "dd8396e0a0d248a894438ace0fad08ee",
            "01c2d1503e88450aafefb0ca2f44f6ac",
            "a73fdc8bd785423bbec1c62afb0868c2",
            "cb11f8ea06154ca3902b2e9387955a3d",
            "1facdfba761c41c1b969e84496596834",
            "4f1375b99d4245da960a467c730ce5fa",
            "83288052358a4b75ad55093453de6ddc",
            "0088f491744f426f8b7123792956dc6c",
            "38d6190dc1474bca966baf1b33c6c41b",
            "1195abf0a0bc4a4892672e2789f4c468",
            "8cde429f07ca479ca143e62970a38d02",
            "aa1279f629fa47f09ba0f27bf182b1ec",
            "cc817d49795345dc84988757cb5cf01d",
            "380a1c85dcc142c797ae84273bacb051",
            "23c961f99ebd459e8651c37a66901ea6",
            "9ebaec82903a477d975f63d0ad621340",
            "2a8a8c40a6204a53b13f89a828f73798",
            "ec0ffef82c2f4160b934becaf3299b37",
            "1875d1c6d86847a98f1acb5a429b70f2",
            "06b07127066a41b785fc851a348b75c2"
          ]
        },
        "id": "r0OocxEleDgA",
        "outputId": "f61254f2-93d6-4a9e-91e1-13c5fc7019e3"
      },
      "execution_count": null,
      "outputs": [
        {
          "output_type": "display_data",
          "data": {
            "text/plain": [
              "Epoch 1. Train Loss: 0:   0%|          | 0/1000 [00:00<?, ?it/s]"
            ],
            "application/vnd.jupyter.widget-view+json": {
              "version_major": 2,
              "version_minor": 0,
              "model_id": "e4226ba9c22741099605291a34ef9408"
            }
          },
          "metadata": {}
        },
        {
          "output_type": "display_data",
          "data": {
            "text/plain": [
              "Test Loss: 0, Test Acc: 0:   0%|          | 0/250 [00:00<?, ?it/s]"
            ],
            "application/vnd.jupyter.widget-view+json": {
              "version_major": 2,
              "version_minor": 0,
              "model_id": "53e70ddc6b694ac19ebcdd9867b6e4c6"
            }
          },
          "metadata": {}
        },
        {
          "output_type": "stream",
          "name": "stdout",
          "text": [
            "test res: {'Test Loss': 0.5083959572315216, 'Test Acc': 0.7475}\n"
          ]
        },
        {
          "output_type": "display_data",
          "data": {
            "text/plain": [
              "Epoch 2. Train Loss: 0:   0%|          | 0/1000 [00:00<?, ?it/s]"
            ],
            "application/vnd.jupyter.widget-view+json": {
              "version_major": 2,
              "version_minor": 0,
              "model_id": "94095bba270c4783a8f8543650d003a8"
            }
          },
          "metadata": {}
        },
        {
          "output_type": "display_data",
          "data": {
            "text/plain": [
              "Test Loss: 0, Test Acc: 0:   0%|          | 0/250 [00:00<?, ?it/s]"
            ],
            "application/vnd.jupyter.widget-view+json": {
              "version_major": 2,
              "version_minor": 0,
              "model_id": "1195abf0a0bc4a4892672e2789f4c468"
            }
          },
          "metadata": {}
        },
        {
          "output_type": "stream",
          "name": "stdout",
          "text": [
            "test res: {'Test Loss': 0.4975156818628311, 'Test Acc': 0.755734375}\n"
          ]
        }
      ]
    },
    {
      "cell_type": "code",
      "source": [
        "test_loader = DataLoader(TwitterDataset(test_data, 'text', 'emotion', word2vec),\n",
        "                           batch_size=batch_size,\n",
        "                           num_workers=num_workers,\n",
        "                           shuffle=False,\n",
        "                           drop_last=False,\n",
        "                           collate_fn=average_emb)\n",
        "\n",
        "model.load_state_dict(torch.load('model.pt', map_location=device))\n",
        "print(testing(model, criterion, test_loader, device))"
      ],
      "metadata": {
        "colab": {
          "base_uri": "https://localhost:8080/",
          "height": 66,
          "referenced_widgets": [
            "14519f5bdb214796bbd7db477651b4a0",
            "ba444b8dc4c8415698553a6c538b3a68",
            "b3592fb0a84d420aa744aab5effbdc56",
            "bd239163581644bd970fa97a1234e209",
            "9d2263b68b134179a6efa1b7fcf0bd0d",
            "67ed8f0bff3b4fe58563a5f8e4297ab7",
            "066c0ef1282b40aa8abc023967572478",
            "cac1358fff7441d3b9ccb35e5f23fd33",
            "5a84a0826b7546f28a8016cafeef7545",
            "18e45ea043674b47b7b0f5f322d924a9",
            "455894b192e641dd89fab89dcba6b08f"
          ]
        },
        "id": "zZNWdOmae5BE",
        "outputId": "f90775d2-f250-4305-9fbc-678f85994c90"
      },
      "execution_count": null,
      "outputs": [
        {
          "output_type": "display_data",
          "data": {
            "text/plain": [
              "Test Loss: 0, Test Acc: 0:   0%|          | 0/313 [00:00<?, ?it/s]"
            ],
            "application/vnd.jupyter.widget-view+json": {
              "version_major": 2,
              "version_minor": 0,
              "model_id": "14519f5bdb214796bbd7db477651b4a0"
            }
          },
          "metadata": {}
        },
        {
          "output_type": "stream",
          "name": "stdout",
          "text": [
            "{'Test Loss': 0.49910881486944497, 'Test Acc': 0.7540248103035144}\n"
          ]
        }
      ]
    },
    {
      "cell_type": "markdown",
      "source": [
        "#Embeddings for unknown words (8 баллов)"
      ],
      "metadata": {
        "id": "Qdot2_4fGCkS"
      }
    },
    {
      "cell_type": "markdown",
      "source": [
        "Пока что использовалась не вся информация из текста. Часть информации фильтровалось – если слова не было в словаре эмбеддингов, то мы просто превращали слово в нулевой вектор Хочется использовать информацию по-максимуму. Поэтому рассмотрим другие способы обработки слов, которых нет в словаре. А именно:\n",
        "\n",
        "Для каждого незнакомого слова будем запоминать его контекст(слова слева и справа от этого слова). Эмбеддингом нашего незнакомого слова будет сумма эмбеддингов всех слов из его контекста. (4 балла)\n",
        "\n",
        "Для каждого слова текста получим его эмбеддинг из Tfidf с помощью TfidfVectorizer из sklearn. Итоговым эмбеддингом для каждого слова будет сумма двух эмбеддингов: предобученного и Tfidf-ного. Для слов, которых нет в словаре предобученных эмбеддингов, результирующий эмбеддинг будет просто полученный из Tfidf. (4 балла)\n",
        "Реализуйте оба варианта ниже. Напишите, какой способ сработал лучше и ваши мысли, почему так получилось."
      ],
      "metadata": {
        "id": "ARQrr_AaGGMC"
      }
    },
    {
      "cell_type": "markdown",
      "source": [
        "##1-ый вариант"
      ],
      "metadata": {
        "id": "DkPAypHqGqCw"
      }
    },
    {
      "cell_type": "code",
      "source": [
        "class TwitterDataset_1(Dataset):\n",
        "    def __init__(self, data: pd.DataFrame, feature_column: str, target_column: str, word2vec: gensim.models.Word2Vec, window_size=1):\n",
        "        self.tokenizer = WordPunctTokenizer()\n",
        "        self.window_size = window_size\n",
        "        self.data = data\n",
        "\n",
        "        self.feature_column = feature_column\n",
        "        self.target_column = target_column\n",
        "\n",
        "        self.word2vec = word2vec\n",
        "\n",
        "        self.label2num = lambda label: 0 if label == 0 else 1\n",
        "        self.mean = np.mean(word2vec.vectors, axis=0)\n",
        "        self.std = np.std(word2vec.vectors, axis=0)\n",
        "\n",
        "    def __getitem__(self, item):\n",
        "        text = self.data[self.feature_column][item]\n",
        "        label = self.label2num(self.data[self.target_column][item])\n",
        "\n",
        "        tokens = self.get_tokens_(text)\n",
        "        embeddings = self.get_embeddings_(tokens)\n",
        "\n",
        "        return {\"feature\": embeddings, \"target\": label}\n",
        "\n",
        "    def get_tokens_(self, text):\n",
        "        # Получи все токены из текста и профильтруй их\n",
        "        return [word for word in self.tokenizer.tokenize(text.lower()) if all(c not in string.punctuation for c in word) and len(word) > 3]\n",
        "\n",
        "    def get_embeddings_(self, tokens):\n",
        "        # Получи эмбеддинги слов и усредни их\n",
        "\n",
        "        embeddings = [(self.word2vec.get_vector(word) - self.mean) / self.std for word in tokens if word in self.word2vec]\n",
        "\n",
        "        if len(embeddings) == 0:\n",
        "            embeddings = np.zeros((1, self.word2vec.vector_size))\n",
        "        else:\n",
        "            embeddings = np.array(embeddings)\n",
        "            if len(embeddings != len(tokens)):\n",
        "              for i in range(len(tokens)):\n",
        "                if tokens[i] not in self.word2vec:\n",
        "                  if 2 <= i <= len(embeddings) - 3:\n",
        "                    embs = sum([embeddings[j] for j in range(i - 2, i + 3)])\n",
        "                  else:\n",
        "                    j = max(0, i - 2)\n",
        "                    k = min(i + 2, len(embeddings) - 1)\n",
        "                    embs = sum([embeddings[j] for j in range(j, k + 1)])\n",
        "                  embeddings = np.insert(embeddings, i, embs, axis=0)\n",
        "                i += 1\n",
        "\n",
        "\n",
        "\n",
        "        return embeddings\n",
        "\n",
        "        '''\n",
        "        embeddings = []\n",
        "\n",
        "        for i, word in enumerate(tokens):\n",
        "            if word not in self.word2vec: # если слова нет среди предобученных эмбеддингов, расчитываем его эмбеддинг по его контенту\n",
        "                left_context = max(0, i - self.window_size)\n",
        "                right_context = min(len(tokens) - 1, i + self.window_size)\n",
        "\n",
        "                context = tokens[left_context: i] + tokens[i + 1: right_context]\n",
        "                embedding = [(self.word2vec.get_vector(context_word) - self.mean) / self.std for context_word in context if context_word in self.word2vec]\n",
        "\n",
        "                if not len(embedding):\n",
        "                    embedding = np.zeros(self.word2vec.vector_size)\n",
        "                else:\n",
        "                    embedding = np.sum(embedding, axis=0)\n",
        "\n",
        "                embeddings.append(embedding)\n",
        "            else:\n",
        "                embeddings.append((self.word2vec.get_vector(word) - self.mean) / self.std)\n",
        "\n",
        "        if len(embeddings) == 0:\n",
        "            embeddings = np.zeros((1, self.word2vec.vector_size))\n",
        "        else:\n",
        "            embeddings = np.array(embeddings)\n",
        "            if len(embeddings.shape) == 1:\n",
        "                embeddings = embeddings.reshape(-1, 1)\n",
        "\n",
        "        return embeddings\n",
        "        '''\n",
        "\n",
        "\n",
        "\n",
        "\n",
        "      #  if len(embeddings) == 0:\n",
        "       #     embeddings = np.zeros((1, self.word2vec.vector_size))\n",
        "       # else:\n",
        "       #     embeddings = np.array(embeddings)\n",
        "       #     if len(embeddings.shape) == 1:\n",
        "       #         embeddings = embeddings.reshape(-1, 1)\n",
        "\n",
        "       # return embeddings\n",
        "\n",
        "    def __len__(self):\n",
        "        return self.data.shape[0]"
      ],
      "metadata": {
        "id": "1X5MuiF7iTXq"
      },
      "execution_count": null,
      "outputs": []
    },
    {
      "cell_type": "code",
      "source": [
        "dev_1 = TwitterDataset_1(dev_data, 'text', 'emotion', word2vec, 2)"
      ],
      "metadata": {
        "id": "JyOqMgDnMLi9"
      },
      "execution_count": null,
      "outputs": []
    },
    {
      "cell_type": "code",
      "source": [
        "train_size = math.ceil(0.8*len(dev_1))\n",
        "train, valid = random_split(dev_1, [train_size, len(dev_1) - train_size])\n",
        "\n",
        "train_loader = DataLoader(train, batch_size=batch_size, num_workers=num_workers, shuffle=True, drop_last=True, collate_fn=average_emb)\n",
        "val_loader = DataLoader(valid, batch_size=batch_size, num_workers=num_workers, shuffle=False, drop_last=False, collate_fn=average_emb)"
      ],
      "metadata": {
        "id": "qxW-2CDpMYMA"
      },
      "execution_count": null,
      "outputs": []
    },
    {
      "cell_type": "code",
      "source": [
        "torch.cuda.empty_cache()\n",
        "model_1 = SimpleNNet(emb_dim=vector_size, n_classes=num_classes)\n",
        "model_1 = model.to(device)\n",
        "optimizer_1 = AdamW(model_1.parameters(), weight_decay=0.1, lr=lr)\n",
        "criterion_1 = nn.CrossEntropyLoss()"
      ],
      "metadata": {
        "id": "9d5WL2jzMd--"
      },
      "execution_count": null,
      "outputs": []
    },
    {
      "cell_type": "code",
      "source": [
        "dev_1.__getitem__(1)"
      ],
      "metadata": {
        "colab": {
          "base_uri": "https://localhost:8080/"
        },
        "id": "wHm-fOLdNYUl",
        "outputId": "92d79e88-9a7e-4530-8f7e-e553f54f43e9"
      },
      "execution_count": null,
      "outputs": [
        {
          "output_type": "execute_result",
          "data": {
            "text/plain": [
              "{'feature': array([[-0.41419262,  1.9283851 ,  2.014323  , ..., -3.2890456 ,\n",
              "         -1.5645111 , -1.7003472 ],\n",
              "        [ 0.40159726,  1.3698087 ,  1.4848171 , ..., -1.6771787 ,\n",
              "         -0.55704194, -1.0419474 ],\n",
              "        [-0.38191125,  0.5536756 ,  0.16398586, ...,  0.13022426,\n",
              "          0.8179045 , -0.5436422 ],\n",
              "        [-0.43387863,  0.00490082,  0.36551994, ..., -1.7420911 ,\n",
              "         -1.8253735 , -0.11475748]], dtype=float32), 'target': 1}"
            ]
          },
          "metadata": {},
          "execution_count": 36
        }
      ]
    },
    {
      "cell_type": "code",
      "source": [
        "best_metric = 0\n",
        "for e in range(num_epochs):\n",
        "  training(model_1, optimizer_1, criterion_1, train_loader, e, device)\n",
        "  test_res = testing(model_1, criterion_1, val_loader, device)\n",
        "  print(f'test res: {test_res}')\n",
        "  if test_res['Test Acc'] > best_metric:\n",
        "    best_metric = test_res['Test Acc']\n",
        "    torch.save(model_1.state_dict(), \"model_v1.pt\")"
      ],
      "metadata": {
        "colab": {
          "base_uri": "https://localhost:8080/",
          "height": 180,
          "referenced_widgets": [
            "a2523d4d59984fada63c6f93001e5882",
            "311617a6ef514f059864ba03280a1665",
            "1027371071e44cc0981990480a231486",
            "796a66f5a0094210962b88c53ff90ec2",
            "b9bf866815b746be9f232587b7fa86d7",
            "d24e963702f3446ba16e9efe12435837",
            "3c1d8deed9104ae287be7e24d467b439",
            "7611583947994d7597283f0c1204ae3b",
            "ea4bd569280f4b51ae7e443e0aad2699",
            "085a26d25e984e44a8eead5e3ea18f6c",
            "9a2970bf736a4d11878deb5e2c3ef6b1",
            "25a8b22c736a450a91192a50bea76c26",
            "90cfd3d52d8942c5ae67b931973e9e1b",
            "23dfccde91974122831eac76fbd00e19",
            "103008f17dc64678ab49d2e091e69242",
            "bff961a4b0104b6bbba2d1bed598f2a2",
            "0a34c5e89b95463386d6c1743502a4e9",
            "40fadb5c88b946a6b2a99c534daaf6e3",
            "3c1fc1c5be6740df80cb5bd21a8924b3",
            "3f46d4839d354f66846f3de05396106c",
            "4fcd7c230ee0452babc68a1fd1661eef",
            "f4e1e73b868f49a2967bfbb885e74b4b",
            "19a4e7a1f06d429dbf7e41845620a0ea",
            "56ed64c9871c4f83be6346ab783c54e5",
            "4760b54968ff4f819975cac3433c64b9",
            "0bbb17dbd5e347428917ee082da77bb8",
            "d44bbf966b514be098bb0a5d7535d759",
            "4d3fccc5a4c24debb9c355002bd5f2a0",
            "57f2b5acca6841a98fe955ce7089370f",
            "29bbeeaa316f47a384e418cd5c110a1c",
            "58adf43afb1940db9869895878129503",
            "4eee558f7817442ba4d1cdc54f51ece1",
            "e36f1589465a429394aeb9e6693fc337",
            "bd9235f9e83d4878b944f396abdfa128",
            "146105b112a14b5fbaf3f492da2dfd2f",
            "9cea2e82e5fc4844906ae6f4adca680a",
            "40eab70e036141598a7af4f72026ed08",
            "c134f03344d54bd9a56c05475a69ed34",
            "46693999c9644e4aa88540d24290363b",
            "cd4881bbbefa403b8b93b03f6947c421",
            "92ed1d34b60c4a70827ccb2523f540e4",
            "2f3c7b35f7fe48e88ef46b48d2932d21",
            "a0230884740f4e2da24a48eccb904a63",
            "219f95f61ad24a1db18b04f0c2aa2223"
          ]
        },
        "id": "rk72CNgjMx5y",
        "outputId": "b3516c55-4729-40e3-d14c-f000dac0b8c9"
      },
      "execution_count": null,
      "outputs": [
        {
          "output_type": "display_data",
          "data": {
            "text/plain": [
              "Epoch 1. Train Loss: 0:   0%|          | 0/1000 [00:00<?, ?it/s]"
            ],
            "application/vnd.jupyter.widget-view+json": {
              "version_major": 2,
              "version_minor": 0,
              "model_id": "a2523d4d59984fada63c6f93001e5882"
            }
          },
          "metadata": {}
        },
        {
          "output_type": "display_data",
          "data": {
            "text/plain": [
              "Test Loss: 0, Test Acc: 0:   0%|          | 0/250 [00:00<?, ?it/s]"
            ],
            "application/vnd.jupyter.widget-view+json": {
              "version_major": 2,
              "version_minor": 0,
              "model_id": "25a8b22c736a450a91192a50bea76c26"
            }
          },
          "metadata": {}
        },
        {
          "output_type": "stream",
          "name": "stdout",
          "text": [
            "test res: {'Test Loss': 0.5030762758255005, 'Test Acc': 0.75240234375}\n"
          ]
        },
        {
          "output_type": "display_data",
          "data": {
            "text/plain": [
              "Epoch 2. Train Loss: 0:   0%|          | 0/1000 [00:00<?, ?it/s]"
            ],
            "application/vnd.jupyter.widget-view+json": {
              "version_major": 2,
              "version_minor": 0,
              "model_id": "19a4e7a1f06d429dbf7e41845620a0ea"
            }
          },
          "metadata": {}
        },
        {
          "output_type": "display_data",
          "data": {
            "text/plain": [
              "Test Loss: 0, Test Acc: 0:   0%|          | 0/250 [00:00<?, ?it/s]"
            ],
            "application/vnd.jupyter.widget-view+json": {
              "version_major": 2,
              "version_minor": 0,
              "model_id": "bd9235f9e83d4878b944f396abdfa128"
            }
          },
          "metadata": {}
        },
        {
          "output_type": "stream",
          "name": "stdout",
          "text": [
            "test res: {'Test Loss': 0.500691398024559, 'Test Acc': 0.75273828125}\n"
          ]
        }
      ]
    },
    {
      "cell_type": "code",
      "source": [
        "test_loader_1 = DataLoader(TwitterDataset_1(test_data, 'text', 'emotion', word2vec, 2),\n",
        "                           batch_size=batch_size,\n",
        "                           num_workers=num_workers,\n",
        "                           shuffle=False,\n",
        "                           drop_last=False,\n",
        "                           collate_fn=average_emb)\n",
        "\n",
        "model_1.load_state_dict(torch.load('model_v1.pt', map_location=device))\n",
        "print(testing(model_1, criterion, test_loader_1, device))"
      ],
      "metadata": {
        "colab": {
          "base_uri": "https://localhost:8080/",
          "height": 66,
          "referenced_widgets": [
            "0c8e55ef4354444697c83e50d25d0a5c",
            "7c756a28bd44484e8ffaaeb725ef62ca",
            "9bb8bcf5ac4546d1b65a2b9d7864d5ba",
            "98b4d16efae64fa5b6ab2cba5efe22bc",
            "9195fef1c4644f5e9ee9c9e4e9d8a37e",
            "77cebf78cea24689a3b47bbc2b38ee4e",
            "0ef8bfb5fe784b5a8969a5bd7e3c2154",
            "e4da1fe5562345c78e3a8c43054d0f36",
            "9d3eb74d402b431395b9e816a72ae854",
            "a6b8213337f449e9b8c58c400de3daed",
            "7ab45d74223647b6a20e2ae4ae121dc2"
          ]
        },
        "id": "8c67-9FAbbmZ",
        "outputId": "7a3a019c-4b40-44c9-d5c0-18497106dac6"
      },
      "execution_count": null,
      "outputs": [
        {
          "output_type": "display_data",
          "data": {
            "text/plain": [
              "Test Loss: 0, Test Acc: 0:   0%|          | 0/313 [00:00<?, ?it/s]"
            ],
            "application/vnd.jupyter.widget-view+json": {
              "version_major": 2,
              "version_minor": 0,
              "model_id": "0c8e55ef4354444697c83e50d25d0a5c"
            }
          },
          "metadata": {}
        },
        {
          "output_type": "stream",
          "name": "stdout",
          "text": [
            "{'Test Loss': 0.5032277432874369, 'Test Acc': 0.7514258436501597}\n"
          ]
        }
      ]
    },
    {
      "cell_type": "markdown",
      "source": [
        "##2-й вариант"
      ],
      "metadata": {
        "id": "xN0Wt5YFt1uI"
      }
    },
    {
      "cell_type": "code",
      "source": [
        "!pip install sparsesvd"
      ],
      "metadata": {
        "colab": {
          "base_uri": "https://localhost:8080/"
        },
        "id": "Zl8kAyzpHCxo",
        "outputId": "9167f0fe-216a-424a-9e10-854fc592ab49"
      },
      "execution_count": null,
      "outputs": [
        {
          "output_type": "stream",
          "name": "stdout",
          "text": [
            "Looking in indexes: https://pypi.org/simple, https://us-python.pkg.dev/colab-wheels/public/simple/\n",
            "Collecting sparsesvd\n",
            "  Downloading sparsesvd-0.2.2.tar.gz (36 kB)\n",
            "  Preparing metadata (setup.py) ... \u001b[?25l\u001b[?25hdone\n",
            "Requirement already satisfied: scipy>=0.6.0 in /usr/local/lib/python3.8/dist-packages (from sparsesvd) (1.7.3)\n",
            "Requirement already satisfied: cython in /usr/local/lib/python3.8/dist-packages (from sparsesvd) (0.29.33)\n",
            "Requirement already satisfied: numpy<1.23.0,>=1.16.5 in /usr/local/lib/python3.8/dist-packages (from scipy>=0.6.0->sparsesvd) (1.22.4)\n",
            "Building wheels for collected packages: sparsesvd\n",
            "  Building wheel for sparsesvd (setup.py) ... \u001b[?25l\u001b[?25hdone\n",
            "  Created wheel for sparsesvd: filename=sparsesvd-0.2.2-cp38-cp38-linux_x86_64.whl size=442465 sha256=b2c965a1c25cbe3347834ec5c93ace251c61e9a0b76655120c180b87bb599c51\n",
            "  Stored in directory: /root/.cache/pip/wheels/9a/90/46/8ba8493c6eaa5343837a43aad621862d76fdb5b8434c588c26\n",
            "Successfully built sparsesvd\n",
            "Installing collected packages: sparsesvd\n",
            "Successfully installed sparsesvd-0.2.2\n"
          ]
        }
      ]
    },
    {
      "cell_type": "code",
      "source": [
        "from sklearn.feature_extraction.text import TfidfVectorizer\n",
        "from sparsesvd import sparsesvd\n",
        "\n",
        "def get_tfidf_embeddings(data, embedding_size=300):\n",
        "  vectorizer = TfidfVectorizer(min_df=5)\n",
        "  sparse_tfidf_mx = vectorizer.fit_transform(data)\n",
        "  u, x, vt = sparsesvd(sparse_tfidf_mx.tocsc(), embedding_size)\n",
        "  words, v = vectorizer.get_feature_names(), vt.T\n",
        "  return {words[i] : v[i] for i in range(len(v))}\n"
      ],
      "metadata": {
        "id": "eMq3Z1LwITJH"
      },
      "execution_count": null,
      "outputs": []
    },
    {
      "cell_type": "code",
      "source": [
        "class TwitterDataset_2(TwitterDataset):\n",
        "  def __init__(self, data: pd.DataFrame, feature_column: str, target_column: str, word2vec: gensim.models.Word2Vec, tfidf_embeddings):\n",
        "    super(TwitterDataset_2, self).__init__(data, feature_column, target_column, word2vec)\n",
        "    self.tfidf_embeddings = tfidf_embeddings\n",
        "\n",
        "  def get_embeddings(self, tokens):\n",
        "    embeddings = []\n",
        "    for token in tokens:\n",
        "      if token not in self.word2vec:\n",
        "        if token in self.tfidf_embeddings:\n",
        "          embeddings.append((self.tfidf_embeddings[token] - self.mean) / self.std)\n",
        "      elif token not in self.tfidf_embeddings:\n",
        "        embeddings.append((self.word2vec.get_vector(token) - self.mean) / self.std)\n",
        "      else:\n",
        "        embeddings.append((self.word2vec.get_vector(token) + self.tfidf_embeddings(token) - self.mean) / self.std)\n",
        "\n",
        "     # embeddings.append((self.word2vec.get_vector(token) * (token in self.word2vec) + self.tfidf_embeddings[token] * (token in self.tfifd_embeddings) - self.mean) / self.std)\n",
        "    if len(embeddings) == 0:\n",
        "      embeddings = np.zeros((1, self.word2vec.vector_size))\n",
        "    else:\n",
        "      embeddings = np.array(embeddings)\n",
        "\n",
        "    return embeddings\n",
        "\n",
        "\n"
      ],
      "metadata": {
        "id": "7h87lqeXJmgN"
      },
      "execution_count": null,
      "outputs": []
    },
    {
      "cell_type": "code",
      "source": [
        "tfidf_embs = get_tfidf_embeddings(data['text'].values, 300)\n"
      ],
      "metadata": {
        "id": "9VJn5JBaMcLP"
      },
      "execution_count": null,
      "outputs": []
    },
    {
      "cell_type": "code",
      "source": [
        "dev_2 = TwitterDataset_2(dev_data, 'text', 'emotion', word2vec, tfidf_embs)\n",
        "\n",
        "train_idx = math.ceil(0.8 * len(dev_2))\n",
        "\n",
        "batch_size = 1024\n",
        "num_workers = 4\n",
        "\n",
        "train_2, valid_2 = random_split(dev_2, [train_idx, len(dev_2) - train_idx])\n",
        "\n",
        "train_loader_2 = DataLoader(train_2, batch_size=batch_size, num_workers=num_workers, shuffle=True, drop_last=True, collate_fn=average_emb)\n",
        "valid_loader_2 = DataLoader(valid_2, batch_size=batch_size, num_workers=num_workers, shuffle=False, drop_last=False, collate_fn=average_emb)"
      ],
      "metadata": {
        "id": "00ddKufgMuQ3"
      },
      "execution_count": null,
      "outputs": []
    },
    {
      "cell_type": "code",
      "source": [
        "from torch.optim import AdamW\n",
        "vector_size = dev_2.word2vec.vector_size\n",
        "num_classes = 2\n",
        "lr = 1e-3\n",
        "num_epochs = 2\n",
        "\n",
        "print(vector_size)\n",
        "\n",
        "model_2 = SimpleNNet(emb_dim=vector_size, n_classes=num_classes).to(device)\n",
        "optimizer = AdamW(model_2.parameters(), weight_decay=0.1, lr=lr)\n",
        "criterion = nn.CrossEntropyLoss()\n"
      ],
      "metadata": {
        "id": "nqXOfXNNQPMM"
      },
      "execution_count": null,
      "outputs": []
    },
    {
      "cell_type": "code",
      "source": [
        "best_result = 0\n",
        "for e in range(num_epochs):\n",
        "  training(model_2, optimizer, criterion, train_loader_2, e, device)\n",
        "  test_res = testing(model_2, criterion, valid_loader_2, device)\n",
        "  print(f'test res: {test_res}')\n",
        "  if test_res['Test Acc'] > best_result:\n",
        "    best_result = test_res['Test Acc']\n",
        "    torch.save(model_2.state_dict(), \"model_v2.pt\")"
      ],
      "metadata": {
        "id": "V_RKiRTcRidl"
      },
      "execution_count": null,
      "outputs": []
    },
    {
      "cell_type": "code",
      "source": [
        "test_loader_2 = DataLoader(TwitterDataset_2(test_data, 'text', 'emotion', word2vec, tfidf_embs),\n",
        "                           batch_size=batch_size,\n",
        "                           num_workers=num_workers,\n",
        "                           shuffle=False,\n",
        "                           drop_last=False,\n",
        "                           collate_fn=average_emb)\n",
        "\n",
        "model_2.load_state_dict(torch.load('model_v2.pt', map_location=device))\n",
        "print(testing(model_2, criterion, test_loader_2, device))"
      ],
      "metadata": {
        "id": "1QdvGvlHSDu0"
      },
      "execution_count": null,
      "outputs": []
    },
    {
      "cell_type": "markdown",
      "source": [
        "#Вывод\n",
        "###Оба варианта показали результат лучший, чем когда мы вообще не учитывали слово. Оно и понятно - мы теряли часть информации. В то же время второй вариант показал лучший результат, чем первый, так как tf-ifd-эмбеддинги берут во внимание весь корпус текста, соответсвтенно наблюдаем прирост информации"
      ],
      "metadata": {
        "id": "DQo-KfALELi_"
      }
    }
  ]
}