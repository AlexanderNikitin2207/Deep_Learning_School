{
  "cells": [
    {
      "cell_type": "markdown",
      "metadata": {
        "id": "Ot3c4fjZwC4T"
      },
      "source": [
        "<img src=\"https://s8.hostingkartinok.com/uploads/images/2018/08/308b49fcfbc619d629fe4604bceb67ac.jpg\" width=500, height=450>\n",
        "<h3 style=\"text-align: center;\"><b>Физтех-Школа Прикладной математики и информатики (ФПМИ) МФТИ</b></h3>"
      ]
    },
    {
      "cell_type": "markdown",
      "metadata": {
        "id": "P2JdzEXmwRU5"
      },
      "source": [
        "---"
      ]
    },
    {
      "cell_type": "markdown",
      "metadata": {
        "id": "Fc8iHXIVwDwj"
      },
      "source": [
        "***Some parts of the notebook are almost the copy of [ mmta-team course](https://github.com/mmta-team/mmta_fall_2020). Special thanks to mmta-team for making them publicly available. [Original notebook](https://github.com/mmta-team/mmta_fall_2020/blob/master/tasks/01_word_embeddings/task_word_embeddings.ipynb).***"
      ]
    },
    {
      "cell_type": "markdown",
      "metadata": {
        "id": "7D0wm5jt6j0U"
      },
      "source": [
        "<b> Прочитайте семинар, пожалуйста, для успешного выполнения домашнего задания. В конце ноутка напишите свой вывод. Работа без вывода оценивается ниже."
      ]
    },
    {
      "cell_type": "markdown",
      "metadata": {
        "id": "BIWqBuEa6j0b"
      },
      "source": [
        "## Задача поиска схожих по смыслу предложений"
      ]
    },
    {
      "cell_type": "markdown",
      "metadata": {
        "id": "NUkwMPLA6j0g"
      },
      "source": [
        "Мы будем ранжировать вопросы [StackOverflow](https://stackoverflow.com) на основе семантического векторного представления"
      ]
    },
    {
      "cell_type": "markdown",
      "metadata": {
        "id": "dNRXIEfu5a3Q"
      },
      "source": [
        "До этого в курсе не было речи про задачу ранжировния, поэтому введем математическую формулировку"
      ]
    },
    {
      "cell_type": "markdown",
      "metadata": {
        "id": "uS9FwWNd5a3S"
      },
      "source": [
        "## Задача ранжирования(Learning to Rank)"
      ]
    },
    {
      "cell_type": "markdown",
      "metadata": {
        "id": "wdwY9-f75a3T"
      },
      "source": [
        "* $X$ - множество объектов\n",
        "* $X^l = \\{x_1, x_2, ..., x_l\\}$ - обучающая выборка\n",
        "<br>На обучающей выборке задан порядок между некоторыми элементами, то есть нам известно, что некий объект выборки более релевантный для нас, чем другой:\n",
        "* $i \\prec j$ - порядок пары индексов объектов на выборке $X^l$ c индексами $i$ и $j$\n",
        "### Задача:\n",
        "построить ранжирующую функцию $a$ : $X \\rightarrow R$ такую, что\n",
        "$$i \\prec j \\Rightarrow a(x_i) < a(x_j)$$"
      ]
    },
    {
      "cell_type": "markdown",
      "metadata": {
        "id": "WG2IGBsh5a3U"
      },
      "source": [
        "<img src=\"https://d25skit2l41vkl.cloudfront.net/wp-content/uploads/2016/12/Featured-Image.jpg\" width=500, height=450>"
      ]
    },
    {
      "cell_type": "markdown",
      "metadata": {
        "id": "MQk_rolFwT_h"
      },
      "source": [
        "### Embeddings"
      ]
    },
    {
      "cell_type": "markdown",
      "metadata": {
        "id": "xUe1PGXn6j0l"
      },
      "source": [
        "Будем использовать предобученные векторные представления слов на постах Stack Overflow.<br>\n",
        "[A word2vec model trained on Stack Overflow posts](https://github.com/vefstathiou/SO_word2vec)"
      ]
    },
    {
      "cell_type": "code",
      "execution_count": null,
      "metadata": {
        "colab": {
          "base_uri": "https://localhost:8080/"
        },
        "id": "mYkI54Y-rk7a",
        "outputId": "907d0479-92ce-4aa8-94bb-a1c2f8b52b40"
      },
      "outputs": [
        {
          "output_type": "stream",
          "name": "stdout",
          "text": [
            "--2023-02-23 16:18:11--  https://zenodo.org/record/1199620/files/SO_vectors_200.bin?download=1\n",
            "Resolving zenodo.org (zenodo.org)... 188.185.124.72\n",
            "Connecting to zenodo.org (zenodo.org)|188.185.124.72|:443... connected.\n",
            "HTTP request sent, awaiting response... 200 OK\n",
            "Length: 1453905423 (1.4G) [application/octet-stream]\n",
            "Saving to: ‘SO_vectors_200.bin?download=1’\n",
            "\n",
            "SO_vectors_200.bin? 100%[===================>]   1.35G   532KB/s    in 45m 32s \n",
            "\n",
            "2023-02-23 17:03:44 (520 KB/s) - ‘SO_vectors_200.bin?download=1’ saved [1453905423/1453905423]\n",
            "\n"
          ]
        }
      ],
      "source": [
        "!wget https://zenodo.org/record/1199620/files/SO_vectors_200.bin?download=1"
      ]
    },
    {
      "cell_type": "code",
      "execution_count": null,
      "metadata": {
        "id": "O8YJTOYv6j0s"
      },
      "outputs": [],
      "source": [
        "from gensim.models.keyedvectors import KeyedVectors\n",
        "wv_embeddings = KeyedVectors.load_word2vec_format(\"SO_vectors_200.bin?download=1\", binary=True)"
      ]
    },
    {
      "cell_type": "markdown",
      "metadata": {
        "id": "aIcT_g-C6j1E"
      },
      "source": [
        "#### Как пользоваться этими векторами?"
      ]
    },
    {
      "cell_type": "markdown",
      "metadata": {
        "id": "DWO5SPDY6j1G"
      },
      "source": [
        "Посмотрим на примере одного слова, что из себя представляет embedding"
      ]
    },
    {
      "cell_type": "code",
      "execution_count": null,
      "metadata": {
        "id": "YYftifSDcmB0",
        "colab": {
          "base_uri": "https://localhost:8080/"
        },
        "outputId": "408d50de-dc6a-4aeb-e35e-49a8cdd7dedd"
      },
      "outputs": [
        {
          "output_type": "stream",
          "name": "stdout",
          "text": [
            "<gensim.models.keyedvectors.Word2VecKeyedVectors object at 0x7f18109d1100>\n"
          ]
        }
      ],
      "source": [
        "print(wv_embeddings)"
      ]
    },
    {
      "cell_type": "code",
      "execution_count": null,
      "metadata": {
        "id": "KeSBlQfk6j1J",
        "scrolled": true,
        "colab": {
          "base_uri": "https://localhost:8080/"
        },
        "outputId": "b398e1d0-54af-4402-fed9-baa569b9520e"
      },
      "outputs": [
        {
          "output_type": "stream",
          "name": "stdout",
          "text": [
            "float32 (200,)\n"
          ]
        }
      ],
      "source": [
        "word = 'dog'\n",
        "if word in wv_embeddings:\n",
        "    print(wv_embeddings[word].dtype, wv_embeddings[word].shape)"
      ]
    },
    {
      "cell_type": "code",
      "execution_count": null,
      "metadata": {
        "id": "Wy_o0NpZcy4V",
        "colab": {
          "base_uri": "https://localhost:8080/"
        },
        "outputId": "8a2f88c6-0ff5-421a-b518-ad545b4e720d"
      },
      "outputs": [
        {
          "output_type": "execute_result",
          "data": {
            "text/plain": [
              "array([ 0.6851772 , -1.2778991 , -0.41913974,  1.3623164 , -3.1675398 ,\n",
              "        0.09950767,  0.6402681 , -1.1245339 , -0.6699619 , -0.6998852 ,\n",
              "        0.4936771 , -0.40500194, -3.0706816 , -2.2809966 ,  0.85798043,\n",
              "        2.7093108 ,  0.3492745 , -0.03494101, -0.22330493,  1.2290467 ,\n",
              "        1.7755157 , -3.158358  , -0.6515983 ,  0.7224096 ,  2.3193083 ,\n",
              "       -1.7969862 ,  0.40903398, -2.744604  , -1.7179952 , -0.914309  ,\n",
              "       -0.75887376, -0.35140672, -0.5182776 , -1.9097351 , -0.8300773 ,\n",
              "        0.02147918,  1.1783471 ,  0.03169126, -0.3069023 ,  1.6666299 ,\n",
              "        0.6711357 , -2.1706133 , -0.11800487,  0.22336982, -1.2075394 ,\n",
              "       -0.86297905, -0.63865614,  1.1733794 ,  0.10022762,  0.7017279 ,\n",
              "        2.7290728 , -0.4640484 , -2.1719306 , -0.3562852 , -1.8449957 ,\n",
              "        0.10270727,  1.1125596 , -0.8364318 ,  1.9513408 , -0.97937447,\n",
              "        1.2650859 ,  0.06809282,  0.6477318 , -0.52431005, -0.6103959 ,\n",
              "       -2.979829  , -0.7889965 , -0.11004248,  1.7603841 , -1.0547444 ,\n",
              "       -0.98998   , -1.1834062 , -2.5359967 , -0.35286787,  0.7733574 ,\n",
              "        0.16300043,  0.76991326,  1.9223119 , -1.2843752 , -1.5023688 ,\n",
              "        0.15765315, -2.4150877 ,  2.4326491 , -0.36940518,  2.2511673 ,\n",
              "       -1.602164  ,  1.0818797 ,  0.59202737, -2.8141215 , -0.9547914 ,\n",
              "       -1.8816328 , -2.251527  ,  0.208779  ,  0.24186568,  0.36262512,\n",
              "       -1.1487632 , -0.33167967,  1.4389734 ,  0.9608894 ,  0.35947856,\n",
              "       -0.45259392, -0.45514247, -2.1248987 ,  1.828458  , -1.8585896 ,\n",
              "        0.4114255 ,  1.1428199 , -0.50754434, -0.12364098, -3.7919624 ,\n",
              "       -1.3027766 , -1.0333146 ,  0.97529024, -0.9289765 , -0.9175716 ,\n",
              "        0.04012083, -1.7776312 , -0.16942771,  2.318477  ,  0.16809507,\n",
              "        1.5688989 , -1.9980967 , -1.0449845 ,  1.3963503 , -0.13359734,\n",
              "       -1.4952992 , -0.60059625, -0.04604611, -1.8134118 , -0.50812286,\n",
              "       -1.7697111 , -2.6240456 ,  0.50520307, -2.0226426 , -0.8193453 ,\n",
              "       -3.036361  ,  0.32545397, -0.5707175 ,  0.93880373,  1.5678531 ,\n",
              "       -0.4485128 ,  1.4617805 ,  2.6263788 ,  1.0872725 ,  0.21335754,\n",
              "        0.93010294,  3.489708  ,  0.17392842,  0.911422  , -0.61643803,\n",
              "       -2.1106405 ,  0.36008754, -0.32839164, -0.2838782 , -0.23150575,\n",
              "        0.73796517, -1.3399363 , -2.356109  , -2.0610485 , -1.2165475 ,\n",
              "        0.7498155 , -0.19086224, -2.8202996 , -0.37605208,  0.1785639 ,\n",
              "        0.72514814, -0.8697008 ,  0.41977307,  0.04011298, -2.8652422 ,\n",
              "       -0.18194903, -0.5910473 , -2.7400806 , -0.6971266 ,  1.2614748 ,\n",
              "       -1.2979602 , -3.0204656 , -0.743788  ,  1.6838108 ,  0.11611916,\n",
              "        0.84407914, -3.4510055 ,  0.61605287, -1.2632201 , -0.00716789,\n",
              "       -1.2434675 , -0.47464737, -0.7219753 , -0.51104206, -3.793404  ,\n",
              "       -1.0512625 , -1.2473925 , -0.67683965, -0.17455211,  2.6480556 ,\n",
              "       -2.1741571 , -2.2171447 ,  0.71225303,  4.1232347 , -1.4569836 ],\n",
              "      dtype=float32)"
            ]
          },
          "metadata": {},
          "execution_count": 5
        }
      ],
      "source": [
        "wv_embeddings[word]"
      ]
    },
    {
      "cell_type": "code",
      "execution_count": null,
      "metadata": {
        "id": "T4Eq-D1qxpMJ",
        "colab": {
          "base_uri": "https://localhost:8080/"
        },
        "outputId": "a17963c1-9ffe-452e-8f5f-2f0814042336"
      },
      "outputs": [
        {
          "output_type": "stream",
          "name": "stdout",
          "text": [
            "Num of words: 1787145\n"
          ]
        }
      ],
      "source": [
        "print(f\"Num of words: {len(wv_embeddings.index2word)}\")"
      ]
    },
    {
      "cell_type": "code",
      "execution_count": null,
      "metadata": {
        "id": "xds-FSICc7rn",
        "colab": {
          "base_uri": "https://localhost:8080/",
          "height": 36
        },
        "outputId": "05777772-f923-42b9-ddf9-bff551299def"
      },
      "outputs": [
        {
          "output_type": "execute_result",
          "data": {
            "text/plain": [
              "'work'"
            ],
            "application/vnd.google.colaboratory.intrinsic+json": {
              "type": "string"
            }
          },
          "metadata": {},
          "execution_count": 7
        }
      ],
      "source": [
        "wv_embeddings.index2word[22]"
      ]
    },
    {
      "cell_type": "markdown",
      "metadata": {
        "id": "ZT6NTCys6j1Q"
      },
      "source": [
        "Найдем наиболее близкие слова к слову `dog`:"
      ]
    },
    {
      "cell_type": "markdown",
      "metadata": {
        "id": "n08z2PjMwC5o"
      },
      "source": [
        "#### Вопрос 1:\n",
        "* Входит ли слов `cat` топ-5 близких слов к слову `dog`? Какое место?"
      ]
    },
    {
      "cell_type": "code",
      "execution_count": null,
      "metadata": {
        "id": "nYwVz0xG6j1U",
        "scrolled": true,
        "colab": {
          "base_uri": "https://localhost:8080/",
          "height": 209
        },
        "outputId": "901ae36b-7f3e-40e9-b99d-12eb6275bcc2"
      },
      "outputs": [
        {
          "output_type": "stream",
          "name": "stdout",
          "text": [
            "animal: 0.8564\n",
            "dogs: 0.7881\n",
            "mammal: 0.7624\n",
            "cats: 0.7621\n",
            "animals: 0.7608\n",
            "feline: 0.7392\n",
            "bird: 0.7315\n",
            "animal1: 0.7219\n",
            "doggy: 0.7213\n",
            "labrador: 0.7209\n"
          ]
        },
        {
          "output_type": "execute_result",
          "data": {
            "text/plain": [
              "'your code'"
            ],
            "application/vnd.google.colaboratory.intrinsic+json": {
              "type": "string"
            }
          },
          "metadata": {},
          "execution_count": 8
        }
      ],
      "source": [
        "# method most_simmilar\n",
        "res_dog = wv_embeddings.most_similar(positive = [word], topn = 10)\n",
        "for i in range(10):\n",
        "  most_similar_key, similarity = res_dog[i]\n",
        "  print(f'{most_similar_key}: {similarity:.4f}')\n",
        "\n",
        "\n",
        "'''your code'''"
      ]
    },
    {
      "cell_type": "code",
      "execution_count": null,
      "metadata": {
        "id": "Xc0mz8TghPY2",
        "colab": {
          "base_uri": "https://localhost:8080/"
        },
        "outputId": "a812871d-9f7f-48d5-ab02-71aae7d8de86"
      },
      "outputs": [
        {
          "output_type": "execute_result",
          "data": {
            "text/plain": [
              "0.3147658705711365"
            ]
          },
          "metadata": {},
          "execution_count": 9
        }
      ],
      "source": [
        "wv_embeddings.distance(word, 'cat')"
      ]
    },
    {
      "cell_type": "code",
      "execution_count": null,
      "metadata": {
        "id": "9iyh_t61hvsE",
        "colab": {
          "base_uri": "https://localhost:8080/"
        },
        "outputId": "dda54531-89ae-4e92-f4ea-c7ed495599b0"
      },
      "outputs": [
        {
          "output_type": "execute_result",
          "data": {
            "text/plain": [
              "(1787145, 200)"
            ]
          },
          "metadata": {},
          "execution_count": 10
        }
      ],
      "source": [
        "wv_embeddings.vectors.shape"
      ]
    },
    {
      "cell_type": "markdown",
      "metadata": {
        "id": "ai48-5vv6j1d"
      },
      "source": [
        "### Векторные представления текста\n",
        "\n",
        "Перейдем от векторных представлений отдельных слов к векторным представлениям вопросов, как к **среднему** векторов всех слов в вопросе. Если для какого-то слова нет предобученного вектора, то его нужно пропустить. Если вопрос не содержит ни одного известного слова, то нужно вернуть нулевой вектор."
      ]
    },
    {
      "cell_type": "code",
      "execution_count": null,
      "metadata": {
        "id": "EhNuxBJd6j1f"
      },
      "outputs": [],
      "source": [
        "import numpy as np\n",
        "import re\n",
        "# you can use your tokenizer\n",
        "# for example, from nltk.tokenize import WordPunctTokenizer\n",
        "class MyTokenizer:\n",
        "    def __init__(self):\n",
        "        pass\n",
        "    def tokenize(self, text):\n",
        "        return re.findall('\\w+', text)\n",
        "tokenizer = MyTokenizer()"
      ]
    },
    {
      "cell_type": "code",
      "execution_count": null,
      "metadata": {
        "id": "FJjwmkn0mtou",
        "colab": {
          "base_uri": "https://localhost:8080/"
        },
        "outputId": "05684d4f-ddde-4091-a7df-7847adf6faf5"
      },
      "outputs": [
        {
          "output_type": "stream",
          "name": "stdout",
          "text": [
            "i\n",
            "m\n",
            "telling\n",
            "you\n",
            "bro\n"
          ]
        }
      ],
      "source": [
        "token_prob = MyTokenizer()\n",
        "for word in token_prob.tokenize(\"I'm telling you, Bro!\".lower()):\n",
        "  print(word)"
      ]
    },
    {
      "cell_type": "code",
      "execution_count": null,
      "metadata": {
        "id": "YHcvu6186j1m",
        "colab": {
          "base_uri": "https://localhost:8080/",
          "height": 36
        },
        "outputId": "b2cfe6ce-c95a-464b-f423-b329e7e20f1c"
      },
      "outputs": [
        {
          "output_type": "execute_result",
          "data": {
            "text/plain": [
              "'your code'"
            ],
            "application/vnd.google.colaboratory.intrinsic+json": {
              "type": "string"
            }
          },
          "metadata": {},
          "execution_count": 164
        }
      ],
      "source": [
        "def question_to_vec(question, embeddings, tokenizer, dim=200):\n",
        "  features = np.zeros([dim], dtype='float64')\n",
        "  n = 0\n",
        "  for word in tokenizer.tokenize(question.lower()):\n",
        "    if word in embeddings:\n",
        "      n += 1\n",
        "      features += embeddings[f'{word}']\n",
        "  if n:\n",
        "    return features / n\n",
        "  return features\n",
        "\n",
        "\"\"\"\n",
        "        question: строка\n",
        "        embeddings: наше векторное представление\n",
        "        dim: размер любого вектора в нашем представлении\n",
        "\n",
        "        return: векторное представление для вопроса\n",
        "\"\"\"\n",
        "\n",
        "\n",
        "'''your code'''"
      ]
    },
    {
      "cell_type": "markdown",
      "metadata": {
        "id": "u5Q_4j7r6j1u"
      },
      "source": [
        "Теперь у нас есть метод для создания векторного представления любого предложения."
      ]
    },
    {
      "cell_type": "markdown",
      "metadata": {
        "id": "EsJSNkhm6j1y"
      },
      "source": [
        "#### Вопрос 2:\n",
        "* Какая третья(с индексом 2) компонента вектора предложения `I love neural networks` (округлите до 2 знаков после запятой)?"
      ]
    },
    {
      "cell_type": "code",
      "execution_count": null,
      "metadata": {
        "id": "a62r11cT6j10",
        "scrolled": true,
        "colab": {
          "base_uri": "https://localhost:8080/",
          "height": 53
        },
        "outputId": "7536863d-c51e-41ae-fc8c-73c936da7c05"
      },
      "outputs": [
        {
          "output_type": "stream",
          "name": "stdout",
          "text": [
            "-1.29\n"
          ]
        },
        {
          "output_type": "execute_result",
          "data": {
            "text/plain": [
              "'your code'"
            ],
            "application/vnd.google.colaboratory.intrinsic+json": {
              "type": "string"
            }
          },
          "metadata": {},
          "execution_count": 165
        }
      ],
      "source": [
        "my_tokenizer = MyTokenizer()\n",
        "text = 'I love neural networks'\n",
        "feat = question_to_vec(text, wv_embeddings, my_tokenizer, 200)\n",
        "print(f'{feat[2]:.2f}')\n",
        "\n",
        "'''your code'''"
      ]
    },
    {
      "cell_type": "markdown",
      "metadata": {
        "id": "Y60z4t6W6j16"
      },
      "source": [
        "### Оценка близости текстов\n",
        "\n",
        "Представим, что мы используем идеальные векторные представления слов. Тогда косинусное расстояние между дублирующими предложениями должно быть меньше, чем между случайно взятыми предложениями.\n",
        "\n",
        "Сгенерируем для каждого из $N$ вопросов $R$ случайных отрицательных примеров и примешаем к ним также настоящие дубликаты. Для каждого вопроса будем ранжировать с помощью нашей модели $R + 1$ примеров и смотреть на позицию дубликата. Мы хотим, чтобы дубликат был первым в ранжированном списке.\n",
        "\n",
        "#### Hits@K\n",
        "Первой простой метрикой будет количество корректных попаданий для какого-то $K$:\n",
        "$$ \\text{Hits@K} = \\frac{1}{N}\\sum_{i=1}^N \\, [rank\\_q_i^{'} \\le K],$$\n",
        "* $\\begin{equation*}\n",
        "[x < 0 ] \\equiv\n",
        " \\begin{cases}\n",
        "   1, &x < 0\\\\\n",
        "   0, &x \\geq 0\n",
        " \\end{cases}\n",
        "\\end{equation*}$ - индикаторная функция\n",
        "* $q_i$ - $i$-ый вопрос\n",
        "* $q_i^{'}$ - его дубликат\n",
        "* $rank\\_q_i^{'}$ - позиция дубликата в ранжированном списке ближайших предложений для вопроса $q_i$.\n",
        "\n",
        "#### DCG@K\n",
        "Второй метрикой будет упрощенная DCG метрика, учитывающая порядок элементов в списке путем домножения релевантности элемента на вес равный обратному логарифму номера позиции::\n",
        "$$ \\text{DCG@K} = \\frac{1}{N} \\sum_{i=1}^N\\frac{1}{\\log_2(1+rank\\_q_i^{'})}\\cdot[rank\\_q_i^{'} \\le K],$$\n",
        "С такой метрикой модель штрафуется за большой ранк корректного ответа"
      ]
    },
    {
      "cell_type": "markdown",
      "metadata": {
        "id": "eHCnH-jw6j18"
      },
      "source": [
        "#### Вопрос 3:\n",
        "* Максимум `Hits@47 - DCG@1`?"
      ]
    },
    {
      "cell_type": "markdown",
      "metadata": {
        "id": "XGtBzcB6wN-J"
      },
      "source": [
        "Максимум равен 1\n"
      ]
    },
    {
      "cell_type": "markdown",
      "metadata": {
        "id": "_tFemBkP6j1-"
      },
      "source": [
        "<img src='https://hsto.org/files/1c5/edf/dee/1c5edfdeebce4b71a86bdf986d9f88f2.jpg' width=400, height=200>"
      ]
    },
    {
      "cell_type": "markdown",
      "metadata": {
        "id": "0sUSxk866j1_"
      },
      "source": [
        "#### Пример оценок\n",
        "\n",
        "Вычислим описанные выше метрики для игрушечного примера.\n",
        "Пусть\n",
        "* $N = 1$, $R = 3$\n",
        "* <font color='green'>\"Что такое python?\"</font> - вопрос $q_1$\n",
        "* <font color='red'>\"Что такое язык python?\"</font> - его дубликат $q_i^{'}$\n",
        "\n",
        "Пусть модель выдала следующий ранжированный список кандидатов:\n",
        "\n",
        "1. \"Как изучить с++?\"\n",
        "2. <font color='red'>\"Что такое язык python?\"</font>\n",
        "3. \"Хочу учить Java\"\n",
        "4. \"Не понимаю Tensorflow\"\n",
        "\n",
        "$\\Rightarrow rank\\_q_i^{'} = 2$\n",
        "\n",
        "Вычислим метрику *Hits@K* для *K = 1, 4*:\n",
        "\n",
        "- [K = 1] $\\text{Hits@1} =  [rank\\_q_i^{'} \\le 1)] = 0$\n",
        "- [K = 4] $\\text{Hits@4} =  [rank\\_q_i^{'} \\le 4] = 1$\n",
        "\n",
        "Вычислим метрику *DCG@K* для *K = 1, 4*:\n",
        "- [K = 1] $\\text{DCG@1} = \\frac{1}{\\log_2(1+2)}\\cdot[2 \\le 1] = 0$\n",
        "- [K = 4] $\\text{DCG@4} = \\frac{1}{\\log_2(1+2)}\\cdot[2 \\le 4] = \\frac{1}{\\log_2{3}}$"
      ]
    },
    {
      "cell_type": "markdown",
      "metadata": {
        "id": "B4L6HJJC6j2B"
      },
      "source": [
        "#### Вопрос 4:\n",
        "* Вычислите `DCG@10`, если $rank\\_q_i^{'} = 9$(округлите до одного знака после запятой)"
      ]
    },
    {
      "cell_type": "markdown",
      "metadata": {
        "id": "t381qoiJwS41"
      },
      "source": [
        "DCG@10 = 0.3"
      ]
    },
    {
      "cell_type": "markdown",
      "metadata": {
        "id": "J5xWOORI6j2F"
      },
      "source": [
        "### HITS\\_COUNT и DCG\\_SCORE"
      ]
    },
    {
      "cell_type": "markdown",
      "metadata": {
        "id": "I1q9WQOx6j2H"
      },
      "source": [
        "Каждая функция имеет два аргумента: $dup\\_ranks$ и $k$. $dup\\_ranks$ является списком, который содержит рейтинги дубликатов(их позиции в ранжированном списке). Например, $dup\\_ranks = [2]$ для примера, описанного выше."
      ]
    },
    {
      "cell_type": "code",
      "execution_count": null,
      "metadata": {
        "id": "F5VwySUB6j2J"
      },
      "outputs": [],
      "source": [
        "def hits_count(dup_ranks, k):\n",
        "  hits_value = sum([rank <= k for rank in dup_ranks]) / len(dup_ranks)\n",
        "  return hits_value\n",
        "\n",
        "  \"\"\"\n",
        "     dup_ranks: list индексов дубликатов\n",
        "           result: вернуть  Hits@k\n",
        "  \"\"\"\n",
        "\n",
        "  '''your code'''\n",
        ""
      ]
    },
    {
      "cell_type": "code",
      "execution_count": null,
      "metadata": {
        "id": "82hQaxCH6j2R"
      },
      "outputs": [],
      "source": [
        "from math import log2\n",
        "\n",
        "def dcg_score(dup_ranks, k):\n",
        "  dcg_value = sum([(rank <= k) / (log2(1 + rank)) for rank in dup_ranks]) / len(dup_ranks)\n",
        "  return dcg_value\n",
        "\n",
        "  \"\"\"\n",
        "        dup_ranks: list индексов дубликатов\n",
        "        result: вернуть DCG@k\n",
        "  \"\"\"\n",
        "  '''your code'''\n",
        ""
      ]
    },
    {
      "cell_type": "markdown",
      "metadata": {
        "id": "PcwHeXN26j2Y"
      },
      "source": [
        "Протестируем функции. Пусть $N = 1$, то есть один эксперимент. Будем искать копию вопроса и оценивать метрики."
      ]
    },
    {
      "cell_type": "code",
      "execution_count": null,
      "metadata": {
        "id": "fjISmOEW6j2h"
      },
      "outputs": [],
      "source": [
        "import pandas as pd"
      ]
    },
    {
      "cell_type": "code",
      "execution_count": null,
      "metadata": {
        "id": "gLa_Wqfh6j2m",
        "colab": {
          "base_uri": "https://localhost:8080/"
        },
        "outputId": "c4a5c7a9-f572-4be8-ea8c-49ab4e64cfe4"
      },
      "outputs": [
        {
          "output_type": "stream",
          "name": "stdout",
          "text": [
            "Ваш ответ HIT: [0.0, 1.0, 1.0, 1.0]\n",
            "Ваш ответ DCG: [0.0, 0.63093, 0.63093, 0.63093]\n"
          ]
        }
      ],
      "source": [
        "copy_answers = [\"How does the catch keyword determine the type of exception that was thrown\",]\n",
        "\n",
        "# наги кандидаты\n",
        "candidates_ranking = [[\"How Can I Make These Links Rotate in PHP\",\n",
        "                       \"How does the catch keyword determine the type of exception that was thrown\",\n",
        "                       \"NSLog array description not memory address\",\n",
        "                       \"PECL_HTTP not recognised php ubuntu\"],]\n",
        "\n",
        "# dup_ranks — позиции наших копий, так как эксперимент один, то этот массив длины 1\n",
        "dup_ranks = [candidates_ranking[0].index(copy_answers[0]) + 1]\n",
        "\n",
        "# вычисляем метрику для разных k\n",
        "print('Ваш ответ HIT:', [hits_count(dup_ranks, k) for k in range(1, 5)])\n",
        "print('Ваш ответ DCG:', [round(dcg_score(dup_ranks, k), 5) for k in range(1, 5)])"
      ]
    },
    {
      "cell_type": "markdown",
      "metadata": {
        "id": "MoHC3YoQ6j2t"
      },
      "source": [
        "У вас должно получиться"
      ]
    },
    {
      "cell_type": "code",
      "execution_count": null,
      "metadata": {
        "id": "B0NFWq4f6j2u",
        "scrolled": true,
        "colab": {
          "base_uri": "https://localhost:8080/",
          "height": 112
        },
        "outputId": "defde242-be27-48f3-8daa-edde8d5c15ae"
      },
      "outputs": [
        {
          "output_type": "execute_result",
          "data": {
            "text/plain": [
              "      1        2        3        4\n",
              "HITS  0  1.00000  1.00000  1.00000\n",
              "DCG   0  0.63093  0.63093  0.63093"
            ],
            "text/html": [
              "\n",
              "  <div id=\"df-8651ed35-d8d1-456e-b174-03d6f8ef8ff6\">\n",
              "    <div class=\"colab-df-container\">\n",
              "      <div>\n",
              "<style scoped>\n",
              "    .dataframe tbody tr th:only-of-type {\n",
              "        vertical-align: middle;\n",
              "    }\n",
              "\n",
              "    .dataframe tbody tr th {\n",
              "        vertical-align: top;\n",
              "    }\n",
              "\n",
              "    .dataframe thead th {\n",
              "        text-align: right;\n",
              "    }\n",
              "</style>\n",
              "<table border=\"1\" class=\"dataframe\">\n",
              "  <thead>\n",
              "    <tr style=\"text-align: right;\">\n",
              "      <th></th>\n",
              "      <th>1</th>\n",
              "      <th>2</th>\n",
              "      <th>3</th>\n",
              "      <th>4</th>\n",
              "    </tr>\n",
              "  </thead>\n",
              "  <tbody>\n",
              "    <tr>\n",
              "      <th>HITS</th>\n",
              "      <td>0</td>\n",
              "      <td>1.00000</td>\n",
              "      <td>1.00000</td>\n",
              "      <td>1.00000</td>\n",
              "    </tr>\n",
              "    <tr>\n",
              "      <th>DCG</th>\n",
              "      <td>0</td>\n",
              "      <td>0.63093</td>\n",
              "      <td>0.63093</td>\n",
              "      <td>0.63093</td>\n",
              "    </tr>\n",
              "  </tbody>\n",
              "</table>\n",
              "</div>\n",
              "      <button class=\"colab-df-convert\" onclick=\"convertToInteractive('df-8651ed35-d8d1-456e-b174-03d6f8ef8ff6')\"\n",
              "              title=\"Convert this dataframe to an interactive table.\"\n",
              "              style=\"display:none;\">\n",
              "        \n",
              "  <svg xmlns=\"http://www.w3.org/2000/svg\" height=\"24px\"viewBox=\"0 0 24 24\"\n",
              "       width=\"24px\">\n",
              "    <path d=\"M0 0h24v24H0V0z\" fill=\"none\"/>\n",
              "    <path d=\"M18.56 5.44l.94 2.06.94-2.06 2.06-.94-2.06-.94-.94-2.06-.94 2.06-2.06.94zm-11 1L8.5 8.5l.94-2.06 2.06-.94-2.06-.94L8.5 2.5l-.94 2.06-2.06.94zm10 10l.94 2.06.94-2.06 2.06-.94-2.06-.94-.94-2.06-.94 2.06-2.06.94z\"/><path d=\"M17.41 7.96l-1.37-1.37c-.4-.4-.92-.59-1.43-.59-.52 0-1.04.2-1.43.59L10.3 9.45l-7.72 7.72c-.78.78-.78 2.05 0 2.83L4 21.41c.39.39.9.59 1.41.59.51 0 1.02-.2 1.41-.59l7.78-7.78 2.81-2.81c.8-.78.8-2.07 0-2.86zM5.41 20L4 18.59l7.72-7.72 1.47 1.35L5.41 20z\"/>\n",
              "  </svg>\n",
              "      </button>\n",
              "      \n",
              "  <style>\n",
              "    .colab-df-container {\n",
              "      display:flex;\n",
              "      flex-wrap:wrap;\n",
              "      gap: 12px;\n",
              "    }\n",
              "\n",
              "    .colab-df-convert {\n",
              "      background-color: #E8F0FE;\n",
              "      border: none;\n",
              "      border-radius: 50%;\n",
              "      cursor: pointer;\n",
              "      display: none;\n",
              "      fill: #1967D2;\n",
              "      height: 32px;\n",
              "      padding: 0 0 0 0;\n",
              "      width: 32px;\n",
              "    }\n",
              "\n",
              "    .colab-df-convert:hover {\n",
              "      background-color: #E2EBFA;\n",
              "      box-shadow: 0px 1px 2px rgba(60, 64, 67, 0.3), 0px 1px 3px 1px rgba(60, 64, 67, 0.15);\n",
              "      fill: #174EA6;\n",
              "    }\n",
              "\n",
              "    [theme=dark] .colab-df-convert {\n",
              "      background-color: #3B4455;\n",
              "      fill: #D2E3FC;\n",
              "    }\n",
              "\n",
              "    [theme=dark] .colab-df-convert:hover {\n",
              "      background-color: #434B5C;\n",
              "      box-shadow: 0px 1px 3px 1px rgba(0, 0, 0, 0.15);\n",
              "      filter: drop-shadow(0px 1px 2px rgba(0, 0, 0, 0.3));\n",
              "      fill: #FFFFFF;\n",
              "    }\n",
              "  </style>\n",
              "\n",
              "      <script>\n",
              "        const buttonEl =\n",
              "          document.querySelector('#df-8651ed35-d8d1-456e-b174-03d6f8ef8ff6 button.colab-df-convert');\n",
              "        buttonEl.style.display =\n",
              "          google.colab.kernel.accessAllowed ? 'block' : 'none';\n",
              "\n",
              "        async function convertToInteractive(key) {\n",
              "          const element = document.querySelector('#df-8651ed35-d8d1-456e-b174-03d6f8ef8ff6');\n",
              "          const dataTable =\n",
              "            await google.colab.kernel.invokeFunction('convertToInteractive',\n",
              "                                                     [key], {});\n",
              "          if (!dataTable) return;\n",
              "\n",
              "          const docLinkHtml = 'Like what you see? Visit the ' +\n",
              "            '<a target=\"_blank\" href=https://colab.research.google.com/notebooks/data_table.ipynb>data table notebook</a>'\n",
              "            + ' to learn more about interactive tables.';\n",
              "          element.innerHTML = '';\n",
              "          dataTable['output_type'] = 'display_data';\n",
              "          await google.colab.output.renderOutput(dataTable, element);\n",
              "          const docLink = document.createElement('div');\n",
              "          docLink.innerHTML = docLinkHtml;\n",
              "          element.appendChild(docLink);\n",
              "        }\n",
              "      </script>\n",
              "    </div>\n",
              "  </div>\n",
              "  "
            ]
          },
          "metadata": {},
          "execution_count": 150
        }
      ],
      "source": [
        "# correct_answers - метрика для разных k\n",
        "correct_answers = pd.DataFrame([[0, 1, 1, 1], [0, 1 / (np.log2(3)), 1 / (np.log2(3)), 1 / (np.log2(3))]],\n",
        "                               index=['HITS', 'DCG'], columns=range(1,5))\n",
        "correct_answers"
      ]
    },
    {
      "cell_type": "markdown",
      "metadata": {
        "id": "tHZqgDTo6j0i"
      },
      "source": [
        "### Данные\n",
        "[arxiv link](https://drive.google.com/file/d/1QqT4D0EoqJTy7v9VrNCYD-m964XZFR7_/edit)\n",
        "\n",
        "`train.tsv` - выборка для обучения.<br> В каждой строке через табуляцию записаны: **<вопрос>, <похожий вопрос>**\n",
        "\n",
        "`validation.tsv` - тестовая выборка.<br> В каждой строке через табуляцию записаны: **<вопрос>, <похожий вопрос>, <отрицательный пример 1>, <отрицательный пример 2>, ...**"
      ]
    },
    {
      "cell_type": "code",
      "source": [
        "from google.colab import drive\n",
        "drive.mount('/content/drive')\n"
      ],
      "metadata": {
        "colab": {
          "base_uri": "https://localhost:8080/"
        },
        "id": "DdDMcq_Sn9W3",
        "outputId": "de6149e2-ee33-4ccc-8aae-1cfadbac4ec9"
      },
      "execution_count": null,
      "outputs": [
        {
          "output_type": "stream",
          "name": "stdout",
          "text": [
            "Mounted at /content/drive\n"
          ]
        }
      ]
    },
    {
      "cell_type": "code",
      "execution_count": null,
      "metadata": {
        "colab": {
          "base_uri": "https://localhost:8080/"
        },
        "id": "jKVK2lDGvrIe",
        "outputId": "4605f528-86e9-4639-f56b-e426afd89284"
      },
      "outputs": [
        {
          "output_type": "stream",
          "name": "stdout",
          "text": [
            "Archive:  /content/drive/MyDrive/stackoverflow_similar_questions.zip\n",
            "   creating: data/\n",
            "  inflating: data/.DS_Store          \n",
            "   creating: __MACOSX/\n",
            "   creating: __MACOSX/data/\n",
            "  inflating: __MACOSX/data/._.DS_Store  \n",
            "  inflating: data/train.tsv          \n",
            "  inflating: data/validation.tsv     \n"
          ]
        }
      ],
      "source": [
        "!unzip /content/drive/MyDrive/stackoverflow_similar_questions.zip"
      ]
    },
    {
      "cell_type": "code",
      "source": [
        "ls -la"
      ],
      "metadata": {
        "colab": {
          "base_uri": "https://localhost:8080/"
        },
        "id": "42gk4glRqRhc",
        "outputId": "d74ceaf9-12b4-4ed9-9547-d361822afde3"
      },
      "execution_count": null,
      "outputs": [
        {
          "output_type": "stream",
          "name": "stdout",
          "text": [
            "total 1419864\n",
            "drwxr-xr-x 1 root root       4096 Feb 23 17:04  \u001b[0m\u001b[01;34m.\u001b[0m/\n",
            "drwxr-xr-x 1 root root       4096 Feb 23 16:13  \u001b[01;34m..\u001b[0m/\n",
            "drwxr-xr-x 4 root root       4096 Feb 21 14:37  \u001b[01;34m.config\u001b[0m/\n",
            "drwxr-xr-x 2 root root       4096 Oct 26  2018  \u001b[01;34mdata\u001b[0m/\n",
            "drwx------ 5 root root       4096 Feb 23 17:04  \u001b[01;34mdrive\u001b[0m/\n",
            "drwxrwxr-x 3 root root       4096 Sep 22  2019  \u001b[01;34m__MACOSX\u001b[0m/\n",
            "drwxr-xr-x 1 root root       4096 Feb 21 14:37  \u001b[01;34msample_data\u001b[0m/\n",
            "-rw-r--r-- 1 root root 1453905423 Feb 13 01:44 'SO_vectors_200.bin?download=1'\n"
          ]
        }
      ]
    },
    {
      "cell_type": "markdown",
      "metadata": {
        "id": "hil2UsUG6j22"
      },
      "source": [
        "Считайте данные."
      ]
    },
    {
      "cell_type": "code",
      "execution_count": null,
      "metadata": {
        "id": "B4EBho8s6j26"
      },
      "outputs": [],
      "source": [
        "def read_corpus(filename):\n",
        "   data = []\n",
        "   for line in open(filename, encoding='utf-8'):\n",
        "     data.append(line.strip())\n",
        "   return data"
      ]
    },
    {
      "cell_type": "markdown",
      "metadata": {
        "id": "kkTxY3Mk9_nG"
      },
      "source": [
        "Нам понадобиться только файл validation."
      ]
    },
    {
      "cell_type": "code",
      "execution_count": null,
      "metadata": {
        "id": "PTVB9Tnp6j29"
      },
      "outputs": [],
      "source": [
        "validation_data = read_corpus('./data/validation.tsv')"
      ]
    },
    {
      "cell_type": "code",
      "source": [
        "len(validation_data[0])"
      ],
      "metadata": {
        "colab": {
          "base_uri": "https://localhost:8080/"
        },
        "id": "kCg7IjIkrJfC",
        "outputId": "a7ff9e77-795a-4fa9-acbf-8bc8f44196eb"
      },
      "execution_count": null,
      "outputs": [
        {
          "output_type": "execute_result",
          "data": {
            "text/plain": [
              "54516"
            ]
          },
          "metadata": {},
          "execution_count": 153
        }
      ]
    },
    {
      "cell_type": "markdown",
      "metadata": {
        "id": "bTHfL-9y6j3F"
      },
      "source": [
        "Кол-во строк"
      ]
    },
    {
      "cell_type": "code",
      "execution_count": null,
      "metadata": {
        "id": "z6ubXhIe6j3H",
        "scrolled": false,
        "colab": {
          "base_uri": "https://localhost:8080/"
        },
        "outputId": "f2c52c0c-3428-4ae7-e250-282b40fd1ec4"
      },
      "outputs": [
        {
          "output_type": "execute_result",
          "data": {
            "text/plain": [
              "3760"
            ]
          },
          "metadata": {},
          "execution_count": 154
        }
      ],
      "source": [
        "len(validation_data)"
      ]
    },
    {
      "cell_type": "markdown",
      "metadata": {
        "id": "kaOQblBy6j3M"
      },
      "source": [
        "Размер нескольких первых строк"
      ]
    },
    {
      "cell_type": "code",
      "execution_count": null,
      "metadata": {
        "id": "yRx6e-Pe6j3M",
        "colab": {
          "base_uri": "https://localhost:8080/"
        },
        "outputId": "c84bb636-e82f-471f-a770-5666d09115e2"
      },
      "outputs": [
        {
          "output_type": "stream",
          "name": "stdout",
          "text": [
            "1 54516\n",
            "2 52817\n",
            "3 54463\n",
            "4 53723\n",
            "5 52296\n"
          ]
        }
      ],
      "source": [
        "for i in range(5):\n",
        "    print(i + 1, len(validation_data[i]))"
      ]
    },
    {
      "cell_type": "code",
      "source": [
        "validation_data[0][-1]"
      ],
      "metadata": {
        "colab": {
          "base_uri": "https://localhost:8080/",
          "height": 36
        },
        "id": "P9vIiiTbxuyb",
        "outputId": "0c2998aa-9256-4ff2-bc6d-b13b9557a4aa"
      },
      "execution_count": null,
      "outputs": [
        {
          "output_type": "execute_result",
          "data": {
            "text/plain": [
              "'s'"
            ],
            "application/vnd.google.colaboratory.intrinsic+json": {
              "type": "string"
            }
          },
          "metadata": {},
          "execution_count": 156
        }
      ]
    },
    {
      "cell_type": "code",
      "source": [
        "for line in validation_data:\n",
        "  q, *ex = line\n",
        "  print(q, line, sep='\\n')\n",
        "  break"
      ],
      "metadata": {
        "colab": {
          "base_uri": "https://localhost:8080/"
        },
        "id": "L8ZuuuJhS5RS",
        "outputId": "b78648c5-d525-4196-b615-04b4498ca531"
      },
      "execution_count": null,
      "outputs": [
        {
          "output_type": "stream",
          "name": "stdout",
          "text": [
            "H\n",
            "How to print a binary heap tree without recursion?\tHow do you best convert a recursive function to an iterative one?\tHow can i use ng-model with directive in angular js\tflash: drawing and erasing\ttoggle react component using hide show classname\tUse a usercontrol from another project to current webpage\t~ Paths resolved differently after upgrading to ASP.NET 4\tMaterialize datepicker - Rendering when an icon is clicked\tCreating PyPi package - Could not find a version that satisfies the requirement iso8601\tHow can I analyze a confusion matrix?\tHow do I declare a C array in Swift?\tUsing rand() when flipping a coin and rolling a die\tHandling a JSON field with a special character in its name in Java\tReact Native select row on ListView when push it\tGet 'creation_time' of video using ffmpeg and regex\tDoes row exist and multiple where\tHow to specify a classifier in a gradle dependency's dependency?\tUsing $unwind on multiple documents\tVisual Studio Code: Missing X509Certificate2UI\tDeveloping Cordova plugins for Firefox OS\tUpdate multiple rows for 2 columns in MySQL\tAnalyse format of alpha-numeric string\tDealing with large TIFF images C++/Magick/libtiff\tWhat does Error: [$injector:unpr] Unknown provider: tProvider <- t <- myActiveLinkDirective mean?\tAngularJS - Apply directive instantly, formating currency\tCan I change the font color on a portion of a string?\tSpring AOP does not intercept methods within Spring's container\tHow to retrieve json in original nested form in apache solr?\tSpatial autocorrelation using Moran's I or other spatial overlap index\thow to stop my php page from continuing when field is empty\tSelecting all CheckBoxes in ListBox not displayed properly\tPHP warning: Illegal string offset 'field'\tWebBrowser control crashes on Windows 10\tError while opening a modal in angular\tPort 25 works when exe run manually but blocked when run as service\tWhy does 6.00 + (plus) 5.00 = \"5.006.00\"?\tCount number of processes created using fork in a for loop\tWhen should I use UIImagePickerControllerSourceTypePhotoLibrary instead of UIImagePickerControllerSourceTypeSavedPhotosAlbum?\tRead File in Java, output the first comma delimited String\tSimple recursive method\tEnsure SQLite table only has one row\tWhy is there a method iterator() on java.util.Collection\tDevelopment for Cloudant using local CouchDB\tRegex to find method calls\tASP.NET Menu rendering different from vs2008 to vs2010\tMaven - Change jUnit Version in Quickstart Archetype\tWriting sublists in a list of lists to separate text files\tiPad: problems with table rows in popovercontrol\tRetrieve multiple results set\tpagination is not working in codeigniter :(\tAngular NVD3 Change Colors In Legends Also\tnode.js server not responding while large file upload with express and busboy\tSend request & Get Response in Windows Phone 8.1 WinRT\twant to delete only empty folders from directory before last 30 days using batch\tCreating X amount of threads that execute a task at the same time\tAndroid Studio 2.2 update: aligned APK (zipAlign) not generated using the new Gradle Plugin 2.2.0\tEntity Framework - adding the same entity twice in many-to-many relationships\tJoin two tables, only display unique values and maxium date\tHow to use absolute position relative to parent element\tSearch refinement for WebMatrix site\tMaven project version as expression, not constant\tCan I prevent App.g.i.cs to be generated?\tTroubles converting XSD to Java using JAXB\tCannot run a jax rs web service with tomcat\tmake a password protected bash script resist/refuse \"bash -x\" when the password is given\tDoes youtube api play function trigger a view count?\tWhy is this Perl loop over strings then characters so slow?\tHow can I change the size of rgl plots in Shiny RMarkdown?\tHow do I programmatically disconnect clients which are connected to Solace appliance?\tRails before_filter (Correct_user OR Admin)\tHow to gitignore everything except hidden subdir?\tShould I use weakSelf in nested blocks?\tCSS background color not behaving as expected\tAndroid app Listview cannot be scrolled to bottom to search a specific element using appium in java\tRails: Why \"has_many ..., :through => ...\" association results in \"NameError: uninitialized constant ...\"\tHow to send data between fragments when swiping tabs in ViewPager\tWordpress static pages: how to embed content into templates?\tTroubles with importing classes from Angular 2 modules with Typescript 1.7\ti am not able to get the images read in java for exporting it as JAR\tHow do I create a resource dll\terror: linker command failed: ld: duplicate symbol _main\tsql to find non-printable characters in a string\ti want to generate payperiod for each month\tInteractively enter headline under which to place an entry using capture\tQuerying the DNS service records to find the hostname and TCP/IP\tCan I use setContentView outside the oncreate method?\tConsolitate data from multible sheets ,re-arrange the data as per the column name\tWhy is my 'transparent' overlay view opaque?\thow can I run play framework with port=9001 under windows cmd not under play console?\tRails 3 - Ajax POSTS from a link click\tAdd html content to mysql die error?\tBest way to run a Plack PSGI Perl application outside of Apache using FastCGI?\tHow to Call NSUserDefault Value To Another View Controller?\tDoes Qt have a way to get the font that the particular css resolves to?\tHow to update Parent component about the data that child component modified(angular 1.5)\t2d array, pushing to one array shows up in all arrays?\tGet NSData from assets-library URL\tHow to specify image size in HTML Doxygen?\tNSFetchedResultsControllerDelegate in a second view controller (not firing?)\tDraggable divs getting mixed with another divs\tcreating MLP in python showing error\tCreate SharePoint 2010 ribbon button programmatically w/o feature XML\thow can I use pyglet write a music player can play a music list\tHow can I efficiently debug loops consisting of a large number of iterations on Eclipse?\tPassing a model object to a RedirectToAction without polluting the URL?\tAutomatically receiving mobile phone's SMS to hyperterminal\tOutput \"System.out.println\" into Emacs Cider's REPL (or other buffer)\tScoring regression model using PMML with Augustus in Python\tSafari View Controller - send data back to app\tSignalling a bash script running in the background in an infinite loop\tHow do I add in-app purchase to a published app in play store and test it before going into production?\tFileNotFoundException in Windows 10 Universal App (UAP)\tHow to map one column with other columns in an avro file?\tRetrieving all the cell data from a jQuery datatable on post\tIn Play! Frame work Can I Make classes In models package Singleton?\tBinding events with Hammer.js and .on()\tyii making user auto logged in on signup end (auto authentication after signup)\tUnreal Engine 4: save rendered frame to memory\tBuilding HelloWorld C++ Program in Linux with ncurses\tGenerating Checkbox Lists with MVC3 using a complex viewmodel and a cross table with Linq to SQL\tCordovaWebView: TIMEOUT ERROR\tWhats wrong in my xsd schema ? It gives type element is not declared on include of another xsd file\tAngular and papaParse Integration\tSetup a graylog2 server with elasticsearch in a vagrant machine\t(Solved-See my comment)How to make a password form on tumblr?\tJavascript: Call a method inside another method\taws api gateway client-side ssl certificate verification with nginx\tKendo UI drop downs posting arrays\tServiceStack Identity on field other than PK - Insert fails\tRedirection when rendering controller in twig SYMFONY 302\tCSS Sprites Bottom repeating\tHow can I sort a table of Laravel Eloquent objects by a custom attribute?\tComparing elements in a generic list\tSet minDate for Bootstrap DateTimePicker from another\tWhat is the difference between :g and :%s commands in vim\tJava: creating self extracting jar that can extract parts of itself out of the archive?\tset html text color and size using javascript\tQueue using Arrays\tforeach loop when using Xml.XmlElement in remote scriptblock\tHow to print list of categories and click on each category one by one in selenium/appium?\tEvery now and then, ABCpdf runs out of memory\tIn Spring OAuth2, why is my resource still unprotected even though I have marked it in my resource server?\thow to restart node application automatically on aws elastic-beanstalk\tUnresolved external symbol LNK2019\tCelltemplate in angular-ui-grid is not working properly\tEscaping backslashes in method call stringByReplacingOccurrencesOfString Does not work in Objective C\tAPEX Data Loading - Add a column programatically\tMySQL / MariaDB shuts down after exactly 1 minute 42 seconds\tMouse movement / mouseover and JavaScript evaluation in watir\tRemoving backslashes from a string in Python\tArray manipulation (accessing specific bytes)\tRails: Does Application.css load all css.scss files?\tLongListSelector cannot change ItemsSource\tC# DateTime not recognising timezone change (BST)\tdeinit in child view controllers\tHow to send back to custom class which object of that class was clicked\tdelete from array returning self\tMS Access Properties\tUIWebView always add a parameter in url issue\tcomparing two spanned strings in edittext in android\tAdd prefix to control id and still have it bind MVC Razor\tEXC_BAD_ACCESS when setting Integer to anything else than zero\t:hover CSS is not working?\tBlowfish last block incomplete in decryption\tReading uploaded image: undefined method `file' for nil:NilClass\tHow can I run IntelliJ IDEA on a remote desktop\tHow to get the JSONObject server response in Volley\tGuide in organizing large Django projects\thow to populate a dropdownlist based on another dropdownlist selected value in mvc 4?\tAzure ServiceBus Token Expired\tiBatis to MyBatis migration efforts?\tWhere should I look for the document generated using htp package\tTortoise SVN Error after update: 'The specified path has an unexpected status'\tExtract html data after logging into website from android app\tAdd key value to array without triggering an array\tHow to write this math equation into c++\tUndefined index php mysql error\twhen text changed inputbox automatically updates next 6 text boxes\tUnable to get email of facebook user\tiphone: Facebook logout feature is not work in my app\thow to force my app NOT to use the 3g data proxy setting\tUnit Testing - What do you do when your code is pretty much just a calculation (GetHashCode for example)?\tStatus of CheckBox can't be detected\tSort a list with multiple conditions Ruby on Rails\tHow to sharp the text in css3?\tHow to change the class of an object dynamically in C#?\tCreating an Array with a Default Value,But the default value is changed\tHow to call a delegate's function without getting the \"instance method not found\" warning in ios?\tAndroid, background drawable appear black in genymotion but looks fine in intellij\tTable has no columns using google charts\tDropdown list where options populate a second list js/php?\tdifference between <% and <%= ruby\tHow to remove the functionality of changelist filter appearing in django admin?\thow to unpack stxetx data in python\tAnsible: playbook calling Role in a directory that is in the roles directory\tSetting up HTTPS redirects on Heroku Laravel Instance\tInput helper valueBinding is deprecated - what's the alternative?\tUsing MySQL.connector with Twisted Python to execute multiple queries\tMySQL - 1 large table with 100 columns OR split into 5 tables and JOIN\tneo4j load csv when field name has a '.' in it\tMocha + React: navigator is not defined\tsemantic ui grid - display full width of column, after \"computer only\" columns is hidden\tpopulating select menu options using javascript\tSerializing MongoDB find() return into non-anonymous JSON array, using PyMongo\tGeom tile white space issue when the x variable is spread unevenly accross facet grids\tMoving files depending on the profile in a WAR\tCheck if it's the last record in sqldatareader\tAssigning to columns in NumPy?\tAndroid Facebook ApiException: Invalid Application\tDjango: customizing the message after a successful form save\tCustom TextBox with built-in Validator: server side validation not firing\tHow to embed mjpeg file on a webpage\tphp delete on jQuery doesnt work\tAWK doesn't work in Bash Script\tLaunch specific app when external accessory attached\tThree Inputs in a Row - Bootstrap 3\tHow compiler like GCC implement acquire/release semantics for std::mutex\tFramework search for upcoming project\tImplementing a Web Service Server in Windows CE 2013\tWhy do I keep getting \"The digital signature of the object did not verify\" for Windows JavaEE installer\thide paging numbers in gridview?\tHow to remove sublayers from a view afer a touch\tCUDA: Can i find out if i have global memory coalescence?\tHow to read a google chrome crash dump with windbg\tjQuery targeting nested list\tpass the column value when checkbox is clicked in wijmogrid column\tHow to normalize your database in hibernate? (Repeating values don't get saved again and again)\thow to stop validation on a particular textbox after hiding this textbox using angularjs\topencv imshow with waitKey too slow on Mac OS X 10.10.2 (using c++)\tSetting an Input Box Background\tIntelliJ IDEA: \"Element ignore is not allowed here\"\tSlider does not work in the jQuery Tabs\tCarrierwave getting image width and height and storing it in an hstore field\tOpenProcess() succeeds, but EnumProcessModules() fails\tDjango + Forms: Dynamic choices for ChoiceField\tusing Url.Content to display the file content with .net mvc\tPDO cannot able to fetch image from database\terror in adding overlay in current location\tInternal section link fails in beamer output of pandoc markdown\tAdding ROW_NUMBER() to query loses DISTINCT, defeats the purpose of paged results attempt\tandroid studio 135.1339820 launches wrong java version on openSuse 12.3\tMy Facebook object is empty\tJava code reads UTF-8 text incorrectly\tPHP session.cookie_secure does not actually set the cookie to secure\tUsing webapp2, how can I get the value of a form's \"name\" attribute during a POST request?\tFinding Uppercase Character then Adding Space\tTable data pass into stored procedure as param and insert into another table in mysql\tInject entry point class in GWT with GIN\tHow to group by week of the year dates or day dates that start on Sundays in oracle 10?\tWhat are the options Some and None SML?\tReversing a .mp3 programmatically\tConvert Associative Array in PHP and insert it to database\tWhy is the \"map\" version of ThreeSum so slow?\tant keeps recompiling\tHttpContext.Current.User.Identity.Name returns blank\tUIWebView Javascript Window to Window Communication\tFluent NHibernate Exception: An association from the table X refers to an unmapped class: System.String\tAre .NET memcache libraries production ready?\tDB2 Can't connect to db with new user\tDjango flatpages backup?\tTrouble with Creating One-Time Calendar Event from Google Sheet row\tThe colored image turned to have no color and just a grey vector in drawable?\thow to show pattern in asp-Repeater item template?\tFastest scripting language for Java?\tTried to reverse engineer my app, but got some weird-looking file tree\tStartup for bundles placed in the deploy folder of Karaf\td3js force layout with hide/unhide on node click misplaces nodes after expanding\tUnique column definition in SQL\tHash of a cell text in Google Spreadsheet\tHow to pin/unpin Microsoft Edge developer tools in Windows 10\tWhich editor can align tables in reStructuredText for Sphinx?\tHow to walk through a directory in c and print all files name and permissions\tiOS KVC DRY mutation\tIBM MobileFirst Platform iFix doesn't update the version displayed in Operations Console\trelative layout aligning images about right bottom corner\tHow to retrieve a PDF(document) from the Tridion File System and create a multimedia component out of it\tHTML sends x y POST data with no inputs - how is this possible?\tHow can I view Azure logfiles when running locally?\tis there a web service client code generator on iOS?\tGet smallest type to include data range\tGet dates as check if it is ending\tCordova brightness still returns -1\tHow to detect 3 keyboard buttons in Swing?\tPython calculations in two groups\tcreate array from mysql query php\tTDD vs Defensive Programming\tDisplay logo or image in the Ribbon using VSTO\tHow can I get a meaning of a jsp variable in java code on the same page?\tConversion of cloud data into 2d image using OpenCV\t[python-suds]Bug? One additional element is created when using Factory\tUsing clang to analyze C++ code\tLogin with email and password control not working\tansible: use different logging level for terminal and log file\tDraggable window with pyqt4\tdynamically adding edittext depending on the elements of json array\tHow to convert ftp.getModificationTime(file) to readable format\tPHP Login Form using DashDB\tBuilding a properties file to the top level of a WAR file, Spring-MVC/Maven\tEnabling breakpoints in goclipse\terror while including external JARs in ant script\tComparison of web widgets in flash and javascript\tWhy must I free this data? Am I the owner?\tOptimizing a very huge mysql table (query or mysql)\ttlbexp.exe outputs different tlb information on 2012 versus 2010\tHow to create a Facebook Like with a post/comment box\tCodeigniter PDO integration\tpass string array as parameter to asp.net mvc webapi method\tRemoving space in dataframe python\tHow to set application identity of an application pool using web administration module in powershell?\thow to handle play database connection exceptions\tquerydsl 3.3.0 - using collection.any() with elementcollections in a query with N boolean arguments generates N \"exists\" sub-queries\tGson: Change the way Map-Keys are being serialized\tImproving gnuplot 3d plots from data files with pm3d\tDivide problem\tYii2: Using Kartik Depdrop Widget?\tCan anyone post an example of how to enable SSL in Tsung?\tMPI_Isend and MPI_Irecv seem to be causing a deadlock\tVirtual Box port forwarding misery with Ruby Sinatra:4567 / Shotgun:9292\tEnhancing regex to match more URLs\tJavaScript classlist selector error\tMy IntelliJ IDEA 11.1.5 lost the ability to debug node.js applications after upgrading to windows 8.1\tScientific notation android java\tHow to make a JSON array case insensitive for Twitter Typeahead?\tMembase can someone explain the idea behind their technology\tStruts 2 + Dojo + Datetimepicker\tCannot retrieve data from find query\tHow long are resources used (file descriptor and memory) for Java temporary files (jar_cache####.tmp)?\thow to pass a variable in WHERE IN clause of oracle sql?\tHow can I transform the coordinates of a Shapefile?\tMapping result of aggregate query to hibernate object\tDrawing Application how to save drawing in android phone memory\tError while using npm install -g generator-jhipster\tGet abs path from the currently edited file in Eclipse\tPost form data to foreign aspx form\tLogging in Azure web jobs\tMTM with (automated) CodedUITest test-cases developed in VS2013 issues\tHow to print contents of an HTML element in MacGap?\tASP.NET Control not available in CodeBehind\tHow can I disable the IIViewDeck functionality momentarily?\tWhy would I create a struct with only a `PhantomData<()>` member?\tAccessing masterpage properties from child pages in ASP.net VB\tBash read inside a loop reading a file\tRandom number between 1 and 20 excluding numbers already picked\tWordpress Navigation Label in Browser tab\tTaking control of the soundCard with JAVA\tSTL containers and large amounts of data\tColour in Backorder Products dropdown based on stock in WooCommerce\tRichfaces - <rich:autocomplete> not showing suggestions\tHow to select and enlarge a Masterpane in Zedgraph\treact-native android publishing keystore\tWhat is a good way to find a specific value in an XML document using C#?\tCan i make my own Singleton Stateless Bean with EJB 3.0?\tHow does Google App Engine precompile Java?\tUsing dispose() method instead of close() method to a form\tSpring Oauth2 \"Full authentication is required to access this resource\" with valid access token\tWhy is my code only displaying incorrect even if I have the right answer?\tForcing function in ODE\tGet sum of column on last row, good practice?\tSimple Karma + Typescript configuration - Reference Error: x is not defined\tError building Player because scripts have compile errors in the editor\tProperty Testers do not load despite forcePluginActivation. For popup menu enablement\tJavascript regex to match last word regardless of specials characters\tDevelop multilangual system\tangular-mock testing in Karma+Mocha can't find module\tHow to append an element inside object using a common way\tGenerate random \"dark\" colours only in Java\tAccess element in list using indexes stored in another list\tHow to correctly use setq in elisp?\tiOS - Today Extension 'show more' & 'show less' state incorrect. Collapsed says 'show less' - requiring multipule presses to fix\thow to get the position of the cursor in an editable div\tflickering of image in SWT\tCompletely random identifier of a given length\tAngular 2 Render Flat List from Hierarchal Data\tJava RMI threads on client-side are executing sequentially or concurrently when calling the same remote object?\tVariable-size buffer for receiving UDP packets\tCreateSqlQuery on entity with formula property\tDatepicker TIMESTAMP divide by 100\thow to print out the whole table using anonymous block in pl sql?\tIn Sentora i will need to integrate a clamav Module\thow do i set a value of a multiple <select> tag from the database\tshow decimal value in C#\tJavascript: how to affect other element when hovering?\tCreating new popup window when click button\tHow to Depict Either/Or Inheritance in a UML diagram?\tAjax post success data: Can you separate results?\tDocument.getElementById() not available for ChromiumWebBrowser in visual studio\ttarget of assignment expands to non-language object\tHow do I configure distributed transactions for NServiceBus\tHow to combine an array of png images like layers using C#?\tyii2 gii CRUD Generator error - Class 'Message' does not exist or has syntax error\tGet values of checkbox to other page\tSession on subdomains still not working\tHow can I turn off host name resolutios?\tsyntax error, unexpected end-of-input\tErlang: \"extending\" an existing module with new functions\ttcl string replacement\thow to access directory in plesk (control panel )\tMinimizing the sum of a special function over a list\tVB.Net & Access - Set two foreign keys, that refer to the same table/field\tMemory Monitoring Tool for Erlang Threads\tDisable Spring Boot Security @Secured at runtime\tJoin two tables on the same date or closest date (before or after)\tPower Point viewer asp.net mvc\tSwift: Get an element from a tuple\timages rotation to the right\tCan I access the visual voicemail files on the iphone thru the SDK?\tProximity alert for locations saved at server\tTableviewcell button\tAngularjs select does not mark matching model as selected\tHow can i use id to do action on an object of an android using Robotium tool?\tHow can i pass a value to constructors of collection of instances at runtime with simple injector?\tLarge binary shifts in 8086 assembly?\tDirectshow, format type change filter\tHow to open model window on option selection?\tUpdate value in sqlite iphone sdk\tInstalling ADT plugin in Eclipse for Android development\tAutomating a ContextMenu with Watin\thow to evaluate the performance of any cryptographic algorithm (say elliptic curve)?\tNth-child Selector with Prototype\tDifference in performance of compiled accelerate code ran from ghci and shell\tDatabase design for email messaging system\tJava SE Development Kit 8u20 Install Options\tReading a file in chunks\tTwitter style Web Application based on LAMP, Symfony2, Backbone : possible?\tRegexp for C preprocessor command\tCmposition, I dont quite get this?\tCakePHP form submits the \"array\"\tStore feed forward network in mongodb\tbash read strings and output as one key and multiple values\thttp client in python fails to recive\tDynamic languages - which one should I choose?\tHow to start an IntentService from a WakefulBroadcastReceiver\tC++: Converting wstring to unsigned char\tHow to make echo interpret backslash escapes and not print a trailing newline?\tAngularJS.. http.get working, when splitting into its own service module its no longer working\tHow do I determine the number of elements in an array reference?\t\"TypeError: 'NoneType' object is not iterable\" on what should be a list\tReplace random image on website\tRotation matrix between two camera system\tAnimated border which wraps around\tcron job not picking up oracle query result\tFormview and MS-Ajax UpdatePanel\tHow to update data with TreeStore or TreeEditor component?\tGet kwargs passed to url_for in Flask view\thow to reload the template when working with enlive without restar\tThread-safe get (accessor method)\tHow can I tell if \"inline\" worked?\tcalling some logic before user is logged out using spring security?\tJava pattern to find two groups of two letters in `ABC`\tMYSQL distincs entry of two columns even when switched\tHow Antlr creates tokens\tPlay Framework 2.4 - Java - Http header and cached response\tList of Strings in a Grails domain class\tInsert into MongoDB via Node.js\tHow to stop or pause Pandora and Spotify\tOracle Function: Replicate wm_concat\tReturn user to previous page after login (Rails)\tCustom Layout Manager using predefined and developer-defined child view(s)\tIn Ruby, how do I specify a file in another directory as an input?\tUnable to read View Bag value from controller to view\tParameters on time stamps in oracle sql developer\tmeasuring the time to load a page - Python\tSet height of child to height of parent\tHow can I find the element that caused another element to fire the focusout event?\tHow to get the latest created table in MySQL?\tBetter way to reference $scope in AngularJS\tSharing data between Elastic Beanstalk web and worker tiers\tiOS certificate pinning with Swift and NSURLSession\tSharing UDP Data across apps (background/foreground or Split screen multitasking) in iOS\tiPhone: Facebook logout feature does not working\tAutoHotKey. Hotstrings and Auto-replace not working in Visual Studio 2008\tIssue setting up Android SDK - Failed to Start Emulator\tWhy is the dismissable alert not being dismissed?\tError while executing change data capture sql query\tmultiple queries - Route.get() requires callback functions but got a [object Undefined]\tHow to attach custom element to shadow DOM in html web components in a secure way?\tflash javascript don't work (Second try)\tHow do EGit versions map to Git versions\tHow the ftp uploads works in PHP?\tSql XML to Delphi\tLookup table with the query with arbitrary length without using a for loop in R\tC# XML deserialization XmlAttribute\tCSS, JQuery: Animated transform from 3 lines menu to cross\tCan m2e install an external jar file? Or do I need to install the maven command line tool?\tDoes gSOAP RESTful implementation require the definition of a WSDL\tAutomatically create an appointment in Outlook using message content\tJSoup error: java.lang.IllegalArgumentException\tAdd Button to CMS_Page_Edit via Observer\tHow to do an XOR of the binary forms of all integer items in a list\tHow to add regularization in Scipy Linear Programming (Non-negative Least-Squares)\tHighlight backgroung colors of some words in HTML Document in java\tIs there a way to retrieve process stats using Perl or Python?\tExcel NamedRange.Find Method with Regex pattern match in C#\tcmake error when configuring\tHow to set first column to a constant value of an empty np.zeros numPy matrix?\tEclipse Plugin - get Launch Configurations Tree List in a Dialog.\tWhat are the RESTful best practices on defining a query parameter with an or condition?\tExtracting text from the input field - using Webdriver\tOne <hr> tag is working but not the other in Firefox. Why is that?\tajax request xml from php\tEmbedded Java server using Grizzly: How do you enable http2\tFinding Minimum Completion Time of Scheduled Tasks with Topological Sort\tHow to set jQuery draggable min/max-left and min/max-right\tsemantic-ui modal size keeps extending to the height of a page\tIs there any direct git command to push changes to another branch\tHow and is it worth to integrate Java Webapp + drools + Guvnor?\tHow to debug Error Messsage in Odoo\tcalculate differences between two numbers\tData constructor in template haskell\tTying composer.json to a specific Laravel 5 SHA\tDjango 1.7.1 requires a Default value for field - but no entry is in database. Why?\taddEntriesFromDictionary: a true copy method?\tSpring Boot OAuth2 with encrypted JWT access token\tWrap text if it is longer than max_characters\tiptables: Duplicating/Forwarding ports\tMultiple custom fields stored as meta_keys, how to connect with the post?\tAndroid GridView crashes or is very slow on some devices (Samsung Galaxy S4, S3)\tHTML/CSS: Input element weird indent ie7\tWhat exactly does Double mean in java?\tMost effective ways to extract Android Cursor (sqlite) into an array to be used in AlertDialog.Builder?\tjenkins can not find android SDK\tCan I open a new window and change the DOM of the calling window in JavaScript?\tdynamically Change Itemized overlay draw circle using seek bar progress\tHow do I fix django.db.utils.IntegrityError: duplicate key value violates unique constraint?\tInno Setup not creating registry entry in Software/Microsoft/Windows/CurrentVersion/Uninstall\tbuild from hadoop source code in centos\tC# LinqToSql SubmitChanges() does not update, even though PK is set\tHow to read utf16 text file to string in golang?\tObjective C ePub framework\tReducer output to different files based on keys\tIs it possible for a Chrome Extension to get a user's full browsing history?\tVariable Number of Nested For Loops\tOrdered http request parameters\tTesting the Oracle to_date function\tGetting the error of POST method from another PHP file\tMultiple selection of worksheets into one workbook copy paste of content into one main sheet\tWhy do I keep getting \"developer inactive\" errors when calling the Beats Music API?\tMy select command doesn't work\tnode js read files line by line\tPHPStorm/Webstorm increase memory to more than 512MB\tWant to open google.com at specific location and make it specific window size\tDatabase not updating new row\tSpring suite tools start error - spring boot\tSlider in codenameone\tIssue with $(this) and toggle() multiple classes\tHow to load file from dir using Racket?\tRemoving quotation mark using javascript does not remove single quotation marks\tFirebase Android ChildEventListener Triggered onChildRemoved() before onChildAdded() When new data added\tPython. Error using animation.FuncAnimation\tHow to make inline comments in Org-mode?\tFind years with distinct digits - CCC 2013\tIdentify customer visits occurring after a given time period in mysql\tFinding the distinct count from a cassandra column using Tableau\tPrism : Change the active view\tGet Color from int\tDynamic subversion repos via subdomains (in Apache)\tHow to multithread my for loop in Python\tHow to get recycler view list item count using Espresso\tHow to PIVOT and calculating column average\tFastest way to separate the digits of an int into an array in .NET?\tEscaping special characters in SphinxSE\tImporting sqlite file into r\tSort order of related products not working in Magento 1.6\tDisplay 404 not found template for 'slugs' when publication returns empty cursor - Meteor - iron-router\tIs there a way to tell if an object has implemented ToString explicitly in c#\tVFS: file-max limit 1231582 reached\tPlay 2.2 EssentialAction With Futures\tAppBarLayout / CollapsingToolbarLayout expands indefinitely\thow to deselect all Radio Button in Radio ButtonGroup on button click in flash as3?\tnumpy array creating with a sequence\tSed: Matching words with any permutation of two characters\tMake Child element appear outside of parent\tMobilePin createuserwizard doesn't work?\tFit Image in canvas using WPF\tAdding a fontawesome icon with border into form input\tfinding pixel location of Listview item seems to return wrong value\tsails 0.9.8 not work, when created controller and lift it\tLarave File not found at path but it does exist\tRequiredFieldValidator causes validation on Server even if validator is disabled(CausesValidation=\"false\")\tRetrieving HTML content from a page requiring authentication using PHP\tHow to generate linked-axis in matplotlib\tPrint % sign with string formatting\tHow to calculate the dimensions of the monitor in PyQt4/Windows/Linux?\tVBA Outlook 2010 retrieving information from Active Directory\tModifying bootstrap thumbnails\tASP.Net: What's keeping old AppDomains alive?\tA library uses the same package as this project after importing Facebook SDK\tUnable to run compiled .classes from the command line\tIs it possible to partially decode and update JSON? (go)\tHow to use Apache-Commons DBCP with EclipseLink JPA and Tomcat 7.x\tHow to do batch geocoding using google-maps-services-java\tInserting an img into a text field (html, css)\tNoClassDefFoundError during Tomcat graceful shutdown\tIndesign (IDML file) Automation using HTML5 and Javascript\tWriting to the ObjectOutputStream and getting rubbish back\tHow do I stop md-cards from stretching images to full vertical height?\tSQL, missing end, but why?\tSED - Search two pattern in a line and insert few word at the end of the line if pattern match is found\tHow to configure & run multiple websites with respective databases with single Laravel code instance\tthree.js CanvasRenderer - setting initial color for object together with transparency textures\tIHTMLDocument2 - click button inside iframe\tResource 1 works, 2 doesn't\thow to show an image in an image field by a button click event in c# asp.net\tHow to use this for killing array of threads?\tMVC scaffolding does not support Entity Framework 6 or later\tParse error using Remotipart\tJAVA JAX-WS Deployment (JAVA Eclipse EE IDE)\tkaminari and order_by\tmultisampling and fragment shader\tC program- change char order in sentence\tHow to reload an IFrame every x seconds?\tEF6 table per hierarchy, with unique index on derived property\tShell Script to add extension on file and directory\tAbsolute beginners guide to working with audio in C/C++?\tExtract part of string\tstopping toast android in other actvity\tClient-side SSL not working with AWS API Gateway\tTop Left Menu Bar Is Frozen when Main Window Shows Up\tCategory Axis Label Alignment for Multi Series bar chart in JAsper\tInvalid Label - jQuery Ajax/Json request\tOptimizing Haskell Recursive Lists\tSymfony3: Service not able to get arguments\tReverse Geocoding not displaying info window on markers when clicked\tHow to restrict background click in Ionic confirmation popup\thow to use CSPARQL-ReadyToGoPack-0.9 in a SBT project\tHow to sort UTF-8 lines in Vim?\tHow to handle NotFoundException elegantly in Neo4j 2.0?\tDownload multiple files simultaneously with PHP - Forking, Sockets\tSubmit form on one server, process it and then post results to another domain\tFlyway Mysql multiline comment directive not parsed\tNon-Blocking File Reads\tORACLE sql dynamic variables in stored procedure\tnested ngFor with two data classes in angular2\tCrossplatform webview in Qt5.6\tSet the default encoding to UTF-8 for all JSPs without using @page directives\tXSLT creating a table with varying amount of columns\thow to send email with powershell\tAsynchronous method using .Result\tIs JENKINS Extensible Choice Parameter compatible with linux?\tStarting Speech Recognition with CreateProcess() in C++\tHow do I animate adding subviews?\tHow can I change the default font for a Jekyll website\tImpossible to compile Fortran code with include statement\tLazy loading images in Vue/Laravel\tWeb API read header value in controller constructor\tAndroid wear WearableListView ImageView selector\tFunction pack() returns 0\tIs it possible to have Firebase authentication via Facebook in a Phonegap App?\tPHP Export MySQL to CSV - Results showing HTML\tHow to detect language preference in Laravel 5\tVB WebBrowser click button\tReports using java collections\tHow to write all files Contain in the subfolders and in the folders in to a .txt file\tChecking negative values from Google Forms\tLibgdx reading json array values\tCustom Buddypress Notification on Post Save\tUITableView with UITextField - keep the data even after user scrolls\tVisual Studio 2015 Update 1 automatically checks in files\tMobilefirst Failed synchronizing application from the administration service\tCannot execute for loop in vue.js\thow to prevent duplicate item\tJava Apache CLI OptionBuilder not working as Builder pattern\tWhat's a proper way to turn off genymotion emulator?\tJade select field populating data\tWhy is ' 2' > '10'?\tMysql dump comments directives and simple comments\tCropping library not working on Nexus S\tCreate a segue and attach it between two view controllers through Swift?\tFunction to search recursively for patterns in vim\tIntegrating wordpress and laravel user management\tBehaviour after takePicture() different on different devices/Android versions\tExporting Plone content: how to get the tarball created by quintagroup.transmogrifier.writer\tCassandra to Hive using Spark\tRuby on Rails :before_filter => :only_when_user_is_logged_in\tHow can I integrate Jacoco reports with SonarQube without using maven?\tCan I use NSPredicate as key in a NSDictionary\tProxy Authentication Failed error\tCould someone explain how to use the UpdateManager in TideSDK 1.3.1 Beta?\tProperties - how to avoid code repetition\tPause/resume video recording using AVCaptureMovieFileOutput\tSwift enum recursive associated value\tHow to grep particular string occurring multiple times\tHover map area sprite with jquery\tSpark `LiveListenerBus` Exception is freaking me out\thow to use pyplot.arrow or patches.Arrow in matplotlib?\tApache on Windows and Fiddler\thow to pass the variable from api gateway to the url of another service running on EC2\tOpen link when doubleclicking on table row with jQuery\tWget span host only for images/stylesheets/javascript but not links\tI am trying to show data using api . but data is not showing in custom listView . list is empty\tGraphing sbt's incremental compilation logic\thow to get functionality of Long Press gesture in ios ver below 3.2\tChange priority headings for a task with the api\tGet values on a row based on two or more rows in Excel\tIs using Silverlight a hindrance for Startups?\tspotify session callback get_audio_buffer_stats\ttalend - specify jndi as datasource\tLong data load time in Matlab\thow can i change column width in base to content with vb.net and bootstrap?\tAlternative to Microsoft.Practices.EnterpriseLibrary.Data\tHow to facet.pivot with spring-data-solr\tCheck empty output from fish function\tpysolr update document with error\tHow to retrieve same column twice with different values of other column in same table\tUpdated: NodeJS - connect-keycloak middleware empty response error\tAccordion open when page loads\tActivity doesn't refresh after associated Broadcast Receiver's onReceive gets called.\tHow do you detect DOCTYPE (Transitional or Strict) server-side in ASP.NET?\tFirefox 9.0.1 Broke Internal Wiki Layout\tonchange function in dropDownList yii2\tplay mp3 without default player\tConvert SVG Data to SVG File that can be uploaded\tFolder Picker for MS Word\tCan't hide or close form after switching to another form\tHow to ShellCode in linux with x64 processor.\tHow to set a specific timezone for windows CE By C#\tVagrant enters aborted state during apt-get update\tattempting to make enter button 'clickable'\tImageMagick Convert not generating correct color\tMybatis select with nested objects\tMy css height auto doesn't work\tD3 AngularJs Force Directed Graph\tI want to add 30 days to mysql date row\tHow I can use FlexyPool with HikariCPFactory?\tWix installer: Verify that you have sufficient privileges to start system services\tr, ts - error in stl, series has less than two periods (erroneous?)\ttypo3 - Adding content to the footer\tKnockout re render template with new data model on change event of dropdown menu\t@ManyToMany relation not save\tDownsampling of fMRI image with FSL\tHow to use Android AutoCompleteTextView on Xamarin.Forms\tWhy fstream::tellg() return value is enlarged by the number of newlines in the input text file, when file is formated for Windows (\\r\\n)?\tDetermine If Two Points Are Near\tclicking logo on home page breaks navigation menu on mobile site\tUse Iframe to embed csv and allow user to search from it\tInstall Chrome extension through windows registry\tDisplay message on success does not work\tjQuery masked input - format date as m/d/yyyy or m/dd/yyyy or mm/dd/yyyy or mm/d/yyyy\tHow to change spring session (redis) cookie name?\tAny tool to suggest unit reference automatically for Delphi 2010?\tWhy does my method return a null password?\tSQL Script - manipulate value based on previous non zero value\trotate image shows \"Out of memory\" exception\tcount button clicks\tJoomla Custom Compoment Dev Env : Hot Deployment\tNexus 5 not showing on connected devices\tHow work the method TrueForAll? C# LINQ\tPHP - Simplest Way to Post & Display\tUpdate Temp Table with Group By\tHow to use Parse Push with Cordova, Appcelerator, etc\tAS3 bitmapdata send to server picture is small in upperleft corner\tHow to set the Z order index for adorner in WPF\tphp microseconds\tCreating a global database connection on an mdi form\tUncaught ReferenceError: React is not defined\tVBA search column for strings and copy row to new worksheet\tHow can I record a test using Espresso without doing a clean install?\tHow can I char array in reverse order?\tWhat kind of SCTP support is there on various Windows versions?\tSaving changes to an EC2 instance without having to register an AMI each time?\tAuto run Jetty on boot\tHow To Cache jQuery Template In Backbone View via Ajax?\tDoes this C++ static analysis rule make sense as is?\tSame Ripple drawable(effect) appearing differently on ListView and RecyclerView\tR ggplot2 assigning colours to a factor\tVerifying a method was called without using IoC\tWhat is 'seg cs' in bootsect.s\tsetTimeout keeps firing\tFormatting the way a string is entered into my database\tCreating Jenkins Job using python API\tpython create single thread to do one task then quit\tz order in issue in ConstraintLayout Android\tCan I derive from a class that can only be created by a \"factory\"?\tPHP OOP :: passing session key between classes\tASP.NET MVC 3, SQL Server\tRecreating or deleting google services json\tProbe problem when writing a I2C device driver\tJersey produce duplicate log messages\tExit / stop Array2D.initBased early\thow to set array of date to fireDate in local notification at a time\talternative to async: false ajax\tOracle: how to get percent of total by a query?\tHow to match the recursive pattern `a(?R)b` including another string e.g. \"test{aaabbb}\"? (Regex)\tHow to disable GestureListener?\tHow to specify Code Style settings in a Qt Creator `.pro.shared` file?\tcal extension template modification with .tmpl\tGetting started with Groovy/Grails?\tOpening a Ruby program's source file in the default editor\tHow can I pass an array of Guid via Web API?\tBackbone-Relational find or load?\twhat's the best way to format an xml string in ruby?\tPartial classes in Google Closure?\tAdd a repository in AccountController\tWikipedia API Autocomplete with Json\tApache Pig: unable to run my own pig.jar and pig-withouthadoop.jar\tOptimizing list comprehension to find pairs of co-prime numbers\tkivy access child id\tStucture values not staying, values changed to -858993460\tSet toolbar title\tHow to add a row to a table using swt\tjQuery ui selectmenu vertical position offset (relatively to buttons in this line)\tSSIS : Warning: Failed to decrypt an encrypted XML node\tgps not getting user location\tExporting a simple model with texture from Blender to three.js\tPostman - Required MultipartFile parameter is not present - Spring, Java\tPrevent akka actor from restarting child actor\tUITableView not loaded\tNTFS permission with modify date\tQTreeView - how to tell if a drag/drop event is a reorder or a move between parents?\tPrevent XUL notificationBox from closing when button is hit\tCode not working. Notification that should go off once a day\tAndroid Action Bar Button does not show up\t$.widget is not a function\tjquery hide not taking parameter\tHow can i use a one form/table for multiple MVC's?\tMSTest: execution order of tests within the same TestClass\tHow to call jQuery function in HTML returned by AJAX\tOAuth2 security considerations for client_id\tGoogle Compute Instance 100% CPU Utilisation\tIncompatible block pointer type when returning array?\tCalling a REST api with an encrypted PEM client certificate\tSelect all objects in a list\tDrag and insert div into another div\tHow to prevent firefox from scrolling to the bottom of the page when a large popup is opened\tHow to handle ((List<string>)Session.Add(\"\")\tmysql inserting into 2 tables at once that have primary key and foreign key\tWhat's the right way to remove multiple items from a QTableWidget?\tWhen MSTest fails in TestInitialize, why doesn't TestCleanup get executed?\tPHP CodeIgniter application not opening any page except default controller\tParsing JSON data without quotes with jQuery\tRewrite url in .htaccess\tI/O error(socket error): [Errno 111] Connection refused\tGit Error; RPC failed; result=22, HTTP code = 401\tTFS 2010 - Set the State field to a certain value\tActionScript 3.0 How to create ProgressEvent instances in for loop with multiple files loaded from XML\thow can i extract my query to find average\tC# Windows Service - Default Arguments on Install\tUpload large files with node js\tChanging table headers in cakephp\thello world with JMS on Glassfish\tCountdown timer using DateTime.Parse without defined date\tImages in the 'drawable' folder are resized automatically?\tFind files with the same size and dellete all duplicates except the one has the shortest name using shell script\tWriting Rules both in Firebase and in your Code\tSearch for words with specific starts and endings\tInstall Neo4j 3.0+ as a windows service\tPHP convert 2 digit year to a 4 digit year\tJSDoc auto-complete documentation in Eclipse is not working for Class.create()\tSplit a infix String to an array of String in java\tFolder permissions in Azure web sites\tOnly have separators between UITableViewCells\tUncaught Syntax error, unrecognized expression: [object Object]\tNeed htaccess redirection\tHow to create this bootstrap carousel of iframes?\tDoctrine2 - Get entity ID before flush\tXquery help sorted parent child relationship\tHow To Load Separate Pages In Android Gridview While Clicking Blocks or Items?\tkineticjs rect fillText\tis a query string with a / in it valid?\tHow to convert the BYTEARRAYS to NSString in objective -c\twhy is std::chrono::duration based on seconds\tWCF REST Client Exception\tUsing UIBinder to create a Widget to go into a Dialog\tOneDrive for Business :\"invalid_request\",\"error_description\":\"AADSTS90014: The request body must contain the following parameter: 'grant_type\tAre the any options for interfacing with the command prompt process from a .NET application other than the standard IO?\tAdding data in the database using microsoft access and OleDb in C#\tjQuery Ajax header not being passed\tAngularJS: Multiple views with routing without losing scope\tBackboneJS How to merge collections\tSpecflow :Could not load file or assembly TechTalk.SpecFlow, Version=2.2.0.0\tMax byte calculated by System.Runtime.InteropServices.Marshal.SizeOf()\tHow can my application retrieve custom fields from a DocuSign transaction?\tadd active state to button in a button group\tHow to define clear range for pixel color\tRoslyn VisualBasic.ScriptEngine doesnt recognize hostObject written on C#\tNeither BindingResult nor plain target object for bean name 'categoryOptions' available as request attribute\tHow to change Wicket behaviour on Page Expired\tPHPUnit code coverage show 0% coverage\tHow to prove code correctness lemmas with the \"undefined\" constant\tVisual Studio has insufficient privileges to debug this process. To debug this process, Visual Studio must be run as an administrator\tWebApi EntitySetController using composite keys\tHow do I set up an OpenGL project using XCode 4.2 in C++?\tInitialize static NSString at class level\tRich Text Editor inside Flux Form\tSetting $PATH in xampp osx\tHow to extract data from html using PHP\tHow to get Current location using MapModule?\tExcel VBA Syntax Errors & Compiling Issues\tHow to read Logback configuration file from path outside the war file?\tjQuery ajax not getting every div elements\tTCP Socket on JAVA - Any byte >= 128 is received as 65533\tSqlBulkCopy keeps on throwing connection forcibly closed exception\tError sending to the following VALID addresses Jenkins\tHow to determine if a text has balanced delimiters?\tHow to flick through a deck of cards?\tSelecting in SQLite Database Android\tTSQL merge Incorrect syntax near ','\tBuilding Pocketsphinx On Android on Windows\tAdd background image in a div without empty space between div and footer\tInclude github project into wordpress plugin\tdjango multivaluefield & multiwidget - compress and/or decompress not working\tAndroid : Can i call my onresume() inside onpause().?\tHow to fit picture to absolute positioning modal window?\tRedirect URL to PHP only if file does not exist with Nginx\tLaravel 4 Exception: NotFoundHttpException\tHow To Start Using Kostache?\tAssigned access application exits when Ctrl + Alt + Delete is pressed.\tCircular dependency error when running migrations in Django 1.7c2\tJavaFX setOnShown fires before window is visible\tFlash Develop - Publishing\tI want to use the variable I declared somewhere else but I cannot (simple sql query)\tbuttons are not displayed\tPrevent Twitter responsive layout from collapsing when width < 320px\tShow azure cost analysis data using Azure billing API/SDK\tfind the field names from a search query\tOAuth 2.0 OpenID Connect Loopback and Keycloak\tWindows Phone: How to retrieve the same photo from media library between application instances\tSymfony2: determine if a controller is called from a development environment or from a production environment\tWhen UITableView is fully reloaded\thttp.post(url, postData, options) does not set header\tJSON stringify outputs empty object for not empty object\tDisplay.syncExec not working inside Callable\tXPath to first occurrence of element with text length >= 200 characters\tUnable to push a docker image to local OpenShift Origin registry\tSlideDown() using JavaScript not working as intended\tThreading.Tasks Dispose meaning issue\tVAL() function in JavaScript\tUsing php to send form to my email..Having an issue with 405 Not Allowed when form is submitted\tNetty closeFuture().sync().channel(); blocks rest api\tHow to check if a specific button exists in Scrapy?\tRemove logs from ORMLite Android\tLanguage detection API/Library\tShould I make 1 form for each upvote button or 1 form for all the buttons?\tEclipse GAE JDO 3.0\tdjango-cms editors and HTML data attribute cleaned up\tXcode build error clang failed\tsetTimeout from a web worker\tC# Populating a listview from a List\tJavascript not working in django inline formset using urlify.js\tPHP multi cURL performance worse than sequential file_get_contents\tConverting PHP Contact Form to SMTP\tHow do I prevent the original method being called when mocking a class with PHPUnit?\tEnsure footer will stick to bottom of page and flex with content\tHow to share files from any path using a FileProvider?\tR: How to build sum of arrays third dimension containing NAs and returning a list?\tSpeeding up a strangely slow Rcpp function\tHow to create a service that sends/receives UDP broadcasts on multiple interfaces\tCan someone tell me how to replace the following javascript code with a loop?\tUIImageView layer border issue\tCOM object created by CComObject::CreateInstance not destroyed when pointer goes out of scope\tRun 2 sql query with 1 query for save query result as .csv format\tAWS Elastic Beanstalk Vs EC2 Container Service (ECS) - Docker\tConnect to remote MongoDB instance from ASP.NET\tCopying files with unicode names\tASP.NET Web application doesn't unload AppDomains after deploy\tGetting YouTube livestream URL\tCan't use ToString() in LINQ to Entities query\tlist comprehension to create list and for no-data value feed default value\tJSX element type 'XXX' does not have any construct or call signatures\tSubroutine unexpectedly ends when a Workbook is closed\tCreating a result set (using a select statement ) within a loop\tLaravel 4.2 - Environment detection - homestead.yaml vs. start.php\tDeploy a shell script with Ruby gem and install in bin directory\tChange a string into an int\tHow do I stop a MySQL decimal field from being rounded?\tRespecting argparse's privacy, vs. usability\tVery simple Web Service in Python\tEmoji and UIWebView in iOS 5\tGetting IOError: [Errno Invalid number of channels] -9998 when using mic with PyAudio on Raspberry Pi\tMono on Mac OS X - Parallel HTTP Downloads limited to 2\tDelete files, directories and buckets in amazon s3 java\tAndroid: Saving form data on a swipe rather than from a button\tNo description or item name on PayPal Payment Received email\tCode igniter with data mapper giving in valid json\tWhere can I find official / canonical documentation for using JavaScript with \"classic\" ASP?\tBroadcastReceiver isn't working\tArray compare and count which has similar values and which not\tHow to cancel 'viewWillAppear' after UIImagePickerController is dismissed\tIn Scala, is it possible to write a script which refers to another script\tafter reload page IE is not retaining it's scroll position\tSpringBoot multiple authentication adapter\tSMTP Contact Form blank screen on Submit\tDestroy all sessions but one\tC# WIndows CE Compact Framework 2.0 Set System Timezone\tAppropriate representation of a 2D game board in Clojure\tIonic emulate ios shows black screen\tHow update APi with AngularJS?\tJavascript based redirect: will it hurt SEO?\tWhat is the difference between these two SOAP requests?\tMicrosoft Access Report - How to cycle through all pages of a report in print view?\tWhat does Actor[akka:\\\\play\\deadLetters].tell() mean in a New Relic's trace of a Play Framework 2.0 web transaction?\tJRuby 1.7.0 will not install bundler given plenty of memory\tsolr multiple tokenizers for query\tIs it possible to pass an EJS variable to an Angular ng-repeat filter?\tHow To Read Data using Ip Address\tSSIS XML Decryption Message\tDetecting selection change on a UITextView?\tDifferent CSS background-image depending on month and year\tWhat's the equivalent averageifs for standard deviation?\tSegmentation faults using f2py\tEclipse: Most useful refactorings\n"
          ]
        }
      ]
    },
    {
      "cell_type": "code",
      "source": [
        "validation_data[0].split('\\t')"
      ],
      "metadata": {
        "colab": {
          "base_uri": "https://localhost:8080/"
        },
        "id": "SkDrRWvSyMl9",
        "outputId": "74594137-fd58-49fe-bdde-06916d7ca5c9"
      },
      "execution_count": null,
      "outputs": [
        {
          "output_type": "execute_result",
          "data": {
            "text/plain": [
              "['How to print a binary heap tree without recursion?',\n",
              " 'How do you best convert a recursive function to an iterative one?',\n",
              " 'How can i use ng-model with directive in angular js',\n",
              " 'flash: drawing and erasing',\n",
              " 'toggle react component using hide show classname',\n",
              " 'Use a usercontrol from another project to current webpage',\n",
              " '~ Paths resolved differently after upgrading to ASP.NET 4',\n",
              " 'Materialize datepicker - Rendering when an icon is clicked',\n",
              " 'Creating PyPi package - Could not find a version that satisfies the requirement iso8601',\n",
              " 'How can I analyze a confusion matrix?',\n",
              " 'How do I declare a C array in Swift?',\n",
              " 'Using rand() when flipping a coin and rolling a die',\n",
              " 'Handling a JSON field with a special character in its name in Java',\n",
              " 'React Native select row on ListView when push it',\n",
              " \"Get 'creation_time' of video using ffmpeg and regex\",\n",
              " 'Does row exist and multiple where',\n",
              " \"How to specify a classifier in a gradle dependency's dependency?\",\n",
              " 'Using $unwind on multiple documents',\n",
              " 'Visual Studio Code: Missing X509Certificate2UI',\n",
              " 'Developing Cordova plugins for Firefox OS',\n",
              " 'Update multiple rows for 2 columns in MySQL',\n",
              " 'Analyse format of alpha-numeric string',\n",
              " 'Dealing with large TIFF images C++/Magick/libtiff',\n",
              " 'What does Error: [$injector:unpr] Unknown provider: tProvider <- t <- myActiveLinkDirective mean?',\n",
              " 'AngularJS - Apply directive instantly, formating currency',\n",
              " 'Can I change the font color on a portion of a string?',\n",
              " \"Spring AOP does not intercept methods within Spring's container\",\n",
              " 'How to retrieve json in original nested form in apache solr?',\n",
              " \"Spatial autocorrelation using Moran's I or other spatial overlap index\",\n",
              " 'how to stop my php page from continuing when field is empty',\n",
              " 'Selecting all CheckBoxes in ListBox not displayed properly',\n",
              " \"PHP warning: Illegal string offset 'field'\",\n",
              " 'WebBrowser control crashes on Windows 10',\n",
              " 'Error while opening a modal in angular',\n",
              " 'Port 25 works when exe run manually but blocked when run as service',\n",
              " 'Why does 6.00 + (plus) 5.00 = \"5.006.00\"?',\n",
              " 'Count number of processes created using fork in a for loop',\n",
              " 'When should I use UIImagePickerControllerSourceTypePhotoLibrary instead of UIImagePickerControllerSourceTypeSavedPhotosAlbum?',\n",
              " 'Read File in Java, output the first comma delimited String',\n",
              " 'Simple recursive method',\n",
              " 'Ensure SQLite table only has one row',\n",
              " 'Why is there a method iterator() on java.util.Collection',\n",
              " 'Development for Cloudant using local CouchDB',\n",
              " 'Regex to find method calls',\n",
              " 'ASP.NET Menu rendering different from vs2008 to vs2010',\n",
              " 'Maven - Change jUnit Version in Quickstart Archetype',\n",
              " 'Writing sublists in a list of lists to separate text files',\n",
              " 'iPad: problems with table rows in popovercontrol',\n",
              " 'Retrieve multiple results set',\n",
              " 'pagination is not working in codeigniter :(',\n",
              " 'Angular NVD3 Change Colors In Legends Also',\n",
              " 'node.js server not responding while large file upload with express and busboy',\n",
              " 'Send request & Get Response in Windows Phone 8.1 WinRT',\n",
              " 'want to delete only empty folders from directory before last 30 days using batch',\n",
              " 'Creating X amount of threads that execute a task at the same time',\n",
              " 'Android Studio 2.2 update: aligned APK (zipAlign) not generated using the new Gradle Plugin 2.2.0',\n",
              " 'Entity Framework - adding the same entity twice in many-to-many relationships',\n",
              " 'Join two tables, only display unique values and maxium date',\n",
              " 'How to use absolute position relative to parent element',\n",
              " 'Search refinement for WebMatrix site',\n",
              " 'Maven project version as expression, not constant',\n",
              " 'Can I prevent App.g.i.cs to be generated?',\n",
              " 'Troubles converting XSD to Java using JAXB',\n",
              " 'Cannot run a jax rs web service with tomcat',\n",
              " 'make a password protected bash script resist/refuse \"bash -x\" when the password is given',\n",
              " 'Does youtube api play function trigger a view count?',\n",
              " 'Why is this Perl loop over strings then characters so slow?',\n",
              " 'How can I change the size of rgl plots in Shiny RMarkdown?',\n",
              " 'How do I programmatically disconnect clients which are connected to Solace appliance?',\n",
              " 'Rails before_filter (Correct_user OR Admin)',\n",
              " 'How to gitignore everything except hidden subdir?',\n",
              " 'Should I use weakSelf in nested blocks?',\n",
              " 'CSS background color not behaving as expected',\n",
              " 'Android app Listview cannot be scrolled to bottom to search a specific element using appium in java',\n",
              " 'Rails: Why \"has_many ..., :through => ...\" association results in \"NameError: uninitialized constant ...\"',\n",
              " 'How to send data between fragments when swiping tabs in ViewPager',\n",
              " 'Wordpress static pages: how to embed content into templates?',\n",
              " 'Troubles with importing classes from Angular 2 modules with Typescript 1.7',\n",
              " 'i am not able to get the images read in java for exporting it as JAR',\n",
              " 'How do I create a resource dll',\n",
              " 'error: linker command failed: ld: duplicate symbol _main',\n",
              " 'sql to find non-printable characters in a string',\n",
              " 'i want to generate payperiod for each month',\n",
              " 'Interactively enter headline under which to place an entry using capture',\n",
              " 'Querying the DNS service records to find the hostname and TCP/IP',\n",
              " 'Can I use setContentView outside the oncreate method?',\n",
              " 'Consolitate data from multible sheets ,re-arrange the data as per the column name',\n",
              " \"Why is my 'transparent' overlay view opaque?\",\n",
              " 'how can I run play framework with port=9001 under windows cmd not under play console?',\n",
              " 'Rails 3 - Ajax POSTS from a link click',\n",
              " 'Add html content to mysql die error?',\n",
              " 'Best way to run a Plack PSGI Perl application outside of Apache using FastCGI?',\n",
              " 'How to Call NSUserDefault Value To Another View Controller?',\n",
              " 'Does Qt have a way to get the font that the particular css resolves to?',\n",
              " 'How to update Parent component about the data that child component modified(angular 1.5)',\n",
              " '2d array, pushing to one array shows up in all arrays?',\n",
              " 'Get NSData from assets-library URL',\n",
              " 'How to specify image size in HTML Doxygen?',\n",
              " 'NSFetchedResultsControllerDelegate in a second view controller (not firing?)',\n",
              " 'Draggable divs getting mixed with another divs',\n",
              " 'creating MLP in python showing error',\n",
              " 'Create SharePoint 2010 ribbon button programmatically w/o feature XML',\n",
              " 'how can I use pyglet write a music player can play a music list',\n",
              " 'How can I efficiently debug loops consisting of a large number of iterations on Eclipse?',\n",
              " 'Passing a model object to a RedirectToAction without polluting the URL?',\n",
              " \"Automatically receiving mobile phone's SMS to hyperterminal\",\n",
              " 'Output \"System.out.println\" into Emacs Cider\\'s REPL (or other buffer)',\n",
              " 'Scoring regression model using PMML with Augustus in Python',\n",
              " 'Safari View Controller - send data back to app',\n",
              " 'Signalling a bash script running in the background in an infinite loop',\n",
              " 'How do I add in-app purchase to a published app in play store and test it before going into production?',\n",
              " 'FileNotFoundException in Windows 10 Universal App (UAP)',\n",
              " 'How to map one column with other columns in an avro file?',\n",
              " 'Retrieving all the cell data from a jQuery datatable on post',\n",
              " 'In Play! Frame work Can I Make classes In models package Singleton?',\n",
              " 'Binding events with Hammer.js and .on()',\n",
              " 'yii making user auto logged in on signup end (auto authentication after signup)',\n",
              " 'Unreal Engine 4: save rendered frame to memory',\n",
              " 'Building HelloWorld C++ Program in Linux with ncurses',\n",
              " 'Generating Checkbox Lists with MVC3 using a complex viewmodel and a cross table with Linq to SQL',\n",
              " 'CordovaWebView: TIMEOUT ERROR',\n",
              " 'Whats wrong in my xsd schema ? It gives type element is not declared on include of another xsd file',\n",
              " 'Angular and papaParse Integration',\n",
              " 'Setup a graylog2 server with elasticsearch in a vagrant machine',\n",
              " '(Solved-See my comment)How to make a password form on tumblr?',\n",
              " 'Javascript: Call a method inside another method',\n",
              " 'aws api gateway client-side ssl certificate verification with nginx',\n",
              " 'Kendo UI drop downs posting arrays',\n",
              " 'ServiceStack Identity on field other than PK - Insert fails',\n",
              " 'Redirection when rendering controller in twig SYMFONY 302',\n",
              " 'CSS Sprites Bottom repeating',\n",
              " 'How can I sort a table of Laravel Eloquent objects by a custom attribute?',\n",
              " 'Comparing elements in a generic list',\n",
              " 'Set minDate for Bootstrap DateTimePicker from another',\n",
              " 'What is the difference between :g and :%s commands in vim',\n",
              " 'Java: creating self extracting jar that can extract parts of itself out of the archive?',\n",
              " 'set html text color and size using javascript',\n",
              " 'Queue using Arrays',\n",
              " 'foreach loop when using Xml.XmlElement in remote scriptblock',\n",
              " 'How to print list of categories and click on each category one by one in selenium/appium?',\n",
              " 'Every now and then, ABCpdf runs out of memory',\n",
              " 'In Spring OAuth2, why is my resource still unprotected even though I have marked it in my resource server?',\n",
              " 'how to restart node application automatically on aws elastic-beanstalk',\n",
              " 'Unresolved external symbol LNK2019',\n",
              " 'Celltemplate in angular-ui-grid is not working properly',\n",
              " 'Escaping backslashes in method call stringByReplacingOccurrencesOfString Does not work in Objective C',\n",
              " 'APEX Data Loading - Add a column programatically',\n",
              " 'MySQL / MariaDB shuts down after exactly 1 minute 42 seconds',\n",
              " 'Mouse movement / mouseover and JavaScript evaluation in watir',\n",
              " 'Removing backslashes from a string in Python',\n",
              " 'Array manipulation (accessing specific bytes)',\n",
              " 'Rails: Does Application.css load all css.scss files?',\n",
              " 'LongListSelector cannot change ItemsSource',\n",
              " 'C# DateTime not recognising timezone change (BST)',\n",
              " 'deinit in child view controllers',\n",
              " 'How to send back to custom class which object of that class was clicked',\n",
              " 'delete from array returning self',\n",
              " 'MS Access Properties',\n",
              " 'UIWebView always add a parameter in url issue',\n",
              " 'comparing two spanned strings in edittext in android',\n",
              " 'Add prefix to control id and still have it bind MVC Razor',\n",
              " 'EXC_BAD_ACCESS when setting Integer to anything else than zero',\n",
              " ':hover CSS is not working?',\n",
              " 'Blowfish last block incomplete in decryption',\n",
              " \"Reading uploaded image: undefined method `file' for nil:NilClass\",\n",
              " 'How can I run IntelliJ IDEA on a remote desktop',\n",
              " 'How to get the JSONObject server response in Volley',\n",
              " 'Guide in organizing large Django projects',\n",
              " 'how to populate a dropdownlist based on another dropdownlist selected value in mvc 4?',\n",
              " 'Azure ServiceBus Token Expired',\n",
              " 'iBatis to MyBatis migration efforts?',\n",
              " 'Where should I look for the document generated using htp package',\n",
              " \"Tortoise SVN Error after update: 'The specified path has an unexpected status'\",\n",
              " 'Extract html data after logging into website from android app',\n",
              " 'Add key value to array without triggering an array',\n",
              " 'How to write this math equation into c++',\n",
              " 'Undefined index php mysql error',\n",
              " 'when text changed inputbox automatically updates next 6 text boxes',\n",
              " 'Unable to get email of facebook user',\n",
              " 'iphone: Facebook logout feature is not work in my app',\n",
              " 'how to force my app NOT to use the 3g data proxy setting',\n",
              " 'Unit Testing - What do you do when your code is pretty much just a calculation (GetHashCode for example)?',\n",
              " \"Status of CheckBox can't be detected\",\n",
              " 'Sort a list with multiple conditions Ruby on Rails',\n",
              " 'How to sharp the text in css3?',\n",
              " 'How to change the class of an object dynamically in C#?',\n",
              " 'Creating an Array with a Default Value,But the default value is changed',\n",
              " 'How to call a delegate\\'s function without getting the \"instance method not found\" warning in ios?',\n",
              " 'Android, background drawable appear black in genymotion but looks fine in intellij',\n",
              " 'Table has no columns using google charts',\n",
              " 'Dropdown list where options populate a second list js/php?',\n",
              " 'difference between <% and <%= ruby',\n",
              " 'How to remove the functionality of changelist filter appearing in django admin?',\n",
              " 'how to unpack stxetx data in python',\n",
              " 'Ansible: playbook calling Role in a directory that is in the roles directory',\n",
              " 'Setting up HTTPS redirects on Heroku Laravel Instance',\n",
              " \"Input helper valueBinding is deprecated - what's the alternative?\",\n",
              " 'Using MySQL.connector with Twisted Python to execute multiple queries',\n",
              " 'MySQL - 1 large table with 100 columns OR split into 5 tables and JOIN',\n",
              " \"neo4j load csv when field name has a '.' in it\",\n",
              " 'Mocha + React: navigator is not defined',\n",
              " 'semantic ui grid - display full width of column, after \"computer only\" columns is hidden',\n",
              " 'populating select menu options using javascript',\n",
              " 'Serializing MongoDB find() return into non-anonymous JSON array, using PyMongo',\n",
              " 'Geom tile white space issue when the x variable is spread unevenly accross facet grids',\n",
              " 'Moving files depending on the profile in a WAR',\n",
              " \"Check if it's the last record in sqldatareader\",\n",
              " 'Assigning to columns in NumPy?',\n",
              " 'Android Facebook ApiException: Invalid Application',\n",
              " 'Django: customizing the message after a successful form save',\n",
              " 'Custom TextBox with built-in Validator: server side validation not firing',\n",
              " 'How to embed mjpeg file on a webpage',\n",
              " 'php delete on jQuery doesnt work',\n",
              " \"AWK doesn't work in Bash Script\",\n",
              " 'Launch specific app when external accessory attached',\n",
              " 'Three Inputs in a Row - Bootstrap 3',\n",
              " 'How compiler like GCC implement acquire/release semantics for std::mutex',\n",
              " 'Framework search for upcoming project',\n",
              " 'Implementing a Web Service Server in Windows CE 2013',\n",
              " 'Why do I keep getting \"The digital signature of the object did not verify\" for Windows JavaEE installer',\n",
              " 'hide paging numbers in gridview?',\n",
              " 'How to remove sublayers from a view afer a touch',\n",
              " 'CUDA: Can i find out if i have global memory coalescence?',\n",
              " 'How to read a google chrome crash dump with windbg',\n",
              " 'jQuery targeting nested list',\n",
              " 'pass the column value when checkbox is clicked in wijmogrid column',\n",
              " \"How to normalize your database in hibernate? (Repeating values don't get saved again and again)\",\n",
              " 'how to stop validation on a particular textbox after hiding this textbox using angularjs',\n",
              " 'opencv imshow with waitKey too slow on Mac OS X 10.10.2 (using c++)',\n",
              " 'Setting an Input Box Background',\n",
              " 'IntelliJ IDEA: \"Element ignore is not allowed here\"',\n",
              " 'Slider does not work in the jQuery Tabs',\n",
              " 'Carrierwave getting image width and height and storing it in an hstore field',\n",
              " 'OpenProcess() succeeds, but EnumProcessModules() fails',\n",
              " 'Django + Forms: Dynamic choices for ChoiceField',\n",
              " 'using Url.Content to display the file content with .net mvc',\n",
              " 'PDO cannot able to fetch image from database',\n",
              " 'error in adding overlay in current location',\n",
              " 'Internal section link fails in beamer output of pandoc markdown',\n",
              " 'Adding ROW_NUMBER() to query loses DISTINCT, defeats the purpose of paged results attempt',\n",
              " 'android studio 135.1339820 launches wrong java version on openSuse 12.3',\n",
              " 'My Facebook object is empty',\n",
              " 'Java code reads UTF-8 text incorrectly',\n",
              " 'PHP session.cookie_secure does not actually set the cookie to secure',\n",
              " 'Using webapp2, how can I get the value of a form\\'s \"name\" attribute during a POST request?',\n",
              " 'Finding Uppercase Character then Adding Space',\n",
              " 'Table data pass into stored procedure as param and insert into another table in mysql',\n",
              " 'Inject entry point class in GWT with GIN',\n",
              " 'How to group by week of the year dates or day dates that start on Sundays in oracle 10?',\n",
              " 'What are the options Some and None SML?',\n",
              " 'Reversing a .mp3 programmatically',\n",
              " 'Convert Associative Array in PHP and insert it to database',\n",
              " 'Why is the \"map\" version of ThreeSum so slow?',\n",
              " 'ant keeps recompiling',\n",
              " 'HttpContext.Current.User.Identity.Name returns blank',\n",
              " 'UIWebView Javascript Window to Window Communication',\n",
              " 'Fluent NHibernate Exception: An association from the table X refers to an unmapped class: System.String',\n",
              " 'Are .NET memcache libraries production ready?',\n",
              " \"DB2 Can't connect to db with new user\",\n",
              " 'Django flatpages backup?',\n",
              " 'Trouble with Creating One-Time Calendar Event from Google Sheet row',\n",
              " 'The colored image turned to have no color and just a grey vector in drawable?',\n",
              " 'how to show pattern in asp-Repeater item template?',\n",
              " 'Fastest scripting language for Java?',\n",
              " 'Tried to reverse engineer my app, but got some weird-looking file tree',\n",
              " 'Startup for bundles placed in the deploy folder of Karaf',\n",
              " 'd3js force layout with hide/unhide on node click misplaces nodes after expanding',\n",
              " 'Unique column definition in SQL',\n",
              " 'Hash of a cell text in Google Spreadsheet',\n",
              " 'How to pin/unpin Microsoft Edge developer tools in Windows 10',\n",
              " 'Which editor can align tables in reStructuredText for Sphinx?',\n",
              " 'How to walk through a directory in c and print all files name and permissions',\n",
              " 'iOS KVC DRY mutation',\n",
              " \"IBM MobileFirst Platform iFix doesn't update the version displayed in Operations Console\",\n",
              " 'relative layout aligning images about right bottom corner',\n",
              " 'How to retrieve a PDF(document) from the Tridion File System and create a multimedia component out of it',\n",
              " 'HTML sends x y POST data with no inputs - how is this possible?',\n",
              " 'How can I view Azure logfiles when running locally?',\n",
              " 'is there a web service client code generator on iOS?',\n",
              " 'Get smallest type to include data range',\n",
              " 'Get dates as check if it is ending',\n",
              " 'Cordova brightness still returns -1',\n",
              " 'How to detect 3 keyboard buttons in Swing?',\n",
              " 'Python calculations in two groups',\n",
              " 'create array from mysql query php',\n",
              " 'TDD vs Defensive Programming',\n",
              " 'Display logo or image in the Ribbon using VSTO',\n",
              " 'How can I get a meaning of a jsp variable in java code on the same page?',\n",
              " 'Conversion of cloud data into 2d image using OpenCV',\n",
              " '[python-suds]Bug? One additional element is created when using Factory',\n",
              " 'Using clang to analyze C++ code',\n",
              " 'Login with email and password control not working',\n",
              " 'ansible: use different logging level for terminal and log file',\n",
              " 'Draggable window with pyqt4',\n",
              " 'dynamically adding edittext depending on the elements of json array',\n",
              " 'How to convert ftp.getModificationTime(file) to readable format',\n",
              " 'PHP Login Form using DashDB',\n",
              " 'Building a properties file to the top level of a WAR file, Spring-MVC/Maven',\n",
              " 'Enabling breakpoints in goclipse',\n",
              " 'error while including external JARs in ant script',\n",
              " 'Comparison of web widgets in flash and javascript',\n",
              " 'Why must I free this data? Am I the owner?',\n",
              " 'Optimizing a very huge mysql table (query or mysql)',\n",
              " 'tlbexp.exe outputs different tlb information on 2012 versus 2010',\n",
              " 'How to create a Facebook Like with a post/comment box',\n",
              " 'Codeigniter PDO integration',\n",
              " 'pass string array as parameter to asp.net mvc webapi method',\n",
              " 'Removing space in dataframe python',\n",
              " 'How to set application identity of an application pool using web administration module in powershell?',\n",
              " 'how to handle play database connection exceptions',\n",
              " 'querydsl 3.3.0 - using collection.any() with elementcollections in a query with N boolean arguments generates N \"exists\" sub-queries',\n",
              " 'Gson: Change the way Map-Keys are being serialized',\n",
              " 'Improving gnuplot 3d plots from data files with pm3d',\n",
              " 'Divide problem',\n",
              " 'Yii2: Using Kartik Depdrop Widget?',\n",
              " 'Can anyone post an example of how to enable SSL in Tsung?',\n",
              " 'MPI_Isend and MPI_Irecv seem to be causing a deadlock',\n",
              " 'Virtual Box port forwarding misery with Ruby Sinatra:4567 / Shotgun:9292',\n",
              " 'Enhancing regex to match more URLs',\n",
              " 'JavaScript classlist selector error',\n",
              " 'My IntelliJ IDEA 11.1.5 lost the ability to debug node.js applications after upgrading to windows 8.1',\n",
              " 'Scientific notation android java',\n",
              " 'How to make a JSON array case insensitive for Twitter Typeahead?',\n",
              " 'Membase can someone explain the idea behind their technology',\n",
              " 'Struts 2 + Dojo + Datetimepicker',\n",
              " 'Cannot retrieve data from find query',\n",
              " 'How long are resources used (file descriptor and memory) for Java temporary files (jar_cache####.tmp)?',\n",
              " 'how to pass a variable in WHERE IN clause of oracle sql?',\n",
              " 'How can I transform the coordinates of a Shapefile?',\n",
              " 'Mapping result of aggregate query to hibernate object',\n",
              " 'Drawing Application how to save drawing in android phone memory',\n",
              " 'Error while using npm install -g generator-jhipster',\n",
              " 'Get abs path from the currently edited file in Eclipse',\n",
              " 'Post form data to foreign aspx form',\n",
              " 'Logging in Azure web jobs',\n",
              " 'MTM with (automated) CodedUITest test-cases developed in VS2013 issues',\n",
              " 'How to print contents of an HTML element in MacGap?',\n",
              " 'ASP.NET Control not available in CodeBehind',\n",
              " 'How can I disable the IIViewDeck functionality momentarily?',\n",
              " 'Why would I create a struct with only a `PhantomData<()>` member?',\n",
              " 'Accessing masterpage properties from child pages in ASP.net VB',\n",
              " 'Bash read inside a loop reading a file',\n",
              " 'Random number between 1 and 20 excluding numbers already picked',\n",
              " 'Wordpress Navigation Label in Browser tab',\n",
              " 'Taking control of the soundCard with JAVA',\n",
              " 'STL containers and large amounts of data',\n",
              " 'Colour in Backorder Products dropdown based on stock in WooCommerce',\n",
              " 'Richfaces - <rich:autocomplete> not showing suggestions',\n",
              " 'How to select and enlarge a Masterpane in Zedgraph',\n",
              " 'react-native android publishing keystore',\n",
              " 'What is a good way to find a specific value in an XML document using C#?',\n",
              " 'Can i make my own Singleton Stateless Bean with EJB 3.0?',\n",
              " 'How does Google App Engine precompile Java?',\n",
              " 'Using dispose() method instead of close() method to a form',\n",
              " 'Spring Oauth2 \"Full authentication is required to access this resource\" with valid access token',\n",
              " 'Why is my code only displaying incorrect even if I have the right answer?',\n",
              " 'Forcing function in ODE',\n",
              " 'Get sum of column on last row, good practice?',\n",
              " 'Simple Karma + Typescript configuration - Reference Error: x is not defined',\n",
              " 'Error building Player because scripts have compile errors in the editor',\n",
              " 'Property Testers do not load despite forcePluginActivation. For popup menu enablement',\n",
              " 'Javascript regex to match last word regardless of specials characters',\n",
              " 'Develop multilangual system',\n",
              " \"angular-mock testing in Karma+Mocha can't find module\",\n",
              " 'How to append an element inside object using a common way',\n",
              " 'Generate random \"dark\" colours only in Java',\n",
              " 'Access element in list using indexes stored in another list',\n",
              " 'How to correctly use setq in elisp?',\n",
              " \"iOS - Today Extension 'show more' & 'show less' state incorrect. Collapsed says 'show less' - requiring multipule presses to fix\",\n",
              " 'how to get the position of the cursor in an editable div',\n",
              " 'flickering of image in SWT',\n",
              " 'Completely random identifier of a given length',\n",
              " 'Angular 2 Render Flat List from Hierarchal Data',\n",
              " 'Java RMI threads on client-side are executing sequentially or concurrently when calling the same remote object?',\n",
              " 'Variable-size buffer for receiving UDP packets',\n",
              " 'CreateSqlQuery on entity with formula property',\n",
              " 'Datepicker TIMESTAMP divide by 100',\n",
              " 'how to print out the whole table using anonymous block in pl sql?',\n",
              " 'In Sentora i will need to integrate a clamav Module',\n",
              " 'how do i set a value of a multiple <select> tag from the database',\n",
              " 'show decimal value in C#',\n",
              " 'Javascript: how to affect other element when hovering?',\n",
              " 'Creating new popup window when click button',\n",
              " 'How to Depict Either/Or Inheritance in a UML diagram?',\n",
              " 'Ajax post success data: Can you separate results?',\n",
              " 'Document.getElementById() not available for ChromiumWebBrowser in visual studio',\n",
              " 'target of assignment expands to non-language object',\n",
              " 'How do I configure distributed transactions for NServiceBus',\n",
              " 'How to combine an array of png images like layers using C#?',\n",
              " \"yii2 gii CRUD Generator error - Class 'Message' does not exist or has syntax error\",\n",
              " 'Get values of checkbox to other page',\n",
              " 'Session on subdomains still not working',\n",
              " 'How can I turn off host name resolutios?',\n",
              " 'syntax error, unexpected end-of-input',\n",
              " 'Erlang: \"extending\" an existing module with new functions',\n",
              " 'tcl string replacement',\n",
              " 'how to access directory in plesk (control panel )',\n",
              " 'Minimizing the sum of a special function over a list',\n",
              " 'VB.Net & Access - Set two foreign keys, that refer to the same table/field',\n",
              " 'Memory Monitoring Tool for Erlang Threads',\n",
              " 'Disable Spring Boot Security @Secured at runtime',\n",
              " 'Join two tables on the same date or closest date (before or after)',\n",
              " 'Power Point viewer asp.net mvc',\n",
              " 'Swift: Get an element from a tuple',\n",
              " 'images rotation to the right',\n",
              " 'Can I access the visual voicemail files on the iphone thru the SDK?',\n",
              " 'Proximity alert for locations saved at server',\n",
              " 'Tableviewcell button',\n",
              " 'Angularjs select does not mark matching model as selected',\n",
              " 'How can i use id to do action on an object of an android using Robotium tool?',\n",
              " 'How can i pass a value to constructors of collection of instances at runtime with simple injector?',\n",
              " 'Large binary shifts in 8086 assembly?',\n",
              " 'Directshow, format type change filter',\n",
              " 'How to open model window on option selection?',\n",
              " 'Update value in sqlite iphone sdk',\n",
              " 'Installing ADT plugin in Eclipse for Android development',\n",
              " 'Automating a ContextMenu with Watin',\n",
              " 'how to evaluate the performance of any cryptographic algorithm (say elliptic curve)?',\n",
              " 'Nth-child Selector with Prototype',\n",
              " 'Difference in performance of compiled accelerate code ran from ghci and shell',\n",
              " 'Database design for email messaging system',\n",
              " 'Java SE Development Kit 8u20 Install Options',\n",
              " 'Reading a file in chunks',\n",
              " 'Twitter style Web Application based on LAMP, Symfony2, Backbone : possible?',\n",
              " 'Regexp for C preprocessor command',\n",
              " 'Cmposition, I dont quite get this?',\n",
              " 'CakePHP form submits the \"array\"',\n",
              " 'Store feed forward network in mongodb',\n",
              " 'bash read strings and output as one key and multiple values',\n",
              " 'http client in python fails to recive',\n",
              " 'Dynamic languages - which one should I choose?',\n",
              " 'How to start an IntentService from a WakefulBroadcastReceiver',\n",
              " 'C++: Converting wstring to unsigned char',\n",
              " 'How to make echo interpret backslash escapes and not print a trailing newline?',\n",
              " 'AngularJS.. http.get working, when splitting into its own service module its no longer working',\n",
              " 'How do I determine the number of elements in an array reference?',\n",
              " '\"TypeError: \\'NoneType\\' object is not iterable\" on what should be a list',\n",
              " 'Replace random image on website',\n",
              " 'Rotation matrix between two camera system',\n",
              " 'Animated border which wraps around',\n",
              " 'cron job not picking up oracle query result',\n",
              " 'Formview and MS-Ajax UpdatePanel',\n",
              " 'How to update data with TreeStore or TreeEditor component?',\n",
              " 'Get kwargs passed to url_for in Flask view',\n",
              " 'how to reload the template when working with enlive without restar',\n",
              " 'Thread-safe get (accessor method)',\n",
              " 'How can I tell if \"inline\" worked?',\n",
              " 'calling some logic before user is logged out using spring security?',\n",
              " 'Java pattern to find two groups of two letters in `ABC`',\n",
              " 'MYSQL distincs entry of two columns even when switched',\n",
              " 'How Antlr creates tokens',\n",
              " 'Play Framework 2.4 - Java - Http header and cached response',\n",
              " 'List of Strings in a Grails domain class',\n",
              " 'Insert into MongoDB via Node.js',\n",
              " 'How to stop or pause Pandora and Spotify',\n",
              " 'Oracle Function: Replicate wm_concat',\n",
              " 'Return user to previous page after login (Rails)',\n",
              " 'Custom Layout Manager using predefined and developer-defined child view(s)',\n",
              " 'In Ruby, how do I specify a file in another directory as an input?',\n",
              " 'Unable to read View Bag value from controller to view',\n",
              " 'Parameters on time stamps in oracle sql developer',\n",
              " 'measuring the time to load a page - Python',\n",
              " 'Set height of child to height of parent',\n",
              " 'How can I find the element that caused another element to fire the focusout event?',\n",
              " 'How to get the latest created table in MySQL?',\n",
              " 'Better way to reference $scope in AngularJS',\n",
              " 'Sharing data between Elastic Beanstalk web and worker tiers',\n",
              " 'iOS certificate pinning with Swift and NSURLSession',\n",
              " 'Sharing UDP Data across apps (background/foreground or Split screen multitasking) in iOS',\n",
              " 'iPhone: Facebook logout feature does not working',\n",
              " 'AutoHotKey. Hotstrings and Auto-replace not working in Visual Studio 2008',\n",
              " 'Issue setting up Android SDK - Failed to Start Emulator',\n",
              " 'Why is the dismissable alert not being dismissed?',\n",
              " 'Error while executing change data capture sql query',\n",
              " 'multiple queries - Route.get() requires callback functions but got a [object Undefined]',\n",
              " 'How to attach custom element to shadow DOM in html web components in a secure way?',\n",
              " \"flash javascript don't work (Second try)\",\n",
              " 'How do EGit versions map to Git versions',\n",
              " 'How the ftp uploads works in PHP?',\n",
              " 'Sql XML to Delphi',\n",
              " 'Lookup table with the query with arbitrary length without using a for loop in R',\n",
              " 'C# XML deserialization XmlAttribute',\n",
              " 'CSS, JQuery: Animated transform from 3 lines menu to cross',\n",
              " 'Can m2e install an external jar file? Or do I need to install the maven command line tool?',\n",
              " 'Does gSOAP RESTful implementation require the definition of a WSDL',\n",
              " 'Automatically create an appointment in Outlook using message content',\n",
              " 'JSoup error: java.lang.IllegalArgumentException',\n",
              " 'Add Button to CMS_Page_Edit via Observer',\n",
              " 'How to do an XOR of the binary forms of all integer items in a list',\n",
              " 'How to add regularization in Scipy Linear Programming (Non-negative Least-Squares)',\n",
              " 'Highlight backgroung colors of some words in HTML Document in java',\n",
              " 'Is there a way to retrieve process stats using Perl or Python?',\n",
              " 'Excel NamedRange.Find Method with Regex pattern match in C#',\n",
              " 'cmake error when configuring',\n",
              " 'How to set first column to a constant value of an empty np.zeros numPy matrix?',\n",
              " 'Eclipse Plugin - get Launch Configurations Tree List in a Dialog.',\n",
              " 'What are the RESTful best practices on defining a query parameter with an or condition?',\n",
              " 'Extracting text from the input field - using Webdriver',\n",
              " 'One <hr> tag is working but not the other in Firefox. Why is that?',\n",
              " 'ajax request xml from php',\n",
              " 'Embedded Java server using Grizzly: How do you enable http2',\n",
              " 'Finding Minimum Completion Time of Scheduled Tasks with Topological Sort',\n",
              " 'How to set jQuery draggable min/max-left and min/max-right',\n",
              " 'semantic-ui modal size keeps extending to the height of a page',\n",
              " 'Is there any direct git command to push changes to another branch',\n",
              " 'How and is it worth to integrate Java Webapp + drools + Guvnor?',\n",
              " 'How to debug Error Messsage in Odoo',\n",
              " 'calculate differences between two numbers',\n",
              " 'Data constructor in template haskell',\n",
              " 'Tying composer.json to a specific Laravel 5 SHA',\n",
              " 'Django 1.7.1 requires a Default value for field - but no entry is in database. Why?',\n",
              " 'addEntriesFromDictionary: a true copy method?',\n",
              " 'Spring Boot OAuth2 with encrypted JWT access token',\n",
              " 'Wrap text if it is longer than max_characters',\n",
              " 'iptables: Duplicating/Forwarding ports',\n",
              " 'Multiple custom fields stored as meta_keys, how to connect with the post?',\n",
              " 'Android GridView crashes or is very slow on some devices (Samsung Galaxy S4, S3)',\n",
              " 'HTML/CSS: Input element weird indent ie7',\n",
              " 'What exactly does Double mean in java?',\n",
              " 'Most effective ways to extract Android Cursor (sqlite) into an array to be used in AlertDialog.Builder?',\n",
              " 'jenkins can not find android SDK',\n",
              " 'Can I open a new window and change the DOM of the calling window in JavaScript?',\n",
              " 'dynamically Change Itemized overlay draw circle using seek bar progress',\n",
              " 'How do I fix django.db.utils.IntegrityError: duplicate key value violates unique constraint?',\n",
              " 'Inno Setup not creating registry entry in Software/Microsoft/Windows/CurrentVersion/Uninstall',\n",
              " 'build from hadoop source code in centos',\n",
              " 'C# LinqToSql SubmitChanges() does not update, even though PK is set',\n",
              " 'How to read utf16 text file to string in golang?',\n",
              " 'Objective C ePub framework',\n",
              " 'Reducer output to different files based on keys',\n",
              " \"Is it possible for a Chrome Extension to get a user's full browsing history?\",\n",
              " 'Variable Number of Nested For Loops',\n",
              " 'Ordered http request parameters',\n",
              " 'Testing the Oracle to_date function',\n",
              " 'Getting the error of POST method from another PHP file',\n",
              " 'Multiple selection of worksheets into one workbook copy paste of content into one main sheet',\n",
              " 'Why do I keep getting \"developer inactive\" errors when calling the Beats Music API?',\n",
              " \"My select command doesn't work\",\n",
              " 'node js read files line by line',\n",
              " 'PHPStorm/Webstorm increase memory to more than 512MB',\n",
              " 'Want to open google.com at specific location and make it specific window size',\n",
              " 'Database not updating new row',\n",
              " 'Spring suite tools start error - spring boot',\n",
              " 'Slider in codenameone',\n",
              " 'Issue with $(this) and toggle() multiple classes',\n",
              " 'How to load file from dir using Racket?',\n",
              " 'Removing quotation mark using javascript does not remove single quotation marks',\n",
              " 'Firebase Android ChildEventListener Triggered onChildRemoved() before onChildAdded() When new data added',\n",
              " 'Python. Error using animation.FuncAnimation',\n",
              " 'How to make inline comments in Org-mode?',\n",
              " 'Find years with distinct digits - CCC 2013',\n",
              " 'Identify customer visits occurring after a given time period in mysql',\n",
              " 'Finding the distinct count from a cassandra column using Tableau',\n",
              " 'Prism : Change the active view',\n",
              " 'Get Color from int',\n",
              " 'Dynamic subversion repos via subdomains (in Apache)',\n",
              " 'How to multithread my for loop in Python',\n",
              " 'How to get recycler view list item count using Espresso',\n",
              " 'How to PIVOT and calculating column average',\n",
              " 'Fastest way to separate the digits of an int into an array in .NET?',\n",
              " 'Escaping special characters in SphinxSE',\n",
              " 'Importing sqlite file into r',\n",
              " 'Sort order of related products not working in Magento 1.6',\n",
              " \"Display 404 not found template for 'slugs' when publication returns empty cursor - Meteor - iron-router\",\n",
              " 'Is there a way to tell if an object has implemented ToString explicitly in c#',\n",
              " 'VFS: file-max limit 1231582 reached',\n",
              " 'Play 2.2 EssentialAction With Futures',\n",
              " 'AppBarLayout / CollapsingToolbarLayout expands indefinitely',\n",
              " 'how to deselect all Radio Button in Radio ButtonGroup on button click in flash as3?',\n",
              " 'numpy array creating with a sequence',\n",
              " 'Sed: Matching words with any permutation of two characters',\n",
              " 'Make Child element appear outside of parent',\n",
              " \"MobilePin createuserwizard doesn't work?\",\n",
              " 'Fit Image in canvas using WPF',\n",
              " 'Adding a fontawesome icon with border into form input',\n",
              " 'finding pixel location of Listview item seems to return wrong value',\n",
              " 'sails 0.9.8 not work, when created controller and lift it',\n",
              " 'Larave File not found at path but it does exist',\n",
              " 'RequiredFieldValidator causes validation on Server even if validator is disabled(CausesValidation=\"false\")',\n",
              " 'Retrieving HTML content from a page requiring authentication using PHP',\n",
              " 'How to generate linked-axis in matplotlib',\n",
              " 'Print % sign with string formatting',\n",
              " 'How to calculate the dimensions of the monitor in PyQt4/Windows/Linux?',\n",
              " 'VBA Outlook 2010 retrieving information from Active Directory',\n",
              " 'Modifying bootstrap thumbnails',\n",
              " \"ASP.Net: What's keeping old AppDomains alive?\",\n",
              " 'A library uses the same package as this project after importing Facebook SDK',\n",
              " 'Unable to run compiled .classes from the command line',\n",
              " 'Is it possible to partially decode and update JSON? (go)',\n",
              " 'How to use Apache-Commons DBCP with EclipseLink JPA and Tomcat 7.x',\n",
              " 'How to do batch geocoding using google-maps-services-java',\n",
              " 'Inserting an img into a text field (html, css)',\n",
              " 'NoClassDefFoundError during Tomcat graceful shutdown',\n",
              " 'Indesign (IDML file) Automation using HTML5 and Javascript',\n",
              " 'Writing to the ObjectOutputStream and getting rubbish back',\n",
              " 'How do I stop md-cards from stretching images to full vertical height?',\n",
              " 'SQL, missing end, but why?',\n",
              " 'SED - Search two pattern in a line and insert few word at the end of the line if pattern match is found',\n",
              " 'How to configure & run multiple websites with respective databases with single Laravel code instance',\n",
              " 'three.js CanvasRenderer - setting initial color for object together with transparency textures',\n",
              " 'IHTMLDocument2 - click button inside iframe',\n",
              " \"Resource 1 works, 2 doesn't\",\n",
              " 'how to show an image in an image field by a button click event in c# asp.net',\n",
              " 'How to use this for killing array of threads?',\n",
              " 'MVC scaffolding does not support Entity Framework 6 or later',\n",
              " 'Parse error using Remotipart',\n",
              " 'JAVA JAX-WS Deployment (JAVA Eclipse EE IDE)',\n",
              " 'kaminari and order_by',\n",
              " 'multisampling and fragment shader',\n",
              " 'C program- change char order in sentence',\n",
              " 'How to reload an IFrame every x seconds?',\n",
              " 'EF6 table per hierarchy, with unique index on derived property',\n",
              " 'Shell Script to add extension on file and directory',\n",
              " 'Absolute beginners guide to working with audio in C/C++?',\n",
              " 'Extract part of string',\n",
              " 'stopping toast android in other actvity',\n",
              " 'Client-side SSL not working with AWS API Gateway',\n",
              " 'Top Left Menu Bar Is Frozen when Main Window Shows Up',\n",
              " 'Category Axis Label Alignment for Multi Series bar chart in JAsper',\n",
              " 'Invalid Label - jQuery Ajax/Json request',\n",
              " 'Optimizing Haskell Recursive Lists',\n",
              " 'Symfony3: Service not able to get arguments',\n",
              " 'Reverse Geocoding not displaying info window on markers when clicked',\n",
              " 'How to restrict background click in Ionic confirmation popup',\n",
              " 'how to use CSPARQL-ReadyToGoPack-0.9 in a SBT project',\n",
              " 'How to sort UTF-8 lines in Vim?',\n",
              " 'How to handle NotFoundException elegantly in Neo4j 2.0?',\n",
              " 'Download multiple files simultaneously with PHP - Forking, Sockets',\n",
              " 'Submit form on one server, process it and then post results to another domain',\n",
              " 'Flyway Mysql multiline comment directive not parsed',\n",
              " 'Non-Blocking File Reads',\n",
              " 'ORACLE sql dynamic variables in stored procedure',\n",
              " 'nested ngFor with two data classes in angular2',\n",
              " 'Crossplatform webview in Qt5.6',\n",
              " 'Set the default encoding to UTF-8 for all JSPs without using @page directives',\n",
              " 'XSLT creating a table with varying amount of columns',\n",
              " 'how to send email with powershell',\n",
              " 'Asynchronous method using .Result',\n",
              " 'Is JENKINS Extensible Choice Parameter compatible with linux?',\n",
              " 'Starting Speech Recognition with CreateProcess() in C++',\n",
              " 'How do I animate adding subviews?',\n",
              " 'How can I change the default font for a Jekyll website',\n",
              " 'Impossible to compile Fortran code with include statement',\n",
              " 'Lazy loading images in Vue/Laravel',\n",
              " 'Web API read header value in controller constructor',\n",
              " 'Android wear WearableListView ImageView selector',\n",
              " 'Function pack() returns 0',\n",
              " 'Is it possible to have Firebase authentication via Facebook in a Phonegap App?',\n",
              " 'PHP Export MySQL to CSV - Results showing HTML',\n",
              " 'How to detect language preference in Laravel 5',\n",
              " 'VB WebBrowser click button',\n",
              " 'Reports using java collections',\n",
              " 'How to write all files Contain in the subfolders and in the folders in to a .txt file',\n",
              " 'Checking negative values from Google Forms',\n",
              " 'Libgdx reading json array values',\n",
              " 'Custom Buddypress Notification on Post Save',\n",
              " 'UITableView with UITextField - keep the data even after user scrolls',\n",
              " 'Visual Studio 2015 Update 1 automatically checks in files',\n",
              " 'Mobilefirst Failed synchronizing application from the administration service',\n",
              " 'Cannot execute for loop in vue.js',\n",
              " 'how to prevent duplicate item',\n",
              " 'Java Apache CLI OptionBuilder not working as Builder pattern',\n",
              " \"What's a proper way to turn off genymotion emulator?\",\n",
              " 'Jade select field populating data',\n",
              " \"Why is ' 2' > '10'?\",\n",
              " 'Mysql dump comments directives and simple comments',\n",
              " 'Cropping library not working on Nexus S',\n",
              " 'Create a segue and attach it between two view controllers through Swift?',\n",
              " 'Function to search recursively for patterns in vim',\n",
              " 'Integrating wordpress and laravel user management',\n",
              " 'Behaviour after takePicture() different on different devices/Android versions',\n",
              " 'Exporting Plone content: how to get the tarball created by quintagroup.transmogrifier.writer',\n",
              " 'Cassandra to Hive using Spark',\n",
              " 'Ruby on Rails :before_filter => :only_when_user_is_logged_in',\n",
              " 'How can I integrate Jacoco reports with SonarQube without using maven?',\n",
              " 'Can I use NSPredicate as key in a NSDictionary',\n",
              " 'Proxy Authentication Failed error',\n",
              " 'Could someone explain how to use the UpdateManager in TideSDK 1.3.1 Beta?',\n",
              " 'Properties - how to avoid code repetition',\n",
              " 'Pause/resume video recording using AVCaptureMovieFileOutput',\n",
              " 'Swift enum recursive associated value',\n",
              " 'How to grep particular string occurring multiple times',\n",
              " 'Hover map area sprite with jquery',\n",
              " 'Spark `LiveListenerBus` Exception is freaking me out',\n",
              " 'how to use pyplot.arrow or patches.Arrow in matplotlib?',\n",
              " 'Apache on Windows and Fiddler',\n",
              " 'how to pass the variable from api gateway to the url of another service running on EC2',\n",
              " 'Open link when doubleclicking on table row with jQuery',\n",
              " 'Wget span host only for images/stylesheets/javascript but not links',\n",
              " 'I am trying to show data using api . but data is not showing in custom listView . list is empty',\n",
              " \"Graphing sbt's incremental compilation logic\",\n",
              " 'how to get functionality of Long Press gesture in ios ver below 3.2',\n",
              " 'Change priority headings for a task with the api',\n",
              " 'Get values on a row based on two or more rows in Excel',\n",
              " 'Is using Silverlight a hindrance for Startups?',\n",
              " 'spotify session callback get_audio_buffer_stats',\n",
              " 'talend - specify jndi as datasource',\n",
              " 'Long data load time in Matlab',\n",
              " 'how can i change column width in base to content with vb.net and bootstrap?',\n",
              " 'Alternative to Microsoft.Practices.EnterpriseLibrary.Data',\n",
              " 'How to facet.pivot with spring-data-solr',\n",
              " 'Check empty output from fish function',\n",
              " 'pysolr update document with error',\n",
              " 'How to retrieve same column twice with different values of other column in same table',\n",
              " 'Updated: NodeJS - connect-keycloak middleware empty response error',\n",
              " 'Accordion open when page loads',\n",
              " \"Activity doesn't refresh after associated Broadcast Receiver's onReceive gets called.\",\n",
              " 'How do you detect DOCTYPE (Transitional or Strict) server-side in ASP.NET?',\n",
              " 'Firefox 9.0.1 Broke Internal Wiki Layout',\n",
              " 'onchange function in dropDownList yii2',\n",
              " 'play mp3 without default player',\n",
              " 'Convert SVG Data to SVG File that can be uploaded',\n",
              " 'Folder Picker for MS Word',\n",
              " \"Can't hide or close form after switching to another form\",\n",
              " 'How to ShellCode in linux with x64 processor.',\n",
              " 'How to set a specific timezone for windows CE By C#',\n",
              " 'Vagrant enters aborted state during apt-get update',\n",
              " \"attempting to make enter button 'clickable'\",\n",
              " 'ImageMagick Convert not generating correct color',\n",
              " 'Mybatis select with nested objects',\n",
              " \"My css height auto doesn't work\",\n",
              " 'D3 AngularJs Force Directed Graph',\n",
              " 'I want to add 30 days to mysql date row',\n",
              " 'How I can use FlexyPool with HikariCPFactory?',\n",
              " 'Wix installer: Verify that you have sufficient privileges to start system services',\n",
              " 'r, ts - error in stl, series has less than two periods (erroneous?)',\n",
              " 'typo3 - Adding content to the footer',\n",
              " 'Knockout re render template with new data model on change event of dropdown menu',\n",
              " '@ManyToMany relation not save',\n",
              " 'Downsampling of fMRI image with FSL',\n",
              " 'How to use Android AutoCompleteTextView on Xamarin.Forms',\n",
              " 'Why fstream::tellg() return value is enlarged by the number of newlines in the input text file, when file is formated for Windows (\\\\r\\\\n)?',\n",
              " 'Determine If Two Points Are Near',\n",
              " 'clicking logo on home page breaks navigation menu on mobile site',\n",
              " 'Use Iframe to embed csv and allow user to search from it',\n",
              " 'Install Chrome extension through windows registry',\n",
              " 'Display message on success does not work',\n",
              " 'jQuery masked input - format date as m/d/yyyy or m/dd/yyyy or mm/dd/yyyy or mm/d/yyyy',\n",
              " 'How to change spring session (redis) cookie name?',\n",
              " 'Any tool to suggest unit reference automatically for Delphi 2010?',\n",
              " 'Why does my method return a null password?',\n",
              " 'SQL Script - manipulate value based on previous non zero value',\n",
              " 'rotate image shows \"Out of memory\" exception',\n",
              " 'count button clicks',\n",
              " 'Joomla Custom Compoment Dev Env : Hot Deployment',\n",
              " 'Nexus 5 not showing on connected devices',\n",
              " 'How work the method TrueForAll? C# LINQ',\n",
              " 'PHP - Simplest Way to Post & Display',\n",
              " 'Update Temp Table with Group By',\n",
              " 'How to use Parse Push with Cordova, Appcelerator, etc',\n",
              " 'AS3 bitmapdata send to server picture is small in upperleft corner',\n",
              " 'How to set the Z order index for adorner in WPF',\n",
              " 'php microseconds',\n",
              " 'Creating a global database connection on an mdi form',\n",
              " 'Uncaught ReferenceError: React is not defined',\n",
              " 'VBA search column for strings and copy row to new worksheet',\n",
              " 'How can I record a test using Espresso without doing a clean install?',\n",
              " 'How can I char array in reverse order?',\n",
              " 'What kind of SCTP support is there on various Windows versions?',\n",
              " 'Saving changes to an EC2 instance without having to register an AMI each time?',\n",
              " 'Auto run Jetty on boot',\n",
              " 'How To Cache jQuery Template In Backbone View via Ajax?',\n",
              " 'Does this C++ static analysis rule make sense as is?',\n",
              " 'Same Ripple drawable(effect) appearing differently on ListView and RecyclerView',\n",
              " 'R ggplot2 assigning colours to a factor',\n",
              " 'Verifying a method was called without using IoC',\n",
              " \"What is 'seg cs' in bootsect.s\",\n",
              " 'setTimeout keeps firing',\n",
              " 'Formatting the way a string is entered into my database',\n",
              " 'Creating Jenkins Job using python API',\n",
              " 'python create single thread to do one task then quit',\n",
              " 'z order in issue in ConstraintLayout Android',\n",
              " 'Can I derive from a class that can only be created by a \"factory\"?',\n",
              " 'PHP OOP :: passing session key between classes',\n",
              " 'ASP.NET MVC 3, SQL Server',\n",
              " 'Recreating or deleting google services json',\n",
              " 'Probe problem when writing a I2C device driver',\n",
              " 'Jersey produce duplicate log messages',\n",
              " 'Exit / stop Array2D.initBased early',\n",
              " 'how to set array of date to fireDate in local notification at a time',\n",
              " 'alternative to async: false ajax',\n",
              " 'Oracle: how to get percent of total by a query?',\n",
              " 'How to match the recursive pattern `a(?R)b` including another string e.g. \"test{aaabbb}\"? (Regex)',\n",
              " 'How to disable GestureListener?',\n",
              " 'How to specify Code Style settings in a Qt Creator `.pro.shared` file?',\n",
              " 'cal extension template modification with .tmpl',\n",
              " 'Getting started with Groovy/Grails?',\n",
              " \"Opening a Ruby program's source file in the default editor\",\n",
              " 'How can I pass an array of Guid via Web API?',\n",
              " 'Backbone-Relational find or load?',\n",
              " \"what's the best way to format an xml string in ruby?\",\n",
              " 'Partial classes in Google Closure?',\n",
              " 'Add a repository in AccountController',\n",
              " 'Wikipedia API Autocomplete with Json',\n",
              " 'Apache Pig: unable to run my own pig.jar and pig-withouthadoop.jar',\n",
              " 'Optimizing list comprehension to find pairs of co-prime numbers',\n",
              " 'kivy access child id',\n",
              " 'Stucture values not staying, values changed to -858993460',\n",
              " 'Set toolbar title',\n",
              " 'How to add a row to a table using swt',\n",
              " 'jQuery ui selectmenu vertical position offset (relatively to buttons in this line)',\n",
              " 'SSIS : Warning: Failed to decrypt an encrypted XML node',\n",
              " 'gps not getting user location',\n",
              " 'Exporting a simple model with texture from Blender to three.js',\n",
              " 'Postman - Required MultipartFile parameter is not present - Spring, Java',\n",
              " 'Prevent akka actor from restarting child actor',\n",
              " 'UITableView not loaded',\n",
              " 'NTFS permission with modify date',\n",
              " 'QTreeView - how to tell if a drag/drop event is a reorder or a move between parents?',\n",
              " 'Prevent XUL notificationBox from closing when button is hit',\n",
              " 'Code not working. Notification that should go off once a day',\n",
              " 'Android Action Bar Button does not show up',\n",
              " '$.widget is not a function',\n",
              " 'jquery hide not taking parameter',\n",
              " \"How can i use a one form/table for multiple MVC's?\",\n",
              " 'MSTest: execution order of tests within the same TestClass',\n",
              " 'How to call jQuery function in HTML returned by AJAX',\n",
              " 'OAuth2 security considerations for client_id',\n",
              " 'Google Compute Instance 100% CPU Utilisation',\n",
              " 'Incompatible block pointer type when returning array?',\n",
              " 'Calling a REST api with an encrypted PEM client certificate',\n",
              " 'Select all objects in a list',\n",
              " 'Drag and insert div into another div',\n",
              " 'How to prevent firefox from scrolling to the bottom of the page when a large popup is opened',\n",
              " 'How to handle ((List<string>)Session.Add(\"\")',\n",
              " 'mysql inserting into 2 tables at once that have primary key and foreign key',\n",
              " \"What's the right way to remove multiple items from a QTableWidget?\",\n",
              " \"When MSTest fails in TestInitialize, why doesn't TestCleanup get executed?\",\n",
              " 'PHP CodeIgniter application not opening any page except default controller',\n",
              " 'Parsing JSON data without quotes with jQuery',\n",
              " 'Rewrite url in .htaccess',\n",
              " 'I/O error(socket error): [Errno 111] Connection refused',\n",
              " 'Git Error; RPC failed; result=22, HTTP code = 401',\n",
              " 'TFS 2010 - Set the State field to a certain value',\n",
              " 'ActionScript 3.0 How to create ProgressEvent instances in for loop with multiple files loaded from XML',\n",
              " 'how can i extract my query to find average',\n",
              " 'C# Windows Service - Default Arguments on Install',\n",
              " 'Upload large files with node js',\n",
              " 'Changing table headers in cakephp',\n",
              " 'hello world with JMS on Glassfish',\n",
              " 'Countdown timer using DateTime.Parse without defined date',\n",
              " \"Images in the 'drawable' folder are resized automatically?\",\n",
              " 'Find files with the same size and dellete all duplicates except the one has the shortest name using shell script',\n",
              " 'Writing Rules both in Firebase and in your Code',\n",
              " 'Search for words with specific starts and endings',\n",
              " 'Install Neo4j 3.0+ as a windows service',\n",
              " 'PHP convert 2 digit year to a 4 digit year',\n",
              " 'JSDoc auto-complete documentation in Eclipse is not working for Class.create()',\n",
              " 'Split a infix String to an array of String in java',\n",
              " 'Folder permissions in Azure web sites',\n",
              " 'Only have separators between UITableViewCells',\n",
              " 'Uncaught Syntax error, unrecognized expression: [object Object]',\n",
              " 'Need htaccess redirection',\n",
              " 'How to create this bootstrap carousel of iframes?',\n",
              " 'Doctrine2 - Get entity ID before flush',\n",
              " 'Xquery help sorted parent child relationship',\n",
              " 'How To Load Separate Pages In Android Gridview While Clicking Blocks or Items?',\n",
              " 'kineticjs rect fillText',\n",
              " 'is a query string with a / in it valid?',\n",
              " 'How to convert the BYTEARRAYS to NSString in objective -c',\n",
              " 'why is std::chrono::duration based on seconds',\n",
              " 'WCF REST Client Exception',\n",
              " 'Using UIBinder to create a Widget to go into a Dialog',\n",
              " 'OneDrive for Business :\"invalid_request\",\"error_description\":\"AADSTS90014: The request body must contain the following parameter: \\'grant_type',\n",
              " 'Are the any options for interfacing with the command prompt process from a .NET application other than the standard IO?',\n",
              " 'Adding data in the database using microsoft access and OleDb in C#',\n",
              " 'jQuery Ajax header not being passed',\n",
              " 'AngularJS: Multiple views with routing without losing scope',\n",
              " 'BackboneJS How to merge collections',\n",
              " 'Specflow :Could not load file or assembly TechTalk.SpecFlow, Version=2.2.0.0',\n",
              " 'Max byte calculated by System.Runtime.InteropServices.Marshal.SizeOf()',\n",
              " 'How can my application retrieve custom fields from a DocuSign transaction?',\n",
              " 'add active state to button in a button group',\n",
              " 'How to define clear range for pixel color',\n",
              " 'Roslyn VisualBasic.ScriptEngine doesnt recognize hostObject written on C#',\n",
              " \"Neither BindingResult nor plain target object for bean name 'categoryOptions' available as request attribute\",\n",
              " 'How to change Wicket behaviour on Page Expired',\n",
              " 'PHPUnit code coverage show 0% coverage',\n",
              " 'How to prove code correctness lemmas with the \"undefined\" constant',\n",
              " 'Visual Studio has insufficient privileges to debug this process. To debug this process, Visual Studio must be run as an administrator',\n",
              " 'WebApi EntitySetController using composite keys',\n",
              " 'How do I set up an OpenGL project using XCode 4.2 in C++?',\n",
              " 'Initialize static NSString at class level',\n",
              " 'Rich Text Editor inside Flux Form',\n",
              " 'Setting $PATH in xampp osx',\n",
              " 'How to extract data from html using PHP',\n",
              " 'How to get Current location using MapModule?',\n",
              " 'Excel VBA Syntax Errors & Compiling Issues',\n",
              " 'How to read Logback configuration file from path outside the war file?',\n",
              " 'jQuery ajax not getting every div elements',\n",
              " 'TCP Socket on JAVA - Any byte >= 128 is received as 65533',\n",
              " 'SqlBulkCopy keeps on throwing connection forcibly closed exception',\n",
              " 'Error sending to the following VALID addresses Jenkins',\n",
              " 'How to determine if a text has balanced delimiters?',\n",
              " 'How to flick through a deck of cards?',\n",
              " 'Selecting in SQLite Database Android',\n",
              " \"TSQL merge Incorrect syntax near ','\",\n",
              " 'Building Pocketsphinx On Android on Windows',\n",
              " 'Add background image in a div without empty space between div and footer',\n",
              " 'Include github project into wordpress plugin',\n",
              " 'django multivaluefield & multiwidget - compress and/or decompress not working',\n",
              " 'Android : Can i call my onresume() inside onpause().?',\n",
              " 'How to fit picture to absolute positioning modal window?',\n",
              " 'Redirect URL to PHP only if file does not exist with Nginx',\n",
              " 'Laravel 4 Exception: NotFoundHttpException',\n",
              " 'How To Start Using Kostache?',\n",
              " 'Assigned access application exits when Ctrl + Alt + Delete is pressed.',\n",
              " 'Circular dependency error when running migrations in Django 1.7c2',\n",
              " 'JavaFX setOnShown fires before window is visible',\n",
              " 'Flash Develop - Publishing',\n",
              " 'I want to use the variable I declared somewhere else but I cannot (simple sql query)',\n",
              " 'buttons are not displayed',\n",
              " 'Prevent Twitter responsive layout from collapsing when width < 320px',\n",
              " 'Show azure cost analysis data using Azure billing API/SDK',\n",
              " 'find the field names from a search query',\n",
              " 'OAuth 2.0 OpenID Connect Loopback and Keycloak',\n",
              " 'Windows Phone: How to retrieve the same photo from media library between application instances',\n",
              " 'Symfony2: determine if a controller is called from a development environment or from a production environment',\n",
              " 'When UITableView is fully reloaded',\n",
              " 'http.post(url, postData, options) does not set header',\n",
              " 'JSON stringify outputs empty object for not empty object',\n",
              " 'Display.syncExec not working inside Callable',\n",
              " 'XPath to first occurrence of element with text length >= 200 characters',\n",
              " 'Unable to push a docker image to local OpenShift Origin registry',\n",
              " 'SlideDown() using JavaScript not working as intended',\n",
              " 'Threading.Tasks Dispose meaning issue',\n",
              " 'VAL() function in JavaScript',\n",
              " 'Using php to send form to my email..Having an issue with 405 Not Allowed when form is submitted',\n",
              " 'Netty closeFuture().sync().channel(); blocks rest api',\n",
              " 'How to check if a specific button exists in Scrapy?',\n",
              " 'Remove logs from ORMLite Android',\n",
              " 'Language detection API/Library',\n",
              " 'Should I make 1 form for each upvote button or 1 form for all the buttons?',\n",
              " 'Eclipse GAE JDO 3.0',\n",
              " 'django-cms editors and HTML data attribute cleaned up',\n",
              " 'Xcode build error clang failed',\n",
              " 'setTimeout from a web worker',\n",
              " 'C# Populating a listview from a List',\n",
              " 'Javascript not working in django inline formset using urlify.js',\n",
              " 'PHP multi cURL performance worse than sequential file_get_contents',\n",
              " 'Converting PHP Contact Form to SMTP',\n",
              " 'How do I prevent the original method being called when mocking a class with PHPUnit?',\n",
              " 'Ensure footer will stick to bottom of page and flex with content',\n",
              " 'How to share files from any path using a FileProvider?',\n",
              " 'R: How to build sum of arrays third dimension containing NAs and returning a list?',\n",
              " 'Speeding up a strangely slow Rcpp function',\n",
              " 'How to create a service that sends/receives UDP broadcasts on multiple interfaces',\n",
              " 'Can someone tell me how to replace the following javascript code with a loop?',\n",
              " 'UIImageView layer border issue',\n",
              " 'COM object created by CComObject::CreateInstance not destroyed when pointer goes out of scope',\n",
              " 'Run 2 sql query with 1 query for save query result as .csv format',\n",
              " 'AWS Elastic Beanstalk Vs EC2 Container Service (ECS) - Docker',\n",
              " 'Connect to remote MongoDB instance from ASP.NET',\n",
              " 'Copying files with unicode names',\n",
              " \"ASP.NET Web application doesn't unload AppDomains after deploy\",\n",
              " 'Getting YouTube livestream URL',\n",
              " \"Can't use ToString() in LINQ to Entities query\",\n",
              " 'list comprehension to create list and for no-data value feed default value',\n",
              " \"JSX element type 'XXX' does not have any construct or call signatures\",\n",
              " 'Subroutine unexpectedly ends when a Workbook is closed',\n",
              " 'Creating a result set (using a select statement ) within a loop',\n",
              " 'Laravel 4.2 - Environment detection - homestead.yaml vs. start.php',\n",
              " 'Deploy a shell script with Ruby gem and install in bin directory',\n",
              " 'Change a string into an int',\n",
              " 'How do I stop a MySQL decimal field from being rounded?',\n",
              " \"Respecting argparse's privacy, vs. usability\",\n",
              " 'Very simple Web Service in Python',\n",
              " 'Emoji and UIWebView in iOS 5',\n",
              " 'Getting IOError: [Errno Invalid number of channels] -9998 when using mic with PyAudio on Raspberry Pi',\n",
              " 'Mono on Mac OS X - Parallel HTTP Downloads limited to 2',\n",
              " 'Delete files, directories and buckets in amazon s3 java',\n",
              " 'Android: Saving form data on a swipe rather than from a button',\n",
              " 'No description or item name on PayPal Payment Received email',\n",
              " 'Code igniter with data mapper giving in valid json',\n",
              " 'Where can I find official / canonical documentation for using JavaScript with \"classic\" ASP?',\n",
              " \"BroadcastReceiver isn't working\",\n",
              " 'Array compare and count which has similar values and which not',\n",
              " \"How to cancel 'viewWillAppear' after UIImagePickerController is dismissed\",\n",
              " 'In Scala, is it possible to write a script which refers to another script',\n",
              " \"after reload page IE is not retaining it's scroll position\",\n",
              " 'SpringBoot multiple authentication adapter',\n",
              " 'SMTP Contact Form blank screen on Submit',\n",
              " 'Destroy all sessions but one',\n",
              " 'C# WIndows CE Compact Framework 2.0 Set System Timezone',\n",
              " 'Appropriate representation of a 2D game board in Clojure',\n",
              " 'Ionic emulate ios shows black screen',\n",
              " 'How update APi with AngularJS?',\n",
              " 'Javascript based redirect: will it hurt SEO?',\n",
              " 'What is the difference between these two SOAP requests?',\n",
              " 'Microsoft Access Report - How to cycle through all pages of a report in print view?',\n",
              " \"What does Actor[akka:\\\\\\\\play\\\\deadLetters].tell() mean in a New Relic's trace of a Play Framework 2.0 web transaction?\",\n",
              " 'JRuby 1.7.0 will not install bundler given plenty of memory',\n",
              " 'solr multiple tokenizers for query',\n",
              " 'Is it possible to pass an EJS variable to an Angular ng-repeat filter?',\n",
              " 'How To Read Data using Ip Address',\n",
              " 'SSIS XML Decryption Message',\n",
              " 'Detecting selection change on a UITextView?',\n",
              " 'Different CSS background-image depending on month and year',\n",
              " \"What's the equivalent averageifs for standard deviation?\",\n",
              " 'Segmentation faults using f2py',\n",
              " ...]"
            ]
          },
          "metadata": {},
          "execution_count": 50
        }
      ]
    },
    {
      "cell_type": "markdown",
      "metadata": {
        "id": "ySQQp0oQt1Ep"
      },
      "source": [
        "### Ранжирование без обучения"
      ]
    },
    {
      "cell_type": "markdown",
      "metadata": {
        "id": "iElEDhj-6j3R"
      },
      "source": [
        "Реализуйте функцию ранжирования кандидатов на основе косинусного расстояния. Функция должна по списку кандидатов вернуть отсортированный список пар (позиция в исходном списке кандидатов, кандидат). При этом позиция кандидата в полученном списке является его рейтингом (первый - лучший). Например, если исходный список кандидатов был [a, b, c], и самый похожий на исходный вопрос среди них - c, затем a, и в конце b, то функция должна вернуть список **[(2, c), (0, a), (1, b)]**."
      ]
    },
    {
      "cell_type": "code",
      "execution_count": null,
      "metadata": {
        "id": "K02JARKr6j3T"
      },
      "outputs": [],
      "source": [
        "from sklearn.metrics.pairwise import cosine_similarity\n",
        "from copy import deepcopy"
      ]
    },
    {
      "cell_type": "code",
      "execution_count": null,
      "metadata": {
        "id": "1yP8wJWj6j3X"
      },
      "outputs": [],
      "source": [
        "def rank_candidates(question, candidates, embeddings, tokenizer, dim=200):\n",
        "  vect_question = question_to_vec(question, embeddings, tokenizer, dim).reshape(1, -1)\n",
        "  candidates_copy = deepcopy(candidates)\n",
        "#  print('vect_q.shape:', vect_question.shape)\n",
        "  vect_candidates = [question_to_vec(candidate, embeddings, tokenizer, dim) for candidate in candidates_copy]\n",
        "#  print('vect_candidates.shape:', len(vect_candidates), 'x', len(vect_candidates[0]))\n",
        "  cos_sim = cosine_similarity(vect_question, vect_candidates).tolist()[0]\n",
        "#  print('cos_sim.shape:', len(cos_sim))\n",
        "#  print('cos_sim[0]:', cos_sim[0])\n",
        "  result = []\n",
        "  for i in range(len(candidates)):\n",
        "    idx = cos_sim.index(max(cos_sim))\n",
        "#    print(i, ':', idx, cos_sim)\n",
        "    result.append((idx, candidates[idx]))\n",
        "    cos_sim[idx] = -2\n",
        "  return result\n",
        "\n",
        "  \"\"\"\n",
        "        question: строка\n",
        "        candidates: массив строк(кандидатов) [a, b, c]\n",
        "        result: пары (начальная позиция, кандидат) [(2, c), (0, a), (1, b)]\n",
        "  \"\"\"\n",
        "  '''your code'''"
      ]
    },
    {
      "cell_type": "markdown",
      "metadata": {
        "id": "TnBszTb76j3c"
      },
      "source": [
        "Протестируйте работу функции на примерах ниже. Пусть $N=2$, то есть два эксперимента"
      ]
    },
    {
      "cell_type": "code",
      "execution_count": null,
      "metadata": {
        "id": "xvQgtP176j3h"
      },
      "outputs": [],
      "source": [
        "questions = ['converting string to list', 'Sending array via Ajax fails']\n",
        "\n",
        "candidates = [['Convert Google results object (pure js) to Python object', # первый эксперимент\n",
        "               'C# create cookie from string and send it',\n",
        "               'How to use jQuery AJAX for an outside domain?'],\n",
        "\n",
        "              ['Getting all list items of an unordered list in PHP',      # второй эксперимент\n",
        "               'WPF- How to update the changes in list item of a list',\n",
        "               'select2 not displaying search results']]"
      ]
    },
    {
      "cell_type": "code",
      "source": [
        "len(candidates[0])"
      ],
      "metadata": {
        "colab": {
          "base_uri": "https://localhost:8080/"
        },
        "id": "o4D_nD_B6n3B",
        "outputId": "562b4443-95d6-4f70-a8eb-5bb49b17b035"
      },
      "execution_count": null,
      "outputs": [
        {
          "output_type": "execute_result",
          "data": {
            "text/plain": [
              "3"
            ]
          },
          "metadata": {},
          "execution_count": 71
        }
      ]
    },
    {
      "cell_type": "code",
      "execution_count": null,
      "metadata": {
        "id": "bPj1JGFi6j3m",
        "colab": {
          "base_uri": "https://localhost:8080/"
        },
        "outputId": "33460805-d6d1-44e8-e115-71ade72c5154"
      },
      "outputs": [
        {
          "output_type": "stream",
          "name": "stdout",
          "text": [
            "[(1, 'C# create cookie from string and send it'), (0, 'Convert Google results object (pure js) to Python object'), (2, 'How to use jQuery AJAX for an outside domain?')]\n",
            "\n",
            "[(0, 'Getting all list items of an unordered list in PHP'), (2, 'select2 not displaying search results'), (1, 'WPF- How to update the changes in list item of a list')]\n",
            "\n"
          ]
        }
      ],
      "source": [
        "for question, q_candidates in zip(questions, candidates):\n",
        "        ranks = rank_candidates(question, q_candidates, wv_embeddings, tokenizer)\n",
        "        print(ranks)\n",
        "        print()"
      ]
    },
    {
      "cell_type": "markdown",
      "metadata": {
        "id": "jm4cidj56j3q"
      },
      "source": [
        "Для первого экперимента вы можете полностью сравнить ваши ответы и правильные ответы. Но для второго эксперимента два ответа на кандидаты будут <b>скрыты</b>(*)"
      ]
    },
    {
      "cell_type": "code",
      "execution_count": null,
      "metadata": {
        "id": "0LeKMIsn6j3s"
      },
      "outputs": [],
      "source": [
        "# должно вывести\n",
        "results = [[(1, 'C# create cookie from string and send it'),\n",
        "            (0, 'Convert Google results object (pure js) to Python object'),\n",
        "            (2, 'How to use jQuery AJAX for an outside domain?')],\n",
        "           [(0, 'Getting all list items of an unordered list in PHP'), #скрыт\n",
        "            (2, 'select2 not displaying search results'), #скрыт\n",
        "            (1, 'WPF- How to update the changes in list item of a list')]] #скрыт"
      ]
    },
    {
      "cell_type": "markdown",
      "metadata": {
        "id": "t1ttnIBe6j3x"
      },
      "source": [
        "Последовательность начальных индексов вы должны получить `для эксперимента 1`  1, 0, 2."
      ]
    },
    {
      "cell_type": "markdown",
      "metadata": {
        "id": "5WQgYDWd6j3y"
      },
      "source": [
        "#### Вопрос 5:\n",
        "* Какую последовательность начальных индексов вы получили `для эксперимента 2`(перечисление без запятой и пробелов, например, `102` для первого эксперимента?"
      ]
    },
    {
      "cell_type": "markdown",
      "source": [
        "021"
      ],
      "metadata": {
        "id": "oA4MXZon9W4O"
      }
    },
    {
      "cell_type": "markdown",
      "metadata": {
        "id": "fPllOY-Y6j30"
      },
      "source": [
        "Теперь мы можем оценить качество нашего метода. Запустите следующие два блока кода для получения результата. Обратите внимание, что вычисление расстояния между векторами занимает некоторое время (примерно 10 минут). Можете взять для validation 1000 примеров."
      ]
    },
    {
      "cell_type": "code",
      "execution_count": null,
      "metadata": {
        "id": "Z3q9sxddz-yU"
      },
      "outputs": [],
      "source": [
        "from tqdm.notebook import tqdm"
      ]
    },
    {
      "cell_type": "code",
      "execution_count": null,
      "metadata": {
        "id": "nu7K4mis6j32",
        "colab": {
          "base_uri": "https://localhost:8080/",
          "height": 49,
          "referenced_widgets": [
            "b4ff7cdf6c694708a5e27369688fa682",
            "439c96132fa84a8c9b879beaa4a5c445",
            "3e129ca21e5a4ab8a3d018028c7dcbf4",
            "2abbc2b3f3bd4843b56ca94c06e70a70",
            "f42d1af2d77a45879b9773bb335cc43c",
            "afafb3e4166e4a0194a31f2c5a66d6af",
            "911a83bdc946429c872d8ec319e62e5e",
            "68ad2689d5494550ac8979e44fc110e9",
            "eb2df1e26af14a2d90b43a84a356b38e",
            "4b62982642294c79be0d745d8316488a",
            "043d2293b249429d9f3e6e4ec82a88a6"
          ]
        },
        "outputId": "18920ddd-bb3d-4e6d-a2b3-1b0bd26738af"
      },
      "outputs": [
        {
          "output_type": "display_data",
          "data": {
            "text/plain": [
              "  0%|          | 0/3760 [00:00<?, ?it/s]"
            ],
            "application/vnd.jupyter.widget-view+json": {
              "version_major": 2,
              "version_minor": 0,
              "model_id": "b4ff7cdf6c694708a5e27369688fa682"
            }
          },
          "metadata": {}
        }
      ],
      "source": [
        "wv_ranking = []\n",
        "max_validation_examples = 1000\n",
        "for i, line in enumerate(tqdm(validation_data)):\n",
        "    if i == max_validation_examples:\n",
        "        break\n",
        "   # q, *ex = line\n",
        "    line = line.split('\\t')\n",
        "    q = line[0]\n",
        "    ex = line[1:]\n",
        "    ranks = rank_candidates(q, ex, wv_embeddings, tokenizer)\n",
        "    wv_ranking.append([r[0] for r in ranks].index(0) + 1)"
      ]
    },
    {
      "cell_type": "code",
      "execution_count": null,
      "metadata": {
        "id": "gDtS520v6j35",
        "scrolled": true,
        "colab": {
          "base_uri": "https://localhost:8080/",
          "height": 153,
          "referenced_widgets": [
            "1ea11ac8755943bcbe77dc5fe49efcc4",
            "cb1e36de248a41e8b3788ed43c4904bc",
            "9378fc6fef244fe290c62305e4f3e8e0",
            "74effd448d2b49b7bd3e0681854eb88b",
            "932a6c821f7f48f38bf934e10cda0015",
            "6dfe939df8664bff93fad927d493ce45",
            "caf4160d94f14e65bbc68f145296cc3b",
            "02867fa93653453c9766f2caba169b67",
            "1fa7bf590db2420aa1eb2a0fbafb9bbb",
            "14a9877f6b3a401d8db7b8006b57bd97",
            "b6794632f7da4ea59d97b37bfcd1971f"
          ]
        },
        "outputId": "ca6af22e-f8ec-445f-aa72-b82b1dd80223"
      },
      "outputs": [
        {
          "output_type": "display_data",
          "data": {
            "text/plain": [
              "  0%|          | 0/6 [00:00<?, ?it/s]"
            ],
            "application/vnd.jupyter.widget-view+json": {
              "version_major": 2,
              "version_minor": 0,
              "model_id": "1ea11ac8755943bcbe77dc5fe49efcc4"
            }
          },
          "metadata": {}
        },
        {
          "output_type": "stream",
          "name": "stdout",
          "text": [
            "DCG@   1: 0.415 | Hits@   1: 0.415\n",
            "DCG@   5: 0.502 | Hits@   5: 0.582\n",
            "DCG@  10: 0.525 | Hits@  10: 0.651\n",
            "DCG@ 100: 0.570 | Hits@ 100: 0.874\n",
            "DCG@ 500: 0.583 | Hits@ 500: 0.973\n",
            "DCG@1000: 0.586 | Hits@1000: 1.000\n"
          ]
        }
      ],
      "source": [
        "for k in tqdm([1, 5, 10, 100, 500, 1000]):\n",
        "    print(\"DCG@%4d: %.3f | Hits@%4d: %.3f\" % (k, dcg_score(wv_ranking, k), k, hits_count(wv_ranking, k)))"
      ]
    },
    {
      "cell_type": "markdown",
      "metadata": {
        "id": "LL6_Rjg3InL8"
      },
      "source": [
        "### Эмбеддинги, обученные на корпусе похожих вопросов"
      ]
    },
    {
      "cell_type": "code",
      "execution_count": null,
      "metadata": {
        "id": "iNvbpR5gJIPz"
      },
      "outputs": [],
      "source": [
        "train_data = read_corpus('./data/train.tsv')"
      ]
    },
    {
      "cell_type": "markdown",
      "metadata": {
        "id": "Nr281ZyEJfjT"
      },
      "source": [
        "Улучшите качество модели.<br>Склеим вопросы в пары и обучим на них модель Word2Vec из gensim. Выберите размер window. Объясните свой выбор."
      ]
    },
    {
      "cell_type": "code",
      "execution_count": null,
      "metadata": {
        "id": "f6Y46SSQMTL0"
      },
      "outputs": [],
      "source": [
        "'''your code'''\n",
        "words = [my_tokenizer.tokenize(request) for request in train_data]"
      ]
    },
    {
      "cell_type": "code",
      "source": [
        "len(words)"
      ],
      "metadata": {
        "colab": {
          "base_uri": "https://localhost:8080/"
        },
        "id": "aX2-Zsu7WnSp",
        "outputId": "451221c0-5fbc-418d-d4f5-f15318136c2a"
      },
      "execution_count": null,
      "outputs": [
        {
          "output_type": "execute_result",
          "data": {
            "text/plain": [
              "1000000"
            ]
          },
          "metadata": {},
          "execution_count": 175
        }
      ]
    },
    {
      "cell_type": "code",
      "source": [
        "for i in range(0, 5):\n",
        "  print(i + 1, len(words[i]))"
      ],
      "metadata": {
        "colab": {
          "base_uri": "https://localhost:8080/"
        },
        "id": "LQ32wJ8lWqL5",
        "outputId": "396509bc-0bdf-4f44-e3fe-8359afe4a116"
      },
      "execution_count": null,
      "outputs": [
        {
          "output_type": "stream",
          "name": "stdout",
          "text": [
            "1 13\n",
            "2 20\n",
            "3 15\n",
            "4 14\n",
            "5 20\n"
          ]
        }
      ]
    },
    {
      "cell_type": "code",
      "source": [
        "words[0]"
      ],
      "metadata": {
        "colab": {
          "base_uri": "https://localhost:8080/"
        },
        "id": "ziqI1Fq9leON",
        "outputId": "586ac786-0309-4194-f0af-f752d0bffc44"
      },
      "execution_count": null,
      "outputs": [
        {
          "output_type": "execute_result",
          "data": {
            "text/plain": [
              "['converting',\n",
              " 'string',\n",
              " 'to',\n",
              " 'list',\n",
              " 'Convert',\n",
              " 'Google',\n",
              " 'results',\n",
              " 'object',\n",
              " 'pure',\n",
              " 'js',\n",
              " 'to',\n",
              " 'Python',\n",
              " 'object']"
            ]
          },
          "metadata": {},
          "execution_count": 177
        }
      ]
    },
    {
      "cell_type": "code",
      "source": [
        "for i in range(0, 5):\n",
        "  print(i + 1, len(train_data[i]))"
      ],
      "metadata": {
        "colab": {
          "base_uri": "https://localhost:8080/"
        },
        "id": "LBjf62QdWgjM",
        "outputId": "cdbf7d5d-a8b1-4e89-80d0-023f77fd2ecd"
      },
      "execution_count": null,
      "outputs": [
        {
          "output_type": "stream",
          "name": "stdout",
          "text": [
            "1 82\n",
            "2 120\n",
            "3 79\n",
            "4 91\n",
            "5 107\n"
          ]
        }
      ]
    },
    {
      "cell_type": "code",
      "execution_count": null,
      "metadata": {
        "id": "QuJzAM0cI-UH"
      },
      "outputs": [],
      "source": [
        "from gensim.models import Word2Vec\n",
        "embeddings_trained = Word2Vec(words, # data for model to train on\n",
        "                 size=200,                 # embedding vector size\n",
        "                 min_count=5,             # consider words that occured at least 5 times\n",
        "                 window=5).wv"
      ]
    },
    {
      "cell_type": "code",
      "execution_count": null,
      "metadata": {
        "id": "OQonbm4nMenD",
        "colab": {
          "base_uri": "https://localhost:8080/",
          "height": 49,
          "referenced_widgets": [
            "8118fb558aaa49709f499228e71ee267",
            "85a2d90dec784fe0b783739a476bce05",
            "9fd60d2783ab4f5c92aa75bcc47db984",
            "7771e0689c2a4b91acd290802ce1d651",
            "b7ed8dc53a8745f599087db0211fe0dd",
            "6ed13f07525648a18d1335657044788a",
            "b85a1e87d0ba4bb7812cb3066d153adf",
            "618c71a3ad324f26940c609acaaa3102",
            "5fc320e1888d4856a3c1938256ae6658",
            "ac5db3ab07584da3a7c002feea3b77aa",
            "40cc5ad1f31746c591b507e3d0c69452"
          ]
        },
        "outputId": "2bb90884-8e55-4873-f255-cc682f900249"
      },
      "outputs": [
        {
          "output_type": "display_data",
          "data": {
            "text/plain": [
              "  0%|          | 0/3760 [00:00<?, ?it/s]"
            ],
            "application/vnd.jupyter.widget-view+json": {
              "version_major": 2,
              "version_minor": 0,
              "model_id": "8118fb558aaa49709f499228e71ee267"
            }
          },
          "metadata": {}
        }
      ],
      "source": [
        "wv_ranking = []\n",
        "max_validation_examples = 1000\n",
        "for i, line in enumerate(tqdm(validation_data)):\n",
        "    if i == max_validation_examples:\n",
        "        break\n",
        "    line = line.split('\\t')\n",
        "    q = line[0]\n",
        "    ex = line[1:]\n",
        "    ranks = rank_candidates(q, ex, embeddings_trained, tokenizer)\n",
        "    wv_ranking.append([r[0] for r in ranks].index(0) + 1)"
      ]
    },
    {
      "cell_type": "code",
      "execution_count": null,
      "metadata": {
        "id": "3kahBUPGMgGR",
        "colab": {
          "base_uri": "https://localhost:8080/",
          "height": 153,
          "referenced_widgets": [
            "9bfbf4cfb19c4f9ebf793a8710794a3d",
            "a934a6dc67674e6dbbf0528fda360dba",
            "9bccca0d081f4703989b191280636847",
            "8d8dea00bb284845b5c7b4171d5cf0af",
            "de43ed3ce4024c55b8f7d2d58da7783b",
            "bb1232248c0e48c290c92743342c65a7",
            "b60a45b810d04839ac104c32e01ce939",
            "dbbe7c98b73f456f8060402dde5ae6ba",
            "71a91324a8f546c4936d119328e18133",
            "9c87e05fc3a942d8853c8266267fec47",
            "d6de778e91fa48d3a8bb5bb682146aec"
          ]
        },
        "outputId": "4326ee62-1338-4e38-ef47-f9d2ab1e480a"
      },
      "outputs": [
        {
          "output_type": "display_data",
          "data": {
            "text/plain": [
              "  0%|          | 0/6 [00:00<?, ?it/s]"
            ],
            "application/vnd.jupyter.widget-view+json": {
              "version_major": 2,
              "version_minor": 0,
              "model_id": "9bfbf4cfb19c4f9ebf793a8710794a3d"
            }
          },
          "metadata": {}
        },
        {
          "output_type": "stream",
          "name": "stdout",
          "text": [
            "DCG@   1: 0.259 | Hits@   1: 0.259\n",
            "DCG@   5: 0.331 | Hits@   5: 0.395\n",
            "DCG@  10: 0.353 | Hits@  10: 0.464\n",
            "DCG@ 100: 0.407 | Hits@ 100: 0.728\n",
            "DCG@ 500: 0.431 | Hits@ 500: 0.916\n",
            "DCG@1000: 0.440 | Hits@1000: 1.000\n"
          ]
        }
      ],
      "source": [
        "for k in tqdm([1, 5, 10, 100, 500, 1000]):\n",
        "    print(\"DCG@%4d: %.3f | Hits@%4d: %.3f\" % (k, dcg_score(wv_ranking, k), k, hits_count(wv_ranking, k)))"
      ]
    },
    {
      "cell_type": "markdown",
      "metadata": {
        "id": "tY8PxB0j-ThG"
      },
      "source": [
        "### Замечание:\n",
        "Решить эту задачу с помощью обучения полноценной нейронной сети будет вам предложено, как часть задания в одной из домашних работ по теме \"Диалоговые системы\"."
      ]
    },
    {
      "cell_type": "markdown",
      "metadata": {
        "id": "vymVj8IxO2PO"
      },
      "source": [
        "Напишите свой вывод о полученных результатах.\n",
        "* Какой принцип токенизации даёт качество лучше и почему?\n",
        "* Помогает ли нормализация слов?\n",
        "* Какие эмбеддинги лучше справляются с задачей и почему?\n",
        "* Почему получилось плохое качество решения задачи?\n",
        "* Предложите свой подход к решению задачи.\n",
        "\n",
        "## Вывод:\n"
      ]
    },
    {
      "cell_type": "markdown",
      "source": [
        "После нормализации слов ничего не поменялось"
      ],
      "metadata": {
        "id": "yLdAI0pzdCwN"
      }
    },
    {
      "cell_type": "markdown",
      "metadata": {
        "id": "emODHztAQUQz"
      },
      "source": []
    }
  ],
  "metadata": {
    "colab": {
      "collapsed_sections": [
        "0sUSxk866j1_"
      ],
      "provenance": []
    },
    "kernelspec": {
      "display_name": "Python 3",
      "language": "python",
      "name": "python3"
    },
    "language_info": {
      "codemirror_mode": {
        "name": "ipython",
        "version": 3
      },
      "file_extension": ".py",
      "mimetype": "text/x-python",
      "name": "python",
      "nbconvert_exporter": "python",
      "pygments_lexer": "ipython3",
      "version": "3.7.2"
    },
    "accelerator": "GPU",
    "gpuClass": "standard",
    "widgets": {
      "application/vnd.jupyter.widget-state+json": {
        "b4ff7cdf6c694708a5e27369688fa682": {
          "model_module": "@jupyter-widgets/controls",
          "model_name": "HBoxModel",
          "model_module_version": "1.5.0",
          "state": {
            "_dom_classes": [],
            "_model_module": "@jupyter-widgets/controls",
            "_model_module_version": "1.5.0",
            "_model_name": "HBoxModel",
            "_view_count": null,
            "_view_module": "@jupyter-widgets/controls",
            "_view_module_version": "1.5.0",
            "_view_name": "HBoxView",
            "box_style": "",
            "children": [
              "IPY_MODEL_439c96132fa84a8c9b879beaa4a5c445",
              "IPY_MODEL_3e129ca21e5a4ab8a3d018028c7dcbf4",
              "IPY_MODEL_2abbc2b3f3bd4843b56ca94c06e70a70"
            ],
            "layout": "IPY_MODEL_f42d1af2d77a45879b9773bb335cc43c"
          }
        },
        "439c96132fa84a8c9b879beaa4a5c445": {
          "model_module": "@jupyter-widgets/controls",
          "model_name": "HTMLModel",
          "model_module_version": "1.5.0",
          "state": {
            "_dom_classes": [],
            "_model_module": "@jupyter-widgets/controls",
            "_model_module_version": "1.5.0",
            "_model_name": "HTMLModel",
            "_view_count": null,
            "_view_module": "@jupyter-widgets/controls",
            "_view_module_version": "1.5.0",
            "_view_name": "HTMLView",
            "description": "",
            "description_tooltip": null,
            "layout": "IPY_MODEL_afafb3e4166e4a0194a31f2c5a66d6af",
            "placeholder": "​",
            "style": "IPY_MODEL_911a83bdc946429c872d8ec319e62e5e",
            "value": " 27%"
          }
        },
        "3e129ca21e5a4ab8a3d018028c7dcbf4": {
          "model_module": "@jupyter-widgets/controls",
          "model_name": "FloatProgressModel",
          "model_module_version": "1.5.0",
          "state": {
            "_dom_classes": [],
            "_model_module": "@jupyter-widgets/controls",
            "_model_module_version": "1.5.0",
            "_model_name": "FloatProgressModel",
            "_view_count": null,
            "_view_module": "@jupyter-widgets/controls",
            "_view_module_version": "1.5.0",
            "_view_name": "ProgressView",
            "bar_style": "danger",
            "description": "",
            "description_tooltip": null,
            "layout": "IPY_MODEL_68ad2689d5494550ac8979e44fc110e9",
            "max": 3760,
            "min": 0,
            "orientation": "horizontal",
            "style": "IPY_MODEL_eb2df1e26af14a2d90b43a84a356b38e",
            "value": 1000
          }
        },
        "2abbc2b3f3bd4843b56ca94c06e70a70": {
          "model_module": "@jupyter-widgets/controls",
          "model_name": "HTMLModel",
          "model_module_version": "1.5.0",
          "state": {
            "_dom_classes": [],
            "_model_module": "@jupyter-widgets/controls",
            "_model_module_version": "1.5.0",
            "_model_name": "HTMLModel",
            "_view_count": null,
            "_view_module": "@jupyter-widgets/controls",
            "_view_module_version": "1.5.0",
            "_view_name": "HTMLView",
            "description": "",
            "description_tooltip": null,
            "layout": "IPY_MODEL_4b62982642294c79be0d745d8316488a",
            "placeholder": "​",
            "style": "IPY_MODEL_043d2293b249429d9f3e6e4ec82a88a6",
            "value": " 1000/3760 [01:49&lt;04:30, 10.20it/s]"
          }
        },
        "f42d1af2d77a45879b9773bb335cc43c": {
          "model_module": "@jupyter-widgets/base",
          "model_name": "LayoutModel",
          "model_module_version": "1.2.0",
          "state": {
            "_model_module": "@jupyter-widgets/base",
            "_model_module_version": "1.2.0",
            "_model_name": "LayoutModel",
            "_view_count": null,
            "_view_module": "@jupyter-widgets/base",
            "_view_module_version": "1.2.0",
            "_view_name": "LayoutView",
            "align_content": null,
            "align_items": null,
            "align_self": null,
            "border": null,
            "bottom": null,
            "display": null,
            "flex": null,
            "flex_flow": null,
            "grid_area": null,
            "grid_auto_columns": null,
            "grid_auto_flow": null,
            "grid_auto_rows": null,
            "grid_column": null,
            "grid_gap": null,
            "grid_row": null,
            "grid_template_areas": null,
            "grid_template_columns": null,
            "grid_template_rows": null,
            "height": null,
            "justify_content": null,
            "justify_items": null,
            "left": null,
            "margin": null,
            "max_height": null,
            "max_width": null,
            "min_height": null,
            "min_width": null,
            "object_fit": null,
            "object_position": null,
            "order": null,
            "overflow": null,
            "overflow_x": null,
            "overflow_y": null,
            "padding": null,
            "right": null,
            "top": null,
            "visibility": null,
            "width": null
          }
        },
        "afafb3e4166e4a0194a31f2c5a66d6af": {
          "model_module": "@jupyter-widgets/base",
          "model_name": "LayoutModel",
          "model_module_version": "1.2.0",
          "state": {
            "_model_module": "@jupyter-widgets/base",
            "_model_module_version": "1.2.0",
            "_model_name": "LayoutModel",
            "_view_count": null,
            "_view_module": "@jupyter-widgets/base",
            "_view_module_version": "1.2.0",
            "_view_name": "LayoutView",
            "align_content": null,
            "align_items": null,
            "align_self": null,
            "border": null,
            "bottom": null,
            "display": null,
            "flex": null,
            "flex_flow": null,
            "grid_area": null,
            "grid_auto_columns": null,
            "grid_auto_flow": null,
            "grid_auto_rows": null,
            "grid_column": null,
            "grid_gap": null,
            "grid_row": null,
            "grid_template_areas": null,
            "grid_template_columns": null,
            "grid_template_rows": null,
            "height": null,
            "justify_content": null,
            "justify_items": null,
            "left": null,
            "margin": null,
            "max_height": null,
            "max_width": null,
            "min_height": null,
            "min_width": null,
            "object_fit": null,
            "object_position": null,
            "order": null,
            "overflow": null,
            "overflow_x": null,
            "overflow_y": null,
            "padding": null,
            "right": null,
            "top": null,
            "visibility": null,
            "width": null
          }
        },
        "911a83bdc946429c872d8ec319e62e5e": {
          "model_module": "@jupyter-widgets/controls",
          "model_name": "DescriptionStyleModel",
          "model_module_version": "1.5.0",
          "state": {
            "_model_module": "@jupyter-widgets/controls",
            "_model_module_version": "1.5.0",
            "_model_name": "DescriptionStyleModel",
            "_view_count": null,
            "_view_module": "@jupyter-widgets/base",
            "_view_module_version": "1.2.0",
            "_view_name": "StyleView",
            "description_width": ""
          }
        },
        "68ad2689d5494550ac8979e44fc110e9": {
          "model_module": "@jupyter-widgets/base",
          "model_name": "LayoutModel",
          "model_module_version": "1.2.0",
          "state": {
            "_model_module": "@jupyter-widgets/base",
            "_model_module_version": "1.2.0",
            "_model_name": "LayoutModel",
            "_view_count": null,
            "_view_module": "@jupyter-widgets/base",
            "_view_module_version": "1.2.0",
            "_view_name": "LayoutView",
            "align_content": null,
            "align_items": null,
            "align_self": null,
            "border": null,
            "bottom": null,
            "display": null,
            "flex": null,
            "flex_flow": null,
            "grid_area": null,
            "grid_auto_columns": null,
            "grid_auto_flow": null,
            "grid_auto_rows": null,
            "grid_column": null,
            "grid_gap": null,
            "grid_row": null,
            "grid_template_areas": null,
            "grid_template_columns": null,
            "grid_template_rows": null,
            "height": null,
            "justify_content": null,
            "justify_items": null,
            "left": null,
            "margin": null,
            "max_height": null,
            "max_width": null,
            "min_height": null,
            "min_width": null,
            "object_fit": null,
            "object_position": null,
            "order": null,
            "overflow": null,
            "overflow_x": null,
            "overflow_y": null,
            "padding": null,
            "right": null,
            "top": null,
            "visibility": null,
            "width": null
          }
        },
        "eb2df1e26af14a2d90b43a84a356b38e": {
          "model_module": "@jupyter-widgets/controls",
          "model_name": "ProgressStyleModel",
          "model_module_version": "1.5.0",
          "state": {
            "_model_module": "@jupyter-widgets/controls",
            "_model_module_version": "1.5.0",
            "_model_name": "ProgressStyleModel",
            "_view_count": null,
            "_view_module": "@jupyter-widgets/base",
            "_view_module_version": "1.2.0",
            "_view_name": "StyleView",
            "bar_color": null,
            "description_width": ""
          }
        },
        "4b62982642294c79be0d745d8316488a": {
          "model_module": "@jupyter-widgets/base",
          "model_name": "LayoutModel",
          "model_module_version": "1.2.0",
          "state": {
            "_model_module": "@jupyter-widgets/base",
            "_model_module_version": "1.2.0",
            "_model_name": "LayoutModel",
            "_view_count": null,
            "_view_module": "@jupyter-widgets/base",
            "_view_module_version": "1.2.0",
            "_view_name": "LayoutView",
            "align_content": null,
            "align_items": null,
            "align_self": null,
            "border": null,
            "bottom": null,
            "display": null,
            "flex": null,
            "flex_flow": null,
            "grid_area": null,
            "grid_auto_columns": null,
            "grid_auto_flow": null,
            "grid_auto_rows": null,
            "grid_column": null,
            "grid_gap": null,
            "grid_row": null,
            "grid_template_areas": null,
            "grid_template_columns": null,
            "grid_template_rows": null,
            "height": null,
            "justify_content": null,
            "justify_items": null,
            "left": null,
            "margin": null,
            "max_height": null,
            "max_width": null,
            "min_height": null,
            "min_width": null,
            "object_fit": null,
            "object_position": null,
            "order": null,
            "overflow": null,
            "overflow_x": null,
            "overflow_y": null,
            "padding": null,
            "right": null,
            "top": null,
            "visibility": null,
            "width": null
          }
        },
        "043d2293b249429d9f3e6e4ec82a88a6": {
          "model_module": "@jupyter-widgets/controls",
          "model_name": "DescriptionStyleModel",
          "model_module_version": "1.5.0",
          "state": {
            "_model_module": "@jupyter-widgets/controls",
            "_model_module_version": "1.5.0",
            "_model_name": "DescriptionStyleModel",
            "_view_count": null,
            "_view_module": "@jupyter-widgets/base",
            "_view_module_version": "1.2.0",
            "_view_name": "StyleView",
            "description_width": ""
          }
        },
        "1ea11ac8755943bcbe77dc5fe49efcc4": {
          "model_module": "@jupyter-widgets/controls",
          "model_name": "HBoxModel",
          "model_module_version": "1.5.0",
          "state": {
            "_dom_classes": [],
            "_model_module": "@jupyter-widgets/controls",
            "_model_module_version": "1.5.0",
            "_model_name": "HBoxModel",
            "_view_count": null,
            "_view_module": "@jupyter-widgets/controls",
            "_view_module_version": "1.5.0",
            "_view_name": "HBoxView",
            "box_style": "",
            "children": [
              "IPY_MODEL_cb1e36de248a41e8b3788ed43c4904bc",
              "IPY_MODEL_9378fc6fef244fe290c62305e4f3e8e0",
              "IPY_MODEL_74effd448d2b49b7bd3e0681854eb88b"
            ],
            "layout": "IPY_MODEL_932a6c821f7f48f38bf934e10cda0015"
          }
        },
        "cb1e36de248a41e8b3788ed43c4904bc": {
          "model_module": "@jupyter-widgets/controls",
          "model_name": "HTMLModel",
          "model_module_version": "1.5.0",
          "state": {
            "_dom_classes": [],
            "_model_module": "@jupyter-widgets/controls",
            "_model_module_version": "1.5.0",
            "_model_name": "HTMLModel",
            "_view_count": null,
            "_view_module": "@jupyter-widgets/controls",
            "_view_module_version": "1.5.0",
            "_view_name": "HTMLView",
            "description": "",
            "description_tooltip": null,
            "layout": "IPY_MODEL_6dfe939df8664bff93fad927d493ce45",
            "placeholder": "​",
            "style": "IPY_MODEL_caf4160d94f14e65bbc68f145296cc3b",
            "value": "100%"
          }
        },
        "9378fc6fef244fe290c62305e4f3e8e0": {
          "model_module": "@jupyter-widgets/controls",
          "model_name": "FloatProgressModel",
          "model_module_version": "1.5.0",
          "state": {
            "_dom_classes": [],
            "_model_module": "@jupyter-widgets/controls",
            "_model_module_version": "1.5.0",
            "_model_name": "FloatProgressModel",
            "_view_count": null,
            "_view_module": "@jupyter-widgets/controls",
            "_view_module_version": "1.5.0",
            "_view_name": "ProgressView",
            "bar_style": "success",
            "description": "",
            "description_tooltip": null,
            "layout": "IPY_MODEL_02867fa93653453c9766f2caba169b67",
            "max": 6,
            "min": 0,
            "orientation": "horizontal",
            "style": "IPY_MODEL_1fa7bf590db2420aa1eb2a0fbafb9bbb",
            "value": 6
          }
        },
        "74effd448d2b49b7bd3e0681854eb88b": {
          "model_module": "@jupyter-widgets/controls",
          "model_name": "HTMLModel",
          "model_module_version": "1.5.0",
          "state": {
            "_dom_classes": [],
            "_model_module": "@jupyter-widgets/controls",
            "_model_module_version": "1.5.0",
            "_model_name": "HTMLModel",
            "_view_count": null,
            "_view_module": "@jupyter-widgets/controls",
            "_view_module_version": "1.5.0",
            "_view_name": "HTMLView",
            "description": "",
            "description_tooltip": null,
            "layout": "IPY_MODEL_14a9877f6b3a401d8db7b8006b57bd97",
            "placeholder": "​",
            "style": "IPY_MODEL_b6794632f7da4ea59d97b37bfcd1971f",
            "value": " 6/6 [00:00&lt;00:00, 155.18it/s]"
          }
        },
        "932a6c821f7f48f38bf934e10cda0015": {
          "model_module": "@jupyter-widgets/base",
          "model_name": "LayoutModel",
          "model_module_version": "1.2.0",
          "state": {
            "_model_module": "@jupyter-widgets/base",
            "_model_module_version": "1.2.0",
            "_model_name": "LayoutModel",
            "_view_count": null,
            "_view_module": "@jupyter-widgets/base",
            "_view_module_version": "1.2.0",
            "_view_name": "LayoutView",
            "align_content": null,
            "align_items": null,
            "align_self": null,
            "border": null,
            "bottom": null,
            "display": null,
            "flex": null,
            "flex_flow": null,
            "grid_area": null,
            "grid_auto_columns": null,
            "grid_auto_flow": null,
            "grid_auto_rows": null,
            "grid_column": null,
            "grid_gap": null,
            "grid_row": null,
            "grid_template_areas": null,
            "grid_template_columns": null,
            "grid_template_rows": null,
            "height": null,
            "justify_content": null,
            "justify_items": null,
            "left": null,
            "margin": null,
            "max_height": null,
            "max_width": null,
            "min_height": null,
            "min_width": null,
            "object_fit": null,
            "object_position": null,
            "order": null,
            "overflow": null,
            "overflow_x": null,
            "overflow_y": null,
            "padding": null,
            "right": null,
            "top": null,
            "visibility": null,
            "width": null
          }
        },
        "6dfe939df8664bff93fad927d493ce45": {
          "model_module": "@jupyter-widgets/base",
          "model_name": "LayoutModel",
          "model_module_version": "1.2.0",
          "state": {
            "_model_module": "@jupyter-widgets/base",
            "_model_module_version": "1.2.0",
            "_model_name": "LayoutModel",
            "_view_count": null,
            "_view_module": "@jupyter-widgets/base",
            "_view_module_version": "1.2.0",
            "_view_name": "LayoutView",
            "align_content": null,
            "align_items": null,
            "align_self": null,
            "border": null,
            "bottom": null,
            "display": null,
            "flex": null,
            "flex_flow": null,
            "grid_area": null,
            "grid_auto_columns": null,
            "grid_auto_flow": null,
            "grid_auto_rows": null,
            "grid_column": null,
            "grid_gap": null,
            "grid_row": null,
            "grid_template_areas": null,
            "grid_template_columns": null,
            "grid_template_rows": null,
            "height": null,
            "justify_content": null,
            "justify_items": null,
            "left": null,
            "margin": null,
            "max_height": null,
            "max_width": null,
            "min_height": null,
            "min_width": null,
            "object_fit": null,
            "object_position": null,
            "order": null,
            "overflow": null,
            "overflow_x": null,
            "overflow_y": null,
            "padding": null,
            "right": null,
            "top": null,
            "visibility": null,
            "width": null
          }
        },
        "caf4160d94f14e65bbc68f145296cc3b": {
          "model_module": "@jupyter-widgets/controls",
          "model_name": "DescriptionStyleModel",
          "model_module_version": "1.5.0",
          "state": {
            "_model_module": "@jupyter-widgets/controls",
            "_model_module_version": "1.5.0",
            "_model_name": "DescriptionStyleModel",
            "_view_count": null,
            "_view_module": "@jupyter-widgets/base",
            "_view_module_version": "1.2.0",
            "_view_name": "StyleView",
            "description_width": ""
          }
        },
        "02867fa93653453c9766f2caba169b67": {
          "model_module": "@jupyter-widgets/base",
          "model_name": "LayoutModel",
          "model_module_version": "1.2.0",
          "state": {
            "_model_module": "@jupyter-widgets/base",
            "_model_module_version": "1.2.0",
            "_model_name": "LayoutModel",
            "_view_count": null,
            "_view_module": "@jupyter-widgets/base",
            "_view_module_version": "1.2.0",
            "_view_name": "LayoutView",
            "align_content": null,
            "align_items": null,
            "align_self": null,
            "border": null,
            "bottom": null,
            "display": null,
            "flex": null,
            "flex_flow": null,
            "grid_area": null,
            "grid_auto_columns": null,
            "grid_auto_flow": null,
            "grid_auto_rows": null,
            "grid_column": null,
            "grid_gap": null,
            "grid_row": null,
            "grid_template_areas": null,
            "grid_template_columns": null,
            "grid_template_rows": null,
            "height": null,
            "justify_content": null,
            "justify_items": null,
            "left": null,
            "margin": null,
            "max_height": null,
            "max_width": null,
            "min_height": null,
            "min_width": null,
            "object_fit": null,
            "object_position": null,
            "order": null,
            "overflow": null,
            "overflow_x": null,
            "overflow_y": null,
            "padding": null,
            "right": null,
            "top": null,
            "visibility": null,
            "width": null
          }
        },
        "1fa7bf590db2420aa1eb2a0fbafb9bbb": {
          "model_module": "@jupyter-widgets/controls",
          "model_name": "ProgressStyleModel",
          "model_module_version": "1.5.0",
          "state": {
            "_model_module": "@jupyter-widgets/controls",
            "_model_module_version": "1.5.0",
            "_model_name": "ProgressStyleModel",
            "_view_count": null,
            "_view_module": "@jupyter-widgets/base",
            "_view_module_version": "1.2.0",
            "_view_name": "StyleView",
            "bar_color": null,
            "description_width": ""
          }
        },
        "14a9877f6b3a401d8db7b8006b57bd97": {
          "model_module": "@jupyter-widgets/base",
          "model_name": "LayoutModel",
          "model_module_version": "1.2.0",
          "state": {
            "_model_module": "@jupyter-widgets/base",
            "_model_module_version": "1.2.0",
            "_model_name": "LayoutModel",
            "_view_count": null,
            "_view_module": "@jupyter-widgets/base",
            "_view_module_version": "1.2.0",
            "_view_name": "LayoutView",
            "align_content": null,
            "align_items": null,
            "align_self": null,
            "border": null,
            "bottom": null,
            "display": null,
            "flex": null,
            "flex_flow": null,
            "grid_area": null,
            "grid_auto_columns": null,
            "grid_auto_flow": null,
            "grid_auto_rows": null,
            "grid_column": null,
            "grid_gap": null,
            "grid_row": null,
            "grid_template_areas": null,
            "grid_template_columns": null,
            "grid_template_rows": null,
            "height": null,
            "justify_content": null,
            "justify_items": null,
            "left": null,
            "margin": null,
            "max_height": null,
            "max_width": null,
            "min_height": null,
            "min_width": null,
            "object_fit": null,
            "object_position": null,
            "order": null,
            "overflow": null,
            "overflow_x": null,
            "overflow_y": null,
            "padding": null,
            "right": null,
            "top": null,
            "visibility": null,
            "width": null
          }
        },
        "b6794632f7da4ea59d97b37bfcd1971f": {
          "model_module": "@jupyter-widgets/controls",
          "model_name": "DescriptionStyleModel",
          "model_module_version": "1.5.0",
          "state": {
            "_model_module": "@jupyter-widgets/controls",
            "_model_module_version": "1.5.0",
            "_model_name": "DescriptionStyleModel",
            "_view_count": null,
            "_view_module": "@jupyter-widgets/base",
            "_view_module_version": "1.2.0",
            "_view_name": "StyleView",
            "description_width": ""
          }
        },
        "8118fb558aaa49709f499228e71ee267": {
          "model_module": "@jupyter-widgets/controls",
          "model_name": "HBoxModel",
          "model_module_version": "1.5.0",
          "state": {
            "_dom_classes": [],
            "_model_module": "@jupyter-widgets/controls",
            "_model_module_version": "1.5.0",
            "_model_name": "HBoxModel",
            "_view_count": null,
            "_view_module": "@jupyter-widgets/controls",
            "_view_module_version": "1.5.0",
            "_view_name": "HBoxView",
            "box_style": "",
            "children": [
              "IPY_MODEL_85a2d90dec784fe0b783739a476bce05",
              "IPY_MODEL_9fd60d2783ab4f5c92aa75bcc47db984",
              "IPY_MODEL_7771e0689c2a4b91acd290802ce1d651"
            ],
            "layout": "IPY_MODEL_b7ed8dc53a8745f599087db0211fe0dd"
          }
        },
        "85a2d90dec784fe0b783739a476bce05": {
          "model_module": "@jupyter-widgets/controls",
          "model_name": "HTMLModel",
          "model_module_version": "1.5.0",
          "state": {
            "_dom_classes": [],
            "_model_module": "@jupyter-widgets/controls",
            "_model_module_version": "1.5.0",
            "_model_name": "HTMLModel",
            "_view_count": null,
            "_view_module": "@jupyter-widgets/controls",
            "_view_module_version": "1.5.0",
            "_view_name": "HTMLView",
            "description": "",
            "description_tooltip": null,
            "layout": "IPY_MODEL_6ed13f07525648a18d1335657044788a",
            "placeholder": "​",
            "style": "IPY_MODEL_b85a1e87d0ba4bb7812cb3066d153adf",
            "value": " 27%"
          }
        },
        "9fd60d2783ab4f5c92aa75bcc47db984": {
          "model_module": "@jupyter-widgets/controls",
          "model_name": "FloatProgressModel",
          "model_module_version": "1.5.0",
          "state": {
            "_dom_classes": [],
            "_model_module": "@jupyter-widgets/controls",
            "_model_module_version": "1.5.0",
            "_model_name": "FloatProgressModel",
            "_view_count": null,
            "_view_module": "@jupyter-widgets/controls",
            "_view_module_version": "1.5.0",
            "_view_name": "ProgressView",
            "bar_style": "danger",
            "description": "",
            "description_tooltip": null,
            "layout": "IPY_MODEL_618c71a3ad324f26940c609acaaa3102",
            "max": 3760,
            "min": 0,
            "orientation": "horizontal",
            "style": "IPY_MODEL_5fc320e1888d4856a3c1938256ae6658",
            "value": 1000
          }
        },
        "7771e0689c2a4b91acd290802ce1d651": {
          "model_module": "@jupyter-widgets/controls",
          "model_name": "HTMLModel",
          "model_module_version": "1.5.0",
          "state": {
            "_dom_classes": [],
            "_model_module": "@jupyter-widgets/controls",
            "_model_module_version": "1.5.0",
            "_model_name": "HTMLModel",
            "_view_count": null,
            "_view_module": "@jupyter-widgets/controls",
            "_view_module_version": "1.5.0",
            "_view_name": "HTMLView",
            "description": "",
            "description_tooltip": null,
            "layout": "IPY_MODEL_ac5db3ab07584da3a7c002feea3b77aa",
            "placeholder": "​",
            "style": "IPY_MODEL_40cc5ad1f31746c591b507e3d0c69452",
            "value": " 1000/3760 [02:02&lt;05:03,  9.09it/s]"
          }
        },
        "b7ed8dc53a8745f599087db0211fe0dd": {
          "model_module": "@jupyter-widgets/base",
          "model_name": "LayoutModel",
          "model_module_version": "1.2.0",
          "state": {
            "_model_module": "@jupyter-widgets/base",
            "_model_module_version": "1.2.0",
            "_model_name": "LayoutModel",
            "_view_count": null,
            "_view_module": "@jupyter-widgets/base",
            "_view_module_version": "1.2.0",
            "_view_name": "LayoutView",
            "align_content": null,
            "align_items": null,
            "align_self": null,
            "border": null,
            "bottom": null,
            "display": null,
            "flex": null,
            "flex_flow": null,
            "grid_area": null,
            "grid_auto_columns": null,
            "grid_auto_flow": null,
            "grid_auto_rows": null,
            "grid_column": null,
            "grid_gap": null,
            "grid_row": null,
            "grid_template_areas": null,
            "grid_template_columns": null,
            "grid_template_rows": null,
            "height": null,
            "justify_content": null,
            "justify_items": null,
            "left": null,
            "margin": null,
            "max_height": null,
            "max_width": null,
            "min_height": null,
            "min_width": null,
            "object_fit": null,
            "object_position": null,
            "order": null,
            "overflow": null,
            "overflow_x": null,
            "overflow_y": null,
            "padding": null,
            "right": null,
            "top": null,
            "visibility": null,
            "width": null
          }
        },
        "6ed13f07525648a18d1335657044788a": {
          "model_module": "@jupyter-widgets/base",
          "model_name": "LayoutModel",
          "model_module_version": "1.2.0",
          "state": {
            "_model_module": "@jupyter-widgets/base",
            "_model_module_version": "1.2.0",
            "_model_name": "LayoutModel",
            "_view_count": null,
            "_view_module": "@jupyter-widgets/base",
            "_view_module_version": "1.2.0",
            "_view_name": "LayoutView",
            "align_content": null,
            "align_items": null,
            "align_self": null,
            "border": null,
            "bottom": null,
            "display": null,
            "flex": null,
            "flex_flow": null,
            "grid_area": null,
            "grid_auto_columns": null,
            "grid_auto_flow": null,
            "grid_auto_rows": null,
            "grid_column": null,
            "grid_gap": null,
            "grid_row": null,
            "grid_template_areas": null,
            "grid_template_columns": null,
            "grid_template_rows": null,
            "height": null,
            "justify_content": null,
            "justify_items": null,
            "left": null,
            "margin": null,
            "max_height": null,
            "max_width": null,
            "min_height": null,
            "min_width": null,
            "object_fit": null,
            "object_position": null,
            "order": null,
            "overflow": null,
            "overflow_x": null,
            "overflow_y": null,
            "padding": null,
            "right": null,
            "top": null,
            "visibility": null,
            "width": null
          }
        },
        "b85a1e87d0ba4bb7812cb3066d153adf": {
          "model_module": "@jupyter-widgets/controls",
          "model_name": "DescriptionStyleModel",
          "model_module_version": "1.5.0",
          "state": {
            "_model_module": "@jupyter-widgets/controls",
            "_model_module_version": "1.5.0",
            "_model_name": "DescriptionStyleModel",
            "_view_count": null,
            "_view_module": "@jupyter-widgets/base",
            "_view_module_version": "1.2.0",
            "_view_name": "StyleView",
            "description_width": ""
          }
        },
        "618c71a3ad324f26940c609acaaa3102": {
          "model_module": "@jupyter-widgets/base",
          "model_name": "LayoutModel",
          "model_module_version": "1.2.0",
          "state": {
            "_model_module": "@jupyter-widgets/base",
            "_model_module_version": "1.2.0",
            "_model_name": "LayoutModel",
            "_view_count": null,
            "_view_module": "@jupyter-widgets/base",
            "_view_module_version": "1.2.0",
            "_view_name": "LayoutView",
            "align_content": null,
            "align_items": null,
            "align_self": null,
            "border": null,
            "bottom": null,
            "display": null,
            "flex": null,
            "flex_flow": null,
            "grid_area": null,
            "grid_auto_columns": null,
            "grid_auto_flow": null,
            "grid_auto_rows": null,
            "grid_column": null,
            "grid_gap": null,
            "grid_row": null,
            "grid_template_areas": null,
            "grid_template_columns": null,
            "grid_template_rows": null,
            "height": null,
            "justify_content": null,
            "justify_items": null,
            "left": null,
            "margin": null,
            "max_height": null,
            "max_width": null,
            "min_height": null,
            "min_width": null,
            "object_fit": null,
            "object_position": null,
            "order": null,
            "overflow": null,
            "overflow_x": null,
            "overflow_y": null,
            "padding": null,
            "right": null,
            "top": null,
            "visibility": null,
            "width": null
          }
        },
        "5fc320e1888d4856a3c1938256ae6658": {
          "model_module": "@jupyter-widgets/controls",
          "model_name": "ProgressStyleModel",
          "model_module_version": "1.5.0",
          "state": {
            "_model_module": "@jupyter-widgets/controls",
            "_model_module_version": "1.5.0",
            "_model_name": "ProgressStyleModel",
            "_view_count": null,
            "_view_module": "@jupyter-widgets/base",
            "_view_module_version": "1.2.0",
            "_view_name": "StyleView",
            "bar_color": null,
            "description_width": ""
          }
        },
        "ac5db3ab07584da3a7c002feea3b77aa": {
          "model_module": "@jupyter-widgets/base",
          "model_name": "LayoutModel",
          "model_module_version": "1.2.0",
          "state": {
            "_model_module": "@jupyter-widgets/base",
            "_model_module_version": "1.2.0",
            "_model_name": "LayoutModel",
            "_view_count": null,
            "_view_module": "@jupyter-widgets/base",
            "_view_module_version": "1.2.0",
            "_view_name": "LayoutView",
            "align_content": null,
            "align_items": null,
            "align_self": null,
            "border": null,
            "bottom": null,
            "display": null,
            "flex": null,
            "flex_flow": null,
            "grid_area": null,
            "grid_auto_columns": null,
            "grid_auto_flow": null,
            "grid_auto_rows": null,
            "grid_column": null,
            "grid_gap": null,
            "grid_row": null,
            "grid_template_areas": null,
            "grid_template_columns": null,
            "grid_template_rows": null,
            "height": null,
            "justify_content": null,
            "justify_items": null,
            "left": null,
            "margin": null,
            "max_height": null,
            "max_width": null,
            "min_height": null,
            "min_width": null,
            "object_fit": null,
            "object_position": null,
            "order": null,
            "overflow": null,
            "overflow_x": null,
            "overflow_y": null,
            "padding": null,
            "right": null,
            "top": null,
            "visibility": null,
            "width": null
          }
        },
        "40cc5ad1f31746c591b507e3d0c69452": {
          "model_module": "@jupyter-widgets/controls",
          "model_name": "DescriptionStyleModel",
          "model_module_version": "1.5.0",
          "state": {
            "_model_module": "@jupyter-widgets/controls",
            "_model_module_version": "1.5.0",
            "_model_name": "DescriptionStyleModel",
            "_view_count": null,
            "_view_module": "@jupyter-widgets/base",
            "_view_module_version": "1.2.0",
            "_view_name": "StyleView",
            "description_width": ""
          }
        },
        "9bfbf4cfb19c4f9ebf793a8710794a3d": {
          "model_module": "@jupyter-widgets/controls",
          "model_name": "HBoxModel",
          "model_module_version": "1.5.0",
          "state": {
            "_dom_classes": [],
            "_model_module": "@jupyter-widgets/controls",
            "_model_module_version": "1.5.0",
            "_model_name": "HBoxModel",
            "_view_count": null,
            "_view_module": "@jupyter-widgets/controls",
            "_view_module_version": "1.5.0",
            "_view_name": "HBoxView",
            "box_style": "",
            "children": [
              "IPY_MODEL_a934a6dc67674e6dbbf0528fda360dba",
              "IPY_MODEL_9bccca0d081f4703989b191280636847",
              "IPY_MODEL_8d8dea00bb284845b5c7b4171d5cf0af"
            ],
            "layout": "IPY_MODEL_de43ed3ce4024c55b8f7d2d58da7783b"
          }
        },
        "a934a6dc67674e6dbbf0528fda360dba": {
          "model_module": "@jupyter-widgets/controls",
          "model_name": "HTMLModel",
          "model_module_version": "1.5.0",
          "state": {
            "_dom_classes": [],
            "_model_module": "@jupyter-widgets/controls",
            "_model_module_version": "1.5.0",
            "_model_name": "HTMLModel",
            "_view_count": null,
            "_view_module": "@jupyter-widgets/controls",
            "_view_module_version": "1.5.0",
            "_view_name": "HTMLView",
            "description": "",
            "description_tooltip": null,
            "layout": "IPY_MODEL_bb1232248c0e48c290c92743342c65a7",
            "placeholder": "​",
            "style": "IPY_MODEL_b60a45b810d04839ac104c32e01ce939",
            "value": "100%"
          }
        },
        "9bccca0d081f4703989b191280636847": {
          "model_module": "@jupyter-widgets/controls",
          "model_name": "FloatProgressModel",
          "model_module_version": "1.5.0",
          "state": {
            "_dom_classes": [],
            "_model_module": "@jupyter-widgets/controls",
            "_model_module_version": "1.5.0",
            "_model_name": "FloatProgressModel",
            "_view_count": null,
            "_view_module": "@jupyter-widgets/controls",
            "_view_module_version": "1.5.0",
            "_view_name": "ProgressView",
            "bar_style": "success",
            "description": "",
            "description_tooltip": null,
            "layout": "IPY_MODEL_dbbe7c98b73f456f8060402dde5ae6ba",
            "max": 6,
            "min": 0,
            "orientation": "horizontal",
            "style": "IPY_MODEL_71a91324a8f546c4936d119328e18133",
            "value": 6
          }
        },
        "8d8dea00bb284845b5c7b4171d5cf0af": {
          "model_module": "@jupyter-widgets/controls",
          "model_name": "HTMLModel",
          "model_module_version": "1.5.0",
          "state": {
            "_dom_classes": [],
            "_model_module": "@jupyter-widgets/controls",
            "_model_module_version": "1.5.0",
            "_model_name": "HTMLModel",
            "_view_count": null,
            "_view_module": "@jupyter-widgets/controls",
            "_view_module_version": "1.5.0",
            "_view_name": "HTMLView",
            "description": "",
            "description_tooltip": null,
            "layout": "IPY_MODEL_9c87e05fc3a942d8853c8266267fec47",
            "placeholder": "​",
            "style": "IPY_MODEL_d6de778e91fa48d3a8bb5bb682146aec",
            "value": " 6/6 [00:00&lt;00:00, 197.75it/s]"
          }
        },
        "de43ed3ce4024c55b8f7d2d58da7783b": {
          "model_module": "@jupyter-widgets/base",
          "model_name": "LayoutModel",
          "model_module_version": "1.2.0",
          "state": {
            "_model_module": "@jupyter-widgets/base",
            "_model_module_version": "1.2.0",
            "_model_name": "LayoutModel",
            "_view_count": null,
            "_view_module": "@jupyter-widgets/base",
            "_view_module_version": "1.2.0",
            "_view_name": "LayoutView",
            "align_content": null,
            "align_items": null,
            "align_self": null,
            "border": null,
            "bottom": null,
            "display": null,
            "flex": null,
            "flex_flow": null,
            "grid_area": null,
            "grid_auto_columns": null,
            "grid_auto_flow": null,
            "grid_auto_rows": null,
            "grid_column": null,
            "grid_gap": null,
            "grid_row": null,
            "grid_template_areas": null,
            "grid_template_columns": null,
            "grid_template_rows": null,
            "height": null,
            "justify_content": null,
            "justify_items": null,
            "left": null,
            "margin": null,
            "max_height": null,
            "max_width": null,
            "min_height": null,
            "min_width": null,
            "object_fit": null,
            "object_position": null,
            "order": null,
            "overflow": null,
            "overflow_x": null,
            "overflow_y": null,
            "padding": null,
            "right": null,
            "top": null,
            "visibility": null,
            "width": null
          }
        },
        "bb1232248c0e48c290c92743342c65a7": {
          "model_module": "@jupyter-widgets/base",
          "model_name": "LayoutModel",
          "model_module_version": "1.2.0",
          "state": {
            "_model_module": "@jupyter-widgets/base",
            "_model_module_version": "1.2.0",
            "_model_name": "LayoutModel",
            "_view_count": null,
            "_view_module": "@jupyter-widgets/base",
            "_view_module_version": "1.2.0",
            "_view_name": "LayoutView",
            "align_content": null,
            "align_items": null,
            "align_self": null,
            "border": null,
            "bottom": null,
            "display": null,
            "flex": null,
            "flex_flow": null,
            "grid_area": null,
            "grid_auto_columns": null,
            "grid_auto_flow": null,
            "grid_auto_rows": null,
            "grid_column": null,
            "grid_gap": null,
            "grid_row": null,
            "grid_template_areas": null,
            "grid_template_columns": null,
            "grid_template_rows": null,
            "height": null,
            "justify_content": null,
            "justify_items": null,
            "left": null,
            "margin": null,
            "max_height": null,
            "max_width": null,
            "min_height": null,
            "min_width": null,
            "object_fit": null,
            "object_position": null,
            "order": null,
            "overflow": null,
            "overflow_x": null,
            "overflow_y": null,
            "padding": null,
            "right": null,
            "top": null,
            "visibility": null,
            "width": null
          }
        },
        "b60a45b810d04839ac104c32e01ce939": {
          "model_module": "@jupyter-widgets/controls",
          "model_name": "DescriptionStyleModel",
          "model_module_version": "1.5.0",
          "state": {
            "_model_module": "@jupyter-widgets/controls",
            "_model_module_version": "1.5.0",
            "_model_name": "DescriptionStyleModel",
            "_view_count": null,
            "_view_module": "@jupyter-widgets/base",
            "_view_module_version": "1.2.0",
            "_view_name": "StyleView",
            "description_width": ""
          }
        },
        "dbbe7c98b73f456f8060402dde5ae6ba": {
          "model_module": "@jupyter-widgets/base",
          "model_name": "LayoutModel",
          "model_module_version": "1.2.0",
          "state": {
            "_model_module": "@jupyter-widgets/base",
            "_model_module_version": "1.2.0",
            "_model_name": "LayoutModel",
            "_view_count": null,
            "_view_module": "@jupyter-widgets/base",
            "_view_module_version": "1.2.0",
            "_view_name": "LayoutView",
            "align_content": null,
            "align_items": null,
            "align_self": null,
            "border": null,
            "bottom": null,
            "display": null,
            "flex": null,
            "flex_flow": null,
            "grid_area": null,
            "grid_auto_columns": null,
            "grid_auto_flow": null,
            "grid_auto_rows": null,
            "grid_column": null,
            "grid_gap": null,
            "grid_row": null,
            "grid_template_areas": null,
            "grid_template_columns": null,
            "grid_template_rows": null,
            "height": null,
            "justify_content": null,
            "justify_items": null,
            "left": null,
            "margin": null,
            "max_height": null,
            "max_width": null,
            "min_height": null,
            "min_width": null,
            "object_fit": null,
            "object_position": null,
            "order": null,
            "overflow": null,
            "overflow_x": null,
            "overflow_y": null,
            "padding": null,
            "right": null,
            "top": null,
            "visibility": null,
            "width": null
          }
        },
        "71a91324a8f546c4936d119328e18133": {
          "model_module": "@jupyter-widgets/controls",
          "model_name": "ProgressStyleModel",
          "model_module_version": "1.5.0",
          "state": {
            "_model_module": "@jupyter-widgets/controls",
            "_model_module_version": "1.5.0",
            "_model_name": "ProgressStyleModel",
            "_view_count": null,
            "_view_module": "@jupyter-widgets/base",
            "_view_module_version": "1.2.0",
            "_view_name": "StyleView",
            "bar_color": null,
            "description_width": ""
          }
        },
        "9c87e05fc3a942d8853c8266267fec47": {
          "model_module": "@jupyter-widgets/base",
          "model_name": "LayoutModel",
          "model_module_version": "1.2.0",
          "state": {
            "_model_module": "@jupyter-widgets/base",
            "_model_module_version": "1.2.0",
            "_model_name": "LayoutModel",
            "_view_count": null,
            "_view_module": "@jupyter-widgets/base",
            "_view_module_version": "1.2.0",
            "_view_name": "LayoutView",
            "align_content": null,
            "align_items": null,
            "align_self": null,
            "border": null,
            "bottom": null,
            "display": null,
            "flex": null,
            "flex_flow": null,
            "grid_area": null,
            "grid_auto_columns": null,
            "grid_auto_flow": null,
            "grid_auto_rows": null,
            "grid_column": null,
            "grid_gap": null,
            "grid_row": null,
            "grid_template_areas": null,
            "grid_template_columns": null,
            "grid_template_rows": null,
            "height": null,
            "justify_content": null,
            "justify_items": null,
            "left": null,
            "margin": null,
            "max_height": null,
            "max_width": null,
            "min_height": null,
            "min_width": null,
            "object_fit": null,
            "object_position": null,
            "order": null,
            "overflow": null,
            "overflow_x": null,
            "overflow_y": null,
            "padding": null,
            "right": null,
            "top": null,
            "visibility": null,
            "width": null
          }
        },
        "d6de778e91fa48d3a8bb5bb682146aec": {
          "model_module": "@jupyter-widgets/controls",
          "model_name": "DescriptionStyleModel",
          "model_module_version": "1.5.0",
          "state": {
            "_model_module": "@jupyter-widgets/controls",
            "_model_module_version": "1.5.0",
            "_model_name": "DescriptionStyleModel",
            "_view_count": null,
            "_view_module": "@jupyter-widgets/base",
            "_view_module_version": "1.2.0",
            "_view_name": "StyleView",
            "description_width": ""
          }
        }
      }
    }
  },
  "nbformat": 4,
  "nbformat_minor": 0
}