{
  "nbformat": 4,
  "nbformat_minor": 0,
  "metadata": {
    "colab": {
      "provenance": []
    },
    "kernelspec": {
      "display_name": "Python 3",
      "language": "python",
      "name": "python3"
    },
    "language_info": {
      "codemirror_mode": {
        "name": "ipython",
        "version": 3
      },
      "file_extension": ".py",
      "mimetype": "text/x-python",
      "name": "python",
      "nbconvert_exporter": "python",
      "pygments_lexer": "ipython3",
      "version": "3.7.4"
    },
    "toc": {
      "base_numbering": 1,
      "nav_menu": {},
      "number_sections": false,
      "sideBar": true,
      "skip_h1_title": false,
      "title_cell": "Table of Contents",
      "title_sidebar": "Contents",
      "toc_cell": false,
      "toc_position": {},
      "toc_section_display": true,
      "toc_window_display": false
    },
    "varInspector": {
      "cols": {
        "lenName": 16,
        "lenType": 16,
        "lenVar": 40
      },
      "kernels_config": {
        "python": {
          "delete_cmd_postfix": "",
          "delete_cmd_prefix": "del ",
          "library": "var_list.py",
          "varRefreshCmd": "print(var_dic_list())"
        },
        "r": {
          "delete_cmd_postfix": ") ",
          "delete_cmd_prefix": "rm(",
          "library": "var_list.r",
          "varRefreshCmd": "cat(var_dic_list()) "
        }
      },
      "types_to_exclude": [
        "module",
        "function",
        "builtin_function_or_method",
        "instance",
        "_Feature"
      ],
      "window_display": false
    },
    "widgets": {
      "application/vnd.jupyter.widget-state+json": {
        "33831cee086d4ba1968e1eae868bcea5": {
          "model_module": "@jupyter-widgets/controls",
          "model_name": "HBoxModel",
          "model_module_version": "1.5.0",
          "state": {
            "_dom_classes": [],
            "_model_module": "@jupyter-widgets/controls",
            "_model_module_version": "1.5.0",
            "_model_name": "HBoxModel",
            "_view_count": null,
            "_view_module": "@jupyter-widgets/controls",
            "_view_module_version": "1.5.0",
            "_view_name": "HBoxView",
            "box_style": "",
            "children": [
              "IPY_MODEL_9a678bfead544da8b3521b085c389a71",
              "IPY_MODEL_49a2ac1295614f61afb24b08d27864f5",
              "IPY_MODEL_92082ca734684ab0977df9e46386ecd0"
            ],
            "layout": "IPY_MODEL_3c1a6a764fc446968c263c1b45e5c509"
          }
        },
        "9a678bfead544da8b3521b085c389a71": {
          "model_module": "@jupyter-widgets/controls",
          "model_name": "HTMLModel",
          "model_module_version": "1.5.0",
          "state": {
            "_dom_classes": [],
            "_model_module": "@jupyter-widgets/controls",
            "_model_module_version": "1.5.0",
            "_model_name": "HTMLModel",
            "_view_count": null,
            "_view_module": "@jupyter-widgets/controls",
            "_view_module_version": "1.5.0",
            "_view_name": "HTMLView",
            "description": "",
            "description_tooltip": null,
            "layout": "IPY_MODEL_88715b3cf8a445b3949d2c06bd06c945",
            "placeholder": "​",
            "style": "IPY_MODEL_c55c58652c334fad9fce2b4c8ec7813a",
            "value": "100%"
          }
        },
        "49a2ac1295614f61afb24b08d27864f5": {
          "model_module": "@jupyter-widgets/controls",
          "model_name": "FloatProgressModel",
          "model_module_version": "1.5.0",
          "state": {
            "_dom_classes": [],
            "_model_module": "@jupyter-widgets/controls",
            "_model_module_version": "1.5.0",
            "_model_name": "FloatProgressModel",
            "_view_count": null,
            "_view_module": "@jupyter-widgets/controls",
            "_view_module_version": "1.5.0",
            "_view_name": "ProgressView",
            "bar_style": "success",
            "description": "",
            "description_tooltip": null,
            "layout": "IPY_MODEL_975cdaa402f847158ceaa921eeaf47f6",
            "max": 10,
            "min": 0,
            "orientation": "horizontal",
            "style": "IPY_MODEL_fc187b4a9682442599ac266e916a5e7c",
            "value": 10
          }
        },
        "92082ca734684ab0977df9e46386ecd0": {
          "model_module": "@jupyter-widgets/controls",
          "model_name": "HTMLModel",
          "model_module_version": "1.5.0",
          "state": {
            "_dom_classes": [],
            "_model_module": "@jupyter-widgets/controls",
            "_model_module_version": "1.5.0",
            "_model_name": "HTMLModel",
            "_view_count": null,
            "_view_module": "@jupyter-widgets/controls",
            "_view_module_version": "1.5.0",
            "_view_name": "HTMLView",
            "description": "",
            "description_tooltip": null,
            "layout": "IPY_MODEL_abf4901e2d9c4081ae5a4ef2eda2265f",
            "placeholder": "​",
            "style": "IPY_MODEL_c328d30b9ae648bc84d6d424e05bbd71",
            "value": " 10/10 [39:57&lt;00:00, 238.28s/it]"
          }
        },
        "3c1a6a764fc446968c263c1b45e5c509": {
          "model_module": "@jupyter-widgets/base",
          "model_name": "LayoutModel",
          "model_module_version": "1.2.0",
          "state": {
            "_model_module": "@jupyter-widgets/base",
            "_model_module_version": "1.2.0",
            "_model_name": "LayoutModel",
            "_view_count": null,
            "_view_module": "@jupyter-widgets/base",
            "_view_module_version": "1.2.0",
            "_view_name": "LayoutView",
            "align_content": null,
            "align_items": null,
            "align_self": null,
            "border": null,
            "bottom": null,
            "display": null,
            "flex": null,
            "flex_flow": null,
            "grid_area": null,
            "grid_auto_columns": null,
            "grid_auto_flow": null,
            "grid_auto_rows": null,
            "grid_column": null,
            "grid_gap": null,
            "grid_row": null,
            "grid_template_areas": null,
            "grid_template_columns": null,
            "grid_template_rows": null,
            "height": null,
            "justify_content": null,
            "justify_items": null,
            "left": null,
            "margin": null,
            "max_height": null,
            "max_width": null,
            "min_height": null,
            "min_width": null,
            "object_fit": null,
            "object_position": null,
            "order": null,
            "overflow": null,
            "overflow_x": null,
            "overflow_y": null,
            "padding": null,
            "right": null,
            "top": null,
            "visibility": null,
            "width": null
          }
        },
        "88715b3cf8a445b3949d2c06bd06c945": {
          "model_module": "@jupyter-widgets/base",
          "model_name": "LayoutModel",
          "model_module_version": "1.2.0",
          "state": {
            "_model_module": "@jupyter-widgets/base",
            "_model_module_version": "1.2.0",
            "_model_name": "LayoutModel",
            "_view_count": null,
            "_view_module": "@jupyter-widgets/base",
            "_view_module_version": "1.2.0",
            "_view_name": "LayoutView",
            "align_content": null,
            "align_items": null,
            "align_self": null,
            "border": null,
            "bottom": null,
            "display": null,
            "flex": null,
            "flex_flow": null,
            "grid_area": null,
            "grid_auto_columns": null,
            "grid_auto_flow": null,
            "grid_auto_rows": null,
            "grid_column": null,
            "grid_gap": null,
            "grid_row": null,
            "grid_template_areas": null,
            "grid_template_columns": null,
            "grid_template_rows": null,
            "height": null,
            "justify_content": null,
            "justify_items": null,
            "left": null,
            "margin": null,
            "max_height": null,
            "max_width": null,
            "min_height": null,
            "min_width": null,
            "object_fit": null,
            "object_position": null,
            "order": null,
            "overflow": null,
            "overflow_x": null,
            "overflow_y": null,
            "padding": null,
            "right": null,
            "top": null,
            "visibility": null,
            "width": null
          }
        },
        "c55c58652c334fad9fce2b4c8ec7813a": {
          "model_module": "@jupyter-widgets/controls",
          "model_name": "DescriptionStyleModel",
          "model_module_version": "1.5.0",
          "state": {
            "_model_module": "@jupyter-widgets/controls",
            "_model_module_version": "1.5.0",
            "_model_name": "DescriptionStyleModel",
            "_view_count": null,
            "_view_module": "@jupyter-widgets/base",
            "_view_module_version": "1.2.0",
            "_view_name": "StyleView",
            "description_width": ""
          }
        },
        "975cdaa402f847158ceaa921eeaf47f6": {
          "model_module": "@jupyter-widgets/base",
          "model_name": "LayoutModel",
          "model_module_version": "1.2.0",
          "state": {
            "_model_module": "@jupyter-widgets/base",
            "_model_module_version": "1.2.0",
            "_model_name": "LayoutModel",
            "_view_count": null,
            "_view_module": "@jupyter-widgets/base",
            "_view_module_version": "1.2.0",
            "_view_name": "LayoutView",
            "align_content": null,
            "align_items": null,
            "align_self": null,
            "border": null,
            "bottom": null,
            "display": null,
            "flex": null,
            "flex_flow": null,
            "grid_area": null,
            "grid_auto_columns": null,
            "grid_auto_flow": null,
            "grid_auto_rows": null,
            "grid_column": null,
            "grid_gap": null,
            "grid_row": null,
            "grid_template_areas": null,
            "grid_template_columns": null,
            "grid_template_rows": null,
            "height": null,
            "justify_content": null,
            "justify_items": null,
            "left": null,
            "margin": null,
            "max_height": null,
            "max_width": null,
            "min_height": null,
            "min_width": null,
            "object_fit": null,
            "object_position": null,
            "order": null,
            "overflow": null,
            "overflow_x": null,
            "overflow_y": null,
            "padding": null,
            "right": null,
            "top": null,
            "visibility": null,
            "width": null
          }
        },
        "fc187b4a9682442599ac266e916a5e7c": {
          "model_module": "@jupyter-widgets/controls",
          "model_name": "ProgressStyleModel",
          "model_module_version": "1.5.0",
          "state": {
            "_model_module": "@jupyter-widgets/controls",
            "_model_module_version": "1.5.0",
            "_model_name": "ProgressStyleModel",
            "_view_count": null,
            "_view_module": "@jupyter-widgets/base",
            "_view_module_version": "1.2.0",
            "_view_name": "StyleView",
            "bar_color": null,
            "description_width": ""
          }
        },
        "abf4901e2d9c4081ae5a4ef2eda2265f": {
          "model_module": "@jupyter-widgets/base",
          "model_name": "LayoutModel",
          "model_module_version": "1.2.0",
          "state": {
            "_model_module": "@jupyter-widgets/base",
            "_model_module_version": "1.2.0",
            "_model_name": "LayoutModel",
            "_view_count": null,
            "_view_module": "@jupyter-widgets/base",
            "_view_module_version": "1.2.0",
            "_view_name": "LayoutView",
            "align_content": null,
            "align_items": null,
            "align_self": null,
            "border": null,
            "bottom": null,
            "display": null,
            "flex": null,
            "flex_flow": null,
            "grid_area": null,
            "grid_auto_columns": null,
            "grid_auto_flow": null,
            "grid_auto_rows": null,
            "grid_column": null,
            "grid_gap": null,
            "grid_row": null,
            "grid_template_areas": null,
            "grid_template_columns": null,
            "grid_template_rows": null,
            "height": null,
            "justify_content": null,
            "justify_items": null,
            "left": null,
            "margin": null,
            "max_height": null,
            "max_width": null,
            "min_height": null,
            "min_width": null,
            "object_fit": null,
            "object_position": null,
            "order": null,
            "overflow": null,
            "overflow_x": null,
            "overflow_y": null,
            "padding": null,
            "right": null,
            "top": null,
            "visibility": null,
            "width": null
          }
        },
        "c328d30b9ae648bc84d6d424e05bbd71": {
          "model_module": "@jupyter-widgets/controls",
          "model_name": "DescriptionStyleModel",
          "model_module_version": "1.5.0",
          "state": {
            "_model_module": "@jupyter-widgets/controls",
            "_model_module_version": "1.5.0",
            "_model_name": "DescriptionStyleModel",
            "_view_count": null,
            "_view_module": "@jupyter-widgets/base",
            "_view_module_version": "1.2.0",
            "_view_name": "StyleView",
            "description_width": ""
          }
        }
      }
    }
  },
  "cells": [
    {
      "cell_type": "markdown",
      "metadata": {
        "id": "Ot3c4fjZwC4T"
      },
      "source": [
        "<img src=\"https://s8.hostingkartinok.com/uploads/images/2018/08/308b49fcfbc619d629fe4604bceb67ac.jpg\" width=500, height=450>\n",
        "<h3 style=\"text-align: center;\"><b>Физтех-Школа Прикладной математики и информатики (ФПМИ) МФТИ</b></h3>"
      ]
    },
    {
      "cell_type": "markdown",
      "metadata": {
        "id": "P2JdzEXmwRU5"
      },
      "source": [
        "---"
      ]
    },
    {
      "cell_type": "markdown",
      "metadata": {
        "id": "oMohh_6CwC4W"
      },
      "source": [
        "### Задача определения частей речи, Part-Of-Speech Tagger (POS)"
      ]
    },
    {
      "cell_type": "markdown",
      "metadata": {
        "id": "2Aad2tmBwC4Y"
      },
      "source": [
        "Мы будем решать задачу определения частей речи (POS-теггинга) с помощью скрытой марковской модели (HMM)."
      ]
    },
    {
      "cell_type": "code",
      "metadata": {
        "id": "gYYV0mdmwC4f",
        "scrolled": false
      },
      "source": [
        "import nltk\n",
        "import pandas as pd\n",
        "import numpy as np\n",
        "from collections import OrderedDict, deque\n",
        "from nltk.corpus import brown\n",
        "import matplotlib.pyplot as plt"
      ],
      "execution_count": null,
      "outputs": []
    },
    {
      "cell_type": "markdown",
      "metadata": {
        "id": "FPgI52lRwC4n"
      },
      "source": [
        "Вам в помощь http://www.nltk.org/book/"
      ]
    },
    {
      "cell_type": "markdown",
      "metadata": {
        "id": "hxdJxMEAwC4o"
      },
      "source": [
        "Загрузим brown корпус"
      ]
    },
    {
      "cell_type": "code",
      "metadata": {
        "id": "ZvhXAL_9wC4q",
        "scrolled": true,
        "colab": {
          "base_uri": "https://localhost:8080/"
        },
        "outputId": "f295e0a8-6dc3-4e31-ebdb-7f0705f420a3"
      },
      "source": [
        "nltk.download('brown')"
      ],
      "execution_count": null,
      "outputs": [
        {
          "output_type": "stream",
          "name": "stderr",
          "text": [
            "[nltk_data] Downloading package brown to /root/nltk_data...\n",
            "[nltk_data]   Unzipping corpora/brown.zip.\n"
          ]
        },
        {
          "output_type": "execute_result",
          "data": {
            "text/plain": [
              "True"
            ]
          },
          "metadata": {},
          "execution_count": 2
        }
      ]
    },
    {
      "cell_type": "code",
      "source": [
        "nltk.corpus.brown.categories()"
      ],
      "metadata": {
        "colab": {
          "base_uri": "https://localhost:8080/"
        },
        "id": "OF4G0arCQizH",
        "outputId": "b21a8d29-688a-4bda-9a40-4698f78875b6"
      },
      "execution_count": null,
      "outputs": [
        {
          "output_type": "execute_result",
          "data": {
            "text/plain": [
              "['adventure',\n",
              " 'belles_lettres',\n",
              " 'editorial',\n",
              " 'fiction',\n",
              " 'government',\n",
              " 'hobbies',\n",
              " 'humor',\n",
              " 'learned',\n",
              " 'lore',\n",
              " 'mystery',\n",
              " 'news',\n",
              " 'religion',\n",
              " 'reviews',\n",
              " 'romance',\n",
              " 'science_fiction']"
            ]
          },
          "metadata": {},
          "execution_count": 3
        }
      ]
    },
    {
      "cell_type": "markdown",
      "metadata": {
        "id": "ASm3Dpggs25b"
      },
      "source": [
        "Существует множество наборов грамматических тегов, или тегсетов, например:\n",
        "* НКРЯ\n",
        "* Mystem\n",
        "* UPenn\n",
        "* OpenCorpora (его использует pymorphy2)\n",
        "* Universal Dependencies"
      ]
    },
    {
      "cell_type": "markdown",
      "metadata": {
        "id": "wto8PSC6wC4v"
      },
      "source": [
        "<b>Существует не одна система тегирования, поэтому будьте внимательны, когда прогнозируете тег слов в тексте и вычисляете качество прогноза. Можете получить несправедливо низкое качество вашего решения."
      ]
    },
    {
      "cell_type": "markdown",
      "metadata": {
        "id": "eJ6tuHA_wC4z"
      },
      "source": [
        "На данный момент стандартом является **Universal Dependencies**. Подробнее про проект можно почитать [вот тут](http://universaldependencies.org/), а про теги — [вот тут](http://universaldependencies.org/u/pos/)"
      ]
    },
    {
      "cell_type": "code",
      "metadata": {
        "id": "Cht7dImWwC42",
        "colab": {
          "base_uri": "https://localhost:8080/"
        },
        "outputId": "2b440c13-d0b6-46ca-ed63-a5aa7b08cb3d"
      },
      "source": [
        "nltk.download('universal_tagset')"
      ],
      "execution_count": null,
      "outputs": [
        {
          "output_type": "stream",
          "name": "stderr",
          "text": [
            "[nltk_data] Downloading package universal_tagset to /root/nltk_data...\n",
            "[nltk_data]   Unzipping taggers/universal_tagset.zip.\n"
          ]
        },
        {
          "output_type": "execute_result",
          "data": {
            "text/plain": [
              "True"
            ]
          },
          "metadata": {},
          "execution_count": 4
        }
      ]
    },
    {
      "cell_type": "markdown",
      "metadata": {
        "id": "IiTimRRywC47"
      },
      "source": [
        "<img src=\"https://4.bp.blogspot.com/-IcFli2wljs0/WrVCw3umY_I/AAAAAAAACYM/UJ_neoUAs3wF95dj2Ouf3BzxXzB_b2TbQCLcBGAs/s1600/postags.png\">\n"
      ]
    },
    {
      "cell_type": "markdown",
      "metadata": {
        "id": "iyDBMcBSwC48"
      },
      "source": [
        "Мы имеем массив предложений пар (слово-тег)"
      ]
    },
    {
      "cell_type": "code",
      "metadata": {
        "id": "BobflewQwC4-",
        "scrolled": false,
        "colab": {
          "base_uri": "https://localhost:8080/"
        },
        "outputId": "236bd27a-62ec-4069-bac4-05912f3f3ab7"
      },
      "source": [
        "brown_tagged_sents = brown.tagged_sents(tagset=\"universal\")\n",
        "brown_tagged_sents"
      ],
      "execution_count": null,
      "outputs": [
        {
          "output_type": "execute_result",
          "data": {
            "text/plain": [
              "[[('The', 'DET'), ('Fulton', 'NOUN'), ('County', 'NOUN'), ('Grand', 'ADJ'), ('Jury', 'NOUN'), ('said', 'VERB'), ('Friday', 'NOUN'), ('an', 'DET'), ('investigation', 'NOUN'), ('of', 'ADP'), (\"Atlanta's\", 'NOUN'), ('recent', 'ADJ'), ('primary', 'NOUN'), ('election', 'NOUN'), ('produced', 'VERB'), ('``', '.'), ('no', 'DET'), ('evidence', 'NOUN'), (\"''\", '.'), ('that', 'ADP'), ('any', 'DET'), ('irregularities', 'NOUN'), ('took', 'VERB'), ('place', 'NOUN'), ('.', '.')], [('The', 'DET'), ('jury', 'NOUN'), ('further', 'ADV'), ('said', 'VERB'), ('in', 'ADP'), ('term-end', 'NOUN'), ('presentments', 'NOUN'), ('that', 'ADP'), ('the', 'DET'), ('City', 'NOUN'), ('Executive', 'ADJ'), ('Committee', 'NOUN'), (',', '.'), ('which', 'DET'), ('had', 'VERB'), ('over-all', 'ADJ'), ('charge', 'NOUN'), ('of', 'ADP'), ('the', 'DET'), ('election', 'NOUN'), (',', '.'), ('``', '.'), ('deserves', 'VERB'), ('the', 'DET'), ('praise', 'NOUN'), ('and', 'CONJ'), ('thanks', 'NOUN'), ('of', 'ADP'), ('the', 'DET'), ('City', 'NOUN'), ('of', 'ADP'), ('Atlanta', 'NOUN'), (\"''\", '.'), ('for', 'ADP'), ('the', 'DET'), ('manner', 'NOUN'), ('in', 'ADP'), ('which', 'DET'), ('the', 'DET'), ('election', 'NOUN'), ('was', 'VERB'), ('conducted', 'VERB'), ('.', '.')], ...]"
            ]
          },
          "metadata": {},
          "execution_count": 5
        }
      ]
    },
    {
      "cell_type": "code",
      "source": [
        "len(brown_tagged_sents)"
      ],
      "metadata": {
        "colab": {
          "base_uri": "https://localhost:8080/"
        },
        "id": "Ab8wKxILRmQl",
        "outputId": "d08674b1-13b5-49b0-e5e8-b76a7135f889"
      },
      "execution_count": null,
      "outputs": [
        {
          "output_type": "execute_result",
          "data": {
            "text/plain": [
              "57340"
            ]
          },
          "metadata": {},
          "execution_count": 6
        }
      ]
    },
    {
      "cell_type": "markdown",
      "metadata": {
        "id": "jSu1KqRrwC5L"
      },
      "source": [
        "Первое предложение"
      ]
    },
    {
      "cell_type": "code",
      "metadata": {
        "id": "zCHCZPlkwC5N",
        "colab": {
          "base_uri": "https://localhost:8080/"
        },
        "outputId": "13856743-6332-4e9d-a569-cc0a3773398a"
      },
      "source": [
        "brown_tagged_sents[0]"
      ],
      "execution_count": null,
      "outputs": [
        {
          "output_type": "execute_result",
          "data": {
            "text/plain": [
              "[('The', 'DET'),\n",
              " ('Fulton', 'NOUN'),\n",
              " ('County', 'NOUN'),\n",
              " ('Grand', 'ADJ'),\n",
              " ('Jury', 'NOUN'),\n",
              " ('said', 'VERB'),\n",
              " ('Friday', 'NOUN'),\n",
              " ('an', 'DET'),\n",
              " ('investigation', 'NOUN'),\n",
              " ('of', 'ADP'),\n",
              " (\"Atlanta's\", 'NOUN'),\n",
              " ('recent', 'ADJ'),\n",
              " ('primary', 'NOUN'),\n",
              " ('election', 'NOUN'),\n",
              " ('produced', 'VERB'),\n",
              " ('``', '.'),\n",
              " ('no', 'DET'),\n",
              " ('evidence', 'NOUN'),\n",
              " (\"''\", '.'),\n",
              " ('that', 'ADP'),\n",
              " ('any', 'DET'),\n",
              " ('irregularities', 'NOUN'),\n",
              " ('took', 'VERB'),\n",
              " ('place', 'NOUN'),\n",
              " ('.', '.')]"
            ]
          },
          "metadata": {},
          "execution_count": 7
        }
      ]
    },
    {
      "cell_type": "markdown",
      "metadata": {
        "id": "SIV2MiRxwC5Q"
      },
      "source": [
        "Все пары (слово-тег)"
      ]
    },
    {
      "cell_type": "code",
      "metadata": {
        "id": "dVx9e9HcwC5R",
        "colab": {
          "base_uri": "https://localhost:8080/"
        },
        "outputId": "e8dc380e-f232-4d25-8335-c29de213ff23"
      },
      "source": [
        "brown_tagged_words = brown.tagged_words(tagset='universal')\n",
        "brown_tagged_words"
      ],
      "execution_count": null,
      "outputs": [
        {
          "output_type": "execute_result",
          "data": {
            "text/plain": [
              "[('The', 'DET'), ('Fulton', 'NOUN'), ...]"
            ]
          },
          "metadata": {},
          "execution_count": 8
        }
      ]
    },
    {
      "cell_type": "code",
      "source": [
        "len(brown_tagged_words)"
      ],
      "metadata": {
        "colab": {
          "base_uri": "https://localhost:8080/"
        },
        "id": "gb57LDoQRvw5",
        "outputId": "bd6e7a06-e2dc-4b25-9a91-bd6ff13e6087"
      },
      "execution_count": null,
      "outputs": [
        {
          "output_type": "execute_result",
          "data": {
            "text/plain": [
              "1161192"
            ]
          },
          "metadata": {},
          "execution_count": 9
        }
      ]
    },
    {
      "cell_type": "markdown",
      "metadata": {
        "id": "y-ADby6LwC5V"
      },
      "source": [
        "Проанализируйте данные, с которыми Вы работаете. Используйте `nltk.FreqDist()` для подсчета частоты встречаемости тега и слова в нашем корпусе. Под частой элемента подразумевается кол-во этого элемента в корпусе."
      ]
    },
    {
      "cell_type": "code",
      "metadata": {
        "scrolled": false,
        "id": "JzRoXuKFcMZK"
      },
      "source": [
        "# Приведем слова к нижнему регистру\n",
        "brown_tagged_words = list(map(lambda x: (x[0].lower(), x[1]), brown_tagged_words))"
      ],
      "execution_count": null,
      "outputs": []
    },
    {
      "cell_type": "code",
      "source": [
        "brown_tagged_words"
      ],
      "metadata": {
        "id": "_dVwzrq_TB7n",
        "colab": {
          "base_uri": "https://localhost:8080/"
        },
        "outputId": "8644bb02-efc0-484f-ac85-2e71c5571cff"
      },
      "execution_count": null,
      "outputs": [
        {
          "output_type": "execute_result",
          "data": {
            "text/plain": [
              "[('the', 'DET'),\n",
              " ('fulton', 'NOUN'),\n",
              " ('county', 'NOUN'),\n",
              " ('grand', 'ADJ'),\n",
              " ('jury', 'NOUN'),\n",
              " ('said', 'VERB'),\n",
              " ('friday', 'NOUN'),\n",
              " ('an', 'DET'),\n",
              " ('investigation', 'NOUN'),\n",
              " ('of', 'ADP'),\n",
              " (\"atlanta's\", 'NOUN'),\n",
              " ('recent', 'ADJ'),\n",
              " ('primary', 'NOUN'),\n",
              " ('election', 'NOUN'),\n",
              " ('produced', 'VERB'),\n",
              " ('``', '.'),\n",
              " ('no', 'DET'),\n",
              " ('evidence', 'NOUN'),\n",
              " (\"''\", '.'),\n",
              " ('that', 'ADP'),\n",
              " ('any', 'DET'),\n",
              " ('irregularities', 'NOUN'),\n",
              " ('took', 'VERB'),\n",
              " ('place', 'NOUN'),\n",
              " ('.', '.'),\n",
              " ('the', 'DET'),\n",
              " ('jury', 'NOUN'),\n",
              " ('further', 'ADV'),\n",
              " ('said', 'VERB'),\n",
              " ('in', 'ADP'),\n",
              " ('term-end', 'NOUN'),\n",
              " ('presentments', 'NOUN'),\n",
              " ('that', 'ADP'),\n",
              " ('the', 'DET'),\n",
              " ('city', 'NOUN'),\n",
              " ('executive', 'ADJ'),\n",
              " ('committee', 'NOUN'),\n",
              " (',', '.'),\n",
              " ('which', 'DET'),\n",
              " ('had', 'VERB'),\n",
              " ('over-all', 'ADJ'),\n",
              " ('charge', 'NOUN'),\n",
              " ('of', 'ADP'),\n",
              " ('the', 'DET'),\n",
              " ('election', 'NOUN'),\n",
              " (',', '.'),\n",
              " ('``', '.'),\n",
              " ('deserves', 'VERB'),\n",
              " ('the', 'DET'),\n",
              " ('praise', 'NOUN'),\n",
              " ('and', 'CONJ'),\n",
              " ('thanks', 'NOUN'),\n",
              " ('of', 'ADP'),\n",
              " ('the', 'DET'),\n",
              " ('city', 'NOUN'),\n",
              " ('of', 'ADP'),\n",
              " ('atlanta', 'NOUN'),\n",
              " (\"''\", '.'),\n",
              " ('for', 'ADP'),\n",
              " ('the', 'DET'),\n",
              " ('manner', 'NOUN'),\n",
              " ('in', 'ADP'),\n",
              " ('which', 'DET'),\n",
              " ('the', 'DET'),\n",
              " ('election', 'NOUN'),\n",
              " ('was', 'VERB'),\n",
              " ('conducted', 'VERB'),\n",
              " ('.', '.'),\n",
              " ('the', 'DET'),\n",
              " ('september-october', 'NOUN'),\n",
              " ('term', 'NOUN'),\n",
              " ('jury', 'NOUN'),\n",
              " ('had', 'VERB'),\n",
              " ('been', 'VERB'),\n",
              " ('charged', 'VERB'),\n",
              " ('by', 'ADP'),\n",
              " ('fulton', 'NOUN'),\n",
              " ('superior', 'ADJ'),\n",
              " ('court', 'NOUN'),\n",
              " ('judge', 'NOUN'),\n",
              " ('durwood', 'NOUN'),\n",
              " ('pye', 'NOUN'),\n",
              " ('to', 'PRT'),\n",
              " ('investigate', 'VERB'),\n",
              " ('reports', 'NOUN'),\n",
              " ('of', 'ADP'),\n",
              " ('possible', 'ADJ'),\n",
              " ('``', '.'),\n",
              " ('irregularities', 'NOUN'),\n",
              " (\"''\", '.'),\n",
              " ('in', 'ADP'),\n",
              " ('the', 'DET'),\n",
              " ('hard-fought', 'ADJ'),\n",
              " ('primary', 'NOUN'),\n",
              " ('which', 'DET'),\n",
              " ('was', 'VERB'),\n",
              " ('won', 'VERB'),\n",
              " ('by', 'ADP'),\n",
              " ('mayor-nominate', 'NOUN'),\n",
              " ('ivan', 'NOUN'),\n",
              " ('allen', 'NOUN'),\n",
              " ('jr.', 'NOUN'),\n",
              " ('.', '.'),\n",
              " ('``', '.'),\n",
              " ('only', 'ADV'),\n",
              " ('a', 'DET'),\n",
              " ('relative', 'ADJ'),\n",
              " ('handful', 'NOUN'),\n",
              " ('of', 'ADP'),\n",
              " ('such', 'ADJ'),\n",
              " ('reports', 'NOUN'),\n",
              " ('was', 'VERB'),\n",
              " ('received', 'VERB'),\n",
              " (\"''\", '.'),\n",
              " (',', '.'),\n",
              " ('the', 'DET'),\n",
              " ('jury', 'NOUN'),\n",
              " ('said', 'VERB'),\n",
              " (',', '.'),\n",
              " ('``', '.'),\n",
              " ('considering', 'ADP'),\n",
              " ('the', 'DET'),\n",
              " ('widespread', 'ADJ'),\n",
              " ('interest', 'NOUN'),\n",
              " ('in', 'ADP'),\n",
              " ('the', 'DET'),\n",
              " ('election', 'NOUN'),\n",
              " (',', '.'),\n",
              " ('the', 'DET'),\n",
              " ('number', 'NOUN'),\n",
              " ('of', 'ADP'),\n",
              " ('voters', 'NOUN'),\n",
              " ('and', 'CONJ'),\n",
              " ('the', 'DET'),\n",
              " ('size', 'NOUN'),\n",
              " ('of', 'ADP'),\n",
              " ('this', 'DET'),\n",
              " ('city', 'NOUN'),\n",
              " (\"''\", '.'),\n",
              " ('.', '.'),\n",
              " ('the', 'DET'),\n",
              " ('jury', 'NOUN'),\n",
              " ('said', 'VERB'),\n",
              " ('it', 'PRON'),\n",
              " ('did', 'VERB'),\n",
              " ('find', 'VERB'),\n",
              " ('that', 'ADP'),\n",
              " ('many', 'ADJ'),\n",
              " ('of', 'ADP'),\n",
              " (\"georgia's\", 'NOUN'),\n",
              " ('registration', 'NOUN'),\n",
              " ('and', 'CONJ'),\n",
              " ('election', 'NOUN'),\n",
              " ('laws', 'NOUN'),\n",
              " ('``', '.'),\n",
              " ('are', 'VERB'),\n",
              " ('outmoded', 'ADJ'),\n",
              " ('or', 'CONJ'),\n",
              " ('inadequate', 'ADJ'),\n",
              " ('and', 'CONJ'),\n",
              " ('often', 'ADV'),\n",
              " ('ambiguous', 'ADJ'),\n",
              " (\"''\", '.'),\n",
              " ('.', '.'),\n",
              " ('it', 'PRON'),\n",
              " ('recommended', 'VERB'),\n",
              " ('that', 'ADP'),\n",
              " ('fulton', 'NOUN'),\n",
              " ('legislators', 'NOUN'),\n",
              " ('act', 'VERB'),\n",
              " ('``', '.'),\n",
              " ('to', 'PRT'),\n",
              " ('have', 'VERB'),\n",
              " ('these', 'DET'),\n",
              " ('laws', 'NOUN'),\n",
              " ('studied', 'VERB'),\n",
              " ('and', 'CONJ'),\n",
              " ('revised', 'VERB'),\n",
              " ('to', 'ADP'),\n",
              " ('the', 'DET'),\n",
              " ('end', 'NOUN'),\n",
              " ('of', 'ADP'),\n",
              " ('modernizing', 'VERB'),\n",
              " ('and', 'CONJ'),\n",
              " ('improving', 'VERB'),\n",
              " ('them', 'PRON'),\n",
              " (\"''\", '.'),\n",
              " ('.', '.'),\n",
              " ('the', 'DET'),\n",
              " ('grand', 'ADJ'),\n",
              " ('jury', 'NOUN'),\n",
              " ('commented', 'VERB'),\n",
              " ('on', 'ADP'),\n",
              " ('a', 'DET'),\n",
              " ('number', 'NOUN'),\n",
              " ('of', 'ADP'),\n",
              " ('other', 'ADJ'),\n",
              " ('topics', 'NOUN'),\n",
              " (',', '.'),\n",
              " ('among', 'ADP'),\n",
              " ('them', 'PRON'),\n",
              " ('the', 'DET'),\n",
              " ('atlanta', 'NOUN'),\n",
              " ('and', 'CONJ'),\n",
              " ('fulton', 'NOUN'),\n",
              " ('county', 'NOUN'),\n",
              " ('purchasing', 'VERB'),\n",
              " ('departments', 'NOUN'),\n",
              " ('which', 'DET'),\n",
              " ('it', 'PRON'),\n",
              " ('said', 'VERB'),\n",
              " ('``', '.'),\n",
              " ('are', 'VERB'),\n",
              " ('well', 'ADV'),\n",
              " ('operated', 'VERB'),\n",
              " ('and', 'CONJ'),\n",
              " ('follow', 'VERB'),\n",
              " ('generally', 'ADV'),\n",
              " ('accepted', 'VERB'),\n",
              " ('practices', 'NOUN'),\n",
              " ('which', 'DET'),\n",
              " ('inure', 'VERB'),\n",
              " ('to', 'ADP'),\n",
              " ('the', 'DET'),\n",
              " ('best', 'ADJ'),\n",
              " ('interest', 'NOUN'),\n",
              " ('of', 'ADP'),\n",
              " ('both', 'DET'),\n",
              " ('governments', 'NOUN'),\n",
              " (\"''\", '.'),\n",
              " ('.', '.'),\n",
              " ('merger', 'NOUN'),\n",
              " ('proposed', 'VERB'),\n",
              " ('however', 'ADV'),\n",
              " (',', '.'),\n",
              " ('the', 'DET'),\n",
              " ('jury', 'NOUN'),\n",
              " ('said', 'VERB'),\n",
              " ('it', 'PRON'),\n",
              " ('believes', 'VERB'),\n",
              " ('``', '.'),\n",
              " ('these', 'DET'),\n",
              " ('two', 'NUM'),\n",
              " ('offices', 'NOUN'),\n",
              " ('should', 'VERB'),\n",
              " ('be', 'VERB'),\n",
              " ('combined', 'VERB'),\n",
              " ('to', 'PRT'),\n",
              " ('achieve', 'VERB'),\n",
              " ('greater', 'ADJ'),\n",
              " ('efficiency', 'NOUN'),\n",
              " ('and', 'CONJ'),\n",
              " ('reduce', 'VERB'),\n",
              " ('the', 'DET'),\n",
              " ('cost', 'NOUN'),\n",
              " ('of', 'ADP'),\n",
              " ('administration', 'NOUN'),\n",
              " (\"''\", '.'),\n",
              " ('.', '.'),\n",
              " ('the', 'DET'),\n",
              " ('city', 'NOUN'),\n",
              " ('purchasing', 'VERB'),\n",
              " ('department', 'NOUN'),\n",
              " (',', '.'),\n",
              " ('the', 'DET'),\n",
              " ('jury', 'NOUN'),\n",
              " ('said', 'VERB'),\n",
              " (',', '.'),\n",
              " ('``', '.'),\n",
              " ('is', 'VERB'),\n",
              " ('lacking', 'VERB'),\n",
              " ('in', 'ADP'),\n",
              " ('experienced', 'VERB'),\n",
              " ('clerical', 'ADJ'),\n",
              " ('personnel', 'NOUN'),\n",
              " ('as', 'ADP'),\n",
              " ('a', 'DET'),\n",
              " ('result', 'NOUN'),\n",
              " ('of', 'ADP'),\n",
              " ('city', 'NOUN'),\n",
              " ('personnel', 'NOUN'),\n",
              " ('policies', 'NOUN'),\n",
              " (\"''\", '.'),\n",
              " ('.', '.'),\n",
              " ('it', 'PRON'),\n",
              " ('urged', 'VERB'),\n",
              " ('that', 'ADP'),\n",
              " ('the', 'DET'),\n",
              " ('city', 'NOUN'),\n",
              " ('``', '.'),\n",
              " ('take', 'VERB'),\n",
              " ('steps', 'NOUN'),\n",
              " ('to', 'PRT'),\n",
              " ('remedy', 'VERB'),\n",
              " (\"''\", '.'),\n",
              " ('this', 'DET'),\n",
              " ('problem', 'NOUN'),\n",
              " ('.', '.'),\n",
              " ('implementation', 'NOUN'),\n",
              " ('of', 'ADP'),\n",
              " (\"georgia's\", 'NOUN'),\n",
              " ('automobile', 'NOUN'),\n",
              " ('title', 'NOUN'),\n",
              " ('law', 'NOUN'),\n",
              " ('was', 'VERB'),\n",
              " ('also', 'ADV'),\n",
              " ('recommended', 'VERB'),\n",
              " ('by', 'ADP'),\n",
              " ('the', 'DET'),\n",
              " ('outgoing', 'ADJ'),\n",
              " ('jury', 'NOUN'),\n",
              " ('.', '.'),\n",
              " ('it', 'PRON'),\n",
              " ('urged', 'VERB'),\n",
              " ('that', 'ADP'),\n",
              " ('the', 'DET'),\n",
              " ('next', 'ADJ'),\n",
              " ('legislature', 'NOUN'),\n",
              " ('``', '.'),\n",
              " ('provide', 'VERB'),\n",
              " ('enabling', 'VERB'),\n",
              " ('funds', 'NOUN'),\n",
              " ('and', 'CONJ'),\n",
              " ('re-set', 'VERB'),\n",
              " ('the', 'DET'),\n",
              " ('effective', 'ADJ'),\n",
              " ('date', 'NOUN'),\n",
              " ('so', 'ADP'),\n",
              " ('that', 'ADP'),\n",
              " ('an', 'DET'),\n",
              " ('orderly', 'ADJ'),\n",
              " ('implementation', 'NOUN'),\n",
              " ('of', 'ADP'),\n",
              " ('the', 'DET'),\n",
              " ('law', 'NOUN'),\n",
              " ('may', 'VERB'),\n",
              " ('be', 'VERB'),\n",
              " ('effected', 'VERB'),\n",
              " (\"''\", '.'),\n",
              " ('.', '.'),\n",
              " ('the', 'DET'),\n",
              " ('grand', 'ADJ'),\n",
              " ('jury', 'NOUN'),\n",
              " ('took', 'VERB'),\n",
              " ('a', 'DET'),\n",
              " ('swipe', 'NOUN'),\n",
              " ('at', 'ADP'),\n",
              " ('the', 'DET'),\n",
              " ('state', 'NOUN'),\n",
              " ('welfare', 'NOUN'),\n",
              " (\"department's\", 'NOUN'),\n",
              " ('handling', 'NOUN'),\n",
              " ('of', 'ADP'),\n",
              " ('federal', 'ADJ'),\n",
              " ('funds', 'NOUN'),\n",
              " ('granted', 'VERB'),\n",
              " ('for', 'ADP'),\n",
              " ('child', 'NOUN'),\n",
              " ('welfare', 'NOUN'),\n",
              " ('services', 'NOUN'),\n",
              " ('in', 'ADP'),\n",
              " ('foster', 'ADJ'),\n",
              " ('homes', 'NOUN'),\n",
              " ('.', '.'),\n",
              " ('``', '.'),\n",
              " ('this', 'DET'),\n",
              " ('is', 'VERB'),\n",
              " ('one', 'NUM'),\n",
              " ('of', 'ADP'),\n",
              " ('the', 'DET'),\n",
              " ('major', 'ADJ'),\n",
              " ('items', 'NOUN'),\n",
              " ('in', 'ADP'),\n",
              " ('the', 'DET'),\n",
              " ('fulton', 'NOUN'),\n",
              " ('county', 'NOUN'),\n",
              " ('general', 'ADJ'),\n",
              " ('assistance', 'NOUN'),\n",
              " ('program', 'NOUN'),\n",
              " (\"''\", '.'),\n",
              " (',', '.'),\n",
              " ('the', 'DET'),\n",
              " ('jury', 'NOUN'),\n",
              " ('said', 'VERB'),\n",
              " (',', '.'),\n",
              " ('but', 'CONJ'),\n",
              " ('the', 'DET'),\n",
              " ('state', 'NOUN'),\n",
              " ('welfare', 'NOUN'),\n",
              " ('department', 'NOUN'),\n",
              " ('``', '.'),\n",
              " ('has', 'VERB'),\n",
              " ('seen', 'VERB'),\n",
              " ('fit', 'ADJ'),\n",
              " ('to', 'PRT'),\n",
              " ('distribute', 'VERB'),\n",
              " ('these', 'DET'),\n",
              " ('funds', 'NOUN'),\n",
              " ('through', 'ADP'),\n",
              " ('the', 'DET'),\n",
              " ('welfare', 'NOUN'),\n",
              " ('departments', 'NOUN'),\n",
              " ('of', 'ADP'),\n",
              " ('all', 'PRT'),\n",
              " ('the', 'DET'),\n",
              " ('counties', 'NOUN'),\n",
              " ('in', 'ADP'),\n",
              " ('the', 'DET'),\n",
              " ('state', 'NOUN'),\n",
              " ('with', 'ADP'),\n",
              " ('the', 'DET'),\n",
              " ('exception', 'NOUN'),\n",
              " ('of', 'ADP'),\n",
              " ('fulton', 'NOUN'),\n",
              " ('county', 'NOUN'),\n",
              " (',', '.'),\n",
              " ('which', 'DET'),\n",
              " ('receives', 'VERB'),\n",
              " ('none', 'NOUN'),\n",
              " ('of', 'ADP'),\n",
              " ('this', 'DET'),\n",
              " ('money', 'NOUN'),\n",
              " ('.', '.'),\n",
              " ('the', 'DET'),\n",
              " ('jurors', 'NOUN'),\n",
              " ('said', 'VERB'),\n",
              " ('they', 'PRON'),\n",
              " ('realize', 'VERB'),\n",
              " ('``', '.'),\n",
              " ('a', 'DET'),\n",
              " ('proportionate', 'ADJ'),\n",
              " ('distribution', 'NOUN'),\n",
              " ('of', 'ADP'),\n",
              " ('these', 'DET'),\n",
              " ('funds', 'NOUN'),\n",
              " ('might', 'VERB'),\n",
              " ('disable', 'VERB'),\n",
              " ('this', 'DET'),\n",
              " ('program', 'NOUN'),\n",
              " ('in', 'ADP'),\n",
              " ('our', 'DET'),\n",
              " ('less', 'ADV'),\n",
              " ('populous', 'ADJ'),\n",
              " ('counties', 'NOUN'),\n",
              " (\"''\", '.'),\n",
              " ('.', '.'),\n",
              " ('nevertheless', 'ADV'),\n",
              " (',', '.'),\n",
              " ('``', '.'),\n",
              " ('we', 'PRON'),\n",
              " ('feel', 'VERB'),\n",
              " ('that', 'ADP'),\n",
              " ('in', 'ADP'),\n",
              " ('the', 'DET'),\n",
              " ('future', 'NOUN'),\n",
              " ('fulton', 'NOUN'),\n",
              " ('county', 'NOUN'),\n",
              " ('should', 'VERB'),\n",
              " ('receive', 'VERB'),\n",
              " ('some', 'DET'),\n",
              " ('portion', 'NOUN'),\n",
              " ('of', 'ADP'),\n",
              " ('these', 'DET'),\n",
              " ('available', 'ADJ'),\n",
              " ('funds', 'NOUN'),\n",
              " (\"''\", '.'),\n",
              " (',', '.'),\n",
              " ('the', 'DET'),\n",
              " ('jurors', 'NOUN'),\n",
              " ('said', 'VERB'),\n",
              " ('.', '.'),\n",
              " ('``', '.'),\n",
              " ('failure', 'NOUN'),\n",
              " ('to', 'PRT'),\n",
              " ('do', 'VERB'),\n",
              " ('this', 'DET'),\n",
              " ('will', 'VERB'),\n",
              " ('continue', 'VERB'),\n",
              " ('to', 'PRT'),\n",
              " ('place', 'VERB'),\n",
              " ('a', 'DET'),\n",
              " ('disproportionate', 'ADJ'),\n",
              " ('burden', 'NOUN'),\n",
              " (\"''\", '.'),\n",
              " ('on', 'ADP'),\n",
              " ('fulton', 'NOUN'),\n",
              " ('taxpayers', 'NOUN'),\n",
              " ('.', '.'),\n",
              " ('the', 'DET'),\n",
              " ('jury', 'NOUN'),\n",
              " ('also', 'ADV'),\n",
              " ('commented', 'VERB'),\n",
              " ('on', 'ADP'),\n",
              " ('the', 'DET'),\n",
              " ('fulton', 'NOUN'),\n",
              " (\"ordinary's\", 'NOUN'),\n",
              " ('court', 'NOUN'),\n",
              " ('which', 'DET'),\n",
              " ('has', 'VERB'),\n",
              " ('been', 'VERB'),\n",
              " ('under', 'ADP'),\n",
              " ('fire', 'NOUN'),\n",
              " ('for', 'ADP'),\n",
              " ('its', 'DET'),\n",
              " ('practices', 'NOUN'),\n",
              " ('in', 'ADP'),\n",
              " ('the', 'DET'),\n",
              " ('appointment', 'NOUN'),\n",
              " ('of', 'ADP'),\n",
              " ('appraisers', 'NOUN'),\n",
              " (',', '.'),\n",
              " ('guardians', 'NOUN'),\n",
              " ('and', 'CONJ'),\n",
              " ('administrators', 'NOUN'),\n",
              " ('and', 'CONJ'),\n",
              " ('the', 'DET'),\n",
              " ('awarding', 'NOUN'),\n",
              " ('of', 'ADP'),\n",
              " ('fees', 'NOUN'),\n",
              " ('and', 'CONJ'),\n",
              " ('compensation', 'NOUN'),\n",
              " ('.', '.'),\n",
              " ('wards', 'NOUN'),\n",
              " ('protected', 'VERB'),\n",
              " ('the', 'DET'),\n",
              " ('jury', 'NOUN'),\n",
              " ('said', 'VERB'),\n",
              " ('it', 'PRON'),\n",
              " ('found', 'VERB'),\n",
              " ('the', 'DET'),\n",
              " ('court', 'NOUN'),\n",
              " ('``', '.'),\n",
              " ('has', 'VERB'),\n",
              " ('incorporated', 'VERB'),\n",
              " ('into', 'ADP'),\n",
              " ('its', 'DET'),\n",
              " ('operating', 'VERB'),\n",
              " ('procedures', 'NOUN'),\n",
              " ('the', 'DET'),\n",
              " ('recommendations', 'NOUN'),\n",
              " (\"''\", '.'),\n",
              " ('of', 'ADP'),\n",
              " ('two', 'NUM'),\n",
              " ('previous', 'ADJ'),\n",
              " ('grand', 'ADJ'),\n",
              " ('juries', 'NOUN'),\n",
              " (',', '.'),\n",
              " ('the', 'DET'),\n",
              " ('atlanta', 'NOUN'),\n",
              " ('bar', 'NOUN'),\n",
              " ('association', 'NOUN'),\n",
              " ('and', 'CONJ'),\n",
              " ('an', 'DET'),\n",
              " ('interim', 'NOUN'),\n",
              " ('citizens', 'NOUN'),\n",
              " ('committee', 'NOUN'),\n",
              " ('.', '.'),\n",
              " ('``', '.'),\n",
              " ('these', 'DET'),\n",
              " ('actions', 'NOUN'),\n",
              " ('should', 'VERB'),\n",
              " ('serve', 'VERB'),\n",
              " ('to', 'PRT'),\n",
              " ('protect', 'VERB'),\n",
              " ('in', 'ADP'),\n",
              " ('fact', 'NOUN'),\n",
              " ('and', 'CONJ'),\n",
              " ('in', 'ADP'),\n",
              " ('effect', 'NOUN'),\n",
              " ('the', 'DET'),\n",
              " (\"court's\", 'NOUN'),\n",
              " ('wards', 'NOUN'),\n",
              " ('from', 'ADP'),\n",
              " ('undue', 'ADJ'),\n",
              " ('costs', 'NOUN'),\n",
              " ('and', 'CONJ'),\n",
              " ('its', 'DET'),\n",
              " ('appointed', 'VERB'),\n",
              " ('and', 'CONJ'),\n",
              " ('elected', 'VERB'),\n",
              " ('servants', 'NOUN'),\n",
              " ('from', 'ADP'),\n",
              " ('unmeritorious', 'ADJ'),\n",
              " ('criticisms', 'NOUN'),\n",
              " (\"''\", '.'),\n",
              " (',', '.'),\n",
              " ('the', 'DET'),\n",
              " ('jury', 'NOUN'),\n",
              " ('said', 'VERB'),\n",
              " ('.', '.'),\n",
              " ('regarding', 'ADP'),\n",
              " (\"atlanta's\", 'NOUN'),\n",
              " ('new', 'ADJ'),\n",
              " ('multi-million-dollar', 'ADJ'),\n",
              " ('airport', 'NOUN'),\n",
              " (',', '.'),\n",
              " ('the', 'DET'),\n",
              " ('jury', 'NOUN'),\n",
              " ('recommended', 'VERB'),\n",
              " ('``', '.'),\n",
              " ('that', 'ADP'),\n",
              " ('when', 'ADV'),\n",
              " ('the', 'DET'),\n",
              " ('new', 'ADJ'),\n",
              " ('management', 'NOUN'),\n",
              " ('takes', 'VERB'),\n",
              " ('charge', 'NOUN'),\n",
              " ('jan.', 'NOUN'),\n",
              " ('1', 'NUM'),\n",
              " ('the', 'DET'),\n",
              " ('airport', 'NOUN'),\n",
              " ('be', 'VERB'),\n",
              " ('operated', 'VERB'),\n",
              " ('in', 'ADP'),\n",
              " ('a', 'DET'),\n",
              " ('manner', 'NOUN'),\n",
              " ('that', 'PRON'),\n",
              " ('will', 'VERB'),\n",
              " ('eliminate', 'VERB'),\n",
              " ('political', 'ADJ'),\n",
              " ('influences', 'NOUN'),\n",
              " (\"''\", '.'),\n",
              " ('.', '.'),\n",
              " ('the', 'DET'),\n",
              " ('jury', 'NOUN'),\n",
              " ('did', 'VERB'),\n",
              " ('not', 'ADV'),\n",
              " ('elaborate', 'VERB'),\n",
              " (',', '.'),\n",
              " ('but', 'CONJ'),\n",
              " ('it', 'PRON'),\n",
              " ('added', 'VERB'),\n",
              " ('that', 'ADP'),\n",
              " ('``', '.'),\n",
              " ('there', 'PRT'),\n",
              " ('should', 'VERB'),\n",
              " ('be', 'VERB'),\n",
              " ('periodic', 'ADJ'),\n",
              " ('surveillance', 'NOUN'),\n",
              " ('of', 'ADP'),\n",
              " ('the', 'DET'),\n",
              " ('pricing', 'VERB'),\n",
              " ('practices', 'NOUN'),\n",
              " ('of', 'ADP'),\n",
              " ('the', 'DET'),\n",
              " ('concessionaires', 'NOUN'),\n",
              " ('for', 'ADP'),\n",
              " ('the', 'DET'),\n",
              " ('purpose', 'NOUN'),\n",
              " ('of', 'ADP'),\n",
              " ('keeping', 'VERB'),\n",
              " ('the', 'DET'),\n",
              " ('prices', 'NOUN'),\n",
              " ('reasonable', 'ADJ'),\n",
              " (\"''\", '.'),\n",
              " ('.', '.'),\n",
              " ('ask', 'VERB'),\n",
              " ('jail', 'NOUN'),\n",
              " ('deputies', 'NOUN'),\n",
              " ('on', 'ADP'),\n",
              " ('other', 'ADJ'),\n",
              " ('matters', 'NOUN'),\n",
              " (',', '.'),\n",
              " ('the', 'DET'),\n",
              " ('jury', 'NOUN'),\n",
              " ('recommended', 'VERB'),\n",
              " ('that', 'ADP'),\n",
              " (':', '.'),\n",
              " ('(', '.'),\n",
              " ('1', 'NUM'),\n",
              " (')', '.'),\n",
              " ('four', 'NUM'),\n",
              " ('additional', 'ADJ'),\n",
              " ('deputies', 'NOUN'),\n",
              " ('be', 'VERB'),\n",
              " ('employed', 'VERB'),\n",
              " ('at', 'ADP'),\n",
              " ('the', 'DET'),\n",
              " ('fulton', 'NOUN'),\n",
              " ('county', 'NOUN'),\n",
              " ('jail', 'NOUN'),\n",
              " ('and', 'CONJ'),\n",
              " ('``', '.'),\n",
              " ('a', 'DET'),\n",
              " ('doctor', 'NOUN'),\n",
              " (',', '.'),\n",
              " ('medical', 'ADJ'),\n",
              " ('intern', 'NOUN'),\n",
              " ('or', 'CONJ'),\n",
              " ('extern', 'NOUN'),\n",
              " ('be', 'VERB'),\n",
              " ('employed', 'VERB'),\n",
              " ('for', 'ADP'),\n",
              " ('night', 'NOUN'),\n",
              " ('and', 'CONJ'),\n",
              " ('weekend', 'NOUN'),\n",
              " ('duty', 'NOUN'),\n",
              " ('at', 'ADP'),\n",
              " ('the', 'DET'),\n",
              " ('jail', 'NOUN'),\n",
              " (\"''\", '.'),\n",
              " ('.', '.'),\n",
              " ('(', '.'),\n",
              " ('2', 'NUM'),\n",
              " (')', '.'),\n",
              " ('fulton', 'NOUN'),\n",
              " ('legislators', 'NOUN'),\n",
              " ('``', '.'),\n",
              " ('work', 'VERB'),\n",
              " ('with', 'ADP'),\n",
              " ('city', 'NOUN'),\n",
              " ('officials', 'NOUN'),\n",
              " ('to', 'PRT'),\n",
              " ('pass', 'VERB'),\n",
              " ('enabling', 'VERB'),\n",
              " ('legislation', 'NOUN'),\n",
              " ('that', 'PRON'),\n",
              " ('will', 'VERB'),\n",
              " ('permit', 'VERB'),\n",
              " ('the', 'DET'),\n",
              " ('establishment', 'NOUN'),\n",
              " ('of', 'ADP'),\n",
              " ('a', 'DET'),\n",
              " ('fair', 'ADJ'),\n",
              " ('and', 'CONJ'),\n",
              " ('equitable', 'ADJ'),\n",
              " (\"''\", '.'),\n",
              " ('pension', 'NOUN'),\n",
              " ('plan', 'NOUN'),\n",
              " ('for', 'ADP'),\n",
              " ('city', 'NOUN'),\n",
              " ('employes', 'NOUN'),\n",
              " ('.', '.'),\n",
              " ('the', 'DET'),\n",
              " ('jury', 'NOUN'),\n",
              " ('praised', 'VERB'),\n",
              " ('the', 'DET'),\n",
              " ('administration', 'NOUN'),\n",
              " ('and', 'CONJ'),\n",
              " ('operation', 'NOUN'),\n",
              " ('of', 'ADP'),\n",
              " ('the', 'DET'),\n",
              " ('atlanta', 'NOUN'),\n",
              " ('police', 'NOUN'),\n",
              " ('department', 'NOUN'),\n",
              " (',', '.'),\n",
              " ('the', 'DET'),\n",
              " ('fulton', 'NOUN'),\n",
              " ('tax', 'NOUN'),\n",
              " (\"commissioner's\", 'NOUN'),\n",
              " ('office', 'NOUN'),\n",
              " (',', '.'),\n",
              " ('the', 'DET'),\n",
              " ('bellwood', 'NOUN'),\n",
              " ('and', 'CONJ'),\n",
              " ('alpharetta', 'NOUN'),\n",
              " ('prison', 'NOUN'),\n",
              " ('farms', 'NOUN'),\n",
              " (',', '.'),\n",
              " ('grady', 'NOUN'),\n",
              " ('hospital', 'NOUN'),\n",
              " ('and', 'CONJ'),\n",
              " ('the', 'DET'),\n",
              " ('fulton', 'NOUN'),\n",
              " ('health', 'NOUN'),\n",
              " ('department', 'NOUN'),\n",
              " ('.', '.'),\n",
              " ('mayor', 'NOUN'),\n",
              " ('william', 'NOUN'),\n",
              " ('b.', 'NOUN'),\n",
              " ('hartsfield', 'NOUN'),\n",
              " ('filed', 'VERB'),\n",
              " ('suit', 'NOUN'),\n",
              " ('for', 'ADP'),\n",
              " ('divorce', 'NOUN'),\n",
              " ('from', 'ADP'),\n",
              " ('his', 'DET'),\n",
              " ('wife', 'NOUN'),\n",
              " (',', '.'),\n",
              " ('pearl', 'NOUN'),\n",
              " ('williams', 'NOUN'),\n",
              " ('hartsfield', 'NOUN'),\n",
              " (',', '.'),\n",
              " ('in', 'ADP'),\n",
              " ('fulton', 'NOUN'),\n",
              " ('superior', 'ADJ'),\n",
              " ('court', 'NOUN'),\n",
              " ('friday', 'NOUN'),\n",
              " ('.', '.'),\n",
              " ('his', 'DET'),\n",
              " ('petition', 'NOUN'),\n",
              " ('charged', 'VERB'),\n",
              " ('mental', 'ADJ'),\n",
              " ('cruelty', 'NOUN'),\n",
              " ('.', '.'),\n",
              " ('the', 'DET'),\n",
              " ('couple', 'NOUN'),\n",
              " ('was', 'VERB'),\n",
              " ('married', 'VERB'),\n",
              " ('aug.', 'NOUN'),\n",
              " ('2', 'NUM'),\n",
              " (',', '.'),\n",
              " ('1913', 'NUM'),\n",
              " ('.', '.'),\n",
              " ('they', 'PRON'),\n",
              " ('have', 'VERB'),\n",
              " ('a', 'DET'),\n",
              " ('son', 'NOUN'),\n",
              " (',', '.'),\n",
              " ('william', 'NOUN'),\n",
              " ('berry', 'NOUN'),\n",
              " ('jr.', 'NOUN'),\n",
              " (',', '.'),\n",
              " ('and', 'CONJ'),\n",
              " ('a', 'DET'),\n",
              " ('daughter', 'NOUN'),\n",
              " (',', '.'),\n",
              " ('mrs.', 'NOUN'),\n",
              " ('j.', 'NOUN'),\n",
              " ('m.', 'NOUN'),\n",
              " ('cheshire', 'NOUN'),\n",
              " ('of', 'ADP'),\n",
              " ('griffin', 'NOUN'),\n",
              " ('.', '.'),\n",
              " ('attorneys', 'NOUN'),\n",
              " ('for', 'ADP'),\n",
              " ('the', 'DET'),\n",
              " ('mayor', 'NOUN'),\n",
              " ('said', 'VERB'),\n",
              " ('that', 'ADP'),\n",
              " ('an', 'DET'),\n",
              " ('amicable', 'ADJ'),\n",
              " ('property', 'NOUN'),\n",
              " ('settlement', 'NOUN'),\n",
              " ('has', 'VERB'),\n",
              " ('been', 'VERB'),\n",
              " ('agreed', 'VERB'),\n",
              " ('upon', 'ADV'),\n",
              " ('.', '.'),\n",
              " ('the', 'DET'),\n",
              " ('petition', 'NOUN'),\n",
              " ('listed', 'VERB'),\n",
              " ('the', 'DET'),\n",
              " (\"mayor's\", 'NOUN'),\n",
              " ('occupation', 'NOUN'),\n",
              " ('as', 'ADP'),\n",
              " ('``', '.'),\n",
              " ('attorney', 'NOUN'),\n",
              " (\"''\", '.'),\n",
              " ('and', 'CONJ'),\n",
              " ('his', 'DET'),\n",
              " ('age', 'NOUN'),\n",
              " ('as', 'ADP'),\n",
              " ('71', 'NUM'),\n",
              " ('.', '.'),\n",
              " ('it', 'PRON'),\n",
              " ('listed', 'VERB'),\n",
              " ('his', 'DET'),\n",
              " (\"wife's\", 'NOUN'),\n",
              " ('age', 'NOUN'),\n",
              " ('as', 'ADP'),\n",
              " ('74', 'NUM'),\n",
              " ('and', 'CONJ'),\n",
              " ('place', 'NOUN'),\n",
              " ('of', 'ADP'),\n",
              " ('birth', 'NOUN'),\n",
              " ('as', 'ADP'),\n",
              " ('opelika', 'NOUN'),\n",
              " (',', '.'),\n",
              " ('ala.', 'NOUN'),\n",
              " ('.', '.'),\n",
              " ('the', 'DET'),\n",
              " ('petition', 'NOUN'),\n",
              " ('said', 'VERB'),\n",
              " ('that', 'ADP'),\n",
              " ('the', 'DET'),\n",
              " ('couple', 'NOUN'),\n",
              " ('has', 'VERB'),\n",
              " ('not', 'ADV'),\n",
              " ('lived', 'VERB'),\n",
              " ('together', 'ADV'),\n",
              " ('as', 'ADP'),\n",
              " ('man', 'NOUN'),\n",
              " ('and', 'CONJ'),\n",
              " ('wife', 'NOUN'),\n",
              " ('for', 'ADP'),\n",
              " ('more', 'ADJ'),\n",
              " ('than', 'ADP'),\n",
              " ('a', 'DET'),\n",
              " ('year', 'NOUN'),\n",
              " ('.', '.'),\n",
              " ('the', 'DET'),\n",
              " ('hartsfield', 'NOUN'),\n",
              " ('home', 'NOUN'),\n",
              " ('is', 'VERB'),\n",
              " ('at', 'ADP'),\n",
              " ('637', 'NUM'),\n",
              " ('e.', 'NOUN'),\n",
              " ('pelham', 'NOUN'),\n",
              " ('rd.', 'NOUN'),\n",
              " ('aj', 'NOUN'),\n",
              " ('.', '.'),\n",
              " ('henry', 'NOUN'),\n",
              " ('l.', 'NOUN'),\n",
              " ('bowden', 'NOUN'),\n",
              " ('was', 'VERB'),\n",
              " ('listed', 'VERB'),\n",
              " ('on', 'ADP'),\n",
              " ('the', 'DET'),\n",
              " ('petition', 'NOUN'),\n",
              " ('as', 'ADP'),\n",
              " ('the', 'DET'),\n",
              " (\"mayor's\", 'NOUN'),\n",
              " ('attorney', 'NOUN'),\n",
              " ('.', '.'),\n",
              " ('hartsfield', 'NOUN'),\n",
              " ('has', 'VERB'),\n",
              " ('been', 'VERB'),\n",
              " ('mayor', 'NOUN'),\n",
              " ('of', 'ADP'),\n",
              " ('atlanta', 'NOUN'),\n",
              " (',', '.'),\n",
              " ('with', 'ADP'),\n",
              " ('exception', 'NOUN'),\n",
              " ('of', 'ADP'),\n",
              " ('one', 'NUM'),\n",
              " ('brief', 'ADJ'),\n",
              " ('interlude', 'NOUN'),\n",
              " (',', '.'),\n",
              " ('since', 'ADP'),\n",
              " ('1937', 'NUM'),\n",
              " ('.', '.'),\n",
              " ('his', 'DET'),\n",
              " ('political', 'ADJ'),\n",
              " ('career', 'NOUN'),\n",
              " ('goes', 'VERB'),\n",
              " ('back', 'ADV'),\n",
              " ('to', 'ADP'),\n",
              " ('his', 'DET'),\n",
              " ('election', 'NOUN'),\n",
              " ('to', 'ADP'),\n",
              " ('city', 'NOUN'),\n",
              " ('council', 'NOUN'),\n",
              " ('in', 'ADP'),\n",
              " ('1923', 'NUM'),\n",
              " ('.', '.'),\n",
              " ('the', 'DET'),\n",
              " (\"mayor's\", 'NOUN'),\n",
              " ('present', 'ADJ'),\n",
              " ('term', 'NOUN'),\n",
              " ('of', 'ADP'),\n",
              " ('office', 'NOUN'),\n",
              " ('expires', 'VERB'),\n",
              " ('jan.', 'NOUN'),\n",
              " ('1', 'NUM'),\n",
              " ('.', '.'),\n",
              " ('he', 'PRON'),\n",
              " ('will', 'VERB'),\n",
              " ('be', 'VERB'),\n",
              " ('succeeded', 'VERB'),\n",
              " ('by', 'ADP'),\n",
              " ('ivan', 'NOUN'),\n",
              " ('allen', 'NOUN'),\n",
              " ('jr.', 'NOUN'),\n",
              " (',', '.'),\n",
              " ('who', 'PRON'),\n",
              " ('became', 'VERB'),\n",
              " ('a', 'DET'),\n",
              " ('candidate', 'NOUN'),\n",
              " ('in', 'ADP'),\n",
              " ('the', 'DET'),\n",
              " ('sept.', 'NOUN'),\n",
              " ('13', 'NUM'),\n",
              " ('primary', 'NOUN'),\n",
              " ('after', 'ADP'),\n",
              " ('mayor', 'NOUN'),\n",
              " ('hartsfield', 'NOUN'),\n",
              " ('announced', 'VERB'),\n",
              " ('that', 'ADP'),\n",
              " ('he', 'PRON'),\n",
              " ('would', 'VERB'),\n",
              " ('not', 'ADV'),\n",
              " ('run', 'VERB'),\n",
              " ('for', 'ADP'),\n",
              " ('reelection', 'NOUN'),\n",
              " ('.', '.'),\n",
              " ('georgia', 'NOUN'),\n",
              " ('republicans', 'NOUN'),\n",
              " ('are', 'VERB'),\n",
              " ('getting', 'VERB'),\n",
              " ('strong', 'ADJ'),\n",
              " ('encouragement', 'NOUN'),\n",
              " ('to', 'PRT'),\n",
              " ('enter', 'VERB'),\n",
              " ('a', 'DET'),\n",
              " ('candidate', 'NOUN'),\n",
              " ('in', 'ADP'),\n",
              " ('the', 'DET'),\n",
              " ('1962', 'NUM'),\n",
              " (\"governor's\", 'NOUN'),\n",
              " ...]"
            ]
          },
          "metadata": {},
          "execution_count": 11
        }
      ]
    },
    {
      "cell_type": "code",
      "source": [
        "print('Кол-во предложений: ', len(brown_tagged_sents))\n",
        "tags = [tag for (word, tag) in brown_tagged_words] # наши теги\n",
        "words = [word for (word, tag) in brown_tagged_words] # наши слова"
      ],
      "metadata": {
        "colab": {
          "base_uri": "https://localhost:8080/"
        },
        "id": "JkFCRtGGTFrj",
        "outputId": "8d879a6b-2fe3-4b33-e94a-44a5f8e886fb"
      },
      "execution_count": null,
      "outputs": [
        {
          "output_type": "stream",
          "name": "stdout",
          "text": [
            "Кол-во предложений:  57340\n"
          ]
        }
      ]
    },
    {
      "cell_type": "code",
      "source": [
        "words"
      ],
      "metadata": {
        "id": "OS8GoB23TIBS",
        "colab": {
          "base_uri": "https://localhost:8080/"
        },
        "outputId": "64c8301b-fd24-436c-d25e-b3373c5616be"
      },
      "execution_count": null,
      "outputs": [
        {
          "output_type": "execute_result",
          "data": {
            "text/plain": [
              "['the',\n",
              " 'fulton',\n",
              " 'county',\n",
              " 'grand',\n",
              " 'jury',\n",
              " 'said',\n",
              " 'friday',\n",
              " 'an',\n",
              " 'investigation',\n",
              " 'of',\n",
              " \"atlanta's\",\n",
              " 'recent',\n",
              " 'primary',\n",
              " 'election',\n",
              " 'produced',\n",
              " '``',\n",
              " 'no',\n",
              " 'evidence',\n",
              " \"''\",\n",
              " 'that',\n",
              " 'any',\n",
              " 'irregularities',\n",
              " 'took',\n",
              " 'place',\n",
              " '.',\n",
              " 'the',\n",
              " 'jury',\n",
              " 'further',\n",
              " 'said',\n",
              " 'in',\n",
              " 'term-end',\n",
              " 'presentments',\n",
              " 'that',\n",
              " 'the',\n",
              " 'city',\n",
              " 'executive',\n",
              " 'committee',\n",
              " ',',\n",
              " 'which',\n",
              " 'had',\n",
              " 'over-all',\n",
              " 'charge',\n",
              " 'of',\n",
              " 'the',\n",
              " 'election',\n",
              " ',',\n",
              " '``',\n",
              " 'deserves',\n",
              " 'the',\n",
              " 'praise',\n",
              " 'and',\n",
              " 'thanks',\n",
              " 'of',\n",
              " 'the',\n",
              " 'city',\n",
              " 'of',\n",
              " 'atlanta',\n",
              " \"''\",\n",
              " 'for',\n",
              " 'the',\n",
              " 'manner',\n",
              " 'in',\n",
              " 'which',\n",
              " 'the',\n",
              " 'election',\n",
              " 'was',\n",
              " 'conducted',\n",
              " '.',\n",
              " 'the',\n",
              " 'september-october',\n",
              " 'term',\n",
              " 'jury',\n",
              " 'had',\n",
              " 'been',\n",
              " 'charged',\n",
              " 'by',\n",
              " 'fulton',\n",
              " 'superior',\n",
              " 'court',\n",
              " 'judge',\n",
              " 'durwood',\n",
              " 'pye',\n",
              " 'to',\n",
              " 'investigate',\n",
              " 'reports',\n",
              " 'of',\n",
              " 'possible',\n",
              " '``',\n",
              " 'irregularities',\n",
              " \"''\",\n",
              " 'in',\n",
              " 'the',\n",
              " 'hard-fought',\n",
              " 'primary',\n",
              " 'which',\n",
              " 'was',\n",
              " 'won',\n",
              " 'by',\n",
              " 'mayor-nominate',\n",
              " 'ivan',\n",
              " 'allen',\n",
              " 'jr.',\n",
              " '.',\n",
              " '``',\n",
              " 'only',\n",
              " 'a',\n",
              " 'relative',\n",
              " 'handful',\n",
              " 'of',\n",
              " 'such',\n",
              " 'reports',\n",
              " 'was',\n",
              " 'received',\n",
              " \"''\",\n",
              " ',',\n",
              " 'the',\n",
              " 'jury',\n",
              " 'said',\n",
              " ',',\n",
              " '``',\n",
              " 'considering',\n",
              " 'the',\n",
              " 'widespread',\n",
              " 'interest',\n",
              " 'in',\n",
              " 'the',\n",
              " 'election',\n",
              " ',',\n",
              " 'the',\n",
              " 'number',\n",
              " 'of',\n",
              " 'voters',\n",
              " 'and',\n",
              " 'the',\n",
              " 'size',\n",
              " 'of',\n",
              " 'this',\n",
              " 'city',\n",
              " \"''\",\n",
              " '.',\n",
              " 'the',\n",
              " 'jury',\n",
              " 'said',\n",
              " 'it',\n",
              " 'did',\n",
              " 'find',\n",
              " 'that',\n",
              " 'many',\n",
              " 'of',\n",
              " \"georgia's\",\n",
              " 'registration',\n",
              " 'and',\n",
              " 'election',\n",
              " 'laws',\n",
              " '``',\n",
              " 'are',\n",
              " 'outmoded',\n",
              " 'or',\n",
              " 'inadequate',\n",
              " 'and',\n",
              " 'often',\n",
              " 'ambiguous',\n",
              " \"''\",\n",
              " '.',\n",
              " 'it',\n",
              " 'recommended',\n",
              " 'that',\n",
              " 'fulton',\n",
              " 'legislators',\n",
              " 'act',\n",
              " '``',\n",
              " 'to',\n",
              " 'have',\n",
              " 'these',\n",
              " 'laws',\n",
              " 'studied',\n",
              " 'and',\n",
              " 'revised',\n",
              " 'to',\n",
              " 'the',\n",
              " 'end',\n",
              " 'of',\n",
              " 'modernizing',\n",
              " 'and',\n",
              " 'improving',\n",
              " 'them',\n",
              " \"''\",\n",
              " '.',\n",
              " 'the',\n",
              " 'grand',\n",
              " 'jury',\n",
              " 'commented',\n",
              " 'on',\n",
              " 'a',\n",
              " 'number',\n",
              " 'of',\n",
              " 'other',\n",
              " 'topics',\n",
              " ',',\n",
              " 'among',\n",
              " 'them',\n",
              " 'the',\n",
              " 'atlanta',\n",
              " 'and',\n",
              " 'fulton',\n",
              " 'county',\n",
              " 'purchasing',\n",
              " 'departments',\n",
              " 'which',\n",
              " 'it',\n",
              " 'said',\n",
              " '``',\n",
              " 'are',\n",
              " 'well',\n",
              " 'operated',\n",
              " 'and',\n",
              " 'follow',\n",
              " 'generally',\n",
              " 'accepted',\n",
              " 'practices',\n",
              " 'which',\n",
              " 'inure',\n",
              " 'to',\n",
              " 'the',\n",
              " 'best',\n",
              " 'interest',\n",
              " 'of',\n",
              " 'both',\n",
              " 'governments',\n",
              " \"''\",\n",
              " '.',\n",
              " 'merger',\n",
              " 'proposed',\n",
              " 'however',\n",
              " ',',\n",
              " 'the',\n",
              " 'jury',\n",
              " 'said',\n",
              " 'it',\n",
              " 'believes',\n",
              " '``',\n",
              " 'these',\n",
              " 'two',\n",
              " 'offices',\n",
              " 'should',\n",
              " 'be',\n",
              " 'combined',\n",
              " 'to',\n",
              " 'achieve',\n",
              " 'greater',\n",
              " 'efficiency',\n",
              " 'and',\n",
              " 'reduce',\n",
              " 'the',\n",
              " 'cost',\n",
              " 'of',\n",
              " 'administration',\n",
              " \"''\",\n",
              " '.',\n",
              " 'the',\n",
              " 'city',\n",
              " 'purchasing',\n",
              " 'department',\n",
              " ',',\n",
              " 'the',\n",
              " 'jury',\n",
              " 'said',\n",
              " ',',\n",
              " '``',\n",
              " 'is',\n",
              " 'lacking',\n",
              " 'in',\n",
              " 'experienced',\n",
              " 'clerical',\n",
              " 'personnel',\n",
              " 'as',\n",
              " 'a',\n",
              " 'result',\n",
              " 'of',\n",
              " 'city',\n",
              " 'personnel',\n",
              " 'policies',\n",
              " \"''\",\n",
              " '.',\n",
              " 'it',\n",
              " 'urged',\n",
              " 'that',\n",
              " 'the',\n",
              " 'city',\n",
              " '``',\n",
              " 'take',\n",
              " 'steps',\n",
              " 'to',\n",
              " 'remedy',\n",
              " \"''\",\n",
              " 'this',\n",
              " 'problem',\n",
              " '.',\n",
              " 'implementation',\n",
              " 'of',\n",
              " \"georgia's\",\n",
              " 'automobile',\n",
              " 'title',\n",
              " 'law',\n",
              " 'was',\n",
              " 'also',\n",
              " 'recommended',\n",
              " 'by',\n",
              " 'the',\n",
              " 'outgoing',\n",
              " 'jury',\n",
              " '.',\n",
              " 'it',\n",
              " 'urged',\n",
              " 'that',\n",
              " 'the',\n",
              " 'next',\n",
              " 'legislature',\n",
              " '``',\n",
              " 'provide',\n",
              " 'enabling',\n",
              " 'funds',\n",
              " 'and',\n",
              " 're-set',\n",
              " 'the',\n",
              " 'effective',\n",
              " 'date',\n",
              " 'so',\n",
              " 'that',\n",
              " 'an',\n",
              " 'orderly',\n",
              " 'implementation',\n",
              " 'of',\n",
              " 'the',\n",
              " 'law',\n",
              " 'may',\n",
              " 'be',\n",
              " 'effected',\n",
              " \"''\",\n",
              " '.',\n",
              " 'the',\n",
              " 'grand',\n",
              " 'jury',\n",
              " 'took',\n",
              " 'a',\n",
              " 'swipe',\n",
              " 'at',\n",
              " 'the',\n",
              " 'state',\n",
              " 'welfare',\n",
              " \"department's\",\n",
              " 'handling',\n",
              " 'of',\n",
              " 'federal',\n",
              " 'funds',\n",
              " 'granted',\n",
              " 'for',\n",
              " 'child',\n",
              " 'welfare',\n",
              " 'services',\n",
              " 'in',\n",
              " 'foster',\n",
              " 'homes',\n",
              " '.',\n",
              " '``',\n",
              " 'this',\n",
              " 'is',\n",
              " 'one',\n",
              " 'of',\n",
              " 'the',\n",
              " 'major',\n",
              " 'items',\n",
              " 'in',\n",
              " 'the',\n",
              " 'fulton',\n",
              " 'county',\n",
              " 'general',\n",
              " 'assistance',\n",
              " 'program',\n",
              " \"''\",\n",
              " ',',\n",
              " 'the',\n",
              " 'jury',\n",
              " 'said',\n",
              " ',',\n",
              " 'but',\n",
              " 'the',\n",
              " 'state',\n",
              " 'welfare',\n",
              " 'department',\n",
              " '``',\n",
              " 'has',\n",
              " 'seen',\n",
              " 'fit',\n",
              " 'to',\n",
              " 'distribute',\n",
              " 'these',\n",
              " 'funds',\n",
              " 'through',\n",
              " 'the',\n",
              " 'welfare',\n",
              " 'departments',\n",
              " 'of',\n",
              " 'all',\n",
              " 'the',\n",
              " 'counties',\n",
              " 'in',\n",
              " 'the',\n",
              " 'state',\n",
              " 'with',\n",
              " 'the',\n",
              " 'exception',\n",
              " 'of',\n",
              " 'fulton',\n",
              " 'county',\n",
              " ',',\n",
              " 'which',\n",
              " 'receives',\n",
              " 'none',\n",
              " 'of',\n",
              " 'this',\n",
              " 'money',\n",
              " '.',\n",
              " 'the',\n",
              " 'jurors',\n",
              " 'said',\n",
              " 'they',\n",
              " 'realize',\n",
              " '``',\n",
              " 'a',\n",
              " 'proportionate',\n",
              " 'distribution',\n",
              " 'of',\n",
              " 'these',\n",
              " 'funds',\n",
              " 'might',\n",
              " 'disable',\n",
              " 'this',\n",
              " 'program',\n",
              " 'in',\n",
              " 'our',\n",
              " 'less',\n",
              " 'populous',\n",
              " 'counties',\n",
              " \"''\",\n",
              " '.',\n",
              " 'nevertheless',\n",
              " ',',\n",
              " '``',\n",
              " 'we',\n",
              " 'feel',\n",
              " 'that',\n",
              " 'in',\n",
              " 'the',\n",
              " 'future',\n",
              " 'fulton',\n",
              " 'county',\n",
              " 'should',\n",
              " 'receive',\n",
              " 'some',\n",
              " 'portion',\n",
              " 'of',\n",
              " 'these',\n",
              " 'available',\n",
              " 'funds',\n",
              " \"''\",\n",
              " ',',\n",
              " 'the',\n",
              " 'jurors',\n",
              " 'said',\n",
              " '.',\n",
              " '``',\n",
              " 'failure',\n",
              " 'to',\n",
              " 'do',\n",
              " 'this',\n",
              " 'will',\n",
              " 'continue',\n",
              " 'to',\n",
              " 'place',\n",
              " 'a',\n",
              " 'disproportionate',\n",
              " 'burden',\n",
              " \"''\",\n",
              " 'on',\n",
              " 'fulton',\n",
              " 'taxpayers',\n",
              " '.',\n",
              " 'the',\n",
              " 'jury',\n",
              " 'also',\n",
              " 'commented',\n",
              " 'on',\n",
              " 'the',\n",
              " 'fulton',\n",
              " \"ordinary's\",\n",
              " 'court',\n",
              " 'which',\n",
              " 'has',\n",
              " 'been',\n",
              " 'under',\n",
              " 'fire',\n",
              " 'for',\n",
              " 'its',\n",
              " 'practices',\n",
              " 'in',\n",
              " 'the',\n",
              " 'appointment',\n",
              " 'of',\n",
              " 'appraisers',\n",
              " ',',\n",
              " 'guardians',\n",
              " 'and',\n",
              " 'administrators',\n",
              " 'and',\n",
              " 'the',\n",
              " 'awarding',\n",
              " 'of',\n",
              " 'fees',\n",
              " 'and',\n",
              " 'compensation',\n",
              " '.',\n",
              " 'wards',\n",
              " 'protected',\n",
              " 'the',\n",
              " 'jury',\n",
              " 'said',\n",
              " 'it',\n",
              " 'found',\n",
              " 'the',\n",
              " 'court',\n",
              " '``',\n",
              " 'has',\n",
              " 'incorporated',\n",
              " 'into',\n",
              " 'its',\n",
              " 'operating',\n",
              " 'procedures',\n",
              " 'the',\n",
              " 'recommendations',\n",
              " \"''\",\n",
              " 'of',\n",
              " 'two',\n",
              " 'previous',\n",
              " 'grand',\n",
              " 'juries',\n",
              " ',',\n",
              " 'the',\n",
              " 'atlanta',\n",
              " 'bar',\n",
              " 'association',\n",
              " 'and',\n",
              " 'an',\n",
              " 'interim',\n",
              " 'citizens',\n",
              " 'committee',\n",
              " '.',\n",
              " '``',\n",
              " 'these',\n",
              " 'actions',\n",
              " 'should',\n",
              " 'serve',\n",
              " 'to',\n",
              " 'protect',\n",
              " 'in',\n",
              " 'fact',\n",
              " 'and',\n",
              " 'in',\n",
              " 'effect',\n",
              " 'the',\n",
              " \"court's\",\n",
              " 'wards',\n",
              " 'from',\n",
              " 'undue',\n",
              " 'costs',\n",
              " 'and',\n",
              " 'its',\n",
              " 'appointed',\n",
              " 'and',\n",
              " 'elected',\n",
              " 'servants',\n",
              " 'from',\n",
              " 'unmeritorious',\n",
              " 'criticisms',\n",
              " \"''\",\n",
              " ',',\n",
              " 'the',\n",
              " 'jury',\n",
              " 'said',\n",
              " '.',\n",
              " 'regarding',\n",
              " \"atlanta's\",\n",
              " 'new',\n",
              " 'multi-million-dollar',\n",
              " 'airport',\n",
              " ',',\n",
              " 'the',\n",
              " 'jury',\n",
              " 'recommended',\n",
              " '``',\n",
              " 'that',\n",
              " 'when',\n",
              " 'the',\n",
              " 'new',\n",
              " 'management',\n",
              " 'takes',\n",
              " 'charge',\n",
              " 'jan.',\n",
              " '1',\n",
              " 'the',\n",
              " 'airport',\n",
              " 'be',\n",
              " 'operated',\n",
              " 'in',\n",
              " 'a',\n",
              " 'manner',\n",
              " 'that',\n",
              " 'will',\n",
              " 'eliminate',\n",
              " 'political',\n",
              " 'influences',\n",
              " \"''\",\n",
              " '.',\n",
              " 'the',\n",
              " 'jury',\n",
              " 'did',\n",
              " 'not',\n",
              " 'elaborate',\n",
              " ',',\n",
              " 'but',\n",
              " 'it',\n",
              " 'added',\n",
              " 'that',\n",
              " '``',\n",
              " 'there',\n",
              " 'should',\n",
              " 'be',\n",
              " 'periodic',\n",
              " 'surveillance',\n",
              " 'of',\n",
              " 'the',\n",
              " 'pricing',\n",
              " 'practices',\n",
              " 'of',\n",
              " 'the',\n",
              " 'concessionaires',\n",
              " 'for',\n",
              " 'the',\n",
              " 'purpose',\n",
              " 'of',\n",
              " 'keeping',\n",
              " 'the',\n",
              " 'prices',\n",
              " 'reasonable',\n",
              " \"''\",\n",
              " '.',\n",
              " 'ask',\n",
              " 'jail',\n",
              " 'deputies',\n",
              " 'on',\n",
              " 'other',\n",
              " 'matters',\n",
              " ',',\n",
              " 'the',\n",
              " 'jury',\n",
              " 'recommended',\n",
              " 'that',\n",
              " ':',\n",
              " '(',\n",
              " '1',\n",
              " ')',\n",
              " 'four',\n",
              " 'additional',\n",
              " 'deputies',\n",
              " 'be',\n",
              " 'employed',\n",
              " 'at',\n",
              " 'the',\n",
              " 'fulton',\n",
              " 'county',\n",
              " 'jail',\n",
              " 'and',\n",
              " '``',\n",
              " 'a',\n",
              " 'doctor',\n",
              " ',',\n",
              " 'medical',\n",
              " 'intern',\n",
              " 'or',\n",
              " 'extern',\n",
              " 'be',\n",
              " 'employed',\n",
              " 'for',\n",
              " 'night',\n",
              " 'and',\n",
              " 'weekend',\n",
              " 'duty',\n",
              " 'at',\n",
              " 'the',\n",
              " 'jail',\n",
              " \"''\",\n",
              " '.',\n",
              " '(',\n",
              " '2',\n",
              " ')',\n",
              " 'fulton',\n",
              " 'legislators',\n",
              " '``',\n",
              " 'work',\n",
              " 'with',\n",
              " 'city',\n",
              " 'officials',\n",
              " 'to',\n",
              " 'pass',\n",
              " 'enabling',\n",
              " 'legislation',\n",
              " 'that',\n",
              " 'will',\n",
              " 'permit',\n",
              " 'the',\n",
              " 'establishment',\n",
              " 'of',\n",
              " 'a',\n",
              " 'fair',\n",
              " 'and',\n",
              " 'equitable',\n",
              " \"''\",\n",
              " 'pension',\n",
              " 'plan',\n",
              " 'for',\n",
              " 'city',\n",
              " 'employes',\n",
              " '.',\n",
              " 'the',\n",
              " 'jury',\n",
              " 'praised',\n",
              " 'the',\n",
              " 'administration',\n",
              " 'and',\n",
              " 'operation',\n",
              " 'of',\n",
              " 'the',\n",
              " 'atlanta',\n",
              " 'police',\n",
              " 'department',\n",
              " ',',\n",
              " 'the',\n",
              " 'fulton',\n",
              " 'tax',\n",
              " \"commissioner's\",\n",
              " 'office',\n",
              " ',',\n",
              " 'the',\n",
              " 'bellwood',\n",
              " 'and',\n",
              " 'alpharetta',\n",
              " 'prison',\n",
              " 'farms',\n",
              " ',',\n",
              " 'grady',\n",
              " 'hospital',\n",
              " 'and',\n",
              " 'the',\n",
              " 'fulton',\n",
              " 'health',\n",
              " 'department',\n",
              " '.',\n",
              " 'mayor',\n",
              " 'william',\n",
              " 'b.',\n",
              " 'hartsfield',\n",
              " 'filed',\n",
              " 'suit',\n",
              " 'for',\n",
              " 'divorce',\n",
              " 'from',\n",
              " 'his',\n",
              " 'wife',\n",
              " ',',\n",
              " 'pearl',\n",
              " 'williams',\n",
              " 'hartsfield',\n",
              " ',',\n",
              " 'in',\n",
              " 'fulton',\n",
              " 'superior',\n",
              " 'court',\n",
              " 'friday',\n",
              " '.',\n",
              " 'his',\n",
              " 'petition',\n",
              " 'charged',\n",
              " 'mental',\n",
              " 'cruelty',\n",
              " '.',\n",
              " 'the',\n",
              " 'couple',\n",
              " 'was',\n",
              " 'married',\n",
              " 'aug.',\n",
              " '2',\n",
              " ',',\n",
              " '1913',\n",
              " '.',\n",
              " 'they',\n",
              " 'have',\n",
              " 'a',\n",
              " 'son',\n",
              " ',',\n",
              " 'william',\n",
              " 'berry',\n",
              " 'jr.',\n",
              " ',',\n",
              " 'and',\n",
              " 'a',\n",
              " 'daughter',\n",
              " ',',\n",
              " 'mrs.',\n",
              " 'j.',\n",
              " 'm.',\n",
              " 'cheshire',\n",
              " 'of',\n",
              " 'griffin',\n",
              " '.',\n",
              " 'attorneys',\n",
              " 'for',\n",
              " 'the',\n",
              " 'mayor',\n",
              " 'said',\n",
              " 'that',\n",
              " 'an',\n",
              " 'amicable',\n",
              " 'property',\n",
              " 'settlement',\n",
              " 'has',\n",
              " 'been',\n",
              " 'agreed',\n",
              " 'upon',\n",
              " '.',\n",
              " 'the',\n",
              " 'petition',\n",
              " 'listed',\n",
              " 'the',\n",
              " \"mayor's\",\n",
              " 'occupation',\n",
              " 'as',\n",
              " '``',\n",
              " 'attorney',\n",
              " \"''\",\n",
              " 'and',\n",
              " 'his',\n",
              " 'age',\n",
              " 'as',\n",
              " '71',\n",
              " '.',\n",
              " 'it',\n",
              " 'listed',\n",
              " 'his',\n",
              " \"wife's\",\n",
              " 'age',\n",
              " 'as',\n",
              " '74',\n",
              " 'and',\n",
              " 'place',\n",
              " 'of',\n",
              " 'birth',\n",
              " 'as',\n",
              " 'opelika',\n",
              " ',',\n",
              " 'ala.',\n",
              " '.',\n",
              " 'the',\n",
              " 'petition',\n",
              " 'said',\n",
              " 'that',\n",
              " 'the',\n",
              " 'couple',\n",
              " 'has',\n",
              " 'not',\n",
              " 'lived',\n",
              " 'together',\n",
              " 'as',\n",
              " 'man',\n",
              " 'and',\n",
              " 'wife',\n",
              " 'for',\n",
              " 'more',\n",
              " 'than',\n",
              " 'a',\n",
              " 'year',\n",
              " '.',\n",
              " 'the',\n",
              " 'hartsfield',\n",
              " 'home',\n",
              " 'is',\n",
              " 'at',\n",
              " '637',\n",
              " 'e.',\n",
              " 'pelham',\n",
              " 'rd.',\n",
              " 'aj',\n",
              " '.',\n",
              " 'henry',\n",
              " 'l.',\n",
              " 'bowden',\n",
              " 'was',\n",
              " 'listed',\n",
              " 'on',\n",
              " 'the',\n",
              " 'petition',\n",
              " 'as',\n",
              " 'the',\n",
              " \"mayor's\",\n",
              " 'attorney',\n",
              " '.',\n",
              " 'hartsfield',\n",
              " 'has',\n",
              " 'been',\n",
              " 'mayor',\n",
              " 'of',\n",
              " 'atlanta',\n",
              " ',',\n",
              " 'with',\n",
              " 'exception',\n",
              " 'of',\n",
              " 'one',\n",
              " 'brief',\n",
              " 'interlude',\n",
              " ',',\n",
              " 'since',\n",
              " '1937',\n",
              " '.',\n",
              " 'his',\n",
              " 'political',\n",
              " 'career',\n",
              " 'goes',\n",
              " 'back',\n",
              " 'to',\n",
              " 'his',\n",
              " 'election',\n",
              " 'to',\n",
              " 'city',\n",
              " 'council',\n",
              " 'in',\n",
              " '1923',\n",
              " '.',\n",
              " 'the',\n",
              " \"mayor's\",\n",
              " 'present',\n",
              " 'term',\n",
              " 'of',\n",
              " 'office',\n",
              " 'expires',\n",
              " 'jan.',\n",
              " '1',\n",
              " '.',\n",
              " 'he',\n",
              " 'will',\n",
              " 'be',\n",
              " 'succeeded',\n",
              " 'by',\n",
              " 'ivan',\n",
              " 'allen',\n",
              " 'jr.',\n",
              " ',',\n",
              " 'who',\n",
              " 'became',\n",
              " 'a',\n",
              " 'candidate',\n",
              " 'in',\n",
              " 'the',\n",
              " 'sept.',\n",
              " '13',\n",
              " 'primary',\n",
              " 'after',\n",
              " 'mayor',\n",
              " 'hartsfield',\n",
              " 'announced',\n",
              " 'that',\n",
              " 'he',\n",
              " 'would',\n",
              " 'not',\n",
              " 'run',\n",
              " 'for',\n",
              " 'reelection',\n",
              " '.',\n",
              " 'georgia',\n",
              " 'republicans',\n",
              " 'are',\n",
              " 'getting',\n",
              " 'strong',\n",
              " 'encouragement',\n",
              " 'to',\n",
              " 'enter',\n",
              " 'a',\n",
              " 'candidate',\n",
              " 'in',\n",
              " 'the',\n",
              " '1962',\n",
              " \"governor's\",\n",
              " ...]"
            ]
          },
          "metadata": {},
          "execution_count": 13
        }
      ]
    },
    {
      "cell_type": "code",
      "source": [
        "# Через FreqDist посчитать кол-во words, колво tags и потом получить их значения\n",
        "from nltk.probability import FreqDist\n",
        "word_freq, tag_freq = FreqDist(), FreqDist()\n",
        "for word in words:\n",
        "  word_freq[word] += 1\n",
        "for tag in tags:\n",
        "  tag_freq[tag] += 1"
      ],
      "metadata": {
        "id": "zCrx0y-qTmqn"
      },
      "execution_count": null,
      "outputs": []
    },
    {
      "cell_type": "code",
      "source": [
        "word_freq"
      ],
      "metadata": {
        "colab": {
          "base_uri": "https://localhost:8080/"
        },
        "id": "Y7ZfMsEr4alF",
        "outputId": "4b0a3abd-7042-4ead-d8d2-ed3209d02105"
      },
      "execution_count": null,
      "outputs": [
        {
          "output_type": "execute_result",
          "data": {
            "text/plain": [
              "FreqDist({'the': 69971, ',': 58334, '.': 49346, 'of': 36412, 'and': 28853, 'to': 26158, 'a': 23195, 'in': 21337, 'that': 10594, 'is': 10109, ...})"
            ]
          },
          "metadata": {},
          "execution_count": 15
        }
      ]
    },
    {
      "cell_type": "code",
      "source": [
        "tag_freq"
      ],
      "metadata": {
        "colab": {
          "base_uri": "https://localhost:8080/"
        },
        "id": "KwufI6On4do9",
        "outputId": "8876a900-1e6a-4eec-8670-aed4e7f93c4b"
      },
      "execution_count": null,
      "outputs": [
        {
          "output_type": "execute_result",
          "data": {
            "text/plain": [
              "FreqDist({'NOUN': 275558, 'VERB': 182750, '.': 147565, 'ADP': 144766, 'DET': 137019, 'ADJ': 83721, 'ADV': 56239, 'PRON': 49334, 'CONJ': 38151, 'PRT': 29829, ...})"
            ]
          },
          "metadata": {},
          "execution_count": 16
        }
      ]
    },
    {
      "cell_type": "code",
      "source": [
        "pd.Series(tag_freq.values(), tag_freq.keys()).sort_values()"
      ],
      "metadata": {
        "colab": {
          "base_uri": "https://localhost:8080/"
        },
        "id": "rTtZI8xz4umq",
        "outputId": "32d5271f-0450-4e8c-bf45-d0be6568e389"
      },
      "execution_count": null,
      "outputs": [
        {
          "output_type": "execute_result",
          "data": {
            "text/plain": [
              "X         1386\n",
              "NUM      14874\n",
              "PRT      29829\n",
              "CONJ     38151\n",
              "PRON     49334\n",
              "ADV      56239\n",
              "ADJ      83721\n",
              "DET     137019\n",
              "ADP     144766\n",
              ".       147565\n",
              "VERB    182750\n",
              "NOUN    275558\n",
              "dtype: int64"
            ]
          },
          "metadata": {},
          "execution_count": 17
        }
      ]
    },
    {
      "cell_type": "code",
      "metadata": {
        "id": "4giWaqXjwC5W",
        "colab": {
          "base_uri": "https://localhost:8080/"
        },
        "outputId": "8dc63fbd-b635-4051-a80d-1c1cce5d546e"
      },
      "source": [
        "print('Кол-во предложений: ', len(brown_tagged_sents))\n",
        "tags = [tag for (word, tag) in brown_tagged_words] # наши теги\n",
        "words = [word for (word, tag) in brown_tagged_words] # наши слова\n",
        "\n",
        "tag_num = pd.Series(tag_freq.values(), tag_freq.keys()).sort_values(ascending=False) # тег - кол-во тега в корпусе\n",
        "word_num = pd.Series(word_freq.values(), word_freq.keys()).sort_values(ascending=False) # слово - кол-во слова в корпусе"
      ],
      "execution_count": null,
      "outputs": [
        {
          "output_type": "stream",
          "name": "stdout",
          "text": [
            "Кол-во предложений:  57340\n"
          ]
        }
      ]
    },
    {
      "cell_type": "code",
      "metadata": {
        "id": "yfiPpCcLwC5Z",
        "scrolled": true,
        "colab": {
          "base_uri": "https://localhost:8080/"
        },
        "outputId": "6a00b2d9-9bd8-4f70-ae7c-7c9ef62c5e7f"
      },
      "source": [
        "tag_num"
      ],
      "execution_count": null,
      "outputs": [
        {
          "output_type": "execute_result",
          "data": {
            "text/plain": [
              "NOUN    275558\n",
              "VERB    182750\n",
              ".       147565\n",
              "ADP     144766\n",
              "DET     137019\n",
              "ADJ      83721\n",
              "ADV      56239\n",
              "PRON     49334\n",
              "CONJ     38151\n",
              "PRT      29829\n",
              "NUM      14874\n",
              "X         1386\n",
              "dtype: int64"
            ]
          },
          "metadata": {},
          "execution_count": 19
        }
      ]
    },
    {
      "cell_type": "code",
      "source": [
        "word_num"
      ],
      "metadata": {
        "colab": {
          "base_uri": "https://localhost:8080/"
        },
        "id": "KY_1WZgf5GHm",
        "outputId": "9f62d2b1-e085-4e01-a520-ffe4d2fbe53f"
      },
      "execution_count": null,
      "outputs": [
        {
          "output_type": "execute_result",
          "data": {
            "text/plain": [
              "the            69971\n",
              ",              58334\n",
              ".              49346\n",
              "of             36412\n",
              "and            28853\n",
              "               ...  \n",
              "quasi-folk         1\n",
              "moneymaking        1\n",
              "puckish            1\n",
              "jeepers            1\n",
              "stupefying         1\n",
              "Length: 49815, dtype: int64"
            ]
          },
          "metadata": {},
          "execution_count": 20
        }
      ]
    },
    {
      "cell_type": "code",
      "metadata": {
        "id": "8Y1huw7TwC5b",
        "colab": {
          "base_uri": "https://localhost:8080/",
          "height": 468
        },
        "outputId": "cec4c7f0-8f58-4c11-b2bf-037d2a3d9b37"
      },
      "source": [
        "plt.figure(figsize=(12, 5))\n",
        "plt.bar(tag_num.index, tag_num.values)\n",
        "plt.title(\"Tag_frequency\")\n",
        "plt.show()"
      ],
      "execution_count": null,
      "outputs": [
        {
          "output_type": "display_data",
          "data": {
            "text/plain": [
              "<Figure size 1200x500 with 1 Axes>"
            ],
            "image/png": "[encoded data removed]"
          },
          "metadata": {}
        }
      ]
    },
    {
      "cell_type": "code",
      "metadata": {
        "id": "gBbhnJsmwC5f",
        "colab": {
          "base_uri": "https://localhost:8080/"
        },
        "outputId": "3f7fedb8-98de-49f8-bc93-280bf3640d3c"
      },
      "source": [
        "word_num[:5]"
      ],
      "execution_count": null,
      "outputs": [
        {
          "output_type": "execute_result",
          "data": {
            "text/plain": [
              "the    69971\n",
              ",      58334\n",
              ".      49346\n",
              "of     36412\n",
              "and    28853\n",
              "dtype: int64"
            ]
          },
          "metadata": {},
          "execution_count": 22
        }
      ]
    },
    {
      "cell_type": "code",
      "metadata": {
        "id": "1WmEOBMkwC5i",
        "colab": {
          "base_uri": "https://localhost:8080/",
          "height": 468
        },
        "outputId": "15c7c1c0-8cb7-4e4a-9c49-c4eaac7d2143"
      },
      "source": [
        "plt.figure(figsize=(12, 5))\n",
        "plt.bar(word_num.index[:10], word_num.values[:10])\n",
        "plt.title(\"Word_frequency\")\n",
        "plt.show()"
      ],
      "execution_count": null,
      "outputs": [
        {
          "output_type": "display_data",
          "data": {
            "text/plain": [
              "<Figure size 1200x500 with 1 Axes>"
            ],
            "image/png": "[encoded data removed]"
          },
          "metadata": {}
        }
      ]
    },
    {
      "cell_type": "markdown",
      "metadata": {
        "id": "n08z2PjMwC5o"
      },
      "source": [
        "### Вопрос 1:\n",
        "* Кол-во слова `cat` в корпусе?"
      ]
    },
    {
      "cell_type": "code",
      "metadata": {
        "id": "jhB7di3YwC5p",
        "colab": {
          "base_uri": "https://localhost:8080/"
        },
        "outputId": "dc7fbf46-049b-4545-8d75-0673e02a8907"
      },
      "source": [
        "word_num['cat']"
      ],
      "execution_count": null,
      "outputs": [
        {
          "output_type": "execute_result",
          "data": {
            "text/plain": [
              "23"
            ]
          },
          "metadata": {},
          "execution_count": 24
        }
      ]
    },
    {
      "cell_type": "markdown",
      "metadata": {
        "id": "UsCfVLsewC5s"
      },
      "source": [
        "### Вопрос 2:\n",
        "* Самое популярное слово с самым популярным тегом? <br>(*сначала выбираете слова с самым популярным тегом, а затем выбираете самое популярное слово из уже выбранных*)"
      ]
    },
    {
      "cell_type": "code",
      "source": [
        "word_freq.max() # Самое популярное слово вообще"
      ],
      "metadata": {
        "colab": {
          "base_uri": "https://localhost:8080/",
          "height": 36
        },
        "id": "vu7g_k6J6rz0",
        "outputId": "53bd471b-f74f-4418-c083-985b5a6d3d3e"
      },
      "execution_count": null,
      "outputs": [
        {
          "output_type": "execute_result",
          "data": {
            "text/plain": [
              "'the'"
            ],
            "application/vnd.google.colaboratory.intrinsic+json": {
              "type": "string"
            }
          },
          "metadata": {},
          "execution_count": 25
        }
      ]
    },
    {
      "cell_type": "code",
      "metadata": {
        "id": "oio-XBYkwC5t"
      },
      "source": [
        "noun_word = []\n",
        "for (word, tag) in brown_tagged_words:\n",
        "  if tag == 'NOUN':\n",
        "    noun_word.append(word)"
      ],
      "execution_count": null,
      "outputs": []
    },
    {
      "cell_type": "code",
      "source": [
        "words_noun_num = pd.Series(FreqDist(noun_word)).sort_values(ascending=False)"
      ],
      "metadata": {
        "id": "D-o4EAz2CYTn"
      },
      "execution_count": null,
      "outputs": []
    },
    {
      "cell_type": "code",
      "source": [
        "plt.figure(figsize=(12, 5))\n",
        "plt.bar(words_noun_num.index[:10], words_noun_num.values[:10])\n",
        "plt.title(\"Noun_frequency\")\n",
        "plt.show()"
      ],
      "metadata": {
        "colab": {
          "base_uri": "https://localhost:8080/",
          "height": 477
        },
        "id": "chc49aCNCyDG",
        "outputId": "ee6b1f2a-f059-4910-cb57-804e3ed6c460"
      },
      "execution_count": null,
      "outputs": [
        {
          "output_type": "display_data",
          "data": {
            "text/plain": [
              "<Figure size 1200x500 with 1 Axes>"
            ],
            "image/png": "[encoded data removed]"
          },
          "metadata": {}
        }
      ]
    },
    {
      "cell_type": "code",
      "source": [
        "most_popular_noun = words_noun_num.index[0]\n",
        "print(most_popular_noun)"
      ],
      "metadata": {
        "colab": {
          "base_uri": "https://localhost:8080/"
        },
        "id": "El3xlILlC7AS",
        "outputId": "54c9e72a-a765-4e29-9c59-c70022ae8c06"
      },
      "execution_count": null,
      "outputs": [
        {
          "output_type": "stream",
          "name": "stdout",
          "text": [
            "time\n"
          ]
        }
      ]
    },
    {
      "cell_type": "markdown",
      "metadata": {
        "id": "K-OGc1rSwC5x"
      },
      "source": [
        "Впоследствии обучение моделей может занимать слишком много времени, работайте с подвыборкой, например, только текстами определенных категорий."
      ]
    },
    {
      "cell_type": "markdown",
      "metadata": {
        "id": "Eb7MhxVRwC5y"
      },
      "source": [
        "Категории нашего корпуса:"
      ]
    },
    {
      "cell_type": "code",
      "metadata": {
        "id": "GSiVcP1TwC51",
        "colab": {
          "base_uri": "https://localhost:8080/"
        },
        "outputId": "94000bc9-3bb4-4772-a9c6-b62b66b38c19"
      },
      "source": [
        "brown.categories()"
      ],
      "execution_count": null,
      "outputs": [
        {
          "output_type": "execute_result",
          "data": {
            "text/plain": [
              "['adventure',\n",
              " 'belles_lettres',\n",
              " 'editorial',\n",
              " 'fiction',\n",
              " 'government',\n",
              " 'hobbies',\n",
              " 'humor',\n",
              " 'learned',\n",
              " 'lore',\n",
              " 'mystery',\n",
              " 'news',\n",
              " 'religion',\n",
              " 'reviews',\n",
              " 'romance',\n",
              " 'science_fiction']"
            ]
          },
          "metadata": {},
          "execution_count": 32
        }
      ]
    },
    {
      "cell_type": "markdown",
      "metadata": {
        "id": "MjSlFatJwC53"
      },
      "source": [
        "Будем работать с категорией humor"
      ]
    },
    {
      "cell_type": "markdown",
      "metadata": {
        "id": "_f1rl5x0wC55"
      },
      "source": [
        "Cделайте случайное разбиение выборки на обучение и контроль в отношении 9:1."
      ]
    },
    {
      "cell_type": "code",
      "metadata": {
        "id": "GX9t-1qowC58"
      },
      "source": [
        "brown_tagged_sents = brown.tagged_sents(tagset=\"universal\", categories='humor')\n",
        "# Приведем слова к нижнему регистру\n",
        "my_brown_tagged_sents = []\n",
        "for sent in brown_tagged_sents:\n",
        "    my_brown_tagged_sents.append(list(map(lambda x: (x[0].lower(), x[1]), sent)))\n",
        "my_brown_tagged_sents = np.array(my_brown_tagged_sents, dtype='object')\n",
        "\n",
        "from sklearn.model_selection import train_test_split\n",
        "train_sents, test_sents = train_test_split(my_brown_tagged_sents, test_size=0.1,\n",
        "                                           shuffle=True, random_state=22)"
      ],
      "execution_count": null,
      "outputs": []
    },
    {
      "cell_type": "code",
      "source": [
        "train_sents[0]"
      ],
      "metadata": {
        "colab": {
          "base_uri": "https://localhost:8080/"
        },
        "id": "MNvk4-zXFZK4",
        "outputId": "20019b7c-da45-4223-af1b-813663075925"
      },
      "execution_count": null,
      "outputs": [
        {
          "output_type": "execute_result",
          "data": {
            "text/plain": [
              "[('for', 'ADP'),\n",
              " ('it', 'PRON'),\n",
              " ('seems', 'VERB'),\n",
              " ('that', 'ADP'),\n",
              " ('barco', 'NOUN'),\n",
              " (',', '.'),\n",
              " ('fancying', 'VERB'),\n",
              " ('himself', 'PRON'),\n",
              " ('a', 'DET'),\n",
              " (\"ladies'\", 'NOUN'),\n",
              " ('man', 'NOUN'),\n",
              " ('(', '.'),\n",
              " ('and', 'CONJ'),\n",
              " ('why', 'ADV'),\n",
              " ('not', 'ADV'),\n",
              " (',', '.'),\n",
              " ('after', 'ADP'),\n",
              " ('seven', 'NUM'),\n",
              " ('marriages', 'NOUN'),\n",
              " ('?', '.'),\n",
              " ('?', '.')]"
            ]
          },
          "metadata": {},
          "execution_count": 122
        }
      ]
    },
    {
      "cell_type": "code",
      "metadata": {
        "id": "pXkVwUjYwC5-",
        "colab": {
          "base_uri": "https://localhost:8080/"
        },
        "outputId": "656fdf9a-01ba-4cf1-8c4e-b35b545658df"
      },
      "source": [
        "len(train_sents)"
      ],
      "execution_count": null,
      "outputs": [
        {
          "output_type": "execute_result",
          "data": {
            "text/plain": [
              "947"
            ]
          },
          "metadata": {},
          "execution_count": 123
        }
      ]
    },
    {
      "cell_type": "code",
      "metadata": {
        "id": "JQMjzJ2YwC6C",
        "colab": {
          "base_uri": "https://localhost:8080/"
        },
        "outputId": "03ddd95e-bdcf-4572-9cbb-e8a0c810038d"
      },
      "source": [
        "len(test_sents)"
      ],
      "execution_count": null,
      "outputs": [
        {
          "output_type": "execute_result",
          "data": {
            "text/plain": [
              "106"
            ]
          },
          "metadata": {},
          "execution_count": 124
        }
      ]
    },
    {
      "cell_type": "code",
      "source": [
        "test_sents[0]"
      ],
      "metadata": {
        "colab": {
          "base_uri": "https://localhost:8080/"
        },
        "id": "f5bzZxy0ALmC",
        "outputId": "0586843e-05ac-45f8-8fd6-c535dbe0261e"
      },
      "execution_count": null,
      "outputs": [
        {
          "output_type": "execute_result",
          "data": {
            "text/plain": [
              "[('they', 'PRON'),\n",
              " ('were', 'VERB'),\n",
              " ('clumsy', 'ADJ'),\n",
              " (',', '.'),\n",
              " ('but', 'CONJ'),\n",
              " ('they', 'PRON'),\n",
              " ('were', 'VERB'),\n",
              " ('beginning', 'VERB'),\n",
              " ('to', 'PRT'),\n",
              " ('catch', 'VERB'),\n",
              " ('on', 'PRT'),\n",
              " ('.', '.')]"
            ]
          },
          "metadata": {},
          "execution_count": 125
        }
      ]
    },
    {
      "cell_type": "markdown",
      "metadata": {
        "id": "_rEasLVcwC6G"
      },
      "source": [
        "### Метод максимального правдоподобия для обучения модели\n",
        "\n",
        "* $\\normalsize S = s_0, s_1, ..., s_N$ - скрытые состояния, то есть различные теги\n",
        "* $\\normalsize O = o_0, o_1, ..., o_M$ - различные слова\n",
        "* $\\normalsize a_{i,j} = p(s_j|s_i)$ - вероятность того, что, находясь в скрытом состоянии $s_i$, мы попадем в состояние $s_j$ (элемент матрицы $A$)\n",
        "* $\\normalsize b_{k,j}=p(o_k|s_j)$ - вероятность того, что при скрытом состоянии $s_j$ находится слово $o_k$(элемент матрицы $B$)\n",
        "\n",
        "$$\\normalsize x_t \\in O, y_t \\in S$$\n",
        "$\\normalsize (x_t, y_t)$ - слово и тег, стоящие на месте $t$ $\\Rightarrow$\n",
        "* $\\normalsize X$ - последовательность слов\n",
        "* $\\normalsize Y$ - последовательность тегов\n",
        "\n",
        "Требуется построить скрытую марковскую модель (class HiddenMarkovModel) и написать метод fit для настройки всех её параметров с помощью оценок максимального правдоподобия по размеченным данным (последовательности пар слово+тег):\n",
        "\n",
        "- Вероятности переходов между скрытыми состояниями $p(y_t | y_{t - 1})$ посчитайте на основе частот биграмм POS-тегов.\n",
        "\n",
        "\n",
        "- Вероятности эмиссий наблюдаемых состояний $p(x_t | y_t)$ посчитайте на основе частот \"POS-тег - слово\".\n",
        "\n",
        "\n",
        "- Распределение вероятностей начальных состояний $p(y_0)$ задайте равномерным.\n",
        "\n",
        "Пример $X = [x_0, x_1], Y = [y_0, y_1]$:<br><br>\n",
        "$$p(X, Y) = p(x_0, x_1, y_0, y_1) = p(y_0) \\cdot p(x_0, x_1, y_1 | y_0) = p(y_0) \\cdot p(x_0 | y_0) \\cdot\n",
        "p(x_1, y_1 | x_0, y_0) = \\\\ = p(y_0) \\cdot p(x_0 | y_0) \\cdot p(y_1 | x_0, y_0) \\cdot p(x_1 | x_0, y_0, y_1)\n",
        "= (\\text{в силу условий нашей модели}) = \\\\ = p(y_0) \\cdot p(x_0 | y_0) \\cdot p(y_1 | y_0) \\cdot p(x_1 | y_1) \\Rightarrow$$ <br>\n",
        "Для последовательности длины $n + 1$:<br>\n",
        "$$p(X, Y) = p(x_0 ... x_{n - 1}, y_0 ... y_{n - 1}) \\cdot p(y_n | y_{n - 1}) \\cdot p(x_n | y_n)$$"
      ]
    },
    {
      "cell_type": "markdown",
      "metadata": {
        "id": "tysPoe5rwC6I"
      },
      "source": [
        "#### Алгоритм Витерби для применения модели\n",
        "\n",
        "\n",
        "Требуется написать метод .predict для определения частей речи на тестовой выборке. Чтобы использовать обученную модель на новых данных, необходимо реализовать алгоритм Витерби. Это алгоритм динамиеского программирования, с помощью которого мы будем находить наиболее вероятную последовательность скрытых состояний модели для фиксированной последовательности слов:\n",
        "\n",
        "$$ \\hat{Y} = \\arg \\max_{Y} p(Y|X) = \\arg \\max_{Y} p(Y, X) $$\n",
        "\n",
        "Пусть $\\normalsize Q_{t,s}$ - самая вероятная последовательность скрытых состояний длины $t$ с окончанием в состоянии $s$. $\\normalsize q_{t, s}$ - вероятность этой последовательности.\n",
        "$$(1)\\: \\normalsize q_{t,s} = \\max_{s'} q_{t - 1, s'} \\cdot p(s | s') \\cdot p(o_t | s)$$\n",
        "$\\normalsize Q_{t,s}$ можно восстановить по argmax-ам."
      ]
    },
    {
      "cell_type": "code",
      "metadata": {
        "id": "QpEXdhOfwC6J"
      },
      "source": [
        "class HiddenMarkovModel:\n",
        "    def __init__(self):\n",
        "        pass\n",
        "\n",
        "    def fit(self, train_tokens_tags_list):\n",
        "        \"\"\"\n",
        "        train_tokens_tags_list: массив предложений пар слово-тег (выборка для train)\n",
        "        \"\"\"\n",
        "        tags = [tag for sent in train_tokens_tags_list\n",
        "                for (word, tag) in sent]\n",
        "        words = [word for sent in train_tokens_tags_list\n",
        "                for (word, tag) in sent]\n",
        "\n",
        "\n",
        "        tag_num = pd.Series(nltk.FreqDist(tags)).sort_index()\n",
        "        word_num = pd.Series(nltk.FreqDist(words)).sort_values(ascending=False)\n",
        "\n",
        "        self.tags = tag_num.index\n",
        "        self.words = word_num.index\n",
        "\n",
        "        A = pd.DataFrame({'{}'.format(tag) : [0] * len(tag_num) for tag in tag_num.index}, index=tag_num.index)\n",
        "        B = pd.DataFrame({'{}'.format(tag) : [0] * len(word_num) for tag in tag_num.index}, index=word_num.index)\n",
        "\n",
        "        # Вычисляем матрицу A и B по частотам слов и тегов\n",
        "\n",
        "        # sent - предложение\n",
        "        # sent[i][0] - i слово в этом предложении, sent[i][1] - i тег в этом предложении\n",
        "        for sent in train_tokens_tags_list:\n",
        "            for i in range(len(sent)):\n",
        "                B.loc[sent[i][0], sent[i][1]] += 1 # текущая i-пара слово-тег (обновите матрицу B аналогично A)\n",
        "                if len(sent) - 1 != i: # для последнего тега нет следующего тега\n",
        "                    A.loc[sent[i][1], sent[i + 1][1]] += 1 # пара тег-тег\n",
        "\n",
        "\n",
        "        # переходим к вероятностям\n",
        "\n",
        "        # нормируем по строке, то есть по всем всевозможным следующим тегам\n",
        "        A = A.divide(A.sum(axis=1), axis=0)\n",
        "\n",
        "        # нормируем по столбцу, то есть по всем всевозможным текущим словам\n",
        "        B = B / np.sum(B, axis=0)\n",
        "\n",
        "        self.A = A\n",
        "        self.B = B\n",
        "\n",
        "        return self\n",
        "\n",
        "\n",
        "    def predict(self, test_tokens_list):\n",
        "        \"\"\"\n",
        "        test_tokens_list : массив предложений пар слово-тег (выборка для test) # Враньё - тега нет!\n",
        "        \"\"\"\n",
        "        predict_tags = OrderedDict({i : np.array([]) for i in range(len(test_tokens_list))})\n",
        "\n",
        "        for i_sent in range(len(test_tokens_list)):\n",
        "\n",
        "            current_sent = test_tokens_list[i_sent] # текущее предложение\n",
        "            len_sent = len(current_sent) # длина предложения\n",
        "\n",
        "            q = np.zeros(shape=(len_sent + 1, len(self.tags)))\n",
        "            q[0] = 1 # нулевое состояние (равномерная инициализация по всем s)\n",
        "            back_point = np.zeros(shape=(len_sent + 1, len(self.tags))) # # argmax\n",
        "\n",
        "            for t in range(len_sent):\n",
        "\n",
        "                # если мы не встречали такое слово в обучении, то вместо него будет\n",
        "                # самое популярное слово с самым популярным тегом (вопрос 2)\n",
        "                if current_sent[t] not in self.words:\n",
        "                    current_sent[t] = most_popular_noun #noun_word[idx_of_freq]  # '''your code'''\n",
        "\n",
        "                # через max выбираем следующий тег\n",
        "                for i_s in range(len(self.tags)):\n",
        "\n",
        "                    s = self.tags[i_s]\n",
        "\n",
        "                    # формула (1)\n",
        "                    q[t + 1][i_s] = np.max(q[t, :] *\n",
        "                        self.A.loc[:, s] *\n",
        "                        self.B.loc[current_sent[t], s])\n",
        "\n",
        "                    # argmax формула(1)\n",
        "\n",
        "                    # argmax, чтобы восстановить последовательность тегов\n",
        "                    back_point[t + 1][i_s] = (q[t, :] * self.A.loc[:, s] *\n",
        "                        self.B.loc[current_sent[t], s]).reset_index()[s].idxmax() # индекс\n",
        "\n",
        "            back_point = back_point.astype('int')\n",
        "\n",
        "            # выписываем теги, меняя порядок на реальный\n",
        "            back_tag = deque()\n",
        "            current_tag = np.argmax(q[len_sent])\n",
        "            for t in range(len_sent, 0, -1):\n",
        "                back_tag.appendleft(self.tags[current_tag])\n",
        "                current_tag = back_point[t, current_tag]\n",
        "\n",
        "            predict_tags[i_sent] = np.array(back_tag)\n",
        "\n",
        "        return predict_tags"
      ],
      "execution_count": null,
      "outputs": []
    },
    {
      "cell_type": "markdown",
      "metadata": {
        "id": "y0BLgsWkwC6M"
      },
      "source": [
        "Обучите скрытую марковскую модель:"
      ]
    },
    {
      "cell_type": "code",
      "metadata": {
        "id": "ZcSoyUAxwC6M"
      },
      "source": [
        "my_model = HiddenMarkovModel()"
      ],
      "execution_count": null,
      "outputs": []
    },
    {
      "cell_type": "code",
      "source": [
        "my_model.fit(train_sents)"
      ],
      "metadata": {
        "colab": {
          "base_uri": "https://localhost:8080/"
        },
        "id": "fKKm2Vn8G4QC",
        "outputId": "443d73e8-003d-45c4-f4d8-b1142c9a4676"
      },
      "execution_count": null,
      "outputs": [
        {
          "output_type": "execute_result",
          "data": {
            "text/plain": [
              "<__main__.HiddenMarkovModel at 0x7f87dcaf45e0>"
            ]
          },
          "metadata": {},
          "execution_count": 231
        }
      ]
    },
    {
      "cell_type": "code",
      "source": [
        "my_model.A"
      ],
      "metadata": {
        "colab": {
          "base_uri": "https://localhost:8080/",
          "height": 425
        },
        "id": "kBd_SmwaLroH",
        "outputId": "91e51b64-21a3-4deb-fc69-c12209df9e82"
      },
      "execution_count": null,
      "outputs": [
        {
          "output_type": "execute_result",
          "data": {
            "text/plain": [
              "             .       ADJ       ADP       ADV      CONJ       DET      NOUN  \\\n",
              ".     0.239666  0.035300  0.094287  0.063168  0.095680  0.104505  0.100790   \n",
              "ADJ   0.161943  0.055061  0.092308  0.013765  0.034008  0.008097  0.580567   \n",
              "ADP   0.018683  0.060252  0.023821  0.017282  0.000934  0.455395  0.241009   \n",
              "ADV   0.184866  0.159004  0.102490  0.090996  0.014368  0.065134  0.029693   \n",
              "CONJ  0.057632  0.098131  0.070093  0.102804  0.001558  0.138629  0.163551   \n",
              "DET   0.016780  0.222222  0.005896  0.019501  0.000000  0.004535  0.647619   \n",
              "NOUN  0.334090  0.010598  0.214232  0.035074  0.062831  0.016654  0.130204   \n",
              "NUM   0.103704  0.118519  0.148148  0.000000  0.029630  0.007407  0.518519   \n",
              "PRON  0.110204  0.004082  0.059592  0.055510  0.008980  0.024490  0.004082   \n",
              "PRT   0.128548  0.016694  0.098497  0.056761  0.011686  0.085142  0.018364   \n",
              "VERB  0.110132  0.047199  0.158590  0.094084  0.016677  0.164254  0.081812   \n",
              "X     0.285714  0.000000  0.081633  0.020408  0.020408  0.000000  0.102041   \n",
              "\n",
              "           NUM      PRON       PRT      VERB         X  \n",
              ".     0.006503  0.102647  0.038086  0.116117  0.003251  \n",
              "ADJ   0.002429  0.010526  0.025911  0.012955  0.002429  \n",
              "ADP   0.015413  0.110696  0.019617  0.036432  0.000467  \n",
              "ADV   0.007663  0.079502  0.028736  0.236590  0.000958  \n",
              "CONJ  0.014019  0.102804  0.021807  0.224299  0.004673  \n",
              "DET   0.006349  0.016780  0.001361  0.056689  0.002268  \n",
              "NOUN  0.001262  0.028514  0.020187  0.145597  0.000757  \n",
              "NUM   0.037037  0.000000  0.007407  0.029630  0.000000  \n",
              "PRON  0.004898  0.006531  0.020408  0.700408  0.000816  \n",
              "PRT   0.003339  0.008347  0.013356  0.559265  0.000000  \n",
              "VERB  0.007237  0.080554  0.078351  0.160478  0.000629  \n",
              "X     0.000000  0.020408  0.000000  0.020408  0.448980  "
            ],
            "text/html": [
              "\n",
              "  <div id=\"df-629ffecd-c7c5-4e1a-be89-fa965bc8913b\">\n",
              "    <div class=\"colab-df-container\">\n",
              "      <div>\n",
              "<style scoped>\n",
              "    .dataframe tbody tr th:only-of-type {\n",
              "        vertical-align: middle;\n",
              "    }\n",
              "\n",
              "    .dataframe tbody tr th {\n",
              "        vertical-align: top;\n",
              "    }\n",
              "\n",
              "    .dataframe thead th {\n",
              "        text-align: right;\n",
              "    }\n",
              "</style>\n",
              "<table border=\"1\" class=\"dataframe\">\n",
              "  <thead>\n",
              "    <tr style=\"text-align: right;\">\n",
              "      <th></th>\n",
              "      <th>.</th>\n",
              "      <th>ADJ</th>\n",
              "      <th>ADP</th>\n",
              "      <th>ADV</th>\n",
              "      <th>CONJ</th>\n",
              "      <th>DET</th>\n",
              "      <th>NOUN</th>\n",
              "      <th>NUM</th>\n",
              "      <th>PRON</th>\n",
              "      <th>PRT</th>\n",
              "      <th>VERB</th>\n",
              "      <th>X</th>\n",
              "    </tr>\n",
              "  </thead>\n",
              "  <tbody>\n",
              "    <tr>\n",
              "      <th>.</th>\n",
              "      <td>0.239666</td>\n",
              "      <td>0.035300</td>\n",
              "      <td>0.094287</td>\n",
              "      <td>0.063168</td>\n",
              "      <td>0.095680</td>\n",
              "      <td>0.104505</td>\n",
              "      <td>0.100790</td>\n",
              "      <td>0.006503</td>\n",
              "      <td>0.102647</td>\n",
              "      <td>0.038086</td>\n",
              "      <td>0.116117</td>\n",
              "      <td>0.003251</td>\n",
              "    </tr>\n",
              "    <tr>\n",
              "      <th>ADJ</th>\n",
              "      <td>0.161943</td>\n",
              "      <td>0.055061</td>\n",
              "      <td>0.092308</td>\n",
              "      <td>0.013765</td>\n",
              "      <td>0.034008</td>\n",
              "      <td>0.008097</td>\n",
              "      <td>0.580567</td>\n",
              "      <td>0.002429</td>\n",
              "      <td>0.010526</td>\n",
              "      <td>0.025911</td>\n",
              "      <td>0.012955</td>\n",
              "      <td>0.002429</td>\n",
              "    </tr>\n",
              "    <tr>\n",
              "      <th>ADP</th>\n",
              "      <td>0.018683</td>\n",
              "      <td>0.060252</td>\n",
              "      <td>0.023821</td>\n",
              "      <td>0.017282</td>\n",
              "      <td>0.000934</td>\n",
              "      <td>0.455395</td>\n",
              "      <td>0.241009</td>\n",
              "      <td>0.015413</td>\n",
              "      <td>0.110696</td>\n",
              "      <td>0.019617</td>\n",
              "      <td>0.036432</td>\n",
              "      <td>0.000467</td>\n",
              "    </tr>\n",
              "    <tr>\n",
              "      <th>ADV</th>\n",
              "      <td>0.184866</td>\n",
              "      <td>0.159004</td>\n",
              "      <td>0.102490</td>\n",
              "      <td>0.090996</td>\n",
              "      <td>0.014368</td>\n",
              "      <td>0.065134</td>\n",
              "      <td>0.029693</td>\n",
              "      <td>0.007663</td>\n",
              "      <td>0.079502</td>\n",
              "      <td>0.028736</td>\n",
              "      <td>0.236590</td>\n",
              "      <td>0.000958</td>\n",
              "    </tr>\n",
              "    <tr>\n",
              "      <th>CONJ</th>\n",
              "      <td>0.057632</td>\n",
              "      <td>0.098131</td>\n",
              "      <td>0.070093</td>\n",
              "      <td>0.102804</td>\n",
              "      <td>0.001558</td>\n",
              "      <td>0.138629</td>\n",
              "      <td>0.163551</td>\n",
              "      <td>0.014019</td>\n",
              "      <td>0.102804</td>\n",
              "      <td>0.021807</td>\n",
              "      <td>0.224299</td>\n",
              "      <td>0.004673</td>\n",
              "    </tr>\n",
              "    <tr>\n",
              "      <th>DET</th>\n",
              "      <td>0.016780</td>\n",
              "      <td>0.222222</td>\n",
              "      <td>0.005896</td>\n",
              "      <td>0.019501</td>\n",
              "      <td>0.000000</td>\n",
              "      <td>0.004535</td>\n",
              "      <td>0.647619</td>\n",
              "      <td>0.006349</td>\n",
              "      <td>0.016780</td>\n",
              "      <td>0.001361</td>\n",
              "      <td>0.056689</td>\n",
              "      <td>0.002268</td>\n",
              "    </tr>\n",
              "    <tr>\n",
              "      <th>NOUN</th>\n",
              "      <td>0.334090</td>\n",
              "      <td>0.010598</td>\n",
              "      <td>0.214232</td>\n",
              "      <td>0.035074</td>\n",
              "      <td>0.062831</td>\n",
              "      <td>0.016654</td>\n",
              "      <td>0.130204</td>\n",
              "      <td>0.001262</td>\n",
              "      <td>0.028514</td>\n",
              "      <td>0.020187</td>\n",
              "      <td>0.145597</td>\n",
              "      <td>0.000757</td>\n",
              "    </tr>\n",
              "    <tr>\n",
              "      <th>NUM</th>\n",
              "      <td>0.103704</td>\n",
              "      <td>0.118519</td>\n",
              "      <td>0.148148</td>\n",
              "      <td>0.000000</td>\n",
              "      <td>0.029630</td>\n",
              "      <td>0.007407</td>\n",
              "      <td>0.518519</td>\n",
              "      <td>0.037037</td>\n",
              "      <td>0.000000</td>\n",
              "      <td>0.007407</td>\n",
              "      <td>0.029630</td>\n",
              "      <td>0.000000</td>\n",
              "    </tr>\n",
              "    <tr>\n",
              "      <th>PRON</th>\n",
              "      <td>0.110204</td>\n",
              "      <td>0.004082</td>\n",
              "      <td>0.059592</td>\n",
              "      <td>0.055510</td>\n",
              "      <td>0.008980</td>\n",
              "      <td>0.024490</td>\n",
              "      <td>0.004082</td>\n",
              "      <td>0.004898</td>\n",
              "      <td>0.006531</td>\n",
              "      <td>0.020408</td>\n",
              "      <td>0.700408</td>\n",
              "      <td>0.000816</td>\n",
              "    </tr>\n",
              "    <tr>\n",
              "      <th>PRT</th>\n",
              "      <td>0.128548</td>\n",
              "      <td>0.016694</td>\n",
              "      <td>0.098497</td>\n",
              "      <td>0.056761</td>\n",
              "      <td>0.011686</td>\n",
              "      <td>0.085142</td>\n",
              "      <td>0.018364</td>\n",
              "      <td>0.003339</td>\n",
              "      <td>0.008347</td>\n",
              "      <td>0.013356</td>\n",
              "      <td>0.559265</td>\n",
              "      <td>0.000000</td>\n",
              "    </tr>\n",
              "    <tr>\n",
              "      <th>VERB</th>\n",
              "      <td>0.110132</td>\n",
              "      <td>0.047199</td>\n",
              "      <td>0.158590</td>\n",
              "      <td>0.094084</td>\n",
              "      <td>0.016677</td>\n",
              "      <td>0.164254</td>\n",
              "      <td>0.081812</td>\n",
              "      <td>0.007237</td>\n",
              "      <td>0.080554</td>\n",
              "      <td>0.078351</td>\n",
              "      <td>0.160478</td>\n",
              "      <td>0.000629</td>\n",
              "    </tr>\n",
              "    <tr>\n",
              "      <th>X</th>\n",
              "      <td>0.285714</td>\n",
              "      <td>0.000000</td>\n",
              "      <td>0.081633</td>\n",
              "      <td>0.020408</td>\n",
              "      <td>0.020408</td>\n",
              "      <td>0.000000</td>\n",
              "      <td>0.102041</td>\n",
              "      <td>0.000000</td>\n",
              "      <td>0.020408</td>\n",
              "      <td>0.000000</td>\n",
              "      <td>0.020408</td>\n",
              "      <td>0.448980</td>\n",
              "    </tr>\n",
              "  </tbody>\n",
              "</table>\n",
              "</div>\n",
              "      <button class=\"colab-df-convert\" onclick=\"convertToInteractive('df-629ffecd-c7c5-4e1a-be89-fa965bc8913b')\"\n",
              "              title=\"Convert this dataframe to an interactive table.\"\n",
              "              style=\"display:none;\">\n",
              "        \n",
              "  <svg xmlns=\"http://www.w3.org/2000/svg\" height=\"24px\"viewBox=\"0 0 24 24\"\n",
              "       width=\"24px\">\n",
              "    <path d=\"M0 0h24v24H0V0z\" fill=\"none\"/>\n",
              "    <path d=\"M18.56 5.44l.94 2.06.94-2.06 2.06-.94-2.06-.94-.94-2.06-.94 2.06-2.06.94zm-11 1L8.5 8.5l.94-2.06 2.06-.94-2.06-.94L8.5 2.5l-.94 2.06-2.06.94zm10 10l.94 2.06.94-2.06 2.06-.94-2.06-.94-.94-2.06-.94 2.06-2.06.94z\"/><path d=\"M17.41 7.96l-1.37-1.37c-.4-.4-.92-.59-1.43-.59-.52 0-1.04.2-1.43.59L10.3 9.45l-7.72 7.72c-.78.78-.78 2.05 0 2.83L4 21.41c.39.39.9.59 1.41.59.51 0 1.02-.2 1.41-.59l7.78-7.78 2.81-2.81c.8-.78.8-2.07 0-2.86zM5.41 20L4 18.59l7.72-7.72 1.47 1.35L5.41 20z\"/>\n",
              "  </svg>\n",
              "      </button>\n",
              "      \n",
              "  <style>\n",
              "    .colab-df-container {\n",
              "      display:flex;\n",
              "      flex-wrap:wrap;\n",
              "      gap: 12px;\n",
              "    }\n",
              "\n",
              "    .colab-df-convert {\n",
              "      background-color: #E8F0FE;\n",
              "      border: none;\n",
              "      border-radius: 50%;\n",
              "      cursor: pointer;\n",
              "      display: none;\n",
              "      fill: #1967D2;\n",
              "      height: 32px;\n",
              "      padding: 0 0 0 0;\n",
              "      width: 32px;\n",
              "    }\n",
              "\n",
              "    .colab-df-convert:hover {\n",
              "      background-color: #E2EBFA;\n",
              "      box-shadow: 0px 1px 2px rgba(60, 64, 67, 0.3), 0px 1px 3px 1px rgba(60, 64, 67, 0.15);\n",
              "      fill: #174EA6;\n",
              "    }\n",
              "\n",
              "    [theme=dark] .colab-df-convert {\n",
              "      background-color: #3B4455;\n",
              "      fill: #D2E3FC;\n",
              "    }\n",
              "\n",
              "    [theme=dark] .colab-df-convert:hover {\n",
              "      background-color: #434B5C;\n",
              "      box-shadow: 0px 1px 3px 1px rgba(0, 0, 0, 0.15);\n",
              "      filter: drop-shadow(0px 1px 2px rgba(0, 0, 0, 0.3));\n",
              "      fill: #FFFFFF;\n",
              "    }\n",
              "  </style>\n",
              "\n",
              "      <script>\n",
              "        const buttonEl =\n",
              "          document.querySelector('#df-629ffecd-c7c5-4e1a-be89-fa965bc8913b button.colab-df-convert');\n",
              "        buttonEl.style.display =\n",
              "          google.colab.kernel.accessAllowed ? 'block' : 'none';\n",
              "\n",
              "        async function convertToInteractive(key) {\n",
              "          const element = document.querySelector('#df-629ffecd-c7c5-4e1a-be89-fa965bc8913b');\n",
              "          const dataTable =\n",
              "            await google.colab.kernel.invokeFunction('convertToInteractive',\n",
              "                                                     [key], {});\n",
              "          if (!dataTable) return;\n",
              "\n",
              "          const docLinkHtml = 'Like what you see? Visit the ' +\n",
              "            '<a target=\"_blank\" href=https://colab.research.google.com/notebooks/data_table.ipynb>data table notebook</a>'\n",
              "            + ' to learn more about interactive tables.';\n",
              "          element.innerHTML = '';\n",
              "          dataTable['output_type'] = 'display_data';\n",
              "          await google.colab.output.renderOutput(dataTable, element);\n",
              "          const docLink = document.createElement('div');\n",
              "          docLink.innerHTML = docLinkHtml;\n",
              "          element.appendChild(docLink);\n",
              "        }\n",
              "      </script>\n",
              "    </div>\n",
              "  </div>\n",
              "  "
            ]
          },
          "metadata": {},
          "execution_count": 232
        }
      ]
    },
    {
      "cell_type": "code",
      "source": [
        "my_model.B"
      ],
      "metadata": {
        "colab": {
          "base_uri": "https://localhost:8080/",
          "height": 423
        },
        "id": "L3NgUHkEH5oQ",
        "outputId": "aad6b202-417f-4df0-b4d7-bfddb4ed9a98"
      },
      "execution_count": null,
      "outputs": [
        {
          "output_type": "execute_result",
          "data": {
            "text/plain": [
              "                    .  ADJ  ADP  ADV     CONJ       DET      NOUN  NUM  PRON  \\\n",
              ",            0.386826  0.0  0.0  0.0  0.00000  0.000000  0.000000  0.0   0.0   \n",
              "the          0.000000  0.0  0.0  0.0  0.00000  0.415873  0.000000  0.0   0.0   \n",
              ".            0.255408  0.0  0.0  0.0  0.00000  0.000000  0.000000  0.0   0.0   \n",
              "a            0.000000  0.0  0.0  0.0  0.00000  0.217234  0.000000  0.0   0.0   \n",
              "and          0.000000  0.0  0.0  0.0  0.73676  0.000000  0.000000  0.0   0.0   \n",
              "...               ...  ...  ...  ...      ...       ...       ...  ...   ...   \n",
              "imploring    0.000000  0.0  0.0  0.0  0.00000  0.000000  0.000000  0.0   0.0   \n",
              "blessed      0.000000  0.0  0.0  0.0  0.00000  0.000000  0.000000  0.0   0.0   \n",
              "forgive      0.000000  0.0  0.0  0.0  0.00000  0.000000  0.000000  0.0   0.0   \n",
              "desecration  0.000000  0.0  0.0  0.0  0.00000  0.000000  0.000252  0.0   0.0   \n",
              "approaching  0.000000  0.0  0.0  0.0  0.00000  0.000000  0.000000  0.0   0.0   \n",
              "\n",
              "             PRT      VERB    X  \n",
              ",            0.0  0.000000  0.0  \n",
              "the          0.0  0.000000  0.0  \n",
              ".            0.0  0.000000  0.0  \n",
              "a            0.0  0.000000  0.0  \n",
              "and          0.0  0.000000  0.0  \n",
              "...          ...       ...  ...  \n",
              "imploring    0.0  0.000315  0.0  \n",
              "blessed      0.0  0.000315  0.0  \n",
              "forgive      0.0  0.000315  0.0  \n",
              "desecration  0.0  0.000000  0.0  \n",
              "approaching  0.0  0.000315  0.0  \n",
              "\n",
              "[4457 rows x 12 columns]"
            ],
            "text/html": [
              "\n",
              "  <div id=\"df-40ed8d51-a45b-4898-bbc6-3021339f8e1e\">\n",
              "    <div class=\"colab-df-container\">\n",
              "      <div>\n",
              "<style scoped>\n",
              "    .dataframe tbody tr th:only-of-type {\n",
              "        vertical-align: middle;\n",
              "    }\n",
              "\n",
              "    .dataframe tbody tr th {\n",
              "        vertical-align: top;\n",
              "    }\n",
              "\n",
              "    .dataframe thead th {\n",
              "        text-align: right;\n",
              "    }\n",
              "</style>\n",
              "<table border=\"1\" class=\"dataframe\">\n",
              "  <thead>\n",
              "    <tr style=\"text-align: right;\">\n",
              "      <th></th>\n",
              "      <th>.</th>\n",
              "      <th>ADJ</th>\n",
              "      <th>ADP</th>\n",
              "      <th>ADV</th>\n",
              "      <th>CONJ</th>\n",
              "      <th>DET</th>\n",
              "      <th>NOUN</th>\n",
              "      <th>NUM</th>\n",
              "      <th>PRON</th>\n",
              "      <th>PRT</th>\n",
              "      <th>VERB</th>\n",
              "      <th>X</th>\n",
              "    </tr>\n",
              "  </thead>\n",
              "  <tbody>\n",
              "    <tr>\n",
              "      <th>,</th>\n",
              "      <td>0.386826</td>\n",
              "      <td>0.0</td>\n",
              "      <td>0.0</td>\n",
              "      <td>0.0</td>\n",
              "      <td>0.00000</td>\n",
              "      <td>0.000000</td>\n",
              "      <td>0.000000</td>\n",
              "      <td>0.0</td>\n",
              "      <td>0.0</td>\n",
              "      <td>0.0</td>\n",
              "      <td>0.000000</td>\n",
              "      <td>0.0</td>\n",
              "    </tr>\n",
              "    <tr>\n",
              "      <th>the</th>\n",
              "      <td>0.000000</td>\n",
              "      <td>0.0</td>\n",
              "      <td>0.0</td>\n",
              "      <td>0.0</td>\n",
              "      <td>0.00000</td>\n",
              "      <td>0.415873</td>\n",
              "      <td>0.000000</td>\n",
              "      <td>0.0</td>\n",
              "      <td>0.0</td>\n",
              "      <td>0.0</td>\n",
              "      <td>0.000000</td>\n",
              "      <td>0.0</td>\n",
              "    </tr>\n",
              "    <tr>\n",
              "      <th>.</th>\n",
              "      <td>0.255408</td>\n",
              "      <td>0.0</td>\n",
              "      <td>0.0</td>\n",
              "      <td>0.0</td>\n",
              "      <td>0.00000</td>\n",
              "      <td>0.000000</td>\n",
              "      <td>0.000000</td>\n",
              "      <td>0.0</td>\n",
              "      <td>0.0</td>\n",
              "      <td>0.0</td>\n",
              "      <td>0.000000</td>\n",
              "      <td>0.0</td>\n",
              "    </tr>\n",
              "    <tr>\n",
              "      <th>a</th>\n",
              "      <td>0.000000</td>\n",
              "      <td>0.0</td>\n",
              "      <td>0.0</td>\n",
              "      <td>0.0</td>\n",
              "      <td>0.00000</td>\n",
              "      <td>0.217234</td>\n",
              "      <td>0.000000</td>\n",
              "      <td>0.0</td>\n",
              "      <td>0.0</td>\n",
              "      <td>0.0</td>\n",
              "      <td>0.000000</td>\n",
              "      <td>0.0</td>\n",
              "    </tr>\n",
              "    <tr>\n",
              "      <th>and</th>\n",
              "      <td>0.000000</td>\n",
              "      <td>0.0</td>\n",
              "      <td>0.0</td>\n",
              "      <td>0.0</td>\n",
              "      <td>0.73676</td>\n",
              "      <td>0.000000</td>\n",
              "      <td>0.000000</td>\n",
              "      <td>0.0</td>\n",
              "      <td>0.0</td>\n",
              "      <td>0.0</td>\n",
              "      <td>0.000000</td>\n",
              "      <td>0.0</td>\n",
              "    </tr>\n",
              "    <tr>\n",
              "      <th>...</th>\n",
              "      <td>...</td>\n",
              "      <td>...</td>\n",
              "      <td>...</td>\n",
              "      <td>...</td>\n",
              "      <td>...</td>\n",
              "      <td>...</td>\n",
              "      <td>...</td>\n",
              "      <td>...</td>\n",
              "      <td>...</td>\n",
              "      <td>...</td>\n",
              "      <td>...</td>\n",
              "      <td>...</td>\n",
              "    </tr>\n",
              "    <tr>\n",
              "      <th>imploring</th>\n",
              "      <td>0.000000</td>\n",
              "      <td>0.0</td>\n",
              "      <td>0.0</td>\n",
              "      <td>0.0</td>\n",
              "      <td>0.00000</td>\n",
              "      <td>0.000000</td>\n",
              "      <td>0.000000</td>\n",
              "      <td>0.0</td>\n",
              "      <td>0.0</td>\n",
              "      <td>0.0</td>\n",
              "      <td>0.000315</td>\n",
              "      <td>0.0</td>\n",
              "    </tr>\n",
              "    <tr>\n",
              "      <th>blessed</th>\n",
              "      <td>0.000000</td>\n",
              "      <td>0.0</td>\n",
              "      <td>0.0</td>\n",
              "      <td>0.0</td>\n",
              "      <td>0.00000</td>\n",
              "      <td>0.000000</td>\n",
              "      <td>0.000000</td>\n",
              "      <td>0.0</td>\n",
              "      <td>0.0</td>\n",
              "      <td>0.0</td>\n",
              "      <td>0.000315</td>\n",
              "      <td>0.0</td>\n",
              "    </tr>\n",
              "    <tr>\n",
              "      <th>forgive</th>\n",
              "      <td>0.000000</td>\n",
              "      <td>0.0</td>\n",
              "      <td>0.0</td>\n",
              "      <td>0.0</td>\n",
              "      <td>0.00000</td>\n",
              "      <td>0.000000</td>\n",
              "      <td>0.000000</td>\n",
              "      <td>0.0</td>\n",
              "      <td>0.0</td>\n",
              "      <td>0.0</td>\n",
              "      <td>0.000315</td>\n",
              "      <td>0.0</td>\n",
              "    </tr>\n",
              "    <tr>\n",
              "      <th>desecration</th>\n",
              "      <td>0.000000</td>\n",
              "      <td>0.0</td>\n",
              "      <td>0.0</td>\n",
              "      <td>0.0</td>\n",
              "      <td>0.00000</td>\n",
              "      <td>0.000000</td>\n",
              "      <td>0.000252</td>\n",
              "      <td>0.0</td>\n",
              "      <td>0.0</td>\n",
              "      <td>0.0</td>\n",
              "      <td>0.000000</td>\n",
              "      <td>0.0</td>\n",
              "    </tr>\n",
              "    <tr>\n",
              "      <th>approaching</th>\n",
              "      <td>0.000000</td>\n",
              "      <td>0.0</td>\n",
              "      <td>0.0</td>\n",
              "      <td>0.0</td>\n",
              "      <td>0.00000</td>\n",
              "      <td>0.000000</td>\n",
              "      <td>0.000000</td>\n",
              "      <td>0.0</td>\n",
              "      <td>0.0</td>\n",
              "      <td>0.0</td>\n",
              "      <td>0.000315</td>\n",
              "      <td>0.0</td>\n",
              "    </tr>\n",
              "  </tbody>\n",
              "</table>\n",
              "<p>4457 rows × 12 columns</p>\n",
              "</div>\n",
              "      <button class=\"colab-df-convert\" onclick=\"convertToInteractive('df-40ed8d51-a45b-4898-bbc6-3021339f8e1e')\"\n",
              "              title=\"Convert this dataframe to an interactive table.\"\n",
              "              style=\"display:none;\">\n",
              "        \n",
              "  <svg xmlns=\"http://www.w3.org/2000/svg\" height=\"24px\"viewBox=\"0 0 24 24\"\n",
              "       width=\"24px\">\n",
              "    <path d=\"M0 0h24v24H0V0z\" fill=\"none\"/>\n",
              "    <path d=\"M18.56 5.44l.94 2.06.94-2.06 2.06-.94-2.06-.94-.94-2.06-.94 2.06-2.06.94zm-11 1L8.5 8.5l.94-2.06 2.06-.94-2.06-.94L8.5 2.5l-.94 2.06-2.06.94zm10 10l.94 2.06.94-2.06 2.06-.94-2.06-.94-.94-2.06-.94 2.06-2.06.94z\"/><path d=\"M17.41 7.96l-1.37-1.37c-.4-.4-.92-.59-1.43-.59-.52 0-1.04.2-1.43.59L10.3 9.45l-7.72 7.72c-.78.78-.78 2.05 0 2.83L4 21.41c.39.39.9.59 1.41.59.51 0 1.02-.2 1.41-.59l7.78-7.78 2.81-2.81c.8-.78.8-2.07 0-2.86zM5.41 20L4 18.59l7.72-7.72 1.47 1.35L5.41 20z\"/>\n",
              "  </svg>\n",
              "      </button>\n",
              "      \n",
              "  <style>\n",
              "    .colab-df-container {\n",
              "      display:flex;\n",
              "      flex-wrap:wrap;\n",
              "      gap: 12px;\n",
              "    }\n",
              "\n",
              "    .colab-df-convert {\n",
              "      background-color: #E8F0FE;\n",
              "      border: none;\n",
              "      border-radius: 50%;\n",
              "      cursor: pointer;\n",
              "      display: none;\n",
              "      fill: #1967D2;\n",
              "      height: 32px;\n",
              "      padding: 0 0 0 0;\n",
              "      width: 32px;\n",
              "    }\n",
              "\n",
              "    .colab-df-convert:hover {\n",
              "      background-color: #E2EBFA;\n",
              "      box-shadow: 0px 1px 2px rgba(60, 64, 67, 0.3), 0px 1px 3px 1px rgba(60, 64, 67, 0.15);\n",
              "      fill: #174EA6;\n",
              "    }\n",
              "\n",
              "    [theme=dark] .colab-df-convert {\n",
              "      background-color: #3B4455;\n",
              "      fill: #D2E3FC;\n",
              "    }\n",
              "\n",
              "    [theme=dark] .colab-df-convert:hover {\n",
              "      background-color: #434B5C;\n",
              "      box-shadow: 0px 1px 3px 1px rgba(0, 0, 0, 0.15);\n",
              "      filter: drop-shadow(0px 1px 2px rgba(0, 0, 0, 0.3));\n",
              "      fill: #FFFFFF;\n",
              "    }\n",
              "  </style>\n",
              "\n",
              "      <script>\n",
              "        const buttonEl =\n",
              "          document.querySelector('#df-40ed8d51-a45b-4898-bbc6-3021339f8e1e button.colab-df-convert');\n",
              "        buttonEl.style.display =\n",
              "          google.colab.kernel.accessAllowed ? 'block' : 'none';\n",
              "\n",
              "        async function convertToInteractive(key) {\n",
              "          const element = document.querySelector('#df-40ed8d51-a45b-4898-bbc6-3021339f8e1e');\n",
              "          const dataTable =\n",
              "            await google.colab.kernel.invokeFunction('convertToInteractive',\n",
              "                                                     [key], {});\n",
              "          if (!dataTable) return;\n",
              "\n",
              "          const docLinkHtml = 'Like what you see? Visit the ' +\n",
              "            '<a target=\"_blank\" href=https://colab.research.google.com/notebooks/data_table.ipynb>data table notebook</a>'\n",
              "            + ' to learn more about interactive tables.';\n",
              "          element.innerHTML = '';\n",
              "          dataTable['output_type'] = 'display_data';\n",
              "          await google.colab.output.renderOutput(dataTable, element);\n",
              "          const docLink = document.createElement('div');\n",
              "          docLink.innerHTML = docLinkHtml;\n",
              "          element.appendChild(docLink);\n",
              "        }\n",
              "      </script>\n",
              "    </div>\n",
              "  </div>\n",
              "  "
            ]
          },
          "metadata": {},
          "execution_count": 233
        }
      ]
    },
    {
      "cell_type": "code",
      "source": [
        "my_model.A.loc['.'].sum() # Проверка, что сумма равна 1"
      ],
      "metadata": {
        "colab": {
          "base_uri": "https://localhost:8080/"
        },
        "id": "7YqVi3wyFSQZ",
        "outputId": "4001f053-7af9-4ef7-b435-a7a17a4c38b1"
      },
      "execution_count": null,
      "outputs": [
        {
          "output_type": "execute_result",
          "data": {
            "text/plain": [
              "1.0"
            ]
          },
          "metadata": {},
          "execution_count": 234
        }
      ]
    },
    {
      "cell_type": "markdown",
      "metadata": {
        "id": "FeVNt19kwC6P"
      },
      "source": [
        "Проверьте работу реализованного алгоритма на следующих модельных примерах, проинтерпретируйте результат.\n",
        "\n",
        "- 'He can stay'\n",
        "- 'a cat and a dog'\n",
        "- 'I have a television'\n",
        "- 'My favourite character'"
      ]
    },
    {
      "cell_type": "code",
      "metadata": {
        "id": "cMJErf7NwC6Q",
        "colab": {
          "base_uri": "https://localhost:8080/"
        },
        "outputId": "393785bc-1250-48fd-a747-48b4e958fa86"
      },
      "source": [
        "sents = [['He', 'can', 'stay'], ['a', 'cat', 'and', 'a', 'dog'], ['I', 'have', 'a', 'television'],\n",
        "         ['My', 'favourite', 'character']]\n",
        "lower_sents = [list(map(lambda x: x.lower(), sent)) for sent in sents]\n",
        "lower_sents"
      ],
      "execution_count": null,
      "outputs": [
        {
          "output_type": "execute_result",
          "data": {
            "text/plain": [
              "[['he', 'can', 'stay'],\n",
              " ['a', 'cat', 'and', 'a', 'dog'],\n",
              " ['i', 'have', 'a', 'television'],\n",
              " ['my', 'favourite', 'character']]"
            ]
          },
          "metadata": {},
          "execution_count": 235
        }
      ]
    },
    {
      "cell_type": "code",
      "source": [
        "my_model.predict(sents)"
      ],
      "metadata": {
        "colab": {
          "base_uri": "https://localhost:8080/"
        },
        "id": "jo927j0mSlbP",
        "outputId": "7fac6d60-f590-4c60-a1a5-fe27ca9b2ae2"
      },
      "execution_count": null,
      "outputs": [
        {
          "output_type": "execute_result",
          "data": {
            "text/plain": [
              "OrderedDict([(0, array(['NOUN', 'VERB', 'VERB'], dtype='<U4')),\n",
              "             (1, array(['DET', 'NOUN', 'CONJ', 'DET', 'NOUN'], dtype='<U4')),\n",
              "             (2, array(['NOUN', 'VERB', 'DET', 'NOUN'], dtype='<U4')),\n",
              "             (3, array(['NOUN', 'NOUN', 'NOUN'], dtype='<U4'))])"
            ]
          },
          "metadata": {},
          "execution_count": 236
        }
      ]
    },
    {
      "cell_type": "markdown",
      "metadata": {
        "id": "suDCwbGMwC6T"
      },
      "source": [
        "### Вопрос 3:\n",
        "* Какой тег вы получили для слова `can`?"
      ]
    },
    {
      "cell_type": "code",
      "metadata": {
        "id": "ReHeG3IjwC6U",
        "colab": {
          "base_uri": "https://localhost:8080/",
          "height": 36
        },
        "outputId": "883bea11-0d9f-40bc-923a-c72ef7f6de67"
      },
      "source": [
        "my_model.predict(sents)[0][1]"
      ],
      "execution_count": null,
      "outputs": [
        {
          "output_type": "execute_result",
          "data": {
            "text/plain": [
              "'VERB'"
            ],
            "application/vnd.google.colaboratory.intrinsic+json": {
              "type": "string"
            }
          },
          "metadata": {},
          "execution_count": 237
        }
      ]
    },
    {
      "cell_type": "markdown",
      "metadata": {
        "id": "ObAslurlwC6X"
      },
      "source": [
        "### Вопрос 4:\n",
        "* Какой тег вы получили для слова `favourite`?"
      ]
    },
    {
      "cell_type": "code",
      "metadata": {
        "id": "94crVrrXwC6Y",
        "colab": {
          "base_uri": "https://localhost:8080/",
          "height": 36
        },
        "outputId": "179d35e8-e432-4733-8a46-25ea6b61a480"
      },
      "source": [
        "my_model.predict(sents)[3][1]"
      ],
      "execution_count": null,
      "outputs": [
        {
          "output_type": "execute_result",
          "data": {
            "text/plain": [
              "'NOUN'"
            ],
            "application/vnd.google.colaboratory.intrinsic+json": {
              "type": "string"
            }
          },
          "metadata": {},
          "execution_count": 238
        }
      ]
    },
    {
      "cell_type": "markdown",
      "metadata": {
        "id": "YPC4NZ4HwC6a"
      },
      "source": [
        "Примените модель к отложенной выборке Брауновского корпуса и подсчитайте точность определения тегов (accuracy). Сделайте выводы."
      ]
    },
    {
      "cell_type": "code",
      "metadata": {
        "id": "-7aioBc1wC6b"
      },
      "source": [
        "def accuracy_score(model, sents):\n",
        "    true_pred = 0\n",
        "    num_pred = 0\n",
        "\n",
        "    for sent in sents:\n",
        "       # tags = [tup[1] for tup in sent] #'''your code'''\n",
        "       # words = [tup[0] for tup in sent] #'''your code'''\n",
        "        tags = [tag for (word, tag) in sent] # '''your code'''\n",
        "        words = [word for (word, tag) in sent]\n",
        "\n",
        "        #prediction = model.predict([words])     #'''your code'''\n",
        "        preds = model.predict([words])[0]\n",
        "        print('tags:', tags)\n",
        "        print('words:', words)\n",
        "        print('prediction:', preds)\n",
        "\n",
        "\n",
        "        #true_pred += sum([prediction[0][i] == tags[i] for i in range(len(tags))])  #'''your code'''\n",
        "        true_pred += sum([tag == pred for tag, pred in zip(tags, preds)])\n",
        "        num_pred += len(tags) #'''your code'''\n",
        "    print(\"Accuracy:\", true_pred / num_pred * 100, '%')"
      ],
      "execution_count": null,
      "outputs": []
    },
    {
      "cell_type": "code",
      "metadata": {
        "id": "roesKrPCcMbp",
        "colab": {
          "base_uri": "https://localhost:8080/"
        },
        "outputId": "89ee33b1-1dd1-4902-a80a-f4d3948af275"
      },
      "source": [
        "accuracy_score(my_model, test_sents)"
      ],
      "execution_count": null,
      "outputs": [
        {
          "output_type": "stream",
          "name": "stdout",
          "text": [
            "tags: ['PRON', 'VERB', 'ADJ', '.', 'CONJ', 'PRON', 'VERB', 'VERB', 'PRT', 'VERB', 'PRT', '.']\n",
            "words: ['they', 'were', 'time', ',', 'but', 'they', 'were', 'beginning', 'to', 'time', 'on', '.']\n",
            "prediction: ['PRON' 'VERB' 'NOUN' '.' 'CONJ' 'PRON' 'VERB' 'NOUN' 'ADP' 'NOUN' 'ADP'\n",
            " '.']\n",
            "tags: ['CONJ', 'PRON', 'VERB', 'VERB', 'DET', 'NOUN', 'ADP', 'DET', 'NOUN', '.']\n",
            "words: ['and', 'they', 'had', 'told', 'their', 'mother', 'about', 'the', 'time', '.']\n",
            "prediction: ['CONJ' 'PRON' 'VERB' 'VERB' 'DET' 'NOUN' 'ADP' 'DET' 'NOUN' '.']\n",
            "tags: ['PRON', 'VERB', 'ADP', 'DET', 'NOUN', 'VERB', 'ADV', 'VERB', 'DET', 'NOUN', '.', 'CONJ', 'VERB', 'VERB', 'ADV', 'ADP', 'DET', 'NOUN', 'NOUN', '.']\n",
            "words: ['i', 'discovered', 'that', 'the', 'girls', 'had', 'time', 'time', 'the', 'kitchen', ',', 'and', 'were', 'playing', 'quietly', 'in', 'the', 'living', 'room', '.']\n",
            "prediction: ['PRON' 'VERB' 'ADP' 'DET' 'NOUN' 'VERB' 'NOUN' 'NOUN' 'DET' 'NOUN' '.'\n",
            " 'CONJ' 'VERB' 'VERB' 'ADV' 'ADP' 'DET' 'VERB' 'NOUN' '.']\n",
            "tags: ['ADJ', 'ADJ', 'NOUN', 'VERB', 'NOUN', 'ADP', 'VERB', 'PRON', 'ADJ', 'VERB', '.', 'CONJ', 'PRON', 'VERB', 'ADV', 'VERB', 'ADP', 'DET', 'NOUN', 'ADP', 'DET', 'NOUN', 'VERB', '.']\n",
            "words: ['such', 'ambiguous', 'time', 'time', 'confusion', 'by', 'making', 'it', 'worse', 'time', ',', 'and', 'they', 'are', 'sometimes', 'time', 'until', 'the', 'time', 'of', 'the', 'time', 'time', '.']\n",
            "prediction: ['ADJ' 'ADJ' 'NOUN' 'NOUN' 'NOUN' 'ADP' 'VERB' 'PRON' 'ADJ' 'NOUN' '.'\n",
            " 'CONJ' 'PRON' 'VERB' 'ADV' 'NOUN' 'ADP' 'DET' 'NOUN' 'ADP' 'DET' 'NOUN'\n",
            " 'NOUN' '.']\n",
            "tags: ['PRON', 'VERB', 'PRON', 'VERB', 'ADP', 'DET', '.']\n",
            "words: ['i', 'guess', 'you', 'know', 'about', 'that', '.']\n",
            "prediction: ['PRON' 'VERB' 'PRON' 'VERB' 'ADP' 'PRON' '.']\n",
            "tags: ['.', 'PRT', 'ADV', '.', 'DET', 'ADJ', 'NOUN', 'PRON', 'VERB', 'DET', 'ADP', 'NOUN', 'ADJ', 'NOUN', '.', 'CONJ', 'PRT', 'VERB', 'DET', 'NOUN', 'ADP', 'DET', 'NOUN', 'ADP', 'NOUN', 'CONJ', 'NOUN', 'VERB', 'NOUN', '.', 'ADJ', 'ADP', 'DET', 'NUM', 'NOUN', 'ADV', '.']\n",
            "words: ['``', 'oh', 'yes', ',', 'the', 'other', 'day', 'i', 'time', 'some', 'of', 'time', 'english', 'time', ',', 'and', 'there', 'was', 'an', 'time', 'about', 'a', 'group', 'of', 'english', 'and', 'time', 'time', 'time', ',', 'more', 'than', 'a', 'hundred', 'years', 'ago', '.']\n",
            "prediction: ['.' 'PRT' 'ADV' '.' 'DET' 'ADJ' 'NOUN' 'PRON' 'NOUN' 'DET' 'ADP' 'NOUN'\n",
            " 'NOUN' 'NOUN' '.' 'CONJ' 'PRT' 'VERB' 'DET' 'NOUN' 'ADP' 'DET' 'NOUN'\n",
            " 'ADP' 'NOUN' 'CONJ' 'NOUN' 'NOUN' 'NOUN' '.' 'ADV' 'ADP' 'DET' 'NUM'\n",
            " 'NOUN' 'ADV' '.']\n",
            "tags: ['PRON', 'VERB', '.']\n",
            "words: ['he', 'asked', '.']\n",
            "prediction: ['PRON' 'VERB' '.']\n",
            "tags: ['PRON', 'VERB', 'VERB', 'ADP', 'PRON', 'NUM', 'ADP', 'DET', 'NOUN', 'CONJ', 'VERB', 'NUM', 'NOUN', 'ADP', 'ADV', '.', 'ADV', 'DET', 'NOUN', 'ADP', 'X', '.']\n",
            "words: ['he', 'was', 'talking', 'to', 'himself', 'time', 'to', 'the', 'dozen', 'and', 'time', 'two', 'time', 'at', 'once', ',', 'clearly', 'a', 'man', 'in', 'time', '.']\n",
            "prediction: ['PRON' 'VERB' 'VERB' 'ADP' 'PRON' 'NOUN' 'ADP' 'DET' 'NOUN' 'CONJ' 'NOUN'\n",
            " 'NUM' 'NOUN' 'ADP' 'ADV' '.' 'ADV' 'DET' 'NOUN' 'ADP' 'NOUN' '.']\n",
            "tags: ['PRON', 'VERB', 'VERB', 'VERB', 'PRON', 'ADP', 'ADP', 'DET', 'NOUN', 'ADP', 'PRON', 'VERB', '.', 'ADP', 'DET', 'NOUN', '.', 'PRON', 'VERB', 'VERB', 'ADP', 'PRON', '.', 'ADP', 'PRON', 'VERB', 'NOUN', 'ADP', 'DET', 'NOUN', 'NOUN', '.', 'CONJ', 'VERB', 'VERB', 'PRON', 'ADP', 'NOUN', 'ADV', '.']\n",
            "words: ['we', \"didn't\", 'even', 'know', 'them', 'till', 'about', 'a', 'time', 'after', 'we', 'moved', '--', 'at', 'that', 'time', ',', 'they', 'had', 'called', 'on', 'us', ',', 'after', 'i', 'met', 'fran', 'at', 'a', 'pta', 'meeting', ',', 'and', 'had', 'taken', 'us', 'in', 'hand', 'socially', '.']\n",
            "prediction: ['PRON' 'VERB' 'ADV' 'VERB' 'PRON' 'ADP' 'ADP' 'DET' 'NOUN' 'ADP' 'PRON'\n",
            " 'VERB' '.' 'ADP' 'DET' 'NOUN' '.' 'PRON' 'VERB' 'VERB' 'ADP' 'PRON' '.'\n",
            " 'ADP' 'PRON' 'VERB' 'NOUN' 'ADP' 'DET' 'NOUN' 'NOUN' '.' 'CONJ' 'VERB'\n",
            " 'VERB' 'PRON' 'ADP' 'NOUN' 'ADV' '.']\n",
            "tags: ['ADV', '.', 'ADV', '.', 'PRON', 'VERB', 'ADV', 'VERB', 'ADV', 'ADJ', '.']\n",
            "words: ['sometimes', ',', 'though', ',', 'they', 'did', 'not', 'seem', 'quite', 'human', '.']\n",
            "prediction: ['ADV' '.' 'ADV' '.' 'PRON' 'VERB' 'ADV' 'VERB' 'ADV' 'ADJ' '.']\n",
            "tags: ['NOUN', 'VERB', 'ADP', 'DET', 'NOUN', 'CONJ', 'VERB', 'DET', 'NOUN', 'ADP', 'DET', 'PRON', 'VERB', 'VERB', 'PRT', 'VERB', 'DET', 'NOUN', '.', 'VERB', 'DET', 'ADJ', 'NOUN', 'ADP', 'NOUN', 'ADP', 'ADJ', 'NOUN', '.']\n",
            "words: ['time', 'time', 'onto', 'a', 'stool', 'and', 'time', 'the', 'hand', 'with', 'which', 'i', 'was', 'trying', 'to', 'hold', 'the', 'phone', ',', 'time', 'my', 'time', 'attention', 'on', 'time', 'of', 'extreme', 'emergency', '.']\n",
            "prediction: ['NOUN' 'NOUN' 'ADP' 'DET' 'NOUN' 'CONJ' 'NOUN' 'DET' 'NOUN' 'ADP' 'DET'\n",
            " 'PRON' 'VERB' 'VERB' 'PRT' 'VERB' 'DET' 'NOUN' '.' 'NOUN' 'DET' 'NOUN'\n",
            " 'NOUN' 'ADP' 'NOUN' 'ADP' 'ADJ' 'NOUN' '.']\n",
            "tags: ['ADV', '.', 'PRON', 'VERB', 'ADV', 'ADP', 'DET', 'NOUN', '.', 'VERB', 'CONJ', 'VERB', 'ADV', 'ADJ', 'NOUN', '.', 'PRON', 'VERB', 'NOUN', 'ADP', 'ADJ', 'ADJ', 'NOUN', 'ADP', 'PRON', 'ADV', 'VERB', 'VERB', 'VERB', 'PRON', 'VERB', 'ADV', 'PRON', 'VERB', 'ADV', 'VERB', '.', '.']\n",
            "words: ['then', ',', 'she', 'was', 'back', 'on', 'her', 'feet', ',', 'winking', 'and', 'smiling', 'that', 'time', 'smile', '(', 'she', 'had', 'time', 'of', 'wonderful', 'big', 'teeth', 'that', 'you', 'never', 'would', 'have', 'time', 'she', 'had', 'when', 'she', 'was', 'not', 'smiling', ')', '.']\n",
            "prediction: ['ADV' '.' 'PRON' 'VERB' 'ADV' 'ADP' 'DET' 'NOUN' '.' 'VERB' 'CONJ' 'VERB'\n",
            " 'DET' 'NOUN' 'NOUN' '.' 'PRON' 'VERB' 'NOUN' 'ADP' 'ADJ' 'ADJ' 'NOUN'\n",
            " 'ADP' 'PRON' 'ADV' 'VERB' 'VERB' 'NOUN' 'PRON' 'VERB' 'ADV' 'PRON' 'VERB'\n",
            " 'ADV' 'VERB' '.' '.']\n",
            "tags: ['VERB', 'PRON', 'VERB', 'DET', 'NOUN', 'ADP', 'NUM', 'ADJ', 'PRT', 'VERB', 'DET', 'NOUN', '.', 'VERB', '.', 'VERB', 'PRT', 'DET', 'NOUN', '.', 'VERB', 'DET', 'NOUN', '.', 'ADP', 'DET', 'NOUN', 'ADP', 'NUM', '.', '.']\n",
            "words: ['did', 'it', 'take', 'a', 'man', 'of', 'time', 'longer', 'to', 'write', 'a', 'letter', ',', 'time', ',', 'clean', 'out', 'a', 'time', ',', 'read', 'a', 'newspaper', ',', 'than', 'a', 'man', 'of', 'thirty', '?', '?']\n",
            "prediction: ['VERB' 'PRON' 'VERB' 'DET' 'NOUN' 'ADP' 'NOUN' 'ADJ' 'PRT' 'VERB' 'DET'\n",
            " 'NOUN' '.' 'NOUN' '.' 'ADV' 'ADP' 'DET' 'NOUN' '.' 'VERB' 'DET' 'NOUN'\n",
            " '.' 'ADP' 'DET' 'NOUN' 'ADP' 'NUM' '.' '.']\n",
            "tags: ['NUM', 'CONJ', 'NUM', 'NOUN', 'ADV', '.', 'DET', 'NOUN', 'ADP', 'ADJ', 'NOUN', 'VERB', 'DET', 'ADJ', 'NOUN', 'NOUN', 'ADP', 'DET', 'X', 'NOUN', '.', 'ADP', 'NOUN', '.', 'CONJ', 'DET', 'NOUN', 'ADV', 'VERB', 'ADP', 'DET', 'NOUN', 'ADP', 'ADJ', 'NOUN', 'ADP', 'NOUN', '.']\n",
            "words: ['eight', 'or', 'ten', 'years', 'ago', ',', 'a', 'couple', 'of', 'french', 'time', 'stole', 'a', 'time', 'time', 'head', 'from', 'the', 'time', 'time', ',', 'in', 'paris', ',', 'and', 'a', 'week', 'later', 'crawled', 'into', 'the', 'time', 'with', 'time', 'time', 'of', 'time', '.']\n",
            "prediction: ['NUM' 'CONJ' 'NUM' 'NOUN' 'ADV' '.' 'DET' 'NOUN' 'ADP' 'ADJ' 'NOUN'\n",
            " 'VERB' 'DET' 'NOUN' 'NOUN' 'NOUN' 'ADP' 'DET' 'NOUN' 'NOUN' '.' 'ADP'\n",
            " 'NOUN' '.' 'CONJ' 'DET' 'NOUN' 'ADV' 'VERB' 'ADP' 'DET' 'NOUN' 'ADP'\n",
            " 'NOUN' 'NOUN' 'ADP' 'NOUN' '.']\n",
            "tags: ['NOUN', 'NOUN', 'VERB', '.', '.', 'NOUN', 'NOUN', 'VERB', 'DET', 'ADV', 'ADJ', 'NOUN', 'ADP', 'NOUN', '.', '.', 'CONJ', 'ADV', 'NOUN', 'VERB', 'PRT', 'VERB', 'ADP', '.', 'ADP', 'DET', 'NOUN', 'ADP', 'DET', 'NOUN', 'VERB', 'DET', 'NOUN', 'CONJ', 'NOUN', 'ADP', 'NOUN', 'NOUN', '.', 'NOUN', 'VERB', 'ADV', 'VERB', 'ADJ', 'NOUN', 'CONJ', 'NOUN', '.', '.']\n",
            "words: ['time', 'time', 'wrote', ':', '``', 'time', 'poitrine', 'is', 'the', 'most', 'original', 'time', 'since', 'time', \"''\", ',', 'and', 'even', 'f.d.r.', 'had', 'to', 'time', 'that', '``', 'if', 'the', 'rest', 'of', 'this', 'nation', 'showed', 'the', 'time', 'and', 'time', 'of', 'miss', 'poitrine', ',', 'america', 'would', 'rapidly', 'time', 'time', 'time', 'and', 'time', \"''\", '.']\n",
            "prediction: ['NOUN' 'NOUN' 'VERB' '.' '.' 'NOUN' 'NOUN' 'VERB' 'DET' 'ADV' 'ADJ'\n",
            " 'NOUN' 'ADP' 'NOUN' '.' '.' 'CONJ' 'ADV' 'NOUN' 'VERB' 'ADP' 'NOUN' 'ADP'\n",
            " '.' 'ADP' 'DET' 'NOUN' 'ADP' 'DET' 'NOUN' 'VERB' 'DET' 'NOUN' 'CONJ'\n",
            " 'NOUN' 'ADP' 'NOUN' 'NOUN' '.' 'NOUN' 'VERB' 'ADV' 'NOUN' 'NOUN' 'NOUN'\n",
            " 'CONJ' 'NOUN' '.' '.']\n",
            "tags: ['NOUN', 'NOUN', 'VERB', 'VERB', 'PRT', 'ADP', 'DET', 'ADJ', 'NOUN', '.']\n",
            "words: ['mr.', 'crumb', 'was', 'laid', 'up', 'with', 'a', 'bad', 'cold', '.']\n",
            "prediction: ['NOUN' 'NOUN' 'VERB' 'VERB' 'PRT' 'ADP' 'DET' 'ADJ' 'NOUN' '.']\n",
            "tags: ['PRON', 'VERB', 'ADV', 'ADV', 'VERB', 'ADP', 'ADP', 'NOUN', 'ADP', 'DET', 'NOUN', 'CONJ', 'VERB', 'ADP', 'PRON', 'VERB', 'PRT', 'VERB', 'DET', 'ADJ', 'NOUN', '.']\n",
            "words: ['you', \"can't\", 'very', 'well', 'time', 'up', 'to', 'people', 'on', 'the', 'street', 'and', 'ask', 'if', 'they', 'want', 'to', 'buy', 'a', 'hot', 'time', '.']\n",
            "prediction: ['PRON' 'VERB' 'ADV' 'ADV' 'NOUN' 'PRT' 'ADP' 'NOUN' 'ADP' 'DET' 'NOUN'\n",
            " 'CONJ' 'VERB' 'ADP' 'PRON' 'VERB' 'PRT' 'VERB' 'DET' 'ADJ' 'NOUN' '.']\n",
            "tags: ['ADV', 'ADP', 'DET', 'NOUN', 'VERB', 'PRON', 'VERB', 'ADP', 'NUM', 'NOUN', 'DET', 'NOUN', 'NOUN', 'ADV', 'VERB', 'PRT', '.', '.']\n",
            "words: ['why', 'in', 'the', 'world', \"couldn't\", 'he', 'live', 'in', 'one', 'place', 'the', 'way', 'everyone', 'else', 'seemed', 'to', '?', '?']\n",
            "prediction: ['ADV' 'ADP' 'DET' 'NOUN' 'VERB' 'PRON' 'VERB' 'ADP' 'NUM' 'NOUN' 'DET'\n",
            " 'NOUN' 'NOUN' 'ADV' 'VERB' 'PRT' '.' '.']\n",
            "tags: ['PRON', 'VERB', 'ADV', '.', '.']\n",
            "words: ['he', 'did', 'not', '!', '!']\n",
            "prediction: ['PRON' 'VERB' 'ADV' '.' '.']\n",
            "tags: ['CONJ', 'PRON', 'VERB', 'ADV', 'VERB', 'PRT', '.']\n",
            "words: ['but', 'he', 'was', 'always', 'time', 'out', '.']\n",
            "prediction: ['CONJ' 'PRON' 'VERB' 'ADV' 'NOUN' 'PRT' '.']\n",
            "tags: ['DET', 'VERB', 'NOUN', 'VERB', 'DET', 'NOUN', 'ADV', 'VERB', 'ADP', 'DET', 'NOUN', 'ADP', 'NOUN', 'ADP', 'ADP', 'DET', 'NOUN', '.']\n",
            "words: ['the', 'misplaced', 'modifier', 'is', 'another', 'species', 'more', 'time', 'in', 'the', 'time', 'of', 'obscurity', 'than', 'in', 'the', 'time', '.']\n",
            "prediction: ['DET' 'VERB' 'NOUN' 'VERB' 'DET' 'NOUN' 'ADJ' 'NOUN' 'ADP' 'DET' 'NOUN'\n",
            " 'ADP' 'NOUN' 'ADP' 'ADP' 'DET' 'NOUN' '.']\n",
            "tags: ['ADV', '.', 'PRON', 'VERB', 'PRT', 'VERB', 'PRT', 'CONJ', 'VERB', 'NOUN', 'NOUN', '.']\n",
            "words: ['then', ',', 'they', 'had', 'to', 'get', 'up', 'and', 'be', 'general', 'burnside', '.']\n",
            "prediction: ['ADV' '.' 'PRON' 'VERB' 'PRT' 'VERB' 'PRT' 'CONJ' 'VERB' 'ADJ' 'NOUN' '.']\n",
            "tags: ['DET', 'NOUN', 'VERB', 'ADP', 'NOUN', 'NUM', 'NOUN', 'VERB', 'ADP', 'NOUN', 'NUM', 'NOUN', 'ADP', 'DET', '.']\n",
            "words: ['his', 'time', 'grew', 'as', \"barco's\", 'seven', 'time', 'brought', 'to', 'light', 'one', 'time', 'after', 'another', '.']\n",
            "prediction: ['DET' 'NOUN' 'VERB' 'ADP' 'NOUN' 'NUM' 'NOUN' 'VERB' 'PRT' 'VERB' 'NUM'\n",
            " 'NOUN' 'ADP' 'DET' '.']\n",
            "tags: ['DET', 'ADJ', 'CONJ', '.', 'ADV', '.', 'ADJ', 'NOUN', 'ADP', 'DET', 'ADJ', 'NOUN', 'VERB', 'DET', '.', 'DET', 'NOUN', 'ADP', 'NOUN', 'ADJ', 'NOUN', 'ADP', 'NOUN', 'NOUN', '.', 'DET', 'ADJ', 'NOUN', 'ADP', 'NOUN', 'NOUN', 'NOUN', '.']\n",
            "words: ['the', 'time', 'and', ',', 'time', ',', 'greatest', 'fruit', 'of', 'this', 'time', 'time', 'is', 'the', ',', 'an', 'time', 'of', 'time', 'classic', 'time', 'by', 'time', 'time', ',', 'a', 'former', 'time', 'of', 'time', 'time', 'time', '.']\n",
            "prediction: ['DET' 'NOUN' 'CONJ' '.' 'NOUN' '.' 'ADJ' 'NOUN' 'ADP' 'DET' 'NOUN' 'NOUN'\n",
            " 'VERB' 'DET' '.' 'DET' 'NOUN' 'ADP' 'NOUN' 'ADJ' 'NOUN' 'ADP' 'NOUN'\n",
            " 'NOUN' '.' 'DET' 'ADJ' 'NOUN' 'ADP' 'NOUN' 'NOUN' 'NOUN' '.']\n",
            "tags: ['ADP', 'PRON', 'VERB', 'ADP', 'DET', 'NOUN', 'DET', 'VERB', 'ADV', 'ADV', 'ADP', 'NOUN', '.', 'PRON', 'VERB', 'VERB', 'DET', 'NOUN', 'DET', 'ADV', 'VERB', '.']\n",
            "words: ['once', 'he', 'disposed', 'of', 'these', 'items', 'which', 'screamed', 'so', 'time', 'for', 'attention', ',', 'he', 'could', 'time', 'the', 'things', 'which', 'really', 'time', '.']\n",
            "prediction: ['ADV' 'PRON' 'VERB' 'ADP' 'DET' 'NOUN' 'DET' 'VERB' 'ADP' 'NOUN' 'ADP'\n",
            " 'NOUN' '.' 'PRON' 'VERB' 'NOUN' 'DET' 'NOUN' 'DET' 'ADV' 'NOUN' '.']\n",
            "tags: ['NOUN', 'NOUN', 'VERB', 'ADP', 'PRON', 'ADV', 'ADP', 'DET', 'NOUN', '.']\n",
            "words: ['mr.', 'crombie', 'poked', 'at', 'it', 'time', 'with', 'his', 'time', '.']\n",
            "prediction: ['NOUN' 'NOUN' 'VERB' 'ADP' 'PRON' 'NOUN' 'ADP' 'DET' 'NOUN' '.']\n",
            "tags: ['DET', 'ADJ', 'NOUN', 'VERB', 'ADV', 'VERB', 'ADP', 'NOUN', 'NOUN', 'VERB', 'ADJ', 'ADP', 'NOUN', 'ADP', 'NOUN', '.', 'NOUN', '.', 'NOUN', '.', 'CONJ', 'NOUN', 'ADP', 'NOUN', '.', 'CONJ', 'VERB', 'DET', 'NOUN', 'ADP', 'DET', 'NOUN', 'ADP', 'DET', 'NOUN', 'NOUN', '.']\n",
            "words: ['my', 'time', 'friend', 'does', 'not', 'believe', 'that', 'human', 'stature', 'is', 'time', 'in', 'terms', 'of', 'time', ',', 'time', ',', 'time', ',', 'or', 'distance', 'from', 'earth', ',', 'but', 'is', 'a', 'matter', 'of', 'the', 'time', 'of', 'the', 'human', 'mind', '.']\n",
            "prediction: ['DET' 'NOUN' 'NOUN' 'VERB' 'ADV' 'VERB' 'DET' 'NOUN' 'NOUN' 'VERB' 'NOUN'\n",
            " 'ADP' 'NOUN' 'ADP' 'NOUN' '.' 'NOUN' '.' 'NOUN' '.' 'CONJ' 'NOUN' 'ADP'\n",
            " 'NOUN' '.' 'CONJ' 'VERB' 'DET' 'NOUN' 'ADP' 'DET' 'NOUN' 'ADP' 'DET'\n",
            " 'NOUN' 'NOUN' '.']\n",
            "tags: ['CONJ', 'DET', 'ADJ', 'NOUN', 'VERB', 'VERB', 'VERB', 'DET', 'NOUN', '.', '.']\n",
            "words: ['but', 'the', 'supreme', 'court', \"wouldn't\", 'even', 'hear', 'my', 'case', '!', '!']\n",
            "prediction: ['CONJ' 'DET' 'ADJ' 'NOUN' 'VERB' 'ADV' 'VERB' 'DET' 'NOUN' '.' '.']\n",
            "tags: ['.', 'VERB', 'VERB', 'ADJ', 'PRT', 'VERB', 'CONJ', 'VERB', 'ADV', 'PRT', 'ADP', 'DET', 'ADJ', 'NOUN', 'ADP', 'DET', 'NOUN', 'NOUN', 'ADP', 'NOUN', '.', '.', 'NUM', 'ADP', 'PRON', 'VERB', '.']\n",
            "words: ['``', 'imagine', 'being', 'able', 'to', 'laugh', 'and', 'wink', 'when', \"you're\", 'like', 'the', 'top', 'part', 'of', 'that', 'picture', 'time', 'at', 'home', \"''\", ',', 'one', 'of', 'them', 'said', '.']\n",
            "prediction: ['.' 'VERB' 'VERB' 'ADJ' 'ADP' 'NOUN' 'CONJ' 'VERB' 'ADV' 'PRT' 'ADP'\n",
            " 'DET' 'NOUN' 'NOUN' 'ADP' 'DET' 'NOUN' 'NOUN' 'ADP' 'NOUN' '.' '.' 'NUM'\n",
            " 'ADP' 'PRON' 'VERB' '.']\n",
            "tags: ['ADV', 'VERB', 'PRON', 'ADV', 'VERB', 'ADP', 'DET', 'NOUN', 'VERB', 'ADV', 'ADV', 'ADP', 'PRON', 'ADP', 'PRON', 'VERB', 'ADP', 'NOUN', 'ADV', '.', '.']\n",
            "words: ['why', 'do', 'we', 'not', 'realize', 'that', 'no', 'time', 'believes', 'so', 'much', 'in', 'itself', 'as', 'it', 'time', 'in', 'something', 'else', '?', '?']\n",
            "prediction: ['ADV' 'VERB' 'PRON' 'ADV' 'VERB' 'ADP' 'DET' 'NOUN' 'VERB' 'ADV' 'ADJ'\n",
            " 'ADP' 'PRON' 'ADP' 'PRON' 'NOUN' 'ADP' 'NOUN' 'ADV' '.' '.']\n",
            "tags: ['NOUN', 'VERB', 'NOUN', 'NOUN', 'ADP', 'DET', 'NOUN', 'ADP', 'NOUN', '.', 'VERB', 'ADP', 'DET', 'NOUN', 'NOUN', 'NOUN', 'PRT', 'VERB', 'DET', 'NOUN', '.', 'CONJ', 'ADJ', 'ADP', 'NUM', 'NOUN', 'ADV', '.', 'NOUN', 'ADP', 'DET', 'NOUN', 'ADP', 'NOUN', 'VERB', 'ADP', 'DET', 'NOUN', 'ADP', 'NOUN', 'NOUN', '.']\n",
            "words: ['mills', 'time', \"barco's\", 'photograph', 'from', 'the', 'gentleman', 'in', 'charge', ',', 'time', 'to', 'the', 'hollywood', 'police', 'station', 'to', 'time', 'the', 'theft', ',', 'and', 'less', 'than', 'five', 'minutes', 'later', ',', 'detectives', 'with', 'his', 'picture', 'in', 'hand', 'were', 'on', 'the', 'time', 'of', 'time', 'barco', '.']\n",
            "prediction: ['NOUN' 'NOUN' 'NOUN' 'NOUN' 'ADP' 'DET' 'NOUN' 'ADP' 'NOUN' '.' 'NOUN'\n",
            " 'ADP' 'DET' 'NOUN' 'NOUN' 'NOUN' 'ADP' 'NOUN' 'DET' 'NOUN' '.' 'CONJ'\n",
            " 'ADV' 'ADP' 'NUM' 'NOUN' 'ADV' '.' 'NOUN' 'ADP' 'DET' 'NOUN' 'ADP' 'NOUN'\n",
            " 'VERB' 'ADP' 'DET' 'NOUN' 'ADP' 'NOUN' 'NOUN' '.']\n",
            "tags: ['DET', 'NOUN', 'VERB', 'DET', 'ADJ', 'ADJ', 'NOUN', '.']\n",
            "words: ['that', 'time', 'had', 'a', 'time', 'time', 'time', '.']\n",
            "prediction: ['DET' 'NOUN' 'VERB' 'DET' 'NOUN' 'NOUN' 'NOUN' '.']\n",
            "tags: ['PRON', 'ADV', 'VERB', 'VERB', 'PRON', 'ADP', 'DET', 'ADJ', 'NOUN', 'CONJ', 'ADP', 'PRON', 'VERB', 'PRT', 'VERB', 'PRON', 'PRT', 'ADP', 'NUM', 'CONJ', 'NUM', 'NOUN', 'DET', 'NOUN', 'PRON', 'VERB', 'VERB', 'ADV', 'VERB', 'ADP', 'PRON', 'VERB', 'VERB', 'ADJ', 'NOUN', '.']\n",
            "words: ['you', 'certainly', \"couldn't\", 'take', 'them', 'into', 'the', 'little', 'apartment', 'and', 'if', 'you', 'tried', 'to', 'farm', 'them', 'out', 'for', 'two', 'or', 'three', 'days', 'every', 'week', 'they', 'would', 'become', 'so', 'confused', 'that', 'they', 'would', 'have', 'nervous', 'time', '.']\n",
            "prediction: ['PRON' 'ADV' 'VERB' 'VERB' 'PRON' 'ADP' 'DET' 'ADJ' 'NOUN' 'CONJ' 'ADP'\n",
            " 'PRON' 'VERB' 'ADP' 'NOUN' 'PRON' 'PRT' 'ADP' 'NUM' 'CONJ' 'NUM' 'NOUN'\n",
            " 'DET' 'NOUN' 'PRON' 'VERB' 'VERB' 'ADV' 'VERB' 'ADP' 'PRON' 'VERB' 'VERB'\n",
            " 'ADJ' 'NOUN' '.']\n",
            "tags: ['CONJ', 'PRON', 'VERB', 'PRON', 'ADV', 'ADV', '.', 'ADP', 'PRON', 'VERB', 'PRT', 'ADV', 'ADP', 'DET', 'NOUN', 'ADP', 'DET', 'DET', 'NOUN', 'VERB', '.']\n",
            "words: ['but', 'he', 'said', 'it', 'too', 'soon', ',', 'for', 'it', 'came', 'out', 'just', 'before', 'the', 'time', 'to', 'which', 'the', 'door', 'time', '.']\n",
            "prediction: ['CONJ' 'PRON' 'VERB' 'PRON' 'ADV' 'ADV' '.' 'ADP' 'PRON' 'VERB' 'PRT'\n",
            " 'ADV' 'ADP' 'DET' 'NOUN' 'ADP' 'DET' 'DET' 'NOUN' 'NOUN' '.']\n",
            "tags: ['.', 'ADV', '.', '.', 'PRON', 'VERB', '.', '.', 'VERB', '.', '.']\n",
            "words: ['``', 'no', \"''\", ',', 'she', 'smiled', ',', '``', 'time', \"''\", '.']\n",
            "prediction: ['.' 'ADV' '.' '.' 'PRON' 'VERB' '.' '.' 'NOUN' '.' '.']\n",
            "tags: ['PRON', 'VERB', 'PRT', 'VERB', 'DET', 'DET', 'NOUN', 'VERB', 'ADP', '.', 'DET', 'NOUN', '.']\n",
            "words: ['they', 'wanted', 'to', 'see', 'what', 'his', 'back', 'felt', 'like', '--', 'the', \"general's\", '.']\n",
            "prediction: ['PRON' 'VERB' 'PRT' 'VERB' 'DET' 'DET' 'ADV' 'VERB' 'ADP' '.' 'DET'\n",
            " 'NOUN' '.']\n",
            "tags: ['NOUN', 'VERB', 'VERB', 'VERB', 'ADV', '.']\n",
            "words: ['nobody', 'could', 'have', 'told', 'why', '.']\n",
            "prediction: ['NOUN' 'VERB' 'VERB' 'VERB' 'ADV' '.']\n",
            "tags: ['NOUN', 'NOUN', 'VERB', 'DET', 'NOUN', 'ADP', 'NOUN', 'NOUN', 'ADV', 'VERB', 'ADP', '.', 'ADP', 'VERB', 'NOUN', 'ADP', 'DET', 'NOUN', 'NOUN', '.', '.', 'CONJ', 'DET', 'ADJ', '.', 'ADJ', 'NOUN', 'VERB', 'ADV', 'ADJ', 'ADP', 'DET', 'NOUN', 'VERB', 'ADP', 'DET', 'NOUN', 'ADP', 'NOUN', '.']\n",
            "words: ['miss', 'pulova', 'has', 'a', 'voice', 'that', 'time', 'time', 'once', 'described', 'as', '``', 'like', 'time', 'teeth', 'with', 'a', 'time', 'time', \"''\", ',', 'and', 'her', 'time', ',', 'time', 'face', 'becomes', 'time', 'time', 'of', 'the', 'time', 'demanded', 'by', 'the', 'role', 'of', 'time', '.']\n",
            "prediction: ['NOUN' 'NOUN' 'VERB' 'DET' 'NOUN' 'ADP' 'NOUN' 'NOUN' 'ADV' 'VERB' 'ADV'\n",
            " '.' 'ADP' 'NOUN' 'NOUN' 'ADP' 'DET' 'NOUN' 'NOUN' '.' '.' 'CONJ' 'DET'\n",
            " 'NOUN' '.' 'NOUN' 'NOUN' 'VERB' 'NOUN' 'NOUN' 'ADP' 'DET' 'NOUN' 'VERB'\n",
            " 'ADP' 'DET' 'NOUN' 'ADP' 'NOUN' '.']\n",
            "tags: ['PRON', 'VERB', 'VERB', 'PRT', 'VERB', 'DET', 'NOUN', '.']\n",
            "words: ['he', 'was', 'time', 'to', 'wipe', 'his', 'eyes', '.']\n",
            "prediction: ['PRON' 'VERB' 'NOUN' 'PRT' 'VERB' 'DET' 'NOUN' '.']\n",
            "tags: ['ADJ', 'NOUN', 'VERB', 'DET', 'NOUN', '.', 'VERB', 'ADV', 'DET', 'NOUN', '.', 'CONJ', 'VERB', '.', '.', 'VERB', 'DET', 'NOUN', '.', 'NOUN', '.', '.']\n",
            "words: ['then', 'jennie', 'time', 'her', 'eyes', ',', 'time', 'time', 'her', 'time', ',', 'and', 'said', ':', '``', 'take', 'my', 'hand', ',', 'time', ';', ';']\n",
            "prediction: ['ADJ' 'NOUN' 'NOUN' 'DET' 'NOUN' '.' 'NOUN' 'NOUN' 'DET' 'NOUN' '.'\n",
            " 'CONJ' 'VERB' '.' '.' 'VERB' 'DET' 'NOUN' '.' 'NOUN' '.' '.']\n",
            "tags: ['PRON', 'VERB', 'PRON', '.', 'DET', 'NOUN', 'PRT', 'VERB', 'DET', 'ADJ', 'NOUN', 'VERB', 'ADP', 'DET', 'NOUN', 'ADP', 'DET', 'NOUN', '.']\n",
            "words: ['it', 'worried', 'him', ',', 'this', 'time', 'to', 'get', 'the', 'time', 'things', 'done', 'in', 'the', 'course', 'of', 'a', 'day', '.']\n",
            "prediction: ['PRON' 'VERB' 'PRON' '.' 'DET' 'NOUN' 'PRT' 'VERB' 'DET' 'NOUN' 'NOUN'\n",
            " 'VERB' 'ADP' 'DET' 'NOUN' 'ADP' 'DET' 'NOUN' '.']\n",
            "tags: ['CONJ', 'DET', 'ADJ', 'VERB', 'PRT', 'ADP', 'NOUN', 'ADP', 'DET', 'NOUN', '.']\n",
            "words: ['and', 'the', 'other', 'went', 'on', 'to', 'time', 'of', 'the', 'idea', '.']\n",
            "prediction: ['CONJ' 'DET' 'ADJ' 'VERB' 'PRT' 'ADP' 'NOUN' 'ADP' 'DET' 'NOUN' '.']\n",
            "tags: ['PRON', 'VERB', 'VERB', 'PRON', 'ADP', 'DET', 'ADJ', 'NOUN', 'CONJ', 'NOUN', 'PRON', 'ADV', 'VERB', 'ADV', 'ADV', 'PRT', 'VERB', '.']\n",
            "words: ['it', 'has', 'identified', 'itself', 'with', 'the', 'very', 'time', 'and', 'time', 'it', 'once', 'did', 'so', 'much', 'to', 'alleviate', '.']\n",
            "prediction: ['PRON' 'VERB' 'VERB' 'PRON' 'ADP' 'DET' 'ADJ' 'NOUN' 'CONJ' 'NOUN' 'PRON'\n",
            " 'ADV' 'VERB' 'ADV' 'ADJ' 'PRT' 'VERB' '.']\n",
            "tags: ['.', 'PRON', 'ADV', 'VERB', 'DET', 'ADJ', 'ADJ', 'NOUN', '.', '.', 'DET', 'NOUN', 'VERB', '.']\n",
            "words: ['``', 'she', 'really', 'is', 'a', 'dear', 'little', 'thing', \"''\", ',', 'my', 'mother', 'agreed', '.']\n",
            "prediction: ['.' 'PRON' 'ADV' 'VERB' 'DET' 'ADJ' 'ADJ' 'NOUN' '.' '.' 'DET' 'NOUN'\n",
            " 'VERB' '.']\n",
            "tags: ['ADV', '.', 'ADP', 'DET', 'ADJ', 'NOUN', 'VERB', 'NOUN', 'ADP', 'NOUN', 'NOUN', '.', 'PRON', 'VERB', 'ADP', 'DET', 'NOUN', '.', 'VERB', 'VERB', 'PRT', 'VERB', 'NOUN', 'ADP', 'DET', 'NOUN', '.', 'VERB', 'VERB', 'ADP', 'DET', 'NOUN', 'ADP', 'NOUN', 'NOUN', '.']\n",
            "words: ['finally', ',', 'at', 'time', 'time', 'time', 'filling', 'station', 'on', 'time', 'time', ',', 'they', 'learned', 'that', 'their', 'man', ',', 'having', 'time', 'to', 'get', 'oil', 'for', 'his', 'car', ',', 'had', 'asked', 'about', 'the', 'time', 'to', 'san', 'time', '.']\n",
            "prediction: ['ADV' '.' 'ADP' 'NOUN' 'NOUN' 'NOUN' 'VERB' 'NOUN' 'ADP' 'NOUN' 'NOUN'\n",
            " '.' 'PRON' 'VERB' 'ADP' 'DET' 'NOUN' '.' 'VERB' 'NOUN' 'PRT' 'VERB'\n",
            " 'NOUN' 'ADP' 'DET' 'NOUN' '.' 'VERB' 'VERB' 'ADP' 'DET' 'NOUN' 'ADP'\n",
            " 'NOUN' 'NOUN' '.']\n",
            "tags: ['.', 'PRON', 'VERB', 'VERB', 'PRON', 'VERB', 'DET', 'NOUN', 'ADP', 'NOUN', 'ADP', 'NOUN', 'ADP', 'ADJ', 'NOUN', 'ADP', 'NOUN', 'NOUN', '.', 'VERB', 'NOUN', 'CONJ', 'NOUN', '.', 'NOUN', 'CONJ', 'NOUN', '.']\n",
            "words: ['``', 'i', 'should', 'say', 'it', 'is', 'the', 'turning', 'of', 'courts', 'of', 'law', 'into', 'time', 'time', 'for', 'time', 'dramas', ',', 'involving', 'time', 'and', 'time', ',', 'time', 'and', 'time', '.']\n",
            "prediction: ['.' 'PRON' 'VERB' 'VERB' 'PRON' 'VERB' 'DET' 'VERB' 'ADP' 'NOUN' 'ADP'\n",
            " 'NOUN' 'ADP' 'NOUN' 'NOUN' 'ADP' 'NOUN' 'NOUN' '.' 'ADP' 'NOUN' 'CONJ'\n",
            " 'NOUN' '.' 'NOUN' 'CONJ' 'NOUN' '.']\n",
            "tags: ['PRON', 'VERB', 'VERB', 'ADP', 'ADP', 'VERB', 'NOUN', 'NOUN', 'NOUN', 'PRON', 'VERB', 'VERB', 'ADV', 'ADJ', 'PRT', 'VERB', 'DET', 'ADJ', 'NOUN', 'CONJ', 'NOUN', 'ADP', 'DET', 'ADJ', 'NOUN', 'NOUN', '.']\n",
            "words: ['we', 'have', 'heard', 'that', 'after', 'seeing', 'mr.', 'time', 'work', 'it', 'will', 'be', 'time', 'impossible', 'to', 'deny', 'the', 'artistic', 'time', 'and', 'time', 'of', 'the', 'whole', 'time', 'movement', '.']\n",
            "prediction: ['PRON' 'VERB' 'VERB' 'ADP' 'ADP' 'VERB' 'NOUN' 'NOUN' 'VERB' 'PRON'\n",
            " 'VERB' 'VERB' 'NOUN' 'ADJ' 'PRT' 'VERB' 'DET' 'ADJ' 'NOUN' 'CONJ' 'NOUN'\n",
            " 'ADP' 'DET' 'ADJ' 'NOUN' 'NOUN' '.']\n",
            "tags: ['DET', '.', 'NOUN', 'NOUN', '.', 'ADP', 'DET', 'ADJ', 'NOUN', '.', 'DET', 'PRON', 'VERB', 'VERB', 'ADP', 'DET', 'NOUN', 'ADP', 'VERB', 'NOUN', 'ADV', 'ADP', 'ADJ', 'NOUN', '.', 'ADV', 'NOUN', 'CONJ', 'DET', 'ADJ', 'NOUN', 'VERB', 'ADV', 'ADV', 'ADP', 'DET', 'ADJ', 'NOUN', 'ADP', 'DET', 'NOUN', '.', '.']\n",
            "words: ['a', '``', 'time', 'party', \"''\", 'at', 'the', 'new', 'pool', ',', 'which', 'i', 'had', 'built', 'in', 'the', 'hope', 'of', 'keeping', 'letch', 'away', 'from', 'public', 'beaches', ',', 'when', 'letch', 'and', 'a', 'certain', 'time', 'stayed', 'time', 'together', 'for', 'the', 'better', 'part', 'of', 'an', 'hour', ';', ';']\n",
            "prediction: ['DET' '.' 'NOUN' 'NOUN' '.' 'ADP' 'DET' 'ADJ' 'NOUN' '.' 'DET' 'PRON'\n",
            " 'VERB' 'VERB' 'ADP' 'DET' 'NOUN' 'ADP' 'VERB' 'NOUN' 'ADV' 'ADP' 'ADJ'\n",
            " 'NOUN' '.' 'ADV' 'NOUN' 'CONJ' 'DET' 'ADJ' 'NOUN' 'VERB' 'NOUN' 'ADV'\n",
            " 'ADP' 'DET' 'ADJ' 'NOUN' 'ADP' 'DET' 'NOUN' '.' '.']\n",
            "tags: ['DET', 'NOUN', 'ADP', 'DET', 'NOUN', 'VERB', '.', 'CONJ', 'ADJ', 'ADP', 'ADJ', 'NOUN', 'VERB', 'NOUN', 'ADP', 'ADJ', 'NOUN', 'VERB', 'VERB', 'DET', 'NOUN', 'ADV', 'ADP', 'NOUN', 'ADP', 'NOUN', '.', 'ADP', 'NOUN', '.', 'NOUN', '.', 'NOUN', 'ADJ', '.', 'ADV', 'NOUN', 'NOUN', 'ADJ', 'ADJ', 'NOUN', 'VERB', 'ADP', 'DET', 'NOUN', '.']\n",
            "words: ['the', 'battle', 'of', 'the', 'time', 'time', ',', 'but', 'most', 'of', 'new', 'time', 'time', 'time', 'of', 'time', 'time', 'are', 'time', 'their', 'feet', 'impatiently', 'in', 'time', 'of', 'time', '(', 'for', 'time', ')', 'day', ',', 'time', 'first', ',', 'when', 'time', 'time', 'first', 'time', 'show', 'opens', 'at', 'the', 'time', '.']\n",
            "prediction: ['DET' 'NOUN' 'ADP' 'DET' 'NOUN' 'NOUN' '.' 'CONJ' 'ADV' 'ADP' 'ADJ'\n",
            " 'NOUN' 'NOUN' 'NOUN' 'ADP' 'NOUN' 'NOUN' 'VERB' 'NOUN' 'DET' 'NOUN' 'ADV'\n",
            " 'ADP' 'NOUN' 'ADP' 'NOUN' '.' 'ADP' 'NOUN' '.' 'NOUN' '.' 'NOUN' 'ADJ'\n",
            " '.' 'ADV' 'NOUN' 'NOUN' 'ADJ' 'NOUN' 'VERB' 'VERB' 'ADP' 'DET' 'NOUN' '.']\n",
            "tags: ['CONJ', 'NOUN', 'VERB', 'VERB', 'DET', 'NOUN', 'NOUN', 'ADV', '.']\n",
            "words: ['and', 'arlene', 'began', 'time', 'the', 'kitchen', 'door', 'open', '.']\n",
            "prediction: ['CONJ' 'NOUN' 'VERB' 'NOUN' 'DET' 'NOUN' 'NOUN' 'VERB' '.']\n",
            "tags: ['PRON', 'VERB', 'VERB', 'ADP', 'DET', 'ADJ', 'ADJ', 'NOUN', '.', '.']\n",
            "words: ['she', 'was', 'biting', 'into', 'a', 'small', 'red', 'radish', ';', ';']\n",
            "prediction: ['PRON' 'VERB' 'VERB' 'ADP' 'DET' 'ADJ' 'ADJ' 'NOUN' '.' '.']\n",
            "tags: ['PRON', 'VERB', 'ADV', 'ADJ', '.']\n",
            "words: ['he', 'was', 'very', 'rude', '.']\n",
            "prediction: ['PRON' 'VERB' 'ADV' 'ADJ' '.']\n",
            "tags: ['.', 'PRON', 'VERB', '.', '.', 'NUM', 'VERB', '.', '.']\n",
            "words: ['``', 'we', 'time', \"''\", ',', 'one', 'said', ';', ';']\n",
            "prediction: ['.' 'PRON' 'NOUN' '.' '.' 'NOUN' 'VERB' '.' '.']\n",
            "tags: ['ADV', 'DET', 'NOUN', 'VERB', 'ADP', 'NOUN', 'NOUN', '.', 'PRON', 'VERB', '.', '.', 'DET', 'NOUN', 'VERB', 'DET', 'NOUN', '.', '.', '.']\n",
            "words: ['when', 'a', 'time', 'asked', 'for', 'time', 'shoes', ',', 'she', 'said', ',', '``', 'what', 'time', 'is', 'your', 'time', \"''\", '?', '?']\n",
            "prediction: ['ADV' 'DET' 'NOUN' 'VERB' 'ADP' 'NOUN' 'NOUN' '.' 'PRON' 'VERB' '.' '.'\n",
            " 'DET' 'NOUN' 'VERB' 'DET' 'NOUN' '.' '.' '.']\n",
            "tags: ['.', 'DET', 'ADJ', 'NOUN', 'NOUN', 'NOUN', 'VERB', 'ADP', 'DET', 'ADJ', 'NOUN', 'ADP', 'DET', 'NOUN', 'PRT', 'VERB', 'ADP', 'DET', 'NOUN', 'ADP', 'DET', 'NOUN', '.', 'DET', 'NOUN', '.', 'CONJ', 'DET', 'ADV', 'NOUN', 'ADV', '.']\n",
            "words: ['``', 'the', 'other', 'day', 'time', 'time', 'spoke', 'against', 'the', 'time', 'time', 'of', 'our', 'species', 'to', 'believe', 'in', 'the', 'time', 'of', 'its', 'time', ',', 'its', 'time', ',', 'and', 'its', 'time', 'everything', 'else', '.']\n",
            "prediction: ['.' 'DET' 'ADJ' 'NOUN' 'NOUN' 'NOUN' 'VERB' 'ADP' 'DET' 'NOUN' 'NOUN'\n",
            " 'ADP' 'DET' 'NOUN' 'PRT' 'VERB' 'ADP' 'DET' 'NOUN' 'ADP' 'DET' 'NOUN' '.'\n",
            " 'DET' 'NOUN' '.' 'CONJ' 'DET' 'NOUN' 'NOUN' 'ADV' '.']\n",
            "tags: ['.', 'VERB', 'NOUN', 'NOUN', 'DET', 'PRT', 'VERB', 'DET', 'NOUN', '.', '.', 'DET', 'NOUN', 'VERB', 'DET', 'NOUN', '.', 'ADV', '.']\n",
            "words: ['``', 'tell', 'mr.', 'gorboduc', 'what', \"you're\", 'doing', 'these', 'days', \"''\", ',', 'my', 'mother', 'advised', 'the', 'children', ',', 'time', '.']\n",
            "prediction: ['.' 'VERB' 'NOUN' 'NOUN' 'DET' 'PRT' 'VERB' 'DET' 'NOUN' '.' '.' 'DET'\n",
            " 'NOUN' 'VERB' 'DET' 'NOUN' '.' 'NOUN' '.']\n",
            "tags: ['CONJ', 'PRON', 'VERB', 'DET', 'NOUN', '.']\n",
            "words: ['and', 'they', 'did', 'some', 'somersaults', '.']\n",
            "prediction: ['CONJ' 'PRON' 'VERB' 'DET' 'NOUN' '.']\n",
            "tags: ['.', 'ADJ', 'CONJ', 'ADJ', '.', '.', 'PRON', 'VERB', '.']\n",
            "words: ['``', 'time', 'and', 'time', \"''\", ',', 'i', 'said', '.']\n",
            "prediction: ['.' 'NOUN' 'CONJ' 'NOUN' '.' '.' 'PRON' 'VERB' '.']\n",
            "tags: ['DET', 'ADJ', '.', 'DET', 'VERB', 'NOUN', 'ADP', 'DET', 'NOUN', '.', 'ADV', '.', 'VERB', 'DET', 'ADJ', 'NOUN', 'DET', 'NOUN', 'VERB', 'PRON', 'PRT', '.']\n",
            "words: ['the', 'beautiful', ',', 'the', 'time', 'part', 'of', 'his', 'time', ',', 'however', ',', 'was', 'the', 'time', 'way', 'the', 'buddha', 'time', 'him', 'off', '.']\n",
            "prediction: ['DET' 'ADJ' '.' 'DET' 'NOUN' 'NOUN' 'ADP' 'DET' 'NOUN' '.' 'ADV' '.'\n",
            " 'VERB' 'DET' 'NOUN' 'NOUN' 'DET' 'NOUN' 'NOUN' 'PRON' 'PRT' '.']\n",
            "tags: ['VERB', 'NUM', 'ADP', 'DET', 'NOUN', '.']\n",
            "words: ['asked', 'one', 'of', 'the', 'children', '.']\n",
            "prediction: ['VERB' 'NUM' 'ADP' 'DET' 'NOUN' '.']\n",
            "tags: ['VERB', 'PRON', 'VERB', 'ADP', 'PRON', 'VERB', 'PRT', 'ADP', 'DET', 'VERB', 'ADP', 'DET', 'ADJ', 'NOUN', '.', 'ADP', 'ADP', 'DET', 'VERB', 'NOUN', 'VERB', 'VERB', 'ADP', 'DET', 'NOUN', 'ADP', 'DET', 'NOUN', 'ADV', 'PRT', 'VERB', 'PRON', 'PRT', 'ADV', '.', '.']\n",
            "words: ['could', 'it', 'be', 'that', 'it', 'time', 'up', 'for', 'the', 'aged', 'in', 'some', 'time', 'way', ',', 'as', 'if', 'a', 'bored', 'time', 'were', 'skipping', 'through', 'the', 'end', 'of', 'the', 'time', 'just', 'to', 'get', 'it', 'over', 'with', '?', '?']\n",
            "prediction: ['VERB' 'PRON' 'VERB' 'ADP' 'PRON' 'NOUN' 'PRT' 'ADP' 'DET' 'VERB' 'ADP'\n",
            " 'DET' 'NOUN' 'NOUN' '.' 'ADP' 'ADP' 'DET' 'VERB' 'NOUN' 'VERB' 'VERB'\n",
            " 'ADP' 'DET' 'NOUN' 'ADP' 'DET' 'NOUN' 'ADV' 'PRT' 'VERB' 'PRON' 'PRT'\n",
            " 'ADP' '.' '.']\n",
            "tags: ['.', 'PRON', 'ADV', 'VERB', 'ADP', 'NOUN', '.', 'ADP', 'DET', 'ADJ', 'NOUN', '.', 'VERB', 'PRON', 'PRT', 'VERB', 'DET', 'ADJ', 'ADJ', 'NOUN', 'ADP', 'NOUN', '.']\n",
            "words: ['(', 'i', 'sometimes', 'feel', 'that', 'god', ',', 'in', 'his', 'time', 'time', ',', 'time', 'us', 'to', 'have', 'these', 'time', 'little', 'time', 'of', 'time', '.']\n",
            "prediction: ['.' 'PRON' 'ADV' 'VERB' 'DET' 'NOUN' '.' 'ADP' 'DET' 'NOUN' 'NOUN' '.'\n",
            " 'NOUN' 'PRON' 'PRT' 'VERB' 'DET' 'NOUN' 'ADJ' 'NOUN' 'ADP' 'NOUN' '.']\n",
            "tags: ['ADV', '.', 'PRON', 'DET', 'NOUN', 'VERB', 'DET', 'NOUN', 'ADP', 'NOUN', '.', '.']\n",
            "words: ['now', ',', 'you', 'no', 'doubt', 'regard', 'the', 'time', 'as', 'time', ';', ';']\n",
            "prediction: ['ADV' '.' 'PRON' 'DET' 'NOUN' 'NOUN' 'DET' 'NOUN' 'ADP' 'NOUN' '.' '.']\n",
            "tags: ['PRON', 'VERB', 'PRT', 'PRT', 'VERB', 'DET', 'NOUN', 'ADP', 'NOUN', 'NOUN', '.', 'ADP', 'PRT', 'NOUN', '.', '.']\n",
            "words: ['it', 'turned', 'out', 'to', 'be', 'a', 'life', 'of', 'time', 'time', ',', 'of', 'all', 'things', '!', '!']\n",
            "prediction: ['PRON' 'VERB' 'PRT' 'PRT' 'VERB' 'DET' 'NOUN' 'ADP' 'NOUN' 'NOUN' '.'\n",
            " 'ADP' 'PRT' 'NOUN' '.' '.']\n",
            "tags: ['VERB', 'ADJ', 'ADJ', 'NOUN', '.', 'ADP', 'DET', 'ADJ', 'NOUN', '.', 'VERB', 'VERB', '.', '.']\n",
            "words: ['could', 'such', 'time', 'love', ',', 'for', 'a', 'time', 'stranger', ',', 'be', 'time', '?', '?']\n",
            "prediction: ['VERB' 'ADJ' 'NOUN' 'NOUN' '.' 'ADP' 'DET' 'NOUN' 'NOUN' '.' 'VERB'\n",
            " 'NOUN' '.' '.']\n",
            "tags: ['CONJ', 'PRON', 'VERB', 'ADV', 'ADJ', 'ADP', '.', 'ADV', 'ADP', 'DET', 'ADJ', 'NOUN', 'VERB', 'ADJ', 'ADP', 'ADV', 'ADJ', 'NOUN', '.', 'ADV', 'VERB', 'DET', 'ADJ', '.', 'ADJ', 'NOUN', 'VERB', 'ADP', 'DET', '.', 'NOUN', '.', 'ADP', 'NOUN', '.']\n",
            "words: ['and', 'it', 'is', 'not', 'unlikely', 'that', ',', 'even', 'as', 'the', 'great', 'time', 'lay', 'time', 'for', 'so', 'many', 'years', ',', 'so', 'has', 'the', 'time', ',', 'time', 'salfininistas', 'passed', 'through', 'his', '``', 'time', \"''\", 'of', 'neglect', '.']\n",
            "prediction: ['CONJ' 'PRON' 'VERB' 'ADV' 'ADJ' 'ADP' '.' 'ADV' 'ADP' 'DET' 'ADJ' 'NOUN'\n",
            " 'VERB' 'NOUN' 'ADP' 'ADV' 'ADJ' 'NOUN' '.' 'ADV' 'VERB' 'DET' 'NOUN' '.'\n",
            " 'NOUN' 'NOUN' 'VERB' 'ADP' 'DET' '.' 'NOUN' '.' 'ADP' 'VERB' '.']\n",
            "tags: ['NOUN', 'ADP', 'ADJ', '.', 'VERB', 'PRON', '.', '.']\n",
            "words: ['sort', 'of', 'time', ',', \"isn't\", 'it', '?', '?']\n",
            "prediction: ['NOUN' 'ADP' 'NOUN' '.' 'VERB' 'PRON' '.' '.']\n",
            "tags: ['NOUN', 'VERB', 'NOUN', 'ADP', 'NOUN', 'NOUN', '.']\n",
            "words: ['dogs', 'did', 'something', 'to', 'time', 'ego', '.']\n",
            "prediction: ['NOUN' 'VERB' 'NOUN' 'ADP' 'NOUN' 'NOUN' '.']\n",
            "tags: ['ADP', 'PRT', '.', 'VERB', 'PRON', 'ADP', 'DET', 'NOUN', 'ADP', 'PRON', 'VERB', 'PRT', 'VERB', 'ADJ', 'NOUN', 'ADP', 'DET', 'NOUN', 'DET', 'NOUN', '.', 'PRT', 'VERB', 'ADP', 'DET', 'NOUN', 'ADP', 'DET', 'ADJ', 'X', 'X', '.', 'CONJ', 'PRT', 'VERB', 'PRON', 'ADP', 'NOUN', '.']\n",
            "words: ['above', 'all', ',', 'time', 'yourselves', 'of', 'any', 'thought', 'that', 'i', 'time', 'to', 'time', 'time', 'time', 'at', 'your', 'time', 'my', 'time', ',', 'to', 'time', 'over', 'the', 'loss', 'of', 'a', 'few', 'time', 'time', ',', 'or', 'to', 'time', 'you', 'into', 'time', '.']\n",
            "prediction: ['ADV' 'PRT' '.' 'NOUN' 'PRON' 'ADP' 'DET' 'NOUN' 'ADP' 'PRON' 'NOUN'\n",
            " 'ADP' 'NOUN' 'NOUN' 'NOUN' 'ADP' 'DET' 'NOUN' 'DET' 'NOUN' '.' 'ADP'\n",
            " 'NOUN' 'ADP' 'DET' 'NOUN' 'ADP' 'DET' 'ADJ' 'NOUN' 'NOUN' '.' 'CONJ'\n",
            " 'ADP' 'NOUN' 'PRON' 'ADP' 'NOUN' '.']\n",
            "tags: ['NOUN', 'VERB', 'VERB', 'PRON', 'ADV', 'ADJ', 'ADP', 'PRON', 'VERB', 'ADV', 'VERB', 'ADP', 'DET', 'NOUN', 'ADP', 'DET', 'ADJ', 'ADJ', 'NOUN', '.']\n",
            "words: ['letch', 'had', 'made', 'it', 'time', 'clear', 'that', 'he', 'did', 'not', 'care', 'for', 'the', 'company', 'of', 'my', 'own', 'time', 'daughter', '.']\n",
            "prediction: ['NOUN' 'VERB' 'VERB' 'PRON' 'NOUN' 'ADJ' 'ADP' 'PRON' 'VERB' 'ADV' 'VERB'\n",
            " 'ADP' 'DET' 'NOUN' 'ADP' 'DET' 'ADJ' 'NOUN' 'NOUN' '.']\n",
            "tags: ['DET', 'NOUN', 'ADP', 'DET', 'NOUN', 'VERB', 'ADP', 'DET', 'NOUN', '.', 'ADP', 'NOUN', '.', 'VERB', 'DET', 'NOUN', '.', 'CONJ', 'ADP', 'DET', 'NOUN', 'NOUN', 'ADP', 'DET', 'ADJ', 'NOUN', '.', 'PRON', 'VERB', 'VERB', 'ADP', 'PRON', 'ADV', 'ADP', 'NOUN', 'ADP', 'PRON', 'VERB', 'PRT', 'DET', 'NOUN', '.']\n",
            "words: ['no', 'matter', 'if', 'your', 'children', 'are', 'at', 'the', 'movies', ',', 'in', 'school', ',', 'time', 'their', 'time', ',', 'or', 'on', 'a', 'time', 'trip', 'in', 'some', 'distant', 'city', ',', 'they', 'will', 'be', 'upon', 'you', 'time', 'within', 'seconds', 'after', 'you', 'pick', 'up', 'the', 'phone', '.']\n",
            "prediction: ['DET' 'NOUN' 'ADP' 'DET' 'NOUN' 'VERB' 'ADP' 'DET' 'NOUN' '.' 'ADP'\n",
            " 'NOUN' '.' 'NOUN' 'DET' 'NOUN' '.' 'CONJ' 'ADP' 'DET' 'NOUN' 'NOUN' 'ADP'\n",
            " 'DET' 'ADJ' 'NOUN' '.' 'PRON' 'VERB' 'VERB' 'ADP' 'PRON' 'NOUN' 'ADP'\n",
            " 'NOUN' 'ADP' 'PRON' 'VERB' 'PRT' 'DET' 'NOUN' '.']\n",
            "tags: ['ADP', 'ADV', '.', 'CONJ', 'PRT', 'VERB', 'DET', 'ADJ', 'NOUN', '.', 'VERB', 'NOUN', '.']\n",
            "words: ['in', 'short', ',', 'and', 'to', 'time', 'an', 'time', 'phrase', ',', 'time', 'time', '.']\n",
            "prediction: ['ADP' 'ADJ' '.' 'CONJ' 'ADP' 'NOUN' 'DET' 'NOUN' 'NOUN' '.' 'NOUN' 'NOUN'\n",
            " '.']\n",
            "tags: ['PRON', 'VERB', 'VERB', 'ADP', 'DET', 'NOUN', '.']\n",
            "words: ['he', 'was', 'laughed', 'off', 'the', 'screen', '.']\n",
            "prediction: ['PRON' 'VERB' 'VERB' 'ADP' 'DET' 'NOUN' '.']\n",
            "tags: ['PRON', 'VERB', 'PRON', 'PRON', 'VERB', 'ADP', 'DET', 'ADJ', 'NOUN', '.', 'DET', 'NOUN', '.', 'DET', 'NOUN', '.', 'DET', 'NOUN', '.', 'ADV', 'NOUN', 'NOUN', 'ADP', 'DET', 'NOUN', 'CONJ', 'DET', 'NOUN', 'NOUN', 'ADJ', 'NOUN', '.']\n",
            "words: ['it', 'was', 'i', 'who', 'paid', 'for', 'our', 'little', 'home', ',', 'the', 'food', ',', 'the', 'liquor', ',', 'the', 'time', '--', 'even', \"letch's\", 'time', 'at', 'his', 'time', 'and', 'the', 'los', 'angeles', 'athletic', 'club', '.']\n",
            "prediction: ['PRON' 'VERB' 'PRON' 'PRON' 'VERB' 'ADP' 'DET' 'ADJ' 'NOUN' '.' 'DET'\n",
            " 'NOUN' '.' 'DET' 'NOUN' '.' 'DET' 'NOUN' '.' 'ADV' 'NOUN' 'NOUN' 'ADP'\n",
            " 'DET' 'NOUN' 'CONJ' 'DET' 'NOUN' 'NOUN' 'ADJ' 'NOUN' '.']\n",
            "tags: ['ADV', 'PRT', 'VERB', 'DET', 'NOUN', 'VERB', 'DET', 'NOUN', '.']\n",
            "words: ['then', 'there', 'was', 'the', 'general', 'time', 'his', 'wife', '.']\n",
            "prediction: ['ADV' 'PRT' 'VERB' 'DET' 'ADJ' 'NOUN' 'DET' 'NOUN' '.']\n",
            "tags: ['CONJ', 'VERB', 'PRON', 'VERB', 'DET', 'NOUN', 'ADP', 'DET', 'NOUN', '.', '.']\n",
            "words: ['and', 'did', 'he', 'appreciate', 'my', 'time', 'on', 'his', 'time', '?', '?']\n",
            "prediction: ['CONJ' 'VERB' 'PRON' 'VERB' 'DET' 'NOUN' 'ADP' 'DET' 'NOUN' '.' '.']\n",
            "tags: ['PRON', 'ADV', 'VERB', '.', 'ADP', 'DET', 'NOUN', '.', 'ADJ', '.', '.', 'PRON', 'VERB', '.']\n",
            "words: ['it', 'now', 'means', ',', 'in', 'my', 'country', ',', 'time', \"''\", ',', 'i', 'said', '.']\n",
            "prediction: ['PRON' 'ADV' 'VERB' '.' 'ADP' 'DET' 'NOUN' '.' 'NOUN' '.' '.' 'PRON'\n",
            " 'VERB' '.']\n",
            "tags: ['CONJ', 'ADP', 'NOUN', 'ADJ', 'NOUN', 'ADP', 'DET', 'NOUN', '.', 'NOUN', 'ADV', '.', 'VERB', '.', 'CONJ', 'VERB', 'VERB', 'ADP', 'NUM', 'NOUN', 'ADP', 'DET', '.']\n",
            "words: ['but', 'with', \"welch's\", 'time', 'time', 'of', 'the', 'subject', ',', 'barco', 'finally', '``', 'broke', \"''\", 'and', 'started', 'time', 'to', 'one', 'murder', 'after', 'another', '.']\n",
            "prediction: ['CONJ' 'ADP' 'NOUN' 'NOUN' 'NOUN' 'ADP' 'DET' 'NOUN' '.' 'NOUN' 'ADV' '.'\n",
            " 'VERB' '.' 'CONJ' 'VERB' 'NOUN' 'ADP' 'NUM' 'NOUN' 'ADP' 'DET' '.']\n",
            "tags: ['.', 'DET', 'NOUN', '.', '.', 'NOUN', 'VERB', '.', 'CONJ', 'PRON', 'ADV', 'VERB', 'ADP', 'VERB', 'DET', 'ADJ', 'NOUN', 'ADP', 'PRON', 'VERB', 'ADV', 'VERB', '.', '.', 'PRT', 'VERB', 'PRT', 'VERB', 'PRON', 'DET', 'PRON', 'VERB', 'CONJ', 'DET', 'PRT', 'VERB', '.']\n",
            "words: ['``', 'this', 'time', \"''\", ',', 'arlene', 'said', ',', 'and', 'she', 'even', 'kept', 'on', 'time', 'a', 'little', 'bit', 'while', 'she', 'was', 'just', 'talking', ',', '``', \"you're\", 'going', 'to', 'tell', 'me', 'what', 'i', 'am', 'and', 'what', \"i'm\", 'doing', '.']\n",
            "prediction: ['.' 'DET' 'NOUN' '.' '.' 'NOUN' 'VERB' '.' 'CONJ' 'PRON' 'ADV' 'VERB'\n",
            " 'ADP' 'NOUN' 'DET' 'ADJ' 'NOUN' 'ADP' 'PRON' 'VERB' 'ADV' 'VERB' '.' '.'\n",
            " 'PRT' 'VERB' 'PRT' 'VERB' 'PRON' 'DET' 'PRON' 'VERB' 'CONJ' 'DET' 'PRT'\n",
            " 'VERB' '.']\n",
            "tags: ['NOUN', 'VERB', 'VERB', 'ADP', 'DET', 'NOUN', 'ADJ', 'CONJ', 'ADV', 'ADV', 'VERB', 'ADP', 'ADV', '.']\n",
            "words: ['letch', 'had', 'returned', 'from', 'his', 'time', 'time', 'and', 'more', 'time', 'time', 'than', 'before', '.']\n",
            "prediction: ['NOUN' 'VERB' 'VERB' 'ADP' 'DET' 'NOUN' 'NOUN' 'CONJ' 'ADJ' 'NOUN' 'NOUN'\n",
            " 'ADP' 'ADV' '.']\n",
            "tags: ['PRON', 'VERB', 'VERB', 'VERB', 'NOUN', 'VERB', 'ADP', 'DET', 'NOUN', 'VERB', 'PRON', 'ADV', 'ADP', 'DET', 'NOUN', 'ADP', 'PRT', 'DET', 'ADJ', 'NOUN', 'ADP', 'NOUN', 'VERB', 'ADV', 'ADJ', '.']\n",
            "words: ['i', \"wouldn't\", 'have', 'wasted', 'time', 'time', 'over', 'this', 'couple', 'were', 'it', 'not', 'for', 'my', 'fear', 'that', 'all', 'the', 'other', 'time', 'of', 'catatonia', 'were', 'equally', 'time', '.']\n",
            "prediction: ['PRON' 'VERB' 'VERB' 'VERB' 'NOUN' 'NOUN' 'ADP' 'DET' 'NOUN' 'VERB'\n",
            " 'PRON' 'ADV' 'ADP' 'DET' 'NOUN' 'ADP' 'PRT' 'DET' 'ADJ' 'NOUN' 'ADP'\n",
            " 'NOUN' 'VERB' 'ADV' 'NOUN' '.']\n",
            "tags: ['ADP', 'DET', 'NOUN', '.', 'PRON', 'VERB', 'VERB', 'PRT', 'ADP', 'NOUN', '.']\n",
            "words: ['as', 'a', 'result', ',', 'he', 'was', 'time', 'out', 'to', 'dinner', '.']\n",
            "prediction: ['ADP' 'DET' 'NOUN' '.' 'PRON' 'VERB' 'NOUN' 'PRT' 'ADP' 'NOUN' '.']\n",
            "tags: ['ADV', '.', 'PRON', 'ADV', 'VERB', 'DET', 'ADJ', 'ADJ', 'NOUN', 'ADP', 'DET', 'NOUN', 'NOUN', 'VERB', 'DET', 'ADV', 'ADJ', 'ADP', 'DET', 'NOUN', '.', 'ADV', 'ADV', 'ADV', 'ADP', 'NOUN', 'CONJ', 'NOUN', 'CONJ', 'DET', 'NOUN', '.']\n",
            "words: ['now', ',', 'you', 'probably', 'share', 'the', 'time', 'time', 'time', 'that', 'the', 'time', 'buddha', 'is', 'the', 'most', 'time', 'of', 'the', 'time', ',', 'much', 'more', 'so', 'than', 'time', 'and', 'time', 'and', 'the', 'rest', '.']\n",
            "prediction: ['ADV' '.' 'PRON' 'ADV' 'NOUN' 'DET' 'NOUN' 'NOUN' 'NOUN' 'ADP' 'DET'\n",
            " 'NOUN' 'NOUN' 'VERB' 'DET' 'ADJ' 'NOUN' 'ADP' 'DET' 'NOUN' '.' 'ADV'\n",
            " 'ADV' 'ADV' 'ADP' 'NOUN' 'CONJ' 'NOUN' 'CONJ' 'DET' 'NOUN' '.']\n",
            "tags: ['DET', 'ADJ', 'NOUN', 'ADP', 'DET', 'NOUN', 'NOUN', 'VERB', 'ADV', 'ADJ', '.', '.']\n",
            "words: ['the', 'time', 'pages', 'of', 'the', 'telephone', 'book', 'were', 'time', 'thin', ')', '.']\n",
            "prediction: ['DET' 'NOUN' 'NOUN' 'ADP' 'DET' 'NOUN' 'NOUN' 'VERB' 'NOUN' 'ADJ' '.' '.']\n",
            "tags: ['PRON', 'VERB', 'DET', 'NOUN', '.', 'ADV', 'VERB', '.', '.', 'PRON', 'VERB', 'VERB', '.', '.', '.']\n",
            "words: ['he', 'thought', 'a', 'moment', ',', 'then', 'inquired', ',', '``', 'you', 'mean', 'time', \"''\", '?', '?']\n",
            "prediction: ['PRON' 'VERB' 'DET' 'NOUN' '.' 'ADV' 'VERB' '.' '.' 'PRON' 'VERB' 'NOUN'\n",
            " '.' '.' '.']\n",
            "tags: ['PRON', 'VERB', 'ADP', 'DET', 'ADJ', 'NOUN', 'DET', 'NOUN', '.', 'NOUN', '.', 'NOUN', '.', 'CONJ', 'ADV', 'NOUN', 'VERB', 'VERB', 'PRT', 'VERB', 'DET', 'NOUN', '.', '.']\n",
            "words: ['she', 'lived', 'in', 'an', 'time', 'house', 'whose', 'time', ',', 'time', ',', 'paint', ',', 'and', 'even', 'pets', 'were', 'chosen', 'to', 'time', 'her', 'coloring', ';', ';']\n",
            "prediction: ['PRON' 'VERB' 'ADP' 'DET' 'NOUN' 'NOUN' 'DET' 'NOUN' '.' 'NOUN' '.'\n",
            " 'VERB' '.' 'CONJ' 'ADV' 'NOUN' 'VERB' 'VERB' 'ADP' 'NOUN' 'PRON' 'VERB'\n",
            " '.' '.']\n",
            "tags: ['CONJ', 'DET', 'NOUN', '.']\n",
            "words: ['or', 'his', 'horse', '.']\n",
            "prediction: ['CONJ' 'DET' 'NOUN' '.']\n",
            "tags: ['PRON', 'ADV', 'VERB', 'ADP', 'PRON', 'VERB', 'PRON', 'DET', 'NOUN', 'VERB', '.', 'CONJ', 'ADV', 'PRON', 'VERB', '.', 'PRON', 'VERB', 'NOUN', 'ADP', 'NOUN', 'NOUN', 'ADP', 'ADV', 'DET', 'NOUN', 'VERB', 'DET', 'NOUN', '.']\n",
            "words: ['he', 'never', 'time', 'until', 'he', 'discovered', 'who', 'the', 'time', 'was', ',', 'and', 'when', 'he', 'did', ',', 'he', 'time', 'vengeance', 'on', 'viola', 'lake', 'if', 'ever', 'the', 'chance', 'came', 'his', 'way', '.']\n",
            "prediction: ['PRON' 'ADV' 'NOUN' 'ADP' 'PRON' 'VERB' 'PRON' 'DET' 'NOUN' 'VERB' '.'\n",
            " 'CONJ' 'ADV' 'PRON' 'VERB' '.' 'PRON' 'NOUN' 'NOUN' 'ADP' 'NOUN' 'NOUN'\n",
            " 'ADP' 'ADV' 'DET' 'NOUN' 'VERB' 'DET' 'NOUN' '.']\n",
            "tags: ['DET', 'VERB', 'VERB', 'VERB', 'ADV', 'ADP', 'DET', 'NOUN', 'ADP', 'NOUN', 'CONJ', 'VERB', '.', 'DET', 'ADJ', 'NOUN', 'ADP', 'NOUN', '.']\n",
            "words: ['this', 'could', 'be', 'told', 'time', 'from', 'a', 'sort', 'of', 'time', 'and', 'time', ',', 'a', 'time', 'time', 'of', 'time', '.']\n",
            "prediction: ['DET' 'VERB' 'VERB' 'VERB' 'NOUN' 'ADP' 'DET' 'NOUN' 'ADP' 'NOUN' 'CONJ'\n",
            " 'NOUN' '.' 'DET' 'NOUN' 'NOUN' 'ADP' 'NOUN' '.']\n",
            "tags: ['DET', 'ADJ', 'VERB', '.', 'ADP', 'DET', 'ADJ', 'NOUN', '.', '.', 'PRT', 'DET', 'ADJ', 'ADJ', 'NOUN', '.', '.']\n",
            "words: ['the', 'other', 'remarked', ',', 'in', 'a', 'happy', 'laughter', ',', '``', \"that's\", 'a', 'funny', 'old', 'horse', \"''\", '.']\n",
            "prediction: ['DET' 'ADJ' 'VERB' '.' 'ADP' 'DET' 'ADJ' 'NOUN' '.' '.' 'PRT' 'DET' 'ADJ'\n",
            " 'ADJ' 'NOUN' '.' '.']\n",
            "tags: ['.', 'DET', 'ADJ', 'CONJ', 'ADJ', 'NOUN', 'VERB', 'VERB', 'NOUN', 'CONJ', 'NOUN', 'NOUN', 'ADV', '.', 'ADP', 'PRON', 'VERB', 'NOUN', 'PRON', 'VERB', 'ADV', 'VERB', 'CONJ', 'VERB', 'VERB', '.', 'ADJ', 'ADP', 'NOUN', 'CONJ', 'NOUN', '.', 'ADJ', 'ADP', 'NOUN', 'CONJ', 'NOUN', '.']\n",
            "words: ['``', 'the', 'political', 'and', 'time', 'left', 'began', 'fighting', 'humor', 'and', 'comedy', 'years', 'ago', ',', 'because', 'they', 'fear', 'things', 'they', 'do', 'not', 'understand', 'and', 'cannot', 'time', ',', 'such', 'as', 'satire', 'and', 'time', ',', 'such', 'as', 'humor', 'and', 'comedy', '.']\n",
            "prediction: ['.' 'DET' 'ADJ' 'CONJ' 'NOUN' 'VERB' 'VERB' 'VERB' 'NOUN' 'CONJ' 'NOUN'\n",
            " 'NOUN' 'ADV' '.' 'ADP' 'PRON' 'VERB' 'NOUN' 'PRON' 'VERB' 'ADV' 'VERB'\n",
            " 'CONJ' 'VERB' 'NOUN' '.' 'ADJ' 'ADP' 'NOUN' 'CONJ' 'NOUN' '.' 'ADJ' 'ADP'\n",
            " 'NOUN' 'CONJ' 'NOUN' '.']\n",
            "tags: ['.', 'ADP', 'NOUN', '.', 'ADJ', '.', '.', 'PRON', 'VERB', '.']\n",
            "words: ['``', 'of', 'course', ',', 'dear', \"''\", ',', 'she', 'said', '.']\n",
            "prediction: ['.' 'ADP' 'NOUN' '.' 'ADJ' '.' '.' 'PRON' 'VERB' '.']\n",
            "tags: ['DET', 'NOUN', 'VERB', 'PRT', 'PRT', 'VERB', 'ADJ', 'ADP', 'DET', 'NOUN', '.', '.']\n",
            "words: ['the', 'children', 'time', 'off', 'to', 'get', 'time', 'of', 'their', 'time', ';', ';']\n",
            "prediction: ['DET' 'NOUN' 'NOUN' 'ADP' 'PRT' 'VERB' 'NOUN' 'ADP' 'DET' 'NOUN' '.' '.']\n",
            "tags: ['DET', 'NOUN', 'NOUN', 'VERB', 'NOUN', 'CONJ', 'ADV', 'NOUN', 'NOUN', 'VERB', 'VERB', '.']\n",
            "words: ['the', 'newspaper', 'boys', 'time', 'jokes', 'and', 'again', \"barco's\", 'pride', 'was', 'aroused', '.']\n",
            "prediction: ['DET' 'NOUN' 'NOUN' 'NOUN' 'NOUN' 'CONJ' 'ADV' 'NOUN' 'NOUN' 'VERB'\n",
            " 'VERB' '.']\n",
            "tags: ['DET', 'PRON', 'VERB', 'ADP', 'NOUN', 'VERB', 'ADP', 'PRON', 'VERB', 'PRT', 'VERB', 'PRT', 'ADP', 'DET', 'NOUN', 'ADP', 'VERB', 'PRON', 'ADV', 'ADV', 'ADP', 'DET', 'NOUN', 'NOUN', '.']\n",
            "words: ['what', 'i', 'meant', 'to', 'say', 'was', 'that', 'i', 'started', 'to', 'start', 'in', 'on', 'the', 'dishes', 'by', 'gathering', 'them', 'all', 'together', 'in', 'the', 'kitchen', 'sink', '.']\n",
            "prediction: ['DET' 'PRON' 'VERB' 'PRT' 'VERB' 'VERB' 'ADP' 'PRON' 'VERB' 'PRT' 'VERB'\n",
            " 'ADP' 'ADP' 'DET' 'NOUN' 'ADP' 'NOUN' 'PRON' 'PRT' 'ADV' 'ADP' 'DET'\n",
            " 'NOUN' 'NOUN' '.']\n",
            "tags: ['ADP', 'PRT', '.', 'ADP', 'PRON', 'VERB', 'VERB', 'PRT', 'VERB', 'PRT', 'DET', 'NOUN', 'PRON', 'VERB', 'PRT', 'VERB', 'DET', 'ADJ', 'NOUN', 'CONJ', 'DET', 'VERB', 'DET', '.']\n",
            "words: ['after', 'all', ',', 'if', 'you', 'were', 'going', 'to', 'set', 'up', 'a', 'workshop', 'you', 'had', 'to', 'have', 'the', 'proper', 'equipment', 'and', 'that', 'was', 'that', '.']\n",
            "prediction: ['ADP' 'PRT' '.' 'ADP' 'PRON' 'VERB' 'VERB' 'PRT' 'VERB' 'PRT' 'DET'\n",
            " 'NOUN' 'PRON' 'VERB' 'PRT' 'VERB' 'DET' 'ADJ' 'NOUN' 'CONJ' 'PRON' 'VERB'\n",
            " 'PRON' '.']\n",
            "tags: ['DET', 'ADV', 'ADJ', 'NOUN', 'VERB', 'ADP', 'VERB', '.', '.', 'DET', 'NOUN', 'ADP', 'DET', 'NOUN', 'VERB', 'VERB', 'PRON', 'ADP', 'NUM', 'NOUN', 'ADP', 'DET', 'ADJ', 'NOUN', '.']\n",
            "words: ['another', 'less', 'ambiguous', 'case', 'read', 'as', 'time', ':', '``', 'the', 'time', 'of', 'this', 'letter', 'has', 'served', 'me', 'for', 'two', 'years', 'to', 'his', 'complete', 'time', '.']\n",
            "prediction: ['DET' 'ADJ' 'ADJ' 'NOUN' 'VERB' 'ADP' 'NOUN' '.' '.' 'DET' 'NOUN' 'ADP'\n",
            " 'DET' 'NOUN' 'VERB' 'VERB' 'PRON' 'ADP' 'NUM' 'NOUN' 'ADP' 'DET' 'ADJ'\n",
            " 'NOUN' '.']\n",
            "tags: ['.', 'PRON', 'DET', '.', '.', '.']\n",
            "words: ['``', 'you', 'what', \"''\", '?', '?']\n",
            "prediction: ['.' 'PRON' 'DET' '.' '.' '.']\n",
            "tags: ['ADP', 'NUM', 'NOUN', 'DET', 'NOUN', 'VERB', 'VERB', 'ADP', 'DET', 'NOUN', 'ADP', 'DET', 'NOUN', 'ADP', 'DET', 'NOUN', 'VERB', 'DET', 'NOUN', '.', '.', 'VERB', 'PRON', '.', 'CONJ', 'ADV', 'PRON', 'VERB', 'PRT', 'PRON', 'VERB', 'ADP', 'PRON', 'VERB', 'VERB', 'DET', 'NOUN', 'NOUN', 'CONJ', 'DET', 'NOUN', 'ADV', '.', '.']\n",
            "words: ['in', 'one', 'time', 'a', 'family', 'is', 'shown', 'outside', 'a', 'theater', 'with', 'the', 'head', 'of', 'the', 'family', 'addressing', 'the', 'time', ':', '``', 'time', 'me', ',', 'but', 'when', 'we', 'came', 'out', 'we', 'found', 'that', 'we', 'had', 'left', 'my', 'time', 'time', 'and', 'my', 'time', 'behind', \"''\", '.']\n",
            "prediction: ['ADP' 'NUM' 'NOUN' 'DET' 'NOUN' 'VERB' 'VERB' 'ADV' 'DET' 'NOUN' 'ADP'\n",
            " 'DET' 'NOUN' 'ADP' 'DET' 'NOUN' 'VERB' 'DET' 'NOUN' '.' '.' 'NOUN' 'PRON'\n",
            " '.' 'CONJ' 'ADV' 'PRON' 'VERB' 'ADP' 'PRON' 'VERB' 'ADP' 'PRON' 'VERB'\n",
            " 'VERB' 'DET' 'NOUN' 'NOUN' 'CONJ' 'DET' 'NOUN' 'ADV' '.' '.']\n",
            "tags: ['PRON', 'VERB', 'VERB', 'VERB', '.', 'ADV', '.', 'PRT', 'VERB', 'VERB', 'DET', 'NOUN', 'ADP', 'DET', 'NOUN', 'VERB', 'ADP', 'VERB', 'ADP', 'DET', 'CONJ', 'ADJ', 'NOUN', 'ADP', 'DET', 'NOUN', '.', 'ADP', 'PRON', 'VERB', 'DET', 'ADV', 'ADJ', '.', 'ADP', 'ADV', 'ADJ', '.', 'NOUN', '.']\n",
            "words: ['we', 'would', 'have', 'time', ',', 'however', ',', 'to', 'have', 'had', 'the', 'rest', 'of', 'the', 'orchestra', 'time', 'from', 'laughing', 'at', 'this', 'and', 'other', 'time', 'on', 'the', 'time', ',', 'since', 'it', 'time', 'an', 'otherwise', 'sober', ',', 'if', 'not', 'time', ',', 'performance', '.']\n",
            "prediction: ['PRON' 'VERB' 'VERB' 'NOUN' '.' 'ADV' '.' '.' '.' '.' '.' '.' '.' '.' '.'\n",
            " '.' '.' '.' '.' '.' '.' '.' '.' '.' '.' '.' '.' '.' '.' '.' '.' '.' '.'\n",
            " '.' '.' '.' '.' '.' '.' '.']\n",
            "tags: ['NOUN', 'VERB', 'VERB', 'VERB', 'PRT', 'VERB', '.', 'ADP', 'NOUN', '.', 'CONJ', 'ADV', 'VERB', 'DET', 'NOUN', 'CONJ', 'DET', 'NOUN', 'ADP', 'DET', 'NOUN', '.', 'PRON', 'VERB', 'VERB', '.']\n",
            "words: ['viola', 'had', 'been', 'time', 'to', 'time', ',', 'by', 'telephone', ',', 'and', 'not', 'time', 'the', 'host', 'or', 'the', 'character', 'of', 'the', 'party', ',', 'she', 'had', 'gone', '.']\n",
            "prediction: ['NOUN' 'VERB' 'VERB' 'NOUN' 'ADP' 'NOUN' '.' 'ADP' 'NOUN' '.' 'CONJ'\n",
            " 'ADV' 'NOUN' 'DET' 'NOUN' 'CONJ' 'DET' 'NOUN' 'ADP' 'DET' 'NOUN' '.'\n",
            " 'PRON' 'VERB' 'VERB' '.']\n",
            "tags: ['ADV', '.', 'NOUN', 'VERB', 'ADV', '.', 'ADV', 'ADJ', '.', 'VERB', 'ADP', 'DET', 'NOUN', 'VERB', 'ADP', 'VERB', 'VERB', 'ADP', 'ADJ', '.', 'VERB', 'NOUN', '.']\n",
            "words: ['yes', ',', 'blanche', 'was', 'very', ',', 'very', 'sweet', '--', 'being', 'in', 'her', 'company', 'was', 'like', 'being', 'time', 'in', 'warm', ',', 'time', 'time', '.']\n",
            "prediction: ['ADV' '.' 'NOUN' 'VERB' 'ADV' '.' 'ADV' 'ADJ' '.' 'VERB' 'ADP' 'DET'\n",
            " 'NOUN' 'VERB' 'ADP' 'NOUN' 'NOUN' 'ADP' 'ADJ' '.' 'NOUN' 'NOUN' '.']\n",
            "tags: ['VERB', 'ADP', 'DET', 'NOUN', 'ADV', 'CONJ', 'VERB', 'DET', 'NOUN', '.', 'PRON', 'VERB', 'DET', 'ADJ', 'NOUN', '.']\n",
            "words: ['speaking', 'into', 'the', 'phone', 'again', 'and', 'time', 'the', 'time', ',', 'i', 'time', 'my', 'time', 'voice', '.']\n",
            "prediction: ['VERB' 'ADP' 'DET' 'NOUN' 'ADV' 'CONJ' 'NOUN' 'DET' 'NOUN' '.' 'PRON'\n",
            " 'NOUN' 'DET' 'NOUN' 'NOUN' '.']\n",
            "tags: ['.', 'NOUN', 'VERB', 'VERB', '.', 'PRON', 'ADV', 'VERB', 'ADJ', '.']\n",
            "words: ['``', 'comedy', \"didn't\", 'time', ',', 'it', 'just', 'went', 'crazy', '.']\n",
            "prediction: ['.' 'NOUN' 'VERB' 'NOUN' '.' 'PRON' 'ADV' 'VERB' 'ADJ' '.']\n",
            "tags: ['PRON', 'ADV', 'VERB', 'PRT', 'DET', 'ADJ', 'NOUN', 'ADP', 'ADV', 'PRT', 'VERB', 'DET', 'NOUN', 'ADP', 'DET', 'NOUN', 'VERB', '.']\n",
            "words: ['they', 'also', 'caught', 'on', 'a', 'little', 'bit', 'on', 'how', 'to', 'smile', 'a', 'lot', 'without', 'your', 'lips', 'trembling', '.']\n",
            "prediction: ['PRON' 'ADV' 'VERB' 'ADP' 'DET' 'ADJ' 'NOUN' 'ADP' 'ADV' 'ADP' 'NOUN'\n",
            " 'DET' 'NOUN' 'ADP' 'DET' 'NOUN' 'VERB' '.']\n",
            "tags: ['NOUN', 'CONJ', 'NOUN', 'VERB', 'ADP', 'DET', 'ADJ', 'NOUN', 'PRON', 'VERB', 'ADP', 'NOUN', '.']\n",
            "words: ['francesca', 'and', 'herbert', 'were', 'among', 'the', 'few', 'people', 'we', 'knew', 'in', 'catatonia', '.']\n",
            "prediction: ['NOUN' 'CONJ' 'NOUN' 'VERB' 'ADP' 'DET' 'ADJ' 'NOUN' 'PRON' 'VERB' 'ADP'\n",
            " 'NOUN' '.']\n",
            "Accuracy: 88.57273978889398 %\n"
          ]
        }
      ]
    },
    {
      "cell_type": "markdown",
      "metadata": {
        "id": "ff_W7J8XwC6e"
      },
      "source": [
        "### Вопрос 5:\n",
        "* Какое качество вы получили(округлите до одного знака после запятой)?"
      ]
    },
    {
      "cell_type": "code",
      "metadata": {
        "id": "ptvlpc-6wC6f",
        "colab": {
          "base_uri": "https://localhost:8080/"
        },
        "outputId": "32cc6b31-e337-419b-efac-50728967d533"
      },
      "source": [
        "88.6"
      ],
      "execution_count": null,
      "outputs": [
        {
          "output_type": "execute_result",
          "data": {
            "text/plain": [
              "88.6"
            ]
          },
          "metadata": {},
          "execution_count": 241
        }
      ]
    },
    {
      "cell_type": "markdown",
      "metadata": {
        "id": "FpAgfZRTwC6h"
      },
      "source": [
        "## DefaultTagger"
      ]
    },
    {
      "cell_type": "markdown",
      "metadata": {
        "id": "9b4cPKyiwC6j"
      },
      "source": [
        "### Вопрос 6:\n",
        "* Какое качество вы бы получили, если бы предсказывали любой тег, как самый популярный тег на выборке train(округлите до одного знака после запятой)?"
      ]
    },
    {
      "cell_type": "markdown",
      "metadata": {
        "id": "Td-0Pe0vwC6k"
      },
      "source": [
        "Вы можете испоьзовать DefaultTagger(метод tag для предсказания частей речи предложения)"
      ]
    },
    {
      "cell_type": "code",
      "metadata": {
        "id": "NfZYlMxJwC6m"
      },
      "source": [
        "from nltk.tag import DefaultTagger\n",
        "default_tagger = DefaultTagger('NOUN')"
      ],
      "execution_count": null,
      "outputs": []
    },
    {
      "cell_type": "code",
      "metadata": {
        "id": "9CXKibo_cMcB",
        "colab": {
          "base_uri": "https://localhost:8080/"
        },
        "outputId": "23d082e0-7ca9-4f26-ddb9-4d4c4a0843f3"
      },
      "source": [
        "true_pred = 0\n",
        "num_pred = 0\n",
        "for sent in test_sents:\n",
        "  tags = [tup[1] for tup in sent]\n",
        "  words = ([tup[0] for tup in sent])\n",
        "  popular_tag = [tup[1] for tup in default_tagger.tag(words)]\n",
        "  true_pred += sum([popular_tag[i] == tags[i] for i in range(len(tags))])  #'''your code'''\n",
        "  num_pred += len(tags) #'''your code'''\n",
        "print(\"Accuracy:\", true_pred / num_pred * 100, '%')"
      ],
      "execution_count": null,
      "outputs": [
        {
          "output_type": "stream",
          "name": "stdout",
          "text": [
            "Accuracy: 20.146856356126662 %\n"
          ]
        }
      ]
    },
    {
      "cell_type": "code",
      "source": [
        "20.1"
      ],
      "metadata": {
        "colab": {
          "base_uri": "https://localhost:8080/"
        },
        "id": "LT-_BzmcjrJl",
        "outputId": "3a0bb31c-7708-4c67-a7cc-87e4287bf7f7"
      },
      "execution_count": null,
      "outputs": [
        {
          "output_type": "execute_result",
          "data": {
            "text/plain": [
              "20.1"
            ]
          },
          "metadata": {},
          "execution_count": 55
        }
      ]
    },
    {
      "cell_type": "markdown",
      "metadata": {
        "id": "lz7Q3BfbwC6o"
      },
      "source": [
        "## NLTK, Rnnmorph"
      ]
    },
    {
      "cell_type": "markdown",
      "metadata": {
        "id": "PZvdB22Oyycz"
      },
      "source": [
        "Вспомним первый [семинар](https://colab.research.google.com/drive/1FHZVU6yJT61J8w1hALno0stD4VU36rit?usp=sharing) нашего курса. В том семинаре мы с вами работали c некоторыми библиотеками.\n",
        "\n",
        "Не забудьте преобразовать систему тэгов из `'en-ptb' в 'universal'` с помощью функции `map_tag` или используйте `tagset='universal'`"
      ]
    },
    {
      "cell_type": "code",
      "metadata": {
        "id": "9bn1TGlGAfuL"
      },
      "source": [
        "from nltk.tag.mapping import map_tag"
      ],
      "execution_count": null,
      "outputs": []
    },
    {
      "cell_type": "code",
      "metadata": {
        "id": "JJQFfbp8A_cj",
        "colab": {
          "base_uri": "https://localhost:8080/"
        },
        "outputId": "5fa66237-cf1a-4ff1-daa1-2f6579d8ada9"
      },
      "source": [
        "import nltk\n",
        "nltk.download('averaged_perceptron_tagger')\n",
        "# nltk.pos_tag(..., tagset='universal')"
      ],
      "execution_count": null,
      "outputs": [
        {
          "output_type": "stream",
          "name": "stderr",
          "text": [
            "[nltk_data] Downloading package averaged_perceptron_tagger to\n",
            "[nltk_data]     /root/nltk_data...\n",
            "[nltk_data]   Unzipping taggers/averaged_perceptron_tagger.zip.\n"
          ]
        },
        {
          "output_type": "execute_result",
          "data": {
            "text/plain": [
              "True"
            ]
          },
          "metadata": {},
          "execution_count": 57
        }
      ]
    },
    {
      "cell_type": "code",
      "source": [
        "from nltk.tag import pos_tag\n",
        "pos_tagger = pos_tag"
      ],
      "metadata": {
        "id": "LP_WOCkM0NPu"
      },
      "execution_count": null,
      "outputs": []
    },
    {
      "cell_type": "code",
      "source": [
        "from nltk.tag import pos_tag\n",
        "pos_tagger = pos_tag\n",
        "true_pred = 0\n",
        "num_pred = 0\n",
        "for sent in test_sents:\n",
        "  tags = [tup[1] for tup in sent]\n",
        "  words = ([tup[0] for tup in sent])\n",
        "  prediction = [out[1] for out in pos_tagger(words, tagset='universal')]\n",
        "  true_pred += sum([prediction[i] == tags[i] for i in range(len(tags))])  #'''your code'''\n",
        "  num_pred += len(tags) #'''your code'''\n",
        "print(\"Accuracy:\", true_pred / num_pred * 100, '%')"
      ],
      "metadata": {
        "colab": {
          "base_uri": "https://localhost:8080/"
        },
        "id": "XtSqwbzsznBr",
        "outputId": "a1f8c925-3912-486c-c806-540a5a30a978"
      },
      "execution_count": null,
      "outputs": [
        {
          "output_type": "stream",
          "name": "stdout",
          "text": [
            "Accuracy: 90.3625516291877 %\n"
          ]
        }
      ]
    },
    {
      "cell_type": "code",
      "source": [
        "!pip install -q rnnmorph"
      ],
      "metadata": {
        "id": "A24NbacIveq3",
        "colab": {
          "base_uri": "https://localhost:8080/"
        },
        "outputId": "f22d00cf-31d7-451a-ff47-9b1e3da2187b"
      },
      "execution_count": null,
      "outputs": [
        {
          "output_type": "stream",
          "name": "stdout",
          "text": [
            "\u001b[2K     \u001b[90m━━━━━━━━━━━━━━━━━━━━━━━━━━━━━━━━━━━━━━━━\u001b[0m \u001b[32m19.7/19.7 MB\u001b[0m \u001b[31m67.5 MB/s\u001b[0m eta \u001b[36m0:00:00\u001b[0m\n",
            "\u001b[?25h  Preparing metadata (setup.py) ... \u001b[?25l\u001b[?25hdone\n",
            "\u001b[2K     \u001b[90m━━━━━━━━━━━━━━━━━━━━━━━━━━━━━━━━━━━━━━━━\u001b[0m \u001b[32m55.5/55.5 kB\u001b[0m \u001b[31m4.7 MB/s\u001b[0m eta \u001b[36m0:00:00\u001b[0m\n",
            "\u001b[?25h  Preparing metadata (setup.py) ... \u001b[?25l\u001b[?25hdone\n",
            "\u001b[2K     \u001b[90m━━━━━━━━━━━━━━━━━━━━━━━━━━━━━━━━━━━━━━━━\u001b[0m \u001b[32m8.2/8.2 MB\u001b[0m \u001b[31m69.4 MB/s\u001b[0m eta \u001b[36m0:00:00\u001b[0m\n",
            "\u001b[?25h  Preparing metadata (setup.py) ... \u001b[?25l\u001b[?25hdone\n",
            "  Building wheel for rnnmorph (setup.py) ... \u001b[?25l\u001b[?25hdone\n",
            "  Building wheel for russian-tagsets (setup.py) ... \u001b[?25l\u001b[?25hdone\n",
            "  Building wheel for docopt (setup.py) ... \u001b[?25l\u001b[?25hdone\n"
          ]
        }
      ]
    },
    {
      "cell_type": "code",
      "metadata": {
        "id": "8LD_61W7N35q",
        "colab": {
          "base_uri": "https://localhost:8080/"
        },
        "outputId": "5fbd9802-8329-43fb-d410-25903c0227f2"
      },
      "source": [
        "from rnnmorph.predictor import RNNMorphPredictor\n",
        "predictor = RNNMorphPredictor(language=\"en\")"
      ],
      "execution_count": null,
      "outputs": [
        {
          "output_type": "stream",
          "name": "stderr",
          "text": [
            "[nltk_data] Downloading package wordnet to /root/nltk_data...\n",
            "[nltk_data] Downloading package averaged_perceptron_tagger to\n",
            "[nltk_data]     /root/nltk_data...\n",
            "[nltk_data]   Package averaged_perceptron_tagger is already up-to-\n",
            "[nltk_data]       date!\n",
            "[nltk_data] Downloading package universal_tagset to /root/nltk_data...\n",
            "[nltk_data]   Package universal_tagset is already up-to-date!\n"
          ]
        }
      ]
    },
    {
      "cell_type": "code",
      "source": [
        "true_pred = 0\n",
        "num_pred = 0\n",
        "for sent in test_sents:\n",
        "  tags = [tup[1] for tup in sent]\n",
        "  words = ([tup[0] for tup in sent])\n",
        "  prediction = [out.pos for out in predictor.predict(words)]\n",
        "  true_pred += sum([prediction[i] == tags[i] for i in range(len(tags))])  #'''your code'''\n",
        "  num_pred += len(tags) #'''your code'''\n",
        "print(\"Accuracy:\", true_pred / num_pred * 100, '%')"
      ],
      "metadata": {
        "colab": {
          "base_uri": "https://localhost:8080/"
        },
        "id": "rb2E0E6KyrRH",
        "outputId": "96740767-eeb9-4739-e6ae-9b3172d46065"
      },
      "execution_count": null,
      "outputs": [
        {
          "output_type": "stream",
          "name": "stdout",
          "text": [
            "1/1 [==============================] - 4s 4s/step\n",
            "1/1 [==============================] - 3s 3s/step\n",
            "1/1 [==============================] - 0s 78ms/step\n",
            "1/1 [==============================] - 0s 73ms/step\n",
            "1/1 [==============================] - 0s 56ms/step\n",
            "1/1 [==============================] - 0s 114ms/step\n",
            "1/1 [==============================] - 0s 60ms/step\n",
            "1/1 [==============================] - 0s 58ms/step\n",
            "1/1 [==============================] - 0s 64ms/step\n",
            "1/1 [==============================] - 0s 38ms/step\n",
            "1/1 [==============================] - 0s 47ms/step\n",
            "1/1 [==============================] - 0s 67ms/step\n",
            "1/1 [==============================] - 0s 58ms/step\n",
            "1/1 [==============================] - 0s 64ms/step\n",
            "1/1 [==============================] - 0s 77ms/step\n",
            "1/1 [==============================] - 0s 31ms/step\n",
            "1/1 [==============================] - 0s 51ms/step\n",
            "1/1 [==============================] - 0s 41ms/step\n",
            "1/1 [==============================] - 0s 29ms/step\n",
            "1/1 [==============================] - 0s 35ms/step\n",
            "1/1 [==============================] - 0s 36ms/step\n",
            "1/1 [==============================] - 0s 35ms/step\n",
            "1/1 [==============================] - 0s 41ms/step\n",
            "1/1 [==============================] - 0s 49ms/step\n",
            "1/1 [==============================] - 0s 43ms/step\n",
            "1/1 [==============================] - 0s 32ms/step\n",
            "1/1 [==============================] - 0s 51ms/step\n",
            "1/1 [==============================] - 0s 38ms/step\n",
            "1/1 [==============================] - 0s 48ms/step\n",
            "1/1 [==============================] - 0s 46ms/step\n",
            "1/1 [==============================] - 0s 65ms/step\n",
            "1/1 [==============================] - 0s 39ms/step\n",
            "1/1 [==============================] - 0s 53ms/step\n",
            "1/1 [==============================] - 0s 47ms/step\n",
            "1/1 [==============================] - 0s 32ms/step\n",
            "1/1 [==============================] - 0s 36ms/step\n",
            "1/1 [==============================] - 0s 30ms/step\n",
            "1/1 [==============================] - 0s 57ms/step\n",
            "1/1 [==============================] - 0s 44ms/step\n",
            "1/1 [==============================] - 0s 40ms/step\n",
            "1/1 [==============================] - 0s 46ms/step\n",
            "1/1 [==============================] - 0s 37ms/step\n",
            "1/1 [==============================] - 0s 46ms/step\n",
            "1/1 [==============================] - 0s 56ms/step\n",
            "1/1 [==============================] - 0s 58ms/step\n",
            "1/1 [==============================] - 0s 56ms/step\n",
            "1/1 [==============================] - 0s 51ms/step\n",
            "1/1 [==============================] - 0s 75ms/step\n",
            "1/1 [==============================] - 0s 71ms/step\n",
            "1/1 [==============================] - 0s 46ms/step\n",
            "1/1 [==============================] - 0s 42ms/step\n",
            "1/1 [==============================] - 0s 34ms/step\n",
            "1/1 [==============================] - 0s 31ms/step\n",
            "1/1 [==============================] - 0s 52ms/step\n",
            "1/1 [==============================] - 0s 76ms/step\n",
            "1/1 [==============================] - 0s 86ms/step\n",
            "1/1 [==============================] - 0s 47ms/step\n",
            "1/1 [==============================] - 0s 59ms/step\n",
            "1/1 [==============================] - 0s 69ms/step\n",
            "1/1 [==============================] - 0s 50ms/step\n",
            "1/1 [==============================] - 0s 112ms/step\n",
            "1/1 [==============================] - 0s 69ms/step\n",
            "1/1 [==============================] - 0s 70ms/step\n",
            "1/1 [==============================] - 0s 64ms/step\n",
            "1/1 [==============================] - 0s 70ms/step\n",
            "1/1 [==============================] - 0s 100ms/step\n",
            "1/1 [==============================] - 0s 53ms/step\n",
            "1/1 [==============================] - 0s 52ms/step\n",
            "1/1 [==============================] - 0s 117ms/step\n",
            "1/1 [==============================] - 0s 63ms/step\n",
            "1/1 [==============================] - 0s 77ms/step\n",
            "1/1 [==============================] - 0s 33ms/step\n",
            "1/1 [==============================] - 0s 35ms/step\n",
            "1/1 [==============================] - 0s 55ms/step\n",
            "1/1 [==============================] - 0s 36ms/step\n",
            "1/1 [==============================] - 0s 33ms/step\n",
            "1/1 [==============================] - 0s 65ms/step\n",
            "1/1 [==============================] - 0s 49ms/step\n",
            "1/1 [==============================] - 0s 61ms/step\n",
            "1/1 [==============================] - 0s 48ms/step\n",
            "1/1 [==============================] - 0s 47ms/step\n",
            "1/1 [==============================] - 0s 36ms/step\n",
            "1/1 [==============================] - 0s 51ms/step\n",
            "1/1 [==============================] - 0s 35ms/step\n",
            "1/1 [==============================] - 0s 43ms/step\n",
            "1/1 [==============================] - 0s 63ms/step\n",
            "1/1 [==============================] - 0s 30ms/step\n",
            "1/1 [==============================] - 0s 51ms/step\n",
            "1/1 [==============================] - 0s 41ms/step\n",
            "1/1 [==============================] - 0s 54ms/step\n",
            "1/1 [==============================] - 0s 62ms/step\n",
            "1/1 [==============================] - 0s 39ms/step\n",
            "1/1 [==============================] - 0s 46ms/step\n",
            "1/1 [==============================] - 0s 43ms/step\n",
            "1/1 [==============================] - 0s 58ms/step\n",
            "1/1 [==============================] - 0s 44ms/step\n",
            "1/1 [==============================] - 0s 51ms/step\n",
            "1/1 [==============================] - 0s 30ms/step\n",
            "1/1 [==============================] - 0s 63ms/step\n",
            "1/1 [==============================] - 0s 55ms/step\n",
            "1/1 [==============================] - 0s 56ms/step\n",
            "1/1 [==============================] - 0s 46ms/step\n",
            "1/1 [==============================] - 0s 45ms/step\n",
            "1/1 [==============================] - 0s 39ms/step\n",
            "1/1 [==============================] - 0s 36ms/step\n",
            "1/1 [==============================] - 0s 36ms/step\n",
            "Accuracy: 64.02019274896742 %\n"
          ]
        }
      ]
    },
    {
      "cell_type": "markdown",
      "metadata": {
        "id": "i1z8x4vvwC6s"
      },
      "source": [
        "### Вопрос 7:\n",
        "* Какое качество вы получили, используя каждую из двух библиотек? Сравните их результаты.\n",
        "\n",
        "* Качество с библиотекой rnnmorph должно быть хуже, так как там используется немного другая система тэгов. Какие здесь отличия?"
      ]
    },
    {
      "cell_type": "code",
      "metadata": {
        "id": "GBd3RgqVwC6s",
        "colab": {
          "base_uri": "https://localhost:8080/",
          "height": 36
        },
        "outputId": "3a3eab28-8475-40ba-dbaf-6e936a364e38"
      },
      "source": [
        "'''\n",
        "pos_tag - 90.3625516291877%\n",
        "RNNMorphPredictor - 64.02019274896742%\n",
        "'''"
      ],
      "execution_count": null,
      "outputs": [
        {
          "output_type": "execute_result",
          "data": {
            "text/plain": [
              "'\\npos_tag - 90.3625516291877%\\nRNNMorphPredictor - 64.02019274896742%\\n'"
            ],
            "application/vnd.google.colaboratory.intrinsic+json": {
              "type": "string"
            }
          },
          "metadata": {},
          "execution_count": 63
        }
      ]
    },
    {
      "cell_type": "markdown",
      "metadata": {
        "id": "5w1W5hSkcMcV"
      },
      "source": [
        "## BiLSTMTagger"
      ]
    },
    {
      "cell_type": "markdown",
      "metadata": {
        "id": "mm1-S3t2cMcW"
      },
      "source": [
        "### Подготовка данных"
      ]
    },
    {
      "cell_type": "markdown",
      "metadata": {
        "id": "GayTl7mUcMcX"
      },
      "source": [
        "Изменим структуру данных"
      ]
    },
    {
      "cell_type": "code",
      "metadata": {
        "id": "CnXcI64fxoj4",
        "scrolled": false,
        "colab": {
          "base_uri": "https://localhost:8080/"
        },
        "outputId": "bfa11d74-c920-4cec-a11b-03e765ffd50d"
      },
      "source": [
        "pos_data = [list(zip(*sent)) for sent in brown_tagged_sents] # мб my_brown_tagged_sents использовать вместо brown_tagged_sents?\n",
        "print(pos_data[0])"
      ],
      "execution_count": null,
      "outputs": [
        {
          "output_type": "stream",
          "name": "stdout",
          "text": [
            "[('It', 'was', 'among', 'these', 'that', 'Hinkle', 'identified', 'a', 'photograph', 'of', 'Barco', '!', '!'), ('PRON', 'VERB', 'ADP', 'DET', 'ADP', 'NOUN', 'VERB', 'DET', 'NOUN', 'ADP', 'NOUN', '.', '.')]\n"
          ]
        }
      ]
    },
    {
      "cell_type": "markdown",
      "metadata": {
        "id": "DpRE3c-3cMcc"
      },
      "source": [
        "До этого мы писали много кода сами, теперь пора эксплуатировать pytorch"
      ]
    },
    {
      "cell_type": "code",
      "source": [
        "!python --version"
      ],
      "metadata": {
        "colab": {
          "base_uri": "https://localhost:8080/"
        },
        "id": "a5ec86k4I7jq",
        "outputId": "6feaa1fa-233d-4043-c887-c10bf781d06d"
      },
      "execution_count": null,
      "outputs": [
        {
          "output_type": "stream",
          "name": "stdout",
          "text": [
            "Python 3.10.11\n"
          ]
        }
      ]
    },
    {
      "cell_type": "code",
      "source": [
        "#!pip install -U torch==1.8.0 torchtext==0.9.0\n",
        "\n",
        "# Reload environment\n",
        "#exit()"
      ],
      "metadata": {
        "colab": {
          "base_uri": "https://localhost:8080/"
        },
        "id": "s-0_bmCzIn8o",
        "outputId": "5a656f25-de3c-4e20-bd7e-131f48742924"
      },
      "execution_count": null,
      "outputs": [
        {
          "output_type": "stream",
          "name": "stdout",
          "text": [
            "Looking in indexes: https://pypi.org/simple, https://us-python.pkg.dev/colab-wheels/public/simple/\n",
            "\u001b[31mERROR: Could not find a version that satisfies the requirement torch==1.8.0 (from versions: 1.11.0, 1.12.0, 1.12.1, 1.13.0, 1.13.1, 2.0.0, 2.0.1)\u001b[0m\u001b[31m\n",
            "\u001b[0m\u001b[31mERROR: No matching distribution found for torch==1.8.0\u001b[0m\u001b[31m\n",
            "\u001b[0m"
          ]
        }
      ]
    },
    {
      "cell_type": "code",
      "source": [
        "import torchtext\n",
        "torchtext.__version__"
      ],
      "metadata": {
        "colab": {
          "base_uri": "https://localhost:8080/",
          "height": 36
        },
        "id": "S95mJRwKKG7F",
        "outputId": "eb4e1b8b-6adc-4ab2-cf43-413311c486e1"
      },
      "execution_count": null,
      "outputs": [
        {
          "output_type": "execute_result",
          "data": {
            "text/plain": [
              "'0.6.0'"
            ],
            "application/vnd.google.colaboratory.intrinsic+json": {
              "type": "string"
            }
          },
          "metadata": {},
          "execution_count": 67
        }
      ]
    },
    {
      "cell_type": "code",
      "source": [
        "!pip install -U torchtext==0.6.0\n",
        "\n",
        "exit()"
      ],
      "metadata": {
        "id": "qtHNB8XFMic9"
      },
      "execution_count": null,
      "outputs": []
    },
    {
      "cell_type": "code",
      "metadata": {
        "id": "gvFlzrYnxokE"
      },
      "source": [
        "from torchtext.data import Field, BucketIterator\n",
        "import torchtext\n",
        "\n",
        "# наши поля\n",
        "WORD = Field(lower=True)\n",
        "TAG = Field(unk_token=None) # все токены нам извсетны\n",
        "\n",
        "# создаем примеры\n",
        "examples = []\n",
        "for words, tags in pos_data:\n",
        "    examples.append(torchtext.data.Example.fromlist([list(words), list(tags)], fields=[('words', WORD), ('tags', TAG)]))"
      ],
      "execution_count": null,
      "outputs": []
    },
    {
      "cell_type": "code",
      "source": [
        "WORD"
      ],
      "metadata": {
        "colab": {
          "base_uri": "https://localhost:8080/"
        },
        "id": "gO087Cb8NUZs",
        "outputId": "55f03039-fce7-48cc-80e4-621ef1f0be6f"
      },
      "execution_count": null,
      "outputs": [
        {
          "output_type": "execute_result",
          "data": {
            "text/plain": [
              "<torchtext.data.field.Field at 0x7f87dcaf7010>"
            ]
          },
          "metadata": {},
          "execution_count": 267
        }
      ]
    },
    {
      "cell_type": "markdown",
      "metadata": {
        "id": "tjl6u6cpOc1u"
      },
      "source": [
        "Вот один наш пример:"
      ]
    },
    {
      "cell_type": "code",
      "metadata": {
        "id": "dnrzktytN9rL",
        "colab": {
          "base_uri": "https://localhost:8080/"
        },
        "outputId": "cb20b7e3-bff6-42bb-bc30-5745e35b539b"
      },
      "source": [
        "print(vars(examples[0]))"
      ],
      "execution_count": null,
      "outputs": [
        {
          "output_type": "stream",
          "name": "stdout",
          "text": [
            "{'words': ['it', 'was', 'among', 'these', 'that', 'hinkle', 'identified', 'a', 'photograph', 'of', 'barco', '!', '!'], 'tags': ['PRON', 'VERB', 'ADP', 'DET', 'ADP', 'NOUN', 'VERB', 'DET', 'NOUN', 'ADP', 'NOUN', '.', '.']}\n"
          ]
        }
      ]
    },
    {
      "cell_type": "markdown",
      "metadata": {
        "id": "nUhTrWCWcMcj"
      },
      "source": [
        "Теперь формируем наш датасет"
      ]
    },
    {
      "cell_type": "code",
      "metadata": {
        "id": "LGKkbZUIxokO",
        "scrolled": true,
        "colab": {
          "base_uri": "https://localhost:8080/"
        },
        "outputId": "eb1b7268-ccce-4e3d-d668-4b3e6d415122"
      },
      "source": [
        "# кладем примеры в наш датасет\n",
        "dataset = torchtext.data.Dataset(examples, fields=[('words', WORD), ('tags', TAG)])\n",
        "\n",
        "train_data, valid_data, test_data = dataset.split(split_ratio=[0.8, 0.1, 0.1])\n",
        "\n",
        "print(f\"Number of training examples: {len(train_data.examples)}\")\n",
        "print(f\"Number of validation examples: {len(valid_data.examples)}\")\n",
        "print(f\"Number of testing examples: {len(test_data.examples)}\")"
      ],
      "execution_count": null,
      "outputs": [
        {
          "output_type": "stream",
          "name": "stdout",
          "text": [
            "Number of training examples: 842\n",
            "Number of validation examples: 106\n",
            "Number of testing examples: 105\n"
          ]
        }
      ]
    },
    {
      "cell_type": "code",
      "source": [
        "for word in train_data.tags:\n",
        "  print(word)"
      ],
      "metadata": {
        "id": "kGzxl34NNi7Z"
      },
      "execution_count": null,
      "outputs": []
    },
    {
      "cell_type": "code",
      "source": [
        "train_data"
      ],
      "metadata": {
        "colab": {
          "base_uri": "https://localhost:8080/"
        },
        "id": "IIRoF1L8NxCP",
        "outputId": "5e4cf768-b0ba-48c2-e569-7ce524bf00ab"
      },
      "execution_count": null,
      "outputs": [
        {
          "output_type": "execute_result",
          "data": {
            "text/plain": [
              "<torchtext.data.dataset.Dataset at 0x7f87f21bd930>"
            ]
          },
          "metadata": {},
          "execution_count": 271
        }
      ]
    },
    {
      "cell_type": "markdown",
      "metadata": {
        "id": "T89unpppcMcp"
      },
      "source": [
        "Построим словари. Параметр `min_freq` выберете сами. При построении словаря испольузем только **train**"
      ]
    },
    {
      "cell_type": "code",
      "metadata": {
        "id": "tZwkwhlrxoka",
        "scrolled": true,
        "colab": {
          "base_uri": "https://localhost:8080/"
        },
        "outputId": "e09ae44e-d866-4e25-9ad7-d8de9d6b951a"
      },
      "source": [
        "WORD.build_vocab(train_data.words, min_freq=2)\n",
        "TAG.build_vocab(train_data.tags)\n",
        "\n",
        "print(f\"Unique tokens in source (en) vocabulary: {len(WORD.vocab)}\")\n",
        "print(f\"Unique tokens in target (en) vocabulary: {len(TAG.vocab)}\")\n",
        "\n",
        "print(WORD.vocab.itos[::200])\n",
        "print(TAG.vocab.itos)"
      ],
      "execution_count": null,
      "outputs": [
        {
          "output_type": "stream",
          "name": "stdout",
          "text": [
            "Unique tokens in source (en) vocabulary: 1303\n",
            "Unique tokens in target (en) vocabulary: 13\n",
            "['<unk>', 'took', 'doubt', 'job', 'broken', \"ladies'\", 'somersaults']\n",
            "['<pad>', 'NOUN', 'VERB', '.', 'DET', 'ADP', 'PRON', 'ADJ', 'ADV', 'CONJ', 'PRT', 'NUM', 'X']\n"
          ]
        }
      ]
    },
    {
      "cell_type": "code",
      "metadata": {
        "id": "vjn07NP-xokl",
        "scrolled": true,
        "colab": {
          "base_uri": "https://localhost:8080/"
        },
        "outputId": "424bf434-c955-4a4e-9885-b921d9a60296"
      },
      "source": [
        "print(vars(train_data.examples[9]))"
      ],
      "execution_count": null,
      "outputs": [
        {
          "output_type": "stream",
          "name": "stdout",
          "text": [
            "{'words': ['now', 'the', 'czarship', 'had', 'not', 'affected', 'my', 'own', 'sense', 'of', 'social', 'values', ',', 'but', 'mother', 'had', 'attained', 'a', 'reflected', 'glory', 'through', 'it', ',', 'which', 'had', 'opened', 'the', 'doors', 'of', 'los', 'angeles-pasadena', 'society', 'to', 'her', '.'], 'tags': ['ADV', 'DET', 'NOUN', 'VERB', 'ADV', 'VERB', 'DET', 'ADJ', 'NOUN', 'ADP', 'ADJ', 'NOUN', '.', 'CONJ', 'NOUN', 'VERB', 'VERB', 'DET', 'VERB', 'NOUN', 'ADP', 'PRON', '.', 'DET', 'VERB', 'VERB', 'DET', 'NOUN', 'ADP', 'NOUN', 'NOUN', 'NOUN', 'ADP', 'PRON', '.']}\n"
          ]
        }
      ]
    },
    {
      "cell_type": "markdown",
      "metadata": {
        "id": "LxgkU4cZcMcz"
      },
      "source": [
        "Посмотрим с насколько большими предложениями мы имеем дело"
      ]
    },
    {
      "cell_type": "code",
      "metadata": {
        "id": "dVpMi1_0xoku",
        "scrolled": true,
        "colab": {
          "base_uri": "https://localhost:8080/",
          "height": 400
        },
        "outputId": "63f314fd-6d39-470d-daed-917c0ec175b3"
      },
      "source": [
        "length = map(len, [vars(x)['words'] for x in train_data.examples])\n",
        "\n",
        "plt.figure(figsize=[8, 4])\n",
        "plt.title(\"Length distribution in Train data\")\n",
        "plt.hist(list(length), bins=20);"
      ],
      "execution_count": null,
      "outputs": [
        {
          "output_type": "display_data",
          "data": {
            "text/plain": [
              "<Figure size 800x400 with 1 Axes>"
            ],
            "image/png": "[encoded data removed]"
          },
          "metadata": {}
        }
      ]
    },
    {
      "cell_type": "markdown",
      "metadata": {
        "id": "yi28N2RBcMc5"
      },
      "source": [
        "Для обучения `BiLSTM` лучше использовать colab"
      ]
    },
    {
      "cell_type": "code",
      "metadata": {
        "id": "LAGSrqWsxok2",
        "scrolled": true,
        "colab": {
          "base_uri": "https://localhost:8080/"
        },
        "outputId": "5616e7c2-6fb4-4555-fbc0-1956523de046"
      },
      "source": [
        "import torch\n",
        "from torch import nn\n",
        "import torch.nn.functional as F\n",
        "import torch.optim as optim\n",
        "\n",
        "device = torch.device('cuda' if torch.cuda.is_available() else 'cpu')\n",
        "device"
      ],
      "execution_count": null,
      "outputs": [
        {
          "output_type": "execute_result",
          "data": {
            "text/plain": [
              "device(type='cpu')"
            ]
          },
          "metadata": {},
          "execution_count": 275
        }
      ]
    },
    {
      "cell_type": "markdown",
      "metadata": {
        "id": "2DSWm0UjcMc-"
      },
      "source": [
        "Для более быстрого и устойчивого обучения сгруппируем наши данные по батчам"
      ]
    },
    {
      "cell_type": "code",
      "metadata": {
        "id": "dmwAyhNgxok_"
      },
      "source": [
        "# бьем нашу выборку на батч, не забывая сначала отсортировать выборку по длине\n",
        "def _len_sort_key(x):\n",
        "    return len(x.words)\n",
        "\n",
        "BATCH_SIZE = 32\n",
        "\n",
        "train_iterator, valid_iterator, test_iterator = BucketIterator.splits(\n",
        "    (train_data, valid_data, test_data),\n",
        "    batch_size = BATCH_SIZE,\n",
        "    device = device,\n",
        "    sort_key=_len_sort_key\n",
        ")"
      ],
      "execution_count": null,
      "outputs": []
    },
    {
      "cell_type": "code",
      "metadata": {
        "id": "6aTjW00nxolI",
        "colab": {
          "base_uri": "https://localhost:8080/"
        },
        "outputId": "810e27e4-1b23-4235-a8f6-edd1d39baf3a"
      },
      "source": [
        "# посморим  на количество батчей\n",
        "list(map(len, [train_iterator, valid_iterator, test_iterator]))"
      ],
      "execution_count": null,
      "outputs": [
        {
          "output_type": "execute_result",
          "data": {
            "text/plain": [
              "[27, 4, 4]"
            ]
          },
          "metadata": {},
          "execution_count": 277
        }
      ]
    },
    {
      "cell_type": "code",
      "source": [
        "for batch in train_iterator:\n",
        "  print('batch:', batch)\n",
        "  print('batch words:', batch.words)\n",
        "  print('batch tags:', batch.tags)"
      ],
      "metadata": {
        "colab": {
          "base_uri": "https://localhost:8080/"
        },
        "id": "HRNSlGpEQWHz",
        "outputId": "1284b8a6-5ba9-4448-f932-a2a106d4c25e"
      },
      "execution_count": null,
      "outputs": [
        {
          "output_type": "stream",
          "name": "stdout",
          "text": [
            "batch: \n",
            "[torchtext.data.batch.Batch of size 32]\n",
            "\t[.words]:[torch.LongTensor of size 50x32]\n",
            "\t[.tags]:[torch.LongTensor of size 50x32]\n",
            "batch words: tensor([[   0,   14,    0,  ...,   30,   30,  130],\n",
            "        [   9,  136,    5,  ...,   91, 1065,    7],\n",
            "        [   3,  199, 1119,  ...,   12,    2,   86],\n",
            "        ...,\n",
            "        [   1,    1,    1,  ...,    1,    1,    1],\n",
            "        [   1,    1,    1,  ...,    1,    1,    1],\n",
            "        [   1,    1,    1,  ...,    1,    1,    1]])\n",
            "batch tags: tensor([[1, 6, 8,  ..., 4, 4, 7],\n",
            "        [5, 2, 9,  ..., 1, 1, 5],\n",
            "        [4, 2, 2,  ..., 2, 3, 4],\n",
            "        ...,\n",
            "        [0, 0, 0,  ..., 0, 0, 0],\n",
            "        [0, 0, 0,  ..., 0, 0, 0],\n",
            "        [0, 0, 0,  ..., 0, 0, 0]])\n",
            "batch: \n",
            "[torchtext.data.batch.Batch of size 32]\n",
            "\t[.words]:[torch.LongTensor of size 81x32]\n",
            "\t[.tags]:[torch.LongTensor of size 81x32]\n",
            "batch words: tensor([[ 14, 128, 176,  ...,  78,  26,   3],\n",
            "        [118,  19,   2,  ...,   2,   3,   0],\n",
            "        [  0, 664, 246,  ...,  19, 192,   7],\n",
            "        ...,\n",
            "        [  1,   1,   1,  ...,   1,   1,   1],\n",
            "        [  1,   1,   1,  ...,   1,   1,   1],\n",
            "        [  1,   1,   1,  ...,   1,   1,   1]])\n",
            "batch tags: tensor([[6, 1, 8,  ..., 3, 5, 4],\n",
            "        [2, 2, 3,  ..., 3, 4, 1],\n",
            "        [1, 2, 8,  ..., 2, 1, 5],\n",
            "        ...,\n",
            "        [0, 0, 0,  ..., 0, 0, 0],\n",
            "        [0, 0, 0,  ..., 0, 0, 0],\n",
            "        [0, 0, 0,  ..., 0, 0, 0]])\n",
            "batch: \n",
            "[torchtext.data.batch.Batch of size 32]\n",
            "\t[.words]:[torch.LongTensor of size 40x32]\n",
            "\t[.tags]:[torch.LongTensor of size 40x32]\n",
            "batch words: tensor([[ 10, 710,  10,  ...,   3,  15,  94],\n",
            "        [180,   2,  98,  ..., 239,  12,  84],\n",
            "        [  2,  39, 212,  ..., 389,   0, 256],\n",
            "        ...,\n",
            "        [  1,   1,   1,  ...,   1,   1,   1],\n",
            "        [  1,   1,   1,  ...,   1,   1,   1],\n",
            "        [  1,   1,   1,  ...,   1,   1,   1]])\n",
            "batch tags: tensor([[ 3,  8,  3,  ...,  4,  6,  8],\n",
            "        [10,  3,  8,  ...,  1,  2,  2],\n",
            "        [ 3,  4,  2,  ...,  1,  2,  1],\n",
            "        ...,\n",
            "        [ 0,  0,  0,  ...,  0,  0,  0],\n",
            "        [ 0,  0,  0,  ...,  0,  0,  0],\n",
            "        [ 0,  0,  0,  ...,  0,  0,  0]])\n",
            "batch: \n",
            "[torchtext.data.batch.Batch of size 32]\n",
            "\t[.words]:[torch.LongTensor of size 68x32]\n",
            "\t[.tags]:[torch.LongTensor of size 68x32]\n",
            "batch words: tensor([[ 27,   5,   3,  ...,  67, 639,  10],\n",
            "        [  2,  13, 551,  ..., 246,  32,   3],\n",
            "        [ 68, 491,   2,  ...,  14,  32, 643],\n",
            "        ...,\n",
            "        [  1,   1,   1,  ...,   1,   1,   1],\n",
            "        [  1,   1,   1,  ...,   1,   1,   1],\n",
            "        [  1,   1,   1,  ...,   1,   1,   1]])\n",
            "batch tags: tensor([[9, 9, 4,  ..., 8, 1, 3],\n",
            "        [3, 4, 1,  ..., 5, 3, 4],\n",
            "        [5, 1, 3,  ..., 6, 3, 7],\n",
            "        ...,\n",
            "        [0, 0, 0,  ..., 0, 0, 0],\n",
            "        [0, 0, 0,  ..., 0, 0, 0],\n",
            "        [0, 0, 0,  ..., 0, 0, 0]])\n",
            "batch: \n",
            "[torchtext.data.batch.Batch of size 32]\n",
            "\t[.words]:[torch.LongTensor of size 63x32]\n",
            "\t[.tags]:[torch.LongTensor of size 63x32]\n",
            "batch words: tensor([[   0,   26,   16,  ...,   45,   61,   10],\n",
            "        [  36,    3,   98,  ...,   21,   12,   14],\n",
            "        [   6,  116, 1295,  ...,  233,    8,  195],\n",
            "        ...,\n",
            "        [   1,    1,    1,  ...,    1,    1,    1],\n",
            "        [   1,    1,    1,  ...,    1,    1,    1],\n",
            "        [   1,    1,    1,  ...,    1,    1,    1]])\n",
            "batch tags: tensor([[10,  5,  6,  ...,  9, 10,  3],\n",
            "        [ 2,  4,  8,  ...,  4,  2,  6],\n",
            "        [ 4,  1,  2,  ...,  1, 10,  2],\n",
            "        ...,\n",
            "        [ 0,  0,  0,  ...,  0,  0,  0],\n",
            "        [ 0,  0,  0,  ...,  0,  0,  0],\n",
            "        [ 0,  0,  0,  ...,  0,  0,  0]])\n",
            "batch: \n",
            "[torchtext.data.batch.Batch of size 32]\n",
            "\t[.words]:[torch.LongTensor of size 65x32]\n",
            "\t[.tags]:[torch.LongTensor of size 65x32]\n",
            "batch words: tensor([[107,   3,  27,  ..., 936,  75,  15],\n",
            "        [243,   0,  91,  ...,   0,   2,   0],\n",
            "        [  7,  25, 592,  ...,  37,  35,   3],\n",
            "        ...,\n",
            "        [  1,   1,   1,  ...,   1,   1,   1],\n",
            "        [  1,   1,   1,  ...,   1,   1,   1],\n",
            "        [  1,   1,   1,  ...,   1,   1,   1]])\n",
            "batch tags: tensor([[ 4,  4,  9,  ...,  1,  8,  6],\n",
            "        [ 1, 12,  1,  ...,  2,  3,  2],\n",
            "        [ 5,  2,  2,  ...,  4,  8,  4],\n",
            "        ...,\n",
            "        [ 0,  0,  0,  ...,  0,  0,  0],\n",
            "        [ 0,  0,  0,  ...,  0,  0,  0],\n",
            "        [ 0,  0,  0,  ...,  0,  0,  0]])\n",
            "batch: \n",
            "[torchtext.data.batch.Batch of size 32]\n",
            "\t[.words]:[torch.LongTensor of size 46x32]\n",
            "\t[.tags]:[torch.LongTensor of size 46x32]\n",
            "batch words: tensor([[  10,   10,    3,  ...,   47,   15,   10],\n",
            "        [  14,   66,  597,  ...,   15,   12,   61],\n",
            "        [ 333,   82,    0,  ..., 1076,  693,   11],\n",
            "        ...,\n",
            "        [   1,    1,    1,  ...,    1,    1,    1],\n",
            "        [   1,    1,    1,  ...,    1,    1,    1],\n",
            "        [   1,    1,    1,  ...,    1,    1,    1]])\n",
            "batch tags: tensor([[3, 3, 4,  ..., 5, 6, 3],\n",
            "        [6, 4, 1,  ..., 6, 2, 8],\n",
            "        [2, 2, 1,  ..., 2, 2, 3],\n",
            "        ...,\n",
            "        [0, 0, 0,  ..., 0, 0, 0],\n",
            "        [0, 0, 0,  ..., 0, 0, 0],\n",
            "        [0, 0, 0,  ..., 0, 0, 0]])\n",
            "batch: \n",
            "[torchtext.data.batch.Batch of size 32]\n",
            "\t[.words]:[torch.LongTensor of size 47x32]\n",
            "\t[.tags]:[torch.LongTensor of size 47x32]\n",
            "batch words: tensor([[  23,   10,   16,  ...,  731,   10,    5],\n",
            "        [   6,   14,   25,  ...,   50,   27,   97],\n",
            "        [   0,   49, 1031,  ...,    2,   65,  460],\n",
            "        ...,\n",
            "        [   1,    1,    1,  ...,    1,    1,    1],\n",
            "        [   1,    1,    1,  ...,    1,    1,    1],\n",
            "        [   1,    1,    1,  ...,    1,    1,    1]])\n",
            "batch tags: tensor([[ 5,  3,  6,  ...,  5,  3,  9],\n",
            "        [ 4,  6,  2,  ..., 10,  9,  1],\n",
            "        [ 1,  2,  7,  ...,  3,  6,  2],\n",
            "        ...,\n",
            "        [ 0,  0,  0,  ...,  0,  0,  0],\n",
            "        [ 0,  0,  0,  ...,  0,  0,  0],\n",
            "        [ 0,  0,  0,  ...,  0,  0,  0]])\n",
            "batch: \n",
            "[torchtext.data.batch.Batch of size 32]\n",
            "\t[.words]:[torch.LongTensor of size 62x32]\n",
            "\t[.tags]:[torch.LongTensor of size 62x32]\n",
            "batch words: tensor([[727,  70,  15,  ...,   3,  14,  14],\n",
            "        [  2, 275, 118,  ...,  92,  48, 957],\n",
            "        [263, 154,  21,  ...,   0,  75,  20],\n",
            "        ...,\n",
            "        [  1,   1,   1,  ...,   1,   1,   1],\n",
            "        [  1,   1,   1,  ...,   1,   1,   1],\n",
            "        [  1,   1,   1,  ...,   1,   1,   1]])\n",
            "batch tags: tensor([[ 8,  1,  6,  ...,  4,  6,  6],\n",
            "        [ 3,  1,  2,  ..., 11,  2,  2],\n",
            "        [ 1,  2,  4,  ...,  7,  4,  6],\n",
            "        ...,\n",
            "        [ 0,  0,  0,  ...,  0,  0,  0],\n",
            "        [ 0,  0,  0,  ...,  0,  0,  0],\n",
            "        [ 0,  0,  0,  ...,  0,  0,  0]])\n",
            "batch: \n",
            "[torchtext.data.batch.Batch of size 10]\n",
            "\t[.words]:[torch.LongTensor of size 94x10]\n",
            "\t[.tags]:[torch.LongTensor of size 94x10]\n",
            "batch words: tensor([[  70,   15,   10,   10,  103,    3,   24,    3,   27,   10],\n",
            "        [ 264,    0,   60,    0,   38, 1222,  107,    0,   15,   75],\n",
            "        [ 375,    5,   20,    0,    0,  315,  875, 1075,   12,    0],\n",
            "        [  13,    0,  195,   11,    0,  154,  559,    7,  111,  181],\n",
            "        [  39,    8,   13,    2,    2,    8,    6,    3, 1090,  584],\n",
            "        [  49,   21,  648,   15,    0,   52,    0,  472,   58,  303],\n",
            "        [  36,  227,  168,    0,    3,   68,    0,  790,    4,   17],\n",
            "        [ 648,    4,  686,    2,  320,   38,    5,   34,    1,   13],\n",
            "        [   4,    1,  237,   10,  290,    0,    2,    0,    1,    4],\n",
            "        [   1,    1,    8,  706,    7,    8,  226,  698,    1,    1],\n",
            "        [   1,    1,    3,   20,   92,  150,  115,   78,    1,    1],\n",
            "        [   1,    1,  219,    0,  620,   21,    3,    4,    1,    1],\n",
            "        [   1,    1,   22,    7,    2,  696, 1264,    1,    1,    1],\n",
            "        [   1,    1, 1190,   73,   16,    8,    2,    1,    1,    1],\n",
            "        [   1,    1,   24,    0,   12,    3,   38,    1,    1,    1],\n",
            "        [   1,    1,   11,    9,    0,    0,    0,    1,    1,    1],\n",
            "        [   1,    1,   18,    6,   13,    4,  501,    1,    1,    1],\n",
            "        [   1,    1,   18,    0,    3,    1,    4,    1,    1,    1],\n",
            "        [   1,    1,    1,    2,  305,    1,    1,    1,    1,    1],\n",
            "        [   1,    1,    1,    5,   10,    1,    1,    1,    1,    1],\n",
            "        [   1,    1,    1,  217, 1074,    1,    1,    1,    1,    1],\n",
            "        [   1,    1,    1,    0,   11,    1,    1,    1,    1,    1],\n",
            "        [   1,    1,    1,    8,    3,    1,    1,    1,    1,    1],\n",
            "        [   1,    1,    1,    6,  575,    1,    1,    1,    1,    1],\n",
            "        [   1,    1,    1,  860,    6,    1,    1,    1,    1,    1],\n",
            "        [   1,    1,    1,    2, 1234,    1,    1,    1,    1,    1],\n",
            "        [   1,    1,    1,   20,    0,    1,    1,    1,    1,    1],\n",
            "        [   1,    1,    1,  181,    9,    1,    1,    1,    1,    1],\n",
            "        [   1,    1,    1,    2,    0,    1,    1,    1,    1,    1],\n",
            "        [   1,    1,    1,   14,    7,    1,    1,    1,    1,    1],\n",
            "        [   1,    1,    1,    0,  886,    1,    1,    1,    1,    1],\n",
            "        [   1,    1,    1,    8,    0,    1,    1,    1,    1,    1],\n",
            "        [   1,    1,    1,  121,  876,    1,    1,    1,    1,    1],\n",
            "        [   1,    1,    1,    2,  201,    1,    1,    1,    1,    1],\n",
            "        [   1,    1,    1,   36,   14,    1,    1,    1,    1,    1],\n",
            "        [   1,    1,    1,    0,    2,    1,    1,    1,    1,    1],\n",
            "        [   1,    1,    1,    8,   56,    1,    1,    1,    1,    1],\n",
            "        [   1,    1,    1,    6,   19,    1,    1,    1,    1,    1],\n",
            "        [   1,    1,    1,   69,  111,    1,    1,    1,    1,    1],\n",
            "        [   1,    1,    1,   45,  659,    1,    1,    1,    1,    1],\n",
            "        [   1,    1,    1,  172,    0,    1,    1,    1,    1,    1],\n",
            "        [   1,    1,    1,    0,   40,    1,    1,    1,    1,    1],\n",
            "        [   1,    1,    1,   11,   76,    1,    1,    1,    1,    1],\n",
            "        [   1,    1,    1,    4,    0,    1,    1,    1,    1,    1],\n",
            "        [   1,    1,    1,    1,    0,    1,    1,    1,    1,    1],\n",
            "        [   1,    1,    1,    1,   23,    1,    1,    1,    1,    1],\n",
            "        [   1,    1,    1,    1,    0,    1,    1,    1,    1,    1],\n",
            "        [   1,    1,    1,    1,    0,    1,    1,    1,    1,    1],\n",
            "        [   1,    1,    1,    1,   24,    1,    1,    1,    1,    1],\n",
            "        [   1,    1,    1,    1,    3,    1,    1,    1,    1,    1],\n",
            "        [   1,    1,    1,    1,    0,    1,    1,    1,    1,    1],\n",
            "        [   1,    1,    1,    1,   14,    1,    1,    1,    1,    1],\n",
            "        [   1,    1,    1,    1,   19,    1,    1,    1,    1,    1],\n",
            "        [   1,    1,    1,    1,  884,    1,    1,    1,    1,    1],\n",
            "        [   1,    1,    1,    1,    5,    1,    1,    1,    1,    1],\n",
            "        [   1,    1,    1,    1,    3,    1,    1,    1,    1,    1],\n",
            "        [   1,    1,    1,    1,   90,    1,    1,    1,    1,    1],\n",
            "        [   1,    1,    1,    1,   14,    1,    1,    1,    1,    1],\n",
            "        [   1,    1,    1,    1,    0,    1,    1,    1,    1,    1],\n",
            "        [   1,    1,    1,    1,    0,    1,    1,    1,    1,    1],\n",
            "        [   1,    1,    1,    1,   23,    1,    1,    1,    1,    1],\n",
            "        [   1,    1,    1,    1,    0,    1,    1,    1,    1,    1],\n",
            "        [   1,    1,    1,    1,  969,    1,    1,    1,    1,    1],\n",
            "        [   1,    1,    1,    1,    0,    1,    1,    1,    1,    1],\n",
            "        [   1,    1,    1,    1,    2,    1,    1,    1,    1,    1],\n",
            "        [   1,    1,    1,    1,   12,    1,    1,    1,    1,    1],\n",
            "        [   1,    1,    1,    1,   10,    1,    1,    1,    1,    1],\n",
            "        [   1,    1,    1,    1, 1217,    1,    1,    1,    1,    1],\n",
            "        [   1,    1,    1,    1,   11,    1,    1,    1,    1,    1],\n",
            "        [   1,    1,    1,    1,   22,    1,    1,    1,    1,    1],\n",
            "        [   1,    1,    1,    1,    6,    1,    1,    1,    1,    1],\n",
            "        [   1,    1,    1,    1,  638,    1,    1,    1,    1,    1],\n",
            "        [   1,    1,    1,    1,  507,    1,    1,    1,    1,    1],\n",
            "        [   1,    1,    1,    1,    7,    1,    1,    1,    1,    1],\n",
            "        [   1,    1,    1,    1,   76,    1,    1,    1,    1,    1],\n",
            "        [   1,    1,    1,    1,    0,    1,    1,    1,    1,    1],\n",
            "        [   1,    1,    1,    1,    0,    1,    1,    1,    1,    1],\n",
            "        [   1,    1,    1,    1,   23,    1,    1,    1,    1,    1],\n",
            "        [   1,    1,    1,    1,    8,    1,    1,    1,    1,    1],\n",
            "        [   1,    1,    1,    1,   10,    1,    1,    1,    1,    1],\n",
            "        [   1,    1,    1,    1, 1289,    1,    1,    1,    1,    1],\n",
            "        [   1,    1,    1,    1,   58,    1,    1,    1,    1,    1],\n",
            "        [   1,    1,    1,    1,   11,    1,    1,    1,    1,    1],\n",
            "        [   1,    1,    1,    1,   50,    1,    1,    1,    1,    1],\n",
            "        [   1,    1,    1,    1,   27,    1,    1,    1,    1,    1],\n",
            "        [   1,    1,    1,    1,    6,    1,    1,    1,    1,    1],\n",
            "        [   1,    1,    1,    1,    0,    1,    1,    1,    1,    1],\n",
            "        [   1,    1,    1,    1,    7,    1,    1,    1,    1,    1],\n",
            "        [   1,    1,    1,    1,   30,    1,    1,    1,    1,    1],\n",
            "        [   1,    1,    1,    1,    0,    1,    1,    1,    1,    1],\n",
            "        [   1,    1,    1,    1,    2,    1,    1,    1,    1,    1],\n",
            "        [   1,    1,    1,    1,    0,    1,    1,    1,    1,    1],\n",
            "        [   1,    1,    1,    1,    0,    1,    1,    1,    1,    1],\n",
            "        [   1,    1,    1,    1,    4,    1,    1,    1,    1,    1]])\n",
            "batch tags: tensor([[ 1,  6,  3,  3,  5,  4,  5,  4,  9,  3],\n",
            "        [ 1,  2,  2,  8,  4,  1,  4,  7,  6,  4],\n",
            "        [ 2,  9,  6,  7,  7,  1,  7,  1,  2,  1],\n",
            "        [ 5,  2,  2,  3,  1,  2,  1,  5,  8,  2],\n",
            "        [ 4,  5,  4,  3,  3,  5,  4,  4,  2,  2],\n",
            "        [ 2,  4,  7,  6,  2,  6,  1,  1, 10,  7],\n",
            "        [ 2,  1,  1,  2,  4,  5,  2,  1,  3,  5],\n",
            "        [ 7,  3,  2,  3,  7,  4,  9,  2,  0,  4],\n",
            "        [ 3,  0,  5,  3,  1,  1,  3,  8,  0,  3],\n",
            "        [ 0,  0,  5,  5,  5, 10,  8,  7,  0,  0],\n",
            "        [ 0,  0,  4,  6, 11,  2,  5,  3,  0,  0],\n",
            "        [ 0,  0,  1,  2,  1,  4,  4,  3,  0,  0],\n",
            "        [ 0,  0,  5,  5,  3,  1,  1,  0,  0,  0],\n",
            "        [ 0,  0,  1,  4,  6,  5,  3,  0,  0,  0],\n",
            "        [ 0,  0, 10,  1,  2,  4,  4,  0,  0,  0],\n",
            "        [ 0,  0,  3,  5,  2,  1,  1,  0,  0,  0],\n",
            "        [ 0,  0,  3,  4,  5,  3,  2,  0,  0,  0],\n",
            "        [ 0,  0,  3,  1,  4,  0,  3,  0,  0,  0],\n",
            "        [ 0,  0,  0,  3,  1,  0,  0,  0,  0,  0],\n",
            "        [ 0,  0,  0,  9,  3,  0,  0,  0,  0,  0],\n",
            "        [ 0,  0,  0,  2,  2,  0,  0,  0,  0,  0],\n",
            "        [ 0,  0,  0,  2,  3,  0,  0,  0,  0,  0],\n",
            "        [ 0,  0,  0,  5,  4,  0,  0,  0,  0,  0],\n",
            "        [ 0,  0,  0,  4,  1,  0,  0,  0,  0,  0],\n",
            "        [ 0,  0,  0,  1,  4,  0,  0,  0,  0,  0],\n",
            "        [ 0,  0,  0,  3,  1,  0,  0,  0,  0,  0],\n",
            "        [ 0,  0,  0,  6,  1,  0,  0,  0,  0,  0],\n",
            "        [ 0,  0,  0,  2,  5,  0,  0,  0,  0,  0],\n",
            "        [ 0,  0,  0,  3,  1,  0,  0,  0,  0,  0],\n",
            "        [ 0,  0,  0,  6,  5,  0,  0,  0,  0,  0],\n",
            "        [ 0,  0,  0,  2, 11,  0,  0,  0,  0,  0],\n",
            "        [ 0,  0,  0, 10, 11,  0,  0,  0,  0,  0],\n",
            "        [ 0,  0,  0,  2,  1,  0,  0,  0,  0,  0],\n",
            "        [ 0,  0,  0,  3,  5,  0,  0,  0,  0,  0],\n",
            "        [ 0,  0,  0,  2,  6,  0,  0,  0,  0,  0],\n",
            "        [ 0,  0,  0,  2,  3,  0,  0,  0,  0,  0],\n",
            "        [ 0,  0,  0,  5,  6,  0,  0,  0,  0,  0],\n",
            "        [ 0,  0,  0,  4,  2,  0,  0,  0,  0,  0],\n",
            "        [ 0,  0,  0,  8,  8,  0,  0,  0,  0,  0],\n",
            "        [ 0,  0,  0,  9,  2,  0,  0,  0,  0,  0],\n",
            "        [ 0,  0,  0,  8,  8,  0,  0,  0,  0,  0],\n",
            "        [ 0,  0,  0,  1,  5,  0,  0,  0,  0,  0],\n",
            "        [ 0,  0,  0,  3,  7,  0,  0,  0,  0,  0],\n",
            "        [ 0,  0,  0,  3,  7,  0,  0,  0,  0,  0],\n",
            "        [ 0,  0,  0,  0,  1,  0,  0,  0,  0,  0],\n",
            "        [ 0,  0,  0,  0,  5,  0,  0,  0,  0,  0],\n",
            "        [ 0,  0,  0,  0,  2,  0,  0,  0,  0,  0],\n",
            "        [ 0,  0,  0,  0,  1,  0,  0,  0,  0,  0],\n",
            "        [ 0,  0,  0,  0,  5,  0,  0,  0,  0,  0],\n",
            "        [ 0,  0,  0,  0,  4,  0,  0,  0,  0,  0],\n",
            "        [ 0,  0,  0,  0,  1,  0,  0,  0,  0,  0],\n",
            "        [ 0,  0,  0,  0,  6,  0,  0,  0,  0,  0],\n",
            "        [ 0,  0,  0,  0,  2,  0,  0,  0,  0,  0],\n",
            "        [ 0,  0,  0,  0,  2,  0,  0,  0,  0,  0],\n",
            "        [ 0,  0,  0,  0,  9,  0,  0,  0,  0,  0],\n",
            "        [ 0,  0,  0,  0,  4,  0,  0,  0,  0,  0],\n",
            "        [ 0,  0,  0,  0,  7,  0,  0,  0,  0,  0],\n",
            "        [ 0,  0,  0,  0,  6,  0,  0,  0,  0,  0],\n",
            "        [ 0,  0,  0,  0,  8,  0,  0,  0,  0,  0],\n",
            "        [ 0,  0,  0,  0,  2,  0,  0,  0,  0,  0],\n",
            "        [ 0,  0,  0,  0,  5,  0,  0,  0,  0,  0],\n",
            "        [ 0,  0,  0,  0,  1,  0,  0,  0,  0,  0],\n",
            "        [ 0,  0,  0,  0,  7,  0,  0,  0,  0,  0],\n",
            "        [ 0,  0,  0,  0,  1,  0,  0,  0,  0,  0],\n",
            "        [ 0,  0,  0,  0,  3,  0,  0,  0,  0,  0],\n",
            "        [ 0,  0,  0,  0,  2,  0,  0,  0,  0,  0],\n",
            "        [ 0,  0,  0,  0,  3,  0,  0,  0,  0,  0],\n",
            "        [ 0,  0,  0,  0,  2,  0,  0,  0,  0,  0],\n",
            "        [ 0,  0,  0,  0,  3,  0,  0,  0,  0,  0],\n",
            "        [ 0,  0,  0,  0,  5,  0,  0,  0,  0,  0],\n",
            "        [ 0,  0,  0,  0,  4,  0,  0,  0,  0,  0],\n",
            "        [ 0,  0,  0,  0,  7,  0,  0,  0,  0,  0],\n",
            "        [ 0,  0,  0,  0,  1,  0,  0,  0,  0,  0],\n",
            "        [ 0,  0,  0,  0,  5,  0,  0,  0,  0,  0],\n",
            "        [ 0,  0,  0,  0,  7,  0,  0,  0,  0,  0],\n",
            "        [ 0,  0,  0,  0,  7,  0,  0,  0,  0,  0],\n",
            "        [ 0,  0,  0,  0,  1,  0,  0,  0,  0,  0],\n",
            "        [ 0,  0,  0,  0,  5,  0,  0,  0,  0,  0],\n",
            "        [ 0,  0,  0,  0, 10,  0,  0,  0,  0,  0],\n",
            "        [ 0,  0,  0,  0,  3,  0,  0,  0,  0,  0],\n",
            "        [ 0,  0,  0,  0,  2,  0,  0,  0,  0,  0],\n",
            "        [ 0,  0,  0,  0, 10,  0,  0,  0,  0,  0],\n",
            "        [ 0,  0,  0,  0,  3,  0,  0,  0,  0,  0],\n",
            "        [ 0,  0,  0,  0, 10,  0,  0,  0,  0,  0],\n",
            "        [ 0,  0,  0,  0,  5,  0,  0,  0,  0,  0],\n",
            "        [ 0,  0,  0,  0,  4,  0,  0,  0,  0,  0],\n",
            "        [ 0,  0,  0,  0,  1,  0,  0,  0,  0,  0],\n",
            "        [ 0,  0,  0,  0,  5,  0,  0,  0,  0,  0],\n",
            "        [ 0,  0,  0,  0,  4,  0,  0,  0,  0,  0],\n",
            "        [ 0,  0,  0,  0,  7,  0,  0,  0,  0,  0],\n",
            "        [ 0,  0,  0,  0,  3,  0,  0,  0,  0,  0],\n",
            "        [ 0,  0,  0,  0,  7,  0,  0,  0,  0,  0],\n",
            "        [ 0,  0,  0,  0,  1,  0,  0,  0,  0,  0],\n",
            "        [ 0,  0,  0,  0,  3,  0,  0,  0,  0,  0]])\n",
            "batch: \n",
            "[torchtext.data.batch.Batch of size 32]\n",
            "\t[.words]:[torch.LongTensor of size 49x32]\n",
            "\t[.tags]:[torch.LongTensor of size 49x32]\n",
            "batch words: tensor([[ 213,   15,   79,  ...,   77,  100,    0],\n",
            "        [1114,   19,   15,  ...,   38,  105,    0],\n",
            "        [  82,  118,  705,  ...,  374,  164,   86],\n",
            "        ...,\n",
            "        [   1,    1,    1,  ...,    1,    1,    1],\n",
            "        [   1,    1,    1,  ...,    1,    1,    1],\n",
            "        [   1,    1,    1,  ...,    1,    1,    1]])\n",
            "batch tags: tensor([[1, 6, 2,  ..., 3, 8, 6],\n",
            "        [1, 2, 6,  ..., 4, 7, 2],\n",
            "        [2, 2, 2,  ..., 1, 8, 4],\n",
            "        ...,\n",
            "        [0, 0, 0,  ..., 0, 0, 0],\n",
            "        [0, 0, 0,  ..., 0, 0, 0],\n",
            "        [0, 0, 0,  ..., 0, 0, 0]])\n",
            "batch: \n",
            "[torchtext.data.batch.Batch of size 32]\n",
            "\t[.words]:[torch.LongTensor of size 50x32]\n",
            "\t[.tags]:[torch.LongTensor of size 50x32]\n",
            "batch words: tensor([[  10,  191,   85,  ...,   15,   10,   35],\n",
            "        [  60, 1201,    2,  ...,  144,  362,  263],\n",
            "        [  20,  155,   20,  ...,    4,   44,    4],\n",
            "        ...,\n",
            "        [   1,    1,    1,  ...,    1,    1,    1],\n",
            "        [   1,    1,    1,  ...,    1,    1,    1],\n",
            "        [   1,    1,    1,  ...,    1,    1,    1]])\n",
            "batch tags: tensor([[ 3, 10,  8,  ...,  6,  3,  8],\n",
            "        [ 2,  8,  3,  ...,  2, 10,  1],\n",
            "        [ 6,  5,  6,  ...,  3, 11,  3],\n",
            "        ...,\n",
            "        [ 0,  0,  0,  ...,  0,  0,  0],\n",
            "        [ 0,  0,  0,  ...,  0,  0,  0],\n",
            "        [ 0,  0,  0,  ...,  0,  0,  0]])\n",
            "batch: \n",
            "[torchtext.data.batch.Batch of size 32]\n",
            "\t[.words]:[torch.LongTensor of size 63x32]\n",
            "\t[.tags]:[torch.LongTensor of size 63x32]\n",
            "batch words: tensor([[ 15, 243,  10,  ...,  15,   0,  94],\n",
            "        [  0,   7,   0,  ..., 215, 769,  79],\n",
            "        [  4,   0,   2,  ..., 582,  13,  44],\n",
            "        ...,\n",
            "        [  1,   1,   1,  ...,   1,   1,   1],\n",
            "        [  1,   1,   1,  ...,   1,   1,   1],\n",
            "        [  1,   1,   1,  ...,   1,   1,   1]])\n",
            "batch tags: tensor([[6, 1, 3,  ..., 6, 2, 8],\n",
            "        [2, 5, 1,  ..., 2, 7, 2],\n",
            "        [3, 7, 3,  ..., 1, 5, 1],\n",
            "        ...,\n",
            "        [0, 0, 0,  ..., 0, 0, 0],\n",
            "        [0, 0, 0,  ..., 0, 0, 0],\n",
            "        [0, 0, 0,  ..., 0, 0, 0]])\n",
            "batch: \n",
            "[torchtext.data.batch.Batch of size 32]\n",
            "\t[.words]:[torch.LongTensor of size 56x32]\n",
            "\t[.tags]:[torch.LongTensor of size 56x32]\n",
            "batch words: tensor([[180, 110, 226,  ...,  10, 103,  10],\n",
            "        [  2,   2,  40,  ...,  14,   6, 288],\n",
            "        [231,  30,  16,  ..., 635, 201,   2],\n",
            "        ...,\n",
            "        [  1,   1,   1,  ...,   0,   1,   1],\n",
            "        [  1,   1,   1,  ...,  11,   1,   1],\n",
            "        [  1,   1,   1,  ...,   4,   1,   1]])\n",
            "batch tags: tensor([[10,  8,  8,  ...,  3,  5,  3],\n",
            "        [ 3,  3,  5,  ...,  6,  4, 10],\n",
            "        [ 8,  4,  6,  ...,  2,  1,  3],\n",
            "        ...,\n",
            "        [ 0,  0,  0,  ...,  1,  0,  0],\n",
            "        [ 0,  0,  0,  ...,  3,  0,  0],\n",
            "        [ 0,  0,  0,  ...,  3,  0,  0]])\n",
            "batch: \n",
            "[torchtext.data.batch.Batch of size 32]\n",
            "\t[.words]:[torch.LongTensor of size 43x32]\n",
            "\t[.tags]:[torch.LongTensor of size 43x32]\n",
            "batch words: tensor([[ 744,   10,   12,  ...,    3,  176,   33],\n",
            "        [  16,    0,   16,  ...,    0,   15,  118],\n",
            "        [  12,    5,   38,  ...,    2,   49,  167],\n",
            "        ...,\n",
            "        [   1,    1,    1,  ...,    1,   51,    1],\n",
            "        [   1,    1,    1,  ...,    1, 1085,    1],\n",
            "        [   1,    1,    1,  ...,    1,    4,    1]])\n",
            "batch tags: tensor([[5, 3, 2,  ..., 4, 8, 6],\n",
            "        [6, 1, 6,  ..., 1, 6, 2],\n",
            "        [2, 9, 4,  ..., 3, 2, 1],\n",
            "        ...,\n",
            "        [0, 0, 0,  ..., 0, 4, 0],\n",
            "        [0, 0, 0,  ..., 0, 1, 0],\n",
            "        [0, 0, 0,  ..., 0, 3, 0]])\n",
            "batch: \n",
            "[torchtext.data.batch.Batch of size 32]\n",
            "\t[.words]:[torch.LongTensor of size 55x32]\n",
            "\t[.tags]:[torch.LongTensor of size 55x32]\n",
            "batch words: tensor([[ 970,   10,    6,  ...,   15,    5,   30],\n",
            "        [   2, 1068, 1280,  ...,  144,  728,    0],\n",
            "        [  38,  614,  194,  ...,    4,   16,   34],\n",
            "        ...,\n",
            "        [   1,    1,    1,  ...,    1,    1,    1],\n",
            "        [   1,    1,    1,  ...,    1,    1,    1],\n",
            "        [   1,    1,    1,  ...,    1,    1,    1]])\n",
            "batch tags: tensor([[1, 3, 4,  ..., 6, 9, 4],\n",
            "        [3, 1, 8,  ..., 2, 8, 1],\n",
            "        [4, 2, 1,  ..., 3, 6, 2],\n",
            "        ...,\n",
            "        [0, 0, 0,  ..., 0, 0, 0],\n",
            "        [0, 0, 0,  ..., 0, 0, 0],\n",
            "        [0, 0, 0,  ..., 0, 0, 0]])\n",
            "batch: \n",
            "[torchtext.data.batch.Batch of size 32]\n",
            "\t[.words]:[torch.LongTensor of size 51x32]\n",
            "\t[.tags]:[torch.LongTensor of size 51x32]\n",
            "batch words: tensor([[  23,    9,  935,  ...,   14,   27,    0],\n",
            "        [1300,    3,    7,  ...,   12,   39,    2],\n",
            "        [ 878,    0,    3,  ...,  670,   25,    0],\n",
            "        ...,\n",
            "        [   1,    1,    1,  ...,    1,    1,    1],\n",
            "        [   1,    1,    1,  ...,    1,    1,    1],\n",
            "        [   1,    1,    1,  ...,    1,    1,    1]])\n",
            "batch tags: tensor([[ 5,  5, 11,  ...,  6,  9,  8],\n",
            "        [10,  4,  5,  ...,  2,  4,  3],\n",
            "        [ 8,  1,  4,  ...,  2,  2,  1],\n",
            "        ...,\n",
            "        [ 0,  0,  0,  ...,  0,  0,  0],\n",
            "        [ 0,  0,  0,  ...,  0,  0,  0],\n",
            "        [ 0,  0,  0,  ...,  0,  0,  0]])\n",
            "batch: \n",
            "[torchtext.data.batch.Batch of size 32]\n",
            "\t[.words]:[torch.LongTensor of size 78x32]\n",
            "\t[.tags]:[torch.LongTensor of size 78x32]\n",
            "batch words: tensor([[  75,    9,    0,  ...,  104,   14,   16],\n",
            "        [   2,   39,    8,  ...,   12,  134,   85],\n",
            "        [  15,    0, 1206,  ...,  391,    3,  613],\n",
            "        ...,\n",
            "        [   1,    1,    1,  ...,    1,    5,    1],\n",
            "        [   1,    1,    1,  ...,    1,  208,    1],\n",
            "        [   1,    1,    1,  ...,    1,    4,    1]])\n",
            "batch tags: tensor([[8, 5, 2,  ..., 1, 6, 6],\n",
            "        [3, 4, 5,  ..., 2, 2, 8],\n",
            "        [6, 1, 1,  ..., 8, 4, 2],\n",
            "        ...,\n",
            "        [0, 0, 0,  ..., 0, 9, 0],\n",
            "        [0, 0, 0,  ..., 0, 1, 0],\n",
            "        [0, 0, 0,  ..., 0, 3, 0]])\n",
            "batch: \n",
            "[torchtext.data.batch.Batch of size 32]\n",
            "\t[.words]:[torch.LongTensor of size 51x32]\n",
            "\t[.tags]:[torch.LongTensor of size 51x32]\n",
            "batch words: tensor([[312,   3,  44,  ...,   3,  30,  10],\n",
            "        [  0,   0, 302,  ...,   0, 170, 849],\n",
            "        [143,   5,   7,  ...,  34,  12,  11],\n",
            "        ...,\n",
            "        [  1,   1,   1,  ...,   1,   1,   1],\n",
            "        [  1,   1,   1,  ...,   1,   1,   1],\n",
            "        [  1,   1,   1,  ...,   1,   1,   1]])\n",
            "batch tags: tensor([[10,  4, 11,  ...,  4,  4,  3],\n",
            "        [ 2,  1,  1,  ...,  1,  1,  7],\n",
            "        [ 8,  9,  5,  ...,  2,  2,  3],\n",
            "        ...,\n",
            "        [ 0,  0,  0,  ...,  0,  0,  0],\n",
            "        [ 0,  0,  0,  ...,  0,  0,  0],\n",
            "        [ 0,  0,  0,  ...,  0,  0,  0]])\n",
            "batch: \n",
            "[torchtext.data.batch.Batch of size 32]\n",
            "\t[.words]:[torch.LongTensor of size 70x32]\n",
            "\t[.tags]:[torch.LongTensor of size 70x32]\n",
            "batch words: tensor([[ 39,  29, 203,  ...,   0,   3,  10],\n",
            "        [  0,   0, 941,  ...,  11,   0,  16],\n",
            "        [  0,   9, 873,  ...,  32,   2,  25],\n",
            "        ...,\n",
            "        [  1,   1,   1,  ...,   1,   1,   1],\n",
            "        [  1,   1,   1,  ...,   1,   1,   1],\n",
            "        [  1,   1,   1,  ...,   1,   1,   1]])\n",
            "batch tags: tensor([[4, 6, 5,  ..., 7, 4, 3],\n",
            "        [7, 2, 7,  ..., 3, 1, 6],\n",
            "        [1, 5, 1,  ..., 3, 3, 2],\n",
            "        ...,\n",
            "        [0, 0, 0,  ..., 0, 0, 0],\n",
            "        [0, 0, 0,  ..., 0, 0, 0],\n",
            "        [0, 0, 0,  ..., 0, 0, 0]])\n",
            "batch: \n",
            "[torchtext.data.batch.Batch of size 32]\n",
            "\t[.words]:[torch.LongTensor of size 54x32]\n",
            "\t[.tags]:[torch.LongTensor of size 54x32]\n",
            "batch words: tensor([[599,  61,   9,  ...,  10,  15,  60],\n",
            "        [ 19,  25,   0,  ...,  75, 564,  20],\n",
            "        [  0,   6,   0,  ...,  11,  70, 368],\n",
            "        ...,\n",
            "        [  1,   1,   1,  ...,   1,   1,   1],\n",
            "        [  1,   1,   1,  ...,   1,   1,   1],\n",
            "        [  1,   1,   1,  ...,   1,   1,   1]])\n",
            "batch tags: tensor([[ 1, 10,  5,  ...,  3,  6,  2],\n",
            "        [ 2,  2,  7,  ...,  8,  2,  6],\n",
            "        [ 2,  4,  1,  ...,  3,  1,  2],\n",
            "        ...,\n",
            "        [ 0,  0,  0,  ...,  0,  0,  0],\n",
            "        [ 0,  0,  0,  ...,  0,  0,  0],\n",
            "        [ 0,  0,  0,  ...,  0,  0,  0]])\n",
            "batch: \n",
            "[torchtext.data.batch.Batch of size 32]\n",
            "\t[.words]:[torch.LongTensor of size 47x32]\n",
            "\t[.tags]:[torch.LongTensor of size 47x32]\n",
            "batch words: tensor([[ 39,  29, 301,  ...,  24,  43, 157],\n",
            "        [402,  19,  65,  ...,  51,   6,   0],\n",
            "        [  2, 819,  34,  ...,  87,   0,  25],\n",
            "        ...,\n",
            "        [  1,   1,   5,  ...,   1,   1,   1],\n",
            "        [  1,   1,   0,  ...,   1,   1,   1],\n",
            "        [  1,   1,   4,  ...,   1,   1,   1]])\n",
            "batch tags: tensor([[4, 6, 8,  ..., 5, 8, 5],\n",
            "        [1, 2, 6,  ..., 4, 4, 1],\n",
            "        [3, 2, 2,  ..., 1, 1, 2],\n",
            "        ...,\n",
            "        [0, 0, 9,  ..., 0, 0, 0],\n",
            "        [0, 0, 1,  ..., 0, 0, 0],\n",
            "        [0, 0, 3,  ..., 0, 0, 0]])\n",
            "batch: \n",
            "[torchtext.data.batch.Batch of size 32]\n",
            "\t[.words]:[torch.LongTensor of size 57x32]\n",
            "\t[.tags]:[torch.LongTensor of size 57x32]\n",
            "batch words: tensor([[  3, 174,   3,  ..., 565,   9, 269],\n",
            "        [315,  44, 376,  ...,  39,  16,   3],\n",
            "        [ 19, 792,  12,  ...,  87,  12, 663],\n",
            "        ...,\n",
            "        [  1,   1,   1,  ...,   1,   1,   1],\n",
            "        [  1,   1,   1,  ...,   1,   1,   1],\n",
            "        [  1,   1,   1,  ...,   1,   1,   1]])\n",
            "batch tags: tensor([[4, 8, 4,  ..., 1, 5, 5],\n",
            "        [1, 1, 1,  ..., 4, 6, 4],\n",
            "        [2, 2, 2,  ..., 1, 2, 1],\n",
            "        ...,\n",
            "        [0, 0, 0,  ..., 0, 0, 0],\n",
            "        [0, 0, 0,  ..., 0, 0, 0],\n",
            "        [0, 0, 0,  ..., 0, 0, 0]])\n",
            "batch: \n",
            "[torchtext.data.batch.Batch of size 32]\n",
            "\t[.words]:[torch.LongTensor of size 35x32]\n",
            "\t[.tags]:[torch.LongTensor of size 35x32]\n",
            "batch words: tensor([[ 56,   0,   0,  ...,  14,  10,  71],\n",
            "        [ 34,  46,   8,  ...,  31,  61, 572],\n",
            "        [ 69,   5,  93,  ...,   4,  25,   0],\n",
            "        ...,\n",
            "        [  1,   1,   1,  ...,   1,   1,   4],\n",
            "        [  1,   1,   1,  ...,   1,   1,   1],\n",
            "        [  1,   1,   1,  ...,   1,   1,   1]])\n",
            "batch tags: tensor([[ 6,  8,  2,  ...,  6,  3,  8],\n",
            "        [ 2,  3, 10,  ...,  2, 10,  1],\n",
            "        [ 8,  9,  2,  ...,  3,  2,  1],\n",
            "        ...,\n",
            "        [ 0,  0,  0,  ...,  0,  0,  3],\n",
            "        [ 0,  0,  0,  ...,  0,  0,  0],\n",
            "        [ 0,  0,  0,  ...,  0,  0,  0]])\n",
            "batch: \n",
            "[torchtext.data.batch.Batch of size 32]\n",
            "\t[.words]:[torch.LongTensor of size 53x32]\n",
            "\t[.tags]:[torch.LongTensor of size 53x32]\n",
            "batch words: tensor([[ 39,   5, 363,  ...,  13,   9,   6],\n",
            "        [958, 770, 100,  ..., 968,  86, 431],\n",
            "        [ 19, 209, 139,  ...,   6, 647,   0],\n",
            "        ...,\n",
            "        [  1,   1,   1,  ...,   1,   1,   1],\n",
            "        [  1,   1,   1,  ...,   1,   1,   1],\n",
            "        [  1,   1,   1,  ...,   1,   1,   1]])\n",
            "batch tags: tensor([[ 4,  9, 10,  ...,  6,  5,  4],\n",
            "        [ 1,  8,  8,  ...,  2,  4,  7],\n",
            "        [ 2,  7,  1,  ...,  4,  7,  1],\n",
            "        ...,\n",
            "        [ 0,  0,  0,  ...,  0,  0,  0],\n",
            "        [ 0,  0,  0,  ...,  0,  0,  0],\n",
            "        [ 0,  0,  0,  ...,  0,  0,  0]])\n",
            "batch: \n",
            "[torchtext.data.batch.Batch of size 32]\n",
            "\t[.words]:[torch.LongTensor of size 52x32]\n",
            "\t[.tags]:[torch.LongTensor of size 52x32]\n",
            "batch words: tensor([[751,  10,  10,  ...,  23,  15,  29],\n",
            "        [ 40,  39,  14,  ...,  14,   0,  84],\n",
            "        [994,  25, 255,  ...,  12,   0, 199],\n",
            "        ...,\n",
            "        [  1,   1,   1,  ...,   1,   1,   1],\n",
            "        [  1,   1,   1,  ...,   1,   1,   1],\n",
            "        [  1,   1,   1,  ...,   1,   1,   1]])\n",
            "batch tags: tensor([[8, 3, 3,  ..., 5, 6, 6],\n",
            "        [5, 4, 6,  ..., 6, 2, 2],\n",
            "        [1, 2, 2,  ..., 2, 1, 2],\n",
            "        ...,\n",
            "        [0, 0, 0,  ..., 0, 0, 0],\n",
            "        [0, 0, 0,  ..., 0, 0, 0],\n",
            "        [0, 0, 0,  ..., 0, 0, 0]])\n",
            "batch: \n",
            "[torchtext.data.batch.Batch of size 32]\n",
            "\t[.words]:[torch.LongTensor of size 49x32]\n",
            "\t[.tags]:[torch.LongTensor of size 49x32]\n",
            "batch words: tensor([[ 15,   0,  65,  ...,  27,  68,  10],\n",
            "        [241,   0,  48,  ...,   8, 254,   0],\n",
            "        [115,  21, 530,  ..., 308, 893,  93],\n",
            "        ...,\n",
            "        [  1,   1,   1,  ...,   1,   1,   1],\n",
            "        [  1,   1,   1,  ...,   1,   1,   1],\n",
            "        [  1,   1,   1,  ...,   1,   1,   1]])\n",
            "batch tags: tensor([[ 6,  1,  6,  ...,  9,  5,  3],\n",
            "        [ 2,  2,  2,  ...,  5,  8, 10],\n",
            "        [10,  4,  7,  ...,  1,  1,  2],\n",
            "        ...,\n",
            "        [ 0,  0,  0,  ...,  0,  0,  0],\n",
            "        [ 0,  0,  0,  ...,  0,  0,  0],\n",
            "        [ 0,  0,  0,  ...,  0,  0,  0]])\n"
          ]
        }
      ]
    },
    {
      "cell_type": "markdown",
      "metadata": {
        "id": "zyLQsizhcMdI"
      },
      "source": [
        "### Модель и её обучение"
      ]
    },
    {
      "cell_type": "markdown",
      "metadata": {
        "id": "-i9oHzcrcMdJ"
      },
      "source": [
        "Инициализируем нашу модель"
      ]
    },
    {
      "cell_type": "code",
      "metadata": {
        "id": "Ff7BLWs_xolS",
        "scrolled": true,
        "colab": {
          "base_uri": "https://localhost:8080/"
        },
        "outputId": "9f012cdf-aede-4b80-dc19-302a18c850d8"
      },
      "source": [
        "class LSTMTagger(nn.Module):\n",
        "\n",
        "    def __init__(self, input_dim, emb_dim, hid_dim, output_dim, dropout, bidirectional=False):\n",
        "        super().__init__()\n",
        "\n",
        "\n",
        "        self.embeddings = nn.Embedding(input_dim, emb_dim, padding_idx=1) #'''your code''' HOW ABOUT padding_idx ???\n",
        "        self.dropout = nn.Dropout(p=dropout) #'''your code'''\n",
        "\n",
        "       # self.rnn = nn.RNN(input_size=emb_dim, hidden_size=hid_dim,\n",
        "       #                   bidirectional=bidirectional) #'''your code'''\n",
        "        self.rnn = nn.LSTM(input_size=emb_dim, hidden_size=hid_dim,\n",
        "                          bidirectional=bidirectional) #'''your code'''\n",
        "        # если bidirectional, то предсказываем на основе конкатенации двух hidden\n",
        "        self.tag = nn.Linear((1 + bidirectional) * hid_dim, output_dim)\n",
        "\n",
        "    def forward(self, sent):\n",
        "\n",
        "        #sent = [sent len, batch size]\n",
        "\n",
        "        # не забываем применить dropout к embedding\n",
        "        embedded = self.dropout(self.embeddings(sent)) #'''your code'''\n",
        "\n",
        "        output, _ = self.rnn(embedded) #'''your code'''\n",
        "        #output = [sent len, batch size, hid dim * n directions]\n",
        "\n",
        "        prediction = self.tag(output) #'''your code'''\n",
        "\n",
        "        return prediction\n",
        "\n",
        "# параметры модели\n",
        "INPUT_DIM = len(WORD.vocab) #'''your code'''\n",
        "OUTPUT_DIM = len(TAG.vocab) #'''your code'''\n",
        "EMB_DIM = 300 #'''your code'''\n",
        "HID_DIM = 300 #'''your code'''\n",
        "DROPOUT = 0.1 #'''your code'''\n",
        "BIDIRECTIONAL = True #'''your code'''\n",
        "\n",
        "model = LSTMTagger(INPUT_DIM, EMB_DIM, HID_DIM,\n",
        "                   OUTPUT_DIM ,DROPOUT, BIDIRECTIONAL).to(device)\n",
        "\n",
        "# инициализируем веса\n",
        "def init_weights(m):\n",
        "    for name, param in m.named_parameters():\n",
        "        nn.init.uniform_(param, -0.08, 0.08)\n",
        "\n",
        "model.apply(init_weights)"
      ],
      "execution_count": null,
      "outputs": [
        {
          "output_type": "execute_result",
          "data": {
            "text/plain": [
              "LSTMTagger(\n",
              "  (embeddings): Embedding(1303, 300, padding_idx=1)\n",
              "  (dropout): Dropout(p=0.1, inplace=False)\n",
              "  (rnn): LSTM(300, 300, bidirectional=True)\n",
              "  (tag): Linear(in_features=600, out_features=13, bias=True)\n",
              ")"
            ]
          },
          "metadata": {},
          "execution_count": 296
        }
      ]
    },
    {
      "cell_type": "markdown",
      "metadata": {
        "id": "EJLqq8IHcMdQ"
      },
      "source": [
        "Подсчитаем количество обучаемых параметров нашей модели"
      ]
    },
    {
      "cell_type": "code",
      "metadata": {
        "id": "_Auu53Kdxolm",
        "colab": {
          "base_uri": "https://localhost:8080/"
        },
        "outputId": "4d13fd33-e639-42c3-a59f-5819f12ec05b"
      },
      "source": [
        "def count_parameters(model):\n",
        "    return sum(p.numel() for p in model.parameters() if p.requires_grad) #'''your code'''\n",
        "\n",
        "print(f'The model has {count_parameters(model):,} trainable parameters')"
      ],
      "execution_count": null,
      "outputs": [
        {
          "output_type": "stream",
          "name": "stdout",
          "text": [
            "The model has 1,843,513 trainable parameters\n"
          ]
        }
      ]
    },
    {
      "cell_type": "markdown",
      "metadata": {
        "id": "oSBfvf9HcMd9"
      },
      "source": [
        "Погнали обучать"
      ]
    },
    {
      "cell_type": "code",
      "source": [
        "TAG.vocab.stoi['<pad>']"
      ],
      "metadata": {
        "colab": {
          "base_uri": "https://localhost:8080/"
        },
        "id": "kiQATLiEVYvf",
        "outputId": "1199c708-a546-4915-8439-198ac7dd0dee"
      },
      "execution_count": null,
      "outputs": [
        {
          "output_type": "execute_result",
          "data": {
            "text/plain": [
              "0"
            ]
          },
          "metadata": {},
          "execution_count": 281
        }
      ]
    },
    {
      "cell_type": "code",
      "source": [
        "WORD.vocab.stoi['<pad>']"
      ],
      "metadata": {
        "colab": {
          "base_uri": "https://localhost:8080/"
        },
        "id": "GVjvaipmqczz",
        "outputId": "8695ba8f-3ec7-463c-85e1-c99000363570"
      },
      "execution_count": null,
      "outputs": [
        {
          "output_type": "execute_result",
          "data": {
            "text/plain": [
              "1"
            ]
          },
          "metadata": {},
          "execution_count": 282
        }
      ]
    },
    {
      "cell_type": "code",
      "metadata": {
        "id": "AjD1Y7Rmxolu",
        "scrolled": true
      },
      "source": [
        "PAD_IDX = TAG.vocab.stoi['<pad>']\n",
        "optimizer = optim.Adam(model.parameters())\n",
        "criterion = nn.CrossEntropyLoss(ignore_index=PAD_IDX)\n",
        "\n",
        "def train(model, iterator, optimizer, criterion, clip, train_history=None, valid_history=None):\n",
        "    model.train()\n",
        "\n",
        "    epoch_loss = 0\n",
        "    history = []\n",
        "    for i, batch in enumerate(iterator):\n",
        "\n",
        "        '''your code'''\n",
        "        optimizer.zero_grad()\n",
        "\n",
        "        input = batch.words.to(device)\n",
        "        tags = batch.tags.to(device)\n",
        "        output = model(input)\n",
        "\n",
        "        #tags = [sent len, batch size]\n",
        "        #output = [sent len, batch size, output dim]\n",
        "\n",
        "        output = output.view(-1, OUTPUT_DIM) #'''your code'''\n",
        "        tags = tags.view(-1)\n",
        "\n",
        "        #tags = [sent len * batch size]\n",
        "        #output = [sent len * batch size, output dim]\n",
        "\n",
        "        loss = criterion(output, tags)\n",
        "\n",
        "        loss.backward()\n",
        "\n",
        "        # Gradient clipping(решение проблемы взрыва граденты), clip - максимальная норма вектора\n",
        "        torch.nn.utils.clip_grad_norm_(model.parameters(), max_norm=clip)\n",
        "\n",
        "        optimizer.step()\n",
        "\n",
        "        epoch_loss += loss.item()\n",
        "\n",
        "        history.append(loss.cpu().data.numpy())\n",
        "        if (i+1)%10==0:\n",
        "            fig, ax = plt.subplots(nrows=1, ncols=2, figsize=(12, 8))\n",
        "\n",
        "            clear_output(True)\n",
        "            ax[0].plot(history, label='train loss')\n",
        "            ax[0].set_xlabel('Batch')\n",
        "            ax[0].set_title('Train loss')\n",
        "\n",
        "            if train_history is not None:\n",
        "                ax[1].plot(train_history, label='general train history')\n",
        "                ax[1].set_xlabel('Epoch')\n",
        "            if valid_history is not None:\n",
        "                ax[1].plot(valid_history, label='general valid history')\n",
        "            plt.legend()\n",
        "\n",
        "            plt.show()\n",
        "\n",
        "\n",
        "    return epoch_loss / len(iterator)\n",
        "\n",
        "def evaluate(model, iterator, criterion):\n",
        "    model.eval()\n",
        "\n",
        "    epoch_loss = 0\n",
        "\n",
        "    history = []\n",
        "\n",
        "    with torch.no_grad():\n",
        "\n",
        "        for i, batch in enumerate(iterator):\n",
        "\n",
        "            input = batch.words.to(device)\n",
        "            tags = batch.tags.to(device)\n",
        "\n",
        "            output = model(input)\n",
        "\n",
        "            #tags = [sent len, batch size]\n",
        "            #output = [sent len, batch size, output dim]\n",
        "\n",
        "            output = output.view(-1, OUTPUT_DIM)\n",
        "            tags = tags.view(-1)\n",
        "\n",
        "            #tags = [sent len * batch size]\n",
        "            #output = [sent len * batch size, output dim]\n",
        "\n",
        "            loss = criterion(output, tags)\n",
        "\n",
        "            epoch_loss += loss.item()\n",
        "\n",
        "    return epoch_loss / len(iterator)\n",
        "\n",
        "def epoch_time(start_time, end_time):\n",
        "    elapsed_time = end_time - start_time\n",
        "    elapsed_mins = int(elapsed_time / 60)\n",
        "    elapsed_secs = int(elapsed_time - (elapsed_mins * 60))\n",
        "    return elapsed_mins, elapsed_secs"
      ],
      "execution_count": null,
      "outputs": []
    },
    {
      "cell_type": "code",
      "metadata": {
        "id": "TJdXIyTHxol2",
        "scrolled": false,
        "colab": {
          "base_uri": "https://localhost:8080/",
          "height": 784
        },
        "outputId": "74d919fa-2e4e-46f4-b057-ae2ac9656ba7"
      },
      "source": [
        "import time\n",
        "import math\n",
        "import matplotlib\n",
        "matplotlib.rcParams.update({'figure.figsize': (16, 12), 'font.size': 14})\n",
        "import matplotlib.pyplot as plt\n",
        "%matplotlib inline\n",
        "from IPython.display import clear_output\n",
        "\n",
        "train_history = []\n",
        "valid_history = []\n",
        "\n",
        "N_EPOCHS = 10 #'''your code'''\n",
        "CLIP = 10 #'''your code'''\n",
        "\n",
        "best_valid_loss = float('inf')\n",
        "\n",
        "for epoch in range(N_EPOCHS):\n",
        "\n",
        "    start_time = time.time()\n",
        "\n",
        "    train_loss = train(model, train_iterator, optimizer, criterion,\n",
        "                       CLIP, train_history, valid_history)\n",
        "    valid_loss = evaluate(model, valid_iterator, criterion)\n",
        "\n",
        "    end_time = time.time()\n",
        "\n",
        "    epoch_mins, epoch_secs = epoch_time(start_time, end_time)\n",
        "\n",
        "    if valid_loss < best_valid_loss:\n",
        "        best_valid_loss = valid_loss\n",
        "        torch.save(model.state_dict(), 'best-val-model.pt')\n",
        "\n",
        "    train_history.append(train_loss)\n",
        "    valid_history.append(valid_loss)\n",
        "    print(f'Epoch: {epoch+1:02} | Time: {epoch_mins}m {epoch_secs}s')\n",
        "    print(f'\\tTrain Loss: {train_loss:.3f} | Train PPL: {math.exp(train_loss):7.3f}')\n",
        "    print(f'\\t Val. Loss: {valid_loss:.3f} |  Val. PPL: {math.exp(valid_loss):7.3f}')"
      ],
      "execution_count": null,
      "outputs": [
        {
          "output_type": "display_data",
          "data": {
            "text/plain": [
              "<Figure size 1200x800 with 2 Axes>"
            ],
            "image/png": "[encoded data removed]"
          },
          "metadata": {}
        },
        {
          "output_type": "stream",
          "name": "stdout",
          "text": [
            "Epoch: 10 | Time: 0m 12s\n",
            "\tTrain Loss: 0.099 | Train PPL:   1.104\n",
            "\t Val. Loss: 0.295 |  Val. PPL:   1.343\n"
          ]
        }
      ]
    },
    {
      "cell_type": "markdown",
      "metadata": {
        "id": "Fr860UPacMeI"
      },
      "source": [
        "### Применение модели"
      ]
    },
    {
      "cell_type": "code",
      "metadata": {
        "id": "5sDAfAq9xol9"
      },
      "source": [
        "def accuracy_model(model, iterator):\n",
        "    model.eval()\n",
        "\n",
        "    true_pred = 0\n",
        "    num_pred = 0\n",
        "\n",
        "    with torch.no_grad():\n",
        "        for i, batch in enumerate(iterator):\n",
        "\n",
        "            input = batch.words.to(device)\n",
        "            tags = batch.tags.to(device)\n",
        "            output = model(input)\n",
        "\n",
        "            #output = [sent len, batch size, output dim]\n",
        "            #output = output.view(-1, OUTPUT_DIM)\n",
        "            output = torch.argmax(output, dim=2)\n",
        "          #  print('output shape:', output.shape)\n",
        "          #  print('tags shape:', tags.shape)\n",
        "            #output = [sent len, batch size]\n",
        "\n",
        "            predict_tags = output.cpu().numpy()\n",
        "            true_tags = tags.cpu().numpy()\n",
        "           # print('predict_tags:', predict_tags)\n",
        "           # print('true_tags:', true_tags)\n",
        "\n",
        "            true_pred += np.sum((true_tags == predict_tags) & (true_tags != PAD_IDX))\n",
        "            num_pred += np.prod(true_tags.shape) - (true_tags == PAD_IDX).sum()\n",
        "\n",
        "    return round(true_pred / num_pred * 100, 3)"
      ],
      "execution_count": null,
      "outputs": []
    },
    {
      "cell_type": "code",
      "metadata": {
        "id": "V2n0H85mxomE",
        "scrolled": true,
        "colab": {
          "base_uri": "https://localhost:8080/"
        },
        "outputId": "1ababc33-85a2-4ca3-89aa-39ceaa59870b"
      },
      "source": [
        "print(\"Accuracy:\", accuracy_model(model, test_iterator), '%')"
      ],
      "execution_count": null,
      "outputs": [
        {
          "output_type": "stream",
          "name": "stdout",
          "text": [
            "Accuracy: 89.564 %\n"
          ]
        }
      ]
    },
    {
      "cell_type": "markdown",
      "metadata": {
        "id": "FacTKSPJcMeP"
      },
      "source": [
        "Вы можете улучшить качество, изменяя параметры модели. Но чтобы добиться нужного качества, вам неообходимо взять все выборку, а не только категорию `humor`."
      ]
    },
    {
      "cell_type": "code",
      "metadata": {
        "id": "QXqXg0gbcMeR"
      },
      "source": [
        "brown_tagged_sents = brown.tagged_sents(tagset=\"universal\")"
      ],
      "execution_count": null,
      "outputs": []
    },
    {
      "cell_type": "code",
      "source": [
        "len(brown_tagged_sents)"
      ],
      "metadata": {
        "colab": {
          "base_uri": "https://localhost:8080/"
        },
        "id": "cT5cEFJQ-E4T",
        "outputId": "82c05e3d-e764-40bb-e1b4-d59217ff0c1d"
      },
      "execution_count": null,
      "outputs": [
        {
          "output_type": "execute_result",
          "data": {
            "text/plain": [
              "57340"
            ]
          },
          "metadata": {},
          "execution_count": 317
        }
      ]
    },
    {
      "cell_type": "code",
      "source": [
        "pos_data = [list(zip(*sent)) for sent in brown_tagged_sents] # мб my_brown_tagged_sents использовать вместо brown_tagged_sents?\n",
        "print(pos_data[0])"
      ],
      "metadata": {
        "colab": {
          "base_uri": "https://localhost:8080/"
        },
        "id": "uQD1kKsb-b-V",
        "outputId": "1e9d765c-078c-4bfb-ca7f-ae35b98f37dc"
      },
      "execution_count": null,
      "outputs": [
        {
          "output_type": "stream",
          "name": "stdout",
          "text": [
            "[('The', 'Fulton', 'County', 'Grand', 'Jury', 'said', 'Friday', 'an', 'investigation', 'of', \"Atlanta's\", 'recent', 'primary', 'election', 'produced', '``', 'no', 'evidence', \"''\", 'that', 'any', 'irregularities', 'took', 'place', '.'), ('DET', 'NOUN', 'NOUN', 'ADJ', 'NOUN', 'VERB', 'NOUN', 'DET', 'NOUN', 'ADP', 'NOUN', 'ADJ', 'NOUN', 'NOUN', 'VERB', '.', 'DET', 'NOUN', '.', 'ADP', 'DET', 'NOUN', 'VERB', 'NOUN', '.')]\n"
          ]
        }
      ]
    },
    {
      "cell_type": "code",
      "source": [
        "WORD = Field(lower=True)\n",
        "TAG = Field(unk_token=None) # все токены нам извсетны\n",
        "\n",
        "# создаем примеры\n",
        "examples = []\n",
        "for words, tags in pos_data:\n",
        "    examples.append(torchtext.data.Example.fromlist([list(words), list(tags)], fields=[('words', WORD), ('tags', TAG)]))"
      ],
      "metadata": {
        "id": "srISyOMU-o_Z"
      },
      "execution_count": null,
      "outputs": []
    },
    {
      "cell_type": "code",
      "source": [
        "print(vars(examples[0]))"
      ],
      "metadata": {
        "colab": {
          "base_uri": "https://localhost:8080/"
        },
        "id": "cp_JKZ9gawHL",
        "outputId": "024682c6-51f6-4b74-f554-d335297b9db6"
      },
      "execution_count": null,
      "outputs": [
        {
          "output_type": "stream",
          "name": "stdout",
          "text": [
            "{'words': ['the', 'fulton', 'county', 'grand', 'jury', 'said', 'friday', 'an', 'investigation', 'of', \"atlanta's\", 'recent', 'primary', 'election', 'produced', '``', 'no', 'evidence', \"''\", 'that', 'any', 'irregularities', 'took', 'place', '.'], 'tags': ['DET', 'NOUN', 'NOUN', 'ADJ', 'NOUN', 'VERB', 'NOUN', 'DET', 'NOUN', 'ADP', 'NOUN', 'ADJ', 'NOUN', 'NOUN', 'VERB', '.', 'DET', 'NOUN', '.', 'ADP', 'DET', 'NOUN', 'VERB', 'NOUN', '.']}\n"
          ]
        }
      ]
    },
    {
      "cell_type": "code",
      "source": [
        "# кладем примеры в наш датасет\n",
        "dataset = torchtext.data.Dataset(examples, fields=[('words', WORD), ('tags', TAG)])\n",
        "\n",
        "train_data, valid_data, test_data = dataset.split(split_ratio=[0.8, 0.1, 0.1])\n",
        "\n",
        "print(f\"Number of training examples: {len(train_data.examples)}\")\n",
        "print(f\"Number of validation examples: {len(valid_data.examples)}\")\n",
        "print(f\"Number of testing examples: {len(test_data.examples)}\")"
      ],
      "metadata": {
        "colab": {
          "base_uri": "https://localhost:8080/"
        },
        "id": "WuUqTsMr-rHG",
        "outputId": "1df3dcd4-70c1-4e0f-d1f9-d622e187bcbf"
      },
      "execution_count": null,
      "outputs": [
        {
          "output_type": "stream",
          "name": "stdout",
          "text": [
            "Number of training examples: 45872\n",
            "Number of validation examples: 5734\n",
            "Number of testing examples: 5734\n"
          ]
        }
      ]
    },
    {
      "cell_type": "code",
      "source": [
        "WORD.build_vocab(train_data, min_freq=3)\n",
        "TAG.build_vocab(train_data)\n",
        "\n",
        "print(f\"Unique tokens in source (en) vocabulary: {len(WORD.vocab)}\")\n",
        "print(f\"Unique tokens in target (en) vocabulary: {len(TAG.vocab)}\")\n",
        "\n",
        "print(WORD.vocab.itos[::200])\n",
        "print(TAG.vocab.itos)"
      ],
      "metadata": {
        "colab": {
          "base_uri": "https://localhost:8080/"
        },
        "id": "5Qc7oR33-x7r",
        "outputId": "94c61a2a-a1c6-4d5f-8086-7b1f2d95c432"
      },
      "execution_count": null,
      "outputs": [
        {
          "output_type": "stream",
          "name": "stdout",
          "text": [
            "Unique tokens in source (en) vocabulary: 18125\n",
            "Unique tokens in target (en) vocabulary: 13\n",
            "['<unk>', 'always', 'study', 'instead', 'somewhat', 'gives', 'enemy', 'membership', 'tomorrow', 'yards', 'risk', 'contrary', 'burden', 'simultaneously', 'iron', 'tested', 'challenge', 'bird', 'questionnaire', 'cure', 'prayer', 'terror', 'appreciation', 'anglo-saxon', 'trucks', 'shadows', 'legislators', 'closet', 'shu', 'habitat', 'writings', 'idle', 'yankee', 'illustrations', 'uniforms', 'employ', 'purdew', 'barbara', 'hillside', 'restrain', 'blew', 'gland', 'phonologic', 'trades', 'brazil', 'escort', 'mahogany', 'rusk', 'vientiane', \"bull's-eyes\", 'downstairs', 'ills', 'oscar', 'scholastic', 'waged', 'blackened', 'della', 'garrison', 'latch', 'peacefully', 'scratched', 'throws', '75%', 'bleachers', 'consummated', 'eagle', 'geographic', 'irritating', 'micrometeorites', 'plaintiff', 'romantics', 'squared', 'uncompromising', '125', 'altitude', 'billie', 'chilling', 'cunningly', 'droplets', 'ferrell', 'grape', 'idje', 'kernels', 'maximizes', 'occupations', 'plasticity', 'red-haired', 'scouting', 'staffe', 'time-honored', 'vindicated']\n",
            "['<pad>', 'NOUN', 'VERB', '.', 'ADP', 'DET', 'ADJ', 'ADV', 'PRON', 'CONJ', 'PRT', 'NUM', 'X']\n"
          ]
        }
      ]
    },
    {
      "cell_type": "code",
      "source": [
        "print(vars(train_data.examples[9]))"
      ],
      "metadata": {
        "colab": {
          "base_uri": "https://localhost:8080/"
        },
        "id": "4UUMES4tbIch",
        "outputId": "e5521560-d1a5-4685-8c61-40f01576e896"
      },
      "execution_count": null,
      "outputs": [
        {
          "output_type": "stream",
          "name": "stdout",
          "text": [
            "{'words': ['she', 'asked', 'bobbie', '.'], 'tags': ['PRON', 'VERB', 'NOUN', '.']}\n"
          ]
        }
      ]
    },
    {
      "cell_type": "code",
      "source": [
        "length = map(len, [vars(x)['words'] for x in train_data.examples])\n",
        "\n",
        "plt.figure(figsize=[8, 4])\n",
        "plt.title(\"Length distribution in Train data\")\n",
        "plt.hist(list(length), bins=20);"
      ],
      "metadata": {
        "colab": {
          "base_uri": "https://localhost:8080/",
          "height": 400
        },
        "id": "Crab5h19-9kD",
        "outputId": "8c9522a7-a665-4c9e-cac1-78474ba2122a"
      },
      "execution_count": null,
      "outputs": [
        {
          "output_type": "display_data",
          "data": {
            "text/plain": [
              "<Figure size 800x400 with 1 Axes>"
            ],
            "image/png": "[encoded data removed]"
          },
          "metadata": {}
        }
      ]
    },
    {
      "cell_type": "code",
      "source": [
        "BATCH_SIZE = 128\n",
        "\n",
        "train_iterator, valid_iterator, test_iterator = BucketIterator.splits(\n",
        "    (train_data, valid_data, test_data),\n",
        "    batch_size = BATCH_SIZE,\n",
        "    device = device,\n",
        "    sort_key=_len_sort_key\n",
        ")"
      ],
      "metadata": {
        "id": "Jolq-Qj0_EXA"
      },
      "execution_count": null,
      "outputs": []
    },
    {
      "cell_type": "code",
      "source": [
        "# посморим  на количество батчей\n",
        "list(map(len, [train_iterator, valid_iterator, test_iterator]))"
      ],
      "metadata": {
        "colab": {
          "base_uri": "https://localhost:8080/"
        },
        "id": "nounk1XE_NDi",
        "outputId": "61fcc42a-a143-4b86-878b-45cc099dd93c"
      },
      "execution_count": null,
      "outputs": [
        {
          "output_type": "execute_result",
          "data": {
            "text/plain": [
              "[359, 45, 45]"
            ]
          },
          "metadata": {},
          "execution_count": 326
        }
      ]
    },
    {
      "cell_type": "code",
      "source": [
        "INPUT_DIM = len(WORD.vocab) #'''your code'''\n",
        "OUTPUT_DIM = len(TAG.vocab) #'''your code'''\n",
        "EMB_DIM = 300 #'''your code'''\n",
        "HID_DIM = 100 #'''your code'''\n",
        "DROPOUT = 0.1 #'''your code'''\n",
        "BIDIRECTIONAL = True #'''your code'''\n",
        "\n",
        "model = LSTMTagger(INPUT_DIM, EMB_DIM, HID_DIM,\n",
        "                   OUTPUT_DIM ,DROPOUT, BIDIRECTIONAL).to(device)\n",
        "\n",
        "# инициализируем веса\n",
        "def init_weights(m):\n",
        "    for name, param in m.named_parameters():\n",
        "        nn.init.uniform_(param, -0.08, 0.08)\n",
        "\n",
        "model.apply(init_weights)"
      ],
      "metadata": {
        "colab": {
          "base_uri": "https://localhost:8080/"
        },
        "id": "KKBPrP6s_R6n",
        "outputId": "2ee8303c-732a-4f4a-ef26-401fdc6c6fb9"
      },
      "execution_count": null,
      "outputs": [
        {
          "output_type": "execute_result",
          "data": {
            "text/plain": [
              "LSTMTagger(\n",
              "  (embeddings): Embedding(18125, 300, padding_idx=1)\n",
              "  (dropout): Dropout(p=0.1, inplace=False)\n",
              "  (rnn): LSTM(300, 100, bidirectional=True)\n",
              "  (tag): Linear(in_features=200, out_features=13, bias=True)\n",
              ")"
            ]
          },
          "metadata": {},
          "execution_count": 327
        }
      ]
    },
    {
      "cell_type": "code",
      "source": [
        "print(f'The model has {count_parameters(model):,} trainable parameters')"
      ],
      "metadata": {
        "colab": {
          "base_uri": "https://localhost:8080/"
        },
        "id": "7TUKHsHT_bkF",
        "outputId": "22e567d8-80b2-428f-af77-67bebe79d764"
      },
      "execution_count": null,
      "outputs": [
        {
          "output_type": "stream",
          "name": "stdout",
          "text": [
            "The model has 5,761,713 trainable parameters\n"
          ]
        }
      ]
    },
    {
      "cell_type": "code",
      "source": [
        "PAD_IDX = TAG.vocab.stoi['<pad>']\n",
        "optimizer = optim.Adam(model.parameters())\n",
        "criterion = nn.CrossEntropyLoss(ignore_index=PAD_IDX)\n"
      ],
      "metadata": {
        "id": "xk8So_tmephw"
      },
      "execution_count": null,
      "outputs": []
    },
    {
      "cell_type": "code",
      "source": [
        "from tqdm.auto import trange\n",
        "train_history = []\n",
        "valid_history = []\n",
        "\n",
        "N_EPOCHS = 10 #'''your code'''\n",
        "CLIP = 2 #'''your code'''\n",
        "\n",
        "best_valid_loss = float('inf')\n",
        "\n",
        "for epoch in trange(N_EPOCHS):\n",
        "\n",
        "    start_time = time.time()\n",
        "\n",
        "    train_loss = train(model, train_iterator, optimizer, criterion,\n",
        "                       CLIP, train_history, valid_history)\n",
        "    valid_loss = evaluate(model, valid_iterator, criterion)\n",
        "\n",
        "    end_time = time.time()\n",
        "\n",
        "    epoch_mins, epoch_secs = epoch_time(start_time, end_time)\n",
        "\n",
        "    if valid_loss < best_valid_loss:\n",
        "        best_valid_loss = valid_loss\n",
        "        torch.save(model.state_dict(), 'best-val-model.pt')\n",
        "\n",
        "    train_history.append(train_loss)\n",
        "    valid_history.append(valid_loss)\n",
        "    print(f'Epoch: {epoch+1:02} | Time: {epoch_mins}m {epoch_secs}s')\n",
        "    print(f'\\tTrain Loss: {train_loss:.3f} | Train PPL: {math.exp(train_loss):7.3f}')\n",
        "    print(f'\\t Val. Loss: {valid_loss:.3f} |  Val. PPL: {math.exp(valid_loss):7.3f}')"
      ],
      "metadata": {
        "colab": {
          "base_uri": "https://localhost:8080/",
          "height": 784,
          "referenced_widgets": [
            "33831cee086d4ba1968e1eae868bcea5",
            "9a678bfead544da8b3521b085c389a71",
            "49a2ac1295614f61afb24b08d27864f5",
            "92082ca734684ab0977df9e46386ecd0",
            "3c1a6a764fc446968c263c1b45e5c509",
            "88715b3cf8a445b3949d2c06bd06c945",
            "c55c58652c334fad9fce2b4c8ec7813a",
            "975cdaa402f847158ceaa921eeaf47f6",
            "fc187b4a9682442599ac266e916a5e7c",
            "abf4901e2d9c4081ae5a4ef2eda2265f",
            "c328d30b9ae648bc84d6d424e05bbd71"
          ]
        },
        "id": "vSkX54Cn_jZH",
        "outputId": "199fd860-5a71-45b1-ba6d-37342b4fe88c"
      },
      "execution_count": null,
      "outputs": [
        {
          "output_type": "display_data",
          "data": {
            "text/plain": [
              "<Figure size 1200x800 with 2 Axes>"
            ],
            "image/png": "[encoded data removed]"
          },
          "metadata": {}
        },
        {
          "output_type": "stream",
          "name": "stdout",
          "text": [
            "Epoch: 10 | Time: 4m 2s\n",
            "\tTrain Loss: 0.016 | Train PPL:   1.016\n",
            "\t Val. Loss: 0.126 |  Val. PPL:   1.135\n"
          ]
        }
      ]
    },
    {
      "cell_type": "code",
      "source": [
        "print(\"Accuracy:\", accuracy_model(model, test_iterator), '%')"
      ],
      "metadata": {
        "colab": {
          "base_uri": "https://localhost:8080/"
        },
        "id": "SKFagHbG_yfY",
        "outputId": "a83dfda4-de25-4316-c35b-b56731c30d68"
      },
      "execution_count": null,
      "outputs": [
        {
          "output_type": "stream",
          "name": "stdout",
          "text": [
            "Accuracy: 96.915 %\n"
          ]
        }
      ]
    },
    {
      "cell_type": "markdown",
      "metadata": {
        "id": "gnpi2R6rcMeU"
      },
      "source": [
        "Вам неоходимо добиться качества не меньше, чем `accuracy = 93 %`"
      ]
    },
    {
      "cell_type": "code",
      "metadata": {
        "id": "TqD1lZuwxomK",
        "scrolled": true
      },
      "source": [
        "best_model = LSTMTagger(INPUT_DIM, EMB_DIM, HID_DIM, OUTPUT_DIM, DROPOUT, BIDIRECTIONAL).to(device)\n",
        "best_model.load_state_dict(torch.load('best-val-model.pt'))\n",
        "assert accuracy_model(best_model, test_iterator) >= 93"
      ],
      "execution_count": null,
      "outputs": []
    },
    {
      "cell_type": "markdown",
      "metadata": {
        "id": "nVfdJM-lcMeZ"
      },
      "source": [
        "Пример решение нашей задачи:"
      ]
    },
    {
      "cell_type": "code",
      "metadata": {
        "id": "W3GUbwldxomW"
      },
      "source": [
        "def print_tags(model, data):\n",
        "    model.eval()\n",
        "\n",
        "    with torch.no_grad():\n",
        "        words, _ = data\n",
        "        example = torch.LongTensor([WORD.vocab.stoi[elem] for elem in words]).unsqueeze(1).to(device)\n",
        "\n",
        "        output = model(example).argmax(dim=-1).cpu().numpy()\n",
        "        tags = [TAG.vocab.itos[int(elem)] for elem in output]\n",
        "\n",
        "        for token, tag in zip(words, tags):\n",
        "            print(f'{token:15s}{tag}')"
      ],
      "execution_count": null,
      "outputs": []
    },
    {
      "cell_type": "code",
      "metadata": {
        "scrolled": false,
        "id": "4mQoHc_EcMed",
        "colab": {
          "base_uri": "https://localhost:8080/"
        },
        "outputId": "f19ad666-c031-4cea-be98-e8209d85eb8a"
      },
      "source": [
        "print_tags(model, pos_data[-1])"
      ],
      "execution_count": null,
      "outputs": [
        {
          "output_type": "stream",
          "name": "stdout",
          "text": [
            "From           NOUN\n",
            "what           DET\n",
            "I              NOUN\n",
            "was            VERB\n",
            "able           ADJ\n",
            "to             ADP\n",
            "gauge          NOUN\n",
            "in             ADP\n",
            "a              DET\n",
            "swift          ADJ\n",
            ",              .\n",
            "greedy         ADJ\n",
            "glance         NOUN\n",
            ",              .\n",
            "the            DET\n",
            "figure         NOUN\n",
            "inside         ADP\n",
            "the            DET\n",
            "coral-colored  ADJ\n",
            "boucle         NOUN\n",
            "dress          NOUN\n",
            "was            VERB\n",
            "stupefying     VERB\n",
            ".              .\n"
          ]
        }
      ]
    },
    {
      "cell_type": "markdown",
      "metadata": {
        "heading_collapsed": true,
        "id": "zMIJDOBmwC6v"
      },
      "source": [
        "## Сравните результаты моделей HiddenMarkov, LstmTagger:\n",
        "* при обучение на маленькой части корпуса, например, на категории humor\n",
        "* при обучении на всем корпусе"
      ]
    },
    {
      "cell_type": "code",
      "metadata": {
        "id": "uDdsG2AjO-sp",
        "colab": {
          "base_uri": "https://localhost:8080/",
          "height": 53
        },
        "outputId": "94734ae6-415f-4c5c-b112-94e1d2b7c325"
      },
      "source": [
        "'''\n",
        "при обучение на категории humor LstmTagger показала почти такой же результата,\n",
        "однако чуть лучше (89,5% против 88,6%).\n",
        "При обучении на всём корпусе LSTMTagger показал результат 96%,\n",
        "что значительно превосходит предыдущий\n",
        "'''"
      ],
      "execution_count": null,
      "outputs": [
        {
          "output_type": "execute_result",
          "data": {
            "text/plain": [
              "'\\nпри обучение на категории humor LstmTagger показала почти такой же результата, \\nоднако чуть лучше (89,5% против 88,6%). \\nПри обучении на всём корпусе LSTMTagger показал результат 96%, \\nчто значительно превосходит предыдущий\\n'"
            ],
            "application/vnd.google.colaboratory.intrinsic+json": {
              "type": "string"
            }
          },
          "metadata": {},
          "execution_count": 336
        }
      ]
    }
  ]
}